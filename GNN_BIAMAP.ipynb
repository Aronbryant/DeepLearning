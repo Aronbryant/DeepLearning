{
 "cells": [
  {
   "cell_type": "code",
   "execution_count": 1,
   "metadata": {},
   "outputs": [],
   "source": [
    "import networkx as nx\n",
    "import numpy as np\n",
    "import random\n",
    "import torch\n",
    "from sklearn.model_selection import StratifiedKFold\n",
    "\n",
    "class S2VGraph(object):\n",
    "    def __init__(self, g, label, node_tags=None, node_features=None):\n",
    "        '''\n",
    "            g: a networkx graph\n",
    "            label: an integer graph label\n",
    "            node_tags: a list of integer node tags\n",
    "            node_features: a torch float tensor, one-hot representation of the tag that is used as input to neural nets\n",
    "            edge_mat: a torch long tensor, contain edge list, will be used to create torch sparse tensor\n",
    "            neighbors: list of neighbors (without self-loop)\n",
    "        '''\n",
    "        self.label = label\n",
    "        self.g = g\n",
    "        self.node_tags = node_tags\n",
    "        self.neighbors = []\n",
    "        self.node_features = 0\n",
    "        self.edge_mat = 0\n",
    "\n",
    "        self.max_neighbor = 0\n",
    "\n",
    "\n",
    "def load_data(dataset, degree_as_tag):\n",
    "    '''\n",
    "        dataset: name of dataset\n",
    "        test_proportion: ratio of test train split\n",
    "        seed: random seed for random splitting of dataset\n",
    "    '''\n",
    "\n",
    "    print('loading data')\n",
    "    g_list = []\n",
    "    label_dict = {}\n",
    "    feat_dict = {}\n",
    "\n",
    "    with open('dataset/%s/%s.txt' % (dataset, dataset), 'r') as f:\n",
    "        n_g = int(f.readline().strip())\n",
    "        for i in range(n_g):\n",
    "            row = f.readline().strip().split()\n",
    "            n, l = [int(w) for w in row]\n",
    "            if not l in label_dict:\n",
    "                mapped = len(label_dict)\n",
    "                label_dict[l] = mapped\n",
    "            g = nx.Graph()\n",
    "            node_tags = []\n",
    "            node_features = []\n",
    "            n_edges = 0\n",
    "            for j in range(n):\n",
    "                g.add_node(j)\n",
    "                row = f.readline().strip().split()\n",
    "                tmp = int(row[1]) + 2\n",
    "                if tmp == len(row):\n",
    "                    # no node attributes\n",
    "                    row = [int(w) for w in row]\n",
    "                    attr = None\n",
    "                else:\n",
    "                    row, attr = [int(w) for w in row[:tmp]], np.array([float(w) for w in row[tmp:]])\n",
    "                if not row[0] in feat_dict:\n",
    "                    mapped = len(feat_dict)\n",
    "                    feat_dict[row[0]] = mapped\n",
    "                node_tags.append(feat_dict[row[0]])\n",
    "\n",
    "                if tmp > len(row):\n",
    "                    node_features.append(attr)\n",
    "\n",
    "                n_edges += row[1]\n",
    "                for k in range(2, len(row)):\n",
    "                    g.add_edge(j, row[k])\n",
    "\n",
    "            if node_features != []:\n",
    "                node_features = np.stack(node_features)\n",
    "                node_feature_flag = True\n",
    "            else:\n",
    "                node_features = None\n",
    "                node_feature_flag = False\n",
    "\n",
    "            assert len(g) == n\n",
    "\n",
    "            g_list.append(S2VGraph(g, l, node_tags))\n",
    "\n",
    "    #add labels and edge_mat       \n",
    "    for g in g_list:\n",
    "        g.neighbors = [[] for i in range(len(g.g))]\n",
    "        for i, j in g.g.edges():\n",
    "            g.neighbors[i].append(j)\n",
    "            g.neighbors[j].append(i)\n",
    "        degree_list = []\n",
    "        for i in range(len(g.g)):\n",
    "            g.neighbors[i] = g.neighbors[i]\n",
    "            degree_list.append(len(g.neighbors[i]))\n",
    "        g.max_neighbor = max(degree_list)\n",
    "\n",
    "        g.label = label_dict[g.label]\n",
    "\n",
    "        edges = [list(pair) for pair in g.g.edges()]\n",
    "        edges.extend([[i, j] for j, i in edges])\n",
    "\n",
    "        deg_list = list(dict(g.g.degree(range(len(g.g)))).values())\n",
    "        g.edge_mat = torch.LongTensor(edges).transpose(0,1)\n",
    "\n",
    "    if degree_as_tag:\n",
    "        for g in g_list:\n",
    "            g.node_tags = list(dict(g.g.degree).values())\n",
    "\n",
    "    #Extracting unique tag labels   \n",
    "    tagset = set([])\n",
    "    for g in g_list:\n",
    "        tagset = tagset.union(set(g.node_tags))\n",
    "\n",
    "    tagset = list(tagset)\n",
    "    tag2index = {tagset[i]:i for i in range(len(tagset))}\n",
    "\n",
    "    for g in g_list:\n",
    "        g.node_features = torch.zeros(len(g.node_tags), len(tagset))\n",
    "        g.node_features[range(len(g.node_tags)), [tag2index[tag] for tag in g.node_tags]] = 1\n",
    "\n",
    "\n",
    "    print('# classes: %d' % len(label_dict))\n",
    "    print('# maximum node tag: %d' % len(tagset))\n",
    "\n",
    "    print(\"# data: %d\" % len(g_list))\n",
    "\n",
    "    return g_list, len(label_dict)\n",
    "\n",
    "def separate_data(graph_list, seed, fold_idx):\n",
    "    assert 0 <= fold_idx and fold_idx < 10, \"fold_idx must be from 0 to 9.\"\n",
    "    skf = StratifiedKFold(n_splits=10, shuffle = True, random_state = seed)\n",
    "\n",
    "    labels = [graph.label for graph in graph_list]\n",
    "    idx_list = []\n",
    "    for idx in skf.split(np.zeros(len(labels)), labels):\n",
    "        idx_list.append(idx)\n",
    "    train_idx, test_idx = idx_list[fold_idx]\n",
    "\n",
    "    train_graph_list = [graph_list[i] for i in train_idx]\n",
    "    test_graph_list = [graph_list[i] for i in test_idx]\n",
    "\n",
    "    return train_graph_list, test_graph_list"
   ]
  },
  {
   "cell_type": "code",
   "execution_count": 2,
   "metadata": {},
   "outputs": [],
   "source": [
    "import torch\n",
    "import torch.nn as nn\n",
    "import torch.nn.functional as F\n",
    "\n",
    "###MLP with lienar output\n",
    "class MLP(nn.Module):\n",
    "    def __init__(self, num_layers, input_dim, hidden_dim, output_dim):\n",
    "        '''\n",
    "            num_layers: number of layers in the neural networks (EXCLUDING the input layer). If num_layers=1, this reduces to linear model.\n",
    "            input_dim: dimensionality of input features\n",
    "            hidden_dim: dimensionality of hidden units at ALL layers\n",
    "            output_dim: number of classes for prediction\n",
    "            device: which device to use\n",
    "        '''\n",
    "    \n",
    "        super(MLP, self).__init__()\n",
    "\n",
    "        self.linear_or_not = True #default is linear model\n",
    "        self.num_layers = num_layers\n",
    "\n",
    "        if num_layers < 1:\n",
    "            raise ValueError(\"number of layers should be positive!\")\n",
    "        elif num_layers == 1:\n",
    "            #Linear model\n",
    "            self.linear = nn.Linear(input_dim, output_dim)\n",
    "        else:\n",
    "            #Multi-layer model\n",
    "            self.linear_or_not = False\n",
    "            self.linears = torch.nn.ModuleList()\n",
    "            self.batch_norms = torch.nn.ModuleList()\n",
    "        \n",
    "            self.linears.append(nn.Linear(input_dim, hidden_dim))\n",
    "            for layer in range(num_layers - 2):\n",
    "                self.linears.append(nn.Linear(hidden_dim, hidden_dim))\n",
    "            self.linears.append(nn.Linear(hidden_dim, output_dim))\n",
    "\n",
    "            for layer in range(num_layers - 1):\n",
    "                self.batch_norms.append(nn.BatchNorm1d((hidden_dim)))\n",
    "\n",
    "    def forward(self, x):\n",
    "        if self.linear_or_not:\n",
    "            #If linear model\n",
    "            return self.linear(x)\n",
    "        else:\n",
    "            #If MLP\n",
    "            h = x\n",
    "            for layer in range(self.num_layers - 1):\n",
    "                h = F.relu(self.batch_norms[layer](self.linears[layer](h)))\n",
    "            return self.linears[self.num_layers - 1](h)"
   ]
  },
  {
   "cell_type": "code",
   "execution_count": 4,
   "metadata": {},
   "outputs": [],
   "source": [
    "import torch\n",
    "import torch.nn as nn\n",
    "import torch.nn.functional as F\n",
    "\n",
    "\n",
    "\n",
    "from torch.autograd import Variable\n",
    "import pdb\n",
    "\n",
    "class GraphCNN(nn.Module):\n",
    "    def __init__(self, num_layers, num_mlp_layers, input_dim, hidden_dim, output_dim, final_dropout, learn_eps, graph_pooling_type, neighbor_pooling_type, device):\n",
    "        '''\n",
    "            num_layers: number of layers in the neural networks (INCLUDING the input layer)\n",
    "            num_mlp_layers: number of layers in mlps (EXCLUDING the input layer)\n",
    "            input_dim: dimensionality of input features\n",
    "            hidden_dim: dimensionality of hidden units at ALL layers\n",
    "            output_dim: number of classes for prediction\n",
    "            final_dropout: dropout ratio on the final linear layer\n",
    "            learn_eps: If True, learn epsilon to distinguish center nodes from neighboring nodes. If False, aggregate neighbors and center nodes altogether. \n",
    "            neighbor_pooling_type: how to aggregate neighbors (mean, average, or max)\n",
    "            graph_pooling_type: how to aggregate entire nodes in a graph (mean, average)\n",
    "            device: which device to use\n",
    "        '''\n",
    "\n",
    "        super(GraphCNN, self).__init__()\n",
    "\n",
    "        self.final_dropout = final_dropout\n",
    "        self.device = device\n",
    "        self.num_layers = num_layers\n",
    "        self.graph_pooling_type = graph_pooling_type\n",
    "        self.neighbor_pooling_type = neighbor_pooling_type\n",
    "        self.learn_eps = learn_eps\n",
    "        self.eps = nn.Parameter(torch.zeros(self.num_layers-1))\n",
    "\n",
    "        ###List of MLPs\n",
    "        self.mlps = torch.nn.ModuleList()\n",
    "\n",
    "        ###List of batchnorms applied to the output of MLP (input of the final prediction linear layer)\n",
    "        self.batch_norms = torch.nn.ModuleList()\n",
    "\n",
    "        for layer in range(self.num_layers-1):\n",
    "            if layer == 0:\n",
    "                self.mlps.append(MLP(num_mlp_layers, input_dim, hidden_dim, hidden_dim))\n",
    "            else:\n",
    "                self.mlps.append(MLP(num_mlp_layers, hidden_dim, hidden_dim, hidden_dim))\n",
    "\n",
    "            self.batch_norms.append(nn.BatchNorm1d(hidden_dim))\n",
    "\n",
    "        # for bilinear mapping second-order pooling\n",
    "        self.total_latent_dim = input_dim + hidden_dim * (num_layers - 1)\n",
    "        self.inter_dim = 32\n",
    "        self.dense_dim = self.inter_dim * self.inter_dim\n",
    "        self.BiMap = nn.Linear(self.total_latent_dim, self.inter_dim, bias=False)\n",
    "        self.linear1 = nn.Linear(self.dense_dim, output_dim)\n",
    "\n",
    "\n",
    "    def __preprocess_neighbors_maxpool(self, batch_graph):\n",
    "        ###create padded_neighbor_list in concatenated graph\n",
    "\n",
    "        #compute the maximum number of neighbors within the graphs in the current minibatch\n",
    "        max_deg = max([graph.max_neighbor for graph in batch_graph])\n",
    "\n",
    "        padded_neighbor_list = []\n",
    "        start_idx = [0]\n",
    "\n",
    "\n",
    "        for i, graph in enumerate(batch_graph):\n",
    "            start_idx.append(start_idx[i] + len(graph.g))\n",
    "            padded_neighbors = []\n",
    "            for j in range(len(graph.neighbors)):\n",
    "                #add off-set values to the neighbor indices\n",
    "                pad = [n + start_idx[i] for n in graph.neighbors[j]]\n",
    "                #padding, dummy data is assumed to be stored in -1\n",
    "                pad.extend([-1]*(max_deg - len(pad)))\n",
    "\n",
    "                #Add center nodes in the maxpooling if learn_eps is False, i.e., aggregate center nodes and neighbor nodes altogether.\n",
    "                if not self.learn_eps:\n",
    "                    pad.append(j + start_idx[i])\n",
    "\n",
    "                padded_neighbors.append(pad)\n",
    "            padded_neighbor_list.extend(padded_neighbors)\n",
    "\n",
    "        return torch.LongTensor(padded_neighbor_list)\n",
    "\n",
    "\n",
    "    def __preprocess_neighbors_sumavepool(self, batch_graph):\n",
    "        ###create block diagonal sparse matrix\n",
    "\n",
    "        edge_mat_list = []\n",
    "        start_idx = [0]\n",
    "        for i, graph in enumerate(batch_graph):\n",
    "            start_idx.append(start_idx[i] + len(graph.g))\n",
    "            edge_mat_list.append(graph.edge_mat + start_idx[i])\n",
    "        Adj_block_idx = torch.cat(edge_mat_list, 1)\n",
    "        Adj_block_elem = torch.ones(Adj_block_idx.shape[1])\n",
    "\n",
    "        #Add self-loops in the adjacency matrix if learn_eps is False, i.e., aggregate center nodes and neighbor nodes altogether.\n",
    "\n",
    "        if not self.learn_eps:\n",
    "            num_node = start_idx[-1]\n",
    "            self_loop_edge = torch.LongTensor([range(num_node), range(num_node)])\n",
    "            elem = torch.ones(num_node)\n",
    "            Adj_block_idx = torch.cat([Adj_block_idx, self_loop_edge], 1)\n",
    "            Adj_block_elem = torch.cat([Adj_block_elem, elem], 0)\n",
    "\n",
    "        Adj_block = torch.sparse.FloatTensor(Adj_block_idx, Adj_block_elem, torch.Size([start_idx[-1],start_idx[-1]]))\n",
    "\n",
    "        return Adj_block.to(self.device)\n",
    "\n",
    "\n",
    "    def __preprocess_graphpool(self, batch_graph):\n",
    "        ###create sum or average pooling sparse matrix over entire nodes in each graph (num graphs x num nodes)\n",
    "        \n",
    "        start_idx = [0]\n",
    "\n",
    "        #compute the padded neighbor list\n",
    "        for i, graph in enumerate(batch_graph):\n",
    "            start_idx.append(start_idx[i] + len(graph.g))\n",
    "\n",
    "        idx = []\n",
    "        elem = []\n",
    "        for i, graph in enumerate(batch_graph):\n",
    "            ###average pooling\n",
    "            if self.graph_pooling_type == \"average\":\n",
    "                elem.extend([1./len(graph.g)]*len(graph.g))\n",
    "            \n",
    "            else:\n",
    "            ###sum pooling\n",
    "                elem.extend([1]*len(graph.g))\n",
    "\n",
    "            idx.extend([[i, j] for j in range(start_idx[i], start_idx[i+1], 1)])\n",
    "        elem = torch.FloatTensor(elem)\n",
    "        idx = torch.LongTensor(idx).transpose(0,1)\n",
    "        graph_pool = torch.sparse.FloatTensor(idx, elem, torch.Size([len(batch_graph), start_idx[-1]]))\n",
    "        \n",
    "        return graph_pool.to(self.device)\n",
    "\n",
    "    def maxpool(self, h, padded_neighbor_list):\n",
    "        ###Element-wise minimum will never affect max-pooling\n",
    "\n",
    "        dummy = torch.min(h, dim = 0)[0]\n",
    "        h_with_dummy = torch.cat([h, dummy.reshape((1, -1)).to(self.device)])\n",
    "        pooled_rep = torch.max(h_with_dummy[padded_neighbor_list], dim = 1)[0]\n",
    "        return pooled_rep\n",
    "\n",
    "\n",
    "    def next_layer_eps(self, h, layer, padded_neighbor_list = None, Adj_block = None):\n",
    "        ###pooling neighboring nodes and center nodes separately by epsilon reweighting. \n",
    "\n",
    "        if self.neighbor_pooling_type == \"max\":\n",
    "            ##If max pooling\n",
    "            pooled = self.maxpool(h, padded_neighbor_list)\n",
    "        else:\n",
    "            #If sum or average pooling\n",
    "            pooled = torch.spmm(Adj_block, h)\n",
    "            if self.neighbor_pooling_type == \"average\":\n",
    "                #If average pooling\n",
    "                degree = torch.spmm(Adj_block, torch.ones((Adj_block.shape[0], 1)).to(self.device))\n",
    "                pooled = pooled/degree\n",
    "\n",
    "        #Reweights the center node representation when aggregating it with its neighbors\n",
    "        pooled = pooled + (1 + self.eps[layer])*h\n",
    "        pooled_rep = self.mlps[layer](pooled)\n",
    "        h = self.batch_norms[layer](pooled_rep)\n",
    "\n",
    "        #non-linearity\n",
    "        h = F.relu(h)\n",
    "        return h\n",
    "\n",
    "\n",
    "    def next_layer(self, h, layer, padded_neighbor_list = None, Adj_block = None):\n",
    "        ###pooling neighboring nodes and center nodes altogether  \n",
    "            \n",
    "        if self.neighbor_pooling_type == \"max\":\n",
    "            ##If max pooling\n",
    "            pooled = self.maxpool(h, padded_neighbor_list)\n",
    "        else:\n",
    "            #If sum or average pooling\n",
    "            pooled = torch.spmm(Adj_block, h)\n",
    "            if self.neighbor_pooling_type == \"average\":\n",
    "                #If average pooling\n",
    "                degree = torch.spmm(Adj_block, torch.ones((Adj_block.shape[0], 1)).to(self.device))\n",
    "                pooled = pooled/degree\n",
    "\n",
    "        #representation of neighboring and center nodes \n",
    "        pooled_rep = self.mlps[layer](pooled)\n",
    "\n",
    "        h = self.batch_norms[layer](pooled_rep)\n",
    "\n",
    "        #non-linearity\n",
    "        h = F.relu(h)\n",
    "        return h\n",
    "\n",
    "\n",
    "    def forward(self, batch_graph):\n",
    "        X_concat = torch.cat([graph.node_features for graph in batch_graph], 0).to(self.device)\n",
    "\n",
    "        # graph_pool = self.__preprocess_graphpool(batch_graph)\n",
    "\n",
    "        if self.neighbor_pooling_type == \"max\":\n",
    "            padded_neighbor_list = self.__preprocess_neighbors_maxpool(batch_graph)\n",
    "        else:\n",
    "            Adj_block = self.__preprocess_neighbors_sumavepool(batch_graph)\n",
    "\n",
    "        #list of hidden representation at each layer (including input)\n",
    "        hidden_rep = [X_concat]\n",
    "        h = X_concat\n",
    "\n",
    "        for layer in range(self.num_layers-1):\n",
    "            if self.neighbor_pooling_type == \"max\" and self.learn_eps:\n",
    "                h = self.next_layer_eps(h, layer, padded_neighbor_list = padded_neighbor_list)\n",
    "            elif not self.neighbor_pooling_type == \"max\" and self.learn_eps:\n",
    "                h = self.next_layer_eps(h, layer, Adj_block = Adj_block)\n",
    "            elif self.neighbor_pooling_type == \"max\" and not self.learn_eps:\n",
    "                h = self.next_layer(h, layer, padded_neighbor_list = padded_neighbor_list)\n",
    "            elif not self.neighbor_pooling_type == \"max\" and not self.learn_eps:\n",
    "                h = self.next_layer(h, layer, Adj_block = Adj_block)\n",
    "\n",
    "            hidden_rep.append(h)\n",
    "\n",
    "        hidden_rep = torch.cat(hidden_rep, 1)\n",
    "\n",
    "        graph_sizes = [graph.node_features.size()[0] for graph in batch_graph]\n",
    "\n",
    "        batch_graphs = torch.zeros(len(graph_sizes), self.dense_dim).to(self.device)\n",
    "        batch_graphs = Variable(batch_graphs)\n",
    "\n",
    "        node_embeddings = torch.split(hidden_rep, graph_sizes, dim=0)\n",
    "\n",
    "        for g_i in range(len(graph_sizes)):\n",
    "            cur_node_embeddings = node_embeddings[g_i]\n",
    "            cur_node_embeddings = self.BiMap(cur_node_embeddings)\n",
    "            cur_graph_embeddings = torch.matmul(cur_node_embeddings.t(), cur_node_embeddings)\n",
    "            batch_graphs[g_i] = cur_graph_embeddings.view(self.dense_dim)\n",
    "\n",
    "        score = F.dropout(self.linear1(batch_graphs), self.final_dropout, training=self.training)\n",
    "\n",
    "        return score"
   ]
  },
  {
   "cell_type": "code",
   "execution_count": 7,
   "metadata": {},
   "outputs": [
    {
     "name": "stdout",
     "output_type": "stream",
     "text": [
      "loading data\n"
     ]
    },
    {
     "name": "stderr",
     "output_type": "stream",
     "text": [
      "C:\\Users\\aron\\anaconda3\\lib\\site-packages\\torch\\optim\\lr_scheduler.py:129: UserWarning: Detected call of `lr_scheduler.step()` before `optimizer.step()`. In PyTorch 1.1.0 and later, you should call them in the opposite order: `optimizer.step()` before `lr_scheduler.step()`.  Failure to do this will result in PyTorch skipping the first value of the learning rate schedule. See more details at https://pytorch.org/docs/stable/optim.html#how-to-adjust-learning-rate\n",
      "  warnings.warn(\"Detected call of `lr_scheduler.step()` before `optimizer.step()`. \"\n",
      "epoch: 1:   2%|█▍                                                                    | 1/50 [00:00<00:05,  8.50batch/s]"
     ]
    },
    {
     "name": "stdout",
     "output_type": "stream",
     "text": [
      "# classes: 3\n",
      "# maximum node tag: 1\n",
      "# data: 5000\n"
     ]
    },
    {
     "name": "stderr",
     "output_type": "stream",
     "text": [
      "epoch: 1: 100%|█████████████████████████████████████████████████████████████████████| 50/50 [00:04<00:00, 11.53batch/s]\n"
     ]
    },
    {
     "name": "stdout",
     "output_type": "stream",
     "text": [
      "loss training: 86.655930\n"
     ]
    },
    {
     "name": "stderr",
     "output_type": "stream",
     "text": [
      "epoch: 2:   4%|██▊                                                                   | 2/50 [00:00<00:03, 14.12batch/s]"
     ]
    },
    {
     "name": "stdout",
     "output_type": "stream",
     "text": [
      "accuracy train: 0.618444 test: 0.614000\n",
      "\n",
      "Parameter containing:\n",
      "tensor([0., 0., 0., 0.], requires_grad=True)\n"
     ]
    },
    {
     "name": "stderr",
     "output_type": "stream",
     "text": [
      "epoch: 2: 100%|█████████████████████████████████████████████████████████████████████| 50/50 [00:03<00:00, 13.24batch/s]\n"
     ]
    },
    {
     "name": "stdout",
     "output_type": "stream",
     "text": [
      "loss training: 50.067036\n"
     ]
    },
    {
     "name": "stderr",
     "output_type": "stream",
     "text": [
      "epoch: 3:   4%|██▊                                                                   | 2/50 [00:00<00:03, 15.31batch/s]"
     ]
    },
    {
     "name": "stdout",
     "output_type": "stream",
     "text": [
      "accuracy train: 0.658000 test: 0.648000\n",
      "\n",
      "Parameter containing:\n",
      "tensor([0., 0., 0., 0.], requires_grad=True)\n"
     ]
    },
    {
     "name": "stderr",
     "output_type": "stream",
     "text": [
      "epoch: 3: 100%|█████████████████████████████████████████████████████████████████████| 50/50 [00:04<00:00, 12.09batch/s]\n"
     ]
    },
    {
     "name": "stdout",
     "output_type": "stream",
     "text": [
      "loss training: 65.579020\n"
     ]
    },
    {
     "name": "stderr",
     "output_type": "stream",
     "text": [
      "epoch: 4:   2%|█▍                                                                    | 1/50 [00:00<00:04,  9.93batch/s]"
     ]
    },
    {
     "name": "stdout",
     "output_type": "stream",
     "text": [
      "accuracy train: 0.638889 test: 0.626000\n",
      "\n",
      "Parameter containing:\n",
      "tensor([0., 0., 0., 0.], requires_grad=True)\n"
     ]
    },
    {
     "name": "stderr",
     "output_type": "stream",
     "text": [
      "epoch: 4: 100%|█████████████████████████████████████████████████████████████████████| 50/50 [00:04<00:00, 11.84batch/s]\n"
     ]
    },
    {
     "name": "stdout",
     "output_type": "stream",
     "text": [
      "loss training: 8.681207\n"
     ]
    },
    {
     "name": "stderr",
     "output_type": "stream",
     "text": [
      "epoch: 5:   0%|                                                                              | 0/50 [00:00<?, ?batch/s]"
     ]
    },
    {
     "name": "stdout",
     "output_type": "stream",
     "text": [
      "accuracy train: 0.675778 test: 0.676000\n",
      "\n",
      "Parameter containing:\n",
      "tensor([0., 0., 0., 0.], requires_grad=True)\n"
     ]
    },
    {
     "name": "stderr",
     "output_type": "stream",
     "text": [
      "epoch: 5: 100%|█████████████████████████████████████████████████████████████████████| 50/50 [00:04<00:00, 12.45batch/s]\n"
     ]
    },
    {
     "name": "stdout",
     "output_type": "stream",
     "text": [
      "loss training: 3421.826274\n"
     ]
    },
    {
     "name": "stderr",
     "output_type": "stream",
     "text": [
      "epoch: 6:   4%|██▊                                                                   | 2/50 [00:00<00:03, 14.02batch/s]"
     ]
    },
    {
     "name": "stdout",
     "output_type": "stream",
     "text": [
      "accuracy train: 0.274667 test: 0.256000\n",
      "\n",
      "Parameter containing:\n",
      "tensor([0., 0., 0., 0.], requires_grad=True)\n"
     ]
    },
    {
     "name": "stderr",
     "output_type": "stream",
     "text": [
      "epoch: 6: 100%|█████████████████████████████████████████████████████████████████████| 50/50 [00:03<00:00, 12.70batch/s]\n"
     ]
    },
    {
     "name": "stdout",
     "output_type": "stream",
     "text": [
      "loss training: 158.412348\n"
     ]
    },
    {
     "name": "stderr",
     "output_type": "stream",
     "text": [
      "epoch: 7:   4%|██▊                                                                   | 2/50 [00:00<00:03, 14.43batch/s]"
     ]
    },
    {
     "name": "stdout",
     "output_type": "stream",
     "text": [
      "accuracy train: 0.608444 test: 0.612000\n",
      "\n",
      "Parameter containing:\n",
      "tensor([0., 0., 0., 0.], requires_grad=True)\n"
     ]
    },
    {
     "name": "stderr",
     "output_type": "stream",
     "text": [
      "epoch: 7: 100%|█████████████████████████████████████████████████████████████████████| 50/50 [00:03<00:00, 13.59batch/s]\n"
     ]
    },
    {
     "name": "stdout",
     "output_type": "stream",
     "text": [
      "loss training: 3206.460963\n"
     ]
    },
    {
     "name": "stderr",
     "output_type": "stream",
     "text": [
      "epoch: 8:   2%|█▍                                                                    | 1/50 [00:00<00:06,  7.77batch/s]"
     ]
    },
    {
     "name": "stdout",
     "output_type": "stream",
     "text": [
      "accuracy train: 0.599333 test: 0.580000\n",
      "\n",
      "Parameter containing:\n",
      "tensor([0., 0., 0., 0.], requires_grad=True)\n"
     ]
    },
    {
     "name": "stderr",
     "output_type": "stream",
     "text": [
      "epoch: 8: 100%|█████████████████████████████████████████████████████████████████████| 50/50 [00:03<00:00, 13.10batch/s]\n"
     ]
    },
    {
     "name": "stdout",
     "output_type": "stream",
     "text": [
      "loss training: 106.090337\n"
     ]
    },
    {
     "name": "stderr",
     "output_type": "stream",
     "text": [
      "epoch: 9:   4%|██▊                                                                   | 2/50 [00:00<00:03, 14.43batch/s]"
     ]
    },
    {
     "name": "stdout",
     "output_type": "stream",
     "text": [
      "accuracy train: 0.348000 test: 0.356000\n",
      "\n",
      "Parameter containing:\n",
      "tensor([0., 0., 0., 0.], requires_grad=True)\n"
     ]
    },
    {
     "name": "stderr",
     "output_type": "stream",
     "text": [
      "epoch: 9: 100%|█████████████████████████████████████████████████████████████████████| 50/50 [00:03<00:00, 12.77batch/s]\n"
     ]
    },
    {
     "name": "stdout",
     "output_type": "stream",
     "text": [
      "loss training: 175.111504\n"
     ]
    },
    {
     "name": "stderr",
     "output_type": "stream",
     "text": [
      "epoch: 10:   4%|██▊                                                                  | 2/50 [00:00<00:03, 14.53batch/s]"
     ]
    },
    {
     "name": "stdout",
     "output_type": "stream",
     "text": [
      "accuracy train: 0.330222 test: 0.354000\n",
      "\n",
      "Parameter containing:\n",
      "tensor([0., 0., 0., 0.], requires_grad=True)\n"
     ]
    },
    {
     "name": "stderr",
     "output_type": "stream",
     "text": [
      "epoch: 10: 100%|████████████████████████████████████████████████████████████████████| 50/50 [00:03<00:00, 13.28batch/s]\n"
     ]
    },
    {
     "name": "stdout",
     "output_type": "stream",
     "text": [
      "loss training: 332.816047\n"
     ]
    },
    {
     "name": "stderr",
     "output_type": "stream",
     "text": [
      "epoch: 11:   4%|██▊                                                                  | 2/50 [00:00<00:03, 13.19batch/s]"
     ]
    },
    {
     "name": "stdout",
     "output_type": "stream",
     "text": [
      "accuracy train: 0.325111 test: 0.324000\n",
      "\n",
      "Parameter containing:\n",
      "tensor([0., 0., 0., 0.], requires_grad=True)\n"
     ]
    },
    {
     "name": "stderr",
     "output_type": "stream",
     "text": [
      "epoch: 11: 100%|████████████████████████████████████████████████████████████████████| 50/50 [00:03<00:00, 12.98batch/s]\n"
     ]
    },
    {
     "name": "stdout",
     "output_type": "stream",
     "text": [
      "loss training: 49.295373\n"
     ]
    },
    {
     "name": "stderr",
     "output_type": "stream",
     "text": [
      "epoch: 12:   4%|██▊                                                                  | 2/50 [00:00<00:03, 13.83batch/s]"
     ]
    },
    {
     "name": "stdout",
     "output_type": "stream",
     "text": [
      "accuracy train: 0.486444 test: 0.486000\n",
      "\n",
      "Parameter containing:\n",
      "tensor([0., 0., 0., 0.], requires_grad=True)\n"
     ]
    },
    {
     "name": "stderr",
     "output_type": "stream",
     "text": [
      "epoch: 12: 100%|████████████████████████████████████████████████████████████████████| 50/50 [00:03<00:00, 13.11batch/s]\n"
     ]
    },
    {
     "name": "stdout",
     "output_type": "stream",
     "text": [
      "loss training: 9.941575\n"
     ]
    },
    {
     "name": "stderr",
     "output_type": "stream",
     "text": [
      "epoch: 13:   4%|██▊                                                                  | 2/50 [00:00<00:03, 12.01batch/s]"
     ]
    },
    {
     "name": "stdout",
     "output_type": "stream",
     "text": [
      "accuracy train: 0.325111 test: 0.320000\n",
      "\n",
      "Parameter containing:\n",
      "tensor([0., 0., 0., 0.], requires_grad=True)\n"
     ]
    },
    {
     "name": "stderr",
     "output_type": "stream",
     "text": [
      "epoch: 13: 100%|████████████████████████████████████████████████████████████████████| 50/50 [00:03<00:00, 13.40batch/s]\n"
     ]
    },
    {
     "name": "stdout",
     "output_type": "stream",
     "text": [
      "loss training: 25.831346\n"
     ]
    },
    {
     "name": "stderr",
     "output_type": "stream",
     "text": [
      "epoch: 14:   4%|██▊                                                                  | 2/50 [00:00<00:04, 11.46batch/s]"
     ]
    },
    {
     "name": "stdout",
     "output_type": "stream",
     "text": [
      "accuracy train: 0.619111 test: 0.588000\n",
      "\n",
      "Parameter containing:\n",
      "tensor([0., 0., 0., 0.], requires_grad=True)\n"
     ]
    },
    {
     "name": "stderr",
     "output_type": "stream",
     "text": [
      "epoch: 14: 100%|████████████████████████████████████████████████████████████████████| 50/50 [00:04<00:00, 12.20batch/s]\n"
     ]
    },
    {
     "name": "stdout",
     "output_type": "stream",
     "text": [
      "loss training: 8.355386\n"
     ]
    },
    {
     "name": "stderr",
     "output_type": "stream",
     "text": [
      "epoch: 15:   4%|██▊                                                                  | 2/50 [00:00<00:03, 13.83batch/s]"
     ]
    },
    {
     "name": "stdout",
     "output_type": "stream",
     "text": [
      "accuracy train: 0.581556 test: 0.540000\n",
      "\n",
      "Parameter containing:\n",
      "tensor([0., 0., 0., 0.], requires_grad=True)\n"
     ]
    },
    {
     "name": "stderr",
     "output_type": "stream",
     "text": [
      "epoch: 15: 100%|████████████████████████████████████████████████████████████████████| 50/50 [00:03<00:00, 13.44batch/s]\n"
     ]
    },
    {
     "name": "stdout",
     "output_type": "stream",
     "text": [
      "loss training: 37.032044\n"
     ]
    },
    {
     "name": "stderr",
     "output_type": "stream",
     "text": [
      "epoch: 16:   4%|██▊                                                                  | 2/50 [00:00<00:04, 11.94batch/s]"
     ]
    },
    {
     "name": "stdout",
     "output_type": "stream",
     "text": [
      "accuracy train: 0.380222 test: 0.382000\n",
      "\n",
      "Parameter containing:\n",
      "tensor([0., 0., 0., 0.], requires_grad=True)\n"
     ]
    },
    {
     "name": "stderr",
     "output_type": "stream",
     "text": [
      "epoch: 16: 100%|████████████████████████████████████████████████████████████████████| 50/50 [00:04<00:00, 12.46batch/s]\n"
     ]
    },
    {
     "name": "stdout",
     "output_type": "stream",
     "text": [
      "loss training: 6.044079\n"
     ]
    },
    {
     "name": "stderr",
     "output_type": "stream",
     "text": [
      "epoch: 17:   4%|██▊                                                                  | 2/50 [00:00<00:03, 15.42batch/s]"
     ]
    },
    {
     "name": "stdout",
     "output_type": "stream",
     "text": [
      "accuracy train: 0.422000 test: 0.426000\n",
      "\n",
      "Parameter containing:\n",
      "tensor([0., 0., 0., 0.], requires_grad=True)\n"
     ]
    },
    {
     "name": "stderr",
     "output_type": "stream",
     "text": [
      "epoch: 17: 100%|████████████████████████████████████████████████████████████████████| 50/50 [00:03<00:00, 12.62batch/s]\n"
     ]
    },
    {
     "name": "stdout",
     "output_type": "stream",
     "text": [
      "loss training: 2.629629\n"
     ]
    },
    {
     "name": "stderr",
     "output_type": "stream",
     "text": [
      "epoch: 18:   4%|██▊                                                                  | 2/50 [00:00<00:02, 17.44batch/s]"
     ]
    },
    {
     "name": "stdout",
     "output_type": "stream",
     "text": [
      "accuracy train: 0.585333 test: 0.562000\n",
      "\n",
      "Parameter containing:\n",
      "tensor([0., 0., 0., 0.], requires_grad=True)\n"
     ]
    },
    {
     "name": "stderr",
     "output_type": "stream",
     "text": [
      "epoch: 18: 100%|████████████████████████████████████████████████████████████████████| 50/50 [00:04<00:00, 10.63batch/s]\n"
     ]
    },
    {
     "name": "stdout",
     "output_type": "stream",
     "text": [
      "loss training: 23.915619\n"
     ]
    },
    {
     "name": "stderr",
     "output_type": "stream",
     "text": [
      "epoch: 19:   4%|██▊                                                                  | 2/50 [00:00<00:03, 13.02batch/s]"
     ]
    },
    {
     "name": "stdout",
     "output_type": "stream",
     "text": [
      "accuracy train: 0.325111 test: 0.324000\n",
      "\n",
      "Parameter containing:\n",
      "tensor([0., 0., 0., 0.], requires_grad=True)\n"
     ]
    },
    {
     "name": "stderr",
     "output_type": "stream",
     "text": [
      "epoch: 19: 100%|████████████████████████████████████████████████████████████████████| 50/50 [00:04<00:00, 11.43batch/s]\n"
     ]
    },
    {
     "name": "stdout",
     "output_type": "stream",
     "text": [
      "loss training: 24.785433\n"
     ]
    },
    {
     "name": "stderr",
     "output_type": "stream",
     "text": [
      "epoch: 20:   4%|██▊                                                                  | 2/50 [00:00<00:03, 15.43batch/s]"
     ]
    },
    {
     "name": "stdout",
     "output_type": "stream",
     "text": [
      "accuracy train: 0.688667 test: 0.688000\n",
      "\n",
      "Parameter containing:\n",
      "tensor([0., 0., 0., 0.], requires_grad=True)\n"
     ]
    },
    {
     "name": "stderr",
     "output_type": "stream",
     "text": [
      "epoch: 20: 100%|████████████████████████████████████████████████████████████████████| 50/50 [00:03<00:00, 13.35batch/s]\n"
     ]
    },
    {
     "name": "stdout",
     "output_type": "stream",
     "text": [
      "loss training: 322.417486\n"
     ]
    },
    {
     "name": "stderr",
     "output_type": "stream",
     "text": [
      "epoch: 21:   4%|██▊                                                                  | 2/50 [00:00<00:03, 15.48batch/s]"
     ]
    },
    {
     "name": "stdout",
     "output_type": "stream",
     "text": [
      "accuracy train: 0.550000 test: 0.546000\n",
      "\n",
      "Parameter containing:\n",
      "tensor([0., 0., 0., 0.], requires_grad=True)\n"
     ]
    },
    {
     "name": "stderr",
     "output_type": "stream",
     "text": [
      "epoch: 21: 100%|████████████████████████████████████████████████████████████████████| 50/50 [00:04<00:00, 12.44batch/s]\n"
     ]
    },
    {
     "name": "stdout",
     "output_type": "stream",
     "text": [
      "loss training: 38.995144\n"
     ]
    },
    {
     "name": "stderr",
     "output_type": "stream",
     "text": [
      "epoch: 22:   4%|██▊                                                                  | 2/50 [00:00<00:03, 15.92batch/s]"
     ]
    },
    {
     "name": "stdout",
     "output_type": "stream",
     "text": [
      "accuracy train: 0.618667 test: 0.590000\n",
      "\n",
      "Parameter containing:\n",
      "tensor([0., 0., 0., 0.], requires_grad=True)\n"
     ]
    },
    {
     "name": "stderr",
     "output_type": "stream",
     "text": [
      "epoch: 22: 100%|████████████████████████████████████████████████████████████████████| 50/50 [00:04<00:00, 10.94batch/s]\n"
     ]
    },
    {
     "name": "stdout",
     "output_type": "stream",
     "text": [
      "loss training: 2.528834\n"
     ]
    },
    {
     "name": "stderr",
     "output_type": "stream",
     "text": [
      "epoch: 23:   2%|█▍                                                                   | 1/50 [00:00<00:05,  8.64batch/s]"
     ]
    },
    {
     "name": "stdout",
     "output_type": "stream",
     "text": [
      "accuracy train: 0.605111 test: 0.574000\n",
      "\n",
      "Parameter containing:\n",
      "tensor([0., 0., 0., 0.], requires_grad=True)\n"
     ]
    },
    {
     "name": "stderr",
     "output_type": "stream",
     "text": [
      "epoch: 23: 100%|████████████████████████████████████████████████████████████████████| 50/50 [00:04<00:00, 11.34batch/s]\n"
     ]
    },
    {
     "name": "stdout",
     "output_type": "stream",
     "text": [
      "loss training: 20.556450\n"
     ]
    },
    {
     "name": "stderr",
     "output_type": "stream",
     "text": [
      "epoch: 24:   4%|██▊                                                                  | 2/50 [00:00<00:03, 14.64batch/s]"
     ]
    },
    {
     "name": "stdout",
     "output_type": "stream",
     "text": [
      "accuracy train: 0.652889 test: 0.654000\n",
      "\n",
      "Parameter containing:\n",
      "tensor([0., 0., 0., 0.], requires_grad=True)\n"
     ]
    },
    {
     "name": "stderr",
     "output_type": "stream",
     "text": [
      "epoch: 24: 100%|████████████████████████████████████████████████████████████████████| 50/50 [00:04<00:00, 12.47batch/s]\n"
     ]
    },
    {
     "name": "stdout",
     "output_type": "stream",
     "text": [
      "loss training: 1.729266\n"
     ]
    },
    {
     "name": "stderr",
     "output_type": "stream",
     "text": [
      "epoch: 25:   4%|██▊                                                                  | 2/50 [00:00<00:03, 14.53batch/s]"
     ]
    },
    {
     "name": "stdout",
     "output_type": "stream",
     "text": [
      "accuracy train: 0.681556 test: 0.686000\n",
      "\n",
      "Parameter containing:\n",
      "tensor([0., 0., 0., 0.], requires_grad=True)\n"
     ]
    },
    {
     "name": "stderr",
     "output_type": "stream",
     "text": [
      "epoch: 25: 100%|████████████████████████████████████████████████████████████████████| 50/50 [00:04<00:00, 12.38batch/s]\n"
     ]
    },
    {
     "name": "stdout",
     "output_type": "stream",
     "text": [
      "loss training: 1.332748\n"
     ]
    },
    {
     "name": "stderr",
     "output_type": "stream",
     "text": [
      "epoch: 26:   2%|█▍                                                                   | 1/50 [00:00<00:06,  7.90batch/s]"
     ]
    },
    {
     "name": "stdout",
     "output_type": "stream",
     "text": [
      "accuracy train: 0.687778 test: 0.678000\n",
      "\n",
      "Parameter containing:\n",
      "tensor([0., 0., 0., 0.], requires_grad=True)\n"
     ]
    },
    {
     "name": "stderr",
     "output_type": "stream",
     "text": [
      "epoch: 26: 100%|████████████████████████████████████████████████████████████████████| 50/50 [00:04<00:00, 11.94batch/s]\n"
     ]
    },
    {
     "name": "stdout",
     "output_type": "stream",
     "text": [
      "loss training: 1.348319\n"
     ]
    },
    {
     "name": "stderr",
     "output_type": "stream",
     "text": [
      "epoch: 27:   4%|██▊                                                                  | 2/50 [00:00<00:03, 13.11batch/s]"
     ]
    },
    {
     "name": "stdout",
     "output_type": "stream",
     "text": [
      "accuracy train: 0.647778 test: 0.626000\n",
      "\n",
      "Parameter containing:\n",
      "tensor([0., 0., 0., 0.], requires_grad=True)\n"
     ]
    },
    {
     "name": "stderr",
     "output_type": "stream",
     "text": [
      "epoch: 27: 100%|████████████████████████████████████████████████████████████████████| 50/50 [00:04<00:00, 11.26batch/s]\n"
     ]
    },
    {
     "name": "stdout",
     "output_type": "stream",
     "text": [
      "loss training: 1.223111\n"
     ]
    },
    {
     "name": "stderr",
     "output_type": "stream",
     "text": [
      "epoch: 28:   4%|██▊                                                                  | 2/50 [00:00<00:03, 14.75batch/s]"
     ]
    },
    {
     "name": "stdout",
     "output_type": "stream",
     "text": [
      "accuracy train: 0.623333 test: 0.614000\n",
      "\n",
      "Parameter containing:\n",
      "tensor([0., 0., 0., 0.], requires_grad=True)\n"
     ]
    },
    {
     "name": "stderr",
     "output_type": "stream",
     "text": [
      "epoch: 28: 100%|████████████████████████████████████████████████████████████████████| 50/50 [00:04<00:00, 11.12batch/s]\n"
     ]
    },
    {
     "name": "stdout",
     "output_type": "stream",
     "text": [
      "loss training: 80.049671\n"
     ]
    },
    {
     "name": "stderr",
     "output_type": "stream",
     "text": [
      "epoch: 29:   4%|██▊                                                                  | 2/50 [00:00<00:03, 15.19batch/s]"
     ]
    },
    {
     "name": "stdout",
     "output_type": "stream",
     "text": [
      "accuracy train: 0.635111 test: 0.616000\n",
      "\n",
      "Parameter containing:\n",
      "tensor([0., 0., 0., 0.], requires_grad=True)\n"
     ]
    },
    {
     "name": "stderr",
     "output_type": "stream",
     "text": [
      "epoch: 29: 100%|████████████████████████████████████████████████████████████████████| 50/50 [00:04<00:00, 11.47batch/s]\n"
     ]
    },
    {
     "name": "stdout",
     "output_type": "stream",
     "text": [
      "loss training: 4.980424\n"
     ]
    },
    {
     "name": "stderr",
     "output_type": "stream",
     "text": [
      "epoch: 30:   0%|                                                                             | 0/50 [00:00<?, ?batch/s]"
     ]
    },
    {
     "name": "stdout",
     "output_type": "stream",
     "text": [
      "accuracy train: 0.666444 test: 0.666000\n",
      "\n",
      "Parameter containing:\n",
      "tensor([0., 0., 0., 0.], requires_grad=True)\n"
     ]
    },
    {
     "name": "stderr",
     "output_type": "stream",
     "text": [
      "epoch: 30: 100%|████████████████████████████████████████████████████████████████████| 50/50 [00:04<00:00, 11.06batch/s]\n"
     ]
    },
    {
     "name": "stdout",
     "output_type": "stream",
     "text": [
      "loss training: 6.188171\n"
     ]
    },
    {
     "name": "stderr",
     "output_type": "stream",
     "text": [
      "epoch: 31:   4%|██▊                                                                  | 2/50 [00:00<00:04, 11.14batch/s]"
     ]
    },
    {
     "name": "stdout",
     "output_type": "stream",
     "text": [
      "accuracy train: 0.638667 test: 0.640000\n",
      "\n",
      "Parameter containing:\n",
      "tensor([0., 0., 0., 0.], requires_grad=True)\n"
     ]
    },
    {
     "name": "stderr",
     "output_type": "stream",
     "text": [
      "epoch: 31: 100%|████████████████████████████████████████████████████████████████████| 50/50 [00:04<00:00, 11.45batch/s]\n"
     ]
    },
    {
     "name": "stdout",
     "output_type": "stream",
     "text": [
      "loss training: 2.139327\n"
     ]
    },
    {
     "name": "stderr",
     "output_type": "stream",
     "text": [
      "epoch: 32:   0%|                                                                             | 0/50 [00:00<?, ?batch/s]"
     ]
    },
    {
     "name": "stdout",
     "output_type": "stream",
     "text": [
      "accuracy train: 0.658889 test: 0.648000\n",
      "\n",
      "Parameter containing:\n",
      "tensor([0., 0., 0., 0.], requires_grad=True)\n"
     ]
    },
    {
     "name": "stderr",
     "output_type": "stream",
     "text": [
      "epoch: 32: 100%|████████████████████████████████████████████████████████████████████| 50/50 [00:04<00:00, 11.97batch/s]\n"
     ]
    },
    {
     "name": "stdout",
     "output_type": "stream",
     "text": [
      "loss training: 1.281881\n"
     ]
    },
    {
     "name": "stderr",
     "output_type": "stream",
     "text": [
      "epoch: 33:   4%|██▊                                                                  | 2/50 [00:00<00:02, 16.44batch/s]"
     ]
    },
    {
     "name": "stdout",
     "output_type": "stream",
     "text": [
      "accuracy train: 0.595556 test: 0.574000\n",
      "\n",
      "Parameter containing:\n",
      "tensor([0., 0., 0., 0.], requires_grad=True)\n"
     ]
    },
    {
     "name": "stderr",
     "output_type": "stream",
     "text": [
      "epoch: 33: 100%|████████████████████████████████████████████████████████████████████| 50/50 [00:04<00:00, 11.39batch/s]\n"
     ]
    },
    {
     "name": "stdout",
     "output_type": "stream",
     "text": [
      "loss training: 1.777344\n"
     ]
    },
    {
     "name": "stderr",
     "output_type": "stream",
     "text": [
      "epoch: 34:   4%|██▊                                                                  | 2/50 [00:00<00:03, 12.53batch/s]"
     ]
    },
    {
     "name": "stdout",
     "output_type": "stream",
     "text": [
      "accuracy train: 0.649778 test: 0.616000\n",
      "\n",
      "Parameter containing:\n",
      "tensor([0., 0., 0., 0.], requires_grad=True)\n"
     ]
    },
    {
     "name": "stderr",
     "output_type": "stream",
     "text": [
      "epoch: 34: 100%|████████████████████████████████████████████████████████████████████| 50/50 [00:04<00:00, 11.16batch/s]\n"
     ]
    },
    {
     "name": "stdout",
     "output_type": "stream",
     "text": [
      "loss training: 4.104769\n"
     ]
    },
    {
     "name": "stderr",
     "output_type": "stream",
     "text": [
      "epoch: 35:   0%|                                                                             | 0/50 [00:00<?, ?batch/s]"
     ]
    },
    {
     "name": "stdout",
     "output_type": "stream",
     "text": [
      "accuracy train: 0.512889 test: 0.502000\n",
      "\n",
      "Parameter containing:\n",
      "tensor([0., 0., 0., 0.], requires_grad=True)\n"
     ]
    },
    {
     "name": "stderr",
     "output_type": "stream",
     "text": [
      "epoch: 35: 100%|████████████████████████████████████████████████████████████████████| 50/50 [00:05<00:00,  9.36batch/s]\n"
     ]
    },
    {
     "name": "stdout",
     "output_type": "stream",
     "text": [
      "loss training: 1.434142\n"
     ]
    },
    {
     "name": "stderr",
     "output_type": "stream",
     "text": [
      "epoch: 36:   4%|██▊                                                                  | 2/50 [00:00<00:03, 13.28batch/s]"
     ]
    },
    {
     "name": "stdout",
     "output_type": "stream",
     "text": [
      "accuracy train: 0.634667 test: 0.614000\n",
      "\n",
      "Parameter containing:\n",
      "tensor([0., 0., 0., 0.], requires_grad=True)\n"
     ]
    },
    {
     "name": "stderr",
     "output_type": "stream",
     "text": [
      "epoch: 36: 100%|████████████████████████████████████████████████████████████████████| 50/50 [00:04<00:00, 11.83batch/s]\n"
     ]
    },
    {
     "name": "stdout",
     "output_type": "stream",
     "text": [
      "loss training: 1.952638\n"
     ]
    },
    {
     "name": "stderr",
     "output_type": "stream",
     "text": [
      "epoch: 37:   2%|█▍                                                                   | 1/50 [00:00<00:05,  9.46batch/s]"
     ]
    },
    {
     "name": "stdout",
     "output_type": "stream",
     "text": [
      "accuracy train: 0.600222 test: 0.590000\n",
      "\n",
      "Parameter containing:\n",
      "tensor([0., 0., 0., 0.], requires_grad=True)\n"
     ]
    },
    {
     "name": "stderr",
     "output_type": "stream",
     "text": [
      "epoch: 37: 100%|████████████████████████████████████████████████████████████████████| 50/50 [00:04<00:00, 11.28batch/s]\n"
     ]
    },
    {
     "name": "stdout",
     "output_type": "stream",
     "text": [
      "loss training: 1.177470\n"
     ]
    },
    {
     "name": "stderr",
     "output_type": "stream",
     "text": [
      "epoch: 38:   4%|██▊                                                                  | 2/50 [00:00<00:04, 11.59batch/s]"
     ]
    },
    {
     "name": "stdout",
     "output_type": "stream",
     "text": [
      "accuracy train: 0.688667 test: 0.670000\n",
      "\n",
      "Parameter containing:\n",
      "tensor([0., 0., 0., 0.], requires_grad=True)\n"
     ]
    },
    {
     "name": "stderr",
     "output_type": "stream",
     "text": [
      "epoch: 38: 100%|████████████████████████████████████████████████████████████████████| 50/50 [00:04<00:00, 11.65batch/s]\n"
     ]
    },
    {
     "name": "stdout",
     "output_type": "stream",
     "text": [
      "loss training: 1.221688\n"
     ]
    },
    {
     "name": "stderr",
     "output_type": "stream",
     "text": [
      "epoch: 39:   0%|                                                                             | 0/50 [00:00<?, ?batch/s]"
     ]
    },
    {
     "name": "stdout",
     "output_type": "stream",
     "text": [
      "accuracy train: 0.659111 test: 0.642000\n",
      "\n",
      "Parameter containing:\n",
      "tensor([0., 0., 0., 0.], requires_grad=True)\n"
     ]
    },
    {
     "name": "stderr",
     "output_type": "stream",
     "text": [
      "epoch: 39: 100%|████████████████████████████████████████████████████████████████████| 50/50 [00:04<00:00, 11.59batch/s]\n"
     ]
    },
    {
     "name": "stdout",
     "output_type": "stream",
     "text": [
      "loss training: 0.974278\n"
     ]
    },
    {
     "name": "stderr",
     "output_type": "stream",
     "text": [
      "epoch: 40:   4%|██▊                                                                  | 2/50 [00:00<00:03, 13.46batch/s]"
     ]
    },
    {
     "name": "stdout",
     "output_type": "stream",
     "text": [
      "accuracy train: 0.683111 test: 0.678000\n",
      "\n",
      "Parameter containing:\n",
      "tensor([0., 0., 0., 0.], requires_grad=True)\n"
     ]
    },
    {
     "name": "stderr",
     "output_type": "stream",
     "text": [
      "epoch: 40: 100%|████████████████████████████████████████████████████████████████████| 50/50 [00:04<00:00, 12.19batch/s]\n"
     ]
    },
    {
     "name": "stdout",
     "output_type": "stream",
     "text": [
      "loss training: 1.160806\n"
     ]
    },
    {
     "name": "stderr",
     "output_type": "stream",
     "text": [
      "epoch: 41:   4%|██▊                                                                  | 2/50 [00:00<00:03, 12.38batch/s]"
     ]
    },
    {
     "name": "stdout",
     "output_type": "stream",
     "text": [
      "accuracy train: 0.663111 test: 0.638000\n",
      "\n",
      "Parameter containing:\n",
      "tensor([0., 0., 0., 0.], requires_grad=True)\n"
     ]
    },
    {
     "name": "stderr",
     "output_type": "stream",
     "text": [
      "epoch: 41: 100%|████████████████████████████████████████████████████████████████████| 50/50 [00:03<00:00, 12.67batch/s]\n"
     ]
    },
    {
     "name": "stdout",
     "output_type": "stream",
     "text": [
      "loss training: 1.068857\n"
     ]
    },
    {
     "name": "stderr",
     "output_type": "stream",
     "text": [
      "epoch: 42:   0%|                                                                             | 0/50 [00:00<?, ?batch/s]"
     ]
    },
    {
     "name": "stdout",
     "output_type": "stream",
     "text": [
      "accuracy train: 0.662000 test: 0.654000\n",
      "\n",
      "Parameter containing:\n",
      "tensor([0., 0., 0., 0.], requires_grad=True)\n"
     ]
    },
    {
     "name": "stderr",
     "output_type": "stream",
     "text": [
      "epoch: 42: 100%|████████████████████████████████████████████████████████████████████| 50/50 [00:04<00:00, 11.38batch/s]\n"
     ]
    },
    {
     "name": "stdout",
     "output_type": "stream",
     "text": [
      "loss training: 1.062644\n"
     ]
    },
    {
     "name": "stderr",
     "output_type": "stream",
     "text": [
      "epoch: 43:   4%|██▊                                                                  | 2/50 [00:00<00:03, 13.37batch/s]"
     ]
    },
    {
     "name": "stdout",
     "output_type": "stream",
     "text": [
      "accuracy train: 0.693556 test: 0.694000\n",
      "\n",
      "Parameter containing:\n",
      "tensor([0., 0., 0., 0.], requires_grad=True)\n"
     ]
    },
    {
     "name": "stderr",
     "output_type": "stream",
     "text": [
      "epoch: 43: 100%|████████████████████████████████████████████████████████████████████| 50/50 [00:04<00:00, 10.75batch/s]\n"
     ]
    },
    {
     "name": "stdout",
     "output_type": "stream",
     "text": [
      "loss training: 1.003914\n"
     ]
    },
    {
     "name": "stderr",
     "output_type": "stream",
     "text": [
      "epoch: 44:   4%|██▊                                                                  | 2/50 [00:00<00:03, 13.28batch/s]"
     ]
    },
    {
     "name": "stdout",
     "output_type": "stream",
     "text": [
      "accuracy train: 0.679556 test: 0.670000\n",
      "\n",
      "Parameter containing:\n",
      "tensor([0., 0., 0., 0.], requires_grad=True)\n"
     ]
    },
    {
     "name": "stderr",
     "output_type": "stream",
     "text": [
      "epoch: 44: 100%|████████████████████████████████████████████████████████████████████| 50/50 [00:04<00:00, 11.58batch/s]\n"
     ]
    },
    {
     "name": "stdout",
     "output_type": "stream",
     "text": [
      "loss training: 1.018569\n"
     ]
    },
    {
     "name": "stderr",
     "output_type": "stream",
     "text": [
      "epoch: 45:   4%|██▊                                                                  | 2/50 [00:00<00:02, 16.44batch/s]"
     ]
    },
    {
     "name": "stdout",
     "output_type": "stream",
     "text": [
      "accuracy train: 0.528444 test: 0.500000\n",
      "\n",
      "Parameter containing:\n",
      "tensor([0., 0., 0., 0.], requires_grad=True)\n"
     ]
    },
    {
     "name": "stderr",
     "output_type": "stream",
     "text": [
      "epoch: 45: 100%|████████████████████████████████████████████████████████████████████| 50/50 [00:04<00:00, 12.30batch/s]\n"
     ]
    },
    {
     "name": "stdout",
     "output_type": "stream",
     "text": [
      "loss training: 1.009631\n"
     ]
    },
    {
     "name": "stderr",
     "output_type": "stream",
     "text": [
      "epoch: 46:   4%|██▊                                                                  | 2/50 [00:00<00:03, 13.93batch/s]"
     ]
    },
    {
     "name": "stdout",
     "output_type": "stream",
     "text": [
      "accuracy train: 0.690889 test: 0.644000\n",
      "\n",
      "Parameter containing:\n",
      "tensor([0., 0., 0., 0.], requires_grad=True)\n"
     ]
    },
    {
     "name": "stderr",
     "output_type": "stream",
     "text": [
      "epoch: 46: 100%|████████████████████████████████████████████████████████████████████| 50/50 [00:03<00:00, 13.43batch/s]\n"
     ]
    },
    {
     "name": "stdout",
     "output_type": "stream",
     "text": [
      "loss training: 0.922185\n"
     ]
    },
    {
     "name": "stderr",
     "output_type": "stream",
     "text": [
      "epoch: 47:   2%|█▍                                                                   | 1/50 [00:00<00:06,  7.48batch/s]"
     ]
    },
    {
     "name": "stdout",
     "output_type": "stream",
     "text": [
      "accuracy train: 0.652444 test: 0.618000\n",
      "\n",
      "Parameter containing:\n",
      "tensor([0., 0., 0., 0.], requires_grad=True)\n"
     ]
    },
    {
     "name": "stderr",
     "output_type": "stream",
     "text": [
      "epoch: 47: 100%|████████████████████████████████████████████████████████████████████| 50/50 [00:04<00:00, 12.32batch/s]\n"
     ]
    },
    {
     "name": "stdout",
     "output_type": "stream",
     "text": [
      "loss training: 1.111743\n"
     ]
    },
    {
     "name": "stderr",
     "output_type": "stream",
     "text": [
      "epoch: 48:   0%|                                                                             | 0/50 [00:00<?, ?batch/s]"
     ]
    },
    {
     "name": "stdout",
     "output_type": "stream",
     "text": [
      "accuracy train: 0.650889 test: 0.630000\n",
      "\n",
      "Parameter containing:\n",
      "tensor([0., 0., 0., 0.], requires_grad=True)\n"
     ]
    },
    {
     "name": "stderr",
     "output_type": "stream",
     "text": [
      "epoch: 48: 100%|████████████████████████████████████████████████████████████████████| 50/50 [00:03<00:00, 13.11batch/s]\n"
     ]
    },
    {
     "name": "stdout",
     "output_type": "stream",
     "text": [
      "loss training: 3.571330\n"
     ]
    },
    {
     "name": "stderr",
     "output_type": "stream",
     "text": [
      "epoch: 49:   4%|██▊                                                                  | 2/50 [00:00<00:03, 13.74batch/s]"
     ]
    },
    {
     "name": "stdout",
     "output_type": "stream",
     "text": [
      "accuracy train: 0.626444 test: 0.586000\n",
      "\n",
      "Parameter containing:\n",
      "tensor([0., 0., 0., 0.], requires_grad=True)\n"
     ]
    },
    {
     "name": "stderr",
     "output_type": "stream",
     "text": [
      "epoch: 49: 100%|████████████████████████████████████████████████████████████████████| 50/50 [00:04<00:00, 12.32batch/s]\n"
     ]
    },
    {
     "name": "stdout",
     "output_type": "stream",
     "text": [
      "loss training: 12.918732\n"
     ]
    },
    {
     "name": "stderr",
     "output_type": "stream",
     "text": [
      "epoch: 50:   4%|██▊                                                                  | 2/50 [00:00<00:03, 12.53batch/s]"
     ]
    },
    {
     "name": "stdout",
     "output_type": "stream",
     "text": [
      "accuracy train: 0.555556 test: 0.550000\n",
      "\n",
      "Parameter containing:\n",
      "tensor([0., 0., 0., 0.], requires_grad=True)\n"
     ]
    },
    {
     "name": "stderr",
     "output_type": "stream",
     "text": [
      "epoch: 50: 100%|████████████████████████████████████████████████████████████████████| 50/50 [00:03<00:00, 13.14batch/s]\n"
     ]
    },
    {
     "name": "stdout",
     "output_type": "stream",
     "text": [
      "loss training: 3.934261\n"
     ]
    },
    {
     "name": "stderr",
     "output_type": "stream",
     "text": [
      "epoch: 51:   4%|██▊                                                                  | 2/50 [00:00<00:02, 17.90batch/s]"
     ]
    },
    {
     "name": "stdout",
     "output_type": "stream",
     "text": [
      "accuracy train: 0.646889 test: 0.616000\n",
      "\n",
      "Parameter containing:\n",
      "tensor([0., 0., 0., 0.], requires_grad=True)\n"
     ]
    },
    {
     "name": "stderr",
     "output_type": "stream",
     "text": [
      "epoch: 51: 100%|████████████████████████████████████████████████████████████████████| 50/50 [00:03<00:00, 12.74batch/s]\n"
     ]
    },
    {
     "name": "stdout",
     "output_type": "stream",
     "text": [
      "loss training: 18.868395\n"
     ]
    },
    {
     "name": "stderr",
     "output_type": "stream",
     "text": [
      "epoch: 52:   4%|██▊                                                                  | 2/50 [00:00<00:03, 12.94batch/s]"
     ]
    },
    {
     "name": "stdout",
     "output_type": "stream",
     "text": [
      "accuracy train: 0.549333 test: 0.530000\n",
      "\n",
      "Parameter containing:\n",
      "tensor([0., 0., 0., 0.], requires_grad=True)\n"
     ]
    },
    {
     "name": "stderr",
     "output_type": "stream",
     "text": [
      "epoch: 52: 100%|████████████████████████████████████████████████████████████████████| 50/50 [00:03<00:00, 13.28batch/s]\n"
     ]
    },
    {
     "name": "stdout",
     "output_type": "stream",
     "text": [
      "loss training: 6.454119\n"
     ]
    },
    {
     "name": "stderr",
     "output_type": "stream",
     "text": [
      "epoch: 53:   4%|██▊                                                                  | 2/50 [00:00<00:03, 13.83batch/s]"
     ]
    },
    {
     "name": "stdout",
     "output_type": "stream",
     "text": [
      "accuracy train: 0.630222 test: 0.636000\n",
      "\n",
      "Parameter containing:\n",
      "tensor([0., 0., 0., 0.], requires_grad=True)\n"
     ]
    },
    {
     "name": "stderr",
     "output_type": "stream",
     "text": [
      "epoch: 53: 100%|████████████████████████████████████████████████████████████████████| 50/50 [00:03<00:00, 13.37batch/s]\n"
     ]
    },
    {
     "name": "stdout",
     "output_type": "stream",
     "text": [
      "loss training: 3.686467\n"
     ]
    },
    {
     "name": "stderr",
     "output_type": "stream",
     "text": [
      "epoch: 54:   4%|██▊                                                                  | 2/50 [00:00<00:03, 15.19batch/s]"
     ]
    },
    {
     "name": "stdout",
     "output_type": "stream",
     "text": [
      "accuracy train: 0.644000 test: 0.632000\n",
      "\n",
      "Parameter containing:\n",
      "tensor([0., 0., 0., 0.], requires_grad=True)\n"
     ]
    },
    {
     "name": "stderr",
     "output_type": "stream",
     "text": [
      "epoch: 54: 100%|████████████████████████████████████████████████████████████████████| 50/50 [00:04<00:00, 12.38batch/s]\n"
     ]
    },
    {
     "name": "stdout",
     "output_type": "stream",
     "text": [
      "loss training: 1.440724\n"
     ]
    },
    {
     "name": "stderr",
     "output_type": "stream",
     "text": [
      "epoch: 55:   4%|██▊                                                                  | 2/50 [00:00<00:03, 15.43batch/s]"
     ]
    },
    {
     "name": "stdout",
     "output_type": "stream",
     "text": [
      "accuracy train: 0.458444 test: 0.448000\n",
      "\n",
      "Parameter containing:\n",
      "tensor([0., 0., 0., 0.], requires_grad=True)\n"
     ]
    },
    {
     "name": "stderr",
     "output_type": "stream",
     "text": [
      "epoch: 55: 100%|████████████████████████████████████████████████████████████████████| 50/50 [00:03<00:00, 13.77batch/s]\n"
     ]
    },
    {
     "name": "stdout",
     "output_type": "stream",
     "text": [
      "loss training: 1.688107\n"
     ]
    },
    {
     "name": "stderr",
     "output_type": "stream",
     "text": [
      "epoch: 56:   0%|                                                                             | 0/50 [00:00<?, ?batch/s]"
     ]
    },
    {
     "name": "stdout",
     "output_type": "stream",
     "text": [
      "accuracy train: 0.617111 test: 0.598000\n",
      "\n",
      "Parameter containing:\n",
      "tensor([0., 0., 0., 0.], requires_grad=True)\n"
     ]
    },
    {
     "name": "stderr",
     "output_type": "stream",
     "text": [
      "epoch: 56: 100%|████████████████████████████████████████████████████████████████████| 50/50 [00:03<00:00, 12.70batch/s]\n"
     ]
    },
    {
     "name": "stdout",
     "output_type": "stream",
     "text": [
      "loss training: 1.455798\n"
     ]
    },
    {
     "name": "stderr",
     "output_type": "stream",
     "text": [
      "epoch: 57:   4%|██▊                                                                  | 2/50 [00:00<00:02, 16.17batch/s]"
     ]
    },
    {
     "name": "stdout",
     "output_type": "stream",
     "text": [
      "accuracy train: 0.620222 test: 0.606000\n",
      "\n",
      "Parameter containing:\n",
      "tensor([0., 0., 0., 0.], requires_grad=True)\n"
     ]
    },
    {
     "name": "stderr",
     "output_type": "stream",
     "text": [
      "epoch: 57: 100%|████████████████████████████████████████████████████████████████████| 50/50 [00:03<00:00, 12.62batch/s]\n"
     ]
    },
    {
     "name": "stdout",
     "output_type": "stream",
     "text": [
      "loss training: 0.990873\n"
     ]
    },
    {
     "name": "stderr",
     "output_type": "stream",
     "text": [
      "epoch: 58:   2%|█▍                                                                   | 1/50 [00:00<00:06,  8.09batch/s]"
     ]
    },
    {
     "name": "stdout",
     "output_type": "stream",
     "text": [
      "accuracy train: 0.675778 test: 0.672000\n",
      "\n",
      "Parameter containing:\n",
      "tensor([0., 0., 0., 0.], requires_grad=True)\n"
     ]
    },
    {
     "name": "stderr",
     "output_type": "stream",
     "text": [
      "epoch: 58: 100%|████████████████████████████████████████████████████████████████████| 50/50 [00:03<00:00, 12.62batch/s]\n"
     ]
    },
    {
     "name": "stdout",
     "output_type": "stream",
     "text": [
      "loss training: 3.322183\n"
     ]
    },
    {
     "name": "stderr",
     "output_type": "stream",
     "text": [
      "epoch: 59:   4%|██▊                                                                  | 2/50 [00:00<00:03, 12.53batch/s]"
     ]
    },
    {
     "name": "stdout",
     "output_type": "stream",
     "text": [
      "accuracy train: 0.647778 test: 0.632000\n",
      "\n",
      "Parameter containing:\n",
      "tensor([0., 0., 0., 0.], requires_grad=True)\n"
     ]
    },
    {
     "name": "stderr",
     "output_type": "stream",
     "text": [
      "epoch: 59: 100%|████████████████████████████████████████████████████████████████████| 50/50 [00:03<00:00, 13.77batch/s]\n"
     ]
    },
    {
     "name": "stdout",
     "output_type": "stream",
     "text": [
      "loss training: 1.577340\n"
     ]
    },
    {
     "name": "stderr",
     "output_type": "stream",
     "text": [
      "epoch: 60:   4%|██▊                                                                  | 2/50 [00:00<00:03, 13.93batch/s]"
     ]
    },
    {
     "name": "stdout",
     "output_type": "stream",
     "text": [
      "accuracy train: 0.652889 test: 0.646000\n",
      "\n",
      "Parameter containing:\n",
      "tensor([0., 0., 0., 0.], requires_grad=True)\n"
     ]
    },
    {
     "name": "stderr",
     "output_type": "stream",
     "text": [
      "epoch: 60: 100%|████████████████████████████████████████████████████████████████████| 50/50 [00:03<00:00, 13.34batch/s]\n"
     ]
    },
    {
     "name": "stdout",
     "output_type": "stream",
     "text": [
      "loss training: 1.219014\n"
     ]
    },
    {
     "name": "stderr",
     "output_type": "stream",
     "text": [
      "epoch: 61:   4%|██▊                                                                  | 2/50 [00:00<00:03, 12.61batch/s]"
     ]
    },
    {
     "name": "stdout",
     "output_type": "stream",
     "text": [
      "accuracy train: 0.662222 test: 0.648000\n",
      "\n",
      "Parameter containing:\n",
      "tensor([0., 0., 0., 0.], requires_grad=True)\n"
     ]
    },
    {
     "name": "stderr",
     "output_type": "stream",
     "text": [
      "epoch: 61: 100%|████████████████████████████████████████████████████████████████████| 50/50 [00:03<00:00, 12.76batch/s]\n"
     ]
    },
    {
     "name": "stdout",
     "output_type": "stream",
     "text": [
      "loss training: 1.449173\n"
     ]
    },
    {
     "name": "stderr",
     "output_type": "stream",
     "text": [
      "epoch: 62:   0%|                                                                             | 0/50 [00:00<?, ?batch/s]"
     ]
    },
    {
     "name": "stdout",
     "output_type": "stream",
     "text": [
      "accuracy train: 0.615778 test: 0.602000\n",
      "\n",
      "Parameter containing:\n",
      "tensor([0., 0., 0., 0.], requires_grad=True)\n"
     ]
    },
    {
     "name": "stderr",
     "output_type": "stream",
     "text": [
      "epoch: 62: 100%|████████████████████████████████████████████████████████████████████| 50/50 [00:04<00:00, 12.13batch/s]\n"
     ]
    },
    {
     "name": "stdout",
     "output_type": "stream",
     "text": [
      "loss training: 1.311641\n"
     ]
    },
    {
     "name": "stderr",
     "output_type": "stream",
     "text": [
      "epoch: 63:   0%|                                                                             | 0/50 [00:00<?, ?batch/s]"
     ]
    },
    {
     "name": "stdout",
     "output_type": "stream",
     "text": [
      "accuracy train: 0.658444 test: 0.636000\n",
      "\n",
      "Parameter containing:\n",
      "tensor([0., 0., 0., 0.], requires_grad=True)\n"
     ]
    },
    {
     "name": "stderr",
     "output_type": "stream",
     "text": [
      "epoch: 63: 100%|████████████████████████████████████████████████████████████████████| 50/50 [00:03<00:00, 13.38batch/s]\n"
     ]
    },
    {
     "name": "stdout",
     "output_type": "stream",
     "text": [
      "loss training: 1.112755\n"
     ]
    },
    {
     "name": "stderr",
     "output_type": "stream",
     "text": [
      "epoch: 64:   4%|██▊                                                                  | 2/50 [00:00<00:03, 13.19batch/s]"
     ]
    },
    {
     "name": "stdout",
     "output_type": "stream",
     "text": [
      "accuracy train: 0.659111 test: 0.630000\n",
      "\n",
      "Parameter containing:\n",
      "tensor([0., 0., 0., 0.], requires_grad=True)\n"
     ]
    },
    {
     "name": "stderr",
     "output_type": "stream",
     "text": [
      "epoch: 64: 100%|████████████████████████████████████████████████████████████████████| 50/50 [00:03<00:00, 12.70batch/s]\n"
     ]
    },
    {
     "name": "stdout",
     "output_type": "stream",
     "text": [
      "loss training: 0.951911\n"
     ]
    },
    {
     "name": "stderr",
     "output_type": "stream",
     "text": [
      "epoch: 65:   4%|██▊                                                                  | 2/50 [00:00<00:03, 12.08batch/s]"
     ]
    },
    {
     "name": "stdout",
     "output_type": "stream",
     "text": [
      "accuracy train: 0.652889 test: 0.616000\n",
      "\n",
      "Parameter containing:\n",
      "tensor([0., 0., 0., 0.], requires_grad=True)\n"
     ]
    },
    {
     "name": "stderr",
     "output_type": "stream",
     "text": [
      "epoch: 65: 100%|████████████████████████████████████████████████████████████████████| 50/50 [00:03<00:00, 12.58batch/s]\n"
     ]
    },
    {
     "name": "stdout",
     "output_type": "stream",
     "text": [
      "loss training: 1.681904\n"
     ]
    },
    {
     "name": "stderr",
     "output_type": "stream",
     "text": [
      "epoch: 66:   2%|█▍                                                                   | 1/50 [00:00<00:05,  8.64batch/s]"
     ]
    },
    {
     "name": "stdout",
     "output_type": "stream",
     "text": [
      "accuracy train: 0.671556 test: 0.650000\n",
      "\n",
      "Parameter containing:\n",
      "tensor([0., 0., 0., 0.], requires_grad=True)\n"
     ]
    },
    {
     "name": "stderr",
     "output_type": "stream",
     "text": [
      "epoch: 66: 100%|████████████████████████████████████████████████████████████████████| 50/50 [00:04<00:00, 12.39batch/s]\n"
     ]
    },
    {
     "name": "stdout",
     "output_type": "stream",
     "text": [
      "loss training: 1.720655\n"
     ]
    },
    {
     "name": "stderr",
     "output_type": "stream",
     "text": [
      "epoch: 67:   4%|██▊                                                                  | 2/50 [00:00<00:04, 11.46batch/s]"
     ]
    },
    {
     "name": "stdout",
     "output_type": "stream",
     "text": [
      "accuracy train: 0.618444 test: 0.610000\n",
      "\n",
      "Parameter containing:\n",
      "tensor([0., 0., 0., 0.], requires_grad=True)\n"
     ]
    },
    {
     "name": "stderr",
     "output_type": "stream",
     "text": [
      "epoch: 67: 100%|████████████████████████████████████████████████████████████████████| 50/50 [00:04<00:00, 12.15batch/s]\n"
     ]
    },
    {
     "name": "stdout",
     "output_type": "stream",
     "text": [
      "loss training: 1.138301\n"
     ]
    },
    {
     "name": "stderr",
     "output_type": "stream",
     "text": [
      "epoch: 68:   2%|█▍                                                                   | 1/50 [00:00<00:05,  8.80batch/s]"
     ]
    },
    {
     "name": "stdout",
     "output_type": "stream",
     "text": [
      "accuracy train: 0.602889 test: 0.578000\n",
      "\n",
      "Parameter containing:\n",
      "tensor([0., 0., 0., 0.], requires_grad=True)\n"
     ]
    },
    {
     "name": "stderr",
     "output_type": "stream",
     "text": [
      "epoch: 68: 100%|████████████████████████████████████████████████████████████████████| 50/50 [00:04<00:00, 12.49batch/s]\n"
     ]
    },
    {
     "name": "stdout",
     "output_type": "stream",
     "text": [
      "loss training: 1.074546\n"
     ]
    },
    {
     "name": "stderr",
     "output_type": "stream",
     "text": [
      "epoch: 69:   0%|                                                                             | 0/50 [00:00<?, ?batch/s]"
     ]
    },
    {
     "name": "stdout",
     "output_type": "stream",
     "text": [
      "accuracy train: 0.680889 test: 0.666000\n",
      "\n",
      "Parameter containing:\n",
      "tensor([0., 0., 0., 0.], requires_grad=True)\n"
     ]
    },
    {
     "name": "stderr",
     "output_type": "stream",
     "text": [
      "epoch: 69: 100%|████████████████████████████████████████████████████████████████████| 50/50 [00:04<00:00, 11.36batch/s]\n"
     ]
    },
    {
     "name": "stdout",
     "output_type": "stream",
     "text": [
      "loss training: 0.968344\n"
     ]
    },
    {
     "name": "stderr",
     "output_type": "stream",
     "text": [
      "epoch: 70:   0%|                                                                             | 0/50 [00:00<?, ?batch/s]"
     ]
    },
    {
     "name": "stdout",
     "output_type": "stream",
     "text": [
      "accuracy train: 0.671556 test: 0.620000\n",
      "\n",
      "Parameter containing:\n",
      "tensor([0., 0., 0., 0.], requires_grad=True)\n"
     ]
    },
    {
     "name": "stderr",
     "output_type": "stream",
     "text": [
      "epoch: 70: 100%|████████████████████████████████████████████████████████████████████| 50/50 [00:03<00:00, 13.31batch/s]\n"
     ]
    },
    {
     "name": "stdout",
     "output_type": "stream",
     "text": [
      "loss training: 1.112691\n"
     ]
    },
    {
     "name": "stderr",
     "output_type": "stream",
     "text": [
      "epoch: 71:   4%|██▊                                                                  | 2/50 [00:00<00:02, 16.57batch/s]"
     ]
    },
    {
     "name": "stdout",
     "output_type": "stream",
     "text": [
      "accuracy train: 0.562222 test: 0.526000\n",
      "\n",
      "Parameter containing:\n",
      "tensor([0., 0., 0., 0.], requires_grad=True)\n"
     ]
    },
    {
     "name": "stderr",
     "output_type": "stream",
     "text": [
      "epoch: 71: 100%|████████████████████████████████████████████████████████████████████| 50/50 [00:03<00:00, 12.63batch/s]\n"
     ]
    },
    {
     "name": "stdout",
     "output_type": "stream",
     "text": [
      "loss training: 0.892286\n"
     ]
    },
    {
     "name": "stderr",
     "output_type": "stream",
     "text": [
      "epoch: 72:   4%|██▊                                                                  | 2/50 [00:00<00:03, 14.75batch/s]"
     ]
    },
    {
     "name": "stdout",
     "output_type": "stream",
     "text": [
      "accuracy train: 0.674444 test: 0.606000\n",
      "\n",
      "Parameter containing:\n",
      "tensor([0., 0., 0., 0.], requires_grad=True)\n"
     ]
    },
    {
     "name": "stderr",
     "output_type": "stream",
     "text": [
      "epoch: 72: 100%|████████████████████████████████████████████████████████████████████| 50/50 [00:03<00:00, 13.76batch/s]\n"
     ]
    },
    {
     "name": "stdout",
     "output_type": "stream",
     "text": [
      "loss training: 0.907367\n"
     ]
    },
    {
     "name": "stderr",
     "output_type": "stream",
     "text": [
      "epoch: 73:   4%|██▊                                                                  | 2/50 [00:00<00:03, 15.43batch/s]"
     ]
    },
    {
     "name": "stdout",
     "output_type": "stream",
     "text": [
      "accuracy train: 0.661111 test: 0.628000\n",
      "\n",
      "Parameter containing:\n",
      "tensor([0., 0., 0., 0.], requires_grad=True)\n"
     ]
    },
    {
     "name": "stderr",
     "output_type": "stream",
     "text": [
      "epoch: 73: 100%|████████████████████████████████████████████████████████████████████| 50/50 [00:03<00:00, 12.94batch/s]\n"
     ]
    },
    {
     "name": "stdout",
     "output_type": "stream",
     "text": [
      "loss training: 0.939509\n"
     ]
    },
    {
     "name": "stderr",
     "output_type": "stream",
     "text": [
      "epoch: 74:   2%|█▍                                                                   | 1/50 [00:00<00:05,  8.22batch/s]"
     ]
    },
    {
     "name": "stdout",
     "output_type": "stream",
     "text": [
      "accuracy train: 0.618667 test: 0.600000\n",
      "\n",
      "Parameter containing:\n",
      "tensor([0., 0., 0., 0.], requires_grad=True)\n"
     ]
    },
    {
     "name": "stderr",
     "output_type": "stream",
     "text": [
      "epoch: 74: 100%|████████████████████████████████████████████████████████████████████| 50/50 [00:03<00:00, 12.92batch/s]\n"
     ]
    },
    {
     "name": "stdout",
     "output_type": "stream",
     "text": [
      "loss training: 1.050708\n"
     ]
    },
    {
     "name": "stderr",
     "output_type": "stream",
     "text": [
      "epoch: 75:   0%|                                                                             | 0/50 [00:00<?, ?batch/s]"
     ]
    },
    {
     "name": "stdout",
     "output_type": "stream",
     "text": [
      "accuracy train: 0.692889 test: 0.688000\n",
      "\n",
      "Parameter containing:\n",
      "tensor([0., 0., 0., 0.], requires_grad=True)\n"
     ]
    },
    {
     "name": "stderr",
     "output_type": "stream",
     "text": [
      "epoch: 75: 100%|████████████████████████████████████████████████████████████████████| 50/50 [00:04<00:00, 12.23batch/s]\n"
     ]
    },
    {
     "name": "stdout",
     "output_type": "stream",
     "text": [
      "loss training: 0.956906\n"
     ]
    },
    {
     "name": "stderr",
     "output_type": "stream",
     "text": [
      "epoch: 76:   2%|█▍                                                                   | 1/50 [00:00<00:05,  8.87batch/s]"
     ]
    },
    {
     "name": "stdout",
     "output_type": "stream",
     "text": [
      "accuracy train: 0.620667 test: 0.592000\n",
      "\n",
      "Parameter containing:\n",
      "tensor([0., 0., 0., 0.], requires_grad=True)\n"
     ]
    },
    {
     "name": "stderr",
     "output_type": "stream",
     "text": [
      "epoch: 76: 100%|████████████████████████████████████████████████████████████████████| 50/50 [00:03<00:00, 12.52batch/s]\n"
     ]
    },
    {
     "name": "stdout",
     "output_type": "stream",
     "text": [
      "loss training: 1.102319\n"
     ]
    },
    {
     "name": "stderr",
     "output_type": "stream",
     "text": [
      "epoch: 77:   4%|██▊                                                                  | 2/50 [00:00<00:02, 19.10batch/s]"
     ]
    },
    {
     "name": "stdout",
     "output_type": "stream",
     "text": [
      "accuracy train: 0.653333 test: 0.628000\n",
      "\n",
      "Parameter containing:\n",
      "tensor([0., 0., 0., 0.], requires_grad=True)\n"
     ]
    },
    {
     "name": "stderr",
     "output_type": "stream",
     "text": [
      "epoch: 77: 100%|████████████████████████████████████████████████████████████████████| 50/50 [00:04<00:00, 12.19batch/s]\n"
     ]
    },
    {
     "name": "stdout",
     "output_type": "stream",
     "text": [
      "loss training: 0.901493\n"
     ]
    },
    {
     "name": "stderr",
     "output_type": "stream",
     "text": [
      "epoch: 78:   4%|██▊                                                                  | 2/50 [00:00<00:03, 14.53batch/s]"
     ]
    },
    {
     "name": "stdout",
     "output_type": "stream",
     "text": [
      "accuracy train: 0.653333 test: 0.630000\n",
      "\n",
      "Parameter containing:\n",
      "tensor([0., 0., 0., 0.], requires_grad=True)\n"
     ]
    },
    {
     "name": "stderr",
     "output_type": "stream",
     "text": [
      "epoch: 78: 100%|████████████████████████████████████████████████████████████████████| 50/50 [00:04<00:00, 12.07batch/s]\n"
     ]
    },
    {
     "name": "stdout",
     "output_type": "stream",
     "text": [
      "loss training: 0.858788\n"
     ]
    },
    {
     "name": "stderr",
     "output_type": "stream",
     "text": [
      "epoch: 79:   4%|██▊                                                                  | 2/50 [00:00<00:03, 12.53batch/s]"
     ]
    },
    {
     "name": "stdout",
     "output_type": "stream",
     "text": [
      "accuracy train: 0.680444 test: 0.668000\n",
      "\n",
      "Parameter containing:\n",
      "tensor([0., 0., 0., 0.], requires_grad=True)\n"
     ]
    },
    {
     "name": "stderr",
     "output_type": "stream",
     "text": [
      "epoch: 79: 100%|████████████████████████████████████████████████████████████████████| 50/50 [00:03<00:00, 13.07batch/s]\n"
     ]
    },
    {
     "name": "stdout",
     "output_type": "stream",
     "text": [
      "loss training: 0.925691\n"
     ]
    },
    {
     "name": "stderr",
     "output_type": "stream",
     "text": [
      "epoch: 80:   4%|██▊                                                                  | 2/50 [00:00<00:04, 11.46batch/s]"
     ]
    },
    {
     "name": "stdout",
     "output_type": "stream",
     "text": [
      "accuracy train: 0.639333 test: 0.604000\n",
      "\n",
      "Parameter containing:\n",
      "tensor([0., 0., 0., 0.], requires_grad=True)\n"
     ]
    },
    {
     "name": "stderr",
     "output_type": "stream",
     "text": [
      "epoch: 80: 100%|████████████████████████████████████████████████████████████████████| 50/50 [00:03<00:00, 13.28batch/s]\n"
     ]
    },
    {
     "name": "stdout",
     "output_type": "stream",
     "text": [
      "loss training: 0.937195\n"
     ]
    },
    {
     "name": "stderr",
     "output_type": "stream",
     "text": [
      "epoch: 81:   4%|██▊                                                                  | 2/50 [00:00<00:03, 12.61batch/s]"
     ]
    },
    {
     "name": "stdout",
     "output_type": "stream",
     "text": [
      "accuracy train: 0.631778 test: 0.600000\n",
      "\n",
      "Parameter containing:\n",
      "tensor([0., 0., 0., 0.], requires_grad=True)\n"
     ]
    },
    {
     "name": "stderr",
     "output_type": "stream",
     "text": [
      "epoch: 81: 100%|████████████████████████████████████████████████████████████████████| 50/50 [00:03<00:00, 12.70batch/s]\n"
     ]
    },
    {
     "name": "stdout",
     "output_type": "stream",
     "text": [
      "loss training: 0.934339\n"
     ]
    },
    {
     "name": "stderr",
     "output_type": "stream",
     "text": [
      "epoch: 82:   2%|█▍                                                                   | 1/50 [00:00<00:05,  9.12batch/s]"
     ]
    },
    {
     "name": "stdout",
     "output_type": "stream",
     "text": [
      "accuracy train: 0.616667 test: 0.610000\n",
      "\n",
      "Parameter containing:\n",
      "tensor([0., 0., 0., 0.], requires_grad=True)\n"
     ]
    },
    {
     "name": "stderr",
     "output_type": "stream",
     "text": [
      "epoch: 82: 100%|████████████████████████████████████████████████████████████████████| 50/50 [00:03<00:00, 13.00batch/s]\n"
     ]
    },
    {
     "name": "stdout",
     "output_type": "stream",
     "text": [
      "loss training: 1.282034\n"
     ]
    },
    {
     "name": "stderr",
     "output_type": "stream",
     "text": [
      "epoch: 83:   2%|█▍                                                                   | 1/50 [00:00<00:05,  9.28batch/s]"
     ]
    },
    {
     "name": "stdout",
     "output_type": "stream",
     "text": [
      "accuracy train: 0.653556 test: 0.634000\n",
      "\n",
      "Parameter containing:\n",
      "tensor([0., 0., 0., 0.], requires_grad=True)\n"
     ]
    },
    {
     "name": "stderr",
     "output_type": "stream",
     "text": [
      "epoch: 83: 100%|████████████████████████████████████████████████████████████████████| 50/50 [00:03<00:00, 12.73batch/s]\n"
     ]
    },
    {
     "name": "stdout",
     "output_type": "stream",
     "text": [
      "loss training: 1.117546\n"
     ]
    },
    {
     "name": "stderr",
     "output_type": "stream",
     "text": [
      "epoch: 84:   4%|██▊                                                                  | 2/50 [00:00<00:03, 14.64batch/s]"
     ]
    },
    {
     "name": "stdout",
     "output_type": "stream",
     "text": [
      "accuracy train: 0.487333 test: 0.484000\n",
      "\n",
      "Parameter containing:\n",
      "tensor([0., 0., 0., 0.], requires_grad=True)\n"
     ]
    },
    {
     "name": "stderr",
     "output_type": "stream",
     "text": [
      "epoch: 84: 100%|████████████████████████████████████████████████████████████████████| 50/50 [00:03<00:00, 13.43batch/s]\n"
     ]
    },
    {
     "name": "stdout",
     "output_type": "stream",
     "text": [
      "loss training: 1.257041\n"
     ]
    },
    {
     "name": "stderr",
     "output_type": "stream",
     "text": [
      "epoch: 85:   4%|██▊                                                                  | 2/50 [00:00<00:03, 15.43batch/s]"
     ]
    },
    {
     "name": "stdout",
     "output_type": "stream",
     "text": [
      "accuracy train: 0.609333 test: 0.572000\n",
      "\n",
      "Parameter containing:\n",
      "tensor([0., 0., 0., 0.], requires_grad=True)\n"
     ]
    },
    {
     "name": "stderr",
     "output_type": "stream",
     "text": [
      "epoch: 85: 100%|████████████████████████████████████████████████████████████████████| 50/50 [00:03<00:00, 13.09batch/s]\n"
     ]
    },
    {
     "name": "stdout",
     "output_type": "stream",
     "text": [
      "loss training: 1.150339\n"
     ]
    },
    {
     "name": "stderr",
     "output_type": "stream",
     "text": [
      "epoch: 86:   4%|██▊                                                                  | 2/50 [00:00<00:03, 15.08batch/s]"
     ]
    },
    {
     "name": "stdout",
     "output_type": "stream",
     "text": [
      "accuracy train: 0.699556 test: 0.678000\n",
      "\n",
      "Parameter containing:\n",
      "tensor([0., 0., 0., 0.], requires_grad=True)\n"
     ]
    },
    {
     "name": "stderr",
     "output_type": "stream",
     "text": [
      "epoch: 86: 100%|████████████████████████████████████████████████████████████████████| 50/50 [00:03<00:00, 13.14batch/s]\n"
     ]
    },
    {
     "name": "stdout",
     "output_type": "stream",
     "text": [
      "loss training: 0.903547\n"
     ]
    },
    {
     "name": "stderr",
     "output_type": "stream",
     "text": [
      "epoch: 87:   4%|██▊                                                                  | 2/50 [00:00<00:02, 17.15batch/s]"
     ]
    },
    {
     "name": "stdout",
     "output_type": "stream",
     "text": [
      "accuracy train: 0.696222 test: 0.698000\n",
      "\n",
      "Parameter containing:\n",
      "tensor([0., 0., 0., 0.], requires_grad=True)\n"
     ]
    },
    {
     "name": "stderr",
     "output_type": "stream",
     "text": [
      "epoch: 87: 100%|████████████████████████████████████████████████████████████████████| 50/50 [00:03<00:00, 12.71batch/s]\n"
     ]
    },
    {
     "name": "stdout",
     "output_type": "stream",
     "text": [
      "loss training: 0.828115\n"
     ]
    },
    {
     "name": "stderr",
     "output_type": "stream",
     "text": [
      "epoch: 88:   4%|██▊                                                                  | 2/50 [00:00<00:03, 15.79batch/s]"
     ]
    },
    {
     "name": "stdout",
     "output_type": "stream",
     "text": [
      "accuracy train: 0.703111 test: 0.680000\n",
      "\n",
      "Parameter containing:\n",
      "tensor([0., 0., 0., 0.], requires_grad=True)\n"
     ]
    },
    {
     "name": "stderr",
     "output_type": "stream",
     "text": [
      "epoch: 88: 100%|████████████████████████████████████████████████████████████████████| 50/50 [00:03<00:00, 13.08batch/s]\n"
     ]
    },
    {
     "name": "stdout",
     "output_type": "stream",
     "text": [
      "loss training: 1.405839\n"
     ]
    },
    {
     "name": "stderr",
     "output_type": "stream",
     "text": [
      "epoch: 89:   0%|                                                                             | 0/50 [00:00<?, ?batch/s]"
     ]
    },
    {
     "name": "stdout",
     "output_type": "stream",
     "text": [
      "accuracy train: 0.606444 test: 0.554000\n",
      "\n",
      "Parameter containing:\n",
      "tensor([0., 0., 0., 0.], requires_grad=True)\n"
     ]
    },
    {
     "name": "stderr",
     "output_type": "stream",
     "text": [
      "epoch: 89: 100%|████████████████████████████████████████████████████████████████████| 50/50 [00:04<00:00, 12.47batch/s]\n"
     ]
    },
    {
     "name": "stdout",
     "output_type": "stream",
     "text": [
      "loss training: 2.285967\n"
     ]
    },
    {
     "name": "stderr",
     "output_type": "stream",
     "text": [
      "epoch: 90:   4%|██▊                                                                  | 2/50 [00:00<00:04, 11.94batch/s]"
     ]
    },
    {
     "name": "stdout",
     "output_type": "stream",
     "text": [
      "accuracy train: 0.572000 test: 0.556000\n",
      "\n",
      "Parameter containing:\n",
      "tensor([0., 0., 0., 0.], requires_grad=True)\n"
     ]
    },
    {
     "name": "stderr",
     "output_type": "stream",
     "text": [
      "epoch: 90: 100%|████████████████████████████████████████████████████████████████████| 50/50 [00:03<00:00, 12.87batch/s]\n"
     ]
    },
    {
     "name": "stdout",
     "output_type": "stream",
     "text": [
      "loss training: 1.215752\n"
     ]
    },
    {
     "name": "stderr",
     "output_type": "stream",
     "text": [
      "epoch: 91:   4%|██▊                                                                  | 2/50 [00:00<00:03, 13.74batch/s]"
     ]
    },
    {
     "name": "stdout",
     "output_type": "stream",
     "text": [
      "accuracy train: 0.609333 test: 0.596000\n",
      "\n",
      "Parameter containing:\n",
      "tensor([0., 0., 0., 0.], requires_grad=True)\n"
     ]
    },
    {
     "name": "stderr",
     "output_type": "stream",
     "text": [
      "epoch: 91: 100%|████████████████████████████████████████████████████████████████████| 50/50 [00:03<00:00, 13.00batch/s]\n"
     ]
    },
    {
     "name": "stdout",
     "output_type": "stream",
     "text": [
      "loss training: 0.920200\n"
     ]
    },
    {
     "name": "stderr",
     "output_type": "stream",
     "text": [
      "epoch: 92:   0%|                                                                             | 0/50 [00:00<?, ?batch/s]"
     ]
    },
    {
     "name": "stdout",
     "output_type": "stream",
     "text": [
      "accuracy train: 0.691333 test: 0.660000\n",
      "\n",
      "Parameter containing:\n",
      "tensor([0., 0., 0., 0.], requires_grad=True)\n"
     ]
    },
    {
     "name": "stderr",
     "output_type": "stream",
     "text": [
      "epoch: 92: 100%|████████████████████████████████████████████████████████████████████| 50/50 [00:03<00:00, 12.90batch/s]\n"
     ]
    },
    {
     "name": "stdout",
     "output_type": "stream",
     "text": [
      "loss training: 1.205023\n"
     ]
    },
    {
     "name": "stderr",
     "output_type": "stream",
     "text": [
      "epoch: 93:   4%|██▊                                                                  | 2/50 [00:00<00:03, 13.28batch/s]"
     ]
    },
    {
     "name": "stdout",
     "output_type": "stream",
     "text": [
      "accuracy train: 0.671111 test: 0.666000\n",
      "\n",
      "Parameter containing:\n",
      "tensor([0., 0., 0., 0.], requires_grad=True)\n"
     ]
    },
    {
     "name": "stderr",
     "output_type": "stream",
     "text": [
      "epoch: 93: 100%|████████████████████████████████████████████████████████████████████| 50/50 [00:03<00:00, 12.80batch/s]\n"
     ]
    },
    {
     "name": "stdout",
     "output_type": "stream",
     "text": [
      "loss training: 1.004982\n"
     ]
    },
    {
     "name": "stderr",
     "output_type": "stream",
     "text": [
      "epoch: 94:   4%|██▊                                                                  | 2/50 [00:00<00:03, 13.28batch/s]"
     ]
    },
    {
     "name": "stdout",
     "output_type": "stream",
     "text": [
      "accuracy train: 0.684444 test: 0.636000\n",
      "\n",
      "Parameter containing:\n",
      "tensor([0., 0., 0., 0.], requires_grad=True)\n"
     ]
    },
    {
     "name": "stderr",
     "output_type": "stream",
     "text": [
      "epoch: 94: 100%|████████████████████████████████████████████████████████████████████| 50/50 [00:03<00:00, 12.56batch/s]\n"
     ]
    },
    {
     "name": "stdout",
     "output_type": "stream",
     "text": [
      "loss training: 1.334576\n"
     ]
    },
    {
     "name": "stderr",
     "output_type": "stream",
     "text": [
      "epoch: 95:   2%|█▍                                                                   | 1/50 [00:00<00:05,  9.73batch/s]"
     ]
    },
    {
     "name": "stdout",
     "output_type": "stream",
     "text": [
      "accuracy train: 0.700889 test: 0.670000\n",
      "\n",
      "Parameter containing:\n",
      "tensor([0., 0., 0., 0.], requires_grad=True)\n"
     ]
    },
    {
     "name": "stderr",
     "output_type": "stream",
     "text": [
      "epoch: 95: 100%|████████████████████████████████████████████████████████████████████| 50/50 [00:03<00:00, 12.57batch/s]\n"
     ]
    },
    {
     "name": "stdout",
     "output_type": "stream",
     "text": [
      "loss training: 0.903587\n"
     ]
    },
    {
     "name": "stderr",
     "output_type": "stream",
     "text": [
      "epoch: 96:   2%|█▍                                                                   | 1/50 [00:00<00:05,  8.22batch/s]"
     ]
    },
    {
     "name": "stdout",
     "output_type": "stream",
     "text": [
      "accuracy train: 0.675778 test: 0.640000\n",
      "\n",
      "Parameter containing:\n",
      "tensor([0., 0., 0., 0.], requires_grad=True)\n"
     ]
    },
    {
     "name": "stderr",
     "output_type": "stream",
     "text": [
      "epoch: 96: 100%|████████████████████████████████████████████████████████████████████| 50/50 [00:03<00:00, 12.90batch/s]\n"
     ]
    },
    {
     "name": "stdout",
     "output_type": "stream",
     "text": [
      "loss training: 1.250327\n"
     ]
    },
    {
     "name": "stderr",
     "output_type": "stream",
     "text": [
      "epoch: 97:   0%|                                                                             | 0/50 [00:00<?, ?batch/s]"
     ]
    },
    {
     "name": "stdout",
     "output_type": "stream",
     "text": [
      "accuracy train: 0.697778 test: 0.674000\n",
      "\n",
      "Parameter containing:\n",
      "tensor([0., 0., 0., 0.], requires_grad=True)\n"
     ]
    },
    {
     "name": "stderr",
     "output_type": "stream",
     "text": [
      "epoch: 97: 100%|████████████████████████████████████████████████████████████████████| 50/50 [00:03<00:00, 13.01batch/s]\n"
     ]
    },
    {
     "name": "stdout",
     "output_type": "stream",
     "text": [
      "loss training: 0.887897\n"
     ]
    },
    {
     "name": "stderr",
     "output_type": "stream",
     "text": [
      "epoch: 98:   4%|██▊                                                                  | 2/50 [00:00<00:04, 11.66batch/s]"
     ]
    },
    {
     "name": "stdout",
     "output_type": "stream",
     "text": [
      "accuracy train: 0.687778 test: 0.656000\n",
      "\n",
      "Parameter containing:\n",
      "tensor([0., 0., 0., 0.], requires_grad=True)\n"
     ]
    },
    {
     "name": "stderr",
     "output_type": "stream",
     "text": [
      "epoch: 98: 100%|████████████████████████████████████████████████████████████████████| 50/50 [00:03<00:00, 12.82batch/s]\n"
     ]
    },
    {
     "name": "stdout",
     "output_type": "stream",
     "text": [
      "loss training: 1.166872\n"
     ]
    },
    {
     "name": "stderr",
     "output_type": "stream",
     "text": [
      "epoch: 99:   4%|██▊                                                                  | 2/50 [00:00<00:03, 12.01batch/s]"
     ]
    },
    {
     "name": "stdout",
     "output_type": "stream",
     "text": [
      "accuracy train: 0.596667 test: 0.562000\n",
      "\n",
      "Parameter containing:\n",
      "tensor([0., 0., 0., 0.], requires_grad=True)\n"
     ]
    },
    {
     "name": "stderr",
     "output_type": "stream",
     "text": [
      "epoch: 99: 100%|████████████████████████████████████████████████████████████████████| 50/50 [00:04<00:00, 12.29batch/s]\n"
     ]
    },
    {
     "name": "stdout",
     "output_type": "stream",
     "text": [
      "loss training: 1.215935\n"
     ]
    },
    {
     "name": "stderr",
     "output_type": "stream",
     "text": [
      "epoch: 100:   2%|█▎                                                                  | 1/50 [00:00<00:06,  7.11batch/s]"
     ]
    },
    {
     "name": "stdout",
     "output_type": "stream",
     "text": [
      "accuracy train: 0.682000 test: 0.664000\n",
      "\n",
      "Parameter containing:\n",
      "tensor([0., 0., 0., 0.], requires_grad=True)\n"
     ]
    },
    {
     "name": "stderr",
     "output_type": "stream",
     "text": [
      "epoch: 100: 100%|███████████████████████████████████████████████████████████████████| 50/50 [00:03<00:00, 13.70batch/s]\n"
     ]
    },
    {
     "name": "stdout",
     "output_type": "stream",
     "text": [
      "loss training: 0.965119\n"
     ]
    },
    {
     "name": "stderr",
     "output_type": "stream",
     "text": [
      "epoch: 101:   4%|██▋                                                                 | 2/50 [00:00<00:02, 16.30batch/s]"
     ]
    },
    {
     "name": "stdout",
     "output_type": "stream",
     "text": [
      "accuracy train: 0.608444 test: 0.582000\n",
      "\n",
      "Parameter containing:\n",
      "tensor([0., 0., 0., 0.], requires_grad=True)\n"
     ]
    },
    {
     "name": "stderr",
     "output_type": "stream",
     "text": [
      "epoch: 101: 100%|███████████████████████████████████████████████████████████████████| 50/50 [00:03<00:00, 13.18batch/s]\n"
     ]
    },
    {
     "name": "stdout",
     "output_type": "stream",
     "text": [
      "loss training: 0.887050\n"
     ]
    },
    {
     "name": "stderr",
     "output_type": "stream",
     "text": [
      "epoch: 102:   4%|██▋                                                                 | 2/50 [00:00<00:02, 16.57batch/s]"
     ]
    },
    {
     "name": "stdout",
     "output_type": "stream",
     "text": [
      "accuracy train: 0.700222 test: 0.696000\n",
      "\n",
      "Parameter containing:\n",
      "tensor([0., 0., 0., 0.], requires_grad=True)\n"
     ]
    },
    {
     "name": "stderr",
     "output_type": "stream",
     "text": [
      "epoch: 102: 100%|███████████████████████████████████████████████████████████████████| 50/50 [00:03<00:00, 12.95batch/s]\n"
     ]
    },
    {
     "name": "stdout",
     "output_type": "stream",
     "text": [
      "loss training: 1.772809\n"
     ]
    },
    {
     "name": "stderr",
     "output_type": "stream",
     "text": [
      "epoch: 103:   0%|                                                                            | 0/50 [00:00<?, ?batch/s]"
     ]
    },
    {
     "name": "stdout",
     "output_type": "stream",
     "text": [
      "accuracy train: 0.695111 test: 0.676000\n",
      "\n",
      "Parameter containing:\n",
      "tensor([0., 0., 0., 0.], requires_grad=True)\n"
     ]
    },
    {
     "name": "stderr",
     "output_type": "stream",
     "text": [
      "epoch: 103: 100%|███████████████████████████████████████████████████████████████████| 50/50 [00:03<00:00, 13.04batch/s]\n"
     ]
    },
    {
     "name": "stdout",
     "output_type": "stream",
     "text": [
      "loss training: 0.970353\n"
     ]
    },
    {
     "name": "stderr",
     "output_type": "stream",
     "text": [
      "epoch: 104:   2%|█▎                                                                  | 1/50 [00:00<00:05,  9.03batch/s]"
     ]
    },
    {
     "name": "stdout",
     "output_type": "stream",
     "text": [
      "accuracy train: 0.471556 test: 0.442000\n",
      "\n",
      "Parameter containing:\n",
      "tensor([0., 0., 0., 0.], requires_grad=True)\n"
     ]
    },
    {
     "name": "stderr",
     "output_type": "stream",
     "text": [
      "epoch: 104: 100%|███████████████████████████████████████████████████████████████████| 50/50 [00:04<00:00, 12.17batch/s]\n"
     ]
    },
    {
     "name": "stdout",
     "output_type": "stream",
     "text": [
      "loss training: 0.863616\n"
     ]
    },
    {
     "name": "stderr",
     "output_type": "stream",
     "text": [
      "epoch: 105:   4%|██▋                                                                 | 2/50 [00:00<00:03, 15.08batch/s]"
     ]
    },
    {
     "name": "stdout",
     "output_type": "stream",
     "text": [
      "accuracy train: 0.673333 test: 0.668000\n",
      "\n",
      "Parameter containing:\n",
      "tensor([0., 0., 0., 0.], requires_grad=True)\n"
     ]
    },
    {
     "name": "stderr",
     "output_type": "stream",
     "text": [
      "epoch: 105: 100%|███████████████████████████████████████████████████████████████████| 50/50 [00:03<00:00, 12.86batch/s]\n"
     ]
    },
    {
     "name": "stdout",
     "output_type": "stream",
     "text": [
      "loss training: 1.444015\n"
     ]
    },
    {
     "name": "stderr",
     "output_type": "stream",
     "text": [
      "epoch: 106:   4%|██▋                                                                 | 2/50 [00:00<00:03, 12.01batch/s]"
     ]
    },
    {
     "name": "stdout",
     "output_type": "stream",
     "text": [
      "accuracy train: 0.472444 test: 0.444000\n",
      "\n",
      "Parameter containing:\n",
      "tensor([0., 0., 0., 0.], requires_grad=True)\n"
     ]
    },
    {
     "name": "stderr",
     "output_type": "stream",
     "text": [
      "epoch: 106: 100%|███████████████████████████████████████████████████████████████████| 50/50 [00:03<00:00, 12.78batch/s]\n"
     ]
    },
    {
     "name": "stdout",
     "output_type": "stream",
     "text": [
      "loss training: 1.511277\n"
     ]
    },
    {
     "name": "stderr",
     "output_type": "stream",
     "text": [
      "epoch: 107:   4%|██▋                                                                 | 2/50 [00:00<00:03, 13.64batch/s]"
     ]
    },
    {
     "name": "stdout",
     "output_type": "stream",
     "text": [
      "accuracy train: 0.700889 test: 0.684000\n",
      "\n",
      "Parameter containing:\n",
      "tensor([0., 0., 0., 0.], requires_grad=True)\n"
     ]
    },
    {
     "name": "stderr",
     "output_type": "stream",
     "text": [
      "epoch: 107: 100%|███████████████████████████████████████████████████████████████████| 50/50 [00:03<00:00, 12.88batch/s]\n"
     ]
    },
    {
     "name": "stdout",
     "output_type": "stream",
     "text": [
      "loss training: 1.895520\n"
     ]
    },
    {
     "name": "stderr",
     "output_type": "stream",
     "text": [
      "epoch: 108:   4%|██▋                                                                 | 2/50 [00:00<00:03, 13.64batch/s]"
     ]
    },
    {
     "name": "stdout",
     "output_type": "stream",
     "text": [
      "accuracy train: 0.691778 test: 0.658000\n",
      "\n",
      "Parameter containing:\n",
      "tensor([0., 0., 0., 0.], requires_grad=True)\n"
     ]
    },
    {
     "name": "stderr",
     "output_type": "stream",
     "text": [
      "epoch: 108: 100%|███████████████████████████████████████████████████████████████████| 50/50 [00:03<00:00, 12.80batch/s]\n"
     ]
    },
    {
     "name": "stdout",
     "output_type": "stream",
     "text": [
      "loss training: 0.886188\n"
     ]
    },
    {
     "name": "stderr",
     "output_type": "stream",
     "text": [
      "epoch: 109:   4%|██▋                                                                 | 2/50 [00:00<00:03, 14.97batch/s]"
     ]
    },
    {
     "name": "stdout",
     "output_type": "stream",
     "text": [
      "accuracy train: 0.681333 test: 0.634000\n",
      "\n",
      "Parameter containing:\n",
      "tensor([0., 0., 0., 0.], requires_grad=True)\n"
     ]
    },
    {
     "name": "stderr",
     "output_type": "stream",
     "text": [
      "epoch: 109: 100%|███████████████████████████████████████████████████████████████████| 50/50 [00:03<00:00, 12.89batch/s]\n"
     ]
    },
    {
     "name": "stdout",
     "output_type": "stream",
     "text": [
      "loss training: 0.934593\n"
     ]
    },
    {
     "name": "stderr",
     "output_type": "stream",
     "text": [
      "epoch: 110:   4%|██▋                                                                 | 2/50 [00:00<00:04, 11.73batch/s]"
     ]
    },
    {
     "name": "stdout",
     "output_type": "stream",
     "text": [
      "accuracy train: 0.466444 test: 0.420000\n",
      "\n",
      "Parameter containing:\n",
      "tensor([0., 0., 0., 0.], requires_grad=True)\n"
     ]
    },
    {
     "name": "stderr",
     "output_type": "stream",
     "text": [
      "epoch: 110: 100%|███████████████████████████████████████████████████████████████████| 50/50 [00:04<00:00, 12.02batch/s]\n"
     ]
    },
    {
     "name": "stdout",
     "output_type": "stream",
     "text": [
      "loss training: 13.481379\n"
     ]
    },
    {
     "name": "stderr",
     "output_type": "stream",
     "text": [
      "epoch: 111:   4%|██▋                                                                 | 2/50 [00:00<00:03, 14.32batch/s]"
     ]
    },
    {
     "name": "stdout",
     "output_type": "stream",
     "text": [
      "accuracy train: 0.637111 test: 0.644000\n",
      "\n",
      "Parameter containing:\n",
      "tensor([0., 0., 0., 0.], requires_grad=True)\n"
     ]
    },
    {
     "name": "stderr",
     "output_type": "stream",
     "text": [
      "epoch: 111: 100%|███████████████████████████████████████████████████████████████████| 50/50 [00:03<00:00, 13.50batch/s]\n"
     ]
    },
    {
     "name": "stdout",
     "output_type": "stream",
     "text": [
      "loss training: 11.475092\n"
     ]
    },
    {
     "name": "stderr",
     "output_type": "stream",
     "text": [
      "epoch: 112:   4%|██▋                                                                 | 2/50 [00:00<00:03, 13.19batch/s]"
     ]
    },
    {
     "name": "stdout",
     "output_type": "stream",
     "text": [
      "accuracy train: 0.656444 test: 0.660000\n",
      "\n",
      "Parameter containing:\n",
      "tensor([0., 0., 0., 0.], requires_grad=True)\n"
     ]
    },
    {
     "name": "stderr",
     "output_type": "stream",
     "text": [
      "epoch: 112: 100%|███████████████████████████████████████████████████████████████████| 50/50 [00:03<00:00, 12.73batch/s]\n"
     ]
    },
    {
     "name": "stdout",
     "output_type": "stream",
     "text": [
      "loss training: 3.508171\n"
     ]
    },
    {
     "name": "stderr",
     "output_type": "stream",
     "text": [
      "epoch: 113:   4%|██▋                                                                 | 2/50 [00:00<00:03, 12.30batch/s]"
     ]
    },
    {
     "name": "stdout",
     "output_type": "stream",
     "text": [
      "accuracy train: 0.699111 test: 0.684000\n",
      "\n",
      "Parameter containing:\n",
      "tensor([0., 0., 0., 0.], requires_grad=True)\n"
     ]
    },
    {
     "name": "stderr",
     "output_type": "stream",
     "text": [
      "epoch: 113: 100%|███████████████████████████████████████████████████████████████████| 50/50 [00:03<00:00, 13.25batch/s]\n"
     ]
    },
    {
     "name": "stdout",
     "output_type": "stream",
     "text": [
      "loss training: 5.959327\n"
     ]
    },
    {
     "name": "stderr",
     "output_type": "stream",
     "text": [
      "epoch: 114:   4%|██▋                                                                 | 2/50 [00:00<00:03, 13.83batch/s]"
     ]
    },
    {
     "name": "stdout",
     "output_type": "stream",
     "text": [
      "accuracy train: 0.639778 test: 0.612000\n",
      "\n",
      "Parameter containing:\n",
      "tensor([0., 0., 0., 0.], requires_grad=True)\n"
     ]
    },
    {
     "name": "stderr",
     "output_type": "stream",
     "text": [
      "epoch: 114: 100%|███████████████████████████████████████████████████████████████████| 50/50 [00:04<00:00, 12.39batch/s]\n"
     ]
    },
    {
     "name": "stdout",
     "output_type": "stream",
     "text": [
      "loss training: 1.258606\n"
     ]
    },
    {
     "name": "stderr",
     "output_type": "stream",
     "text": [
      "epoch: 115:   4%|██▋                                                                 | 2/50 [00:00<00:03, 12.08batch/s]"
     ]
    },
    {
     "name": "stdout",
     "output_type": "stream",
     "text": [
      "accuracy train: 0.659111 test: 0.648000\n",
      "\n",
      "Parameter containing:\n",
      "tensor([0., 0., 0., 0.], requires_grad=True)\n"
     ]
    },
    {
     "name": "stderr",
     "output_type": "stream",
     "text": [
      "epoch: 115: 100%|███████████████████████████████████████████████████████████████████| 50/50 [00:04<00:00, 12.45batch/s]\n"
     ]
    },
    {
     "name": "stdout",
     "output_type": "stream",
     "text": [
      "loss training: 1.108889\n"
     ]
    },
    {
     "name": "stderr",
     "output_type": "stream",
     "text": [
      "epoch: 116:   2%|█▎                                                                  | 1/50 [00:00<00:06,  7.65batch/s]"
     ]
    },
    {
     "name": "stdout",
     "output_type": "stream",
     "text": [
      "accuracy train: 0.661778 test: 0.652000\n",
      "\n",
      "Parameter containing:\n",
      "tensor([0., 0., 0., 0.], requires_grad=True)\n"
     ]
    },
    {
     "name": "stderr",
     "output_type": "stream",
     "text": [
      "epoch: 116: 100%|███████████████████████████████████████████████████████████████████| 50/50 [00:04<00:00, 12.13batch/s]\n"
     ]
    },
    {
     "name": "stdout",
     "output_type": "stream",
     "text": [
      "loss training: 1.047518\n"
     ]
    },
    {
     "name": "stderr",
     "output_type": "stream",
     "text": [
      "epoch: 117:   4%|██▋                                                                 | 2/50 [00:00<00:03, 14.22batch/s]"
     ]
    },
    {
     "name": "stdout",
     "output_type": "stream",
     "text": [
      "accuracy train: 0.596444 test: 0.596000\n",
      "\n",
      "Parameter containing:\n",
      "tensor([0., 0., 0., 0.], requires_grad=True)\n"
     ]
    },
    {
     "name": "stderr",
     "output_type": "stream",
     "text": [
      "epoch: 117: 100%|███████████████████████████████████████████████████████████████████| 50/50 [00:04<00:00, 12.23batch/s]\n"
     ]
    },
    {
     "name": "stdout",
     "output_type": "stream",
     "text": [
      "loss training: 1.427209\n"
     ]
    },
    {
     "name": "stderr",
     "output_type": "stream",
     "text": [
      "epoch: 118:   0%|                                                                            | 0/50 [00:00<?, ?batch/s]"
     ]
    },
    {
     "name": "stdout",
     "output_type": "stream",
     "text": [
      "accuracy train: 0.620667 test: 0.614000\n",
      "\n",
      "Parameter containing:\n",
      "tensor([0., 0., 0., 0.], requires_grad=True)\n"
     ]
    },
    {
     "name": "stderr",
     "output_type": "stream",
     "text": [
      "epoch: 118: 100%|███████████████████████████████████████████████████████████████████| 50/50 [00:03<00:00, 12.59batch/s]\n"
     ]
    },
    {
     "name": "stdout",
     "output_type": "stream",
     "text": [
      "loss training: 0.885016\n"
     ]
    },
    {
     "name": "stderr",
     "output_type": "stream",
     "text": [
      "epoch: 119:   2%|█▎                                                                  | 1/50 [00:00<00:04,  9.93batch/s]"
     ]
    },
    {
     "name": "stdout",
     "output_type": "stream",
     "text": [
      "accuracy train: 0.682000 test: 0.664000\n",
      "\n",
      "Parameter containing:\n",
      "tensor([0., 0., 0., 0.], requires_grad=True)\n"
     ]
    },
    {
     "name": "stderr",
     "output_type": "stream",
     "text": [
      "epoch: 119: 100%|███████████████████████████████████████████████████████████████████| 50/50 [00:04<00:00, 12.22batch/s]\n"
     ]
    },
    {
     "name": "stdout",
     "output_type": "stream",
     "text": [
      "loss training: 1.257902\n"
     ]
    },
    {
     "name": "stderr",
     "output_type": "stream",
     "text": [
      "epoch: 120:   4%|██▋                                                                 | 2/50 [00:00<00:04, 11.73batch/s]"
     ]
    },
    {
     "name": "stdout",
     "output_type": "stream",
     "text": [
      "accuracy train: 0.659333 test: 0.630000\n",
      "\n",
      "Parameter containing:\n",
      "tensor([0., 0., 0., 0.], requires_grad=True)\n"
     ]
    },
    {
     "name": "stderr",
     "output_type": "stream",
     "text": [
      "epoch: 120: 100%|███████████████████████████████████████████████████████████████████| 50/50 [00:03<00:00, 12.73batch/s]\n"
     ]
    },
    {
     "name": "stdout",
     "output_type": "stream",
     "text": [
      "loss training: 0.860883\n"
     ]
    },
    {
     "name": "stderr",
     "output_type": "stream",
     "text": [
      "epoch: 121:   4%|██▋                                                                 | 2/50 [00:00<00:03, 15.92batch/s]"
     ]
    },
    {
     "name": "stdout",
     "output_type": "stream",
     "text": [
      "accuracy train: 0.684444 test: 0.664000\n",
      "\n",
      "Parameter containing:\n",
      "tensor([0., 0., 0., 0.], requires_grad=True)\n"
     ]
    },
    {
     "name": "stderr",
     "output_type": "stream",
     "text": [
      "epoch: 121: 100%|███████████████████████████████████████████████████████████████████| 50/50 [00:04<00:00, 11.91batch/s]\n"
     ]
    },
    {
     "name": "stdout",
     "output_type": "stream",
     "text": [
      "loss training: 0.882136\n"
     ]
    },
    {
     "name": "stderr",
     "output_type": "stream",
     "text": [
      "epoch: 122:   2%|█▎                                                                  | 1/50 [00:00<00:05,  9.03batch/s]"
     ]
    },
    {
     "name": "stdout",
     "output_type": "stream",
     "text": [
      "accuracy train: 0.659333 test: 0.640000\n",
      "\n",
      "Parameter containing:\n",
      "tensor([0., 0., 0., 0.], requires_grad=True)\n"
     ]
    },
    {
     "name": "stderr",
     "output_type": "stream",
     "text": [
      "epoch: 122: 100%|███████████████████████████████████████████████████████████████████| 50/50 [00:03<00:00, 12.81batch/s]\n"
     ]
    },
    {
     "name": "stdout",
     "output_type": "stream",
     "text": [
      "loss training: 1.876145\n"
     ]
    },
    {
     "name": "stderr",
     "output_type": "stream",
     "text": [
      "epoch: 123:   4%|██▋                                                                 | 2/50 [00:00<00:04, 11.80batch/s]"
     ]
    },
    {
     "name": "stdout",
     "output_type": "stream",
     "text": [
      "accuracy train: 0.702889 test: 0.694000\n",
      "\n",
      "Parameter containing:\n",
      "tensor([0., 0., 0., 0.], requires_grad=True)\n"
     ]
    },
    {
     "name": "stderr",
     "output_type": "stream",
     "text": [
      "epoch: 123: 100%|███████████████████████████████████████████████████████████████████| 50/50 [00:04<00:00, 12.37batch/s]\n"
     ]
    },
    {
     "name": "stdout",
     "output_type": "stream",
     "text": [
      "loss training: 0.869562\n"
     ]
    },
    {
     "name": "stderr",
     "output_type": "stream",
     "text": [
      "epoch: 124:   4%|██▋                                                                 | 2/50 [00:00<00:03, 13.46batch/s]"
     ]
    },
    {
     "name": "stdout",
     "output_type": "stream",
     "text": [
      "accuracy train: 0.670667 test: 0.630000\n",
      "\n",
      "Parameter containing:\n",
      "tensor([0., 0., 0., 0.], requires_grad=True)\n"
     ]
    },
    {
     "name": "stderr",
     "output_type": "stream",
     "text": [
      "epoch: 124: 100%|███████████████████████████████████████████████████████████████████| 50/50 [00:04<00:00, 12.48batch/s]\n"
     ]
    },
    {
     "name": "stdout",
     "output_type": "stream",
     "text": [
      "loss training: 1.195355\n"
     ]
    },
    {
     "name": "stderr",
     "output_type": "stream",
     "text": [
      "epoch: 125:   2%|█▎                                                                  | 1/50 [00:00<00:05,  9.12batch/s]"
     ]
    },
    {
     "name": "stdout",
     "output_type": "stream",
     "text": [
      "accuracy train: 0.647111 test: 0.618000\n",
      "\n",
      "Parameter containing:\n",
      "tensor([0., 0., 0., 0.], requires_grad=True)\n"
     ]
    },
    {
     "name": "stderr",
     "output_type": "stream",
     "text": [
      "epoch: 125: 100%|███████████████████████████████████████████████████████████████████| 50/50 [00:03<00:00, 12.63batch/s]\n"
     ]
    },
    {
     "name": "stdout",
     "output_type": "stream",
     "text": [
      "loss training: 0.863496\n"
     ]
    },
    {
     "name": "stderr",
     "output_type": "stream",
     "text": [
      "epoch: 126:   2%|█▎                                                                  | 1/50 [00:00<00:06,  7.54batch/s]"
     ]
    },
    {
     "name": "stdout",
     "output_type": "stream",
     "text": [
      "accuracy train: 0.625778 test: 0.608000\n",
      "\n",
      "Parameter containing:\n",
      "tensor([0., 0., 0., 0.], requires_grad=True)\n"
     ]
    },
    {
     "name": "stderr",
     "output_type": "stream",
     "text": [
      "epoch: 126: 100%|███████████████████████████████████████████████████████████████████| 50/50 [00:04<00:00, 12.34batch/s]\n"
     ]
    },
    {
     "name": "stdout",
     "output_type": "stream",
     "text": [
      "loss training: 0.834745\n"
     ]
    },
    {
     "name": "stderr",
     "output_type": "stream",
     "text": [
      "epoch: 127:   4%|██▋                                                                 | 2/50 [00:00<00:04, 11.39batch/s]"
     ]
    },
    {
     "name": "stdout",
     "output_type": "stream",
     "text": [
      "accuracy train: 0.666222 test: 0.652000\n",
      "\n",
      "Parameter containing:\n",
      "tensor([0., 0., 0., 0.], requires_grad=True)\n"
     ]
    },
    {
     "name": "stderr",
     "output_type": "stream",
     "text": [
      "epoch: 127: 100%|███████████████████████████████████████████████████████████████████| 50/50 [00:03<00:00, 12.91batch/s]\n"
     ]
    },
    {
     "name": "stdout",
     "output_type": "stream",
     "text": [
      "loss training: 0.881427\n"
     ]
    },
    {
     "name": "stderr",
     "output_type": "stream",
     "text": [
      "epoch: 128:   2%|█▎                                                                  | 1/50 [00:00<00:06,  7.37batch/s]"
     ]
    },
    {
     "name": "stdout",
     "output_type": "stream",
     "text": [
      "accuracy train: 0.650667 test: 0.616000\n",
      "\n",
      "Parameter containing:\n",
      "tensor([0., 0., 0., 0.], requires_grad=True)\n"
     ]
    },
    {
     "name": "stderr",
     "output_type": "stream",
     "text": [
      "epoch: 128: 100%|███████████████████████████████████████████████████████████████████| 50/50 [00:03<00:00, 13.16batch/s]\n"
     ]
    },
    {
     "name": "stdout",
     "output_type": "stream",
     "text": [
      "loss training: 0.870099\n"
     ]
    },
    {
     "name": "stderr",
     "output_type": "stream",
     "text": [
      "epoch: 129:   4%|██▋                                                                 | 2/50 [00:00<00:03, 14.12batch/s]"
     ]
    },
    {
     "name": "stdout",
     "output_type": "stream",
     "text": [
      "accuracy train: 0.683111 test: 0.644000\n",
      "\n",
      "Parameter containing:\n",
      "tensor([0., 0., 0., 0.], requires_grad=True)\n"
     ]
    },
    {
     "name": "stderr",
     "output_type": "stream",
     "text": [
      "epoch: 129: 100%|███████████████████████████████████████████████████████████████████| 50/50 [00:03<00:00, 13.47batch/s]\n"
     ]
    },
    {
     "name": "stdout",
     "output_type": "stream",
     "text": [
      "loss training: 0.976789\n"
     ]
    },
    {
     "name": "stderr",
     "output_type": "stream",
     "text": [
      "epoch: 130:   4%|██▋                                                                 | 2/50 [00:00<00:03, 14.64batch/s]"
     ]
    },
    {
     "name": "stdout",
     "output_type": "stream",
     "text": [
      "accuracy train: 0.680444 test: 0.648000\n",
      "\n",
      "Parameter containing:\n",
      "tensor([0., 0., 0., 0.], requires_grad=True)\n"
     ]
    },
    {
     "name": "stderr",
     "output_type": "stream",
     "text": [
      "epoch: 130: 100%|███████████████████████████████████████████████████████████████████| 50/50 [00:03<00:00, 12.91batch/s]\n"
     ]
    },
    {
     "name": "stdout",
     "output_type": "stream",
     "text": [
      "loss training: 0.868346\n"
     ]
    },
    {
     "name": "stderr",
     "output_type": "stream",
     "text": [
      "epoch: 131:   2%|█▎                                                                  | 1/50 [00:00<00:05,  9.28batch/s]"
     ]
    },
    {
     "name": "stdout",
     "output_type": "stream",
     "text": [
      "accuracy train: 0.690444 test: 0.646000\n",
      "\n",
      "Parameter containing:\n",
      "tensor([0., 0., 0., 0.], requires_grad=True)\n"
     ]
    },
    {
     "name": "stderr",
     "output_type": "stream",
     "text": [
      "epoch: 131: 100%|███████████████████████████████████████████████████████████████████| 50/50 [00:03<00:00, 12.94batch/s]\n"
     ]
    },
    {
     "name": "stdout",
     "output_type": "stream",
     "text": [
      "loss training: 0.905106\n"
     ]
    },
    {
     "name": "stderr",
     "output_type": "stream",
     "text": [
      "epoch: 132:   2%|█▎                                                                  | 1/50 [00:00<00:05,  9.03batch/s]"
     ]
    },
    {
     "name": "stdout",
     "output_type": "stream",
     "text": [
      "accuracy train: 0.698444 test: 0.652000\n",
      "\n",
      "Parameter containing:\n",
      "tensor([0., 0., 0., 0.], requires_grad=True)\n"
     ]
    },
    {
     "name": "stderr",
     "output_type": "stream",
     "text": [
      "epoch: 132: 100%|███████████████████████████████████████████████████████████████████| 50/50 [00:03<00:00, 13.20batch/s]\n"
     ]
    },
    {
     "name": "stdout",
     "output_type": "stream",
     "text": [
      "loss training: 0.821313\n"
     ]
    },
    {
     "name": "stderr",
     "output_type": "stream",
     "text": [
      "epoch: 133:   4%|██▋                                                                 | 2/50 [00:00<00:03, 12.69batch/s]"
     ]
    },
    {
     "name": "stdout",
     "output_type": "stream",
     "text": [
      "accuracy train: 0.681778 test: 0.644000\n",
      "\n",
      "Parameter containing:\n",
      "tensor([0., 0., 0., 0.], requires_grad=True)\n"
     ]
    },
    {
     "name": "stderr",
     "output_type": "stream",
     "text": [
      "epoch: 133: 100%|███████████████████████████████████████████████████████████████████| 50/50 [00:03<00:00, 12.71batch/s]\n"
     ]
    },
    {
     "name": "stdout",
     "output_type": "stream",
     "text": [
      "loss training: 1.426064\n"
     ]
    },
    {
     "name": "stderr",
     "output_type": "stream",
     "text": [
      "epoch: 134:   4%|██▋                                                                 | 2/50 [00:00<00:03, 12.15batch/s]"
     ]
    },
    {
     "name": "stdout",
     "output_type": "stream",
     "text": [
      "accuracy train: 0.594889 test: 0.590000\n",
      "\n",
      "Parameter containing:\n",
      "tensor([0., 0., 0., 0.], requires_grad=True)\n"
     ]
    },
    {
     "name": "stderr",
     "output_type": "stream",
     "text": [
      "epoch: 134: 100%|███████████████████████████████████████████████████████████████████| 50/50 [00:03<00:00, 12.76batch/s]\n"
     ]
    },
    {
     "name": "stdout",
     "output_type": "stream",
     "text": [
      "loss training: 0.902886\n"
     ]
    },
    {
     "name": "stderr",
     "output_type": "stream",
     "text": [
      "epoch: 135:   0%|                                                                            | 0/50 [00:00<?, ?batch/s]"
     ]
    },
    {
     "name": "stdout",
     "output_type": "stream",
     "text": [
      "accuracy train: 0.666222 test: 0.652000\n",
      "\n",
      "Parameter containing:\n",
      "tensor([0., 0., 0., 0.], requires_grad=True)\n"
     ]
    },
    {
     "name": "stderr",
     "output_type": "stream",
     "text": [
      "epoch: 135: 100%|███████████████████████████████████████████████████████████████████| 50/50 [00:03<00:00, 12.84batch/s]\n"
     ]
    },
    {
     "name": "stdout",
     "output_type": "stream",
     "text": [
      "loss training: 1.500224\n"
     ]
    },
    {
     "name": "stderr",
     "output_type": "stream",
     "text": [
      "epoch: 136:   0%|                                                                            | 0/50 [00:00<?, ?batch/s]"
     ]
    },
    {
     "name": "stdout",
     "output_type": "stream",
     "text": [
      "accuracy train: 0.674889 test: 0.658000\n",
      "\n",
      "Parameter containing:\n",
      "tensor([0., 0., 0., 0.], requires_grad=True)\n"
     ]
    },
    {
     "name": "stderr",
     "output_type": "stream",
     "text": [
      "epoch: 136: 100%|███████████████████████████████████████████████████████████████████| 50/50 [00:04<00:00, 12.45batch/s]\n"
     ]
    },
    {
     "name": "stdout",
     "output_type": "stream",
     "text": [
      "loss training: 0.988318\n"
     ]
    },
    {
     "name": "stderr",
     "output_type": "stream",
     "text": [
      "epoch: 137:   0%|                                                                            | 0/50 [00:00<?, ?batch/s]"
     ]
    },
    {
     "name": "stdout",
     "output_type": "stream",
     "text": [
      "accuracy train: 0.696444 test: 0.666000\n",
      "\n",
      "Parameter containing:\n",
      "tensor([0., 0., 0., 0.], requires_grad=True)\n"
     ]
    },
    {
     "name": "stderr",
     "output_type": "stream",
     "text": [
      "epoch: 137: 100%|███████████████████████████████████████████████████████████████████| 50/50 [00:04<00:00, 11.36batch/s]\n"
     ]
    },
    {
     "name": "stdout",
     "output_type": "stream",
     "text": [
      "loss training: 0.856730\n"
     ]
    },
    {
     "name": "stderr",
     "output_type": "stream",
     "text": [
      "epoch: 138:   0%|                                                                            | 0/50 [00:00<?, ?batch/s]"
     ]
    },
    {
     "name": "stdout",
     "output_type": "stream",
     "text": [
      "accuracy train: 0.684000 test: 0.660000\n",
      "\n",
      "Parameter containing:\n",
      "tensor([0., 0., 0., 0.], requires_grad=True)\n"
     ]
    },
    {
     "name": "stderr",
     "output_type": "stream",
     "text": [
      "epoch: 138: 100%|███████████████████████████████████████████████████████████████████| 50/50 [00:04<00:00, 11.41batch/s]\n"
     ]
    },
    {
     "name": "stdout",
     "output_type": "stream",
     "text": [
      "loss training: 0.843994\n"
     ]
    },
    {
     "name": "stderr",
     "output_type": "stream",
     "text": [
      "epoch: 139:   4%|██▋                                                                 | 2/50 [00:00<00:03, 12.15batch/s]"
     ]
    },
    {
     "name": "stdout",
     "output_type": "stream",
     "text": [
      "accuracy train: 0.670000 test: 0.604000\n",
      "\n",
      "Parameter containing:\n",
      "tensor([0., 0., 0., 0.], requires_grad=True)\n"
     ]
    },
    {
     "name": "stderr",
     "output_type": "stream",
     "text": [
      "epoch: 139: 100%|███████████████████████████████████████████████████████████████████| 50/50 [00:03<00:00, 12.91batch/s]\n"
     ]
    },
    {
     "name": "stdout",
     "output_type": "stream",
     "text": [
      "loss training: 0.837450\n"
     ]
    },
    {
     "name": "stderr",
     "output_type": "stream",
     "text": [
      "epoch: 140:   4%|██▋                                                                 | 2/50 [00:00<00:02, 17.29batch/s]"
     ]
    },
    {
     "name": "stdout",
     "output_type": "stream",
     "text": [
      "accuracy train: 0.652222 test: 0.610000\n",
      "\n",
      "Parameter containing:\n",
      "tensor([0., 0., 0., 0.], requires_grad=True)\n"
     ]
    },
    {
     "name": "stderr",
     "output_type": "stream",
     "text": [
      "epoch: 140: 100%|███████████████████████████████████████████████████████████████████| 50/50 [00:03<00:00, 13.62batch/s]\n"
     ]
    },
    {
     "name": "stdout",
     "output_type": "stream",
     "text": [
      "loss training: 1.031993\n"
     ]
    },
    {
     "name": "stderr",
     "output_type": "stream",
     "text": [
      "epoch: 141:   4%|██▋                                                                 | 2/50 [00:00<00:02, 17.90batch/s]"
     ]
    },
    {
     "name": "stdout",
     "output_type": "stream",
     "text": [
      "accuracy train: 0.656667 test: 0.624000\n",
      "\n",
      "Parameter containing:\n",
      "tensor([0., 0., 0., 0.], requires_grad=True)\n"
     ]
    },
    {
     "name": "stderr",
     "output_type": "stream",
     "text": [
      "epoch: 141: 100%|███████████████████████████████████████████████████████████████████| 50/50 [00:03<00:00, 13.23batch/s]\n"
     ]
    },
    {
     "name": "stdout",
     "output_type": "stream",
     "text": [
      "loss training: 1.480441\n"
     ]
    },
    {
     "name": "stderr",
     "output_type": "stream",
     "text": [
      "epoch: 142:   2%|█▎                                                                  | 1/50 [00:00<00:05,  9.64batch/s]"
     ]
    },
    {
     "name": "stdout",
     "output_type": "stream",
     "text": [
      "accuracy train: 0.623333 test: 0.582000\n",
      "\n",
      "Parameter containing:\n",
      "tensor([0., 0., 0., 0.], requires_grad=True)\n"
     ]
    },
    {
     "name": "stderr",
     "output_type": "stream",
     "text": [
      "epoch: 142: 100%|███████████████████████████████████████████████████████████████████| 50/50 [00:03<00:00, 12.89batch/s]\n"
     ]
    },
    {
     "name": "stdout",
     "output_type": "stream",
     "text": [
      "loss training: 1.091916\n"
     ]
    },
    {
     "name": "stderr",
     "output_type": "stream",
     "text": [
      "epoch: 143:   0%|                                                                            | 0/50 [00:00<?, ?batch/s]"
     ]
    },
    {
     "name": "stdout",
     "output_type": "stream",
     "text": [
      "accuracy train: 0.703111 test: 0.688000\n",
      "\n",
      "Parameter containing:\n",
      "tensor([0., 0., 0., 0.], requires_grad=True)\n"
     ]
    },
    {
     "name": "stderr",
     "output_type": "stream",
     "text": [
      "epoch: 143: 100%|███████████████████████████████████████████████████████████████████| 50/50 [00:03<00:00, 12.90batch/s]\n"
     ]
    },
    {
     "name": "stdout",
     "output_type": "stream",
     "text": [
      "loss training: 0.827290\n"
     ]
    },
    {
     "name": "stderr",
     "output_type": "stream",
     "text": [
      "epoch: 144:   4%|██▋                                                                 | 2/50 [00:00<00:02, 16.99batch/s]"
     ]
    },
    {
     "name": "stdout",
     "output_type": "stream",
     "text": [
      "accuracy train: 0.701111 test: 0.660000\n",
      "\n",
      "Parameter containing:\n",
      "tensor([0., 0., 0., 0.], requires_grad=True)\n"
     ]
    },
    {
     "name": "stderr",
     "output_type": "stream",
     "text": [
      "epoch: 144: 100%|███████████████████████████████████████████████████████████████████| 50/50 [00:03<00:00, 12.87batch/s]\n"
     ]
    },
    {
     "name": "stdout",
     "output_type": "stream",
     "text": [
      "loss training: 0.879276\n"
     ]
    },
    {
     "name": "stderr",
     "output_type": "stream",
     "text": [
      "epoch: 145:   4%|██▋                                                                 | 2/50 [00:00<00:03, 14.85batch/s]"
     ]
    },
    {
     "name": "stdout",
     "output_type": "stream",
     "text": [
      "accuracy train: 0.582889 test: 0.576000\n",
      "\n",
      "Parameter containing:\n",
      "tensor([0., 0., 0., 0.], requires_grad=True)\n"
     ]
    },
    {
     "name": "stderr",
     "output_type": "stream",
     "text": [
      "epoch: 145: 100%|███████████████████████████████████████████████████████████████████| 50/50 [00:03<00:00, 12.87batch/s]\n"
     ]
    },
    {
     "name": "stdout",
     "output_type": "stream",
     "text": [
      "loss training: 0.976501\n"
     ]
    },
    {
     "name": "stderr",
     "output_type": "stream",
     "text": [
      "epoch: 146:   4%|██▋                                                                 | 2/50 [00:00<00:03, 13.02batch/s]"
     ]
    },
    {
     "name": "stdout",
     "output_type": "stream",
     "text": [
      "accuracy train: 0.700222 test: 0.672000\n",
      "\n",
      "Parameter containing:\n",
      "tensor([0., 0., 0., 0.], requires_grad=True)\n"
     ]
    },
    {
     "name": "stderr",
     "output_type": "stream",
     "text": [
      "epoch: 146: 100%|███████████████████████████████████████████████████████████████████| 50/50 [00:03<00:00, 12.76batch/s]\n"
     ]
    },
    {
     "name": "stdout",
     "output_type": "stream",
     "text": [
      "loss training: 0.872650\n"
     ]
    },
    {
     "name": "stderr",
     "output_type": "stream",
     "text": [
      "epoch: 147:   4%|██▋                                                                 | 2/50 [00:00<00:03, 12.30batch/s]"
     ]
    },
    {
     "name": "stdout",
     "output_type": "stream",
     "text": [
      "accuracy train: 0.658222 test: 0.614000\n",
      "\n",
      "Parameter containing:\n",
      "tensor([0., 0., 0., 0.], requires_grad=True)\n"
     ]
    },
    {
     "name": "stderr",
     "output_type": "stream",
     "text": [
      "epoch: 147: 100%|███████████████████████████████████████████████████████████████████| 50/50 [00:04<00:00, 12.25batch/s]\n"
     ]
    },
    {
     "name": "stdout",
     "output_type": "stream",
     "text": [
      "loss training: 1.052658\n"
     ]
    },
    {
     "name": "stderr",
     "output_type": "stream",
     "text": [
      "epoch: 148:   4%|██▋                                                                 | 2/50 [00:00<00:03, 13.74batch/s]"
     ]
    },
    {
     "name": "stdout",
     "output_type": "stream",
     "text": [
      "accuracy train: 0.682222 test: 0.630000\n",
      "\n",
      "Parameter containing:\n",
      "tensor([0., 0., 0., 0.], requires_grad=True)\n"
     ]
    },
    {
     "name": "stderr",
     "output_type": "stream",
     "text": [
      "epoch: 148: 100%|███████████████████████████████████████████████████████████████████| 50/50 [00:04<00:00, 12.49batch/s]\n"
     ]
    },
    {
     "name": "stdout",
     "output_type": "stream",
     "text": [
      "loss training: 0.903203\n"
     ]
    },
    {
     "name": "stderr",
     "output_type": "stream",
     "text": [
      "epoch: 149:   4%|██▋                                                                 | 2/50 [00:00<00:03, 13.64batch/s]"
     ]
    },
    {
     "name": "stdout",
     "output_type": "stream",
     "text": [
      "accuracy train: 0.604667 test: 0.550000\n",
      "\n",
      "Parameter containing:\n",
      "tensor([0., 0., 0., 0.], requires_grad=True)\n"
     ]
    },
    {
     "name": "stderr",
     "output_type": "stream",
     "text": [
      "epoch: 149: 100%|███████████████████████████████████████████████████████████████████| 50/50 [00:04<00:00, 12.31batch/s]\n"
     ]
    },
    {
     "name": "stdout",
     "output_type": "stream",
     "text": [
      "loss training: 0.841590\n"
     ]
    },
    {
     "name": "stderr",
     "output_type": "stream",
     "text": [
      "epoch: 150:   4%|██▋                                                                 | 2/50 [00:00<00:03, 13.46batch/s]"
     ]
    },
    {
     "name": "stdout",
     "output_type": "stream",
     "text": [
      "accuracy train: 0.648889 test: 0.620000\n",
      "\n",
      "Parameter containing:\n",
      "tensor([0., 0., 0., 0.], requires_grad=True)\n"
     ]
    },
    {
     "name": "stderr",
     "output_type": "stream",
     "text": [
      "epoch: 150: 100%|███████████████████████████████████████████████████████████████████| 50/50 [00:04<00:00, 11.96batch/s]\n"
     ]
    },
    {
     "name": "stdout",
     "output_type": "stream",
     "text": [
      "loss training: 0.851512\n"
     ]
    },
    {
     "name": "stderr",
     "output_type": "stream",
     "text": [
      "epoch: 151:   0%|                                                                            | 0/50 [00:00<?, ?batch/s]"
     ]
    },
    {
     "name": "stdout",
     "output_type": "stream",
     "text": [
      "accuracy train: 0.705556 test: 0.698000\n",
      "\n",
      "Parameter containing:\n",
      "tensor([0., 0., 0., 0.], requires_grad=True)\n"
     ]
    },
    {
     "name": "stderr",
     "output_type": "stream",
     "text": [
      "epoch: 151: 100%|███████████████████████████████████████████████████████████████████| 50/50 [00:04<00:00, 12.47batch/s]\n"
     ]
    },
    {
     "name": "stdout",
     "output_type": "stream",
     "text": [
      "loss training: 0.815324\n"
     ]
    },
    {
     "name": "stderr",
     "output_type": "stream",
     "text": [
      "epoch: 152:   4%|██▋                                                                 | 2/50 [00:00<00:03, 12.30batch/s]"
     ]
    },
    {
     "name": "stdout",
     "output_type": "stream",
     "text": [
      "accuracy train: 0.683778 test: 0.640000\n",
      "\n",
      "Parameter containing:\n",
      "tensor([0., 0., 0., 0.], requires_grad=True)\n"
     ]
    },
    {
     "name": "stderr",
     "output_type": "stream",
     "text": [
      "epoch: 152: 100%|███████████████████████████████████████████████████████████████████| 50/50 [00:03<00:00, 12.77batch/s]\n"
     ]
    },
    {
     "name": "stdout",
     "output_type": "stream",
     "text": [
      "loss training: 0.803692\n"
     ]
    },
    {
     "name": "stderr",
     "output_type": "stream",
     "text": [
      "epoch: 153:   4%|██▋                                                                 | 2/50 [00:00<00:03, 13.02batch/s]"
     ]
    },
    {
     "name": "stdout",
     "output_type": "stream",
     "text": [
      "accuracy train: 0.688444 test: 0.632000\n",
      "\n",
      "Parameter containing:\n",
      "tensor([0., 0., 0., 0.], requires_grad=True)\n"
     ]
    },
    {
     "name": "stderr",
     "output_type": "stream",
     "text": [
      "epoch: 153: 100%|███████████████████████████████████████████████████████████████████| 50/50 [00:03<00:00, 13.07batch/s]\n"
     ]
    },
    {
     "name": "stdout",
     "output_type": "stream",
     "text": [
      "loss training: 0.848207\n"
     ]
    },
    {
     "name": "stderr",
     "output_type": "stream",
     "text": [
      "epoch: 154:   4%|██▋                                                                 | 2/50 [00:00<00:03, 15.08batch/s]"
     ]
    },
    {
     "name": "stdout",
     "output_type": "stream",
     "text": [
      "accuracy train: 0.666000 test: 0.630000\n",
      "\n",
      "Parameter containing:\n",
      "tensor([0., 0., 0., 0.], requires_grad=True)\n"
     ]
    },
    {
     "name": "stderr",
     "output_type": "stream",
     "text": [
      "epoch: 154: 100%|███████████████████████████████████████████████████████████████████| 50/50 [00:03<00:00, 12.54batch/s]\n"
     ]
    },
    {
     "name": "stdout",
     "output_type": "stream",
     "text": [
      "loss training: 0.927486\n"
     ]
    },
    {
     "name": "stderr",
     "output_type": "stream",
     "text": [
      "epoch: 155:   4%|██▋                                                                 | 2/50 [00:00<00:03, 12.61batch/s]"
     ]
    },
    {
     "name": "stdout",
     "output_type": "stream",
     "text": [
      "accuracy train: 0.658222 test: 0.626000\n",
      "\n",
      "Parameter containing:\n",
      "tensor([0., 0., 0., 0.], requires_grad=True)\n"
     ]
    },
    {
     "name": "stderr",
     "output_type": "stream",
     "text": [
      "epoch: 155: 100%|███████████████████████████████████████████████████████████████████| 50/50 [00:03<00:00, 13.35batch/s]\n"
     ]
    },
    {
     "name": "stdout",
     "output_type": "stream",
     "text": [
      "loss training: 1.228940\n"
     ]
    },
    {
     "name": "stderr",
     "output_type": "stream",
     "text": [
      "epoch: 156:   4%|██▋                                                                 | 2/50 [00:00<00:03, 13.55batch/s]"
     ]
    },
    {
     "name": "stdout",
     "output_type": "stream",
     "text": [
      "accuracy train: 0.657778 test: 0.610000\n",
      "\n",
      "Parameter containing:\n",
      "tensor([0., 0., 0., 0.], requires_grad=True)\n"
     ]
    },
    {
     "name": "stderr",
     "output_type": "stream",
     "text": [
      "epoch: 156: 100%|███████████████████████████████████████████████████████████████████| 50/50 [00:04<00:00, 12.00batch/s]\n"
     ]
    },
    {
     "name": "stdout",
     "output_type": "stream",
     "text": [
      "loss training: 0.788246\n"
     ]
    },
    {
     "name": "stderr",
     "output_type": "stream",
     "text": [
      "epoch: 157:   4%|██▋                                                                 | 2/50 [00:00<00:03, 13.11batch/s]"
     ]
    },
    {
     "name": "stdout",
     "output_type": "stream",
     "text": [
      "accuracy train: 0.708222 test: 0.670000\n",
      "\n",
      "Parameter containing:\n",
      "tensor([0., 0., 0., 0.], requires_grad=True)\n"
     ]
    },
    {
     "name": "stderr",
     "output_type": "stream",
     "text": [
      "epoch: 157: 100%|███████████████████████████████████████████████████████████████████| 50/50 [00:03<00:00, 13.11batch/s]\n"
     ]
    },
    {
     "name": "stdout",
     "output_type": "stream",
     "text": [
      "loss training: 0.832817\n"
     ]
    },
    {
     "name": "stderr",
     "output_type": "stream",
     "text": [
      "epoch: 158:   4%|██▋                                                                 | 2/50 [00:00<00:03, 13.02batch/s]"
     ]
    },
    {
     "name": "stdout",
     "output_type": "stream",
     "text": [
      "accuracy train: 0.662000 test: 0.636000\n",
      "\n",
      "Parameter containing:\n",
      "tensor([0., 0., 0., 0.], requires_grad=True)\n"
     ]
    },
    {
     "name": "stderr",
     "output_type": "stream",
     "text": [
      "epoch: 158: 100%|███████████████████████████████████████████████████████████████████| 50/50 [00:03<00:00, 13.84batch/s]\n"
     ]
    },
    {
     "name": "stdout",
     "output_type": "stream",
     "text": [
      "loss training: 0.860932\n"
     ]
    },
    {
     "name": "stderr",
     "output_type": "stream",
     "text": [
      "epoch: 159:   2%|█▎                                                                  | 1/50 [00:00<00:04,  9.83batch/s]"
     ]
    },
    {
     "name": "stdout",
     "output_type": "stream",
     "text": [
      "accuracy train: 0.666889 test: 0.622000\n",
      "\n",
      "Parameter containing:\n",
      "tensor([0., 0., 0., 0.], requires_grad=True)\n"
     ]
    },
    {
     "name": "stderr",
     "output_type": "stream",
     "text": [
      "epoch: 159: 100%|███████████████████████████████████████████████████████████████████| 50/50 [00:04<00:00, 12.39batch/s]\n"
     ]
    },
    {
     "name": "stdout",
     "output_type": "stream",
     "text": [
      "loss training: 0.968591\n"
     ]
    },
    {
     "name": "stderr",
     "output_type": "stream",
     "text": [
      "epoch: 160:   4%|██▋                                                                 | 2/50 [00:00<00:03, 13.64batch/s]"
     ]
    },
    {
     "name": "stdout",
     "output_type": "stream",
     "text": [
      "accuracy train: 0.655778 test: 0.618000\n",
      "\n",
      "Parameter containing:\n",
      "tensor([0., 0., 0., 0.], requires_grad=True)\n"
     ]
    },
    {
     "name": "stderr",
     "output_type": "stream",
     "text": [
      "epoch: 160: 100%|███████████████████████████████████████████████████████████████████| 50/50 [00:03<00:00, 12.79batch/s]\n"
     ]
    },
    {
     "name": "stdout",
     "output_type": "stream",
     "text": [
      "loss training: 1.054322\n"
     ]
    },
    {
     "name": "stderr",
     "output_type": "stream",
     "text": [
      "epoch: 161:   4%|██▋                                                                 | 2/50 [00:00<00:03, 12.01batch/s]"
     ]
    },
    {
     "name": "stdout",
     "output_type": "stream",
     "text": [
      "accuracy train: 0.627778 test: 0.614000\n",
      "\n",
      "Parameter containing:\n",
      "tensor([0., 0., 0., 0.], requires_grad=True)\n"
     ]
    },
    {
     "name": "stderr",
     "output_type": "stream",
     "text": [
      "epoch: 161: 100%|███████████████████████████████████████████████████████████████████| 50/50 [00:03<00:00, 12.88batch/s]\n"
     ]
    },
    {
     "name": "stdout",
     "output_type": "stream",
     "text": [
      "loss training: 0.819059\n"
     ]
    },
    {
     "name": "stderr",
     "output_type": "stream",
     "text": [
      "epoch: 162:   0%|                                                                            | 0/50 [00:00<?, ?batch/s]"
     ]
    },
    {
     "name": "stdout",
     "output_type": "stream",
     "text": [
      "accuracy train: 0.641778 test: 0.604000\n",
      "\n",
      "Parameter containing:\n",
      "tensor([0., 0., 0., 0.], requires_grad=True)\n"
     ]
    },
    {
     "name": "stderr",
     "output_type": "stream",
     "text": [
      "epoch: 162: 100%|███████████████████████████████████████████████████████████████████| 50/50 [00:04<00:00, 11.45batch/s]\n"
     ]
    },
    {
     "name": "stdout",
     "output_type": "stream",
     "text": [
      "loss training: 1.051383\n"
     ]
    },
    {
     "name": "stderr",
     "output_type": "stream",
     "text": [
      "epoch: 163:   2%|█▎                                                                  | 1/50 [00:00<00:07,  6.96batch/s]"
     ]
    },
    {
     "name": "stdout",
     "output_type": "stream",
     "text": [
      "accuracy train: 0.665333 test: 0.622000\n",
      "\n",
      "Parameter containing:\n",
      "tensor([0., 0., 0., 0.], requires_grad=True)\n"
     ]
    },
    {
     "name": "stderr",
     "output_type": "stream",
     "text": [
      "epoch: 163: 100%|███████████████████████████████████████████████████████████████████| 50/50 [00:04<00:00, 10.99batch/s]\n"
     ]
    },
    {
     "name": "stdout",
     "output_type": "stream",
     "text": [
      "loss training: 0.878951\n"
     ]
    },
    {
     "name": "stderr",
     "output_type": "stream",
     "text": [
      "epoch: 164:   2%|█▎                                                                  | 1/50 [00:00<00:06,  8.15batch/s]"
     ]
    },
    {
     "name": "stdout",
     "output_type": "stream",
     "text": [
      "accuracy train: 0.662222 test: 0.646000\n",
      "\n",
      "Parameter containing:\n",
      "tensor([0., 0., 0., 0.], requires_grad=True)\n"
     ]
    },
    {
     "name": "stderr",
     "output_type": "stream",
     "text": [
      "epoch: 164: 100%|███████████████████████████████████████████████████████████████████| 50/50 [00:04<00:00, 10.64batch/s]\n"
     ]
    },
    {
     "name": "stdout",
     "output_type": "stream",
     "text": [
      "loss training: 0.791307\n"
     ]
    },
    {
     "name": "stderr",
     "output_type": "stream",
     "text": [
      "epoch: 165:   2%|█▎                                                                  | 1/50 [00:00<00:05,  9.37batch/s]"
     ]
    },
    {
     "name": "stdout",
     "output_type": "stream",
     "text": [
      "accuracy train: 0.638000 test: 0.632000\n",
      "\n",
      "Parameter containing:\n",
      "tensor([0., 0., 0., 0.], requires_grad=True)\n"
     ]
    },
    {
     "name": "stderr",
     "output_type": "stream",
     "text": [
      "epoch: 165: 100%|███████████████████████████████████████████████████████████████████| 50/50 [00:04<00:00, 10.98batch/s]\n"
     ]
    },
    {
     "name": "stdout",
     "output_type": "stream",
     "text": [
      "loss training: 0.826193\n"
     ]
    },
    {
     "name": "stderr",
     "output_type": "stream",
     "text": [
      "epoch: 166:   4%|██▋                                                                 | 2/50 [00:00<00:03, 12.77batch/s]"
     ]
    },
    {
     "name": "stdout",
     "output_type": "stream",
     "text": [
      "accuracy train: 0.669111 test: 0.656000\n",
      "\n",
      "Parameter containing:\n",
      "tensor([0., 0., 0., 0.], requires_grad=True)\n"
     ]
    },
    {
     "name": "stderr",
     "output_type": "stream",
     "text": [
      "epoch: 166: 100%|███████████████████████████████████████████████████████████████████| 50/50 [00:04<00:00, 10.32batch/s]\n"
     ]
    },
    {
     "name": "stdout",
     "output_type": "stream",
     "text": [
      "loss training: 1.121434\n"
     ]
    },
    {
     "name": "stderr",
     "output_type": "stream",
     "text": [
      "epoch: 167:   4%|██▋                                                                 | 2/50 [00:00<00:03, 13.02batch/s]"
     ]
    },
    {
     "name": "stdout",
     "output_type": "stream",
     "text": [
      "accuracy train: 0.655556 test: 0.628000\n",
      "\n",
      "Parameter containing:\n",
      "tensor([0., 0., 0., 0.], requires_grad=True)\n"
     ]
    },
    {
     "name": "stderr",
     "output_type": "stream",
     "text": [
      "epoch: 167: 100%|███████████████████████████████████████████████████████████████████| 50/50 [00:04<00:00, 10.75batch/s]\n"
     ]
    },
    {
     "name": "stdout",
     "output_type": "stream",
     "text": [
      "loss training: 0.847926\n"
     ]
    },
    {
     "name": "stderr",
     "output_type": "stream",
     "text": [
      "epoch: 168:   0%|                                                                            | 0/50 [00:00<?, ?batch/s]"
     ]
    },
    {
     "name": "stdout",
     "output_type": "stream",
     "text": [
      "accuracy train: 0.661333 test: 0.604000\n",
      "\n",
      "Parameter containing:\n",
      "tensor([0., 0., 0., 0.], requires_grad=True)\n"
     ]
    },
    {
     "name": "stderr",
     "output_type": "stream",
     "text": [
      "epoch: 168: 100%|███████████████████████████████████████████████████████████████████| 50/50 [00:04<00:00, 10.77batch/s]\n"
     ]
    },
    {
     "name": "stdout",
     "output_type": "stream",
     "text": [
      "loss training: 1.390110\n"
     ]
    },
    {
     "name": "stderr",
     "output_type": "stream",
     "text": [
      "epoch: 169:   2%|█▎                                                                  | 1/50 [00:00<00:06,  7.11batch/s]"
     ]
    },
    {
     "name": "stdout",
     "output_type": "stream",
     "text": [
      "accuracy train: 0.675778 test: 0.634000\n",
      "\n",
      "Parameter containing:\n",
      "tensor([0., 0., 0., 0.], requires_grad=True)\n"
     ]
    },
    {
     "name": "stderr",
     "output_type": "stream",
     "text": [
      "epoch: 169: 100%|███████████████████████████████████████████████████████████████████| 50/50 [00:04<00:00, 10.58batch/s]\n"
     ]
    },
    {
     "name": "stdout",
     "output_type": "stream",
     "text": [
      "loss training: 1.404073\n"
     ]
    },
    {
     "name": "stderr",
     "output_type": "stream",
     "text": [
      "epoch: 170:   2%|█▎                                                                  | 1/50 [00:00<00:06,  8.02batch/s]"
     ]
    },
    {
     "name": "stdout",
     "output_type": "stream",
     "text": [
      "accuracy train: 0.540889 test: 0.480000\n",
      "\n",
      "Parameter containing:\n",
      "tensor([0., 0., 0., 0.], requires_grad=True)\n"
     ]
    },
    {
     "name": "stderr",
     "output_type": "stream",
     "text": [
      "epoch: 170: 100%|███████████████████████████████████████████████████████████████████| 50/50 [00:04<00:00, 10.86batch/s]\n"
     ]
    },
    {
     "name": "stdout",
     "output_type": "stream",
     "text": [
      "loss training: 1.073702\n"
     ]
    },
    {
     "name": "stderr",
     "output_type": "stream",
     "text": [
      "epoch: 171:   4%|██▋                                                                 | 2/50 [00:00<00:03, 13.02batch/s]"
     ]
    },
    {
     "name": "stdout",
     "output_type": "stream",
     "text": [
      "accuracy train: 0.696000 test: 0.692000\n",
      "\n",
      "Parameter containing:\n",
      "tensor([0., 0., 0., 0.], requires_grad=True)\n"
     ]
    },
    {
     "name": "stderr",
     "output_type": "stream",
     "text": [
      "epoch: 171: 100%|███████████████████████████████████████████████████████████████████| 50/50 [00:04<00:00, 10.66batch/s]\n"
     ]
    },
    {
     "name": "stdout",
     "output_type": "stream",
     "text": [
      "loss training: 0.895230\n"
     ]
    },
    {
     "name": "stderr",
     "output_type": "stream",
     "text": [
      "epoch: 172:   4%|██▋                                                                 | 2/50 [00:00<00:03, 12.85batch/s]"
     ]
    },
    {
     "name": "stdout",
     "output_type": "stream",
     "text": [
      "accuracy train: 0.642889 test: 0.614000\n",
      "\n",
      "Parameter containing:\n",
      "tensor([0., 0., 0., 0.], requires_grad=True)\n"
     ]
    },
    {
     "name": "stderr",
     "output_type": "stream",
     "text": [
      "epoch: 172: 100%|███████████████████████████████████████████████████████████████████| 50/50 [00:04<00:00, 10.79batch/s]\n"
     ]
    },
    {
     "name": "stdout",
     "output_type": "stream",
     "text": [
      "loss training: 0.862403\n"
     ]
    },
    {
     "name": "stderr",
     "output_type": "stream",
     "text": [
      "epoch: 173:   2%|█▎                                                                  | 1/50 [00:00<00:06,  7.01batch/s]"
     ]
    },
    {
     "name": "stdout",
     "output_type": "stream",
     "text": [
      "accuracy train: 0.694444 test: 0.644000\n",
      "\n",
      "Parameter containing:\n",
      "tensor([0., 0., 0., 0.], requires_grad=True)\n"
     ]
    },
    {
     "name": "stderr",
     "output_type": "stream",
     "text": [
      "epoch: 173: 100%|███████████████████████████████████████████████████████████████████| 50/50 [00:04<00:00, 10.81batch/s]\n"
     ]
    },
    {
     "name": "stdout",
     "output_type": "stream",
     "text": [
      "loss training: 0.846510\n"
     ]
    },
    {
     "name": "stderr",
     "output_type": "stream",
     "text": [
      "epoch: 174:   2%|█▎                                                                  | 1/50 [00:00<00:05,  9.64batch/s]"
     ]
    },
    {
     "name": "stdout",
     "output_type": "stream",
     "text": [
      "accuracy train: 0.651111 test: 0.642000\n",
      "\n",
      "Parameter containing:\n",
      "tensor([0., 0., 0., 0.], requires_grad=True)\n"
     ]
    },
    {
     "name": "stderr",
     "output_type": "stream",
     "text": [
      "epoch: 174: 100%|███████████████████████████████████████████████████████████████████| 50/50 [00:04<00:00, 11.16batch/s]\n"
     ]
    },
    {
     "name": "stdout",
     "output_type": "stream",
     "text": [
      "loss training: 0.879843\n"
     ]
    },
    {
     "name": "stderr",
     "output_type": "stream",
     "text": [
      "epoch: 175:   2%|█▎                                                                  | 1/50 [00:00<00:06,  8.02batch/s]"
     ]
    },
    {
     "name": "stdout",
     "output_type": "stream",
     "text": [
      "accuracy train: 0.675778 test: 0.640000\n",
      "\n",
      "Parameter containing:\n",
      "tensor([0., 0., 0., 0.], requires_grad=True)\n"
     ]
    },
    {
     "name": "stderr",
     "output_type": "stream",
     "text": [
      "epoch: 175: 100%|███████████████████████████████████████████████████████████████████| 50/50 [00:04<00:00, 10.59batch/s]\n"
     ]
    },
    {
     "name": "stdout",
     "output_type": "stream",
     "text": [
      "loss training: 0.898327\n"
     ]
    },
    {
     "name": "stderr",
     "output_type": "stream",
     "text": [
      "epoch: 176:   4%|██▋                                                                 | 2/50 [00:00<00:03, 13.74batch/s]"
     ]
    },
    {
     "name": "stdout",
     "output_type": "stream",
     "text": [
      "accuracy train: 0.634889 test: 0.618000\n",
      "\n",
      "Parameter containing:\n",
      "tensor([0., 0., 0., 0.], requires_grad=True)\n"
     ]
    },
    {
     "name": "stderr",
     "output_type": "stream",
     "text": [
      "epoch: 176: 100%|███████████████████████████████████████████████████████████████████| 50/50 [00:04<00:00, 11.81batch/s]\n"
     ]
    },
    {
     "name": "stdout",
     "output_type": "stream",
     "text": [
      "loss training: 0.859628\n"
     ]
    },
    {
     "name": "stderr",
     "output_type": "stream",
     "text": [
      "epoch: 177:   2%|█▎                                                                  | 1/50 [00:00<00:06,  7.27batch/s]"
     ]
    },
    {
     "name": "stdout",
     "output_type": "stream",
     "text": [
      "accuracy train: 0.664222 test: 0.630000\n",
      "\n",
      "Parameter containing:\n",
      "tensor([0., 0., 0., 0.], requires_grad=True)\n"
     ]
    },
    {
     "name": "stderr",
     "output_type": "stream",
     "text": [
      "epoch: 177: 100%|███████████████████████████████████████████████████████████████████| 50/50 [00:04<00:00, 10.93batch/s]\n"
     ]
    },
    {
     "name": "stdout",
     "output_type": "stream",
     "text": [
      "loss training: 0.843131\n"
     ]
    },
    {
     "name": "stderr",
     "output_type": "stream",
     "text": [
      "epoch: 178:   4%|██▋                                                                 | 2/50 [00:00<00:04, 11.52batch/s]"
     ]
    },
    {
     "name": "stdout",
     "output_type": "stream",
     "text": [
      "accuracy train: 0.674222 test: 0.658000\n",
      "\n",
      "Parameter containing:\n",
      "tensor([0., 0., 0., 0.], requires_grad=True)\n"
     ]
    },
    {
     "name": "stderr",
     "output_type": "stream",
     "text": [
      "epoch: 178: 100%|███████████████████████████████████████████████████████████████████| 50/50 [00:04<00:00, 10.34batch/s]\n"
     ]
    },
    {
     "name": "stdout",
     "output_type": "stream",
     "text": [
      "loss training: 0.820281\n"
     ]
    },
    {
     "name": "stderr",
     "output_type": "stream",
     "text": [
      "epoch: 179:   2%|█▎                                                                  | 1/50 [00:00<00:05,  8.22batch/s]"
     ]
    },
    {
     "name": "stdout",
     "output_type": "stream",
     "text": [
      "accuracy train: 0.600889 test: 0.592000\n",
      "\n",
      "Parameter containing:\n",
      "tensor([0., 0., 0., 0.], requires_grad=True)\n"
     ]
    },
    {
     "name": "stderr",
     "output_type": "stream",
     "text": [
      "epoch: 179: 100%|███████████████████████████████████████████████████████████████████| 50/50 [00:04<00:00, 10.27batch/s]\n"
     ]
    },
    {
     "name": "stdout",
     "output_type": "stream",
     "text": [
      "loss training: 0.813652\n"
     ]
    },
    {
     "name": "stderr",
     "output_type": "stream",
     "text": [
      "epoch: 180:   0%|                                                                            | 0/50 [00:00<?, ?batch/s]"
     ]
    },
    {
     "name": "stdout",
     "output_type": "stream",
     "text": [
      "accuracy train: 0.708000 test: 0.690000\n",
      "\n",
      "Parameter containing:\n",
      "tensor([0., 0., 0., 0.], requires_grad=True)\n"
     ]
    },
    {
     "name": "stderr",
     "output_type": "stream",
     "text": [
      "epoch: 180: 100%|███████████████████████████████████████████████████████████████████| 50/50 [00:04<00:00, 10.55batch/s]\n"
     ]
    },
    {
     "name": "stdout",
     "output_type": "stream",
     "text": [
      "loss training: 0.797234\n"
     ]
    },
    {
     "name": "stderr",
     "output_type": "stream",
     "text": [
      "epoch: 181:   4%|██▋                                                                 | 2/50 [00:00<00:03, 14.12batch/s]"
     ]
    },
    {
     "name": "stdout",
     "output_type": "stream",
     "text": [
      "accuracy train: 0.604000 test: 0.568000\n",
      "\n",
      "Parameter containing:\n",
      "tensor([0., 0., 0., 0.], requires_grad=True)\n"
     ]
    },
    {
     "name": "stderr",
     "output_type": "stream",
     "text": [
      "epoch: 181: 100%|███████████████████████████████████████████████████████████████████| 50/50 [00:04<00:00, 11.77batch/s]\n"
     ]
    },
    {
     "name": "stdout",
     "output_type": "stream",
     "text": [
      "loss training: 0.853963\n"
     ]
    },
    {
     "name": "stderr",
     "output_type": "stream",
     "text": [
      "epoch: 182:   4%|██▋                                                                 | 2/50 [00:00<00:04, 11.46batch/s]"
     ]
    },
    {
     "name": "stdout",
     "output_type": "stream",
     "text": [
      "accuracy train: 0.701778 test: 0.680000\n",
      "\n",
      "Parameter containing:\n",
      "tensor([0., 0., 0., 0.], requires_grad=True)\n"
     ]
    },
    {
     "name": "stderr",
     "output_type": "stream",
     "text": [
      "epoch: 182: 100%|███████████████████████████████████████████████████████████████████| 50/50 [00:04<00:00, 11.42batch/s]\n"
     ]
    },
    {
     "name": "stdout",
     "output_type": "stream",
     "text": [
      "loss training: 0.832730\n"
     ]
    },
    {
     "name": "stderr",
     "output_type": "stream",
     "text": [
      "epoch: 183:   2%|█▎                                                                  | 1/50 [00:00<00:04,  9.93batch/s]"
     ]
    },
    {
     "name": "stdout",
     "output_type": "stream",
     "text": [
      "accuracy train: 0.669111 test: 0.644000\n",
      "\n",
      "Parameter containing:\n",
      "tensor([0., 0., 0., 0.], requires_grad=True)\n"
     ]
    },
    {
     "name": "stderr",
     "output_type": "stream",
     "text": [
      "epoch: 183: 100%|███████████████████████████████████████████████████████████████████| 50/50 [00:04<00:00, 10.60batch/s]\n"
     ]
    },
    {
     "name": "stdout",
     "output_type": "stream",
     "text": [
      "loss training: 0.851467\n"
     ]
    },
    {
     "name": "stderr",
     "output_type": "stream",
     "text": [
      "epoch: 184:   0%|                                                                            | 0/50 [00:00<?, ?batch/s]"
     ]
    },
    {
     "name": "stdout",
     "output_type": "stream",
     "text": [
      "accuracy train: 0.658667 test: 0.618000\n",
      "\n",
      "Parameter containing:\n",
      "tensor([0., 0., 0., 0.], requires_grad=True)\n"
     ]
    },
    {
     "name": "stderr",
     "output_type": "stream",
     "text": [
      "epoch: 184: 100%|███████████████████████████████████████████████████████████████████| 50/50 [00:04<00:00, 11.15batch/s]\n"
     ]
    },
    {
     "name": "stdout",
     "output_type": "stream",
     "text": [
      "loss training: 0.950276\n"
     ]
    },
    {
     "name": "stderr",
     "output_type": "stream",
     "text": [
      "epoch: 185:   2%|█▎                                                                  | 1/50 [00:00<00:06,  7.27batch/s]"
     ]
    },
    {
     "name": "stdout",
     "output_type": "stream",
     "text": [
      "accuracy train: 0.674222 test: 0.648000\n",
      "\n",
      "Parameter containing:\n",
      "tensor([0., 0., 0., 0.], requires_grad=True)\n"
     ]
    },
    {
     "name": "stderr",
     "output_type": "stream",
     "text": [
      "epoch: 185: 100%|███████████████████████████████████████████████████████████████████| 50/50 [00:04<00:00, 10.47batch/s]\n"
     ]
    },
    {
     "name": "stdout",
     "output_type": "stream",
     "text": [
      "loss training: 1.306592\n"
     ]
    },
    {
     "name": "stderr",
     "output_type": "stream",
     "text": [
      "epoch: 186:   2%|█▎                                                                  | 1/50 [00:00<00:05,  8.50batch/s]"
     ]
    },
    {
     "name": "stdout",
     "output_type": "stream",
     "text": [
      "accuracy train: 0.651333 test: 0.616000\n",
      "\n",
      "Parameter containing:\n",
      "tensor([0., 0., 0., 0.], requires_grad=True)\n"
     ]
    },
    {
     "name": "stderr",
     "output_type": "stream",
     "text": [
      "epoch: 186: 100%|███████████████████████████████████████████████████████████████████| 50/50 [00:04<00:00, 10.75batch/s]\n"
     ]
    },
    {
     "name": "stdout",
     "output_type": "stream",
     "text": [
      "loss training: 1.197088\n"
     ]
    },
    {
     "name": "stderr",
     "output_type": "stream",
     "text": [
      "epoch: 187:   2%|█▎                                                                  | 1/50 [00:00<00:05,  9.37batch/s]"
     ]
    },
    {
     "name": "stdout",
     "output_type": "stream",
     "text": [
      "accuracy train: 0.658444 test: 0.654000\n",
      "\n",
      "Parameter containing:\n",
      "tensor([0., 0., 0., 0.], requires_grad=True)\n"
     ]
    },
    {
     "name": "stderr",
     "output_type": "stream",
     "text": [
      "epoch: 187: 100%|███████████████████████████████████████████████████████████████████| 50/50 [00:04<00:00, 10.81batch/s]\n"
     ]
    },
    {
     "name": "stdout",
     "output_type": "stream",
     "text": [
      "loss training: 1.842374\n"
     ]
    },
    {
     "name": "stderr",
     "output_type": "stream",
     "text": [
      "epoch: 188:   4%|██▋                                                                 | 2/50 [00:00<00:04, 11.80batch/s]"
     ]
    },
    {
     "name": "stdout",
     "output_type": "stream",
     "text": [
      "accuracy train: 0.690222 test: 0.664000\n",
      "\n",
      "Parameter containing:\n",
      "tensor([0., 0., 0., 0.], requires_grad=True)\n"
     ]
    },
    {
     "name": "stderr",
     "output_type": "stream",
     "text": [
      "epoch: 188: 100%|███████████████████████████████████████████████████████████████████| 50/50 [00:04<00:00, 10.69batch/s]\n"
     ]
    },
    {
     "name": "stdout",
     "output_type": "stream",
     "text": [
      "loss training: 0.855465\n"
     ]
    },
    {
     "name": "stderr",
     "output_type": "stream",
     "text": [
      "epoch: 189:   0%|                                                                            | 0/50 [00:00<?, ?batch/s]"
     ]
    },
    {
     "name": "stdout",
     "output_type": "stream",
     "text": [
      "accuracy train: 0.687778 test: 0.674000\n",
      "\n",
      "Parameter containing:\n",
      "tensor([0., 0., 0., 0.], requires_grad=True)\n"
     ]
    },
    {
     "name": "stderr",
     "output_type": "stream",
     "text": [
      "epoch: 189: 100%|███████████████████████████████████████████████████████████████████| 50/50 [00:04<00:00, 10.65batch/s]\n"
     ]
    },
    {
     "name": "stdout",
     "output_type": "stream",
     "text": [
      "loss training: 1.260178\n"
     ]
    },
    {
     "name": "stderr",
     "output_type": "stream",
     "text": [
      "epoch: 190:   2%|█▎                                                                  | 1/50 [00:00<00:07,  6.73batch/s]"
     ]
    },
    {
     "name": "stdout",
     "output_type": "stream",
     "text": [
      "accuracy train: 0.694000 test: 0.656000\n",
      "\n",
      "Parameter containing:\n",
      "tensor([0., 0., 0., 0.], requires_grad=True)\n"
     ]
    },
    {
     "name": "stderr",
     "output_type": "stream",
     "text": [
      "epoch: 190: 100%|███████████████████████████████████████████████████████████████████| 50/50 [00:04<00:00, 10.48batch/s]\n"
     ]
    },
    {
     "name": "stdout",
     "output_type": "stream",
     "text": [
      "loss training: 0.984371\n"
     ]
    },
    {
     "name": "stderr",
     "output_type": "stream",
     "text": [
      "epoch: 191:   4%|██▋                                                                 | 2/50 [00:00<00:03, 12.38batch/s]"
     ]
    },
    {
     "name": "stdout",
     "output_type": "stream",
     "text": [
      "accuracy train: 0.700444 test: 0.680000\n",
      "\n",
      "Parameter containing:\n",
      "tensor([0., 0., 0., 0.], requires_grad=True)\n"
     ]
    },
    {
     "name": "stderr",
     "output_type": "stream",
     "text": [
      "epoch: 191: 100%|███████████████████████████████████████████████████████████████████| 50/50 [00:04<00:00, 11.24batch/s]\n"
     ]
    },
    {
     "name": "stdout",
     "output_type": "stream",
     "text": [
      "loss training: 0.875550\n"
     ]
    },
    {
     "name": "stderr",
     "output_type": "stream",
     "text": [
      "epoch: 192:   2%|█▎                                                                  | 1/50 [00:00<00:06,  7.83batch/s]"
     ]
    },
    {
     "name": "stdout",
     "output_type": "stream",
     "text": [
      "accuracy train: 0.676444 test: 0.650000\n",
      "\n",
      "Parameter containing:\n",
      "tensor([0., 0., 0., 0.], requires_grad=True)\n"
     ]
    },
    {
     "name": "stderr",
     "output_type": "stream",
     "text": [
      "epoch: 192: 100%|███████████████████████████████████████████████████████████████████| 50/50 [00:04<00:00, 10.86batch/s]\n"
     ]
    },
    {
     "name": "stdout",
     "output_type": "stream",
     "text": [
      "loss training: 1.328407\n"
     ]
    },
    {
     "name": "stderr",
     "output_type": "stream",
     "text": [
      "epoch: 193:   4%|██▋                                                                 | 2/50 [00:00<00:03, 13.93batch/s]"
     ]
    },
    {
     "name": "stdout",
     "output_type": "stream",
     "text": [
      "accuracy train: 0.610222 test: 0.606000\n",
      "\n",
      "Parameter containing:\n",
      "tensor([0., 0., 0., 0.], requires_grad=True)\n"
     ]
    },
    {
     "name": "stderr",
     "output_type": "stream",
     "text": [
      "epoch: 193: 100%|███████████████████████████████████████████████████████████████████| 50/50 [00:04<00:00, 10.57batch/s]\n"
     ]
    },
    {
     "name": "stdout",
     "output_type": "stream",
     "text": [
      "loss training: 0.809851\n"
     ]
    },
    {
     "name": "stderr",
     "output_type": "stream",
     "text": [
      "epoch: 194:   2%|█▎                                                                  | 1/50 [00:00<00:05,  9.28batch/s]"
     ]
    },
    {
     "name": "stdout",
     "output_type": "stream",
     "text": [
      "accuracy train: 0.688667 test: 0.664000\n",
      "\n",
      "Parameter containing:\n",
      "tensor([0., 0., 0., 0.], requires_grad=True)\n"
     ]
    },
    {
     "name": "stderr",
     "output_type": "stream",
     "text": [
      "epoch: 194: 100%|███████████████████████████████████████████████████████████████████| 50/50 [00:04<00:00, 10.77batch/s]\n"
     ]
    },
    {
     "name": "stdout",
     "output_type": "stream",
     "text": [
      "loss training: 0.811687\n"
     ]
    },
    {
     "name": "stderr",
     "output_type": "stream",
     "text": [
      "epoch: 195:   2%|█▎                                                                  | 1/50 [00:00<00:06,  8.02batch/s]"
     ]
    },
    {
     "name": "stdout",
     "output_type": "stream",
     "text": [
      "accuracy train: 0.616222 test: 0.606000\n",
      "\n",
      "Parameter containing:\n",
      "tensor([0., 0., 0., 0.], requires_grad=True)\n"
     ]
    },
    {
     "name": "stderr",
     "output_type": "stream",
     "text": [
      "epoch: 195: 100%|███████████████████████████████████████████████████████████████████| 50/50 [00:04<00:00, 11.18batch/s]\n"
     ]
    },
    {
     "name": "stdout",
     "output_type": "stream",
     "text": [
      "loss training: 0.965280\n"
     ]
    },
    {
     "name": "stderr",
     "output_type": "stream",
     "text": [
      "epoch: 196:   4%|██▋                                                                 | 2/50 [00:00<00:03, 14.32batch/s]"
     ]
    },
    {
     "name": "stdout",
     "output_type": "stream",
     "text": [
      "accuracy train: 0.654889 test: 0.620000\n",
      "\n",
      "Parameter containing:\n",
      "tensor([0., 0., 0., 0.], requires_grad=True)\n"
     ]
    },
    {
     "name": "stderr",
     "output_type": "stream",
     "text": [
      "epoch: 196: 100%|███████████████████████████████████████████████████████████████████| 50/50 [00:04<00:00, 11.45batch/s]\n"
     ]
    },
    {
     "name": "stdout",
     "output_type": "stream",
     "text": [
      "loss training: 0.989243\n"
     ]
    },
    {
     "name": "stderr",
     "output_type": "stream",
     "text": [
      "epoch: 197:   0%|                                                                            | 0/50 [00:00<?, ?batch/s]"
     ]
    },
    {
     "name": "stdout",
     "output_type": "stream",
     "text": [
      "accuracy train: 0.595333 test: 0.578000\n",
      "\n",
      "Parameter containing:\n",
      "tensor([0., 0., 0., 0.], requires_grad=True)\n"
     ]
    },
    {
     "name": "stderr",
     "output_type": "stream",
     "text": [
      "epoch: 197: 100%|███████████████████████████████████████████████████████████████████| 50/50 [00:04<00:00, 10.77batch/s]\n"
     ]
    },
    {
     "name": "stdout",
     "output_type": "stream",
     "text": [
      "loss training: 0.813139\n"
     ]
    },
    {
     "name": "stderr",
     "output_type": "stream",
     "text": [
      "epoch: 198:   2%|█▎                                                                  | 1/50 [00:00<00:05,  8.80batch/s]"
     ]
    },
    {
     "name": "stdout",
     "output_type": "stream",
     "text": [
      "accuracy train: 0.677111 test: 0.652000\n",
      "\n",
      "Parameter containing:\n",
      "tensor([0., 0., 0., 0.], requires_grad=True)\n"
     ]
    },
    {
     "name": "stderr",
     "output_type": "stream",
     "text": [
      "epoch: 198: 100%|███████████████████████████████████████████████████████████████████| 50/50 [00:04<00:00, 11.22batch/s]\n"
     ]
    },
    {
     "name": "stdout",
     "output_type": "stream",
     "text": [
      "loss training: 0.806743\n"
     ]
    },
    {
     "name": "stderr",
     "output_type": "stream",
     "text": [
      "epoch: 199:   0%|                                                                            | 0/50 [00:00<?, ?batch/s]"
     ]
    },
    {
     "name": "stdout",
     "output_type": "stream",
     "text": [
      "accuracy train: 0.673333 test: 0.646000\n",
      "\n",
      "Parameter containing:\n",
      "tensor([0., 0., 0., 0.], requires_grad=True)\n"
     ]
    },
    {
     "name": "stderr",
     "output_type": "stream",
     "text": [
      "epoch: 199: 100%|███████████████████████████████████████████████████████████████████| 50/50 [00:04<00:00, 11.12batch/s]\n"
     ]
    },
    {
     "name": "stdout",
     "output_type": "stream",
     "text": [
      "loss training: 0.821028\n"
     ]
    },
    {
     "name": "stderr",
     "output_type": "stream",
     "text": [
      "epoch: 200:   4%|██▋                                                                 | 2/50 [00:00<00:04, 11.94batch/s]"
     ]
    },
    {
     "name": "stdout",
     "output_type": "stream",
     "text": [
      "accuracy train: 0.684889 test: 0.658000\n",
      "\n",
      "Parameter containing:\n",
      "tensor([0., 0., 0., 0.], requires_grad=True)\n"
     ]
    },
    {
     "name": "stderr",
     "output_type": "stream",
     "text": [
      "epoch: 200: 100%|███████████████████████████████████████████████████████████████████| 50/50 [00:04<00:00, 10.30batch/s]\n"
     ]
    },
    {
     "name": "stdout",
     "output_type": "stream",
     "text": [
      "loss training: 0.883876\n"
     ]
    },
    {
     "name": "stderr",
     "output_type": "stream",
     "text": [
      "epoch: 201:   2%|█▎                                                                  | 1/50 [00:00<00:06,  7.96batch/s]"
     ]
    },
    {
     "name": "stdout",
     "output_type": "stream",
     "text": [
      "accuracy train: 0.703556 test: 0.670000\n",
      "\n",
      "Parameter containing:\n",
      "tensor([0., 0., 0., 0.], requires_grad=True)\n"
     ]
    },
    {
     "name": "stderr",
     "output_type": "stream",
     "text": [
      "epoch: 201: 100%|███████████████████████████████████████████████████████████████████| 50/50 [00:04<00:00, 11.19batch/s]\n"
     ]
    },
    {
     "name": "stdout",
     "output_type": "stream",
     "text": [
      "loss training: 0.807383\n"
     ]
    },
    {
     "name": "stderr",
     "output_type": "stream",
     "text": [
      "epoch: 202:   4%|██▋                                                                 | 2/50 [00:00<00:04, 11.66batch/s]"
     ]
    },
    {
     "name": "stdout",
     "output_type": "stream",
     "text": [
      "accuracy train: 0.674444 test: 0.640000\n",
      "\n",
      "Parameter containing:\n",
      "tensor([0., 0., 0., 0.], requires_grad=True)\n"
     ]
    },
    {
     "name": "stderr",
     "output_type": "stream",
     "text": [
      "epoch: 202: 100%|███████████████████████████████████████████████████████████████████| 50/50 [00:04<00:00, 10.98batch/s]\n"
     ]
    },
    {
     "name": "stdout",
     "output_type": "stream",
     "text": [
      "loss training: 0.949142\n"
     ]
    },
    {
     "name": "stderr",
     "output_type": "stream",
     "text": [
      "epoch: 203:   0%|                                                                            | 0/50 [00:00<?, ?batch/s]"
     ]
    },
    {
     "name": "stdout",
     "output_type": "stream",
     "text": [
      "accuracy train: 0.671778 test: 0.634000\n",
      "\n",
      "Parameter containing:\n",
      "tensor([0., 0., 0., 0.], requires_grad=True)\n"
     ]
    },
    {
     "name": "stderr",
     "output_type": "stream",
     "text": [
      "epoch: 203: 100%|███████████████████████████████████████████████████████████████████| 50/50 [00:04<00:00, 11.04batch/s]\n"
     ]
    },
    {
     "name": "stdout",
     "output_type": "stream",
     "text": [
      "loss training: 0.799118\n"
     ]
    },
    {
     "name": "stderr",
     "output_type": "stream",
     "text": [
      "epoch: 204:   0%|                                                                            | 0/50 [00:00<?, ?batch/s]"
     ]
    },
    {
     "name": "stdout",
     "output_type": "stream",
     "text": [
      "accuracy train: 0.650000 test: 0.628000\n",
      "\n",
      "Parameter containing:\n",
      "tensor([0., 0., 0., 0.], requires_grad=True)\n"
     ]
    },
    {
     "name": "stderr",
     "output_type": "stream",
     "text": [
      "epoch: 204: 100%|███████████████████████████████████████████████████████████████████| 50/50 [00:05<00:00,  9.65batch/s]\n"
     ]
    },
    {
     "name": "stdout",
     "output_type": "stream",
     "text": [
      "loss training: 0.797034\n"
     ]
    },
    {
     "name": "stderr",
     "output_type": "stream",
     "text": [
      "epoch: 205:   2%|█▎                                                                  | 1/50 [00:00<00:05,  8.50batch/s]"
     ]
    },
    {
     "name": "stdout",
     "output_type": "stream",
     "text": [
      "accuracy train: 0.710222 test: 0.700000\n",
      "\n",
      "Parameter containing:\n",
      "tensor([0., 0., 0., 0.], requires_grad=True)\n"
     ]
    },
    {
     "name": "stderr",
     "output_type": "stream",
     "text": [
      "epoch: 205: 100%|███████████████████████████████████████████████████████████████████| 50/50 [00:04<00:00, 11.43batch/s]\n"
     ]
    },
    {
     "name": "stdout",
     "output_type": "stream",
     "text": [
      "loss training: 0.770236\n"
     ]
    },
    {
     "name": "stderr",
     "output_type": "stream",
     "text": [
      "epoch: 206:   2%|█▎                                                                  | 1/50 [00:00<00:05,  8.29batch/s]"
     ]
    },
    {
     "name": "stdout",
     "output_type": "stream",
     "text": [
      "accuracy train: 0.649111 test: 0.606000\n",
      "\n",
      "Parameter containing:\n",
      "tensor([0., 0., 0., 0.], requires_grad=True)\n"
     ]
    },
    {
     "name": "stderr",
     "output_type": "stream",
     "text": [
      "epoch: 206: 100%|███████████████████████████████████████████████████████████████████| 50/50 [00:04<00:00, 11.29batch/s]\n"
     ]
    },
    {
     "name": "stdout",
     "output_type": "stream",
     "text": [
      "loss training: 0.797831\n"
     ]
    },
    {
     "name": "stderr",
     "output_type": "stream",
     "text": [
      "epoch: 207:   2%|█▎                                                                  | 1/50 [00:00<00:05,  8.57batch/s]"
     ]
    },
    {
     "name": "stdout",
     "output_type": "stream",
     "text": [
      "accuracy train: 0.628222 test: 0.592000\n",
      "\n",
      "Parameter containing:\n",
      "tensor([0., 0., 0., 0.], requires_grad=True)\n"
     ]
    },
    {
     "name": "stderr",
     "output_type": "stream",
     "text": [
      "epoch: 207: 100%|███████████████████████████████████████████████████████████████████| 50/50 [00:04<00:00, 11.04batch/s]\n"
     ]
    },
    {
     "name": "stdout",
     "output_type": "stream",
     "text": [
      "loss training: 0.792935\n"
     ]
    },
    {
     "name": "stderr",
     "output_type": "stream",
     "text": [
      "epoch: 208:   0%|                                                                            | 0/50 [00:00<?, ?batch/s]"
     ]
    },
    {
     "name": "stdout",
     "output_type": "stream",
     "text": [
      "accuracy train: 0.685556 test: 0.642000\n",
      "\n",
      "Parameter containing:\n",
      "tensor([0., 0., 0., 0.], requires_grad=True)\n"
     ]
    },
    {
     "name": "stderr",
     "output_type": "stream",
     "text": [
      "epoch: 208: 100%|███████████████████████████████████████████████████████████████████| 50/50 [00:04<00:00, 10.74batch/s]\n"
     ]
    },
    {
     "name": "stdout",
     "output_type": "stream",
     "text": [
      "loss training: 0.790221\n"
     ]
    },
    {
     "name": "stderr",
     "output_type": "stream",
     "text": [
      "epoch: 209:   4%|██▋                                                                 | 2/50 [00:00<00:03, 12.86batch/s]"
     ]
    },
    {
     "name": "stdout",
     "output_type": "stream",
     "text": [
      "accuracy train: 0.692889 test: 0.666000\n",
      "\n",
      "Parameter containing:\n",
      "tensor([0., 0., 0., 0.], requires_grad=True)\n"
     ]
    },
    {
     "name": "stderr",
     "output_type": "stream",
     "text": [
      "epoch: 209: 100%|███████████████████████████████████████████████████████████████████| 50/50 [00:04<00:00, 10.92batch/s]\n"
     ]
    },
    {
     "name": "stdout",
     "output_type": "stream",
     "text": [
      "loss training: 0.809006\n"
     ]
    },
    {
     "name": "stderr",
     "output_type": "stream",
     "text": [
      "epoch: 210:   0%|                                                                            | 0/50 [00:00<?, ?batch/s]"
     ]
    },
    {
     "name": "stdout",
     "output_type": "stream",
     "text": [
      "accuracy train: 0.690000 test: 0.632000\n",
      "\n",
      "Parameter containing:\n",
      "tensor([0., 0., 0., 0.], requires_grad=True)\n"
     ]
    },
    {
     "name": "stderr",
     "output_type": "stream",
     "text": [
      "epoch: 210: 100%|███████████████████████████████████████████████████████████████████| 50/50 [00:04<00:00, 10.89batch/s]\n"
     ]
    },
    {
     "name": "stdout",
     "output_type": "stream",
     "text": [
      "loss training: 0.792920\n"
     ]
    },
    {
     "name": "stderr",
     "output_type": "stream",
     "text": [
      "epoch: 211:   0%|                                                                            | 0/50 [00:00<?, ?batch/s]"
     ]
    },
    {
     "name": "stdout",
     "output_type": "stream",
     "text": [
      "accuracy train: 0.674000 test: 0.640000\n",
      "\n",
      "Parameter containing:\n",
      "tensor([0., 0., 0., 0.], requires_grad=True)\n"
     ]
    },
    {
     "name": "stderr",
     "output_type": "stream",
     "text": [
      "epoch: 211: 100%|███████████████████████████████████████████████████████████████████| 50/50 [00:04<00:00, 11.12batch/s]\n"
     ]
    },
    {
     "name": "stdout",
     "output_type": "stream",
     "text": [
      "loss training: 0.798586\n"
     ]
    },
    {
     "name": "stderr",
     "output_type": "stream",
     "text": [
      "epoch: 212:   0%|                                                                            | 0/50 [00:00<?, ?batch/s]"
     ]
    },
    {
     "name": "stdout",
     "output_type": "stream",
     "text": [
      "accuracy train: 0.656000 test: 0.622000\n",
      "\n",
      "Parameter containing:\n",
      "tensor([0., 0., 0., 0.], requires_grad=True)\n"
     ]
    },
    {
     "name": "stderr",
     "output_type": "stream",
     "text": [
      "epoch: 212: 100%|███████████████████████████████████████████████████████████████████| 50/50 [00:04<00:00, 10.74batch/s]\n"
     ]
    },
    {
     "name": "stdout",
     "output_type": "stream",
     "text": [
      "loss training: 0.814750\n"
     ]
    },
    {
     "name": "stderr",
     "output_type": "stream",
     "text": [
      "epoch: 213:   4%|██▋                                                                 | 2/50 [00:00<00:03, 14.32batch/s]"
     ]
    },
    {
     "name": "stdout",
     "output_type": "stream",
     "text": [
      "accuracy train: 0.662000 test: 0.622000\n",
      "\n",
      "Parameter containing:\n",
      "tensor([0., 0., 0., 0.], requires_grad=True)\n"
     ]
    },
    {
     "name": "stderr",
     "output_type": "stream",
     "text": [
      "epoch: 213: 100%|███████████████████████████████████████████████████████████████████| 50/50 [00:04<00:00, 11.29batch/s]\n"
     ]
    },
    {
     "name": "stdout",
     "output_type": "stream",
     "text": [
      "loss training: 0.799772\n"
     ]
    },
    {
     "name": "stderr",
     "output_type": "stream",
     "text": [
      "epoch: 214:   2%|█▎                                                                  | 1/50 [00:00<00:05,  9.46batch/s]"
     ]
    },
    {
     "name": "stdout",
     "output_type": "stream",
     "text": [
      "accuracy train: 0.655111 test: 0.646000\n",
      "\n",
      "Parameter containing:\n",
      "tensor([0., 0., 0., 0.], requires_grad=True)\n"
     ]
    },
    {
     "name": "stderr",
     "output_type": "stream",
     "text": [
      "epoch: 214: 100%|███████████████████████████████████████████████████████████████████| 50/50 [00:04<00:00, 10.59batch/s]\n"
     ]
    },
    {
     "name": "stdout",
     "output_type": "stream",
     "text": [
      "loss training: 0.773151\n"
     ]
    },
    {
     "name": "stderr",
     "output_type": "stream",
     "text": [
      "epoch: 215:   0%|                                                                            | 0/50 [00:00<?, ?batch/s]"
     ]
    },
    {
     "name": "stdout",
     "output_type": "stream",
     "text": [
      "accuracy train: 0.628444 test: 0.610000\n",
      "\n",
      "Parameter containing:\n",
      "tensor([0., 0., 0., 0.], requires_grad=True)\n"
     ]
    },
    {
     "name": "stderr",
     "output_type": "stream",
     "text": [
      "epoch: 215: 100%|███████████████████████████████████████████████████████████████████| 50/50 [00:04<00:00, 11.11batch/s]\n"
     ]
    },
    {
     "name": "stdout",
     "output_type": "stream",
     "text": [
      "loss training: 0.882349\n"
     ]
    },
    {
     "name": "stderr",
     "output_type": "stream",
     "text": [
      "epoch: 216:   2%|█▎                                                                  | 1/50 [00:00<00:05,  9.28batch/s]"
     ]
    },
    {
     "name": "stdout",
     "output_type": "stream",
     "text": [
      "accuracy train: 0.689111 test: 0.642000\n",
      "\n",
      "Parameter containing:\n",
      "tensor([0., 0., 0., 0.], requires_grad=True)\n"
     ]
    },
    {
     "name": "stderr",
     "output_type": "stream",
     "text": [
      "epoch: 216: 100%|███████████████████████████████████████████████████████████████████| 50/50 [00:04<00:00, 10.34batch/s]\n"
     ]
    },
    {
     "name": "stdout",
     "output_type": "stream",
     "text": [
      "loss training: 1.320137\n"
     ]
    },
    {
     "name": "stderr",
     "output_type": "stream",
     "text": [
      "epoch: 217:   2%|█▎                                                                  | 1/50 [00:00<00:04,  9.93batch/s]"
     ]
    },
    {
     "name": "stdout",
     "output_type": "stream",
     "text": [
      "accuracy train: 0.637333 test: 0.628000\n",
      "\n",
      "Parameter containing:\n",
      "tensor([0., 0., 0., 0.], requires_grad=True)\n"
     ]
    },
    {
     "name": "stderr",
     "output_type": "stream",
     "text": [
      "epoch: 217: 100%|███████████████████████████████████████████████████████████████████| 50/50 [00:04<00:00, 10.35batch/s]\n"
     ]
    },
    {
     "name": "stdout",
     "output_type": "stream",
     "text": [
      "loss training: 0.802370\n"
     ]
    },
    {
     "name": "stderr",
     "output_type": "stream",
     "text": [
      "epoch: 218:   4%|██▋                                                                 | 2/50 [00:00<00:03, 14.12batch/s]"
     ]
    },
    {
     "name": "stdout",
     "output_type": "stream",
     "text": [
      "accuracy train: 0.679556 test: 0.648000\n",
      "\n",
      "Parameter containing:\n",
      "tensor([0., 0., 0., 0.], requires_grad=True)\n"
     ]
    },
    {
     "name": "stderr",
     "output_type": "stream",
     "text": [
      "epoch: 218: 100%|███████████████████████████████████████████████████████████████████| 50/50 [00:04<00:00, 10.95batch/s]\n"
     ]
    },
    {
     "name": "stdout",
     "output_type": "stream",
     "text": [
      "loss training: 0.782643\n"
     ]
    },
    {
     "name": "stderr",
     "output_type": "stream",
     "text": [
      "epoch: 219:   2%|█▎                                                                  | 1/50 [00:00<00:05,  9.28batch/s]"
     ]
    },
    {
     "name": "stdout",
     "output_type": "stream",
     "text": [
      "accuracy train: 0.694000 test: 0.672000\n",
      "\n",
      "Parameter containing:\n",
      "tensor([0., 0., 0., 0.], requires_grad=True)\n"
     ]
    },
    {
     "name": "stderr",
     "output_type": "stream",
     "text": [
      "epoch: 219: 100%|███████████████████████████████████████████████████████████████████| 50/50 [00:04<00:00, 10.14batch/s]\n"
     ]
    },
    {
     "name": "stdout",
     "output_type": "stream",
     "text": [
      "loss training: 0.801665\n"
     ]
    },
    {
     "name": "stderr",
     "output_type": "stream",
     "text": [
      "epoch: 220:   4%|██▋                                                                 | 2/50 [00:00<00:03, 13.64batch/s]"
     ]
    },
    {
     "name": "stdout",
     "output_type": "stream",
     "text": [
      "accuracy train: 0.662222 test: 0.646000\n",
      "\n",
      "Parameter containing:\n",
      "tensor([0., 0., 0., 0.], requires_grad=True)\n"
     ]
    },
    {
     "name": "stderr",
     "output_type": "stream",
     "text": [
      "epoch: 220: 100%|███████████████████████████████████████████████████████████████████| 50/50 [00:04<00:00, 10.86batch/s]\n"
     ]
    },
    {
     "name": "stdout",
     "output_type": "stream",
     "text": [
      "loss training: 0.816980\n"
     ]
    },
    {
     "name": "stderr",
     "output_type": "stream",
     "text": [
      "epoch: 221:   2%|█▎                                                                  | 1/50 [00:00<00:04,  9.93batch/s]"
     ]
    },
    {
     "name": "stdout",
     "output_type": "stream",
     "text": [
      "accuracy train: 0.654667 test: 0.620000\n",
      "\n",
      "Parameter containing:\n",
      "tensor([0., 0., 0., 0.], requires_grad=True)\n"
     ]
    },
    {
     "name": "stderr",
     "output_type": "stream",
     "text": [
      "epoch: 221: 100%|███████████████████████████████████████████████████████████████████| 50/50 [00:04<00:00, 11.01batch/s]\n"
     ]
    },
    {
     "name": "stdout",
     "output_type": "stream",
     "text": [
      "loss training: 0.985483\n"
     ]
    },
    {
     "name": "stderr",
     "output_type": "stream",
     "text": [
      "epoch: 222:   2%|█▎                                                                  | 1/50 [00:00<00:04,  9.83batch/s]"
     ]
    },
    {
     "name": "stdout",
     "output_type": "stream",
     "text": [
      "accuracy train: 0.653556 test: 0.620000\n",
      "\n",
      "Parameter containing:\n",
      "tensor([0., 0., 0., 0.], requires_grad=True)\n"
     ]
    },
    {
     "name": "stderr",
     "output_type": "stream",
     "text": [
      "epoch: 222: 100%|███████████████████████████████████████████████████████████████████| 50/50 [00:04<00:00, 10.81batch/s]\n"
     ]
    },
    {
     "name": "stdout",
     "output_type": "stream",
     "text": [
      "loss training: 0.781363\n"
     ]
    },
    {
     "name": "stderr",
     "output_type": "stream",
     "text": [
      "epoch: 223:   2%|█▎                                                                  | 1/50 [00:00<00:06,  8.09batch/s]"
     ]
    },
    {
     "name": "stdout",
     "output_type": "stream",
     "text": [
      "accuracy train: 0.677333 test: 0.656000\n",
      "\n",
      "Parameter containing:\n",
      "tensor([0., 0., 0., 0.], requires_grad=True)\n"
     ]
    },
    {
     "name": "stderr",
     "output_type": "stream",
     "text": [
      "epoch: 223: 100%|███████████████████████████████████████████████████████████████████| 50/50 [00:04<00:00, 10.61batch/s]\n"
     ]
    },
    {
     "name": "stdout",
     "output_type": "stream",
     "text": [
      "loss training: 0.806710\n"
     ]
    },
    {
     "name": "stderr",
     "output_type": "stream",
     "text": [
      "epoch: 224:   0%|                                                                            | 0/50 [00:00<?, ?batch/s]"
     ]
    },
    {
     "name": "stdout",
     "output_type": "stream",
     "text": [
      "accuracy train: 0.694444 test: 0.686000\n",
      "\n",
      "Parameter containing:\n",
      "tensor([0., 0., 0., 0.], requires_grad=True)\n"
     ]
    },
    {
     "name": "stderr",
     "output_type": "stream",
     "text": [
      "epoch: 224: 100%|███████████████████████████████████████████████████████████████████| 50/50 [00:04<00:00, 10.45batch/s]\n"
     ]
    },
    {
     "name": "stdout",
     "output_type": "stream",
     "text": [
      "loss training: 0.800881\n"
     ]
    },
    {
     "name": "stderr",
     "output_type": "stream",
     "text": [
      "epoch: 225:   4%|██▋                                                                 | 2/50 [00:00<00:03, 13.37batch/s]"
     ]
    },
    {
     "name": "stdout",
     "output_type": "stream",
     "text": [
      "accuracy train: 0.704000 test: 0.700000\n",
      "\n",
      "Parameter containing:\n",
      "tensor([0., 0., 0., 0.], requires_grad=True)\n"
     ]
    },
    {
     "name": "stderr",
     "output_type": "stream",
     "text": [
      "epoch: 225: 100%|███████████████████████████████████████████████████████████████████| 50/50 [00:05<00:00,  9.89batch/s]\n"
     ]
    },
    {
     "name": "stdout",
     "output_type": "stream",
     "text": [
      "loss training: 0.800729\n"
     ]
    },
    {
     "name": "stderr",
     "output_type": "stream",
     "text": [
      "epoch: 226:   4%|██▋                                                                 | 2/50 [00:00<00:04, 11.46batch/s]"
     ]
    },
    {
     "name": "stdout",
     "output_type": "stream",
     "text": [
      "accuracy train: 0.711556 test: 0.704000\n",
      "\n",
      "Parameter containing:\n",
      "tensor([0., 0., 0., 0.], requires_grad=True)\n"
     ]
    },
    {
     "name": "stderr",
     "output_type": "stream",
     "text": [
      "epoch: 226: 100%|███████████████████████████████████████████████████████████████████| 50/50 [00:04<00:00, 11.55batch/s]\n"
     ]
    },
    {
     "name": "stdout",
     "output_type": "stream",
     "text": [
      "loss training: 0.790027\n"
     ]
    },
    {
     "name": "stderr",
     "output_type": "stream",
     "text": [
      "epoch: 227:   4%|██▋                                                                 | 2/50 [00:00<00:03, 13.55batch/s]"
     ]
    },
    {
     "name": "stdout",
     "output_type": "stream",
     "text": [
      "accuracy train: 0.709778 test: 0.698000\n",
      "\n",
      "Parameter containing:\n",
      "tensor([0., 0., 0., 0.], requires_grad=True)\n"
     ]
    },
    {
     "name": "stderr",
     "output_type": "stream",
     "text": [
      "epoch: 227: 100%|███████████████████████████████████████████████████████████████████| 50/50 [00:04<00:00, 11.26batch/s]\n"
     ]
    },
    {
     "name": "stdout",
     "output_type": "stream",
     "text": [
      "loss training: 0.833553\n"
     ]
    },
    {
     "name": "stderr",
     "output_type": "stream",
     "text": [
      "epoch: 228:   2%|█▎                                                                  | 1/50 [00:00<00:05,  8.80batch/s]"
     ]
    },
    {
     "name": "stdout",
     "output_type": "stream",
     "text": [
      "accuracy train: 0.641556 test: 0.622000\n",
      "\n",
      "Parameter containing:\n",
      "tensor([0., 0., 0., 0.], requires_grad=True)\n"
     ]
    },
    {
     "name": "stderr",
     "output_type": "stream",
     "text": [
      "epoch: 228: 100%|███████████████████████████████████████████████████████████████████| 50/50 [00:04<00:00, 10.76batch/s]\n"
     ]
    },
    {
     "name": "stdout",
     "output_type": "stream",
     "text": [
      "loss training: 0.880992\n"
     ]
    },
    {
     "name": "stderr",
     "output_type": "stream",
     "text": [
      "epoch: 229:   4%|██▋                                                                 | 2/50 [00:00<00:03, 14.64batch/s]"
     ]
    },
    {
     "name": "stdout",
     "output_type": "stream",
     "text": [
      "accuracy train: 0.628889 test: 0.602000\n",
      "\n",
      "Parameter containing:\n",
      "tensor([0., 0., 0., 0.], requires_grad=True)\n"
     ]
    },
    {
     "name": "stderr",
     "output_type": "stream",
     "text": [
      "epoch: 229: 100%|███████████████████████████████████████████████████████████████████| 50/50 [00:04<00:00, 11.04batch/s]\n"
     ]
    },
    {
     "name": "stdout",
     "output_type": "stream",
     "text": [
      "loss training: 0.953721\n"
     ]
    },
    {
     "name": "stderr",
     "output_type": "stream",
     "text": [
      "epoch: 230:   0%|                                                                            | 0/50 [00:00<?, ?batch/s]"
     ]
    },
    {
     "name": "stdout",
     "output_type": "stream",
     "text": [
      "accuracy train: 0.646222 test: 0.628000\n",
      "\n",
      "Parameter containing:\n",
      "tensor([0., 0., 0., 0.], requires_grad=True)\n"
     ]
    },
    {
     "name": "stderr",
     "output_type": "stream",
     "text": [
      "epoch: 230: 100%|███████████████████████████████████████████████████████████████████| 50/50 [00:04<00:00, 10.53batch/s]\n"
     ]
    },
    {
     "name": "stdout",
     "output_type": "stream",
     "text": [
      "loss training: 0.833738\n"
     ]
    },
    {
     "name": "stderr",
     "output_type": "stream",
     "text": [
      "epoch: 231:   0%|                                                                            | 0/50 [00:00<?, ?batch/s]"
     ]
    },
    {
     "name": "stdout",
     "output_type": "stream",
     "text": [
      "accuracy train: 0.697778 test: 0.662000\n",
      "\n",
      "Parameter containing:\n",
      "tensor([0., 0., 0., 0.], requires_grad=True)\n"
     ]
    },
    {
     "name": "stderr",
     "output_type": "stream",
     "text": [
      "epoch: 231: 100%|███████████████████████████████████████████████████████████████████| 50/50 [00:04<00:00, 10.60batch/s]\n"
     ]
    },
    {
     "name": "stdout",
     "output_type": "stream",
     "text": [
      "loss training: 0.813038\n"
     ]
    },
    {
     "name": "stderr",
     "output_type": "stream",
     "text": [
      "epoch: 232:   2%|█▎                                                                  | 1/50 [00:00<00:05,  9.37batch/s]"
     ]
    },
    {
     "name": "stdout",
     "output_type": "stream",
     "text": [
      "accuracy train: 0.662889 test: 0.640000\n",
      "\n",
      "Parameter containing:\n",
      "tensor([0., 0., 0., 0.], requires_grad=True)\n"
     ]
    },
    {
     "name": "stderr",
     "output_type": "stream",
     "text": [
      "epoch: 232: 100%|███████████████████████████████████████████████████████████████████| 50/50 [00:04<00:00, 10.39batch/s]\n"
     ]
    },
    {
     "name": "stdout",
     "output_type": "stream",
     "text": [
      "loss training: 0.752017\n"
     ]
    },
    {
     "name": "stderr",
     "output_type": "stream",
     "text": [
      "epoch: 233:   0%|                                                                            | 0/50 [00:00<?, ?batch/s]"
     ]
    },
    {
     "name": "stdout",
     "output_type": "stream",
     "text": [
      "accuracy train: 0.664222 test: 0.656000\n",
      "\n",
      "Parameter containing:\n",
      "tensor([0., 0., 0., 0.], requires_grad=True)\n"
     ]
    },
    {
     "name": "stderr",
     "output_type": "stream",
     "text": [
      "epoch: 233: 100%|███████████████████████████████████████████████████████████████████| 50/50 [00:04<00:00, 11.08batch/s]\n"
     ]
    },
    {
     "name": "stdout",
     "output_type": "stream",
     "text": [
      "loss training: 0.787185\n"
     ]
    },
    {
     "name": "stderr",
     "output_type": "stream",
     "text": [
      "epoch: 234:   0%|                                                                            | 0/50 [00:00<?, ?batch/s]"
     ]
    },
    {
     "name": "stdout",
     "output_type": "stream",
     "text": [
      "accuracy train: 0.671556 test: 0.644000\n",
      "\n",
      "Parameter containing:\n",
      "tensor([0., 0., 0., 0.], requires_grad=True)\n"
     ]
    },
    {
     "name": "stderr",
     "output_type": "stream",
     "text": [
      "epoch: 234: 100%|███████████████████████████████████████████████████████████████████| 50/50 [00:04<00:00, 10.76batch/s]\n"
     ]
    },
    {
     "name": "stdout",
     "output_type": "stream",
     "text": [
      "loss training: 0.812911\n"
     ]
    },
    {
     "name": "stderr",
     "output_type": "stream",
     "text": [
      "epoch: 235:   4%|██▋                                                                 | 2/50 [00:00<00:03, 13.64batch/s]"
     ]
    },
    {
     "name": "stdout",
     "output_type": "stream",
     "text": [
      "accuracy train: 0.666889 test: 0.634000\n",
      "\n",
      "Parameter containing:\n",
      "tensor([0., 0., 0., 0.], requires_grad=True)\n"
     ]
    },
    {
     "name": "stderr",
     "output_type": "stream",
     "text": [
      "epoch: 235: 100%|███████████████████████████████████████████████████████████████████| 50/50 [00:04<00:00, 10.72batch/s]\n"
     ]
    },
    {
     "name": "stdout",
     "output_type": "stream",
     "text": [
      "loss training: 0.777442\n"
     ]
    },
    {
     "name": "stderr",
     "output_type": "stream",
     "text": [
      "epoch: 236:   2%|█▎                                                                  | 1/50 [00:00<00:05,  8.95batch/s]"
     ]
    },
    {
     "name": "stdout",
     "output_type": "stream",
     "text": [
      "accuracy train: 0.718000 test: 0.710000\n",
      "\n",
      "Parameter containing:\n",
      "tensor([0., 0., 0., 0.], requires_grad=True)\n"
     ]
    },
    {
     "name": "stderr",
     "output_type": "stream",
     "text": [
      "epoch: 236: 100%|███████████████████████████████████████████████████████████████████| 50/50 [00:04<00:00, 10.60batch/s]\n"
     ]
    },
    {
     "name": "stdout",
     "output_type": "stream",
     "text": [
      "loss training: 0.799959\n"
     ]
    },
    {
     "name": "stderr",
     "output_type": "stream",
     "text": [
      "epoch: 237:   2%|█▎                                                                  | 1/50 [00:00<00:07,  6.15batch/s]"
     ]
    },
    {
     "name": "stdout",
     "output_type": "stream",
     "text": [
      "accuracy train: 0.665556 test: 0.638000\n",
      "\n",
      "Parameter containing:\n",
      "tensor([0., 0., 0., 0.], requires_grad=True)\n"
     ]
    },
    {
     "name": "stderr",
     "output_type": "stream",
     "text": [
      "epoch: 237: 100%|███████████████████████████████████████████████████████████████████| 50/50 [00:04<00:00, 10.63batch/s]\n"
     ]
    },
    {
     "name": "stdout",
     "output_type": "stream",
     "text": [
      "loss training: 0.797625\n"
     ]
    },
    {
     "name": "stderr",
     "output_type": "stream",
     "text": [
      "epoch: 238:   2%|█▎                                                                  | 1/50 [00:00<00:05,  8.72batch/s]"
     ]
    },
    {
     "name": "stdout",
     "output_type": "stream",
     "text": [
      "accuracy train: 0.661778 test: 0.622000\n",
      "\n",
      "Parameter containing:\n",
      "tensor([0., 0., 0., 0.], requires_grad=True)\n"
     ]
    },
    {
     "name": "stderr",
     "output_type": "stream",
     "text": [
      "epoch: 238: 100%|███████████████████████████████████████████████████████████████████| 50/50 [00:04<00:00, 10.68batch/s]\n"
     ]
    },
    {
     "name": "stdout",
     "output_type": "stream",
     "text": [
      "loss training: 0.826436\n"
     ]
    },
    {
     "name": "stderr",
     "output_type": "stream",
     "text": [
      "epoch: 239:   4%|██▋                                                                 | 2/50 [00:00<00:02, 16.04batch/s]"
     ]
    },
    {
     "name": "stdout",
     "output_type": "stream",
     "text": [
      "accuracy train: 0.651111 test: 0.634000\n",
      "\n",
      "Parameter containing:\n",
      "tensor([0., 0., 0., 0.], requires_grad=True)\n"
     ]
    },
    {
     "name": "stderr",
     "output_type": "stream",
     "text": [
      "epoch: 239: 100%|███████████████████████████████████████████████████████████████████| 50/50 [00:04<00:00, 10.33batch/s]\n"
     ]
    },
    {
     "name": "stdout",
     "output_type": "stream",
     "text": [
      "loss training: 0.857792\n"
     ]
    },
    {
     "name": "stderr",
     "output_type": "stream",
     "text": [
      "epoch: 240:   2%|█▎                                                                  | 1/50 [00:00<00:04,  9.93batch/s]"
     ]
    },
    {
     "name": "stdout",
     "output_type": "stream",
     "text": [
      "accuracy train: 0.683111 test: 0.658000\n",
      "\n",
      "Parameter containing:\n",
      "tensor([0., 0., 0., 0.], requires_grad=True)\n"
     ]
    },
    {
     "name": "stderr",
     "output_type": "stream",
     "text": [
      "epoch: 240: 100%|███████████████████████████████████████████████████████████████████| 50/50 [00:04<00:00, 10.10batch/s]\n"
     ]
    },
    {
     "name": "stdout",
     "output_type": "stream",
     "text": [
      "loss training: 0.796187\n"
     ]
    },
    {
     "name": "stderr",
     "output_type": "stream",
     "text": [
      "epoch: 241:   4%|██▋                                                                 | 2/50 [00:00<00:03, 12.01batch/s]"
     ]
    },
    {
     "name": "stdout",
     "output_type": "stream",
     "text": [
      "accuracy train: 0.701111 test: 0.678000\n",
      "\n",
      "Parameter containing:\n",
      "tensor([0., 0., 0., 0.], requires_grad=True)\n"
     ]
    },
    {
     "name": "stderr",
     "output_type": "stream",
     "text": [
      "epoch: 241: 100%|███████████████████████████████████████████████████████████████████| 50/50 [00:04<00:00, 10.33batch/s]\n"
     ]
    },
    {
     "name": "stdout",
     "output_type": "stream",
     "text": [
      "loss training: 0.786033\n"
     ]
    },
    {
     "name": "stderr",
     "output_type": "stream",
     "text": [
      "epoch: 242:   2%|█▎                                                                  | 1/50 [00:00<00:05,  9.28batch/s]"
     ]
    },
    {
     "name": "stdout",
     "output_type": "stream",
     "text": [
      "accuracy train: 0.672444 test: 0.654000\n",
      "\n",
      "Parameter containing:\n",
      "tensor([0., 0., 0., 0.], requires_grad=True)\n"
     ]
    },
    {
     "name": "stderr",
     "output_type": "stream",
     "text": [
      "epoch: 242: 100%|███████████████████████████████████████████████████████████████████| 50/50 [00:04<00:00, 10.58batch/s]\n"
     ]
    },
    {
     "name": "stdout",
     "output_type": "stream",
     "text": [
      "loss training: 0.809123\n"
     ]
    },
    {
     "name": "stderr",
     "output_type": "stream",
     "text": [
      "epoch: 243:   4%|██▋                                                                 | 2/50 [00:00<00:03, 13.64batch/s]"
     ]
    },
    {
     "name": "stdout",
     "output_type": "stream",
     "text": [
      "accuracy train: 0.703111 test: 0.678000\n",
      "\n",
      "Parameter containing:\n",
      "tensor([0., 0., 0., 0.], requires_grad=True)\n"
     ]
    },
    {
     "name": "stderr",
     "output_type": "stream",
     "text": [
      "epoch: 243: 100%|███████████████████████████████████████████████████████████████████| 50/50 [00:04<00:00, 11.56batch/s]\n"
     ]
    },
    {
     "name": "stdout",
     "output_type": "stream",
     "text": [
      "loss training: 0.830291\n"
     ]
    },
    {
     "name": "stderr",
     "output_type": "stream",
     "text": [
      "epoch: 244:   2%|█▎                                                                  | 1/50 [00:00<00:05,  8.43batch/s]"
     ]
    },
    {
     "name": "stdout",
     "output_type": "stream",
     "text": [
      "accuracy train: 0.664444 test: 0.644000\n",
      "\n",
      "Parameter containing:\n",
      "tensor([0., 0., 0., 0.], requires_grad=True)\n"
     ]
    },
    {
     "name": "stderr",
     "output_type": "stream",
     "text": [
      "epoch: 244: 100%|███████████████████████████████████████████████████████████████████| 50/50 [00:05<00:00,  9.71batch/s]\n"
     ]
    },
    {
     "name": "stdout",
     "output_type": "stream",
     "text": [
      "loss training: 0.784050\n"
     ]
    },
    {
     "name": "stderr",
     "output_type": "stream",
     "text": [
      "epoch: 245:   2%|█▎                                                                  | 1/50 [00:00<00:05,  9.20batch/s]"
     ]
    },
    {
     "name": "stdout",
     "output_type": "stream",
     "text": [
      "accuracy train: 0.689111 test: 0.662000\n",
      "\n",
      "Parameter containing:\n",
      "tensor([0., 0., 0., 0.], requires_grad=True)\n"
     ]
    },
    {
     "name": "stderr",
     "output_type": "stream",
     "text": [
      "epoch: 245: 100%|███████████████████████████████████████████████████████████████████| 50/50 [00:04<00:00, 11.02batch/s]\n"
     ]
    },
    {
     "name": "stdout",
     "output_type": "stream",
     "text": [
      "loss training: 0.809407\n"
     ]
    },
    {
     "name": "stderr",
     "output_type": "stream",
     "text": [
      "epoch: 246:   4%|██▋                                                                 | 2/50 [00:00<00:03, 12.23batch/s]"
     ]
    },
    {
     "name": "stdout",
     "output_type": "stream",
     "text": [
      "accuracy train: 0.660889 test: 0.626000\n",
      "\n",
      "Parameter containing:\n",
      "tensor([0., 0., 0., 0.], requires_grad=True)\n"
     ]
    },
    {
     "name": "stderr",
     "output_type": "stream",
     "text": [
      "epoch: 246: 100%|███████████████████████████████████████████████████████████████████| 50/50 [00:04<00:00, 10.66batch/s]\n"
     ]
    },
    {
     "name": "stdout",
     "output_type": "stream",
     "text": [
      "loss training: 0.813028\n"
     ]
    },
    {
     "name": "stderr",
     "output_type": "stream",
     "text": [
      "epoch: 247:   2%|█▎                                                                  | 1/50 [00:00<00:06,  7.01batch/s]"
     ]
    },
    {
     "name": "stdout",
     "output_type": "stream",
     "text": [
      "accuracy train: 0.694000 test: 0.670000\n",
      "\n",
      "Parameter containing:\n",
      "tensor([0., 0., 0., 0.], requires_grad=True)\n"
     ]
    },
    {
     "name": "stderr",
     "output_type": "stream",
     "text": [
      "epoch: 247: 100%|███████████████████████████████████████████████████████████████████| 50/50 [00:04<00:00, 10.74batch/s]\n"
     ]
    },
    {
     "name": "stdout",
     "output_type": "stream",
     "text": [
      "loss training: 1.074979\n"
     ]
    },
    {
     "name": "stderr",
     "output_type": "stream",
     "text": [
      "epoch: 248:   0%|                                                                            | 0/50 [00:00<?, ?batch/s]"
     ]
    },
    {
     "name": "stdout",
     "output_type": "stream",
     "text": [
      "accuracy train: 0.627111 test: 0.596000\n",
      "\n",
      "Parameter containing:\n",
      "tensor([0., 0., 0., 0.], requires_grad=True)\n"
     ]
    },
    {
     "name": "stderr",
     "output_type": "stream",
     "text": [
      "epoch: 248: 100%|███████████████████████████████████████████████████████████████████| 50/50 [00:04<00:00, 10.95batch/s]\n"
     ]
    },
    {
     "name": "stdout",
     "output_type": "stream",
     "text": [
      "loss training: 0.857881\n"
     ]
    },
    {
     "name": "stderr",
     "output_type": "stream",
     "text": [
      "epoch: 249:   4%|██▋                                                                 | 2/50 [00:00<00:03, 13.64batch/s]"
     ]
    },
    {
     "name": "stdout",
     "output_type": "stream",
     "text": [
      "accuracy train: 0.678222 test: 0.644000\n",
      "\n",
      "Parameter containing:\n",
      "tensor([0., 0., 0., 0.], requires_grad=True)\n"
     ]
    },
    {
     "name": "stderr",
     "output_type": "stream",
     "text": [
      "epoch: 249: 100%|███████████████████████████████████████████████████████████████████| 50/50 [00:04<00:00, 11.07batch/s]\n"
     ]
    },
    {
     "name": "stdout",
     "output_type": "stream",
     "text": [
      "loss training: 0.794716\n"
     ]
    },
    {
     "name": "stderr",
     "output_type": "stream",
     "text": [
      "epoch: 250:   4%|██▋                                                                 | 2/50 [00:00<00:03, 13.83batch/s]"
     ]
    },
    {
     "name": "stdout",
     "output_type": "stream",
     "text": [
      "accuracy train: 0.631778 test: 0.608000\n",
      "\n",
      "Parameter containing:\n",
      "tensor([0., 0., 0., 0.], requires_grad=True)\n"
     ]
    },
    {
     "name": "stderr",
     "output_type": "stream",
     "text": [
      "epoch: 250: 100%|███████████████████████████████████████████████████████████████████| 50/50 [00:04<00:00, 10.79batch/s]\n"
     ]
    },
    {
     "name": "stdout",
     "output_type": "stream",
     "text": [
      "loss training: 0.781145\n"
     ]
    },
    {
     "name": "stderr",
     "output_type": "stream",
     "text": [
      "epoch: 251:   2%|█▎                                                                  | 1/50 [00:00<00:05,  8.64batch/s]"
     ]
    },
    {
     "name": "stdout",
     "output_type": "stream",
     "text": [
      "accuracy train: 0.680444 test: 0.642000\n",
      "\n",
      "Parameter containing:\n",
      "tensor([0., 0., 0., 0.], requires_grad=True)\n"
     ]
    },
    {
     "name": "stderr",
     "output_type": "stream",
     "text": [
      "epoch: 251: 100%|███████████████████████████████████████████████████████████████████| 50/50 [00:04<00:00, 10.08batch/s]\n"
     ]
    },
    {
     "name": "stdout",
     "output_type": "stream",
     "text": [
      "loss training: 0.863905\n"
     ]
    },
    {
     "name": "stderr",
     "output_type": "stream",
     "text": [
      "epoch: 252:   4%|██▋                                                                 | 2/50 [00:00<00:03, 12.08batch/s]"
     ]
    },
    {
     "name": "stdout",
     "output_type": "stream",
     "text": [
      "accuracy train: 0.706222 test: 0.676000\n",
      "\n",
      "Parameter containing:\n",
      "tensor([0., 0., 0., 0.], requires_grad=True)\n"
     ]
    },
    {
     "name": "stderr",
     "output_type": "stream",
     "text": [
      "epoch: 252: 100%|███████████████████████████████████████████████████████████████████| 50/50 [00:04<00:00, 11.24batch/s]\n"
     ]
    },
    {
     "name": "stdout",
     "output_type": "stream",
     "text": [
      "loss training: 0.800409\n"
     ]
    },
    {
     "name": "stderr",
     "output_type": "stream",
     "text": [
      "epoch: 253:   0%|                                                                            | 0/50 [00:00<?, ?batch/s]"
     ]
    },
    {
     "name": "stdout",
     "output_type": "stream",
     "text": [
      "accuracy train: 0.644000 test: 0.614000\n",
      "\n",
      "Parameter containing:\n",
      "tensor([0., 0., 0., 0.], requires_grad=True)\n"
     ]
    },
    {
     "name": "stderr",
     "output_type": "stream",
     "text": [
      "epoch: 253: 100%|███████████████████████████████████████████████████████████████████| 50/50 [00:04<00:00, 10.80batch/s]\n"
     ]
    },
    {
     "name": "stdout",
     "output_type": "stream",
     "text": [
      "loss training: 0.982516\n"
     ]
    },
    {
     "name": "stderr",
     "output_type": "stream",
     "text": [
      "epoch: 254:   2%|█▎                                                                  | 1/50 [00:00<00:06,  7.83batch/s]"
     ]
    },
    {
     "name": "stdout",
     "output_type": "stream",
     "text": [
      "accuracy train: 0.706889 test: 0.688000\n",
      "\n",
      "Parameter containing:\n",
      "tensor([0., 0., 0., 0.], requires_grad=True)\n"
     ]
    },
    {
     "name": "stderr",
     "output_type": "stream",
     "text": [
      "epoch: 254: 100%|███████████████████████████████████████████████████████████████████| 50/50 [00:04<00:00, 10.44batch/s]\n"
     ]
    },
    {
     "name": "stdout",
     "output_type": "stream",
     "text": [
      "loss training: 1.120660\n"
     ]
    },
    {
     "name": "stderr",
     "output_type": "stream",
     "text": [
      "epoch: 255:   2%|█▎                                                                  | 1/50 [00:00<00:06,  7.43batch/s]"
     ]
    },
    {
     "name": "stdout",
     "output_type": "stream",
     "text": [
      "accuracy train: 0.662444 test: 0.632000\n",
      "\n",
      "Parameter containing:\n",
      "tensor([0., 0., 0., 0.], requires_grad=True)\n"
     ]
    },
    {
     "name": "stderr",
     "output_type": "stream",
     "text": [
      "epoch: 255: 100%|███████████████████████████████████████████████████████████████████| 50/50 [00:04<00:00, 10.41batch/s]\n"
     ]
    },
    {
     "name": "stdout",
     "output_type": "stream",
     "text": [
      "loss training: 0.883872\n"
     ]
    },
    {
     "name": "stderr",
     "output_type": "stream",
     "text": [
      "epoch: 256:   2%|█▎                                                                  | 1/50 [00:00<00:06,  7.71batch/s]"
     ]
    },
    {
     "name": "stdout",
     "output_type": "stream",
     "text": [
      "accuracy train: 0.701111 test: 0.668000\n",
      "\n",
      "Parameter containing:\n",
      "tensor([0., 0., 0., 0.], requires_grad=True)\n"
     ]
    },
    {
     "name": "stderr",
     "output_type": "stream",
     "text": [
      "epoch: 256: 100%|███████████████████████████████████████████████████████████████████| 50/50 [00:04<00:00, 10.55batch/s]\n"
     ]
    },
    {
     "name": "stdout",
     "output_type": "stream",
     "text": [
      "loss training: 0.802600\n"
     ]
    },
    {
     "name": "stderr",
     "output_type": "stream",
     "text": [
      "epoch: 257:   4%|██▋                                                                 | 2/50 [00:00<00:04, 11.59batch/s]"
     ]
    },
    {
     "name": "stdout",
     "output_type": "stream",
     "text": [
      "accuracy train: 0.704889 test: 0.674000\n",
      "\n",
      "Parameter containing:\n",
      "tensor([0., 0., 0., 0.], requires_grad=True)\n"
     ]
    },
    {
     "name": "stderr",
     "output_type": "stream",
     "text": [
      "epoch: 257: 100%|███████████████████████████████████████████████████████████████████| 50/50 [00:04<00:00, 10.68batch/s]\n"
     ]
    },
    {
     "name": "stdout",
     "output_type": "stream",
     "text": [
      "loss training: 0.805363\n"
     ]
    },
    {
     "name": "stderr",
     "output_type": "stream",
     "text": [
      "epoch: 258:   4%|██▋                                                                 | 2/50 [00:00<00:02, 16.71batch/s]"
     ]
    },
    {
     "name": "stdout",
     "output_type": "stream",
     "text": [
      "accuracy train: 0.657556 test: 0.632000\n",
      "\n",
      "Parameter containing:\n",
      "tensor([0., 0., 0., 0.], requires_grad=True)\n"
     ]
    },
    {
     "name": "stderr",
     "output_type": "stream",
     "text": [
      "epoch: 258: 100%|███████████████████████████████████████████████████████████████████| 50/50 [00:04<00:00, 10.82batch/s]\n"
     ]
    },
    {
     "name": "stdout",
     "output_type": "stream",
     "text": [
      "loss training: 0.797294\n"
     ]
    },
    {
     "name": "stderr",
     "output_type": "stream",
     "text": [
      "epoch: 259:   4%|██▋                                                                 | 2/50 [00:00<00:03, 12.23batch/s]"
     ]
    },
    {
     "name": "stdout",
     "output_type": "stream",
     "text": [
      "accuracy train: 0.686222 test: 0.650000\n",
      "\n",
      "Parameter containing:\n",
      "tensor([0., 0., 0., 0.], requires_grad=True)\n"
     ]
    },
    {
     "name": "stderr",
     "output_type": "stream",
     "text": [
      "epoch: 259: 100%|███████████████████████████████████████████████████████████████████| 50/50 [00:04<00:00, 10.40batch/s]\n"
     ]
    },
    {
     "name": "stdout",
     "output_type": "stream",
     "text": [
      "loss training: 0.811953\n"
     ]
    },
    {
     "name": "stderr",
     "output_type": "stream",
     "text": [
      "epoch: 260:   2%|█▎                                                                  | 1/50 [00:00<00:05,  9.55batch/s]"
     ]
    },
    {
     "name": "stdout",
     "output_type": "stream",
     "text": [
      "accuracy train: 0.717111 test: 0.708000\n",
      "\n",
      "Parameter containing:\n",
      "tensor([0., 0., 0., 0.], requires_grad=True)\n"
     ]
    },
    {
     "name": "stderr",
     "output_type": "stream",
     "text": [
      "epoch: 260: 100%|███████████████████████████████████████████████████████████████████| 50/50 [00:04<00:00, 10.91batch/s]\n"
     ]
    },
    {
     "name": "stdout",
     "output_type": "stream",
     "text": [
      "loss training: 0.805570\n"
     ]
    },
    {
     "name": "stderr",
     "output_type": "stream",
     "text": [
      "epoch: 261:   4%|██▋                                                                 | 2/50 [00:00<00:04, 11.87batch/s]"
     ]
    },
    {
     "name": "stdout",
     "output_type": "stream",
     "text": [
      "accuracy train: 0.676667 test: 0.650000\n",
      "\n",
      "Parameter containing:\n",
      "tensor([0., 0., 0., 0.], requires_grad=True)\n"
     ]
    },
    {
     "name": "stderr",
     "output_type": "stream",
     "text": [
      "epoch: 261: 100%|███████████████████████████████████████████████████████████████████| 50/50 [00:04<00:00, 10.63batch/s]\n"
     ]
    },
    {
     "name": "stdout",
     "output_type": "stream",
     "text": [
      "loss training: 0.858399\n"
     ]
    },
    {
     "name": "stderr",
     "output_type": "stream",
     "text": [
      "epoch: 262:   2%|█▎                                                                  | 1/50 [00:00<00:05,  9.73batch/s]"
     ]
    },
    {
     "name": "stdout",
     "output_type": "stream",
     "text": [
      "accuracy train: 0.688889 test: 0.658000\n",
      "\n",
      "Parameter containing:\n",
      "tensor([0., 0., 0., 0.], requires_grad=True)\n"
     ]
    },
    {
     "name": "stderr",
     "output_type": "stream",
     "text": [
      "epoch: 262: 100%|███████████████████████████████████████████████████████████████████| 50/50 [00:04<00:00, 11.96batch/s]\n"
     ]
    },
    {
     "name": "stdout",
     "output_type": "stream",
     "text": [
      "loss training: 0.808511\n"
     ]
    },
    {
     "name": "stderr",
     "output_type": "stream",
     "text": [
      "epoch: 263:   2%|█▎                                                                  | 1/50 [00:00<00:05,  9.64batch/s]"
     ]
    },
    {
     "name": "stdout",
     "output_type": "stream",
     "text": [
      "accuracy train: 0.653333 test: 0.620000\n",
      "\n",
      "Parameter containing:\n",
      "tensor([0., 0., 0., 0.], requires_grad=True)\n"
     ]
    },
    {
     "name": "stderr",
     "output_type": "stream",
     "text": [
      "epoch: 263: 100%|███████████████████████████████████████████████████████████████████| 50/50 [00:04<00:00, 10.31batch/s]\n"
     ]
    },
    {
     "name": "stdout",
     "output_type": "stream",
     "text": [
      "loss training: 0.764731\n"
     ]
    },
    {
     "name": "stderr",
     "output_type": "stream",
     "text": [
      "epoch: 264:   4%|██▋                                                                 | 2/50 [00:00<00:03, 13.55batch/s]"
     ]
    },
    {
     "name": "stdout",
     "output_type": "stream",
     "text": [
      "accuracy train: 0.672222 test: 0.638000\n",
      "\n",
      "Parameter containing:\n",
      "tensor([0., 0., 0., 0.], requires_grad=True)\n"
     ]
    },
    {
     "name": "stderr",
     "output_type": "stream",
     "text": [
      "epoch: 264: 100%|███████████████████████████████████████████████████████████████████| 50/50 [00:04<00:00, 10.64batch/s]\n"
     ]
    },
    {
     "name": "stdout",
     "output_type": "stream",
     "text": [
      "loss training: 0.772207\n"
     ]
    },
    {
     "name": "stderr",
     "output_type": "stream",
     "text": [
      "epoch: 265:   2%|█▎                                                                  | 1/50 [00:00<00:05,  8.36batch/s]"
     ]
    },
    {
     "name": "stdout",
     "output_type": "stream",
     "text": [
      "accuracy train: 0.705556 test: 0.682000\n",
      "\n",
      "Parameter containing:\n",
      "tensor([0., 0., 0., 0.], requires_grad=True)\n"
     ]
    },
    {
     "name": "stderr",
     "output_type": "stream",
     "text": [
      "epoch: 265: 100%|███████████████████████████████████████████████████████████████████| 50/50 [00:05<00:00,  9.79batch/s]\n"
     ]
    },
    {
     "name": "stdout",
     "output_type": "stream",
     "text": [
      "loss training: 0.758903\n"
     ]
    },
    {
     "name": "stderr",
     "output_type": "stream",
     "text": [
      "epoch: 266:   4%|██▋                                                                 | 2/50 [00:00<00:03, 13.37batch/s]"
     ]
    },
    {
     "name": "stdout",
     "output_type": "stream",
     "text": [
      "accuracy train: 0.657778 test: 0.636000\n",
      "\n",
      "Parameter containing:\n",
      "tensor([0., 0., 0., 0.], requires_grad=True)\n"
     ]
    },
    {
     "name": "stderr",
     "output_type": "stream",
     "text": [
      "epoch: 266: 100%|███████████████████████████████████████████████████████████████████| 50/50 [00:04<00:00, 10.69batch/s]\n"
     ]
    },
    {
     "name": "stdout",
     "output_type": "stream",
     "text": [
      "loss training: 0.796521\n"
     ]
    },
    {
     "name": "stderr",
     "output_type": "stream",
     "text": [
      "epoch: 267:   0%|                                                                            | 0/50 [00:00<?, ?batch/s]"
     ]
    },
    {
     "name": "stdout",
     "output_type": "stream",
     "text": [
      "accuracy train: 0.685333 test: 0.648000\n",
      "\n",
      "Parameter containing:\n",
      "tensor([0., 0., 0., 0.], requires_grad=True)\n"
     ]
    },
    {
     "name": "stderr",
     "output_type": "stream",
     "text": [
      "epoch: 267: 100%|███████████████████████████████████████████████████████████████████| 50/50 [00:04<00:00, 10.72batch/s]\n"
     ]
    },
    {
     "name": "stdout",
     "output_type": "stream",
     "text": [
      "loss training: 0.853716\n"
     ]
    },
    {
     "name": "stderr",
     "output_type": "stream",
     "text": [
      "epoch: 268:   2%|█▎                                                                  | 1/50 [00:00<00:05,  8.29batch/s]"
     ]
    },
    {
     "name": "stdout",
     "output_type": "stream",
     "text": [
      "accuracy train: 0.660000 test: 0.634000\n",
      "\n",
      "Parameter containing:\n",
      "tensor([0., 0., 0., 0.], requires_grad=True)\n"
     ]
    },
    {
     "name": "stderr",
     "output_type": "stream",
     "text": [
      "epoch: 268: 100%|███████████████████████████████████████████████████████████████████| 50/50 [00:04<00:00, 10.62batch/s]\n"
     ]
    },
    {
     "name": "stdout",
     "output_type": "stream",
     "text": [
      "loss training: 0.825497\n"
     ]
    },
    {
     "name": "stderr",
     "output_type": "stream",
     "text": [
      "epoch: 269:   2%|█▎                                                                  | 1/50 [00:00<00:05,  9.20batch/s]"
     ]
    },
    {
     "name": "stdout",
     "output_type": "stream",
     "text": [
      "accuracy train: 0.679556 test: 0.646000\n",
      "\n",
      "Parameter containing:\n",
      "tensor([0., 0., 0., 0.], requires_grad=True)\n"
     ]
    },
    {
     "name": "stderr",
     "output_type": "stream",
     "text": [
      "epoch: 269: 100%|███████████████████████████████████████████████████████████████████| 50/50 [00:04<00:00, 10.35batch/s]\n"
     ]
    },
    {
     "name": "stdout",
     "output_type": "stream",
     "text": [
      "loss training: 0.781759\n"
     ]
    },
    {
     "name": "stderr",
     "output_type": "stream",
     "text": [
      "epoch: 270:   0%|                                                                            | 0/50 [00:00<?, ?batch/s]"
     ]
    },
    {
     "name": "stdout",
     "output_type": "stream",
     "text": [
      "accuracy train: 0.684667 test: 0.662000\n",
      "\n",
      "Parameter containing:\n",
      "tensor([0., 0., 0., 0.], requires_grad=True)\n"
     ]
    },
    {
     "name": "stderr",
     "output_type": "stream",
     "text": [
      "epoch: 270: 100%|███████████████████████████████████████████████████████████████████| 50/50 [00:05<00:00,  9.96batch/s]\n"
     ]
    },
    {
     "name": "stdout",
     "output_type": "stream",
     "text": [
      "loss training: 0.805564\n"
     ]
    },
    {
     "name": "stderr",
     "output_type": "stream",
     "text": [
      "epoch: 271:   2%|█▎                                                                  | 1/50 [00:00<00:07,  6.60batch/s]"
     ]
    },
    {
     "name": "stdout",
     "output_type": "stream",
     "text": [
      "accuracy train: 0.714444 test: 0.704000\n",
      "\n",
      "Parameter containing:\n",
      "tensor([0., 0., 0., 0.], requires_grad=True)\n"
     ]
    },
    {
     "name": "stderr",
     "output_type": "stream",
     "text": [
      "epoch: 271: 100%|███████████████████████████████████████████████████████████████████| 50/50 [00:04<00:00, 10.88batch/s]\n"
     ]
    },
    {
     "name": "stdout",
     "output_type": "stream",
     "text": [
      "loss training: 0.782858\n"
     ]
    },
    {
     "name": "stderr",
     "output_type": "stream",
     "text": [
      "epoch: 272:   2%|█▎                                                                  | 1/50 [00:00<00:04,  9.93batch/s]"
     ]
    },
    {
     "name": "stdout",
     "output_type": "stream",
     "text": [
      "accuracy train: 0.671778 test: 0.648000\n",
      "\n",
      "Parameter containing:\n",
      "tensor([0., 0., 0., 0.], requires_grad=True)\n"
     ]
    },
    {
     "name": "stderr",
     "output_type": "stream",
     "text": [
      "epoch: 272: 100%|███████████████████████████████████████████████████████████████████| 50/50 [00:04<00:00, 10.73batch/s]\n"
     ]
    },
    {
     "name": "stdout",
     "output_type": "stream",
     "text": [
      "loss training: 0.759511\n"
     ]
    },
    {
     "name": "stderr",
     "output_type": "stream",
     "text": [
      "epoch: 273:   2%|█▎                                                                  | 1/50 [00:00<00:05,  8.22batch/s]"
     ]
    },
    {
     "name": "stdout",
     "output_type": "stream",
     "text": [
      "accuracy train: 0.650667 test: 0.626000\n",
      "\n",
      "Parameter containing:\n",
      "tensor([0., 0., 0., 0.], requires_grad=True)\n"
     ]
    },
    {
     "name": "stderr",
     "output_type": "stream",
     "text": [
      "epoch: 273: 100%|███████████████████████████████████████████████████████████████████| 50/50 [00:04<00:00, 10.45batch/s]\n"
     ]
    },
    {
     "name": "stdout",
     "output_type": "stream",
     "text": [
      "loss training: 0.756053\n"
     ]
    },
    {
     "name": "stderr",
     "output_type": "stream",
     "text": [
      "epoch: 274:   2%|█▎                                                                  | 1/50 [00:00<00:05,  9.37batch/s]"
     ]
    },
    {
     "name": "stdout",
     "output_type": "stream",
     "text": [
      "accuracy train: 0.675333 test: 0.626000\n",
      "\n",
      "Parameter containing:\n",
      "tensor([0., 0., 0., 0.], requires_grad=True)\n"
     ]
    },
    {
     "name": "stderr",
     "output_type": "stream",
     "text": [
      "epoch: 274: 100%|███████████████████████████████████████████████████████████████████| 50/50 [00:04<00:00, 10.98batch/s]\n"
     ]
    },
    {
     "name": "stdout",
     "output_type": "stream",
     "text": [
      "loss training: 0.778937\n"
     ]
    },
    {
     "name": "stderr",
     "output_type": "stream",
     "text": [
      "epoch: 275:   2%|█▎                                                                  | 1/50 [00:00<00:06,  7.27batch/s]"
     ]
    },
    {
     "name": "stdout",
     "output_type": "stream",
     "text": [
      "accuracy train: 0.712889 test: 0.694000\n",
      "\n",
      "Parameter containing:\n",
      "tensor([0., 0., 0., 0.], requires_grad=True)\n"
     ]
    },
    {
     "name": "stderr",
     "output_type": "stream",
     "text": [
      "epoch: 275: 100%|███████████████████████████████████████████████████████████████████| 50/50 [00:04<00:00, 10.43batch/s]\n"
     ]
    },
    {
     "name": "stdout",
     "output_type": "stream",
     "text": [
      "loss training: 0.769383\n"
     ]
    },
    {
     "name": "stderr",
     "output_type": "stream",
     "text": [
      "epoch: 276:   2%|█▎                                                                  | 1/50 [00:00<00:05,  9.20batch/s]"
     ]
    },
    {
     "name": "stdout",
     "output_type": "stream",
     "text": [
      "accuracy train: 0.640000 test: 0.608000\n",
      "\n",
      "Parameter containing:\n",
      "tensor([0., 0., 0., 0.], requires_grad=True)\n"
     ]
    },
    {
     "name": "stderr",
     "output_type": "stream",
     "text": [
      "epoch: 276: 100%|███████████████████████████████████████████████████████████████████| 50/50 [00:04<00:00, 10.40batch/s]\n"
     ]
    },
    {
     "name": "stdout",
     "output_type": "stream",
     "text": [
      "loss training: 0.792956\n"
     ]
    },
    {
     "name": "stderr",
     "output_type": "stream",
     "text": [
      "epoch: 277:   4%|██▋                                                                 | 2/50 [00:00<00:03, 12.53batch/s]"
     ]
    },
    {
     "name": "stdout",
     "output_type": "stream",
     "text": [
      "accuracy train: 0.687111 test: 0.660000\n",
      "\n",
      "Parameter containing:\n",
      "tensor([0., 0., 0., 0.], requires_grad=True)\n"
     ]
    },
    {
     "name": "stderr",
     "output_type": "stream",
     "text": [
      "epoch: 277: 100%|███████████████████████████████████████████████████████████████████| 50/50 [00:04<00:00, 10.70batch/s]\n"
     ]
    },
    {
     "name": "stdout",
     "output_type": "stream",
     "text": [
      "loss training: 0.775129\n"
     ]
    },
    {
     "name": "stderr",
     "output_type": "stream",
     "text": [
      "epoch: 278:   2%|█▎                                                                  | 1/50 [00:00<00:06,  7.54batch/s]"
     ]
    },
    {
     "name": "stdout",
     "output_type": "stream",
     "text": [
      "accuracy train: 0.709333 test: 0.692000\n",
      "\n",
      "Parameter containing:\n",
      "tensor([0., 0., 0., 0.], requires_grad=True)\n"
     ]
    },
    {
     "name": "stderr",
     "output_type": "stream",
     "text": [
      "epoch: 278: 100%|███████████████████████████████████████████████████████████████████| 50/50 [00:04<00:00, 10.92batch/s]\n"
     ]
    },
    {
     "name": "stdout",
     "output_type": "stream",
     "text": [
      "loss training: 0.772821\n"
     ]
    },
    {
     "name": "stderr",
     "output_type": "stream",
     "text": [
      "epoch: 279:   2%|█▎                                                                  | 1/50 [00:00<00:05,  9.73batch/s]"
     ]
    },
    {
     "name": "stdout",
     "output_type": "stream",
     "text": [
      "accuracy train: 0.655333 test: 0.614000\n",
      "\n",
      "Parameter containing:\n",
      "tensor([0., 0., 0., 0.], requires_grad=True)\n"
     ]
    },
    {
     "name": "stderr",
     "output_type": "stream",
     "text": [
      "epoch: 279: 100%|███████████████████████████████████████████████████████████████████| 50/50 [00:04<00:00, 11.17batch/s]\n"
     ]
    },
    {
     "name": "stdout",
     "output_type": "stream",
     "text": [
      "loss training: 0.791369\n"
     ]
    },
    {
     "name": "stderr",
     "output_type": "stream",
     "text": [
      "epoch: 280:   2%|█▎                                                                  | 1/50 [00:00<00:04,  9.83batch/s]"
     ]
    },
    {
     "name": "stdout",
     "output_type": "stream",
     "text": [
      "accuracy train: 0.690444 test: 0.658000\n",
      "\n",
      "Parameter containing:\n",
      "tensor([0., 0., 0., 0.], requires_grad=True)\n"
     ]
    },
    {
     "name": "stderr",
     "output_type": "stream",
     "text": [
      "epoch: 280: 100%|███████████████████████████████████████████████████████████████████| 50/50 [00:04<00:00, 11.46batch/s]\n"
     ]
    },
    {
     "name": "stdout",
     "output_type": "stream",
     "text": [
      "loss training: 0.802183\n"
     ]
    },
    {
     "name": "stderr",
     "output_type": "stream",
     "text": [
      "epoch: 281:   4%|██▋                                                                 | 2/50 [00:00<00:03, 14.02batch/s]"
     ]
    },
    {
     "name": "stdout",
     "output_type": "stream",
     "text": [
      "accuracy train: 0.649778 test: 0.630000\n",
      "\n",
      "Parameter containing:\n",
      "tensor([0., 0., 0., 0.], requires_grad=True)\n"
     ]
    },
    {
     "name": "stderr",
     "output_type": "stream",
     "text": [
      "epoch: 281: 100%|███████████████████████████████████████████████████████████████████| 50/50 [00:04<00:00, 10.92batch/s]\n"
     ]
    },
    {
     "name": "stdout",
     "output_type": "stream",
     "text": [
      "loss training: 0.750946\n"
     ]
    },
    {
     "name": "stderr",
     "output_type": "stream",
     "text": [
      "epoch: 282:   2%|█▎                                                                  | 1/50 [00:00<00:06,  7.90batch/s]"
     ]
    },
    {
     "name": "stdout",
     "output_type": "stream",
     "text": [
      "accuracy train: 0.680222 test: 0.646000\n",
      "\n",
      "Parameter containing:\n",
      "tensor([0., 0., 0., 0.], requires_grad=True)\n"
     ]
    },
    {
     "name": "stderr",
     "output_type": "stream",
     "text": [
      "epoch: 282: 100%|███████████████████████████████████████████████████████████████████| 50/50 [00:04<00:00, 10.55batch/s]\n"
     ]
    },
    {
     "name": "stdout",
     "output_type": "stream",
     "text": [
      "loss training: 0.801610\n"
     ]
    },
    {
     "name": "stderr",
     "output_type": "stream",
     "text": [
      "epoch: 283:   0%|                                                                            | 0/50 [00:00<?, ?batch/s]"
     ]
    },
    {
     "name": "stdout",
     "output_type": "stream",
     "text": [
      "accuracy train: 0.668222 test: 0.638000\n",
      "\n",
      "Parameter containing:\n",
      "tensor([0., 0., 0., 0.], requires_grad=True)\n"
     ]
    },
    {
     "name": "stderr",
     "output_type": "stream",
     "text": [
      "epoch: 283: 100%|███████████████████████████████████████████████████████████████████| 50/50 [00:04<00:00, 11.12batch/s]\n"
     ]
    },
    {
     "name": "stdout",
     "output_type": "stream",
     "text": [
      "loss training: 0.779387\n"
     ]
    },
    {
     "name": "stderr",
     "output_type": "stream",
     "text": [
      "epoch: 284:   4%|██▋                                                                 | 2/50 [00:00<00:03, 13.19batch/s]"
     ]
    },
    {
     "name": "stdout",
     "output_type": "stream",
     "text": [
      "accuracy train: 0.658222 test: 0.628000\n",
      "\n",
      "Parameter containing:\n",
      "tensor([0., 0., 0., 0.], requires_grad=True)\n"
     ]
    },
    {
     "name": "stderr",
     "output_type": "stream",
     "text": [
      "epoch: 284: 100%|███████████████████████████████████████████████████████████████████| 50/50 [00:04<00:00, 11.59batch/s]\n"
     ]
    },
    {
     "name": "stdout",
     "output_type": "stream",
     "text": [
      "loss training: 0.838869\n"
     ]
    },
    {
     "name": "stderr",
     "output_type": "stream",
     "text": [
      "epoch: 285:   4%|██▋                                                                 | 2/50 [00:00<00:04, 11.87batch/s]"
     ]
    },
    {
     "name": "stdout",
     "output_type": "stream",
     "text": [
      "accuracy train: 0.667111 test: 0.650000\n",
      "\n",
      "Parameter containing:\n",
      "tensor([0., 0., 0., 0.], requires_grad=True)\n"
     ]
    },
    {
     "name": "stderr",
     "output_type": "stream",
     "text": [
      "epoch: 285: 100%|███████████████████████████████████████████████████████████████████| 50/50 [00:04<00:00, 11.29batch/s]\n"
     ]
    },
    {
     "name": "stdout",
     "output_type": "stream",
     "text": [
      "loss training: 0.785047\n"
     ]
    },
    {
     "name": "stderr",
     "output_type": "stream",
     "text": [
      "epoch: 286:   0%|                                                                            | 0/50 [00:00<?, ?batch/s]"
     ]
    },
    {
     "name": "stdout",
     "output_type": "stream",
     "text": [
      "accuracy train: 0.656000 test: 0.620000\n",
      "\n",
      "Parameter containing:\n",
      "tensor([0., 0., 0., 0.], requires_grad=True)\n"
     ]
    },
    {
     "name": "stderr",
     "output_type": "stream",
     "text": [
      "epoch: 286: 100%|███████████████████████████████████████████████████████████████████| 50/50 [00:05<00:00,  9.83batch/s]\n"
     ]
    },
    {
     "name": "stdout",
     "output_type": "stream",
     "text": [
      "loss training: 0.777878\n"
     ]
    },
    {
     "name": "stderr",
     "output_type": "stream",
     "text": [
      "epoch: 287:   2%|█▎                                                                  | 1/50 [00:00<00:05,  9.46batch/s]"
     ]
    },
    {
     "name": "stdout",
     "output_type": "stream",
     "text": [
      "accuracy train: 0.700667 test: 0.672000\n",
      "\n",
      "Parameter containing:\n",
      "tensor([0., 0., 0., 0.], requires_grad=True)\n"
     ]
    },
    {
     "name": "stderr",
     "output_type": "stream",
     "text": [
      "epoch: 287: 100%|███████████████████████████████████████████████████████████████████| 50/50 [00:04<00:00, 11.12batch/s]\n"
     ]
    },
    {
     "name": "stdout",
     "output_type": "stream",
     "text": [
      "loss training: 0.794998\n"
     ]
    },
    {
     "name": "stderr",
     "output_type": "stream",
     "text": [
      "epoch: 288:   2%|█▎                                                                  | 1/50 [00:00<00:05,  9.03batch/s]"
     ]
    },
    {
     "name": "stdout",
     "output_type": "stream",
     "text": [
      "accuracy train: 0.690667 test: 0.668000\n",
      "\n",
      "Parameter containing:\n",
      "tensor([0., 0., 0., 0.], requires_grad=True)\n"
     ]
    },
    {
     "name": "stderr",
     "output_type": "stream",
     "text": [
      "epoch: 288: 100%|███████████████████████████████████████████████████████████████████| 50/50 [00:04<00:00, 10.58batch/s]\n"
     ]
    },
    {
     "name": "stdout",
     "output_type": "stream",
     "text": [
      "loss training: 0.789800\n"
     ]
    },
    {
     "name": "stderr",
     "output_type": "stream",
     "text": [
      "epoch: 289:   2%|█▎                                                                  | 1/50 [00:00<00:08,  6.11batch/s]"
     ]
    },
    {
     "name": "stdout",
     "output_type": "stream",
     "text": [
      "accuracy train: 0.710000 test: 0.686000\n",
      "\n",
      "Parameter containing:\n",
      "tensor([0., 0., 0., 0.], requires_grad=True)\n"
     ]
    },
    {
     "name": "stderr",
     "output_type": "stream",
     "text": [
      "epoch: 289: 100%|███████████████████████████████████████████████████████████████████| 50/50 [00:05<00:00,  9.82batch/s]\n"
     ]
    },
    {
     "name": "stdout",
     "output_type": "stream",
     "text": [
      "loss training: 0.790739\n"
     ]
    },
    {
     "name": "stderr",
     "output_type": "stream",
     "text": [
      "epoch: 290:   2%|█▎                                                                  | 1/50 [00:00<00:07,  6.96batch/s]"
     ]
    },
    {
     "name": "stdout",
     "output_type": "stream",
     "text": [
      "accuracy train: 0.698000 test: 0.670000\n",
      "\n",
      "Parameter containing:\n",
      "tensor([0., 0., 0., 0.], requires_grad=True)\n"
     ]
    },
    {
     "name": "stderr",
     "output_type": "stream",
     "text": [
      "epoch: 290: 100%|███████████████████████████████████████████████████████████████████| 50/50 [00:04<00:00, 11.89batch/s]\n"
     ]
    },
    {
     "name": "stdout",
     "output_type": "stream",
     "text": [
      "loss training: 0.794032\n"
     ]
    },
    {
     "name": "stderr",
     "output_type": "stream",
     "text": [
      "epoch: 291:   4%|██▋                                                                 | 2/50 [00:00<00:04, 11.66batch/s]"
     ]
    },
    {
     "name": "stdout",
     "output_type": "stream",
     "text": [
      "accuracy train: 0.641111 test: 0.618000\n",
      "\n",
      "Parameter containing:\n",
      "tensor([0., 0., 0., 0.], requires_grad=True)\n"
     ]
    },
    {
     "name": "stderr",
     "output_type": "stream",
     "text": [
      "epoch: 291: 100%|███████████████████████████████████████████████████████████████████| 50/50 [00:03<00:00, 12.69batch/s]\n"
     ]
    },
    {
     "name": "stdout",
     "output_type": "stream",
     "text": [
      "loss training: 0.930028\n"
     ]
    },
    {
     "name": "stderr",
     "output_type": "stream",
     "text": [
      "epoch: 292:   0%|                                                                            | 0/50 [00:00<?, ?batch/s]"
     ]
    },
    {
     "name": "stdout",
     "output_type": "stream",
     "text": [
      "accuracy train: 0.656222 test: 0.634000\n",
      "\n",
      "Parameter containing:\n",
      "tensor([0., 0., 0., 0.], requires_grad=True)\n"
     ]
    },
    {
     "name": "stderr",
     "output_type": "stream",
     "text": [
      "epoch: 292: 100%|███████████████████████████████████████████████████████████████████| 50/50 [00:04<00:00, 11.40batch/s]\n"
     ]
    },
    {
     "name": "stdout",
     "output_type": "stream",
     "text": [
      "loss training: 0.798384\n"
     ]
    },
    {
     "name": "stderr",
     "output_type": "stream",
     "text": [
      "epoch: 293:   2%|█▎                                                                  | 1/50 [00:00<00:06,  7.14batch/s]"
     ]
    },
    {
     "name": "stdout",
     "output_type": "stream",
     "text": [
      "accuracy train: 0.704667 test: 0.682000\n",
      "\n",
      "Parameter containing:\n",
      "tensor([0., 0., 0., 0.], requires_grad=True)\n"
     ]
    },
    {
     "name": "stderr",
     "output_type": "stream",
     "text": [
      "epoch: 293: 100%|███████████████████████████████████████████████████████████████████| 50/50 [00:04<00:00, 11.95batch/s]\n"
     ]
    },
    {
     "name": "stdout",
     "output_type": "stream",
     "text": [
      "loss training: 0.759022\n"
     ]
    },
    {
     "name": "stderr",
     "output_type": "stream",
     "text": [
      "epoch: 294:   4%|██▋                                                                 | 2/50 [00:00<00:03, 13.83batch/s]"
     ]
    },
    {
     "name": "stdout",
     "output_type": "stream",
     "text": [
      "accuracy train: 0.676667 test: 0.638000\n",
      "\n",
      "Parameter containing:\n",
      "tensor([0., 0., 0., 0.], requires_grad=True)\n"
     ]
    },
    {
     "name": "stderr",
     "output_type": "stream",
     "text": [
      "epoch: 294: 100%|███████████████████████████████████████████████████████████████████| 50/50 [00:03<00:00, 13.70batch/s]\n"
     ]
    },
    {
     "name": "stdout",
     "output_type": "stream",
     "text": [
      "loss training: 0.791316\n"
     ]
    },
    {
     "name": "stderr",
     "output_type": "stream",
     "text": [
      "epoch: 295:   4%|██▋                                                                 | 2/50 [00:00<00:03, 13.37batch/s]"
     ]
    },
    {
     "name": "stdout",
     "output_type": "stream",
     "text": [
      "accuracy train: 0.681111 test: 0.622000\n",
      "\n",
      "Parameter containing:\n",
      "tensor([0., 0., 0., 0.], requires_grad=True)\n"
     ]
    },
    {
     "name": "stderr",
     "output_type": "stream",
     "text": [
      "epoch: 295: 100%|███████████████████████████████████████████████████████████████████| 50/50 [00:03<00:00, 12.95batch/s]\n"
     ]
    },
    {
     "name": "stdout",
     "output_type": "stream",
     "text": [
      "loss training: 0.787043\n"
     ]
    },
    {
     "name": "stderr",
     "output_type": "stream",
     "text": [
      "epoch: 296:   4%|██▋                                                                 | 2/50 [00:00<00:02, 16.71batch/s]"
     ]
    },
    {
     "name": "stdout",
     "output_type": "stream",
     "text": [
      "accuracy train: 0.624889 test: 0.600000\n",
      "\n",
      "Parameter containing:\n",
      "tensor([0., 0., 0., 0.], requires_grad=True)\n"
     ]
    },
    {
     "name": "stderr",
     "output_type": "stream",
     "text": [
      "epoch: 296: 100%|███████████████████████████████████████████████████████████████████| 50/50 [00:03<00:00, 13.04batch/s]\n"
     ]
    },
    {
     "name": "stdout",
     "output_type": "stream",
     "text": [
      "loss training: 0.796843\n"
     ]
    },
    {
     "name": "stderr",
     "output_type": "stream",
     "text": [
      "epoch: 297:   0%|                                                                            | 0/50 [00:00<?, ?batch/s]"
     ]
    },
    {
     "name": "stdout",
     "output_type": "stream",
     "text": [
      "accuracy train: 0.657556 test: 0.640000\n",
      "\n",
      "Parameter containing:\n",
      "tensor([0., 0., 0., 0.], requires_grad=True)\n"
     ]
    },
    {
     "name": "stderr",
     "output_type": "stream",
     "text": [
      "epoch: 297: 100%|███████████████████████████████████████████████████████████████████| 50/50 [00:03<00:00, 12.69batch/s]\n"
     ]
    },
    {
     "name": "stdout",
     "output_type": "stream",
     "text": [
      "loss training: 0.762919\n"
     ]
    },
    {
     "name": "stderr",
     "output_type": "stream",
     "text": [
      "epoch: 298:   0%|                                                                            | 0/50 [00:00<?, ?batch/s]"
     ]
    },
    {
     "name": "stdout",
     "output_type": "stream",
     "text": [
      "accuracy train: 0.692222 test: 0.656000\n",
      "\n",
      "Parameter containing:\n",
      "tensor([0., 0., 0., 0.], requires_grad=True)\n"
     ]
    },
    {
     "name": "stderr",
     "output_type": "stream",
     "text": [
      "epoch: 298: 100%|███████████████████████████████████████████████████████████████████| 50/50 [00:03<00:00, 13.13batch/s]\n"
     ]
    },
    {
     "name": "stdout",
     "output_type": "stream",
     "text": [
      "loss training: 0.790659\n"
     ]
    },
    {
     "name": "stderr",
     "output_type": "stream",
     "text": [
      "epoch: 299:   2%|█▎                                                                  | 1/50 [00:00<00:04,  9.93batch/s]"
     ]
    },
    {
     "name": "stdout",
     "output_type": "stream",
     "text": [
      "accuracy train: 0.642889 test: 0.606000\n",
      "\n",
      "Parameter containing:\n",
      "tensor([0., 0., 0., 0.], requires_grad=True)\n"
     ]
    },
    {
     "name": "stderr",
     "output_type": "stream",
     "text": [
      "epoch: 299: 100%|███████████████████████████████████████████████████████████████████| 50/50 [00:03<00:00, 12.98batch/s]\n"
     ]
    },
    {
     "name": "stdout",
     "output_type": "stream",
     "text": [
      "loss training: 0.782499\n"
     ]
    },
    {
     "name": "stderr",
     "output_type": "stream",
     "text": [
      "epoch: 300:   4%|██▋                                                                 | 2/50 [00:00<00:03, 12.01batch/s]"
     ]
    },
    {
     "name": "stdout",
     "output_type": "stream",
     "text": [
      "accuracy train: 0.672222 test: 0.646000\n",
      "\n",
      "Parameter containing:\n",
      "tensor([0., 0., 0., 0.], requires_grad=True)\n"
     ]
    },
    {
     "name": "stderr",
     "output_type": "stream",
     "text": [
      "epoch: 300: 100%|███████████████████████████████████████████████████████████████████| 50/50 [00:04<00:00, 12.49batch/s]\n"
     ]
    },
    {
     "name": "stdout",
     "output_type": "stream",
     "text": [
      "loss training: 0.774409\n"
     ]
    },
    {
     "name": "stderr",
     "output_type": "stream",
     "text": [
      "epoch: 301:   0%|                                                                            | 0/50 [00:00<?, ?batch/s]"
     ]
    },
    {
     "name": "stdout",
     "output_type": "stream",
     "text": [
      "accuracy train: 0.656222 test: 0.626000\n",
      "\n",
      "Parameter containing:\n",
      "tensor([0., 0., 0., 0.], requires_grad=True)\n"
     ]
    },
    {
     "name": "stderr",
     "output_type": "stream",
     "text": [
      "epoch: 301: 100%|███████████████████████████████████████████████████████████████████| 50/50 [00:04<00:00, 12.47batch/s]\n"
     ]
    },
    {
     "name": "stdout",
     "output_type": "stream",
     "text": [
      "loss training: 0.821215\n"
     ]
    },
    {
     "name": "stderr",
     "output_type": "stream",
     "text": [
      "epoch: 302:   4%|██▋                                                                 | 2/50 [00:00<00:02, 19.10batch/s]"
     ]
    },
    {
     "name": "stdout",
     "output_type": "stream",
     "text": [
      "accuracy train: 0.708444 test: 0.688000\n",
      "\n",
      "Parameter containing:\n",
      "tensor([0., 0., 0., 0.], requires_grad=True)\n"
     ]
    },
    {
     "name": "stderr",
     "output_type": "stream",
     "text": [
      "epoch: 302: 100%|███████████████████████████████████████████████████████████████████| 50/50 [00:04<00:00, 12.49batch/s]\n"
     ]
    },
    {
     "name": "stdout",
     "output_type": "stream",
     "text": [
      "loss training: 0.748675\n"
     ]
    },
    {
     "name": "stderr",
     "output_type": "stream",
     "text": [
      "epoch: 303:   4%|██▋                                                                 | 2/50 [00:00<00:03, 14.64batch/s]"
     ]
    },
    {
     "name": "stdout",
     "output_type": "stream",
     "text": [
      "accuracy train: 0.712444 test: 0.696000\n",
      "\n",
      "Parameter containing:\n",
      "tensor([0., 0., 0., 0.], requires_grad=True)\n"
     ]
    },
    {
     "name": "stderr",
     "output_type": "stream",
     "text": [
      "epoch: 303: 100%|███████████████████████████████████████████████████████████████████| 50/50 [00:03<00:00, 12.97batch/s]\n"
     ]
    },
    {
     "name": "stdout",
     "output_type": "stream",
     "text": [
      "loss training: 1.265373\n"
     ]
    },
    {
     "name": "stderr",
     "output_type": "stream",
     "text": [
      "epoch: 304:   4%|██▋                                                                 | 2/50 [00:00<00:03, 12.77batch/s]"
     ]
    },
    {
     "name": "stdout",
     "output_type": "stream",
     "text": [
      "accuracy train: 0.718444 test: 0.694000\n",
      "\n",
      "Parameter containing:\n",
      "tensor([0., 0., 0., 0.], requires_grad=True)\n"
     ]
    },
    {
     "name": "stderr",
     "output_type": "stream",
     "text": [
      "epoch: 304: 100%|███████████████████████████████████████████████████████████████████| 50/50 [00:03<00:00, 13.37batch/s]\n"
     ]
    },
    {
     "name": "stdout",
     "output_type": "stream",
     "text": [
      "loss training: 0.784389\n"
     ]
    },
    {
     "name": "stderr",
     "output_type": "stream",
     "text": [
      "epoch: 305:   4%|██▋                                                                 | 2/50 [00:00<00:03, 14.32batch/s]"
     ]
    },
    {
     "name": "stdout",
     "output_type": "stream",
     "text": [
      "accuracy train: 0.683556 test: 0.648000\n",
      "\n",
      "Parameter containing:\n",
      "tensor([0., 0., 0., 0.], requires_grad=True)\n"
     ]
    },
    {
     "name": "stderr",
     "output_type": "stream",
     "text": [
      "epoch: 305: 100%|███████████████████████████████████████████████████████████████████| 50/50 [00:04<00:00, 12.42batch/s]\n"
     ]
    },
    {
     "name": "stdout",
     "output_type": "stream",
     "text": [
      "loss training: 0.797152\n"
     ]
    },
    {
     "name": "stderr",
     "output_type": "stream",
     "text": [
      "epoch: 306:   0%|                                                                            | 0/50 [00:00<?, ?batch/s]"
     ]
    },
    {
     "name": "stdout",
     "output_type": "stream",
     "text": [
      "accuracy train: 0.706444 test: 0.682000\n",
      "\n",
      "Parameter containing:\n",
      "tensor([0., 0., 0., 0.], requires_grad=True)\n"
     ]
    },
    {
     "name": "stderr",
     "output_type": "stream",
     "text": [
      "epoch: 306: 100%|███████████████████████████████████████████████████████████████████| 50/50 [00:03<00:00, 13.10batch/s]\n"
     ]
    },
    {
     "name": "stdout",
     "output_type": "stream",
     "text": [
      "loss training: 0.791256\n"
     ]
    },
    {
     "name": "stderr",
     "output_type": "stream",
     "text": [
      "epoch: 307:   4%|██▋                                                                 | 2/50 [00:00<00:03, 13.74batch/s]"
     ]
    },
    {
     "name": "stdout",
     "output_type": "stream",
     "text": [
      "accuracy train: 0.634889 test: 0.616000\n",
      "\n",
      "Parameter containing:\n",
      "tensor([0., 0., 0., 0.], requires_grad=True)\n"
     ]
    },
    {
     "name": "stderr",
     "output_type": "stream",
     "text": [
      "epoch: 307: 100%|███████████████████████████████████████████████████████████████████| 50/50 [00:03<00:00, 12.94batch/s]\n"
     ]
    },
    {
     "name": "stdout",
     "output_type": "stream",
     "text": [
      "loss training: 0.796915\n"
     ]
    },
    {
     "name": "stderr",
     "output_type": "stream",
     "text": [
      "epoch: 308:   4%|██▋                                                                 | 2/50 [00:00<00:03, 12.77batch/s]"
     ]
    },
    {
     "name": "stdout",
     "output_type": "stream",
     "text": [
      "accuracy train: 0.664889 test: 0.642000\n",
      "\n",
      "Parameter containing:\n",
      "tensor([0., 0., 0., 0.], requires_grad=True)\n"
     ]
    },
    {
     "name": "stderr",
     "output_type": "stream",
     "text": [
      "epoch: 308: 100%|███████████████████████████████████████████████████████████████████| 50/50 [00:04<00:00, 12.27batch/s]\n"
     ]
    },
    {
     "name": "stdout",
     "output_type": "stream",
     "text": [
      "loss training: 0.798114\n"
     ]
    },
    {
     "name": "stderr",
     "output_type": "stream",
     "text": [
      "epoch: 309:   4%|██▋                                                                 | 2/50 [00:00<00:03, 14.53batch/s]"
     ]
    },
    {
     "name": "stdout",
     "output_type": "stream",
     "text": [
      "accuracy train: 0.659778 test: 0.644000\n",
      "\n",
      "Parameter containing:\n",
      "tensor([0., 0., 0., 0.], requires_grad=True)\n"
     ]
    },
    {
     "name": "stderr",
     "output_type": "stream",
     "text": [
      "epoch: 309: 100%|███████████████████████████████████████████████████████████████████| 50/50 [00:03<00:00, 12.96batch/s]\n"
     ]
    },
    {
     "name": "stdout",
     "output_type": "stream",
     "text": [
      "loss training: 0.782562\n"
     ]
    },
    {
     "name": "stderr",
     "output_type": "stream",
     "text": [
      "epoch: 310:   0%|                                                                            | 0/50 [00:00<?, ?batch/s]"
     ]
    },
    {
     "name": "stdout",
     "output_type": "stream",
     "text": [
      "accuracy train: 0.675556 test: 0.654000\n",
      "\n",
      "Parameter containing:\n",
      "tensor([0., 0., 0., 0.], requires_grad=True)\n"
     ]
    },
    {
     "name": "stderr",
     "output_type": "stream",
     "text": [
      "epoch: 310: 100%|███████████████████████████████████████████████████████████████████| 50/50 [00:04<00:00, 12.03batch/s]\n"
     ]
    },
    {
     "name": "stdout",
     "output_type": "stream",
     "text": [
      "loss training: 0.790628\n"
     ]
    },
    {
     "name": "stderr",
     "output_type": "stream",
     "text": [
      "epoch: 311:   0%|                                                                            | 0/50 [00:00<?, ?batch/s]"
     ]
    },
    {
     "name": "stdout",
     "output_type": "stream",
     "text": [
      "accuracy train: 0.712889 test: 0.688000\n",
      "\n",
      "Parameter containing:\n",
      "tensor([0., 0., 0., 0.], requires_grad=True)\n"
     ]
    },
    {
     "name": "stderr",
     "output_type": "stream",
     "text": [
      "epoch: 311: 100%|███████████████████████████████████████████████████████████████████| 50/50 [00:04<00:00, 11.84batch/s]\n"
     ]
    },
    {
     "name": "stdout",
     "output_type": "stream",
     "text": [
      "loss training: 0.825422\n"
     ]
    },
    {
     "name": "stderr",
     "output_type": "stream",
     "text": [
      "epoch: 312:   4%|██▋                                                                 | 2/50 [00:00<00:02, 19.10batch/s]"
     ]
    },
    {
     "name": "stdout",
     "output_type": "stream",
     "text": [
      "accuracy train: 0.662222 test: 0.650000\n",
      "\n",
      "Parameter containing:\n",
      "tensor([0., 0., 0., 0.], requires_grad=True)\n"
     ]
    },
    {
     "name": "stderr",
     "output_type": "stream",
     "text": [
      "epoch: 312: 100%|███████████████████████████████████████████████████████████████████| 50/50 [00:04<00:00, 12.02batch/s]\n"
     ]
    },
    {
     "name": "stdout",
     "output_type": "stream",
     "text": [
      "loss training: 0.794688\n"
     ]
    },
    {
     "name": "stderr",
     "output_type": "stream",
     "text": [
      "epoch: 313:   0%|                                                                            | 0/50 [00:00<?, ?batch/s]"
     ]
    },
    {
     "name": "stdout",
     "output_type": "stream",
     "text": [
      "accuracy train: 0.692222 test: 0.664000\n",
      "\n",
      "Parameter containing:\n",
      "tensor([0., 0., 0., 0.], requires_grad=True)\n"
     ]
    },
    {
     "name": "stderr",
     "output_type": "stream",
     "text": [
      "epoch: 313: 100%|███████████████████████████████████████████████████████████████████| 50/50 [00:04<00:00, 12.27batch/s]\n"
     ]
    },
    {
     "name": "stdout",
     "output_type": "stream",
     "text": [
      "loss training: 0.808316\n"
     ]
    },
    {
     "name": "stderr",
     "output_type": "stream",
     "text": [
      "epoch: 314:   4%|██▋                                                                 | 2/50 [00:00<00:03, 13.28batch/s]"
     ]
    },
    {
     "name": "stdout",
     "output_type": "stream",
     "text": [
      "accuracy train: 0.683556 test: 0.662000\n",
      "\n",
      "Parameter containing:\n",
      "tensor([0., 0., 0., 0.], requires_grad=True)\n"
     ]
    },
    {
     "name": "stderr",
     "output_type": "stream",
     "text": [
      "epoch: 314: 100%|███████████████████████████████████████████████████████████████████| 50/50 [00:04<00:00, 12.26batch/s]\n"
     ]
    },
    {
     "name": "stdout",
     "output_type": "stream",
     "text": [
      "loss training: 0.806989\n"
     ]
    },
    {
     "name": "stderr",
     "output_type": "stream",
     "text": [
      "epoch: 315:   4%|██▋                                                                 | 2/50 [00:00<00:03, 12.08batch/s]"
     ]
    },
    {
     "name": "stdout",
     "output_type": "stream",
     "text": [
      "accuracy train: 0.692444 test: 0.672000\n",
      "\n",
      "Parameter containing:\n",
      "tensor([0., 0., 0., 0.], requires_grad=True)\n"
     ]
    },
    {
     "name": "stderr",
     "output_type": "stream",
     "text": [
      "epoch: 315: 100%|███████████████████████████████████████████████████████████████████| 50/50 [00:04<00:00, 12.21batch/s]\n"
     ]
    },
    {
     "name": "stdout",
     "output_type": "stream",
     "text": [
      "loss training: 0.781112\n"
     ]
    },
    {
     "name": "stderr",
     "output_type": "stream",
     "text": [
      "epoch: 316:   0%|                                                                            | 0/50 [00:00<?, ?batch/s]"
     ]
    },
    {
     "name": "stdout",
     "output_type": "stream",
     "text": [
      "accuracy train: 0.680444 test: 0.656000\n",
      "\n",
      "Parameter containing:\n",
      "tensor([0., 0., 0., 0.], requires_grad=True)\n"
     ]
    },
    {
     "name": "stderr",
     "output_type": "stream",
     "text": [
      "epoch: 316: 100%|███████████████████████████████████████████████████████████████████| 50/50 [00:04<00:00, 12.33batch/s]\n"
     ]
    },
    {
     "name": "stdout",
     "output_type": "stream",
     "text": [
      "loss training: 0.813939\n"
     ]
    },
    {
     "name": "stderr",
     "output_type": "stream",
     "text": [
      "epoch: 317:   4%|██▋                                                                 | 2/50 [00:00<00:03, 15.91batch/s]"
     ]
    },
    {
     "name": "stdout",
     "output_type": "stream",
     "text": [
      "accuracy train: 0.639778 test: 0.614000\n",
      "\n",
      "Parameter containing:\n",
      "tensor([0., 0., 0., 0.], requires_grad=True)\n"
     ]
    },
    {
     "name": "stderr",
     "output_type": "stream",
     "text": [
      "epoch: 317: 100%|███████████████████████████████████████████████████████████████████| 50/50 [00:03<00:00, 13.71batch/s]\n"
     ]
    },
    {
     "name": "stdout",
     "output_type": "stream",
     "text": [
      "loss training: 0.790666\n"
     ]
    },
    {
     "name": "stderr",
     "output_type": "stream",
     "text": [
      "epoch: 318:   4%|██▋                                                                 | 2/50 [00:00<00:02, 17.29batch/s]"
     ]
    },
    {
     "name": "stdout",
     "output_type": "stream",
     "text": [
      "accuracy train: 0.684222 test: 0.644000\n",
      "\n",
      "Parameter containing:\n",
      "tensor([0., 0., 0., 0.], requires_grad=True)\n"
     ]
    },
    {
     "name": "stderr",
     "output_type": "stream",
     "text": [
      "epoch: 318: 100%|███████████████████████████████████████████████████████████████████| 50/50 [00:03<00:00, 12.66batch/s]\n"
     ]
    },
    {
     "name": "stdout",
     "output_type": "stream",
     "text": [
      "loss training: 0.775279\n"
     ]
    },
    {
     "name": "stderr",
     "output_type": "stream",
     "text": [
      "epoch: 319:   4%|██▋                                                                 | 2/50 [00:00<00:03, 13.64batch/s]"
     ]
    },
    {
     "name": "stdout",
     "output_type": "stream",
     "text": [
      "accuracy train: 0.651778 test: 0.634000\n",
      "\n",
      "Parameter containing:\n",
      "tensor([0., 0., 0., 0.], requires_grad=True)\n"
     ]
    },
    {
     "name": "stderr",
     "output_type": "stream",
     "text": [
      "epoch: 319: 100%|███████████████████████████████████████████████████████████████████| 50/50 [00:04<00:00, 12.42batch/s]\n"
     ]
    },
    {
     "name": "stdout",
     "output_type": "stream",
     "text": [
      "loss training: 0.757437\n"
     ]
    },
    {
     "name": "stderr",
     "output_type": "stream",
     "text": [
      "epoch: 320:   2%|█▎                                                                  | 1/50 [00:00<00:05,  9.28batch/s]"
     ]
    },
    {
     "name": "stdout",
     "output_type": "stream",
     "text": [
      "accuracy train: 0.644444 test: 0.628000\n",
      "\n",
      "Parameter containing:\n",
      "tensor([0., 0., 0., 0.], requires_grad=True)\n"
     ]
    },
    {
     "name": "stderr",
     "output_type": "stream",
     "text": [
      "epoch: 320: 100%|███████████████████████████████████████████████████████████████████| 50/50 [00:03<00:00, 12.61batch/s]\n"
     ]
    },
    {
     "name": "stdout",
     "output_type": "stream",
     "text": [
      "loss training: 0.755388\n"
     ]
    },
    {
     "name": "stderr",
     "output_type": "stream",
     "text": [
      "epoch: 321:   4%|██▋                                                                 | 2/50 [00:00<00:03, 15.91batch/s]"
     ]
    },
    {
     "name": "stdout",
     "output_type": "stream",
     "text": [
      "accuracy train: 0.677333 test: 0.656000\n",
      "\n",
      "Parameter containing:\n",
      "tensor([0., 0., 0., 0.], requires_grad=True)\n"
     ]
    },
    {
     "name": "stderr",
     "output_type": "stream",
     "text": [
      "epoch: 321: 100%|███████████████████████████████████████████████████████████████████| 50/50 [00:04<00:00, 12.20batch/s]\n"
     ]
    },
    {
     "name": "stdout",
     "output_type": "stream",
     "text": [
      "loss training: 0.770639\n"
     ]
    },
    {
     "name": "stderr",
     "output_type": "stream",
     "text": [
      "epoch: 322:   0%|                                                                            | 0/50 [00:00<?, ?batch/s]"
     ]
    },
    {
     "name": "stdout",
     "output_type": "stream",
     "text": [
      "accuracy train: 0.699556 test: 0.676000\n",
      "\n",
      "Parameter containing:\n",
      "tensor([0., 0., 0., 0.], requires_grad=True)\n"
     ]
    },
    {
     "name": "stderr",
     "output_type": "stream",
     "text": [
      "epoch: 322: 100%|███████████████████████████████████████████████████████████████████| 50/50 [00:04<00:00, 12.02batch/s]\n"
     ]
    },
    {
     "name": "stdout",
     "output_type": "stream",
     "text": [
      "loss training: 0.744492\n"
     ]
    },
    {
     "name": "stderr",
     "output_type": "stream",
     "text": [
      "epoch: 323:   0%|                                                                            | 0/50 [00:00<?, ?batch/s]"
     ]
    },
    {
     "name": "stdout",
     "output_type": "stream",
     "text": [
      "accuracy train: 0.689778 test: 0.666000\n",
      "\n",
      "Parameter containing:\n",
      "tensor([0., 0., 0., 0.], requires_grad=True)\n"
     ]
    },
    {
     "name": "stderr",
     "output_type": "stream",
     "text": [
      "epoch: 323: 100%|███████████████████████████████████████████████████████████████████| 50/50 [00:03<00:00, 12.90batch/s]\n"
     ]
    },
    {
     "name": "stdout",
     "output_type": "stream",
     "text": [
      "loss training: 0.774554\n"
     ]
    },
    {
     "name": "stderr",
     "output_type": "stream",
     "text": [
      "epoch: 324:   2%|█▎                                                                  | 1/50 [00:00<00:05,  8.95batch/s]"
     ]
    },
    {
     "name": "stdout",
     "output_type": "stream",
     "text": [
      "accuracy train: 0.685778 test: 0.658000\n",
      "\n",
      "Parameter containing:\n",
      "tensor([0., 0., 0., 0.], requires_grad=True)\n"
     ]
    },
    {
     "name": "stderr",
     "output_type": "stream",
     "text": [
      "epoch: 324: 100%|███████████████████████████████████████████████████████████████████| 50/50 [00:04<00:00, 12.46batch/s]\n"
     ]
    },
    {
     "name": "stdout",
     "output_type": "stream",
     "text": [
      "loss training: 0.774732\n"
     ]
    },
    {
     "name": "stderr",
     "output_type": "stream",
     "text": [
      "epoch: 325:   4%|██▋                                                                 | 2/50 [00:00<00:03, 15.19batch/s]"
     ]
    },
    {
     "name": "stdout",
     "output_type": "stream",
     "text": [
      "accuracy train: 0.686222 test: 0.644000\n",
      "\n",
      "Parameter containing:\n",
      "tensor([0., 0., 0., 0.], requires_grad=True)\n"
     ]
    },
    {
     "name": "stderr",
     "output_type": "stream",
     "text": [
      "epoch: 325: 100%|███████████████████████████████████████████████████████████████████| 50/50 [00:03<00:00, 12.90batch/s]\n"
     ]
    },
    {
     "name": "stdout",
     "output_type": "stream",
     "text": [
      "loss training: 0.773878\n"
     ]
    },
    {
     "name": "stderr",
     "output_type": "stream",
     "text": [
      "epoch: 326:   4%|██▋                                                                 | 2/50 [00:00<00:03, 14.85batch/s]"
     ]
    },
    {
     "name": "stdout",
     "output_type": "stream",
     "text": [
      "accuracy train: 0.690222 test: 0.664000\n",
      "\n",
      "Parameter containing:\n",
      "tensor([0., 0., 0., 0.], requires_grad=True)\n"
     ]
    },
    {
     "name": "stderr",
     "output_type": "stream",
     "text": [
      "epoch: 326: 100%|███████████████████████████████████████████████████████████████████| 50/50 [00:03<00:00, 12.74batch/s]\n"
     ]
    },
    {
     "name": "stdout",
     "output_type": "stream",
     "text": [
      "loss training: 0.783140\n"
     ]
    },
    {
     "name": "stderr",
     "output_type": "stream",
     "text": [
      "epoch: 327:   4%|██▋                                                                 | 2/50 [00:00<00:03, 12.77batch/s]"
     ]
    },
    {
     "name": "stdout",
     "output_type": "stream",
     "text": [
      "accuracy train: 0.692889 test: 0.668000\n",
      "\n",
      "Parameter containing:\n",
      "tensor([0., 0., 0., 0.], requires_grad=True)\n"
     ]
    },
    {
     "name": "stderr",
     "output_type": "stream",
     "text": [
      "epoch: 327: 100%|███████████████████████████████████████████████████████████████████| 50/50 [00:04<00:00, 12.10batch/s]\n"
     ]
    },
    {
     "name": "stdout",
     "output_type": "stream",
     "text": [
      "loss training: 0.814735\n"
     ]
    },
    {
     "name": "stderr",
     "output_type": "stream",
     "text": [
      "epoch: 328:   2%|█▎                                                                  | 1/50 [00:00<00:06,  7.89batch/s]"
     ]
    },
    {
     "name": "stdout",
     "output_type": "stream",
     "text": [
      "accuracy train: 0.663778 test: 0.642000\n",
      "\n",
      "Parameter containing:\n",
      "tensor([0., 0., 0., 0.], requires_grad=True)\n"
     ]
    },
    {
     "name": "stderr",
     "output_type": "stream",
     "text": [
      "epoch: 328: 100%|███████████████████████████████████████████████████████████████████| 50/50 [00:04<00:00, 11.27batch/s]\n"
     ]
    },
    {
     "name": "stdout",
     "output_type": "stream",
     "text": [
      "loss training: 0.779506\n"
     ]
    },
    {
     "name": "stderr",
     "output_type": "stream",
     "text": [
      "epoch: 329:   4%|██▋                                                                 | 2/50 [00:00<00:02, 17.14batch/s]"
     ]
    },
    {
     "name": "stdout",
     "output_type": "stream",
     "text": [
      "accuracy train: 0.679111 test: 0.642000\n",
      "\n",
      "Parameter containing:\n",
      "tensor([0., 0., 0., 0.], requires_grad=True)\n"
     ]
    },
    {
     "name": "stderr",
     "output_type": "stream",
     "text": [
      "epoch: 329: 100%|███████████████████████████████████████████████████████████████████| 50/50 [00:03<00:00, 13.18batch/s]\n"
     ]
    },
    {
     "name": "stdout",
     "output_type": "stream",
     "text": [
      "loss training: 0.774642\n"
     ]
    },
    {
     "name": "stderr",
     "output_type": "stream",
     "text": [
      "epoch: 330:   0%|                                                                            | 0/50 [00:00<?, ?batch/s]"
     ]
    },
    {
     "name": "stdout",
     "output_type": "stream",
     "text": [
      "accuracy train: 0.654222 test: 0.626000\n",
      "\n",
      "Parameter containing:\n",
      "tensor([0., 0., 0., 0.], requires_grad=True)\n"
     ]
    },
    {
     "name": "stderr",
     "output_type": "stream",
     "text": [
      "epoch: 330: 100%|███████████████████████████████████████████████████████████████████| 50/50 [00:04<00:00, 11.76batch/s]\n"
     ]
    },
    {
     "name": "stdout",
     "output_type": "stream",
     "text": [
      "loss training: 0.774371\n"
     ]
    },
    {
     "name": "stderr",
     "output_type": "stream",
     "text": [
      "epoch: 331:   2%|█▎                                                                  | 1/50 [00:00<00:05,  9.28batch/s]"
     ]
    },
    {
     "name": "stdout",
     "output_type": "stream",
     "text": [
      "accuracy train: 0.703333 test: 0.666000\n",
      "\n",
      "Parameter containing:\n",
      "tensor([0., 0., 0., 0.], requires_grad=True)\n"
     ]
    },
    {
     "name": "stderr",
     "output_type": "stream",
     "text": [
      "epoch: 331: 100%|███████████████████████████████████████████████████████████████████| 50/50 [00:04<00:00, 11.75batch/s]\n"
     ]
    },
    {
     "name": "stdout",
     "output_type": "stream",
     "text": [
      "loss training: 0.777114\n"
     ]
    },
    {
     "name": "stderr",
     "output_type": "stream",
     "text": [
      "epoch: 332:   2%|█▎                                                                  | 1/50 [00:00<00:04,  9.93batch/s]"
     ]
    },
    {
     "name": "stdout",
     "output_type": "stream",
     "text": [
      "accuracy train: 0.704667 test: 0.676000\n",
      "\n",
      "Parameter containing:\n",
      "tensor([0., 0., 0., 0.], requires_grad=True)\n"
     ]
    },
    {
     "name": "stderr",
     "output_type": "stream",
     "text": [
      "epoch: 332: 100%|███████████████████████████████████████████████████████████████████| 50/50 [00:03<00:00, 12.59batch/s]\n"
     ]
    },
    {
     "name": "stdout",
     "output_type": "stream",
     "text": [
      "loss training: 0.797970\n"
     ]
    },
    {
     "name": "stderr",
     "output_type": "stream",
     "text": [
      "epoch: 333:   0%|                                                                            | 0/50 [00:00<?, ?batch/s]"
     ]
    },
    {
     "name": "stdout",
     "output_type": "stream",
     "text": [
      "accuracy train: 0.666889 test: 0.638000\n",
      "\n",
      "Parameter containing:\n",
      "tensor([0., 0., 0., 0.], requires_grad=True)\n"
     ]
    },
    {
     "name": "stderr",
     "output_type": "stream",
     "text": [
      "epoch: 333: 100%|███████████████████████████████████████████████████████████████████| 50/50 [00:04<00:00, 12.42batch/s]\n"
     ]
    },
    {
     "name": "stdout",
     "output_type": "stream",
     "text": [
      "loss training: 0.811573\n"
     ]
    },
    {
     "name": "stderr",
     "output_type": "stream",
     "text": [
      "epoch: 334:   0%|                                                                            | 0/50 [00:00<?, ?batch/s]"
     ]
    },
    {
     "name": "stdout",
     "output_type": "stream",
     "text": [
      "accuracy train: 0.651556 test: 0.638000\n",
      "\n",
      "Parameter containing:\n",
      "tensor([0., 0., 0., 0.], requires_grad=True)\n"
     ]
    },
    {
     "name": "stderr",
     "output_type": "stream",
     "text": [
      "epoch: 334: 100%|███████████████████████████████████████████████████████████████████| 50/50 [00:04<00:00, 12.49batch/s]\n"
     ]
    },
    {
     "name": "stdout",
     "output_type": "stream",
     "text": [
      "loss training: 0.844892\n"
     ]
    },
    {
     "name": "stderr",
     "output_type": "stream",
     "text": [
      "epoch: 335:   2%|█▎                                                                  | 1/50 [00:00<00:05,  8.79batch/s]"
     ]
    },
    {
     "name": "stdout",
     "output_type": "stream",
     "text": [
      "accuracy train: 0.678000 test: 0.646000\n",
      "\n",
      "Parameter containing:\n",
      "tensor([0., 0., 0., 0.], requires_grad=True)\n"
     ]
    },
    {
     "name": "stderr",
     "output_type": "stream",
     "text": [
      "epoch: 335: 100%|███████████████████████████████████████████████████████████████████| 50/50 [00:03<00:00, 12.62batch/s]\n"
     ]
    },
    {
     "name": "stdout",
     "output_type": "stream",
     "text": [
      "loss training: 0.790229\n"
     ]
    },
    {
     "name": "stderr",
     "output_type": "stream",
     "text": [
      "epoch: 336:   4%|██▋                                                                 | 2/50 [00:00<00:03, 13.73batch/s]"
     ]
    },
    {
     "name": "stdout",
     "output_type": "stream",
     "text": [
      "accuracy train: 0.685333 test: 0.662000\n",
      "\n",
      "Parameter containing:\n",
      "tensor([0., 0., 0., 0.], requires_grad=True)\n"
     ]
    },
    {
     "name": "stderr",
     "output_type": "stream",
     "text": [
      "epoch: 336: 100%|███████████████████████████████████████████████████████████████████| 50/50 [00:04<00:00, 12.46batch/s]\n"
     ]
    },
    {
     "name": "stdout",
     "output_type": "stream",
     "text": [
      "loss training: 0.782467\n"
     ]
    },
    {
     "name": "stderr",
     "output_type": "stream",
     "text": [
      "epoch: 337:   2%|█▎                                                                  | 1/50 [00:00<00:05,  9.37batch/s]"
     ]
    },
    {
     "name": "stdout",
     "output_type": "stream",
     "text": [
      "accuracy train: 0.631778 test: 0.602000\n",
      "\n",
      "Parameter containing:\n",
      "tensor([0., 0., 0., 0.], requires_grad=True)\n"
     ]
    },
    {
     "name": "stderr",
     "output_type": "stream",
     "text": [
      "epoch: 337: 100%|███████████████████████████████████████████████████████████████████| 50/50 [00:03<00:00, 12.82batch/s]\n"
     ]
    },
    {
     "name": "stdout",
     "output_type": "stream",
     "text": [
      "loss training: 0.787223\n"
     ]
    },
    {
     "name": "stderr",
     "output_type": "stream",
     "text": [
      "epoch: 338:   4%|██▋                                                                 | 2/50 [00:00<00:03, 12.94batch/s]"
     ]
    },
    {
     "name": "stdout",
     "output_type": "stream",
     "text": [
      "accuracy train: 0.689778 test: 0.658000\n",
      "\n",
      "Parameter containing:\n",
      "tensor([0., 0., 0., 0.], requires_grad=True)\n"
     ]
    },
    {
     "name": "stderr",
     "output_type": "stream",
     "text": [
      "epoch: 338: 100%|███████████████████████████████████████████████████████████████████| 50/50 [00:04<00:00, 12.23batch/s]\n"
     ]
    },
    {
     "name": "stdout",
     "output_type": "stream",
     "text": [
      "loss training: 0.873224\n"
     ]
    },
    {
     "name": "stderr",
     "output_type": "stream",
     "text": [
      "epoch: 339:   2%|█▎                                                                  | 1/50 [00:00<00:06,  7.16batch/s]"
     ]
    },
    {
     "name": "stdout",
     "output_type": "stream",
     "text": [
      "accuracy train: 0.634667 test: 0.606000\n",
      "\n",
      "Parameter containing:\n",
      "tensor([0., 0., 0., 0.], requires_grad=True)\n"
     ]
    },
    {
     "name": "stderr",
     "output_type": "stream",
     "text": [
      "epoch: 339: 100%|███████████████████████████████████████████████████████████████████| 50/50 [00:04<00:00, 11.26batch/s]\n"
     ]
    },
    {
     "name": "stdout",
     "output_type": "stream",
     "text": [
      "loss training: 0.760782\n"
     ]
    },
    {
     "name": "stderr",
     "output_type": "stream",
     "text": [
      "epoch: 340:   0%|                                                                            | 0/50 [00:00<?, ?batch/s]"
     ]
    },
    {
     "name": "stdout",
     "output_type": "stream",
     "text": [
      "accuracy train: 0.682000 test: 0.668000\n",
      "\n",
      "Parameter containing:\n",
      "tensor([0., 0., 0., 0.], requires_grad=True)\n"
     ]
    },
    {
     "name": "stderr",
     "output_type": "stream",
     "text": [
      "epoch: 340: 100%|███████████████████████████████████████████████████████████████████| 50/50 [00:04<00:00, 10.70batch/s]\n"
     ]
    },
    {
     "name": "stdout",
     "output_type": "stream",
     "text": [
      "loss training: 0.762345\n"
     ]
    },
    {
     "name": "stderr",
     "output_type": "stream",
     "text": [
      "epoch: 341:   4%|██▋                                                                 | 2/50 [00:00<00:04, 11.66batch/s]"
     ]
    },
    {
     "name": "stdout",
     "output_type": "stream",
     "text": [
      "accuracy train: 0.695778 test: 0.662000\n",
      "\n",
      "Parameter containing:\n",
      "tensor([0., 0., 0., 0.], requires_grad=True)\n"
     ]
    },
    {
     "name": "stderr",
     "output_type": "stream",
     "text": [
      "epoch: 341: 100%|███████████████████████████████████████████████████████████████████| 50/50 [00:04<00:00, 10.89batch/s]\n"
     ]
    },
    {
     "name": "stdout",
     "output_type": "stream",
     "text": [
      "loss training: 0.778878\n"
     ]
    },
    {
     "name": "stderr",
     "output_type": "stream",
     "text": [
      "epoch: 342:   4%|██▋                                                                 | 2/50 [00:00<00:03, 12.23batch/s]"
     ]
    },
    {
     "name": "stdout",
     "output_type": "stream",
     "text": [
      "accuracy train: 0.697556 test: 0.672000\n",
      "\n",
      "Parameter containing:\n",
      "tensor([0., 0., 0., 0.], requires_grad=True)\n"
     ]
    },
    {
     "name": "stderr",
     "output_type": "stream",
     "text": [
      "epoch: 342: 100%|███████████████████████████████████████████████████████████████████| 50/50 [00:04<00:00, 10.63batch/s]\n"
     ]
    },
    {
     "name": "stdout",
     "output_type": "stream",
     "text": [
      "loss training: 0.775034\n"
     ]
    },
    {
     "name": "stderr",
     "output_type": "stream",
     "text": [
      "epoch: 343:   2%|█▎                                                                  | 1/50 [00:00<00:05,  9.11batch/s]"
     ]
    },
    {
     "name": "stdout",
     "output_type": "stream",
     "text": [
      "accuracy train: 0.662667 test: 0.638000\n",
      "\n",
      "Parameter containing:\n",
      "tensor([0., 0., 0., 0.], requires_grad=True)\n"
     ]
    },
    {
     "name": "stderr",
     "output_type": "stream",
     "text": [
      "epoch: 343: 100%|███████████████████████████████████████████████████████████████████| 50/50 [00:04<00:00, 10.66batch/s]\n"
     ]
    },
    {
     "name": "stdout",
     "output_type": "stream",
     "text": [
      "loss training: 0.769678\n"
     ]
    },
    {
     "name": "stderr",
     "output_type": "stream",
     "text": [
      "epoch: 344:   0%|                                                                            | 0/50 [00:00<?, ?batch/s]"
     ]
    },
    {
     "name": "stdout",
     "output_type": "stream",
     "text": [
      "accuracy train: 0.702000 test: 0.674000\n",
      "\n",
      "Parameter containing:\n",
      "tensor([0., 0., 0., 0.], requires_grad=True)\n"
     ]
    },
    {
     "name": "stderr",
     "output_type": "stream",
     "text": [
      "epoch: 344: 100%|███████████████████████████████████████████████████████████████████| 50/50 [00:04<00:00, 10.06batch/s]\n"
     ]
    },
    {
     "name": "stdout",
     "output_type": "stream",
     "text": [
      "loss training: 0.757436\n"
     ]
    },
    {
     "name": "stderr",
     "output_type": "stream",
     "text": [
      "epoch: 345:   2%|█▎                                                                  | 1/50 [00:00<00:06,  8.15batch/s]"
     ]
    },
    {
     "name": "stdout",
     "output_type": "stream",
     "text": [
      "accuracy train: 0.676444 test: 0.652000\n",
      "\n",
      "Parameter containing:\n",
      "tensor([0., 0., 0., 0.], requires_grad=True)\n"
     ]
    },
    {
     "name": "stderr",
     "output_type": "stream",
     "text": [
      "epoch: 345: 100%|███████████████████████████████████████████████████████████████████| 50/50 [00:04<00:00, 10.17batch/s]\n"
     ]
    },
    {
     "name": "stdout",
     "output_type": "stream",
     "text": [
      "loss training: 0.752885\n"
     ]
    },
    {
     "name": "stderr",
     "output_type": "stream",
     "text": [
      "epoch: 346:   2%|█▎                                                                  | 1/50 [00:00<00:05,  9.20batch/s]"
     ]
    },
    {
     "name": "stdout",
     "output_type": "stream",
     "text": [
      "accuracy train: 0.706000 test: 0.686000\n",
      "\n",
      "Parameter containing:\n",
      "tensor([0., 0., 0., 0.], requires_grad=True)\n"
     ]
    },
    {
     "name": "stderr",
     "output_type": "stream",
     "text": [
      "epoch: 346: 100%|███████████████████████████████████████████████████████████████████| 50/50 [00:05<00:00,  9.71batch/s]\n"
     ]
    },
    {
     "name": "stdout",
     "output_type": "stream",
     "text": [
      "loss training: 0.767283\n"
     ]
    },
    {
     "name": "stderr",
     "output_type": "stream",
     "text": [
      "epoch: 347:   0%|                                                                            | 0/50 [00:00<?, ?batch/s]"
     ]
    },
    {
     "name": "stdout",
     "output_type": "stream",
     "text": [
      "accuracy train: 0.666889 test: 0.648000\n",
      "\n",
      "Parameter containing:\n",
      "tensor([0., 0., 0., 0.], requires_grad=True)\n"
     ]
    },
    {
     "name": "stderr",
     "output_type": "stream",
     "text": [
      "epoch: 347: 100%|███████████████████████████████████████████████████████████████████| 50/50 [00:04<00:00, 10.46batch/s]\n"
     ]
    },
    {
     "name": "stdout",
     "output_type": "stream",
     "text": [
      "loss training: 0.754515\n"
     ]
    },
    {
     "name": "stderr",
     "output_type": "stream",
     "text": [
      "epoch: 348:   2%|█▎                                                                  | 1/50 [00:00<00:06,  8.15batch/s]"
     ]
    },
    {
     "name": "stdout",
     "output_type": "stream",
     "text": [
      "accuracy train: 0.671556 test: 0.652000\n",
      "\n",
      "Parameter containing:\n",
      "tensor([0., 0., 0., 0.], requires_grad=True)\n"
     ]
    },
    {
     "name": "stderr",
     "output_type": "stream",
     "text": [
      "epoch: 348: 100%|███████████████████████████████████████████████████████████████████| 50/50 [00:05<00:00,  9.96batch/s]\n"
     ]
    },
    {
     "name": "stdout",
     "output_type": "stream",
     "text": [
      "loss training: 0.778063\n"
     ]
    },
    {
     "name": "stderr",
     "output_type": "stream",
     "text": [
      "epoch: 349:   4%|██▋                                                                 | 2/50 [00:00<00:03, 13.73batch/s]"
     ]
    },
    {
     "name": "stdout",
     "output_type": "stream",
     "text": [
      "accuracy train: 0.678889 test: 0.654000\n",
      "\n",
      "Parameter containing:\n",
      "tensor([0., 0., 0., 0.], requires_grad=True)\n"
     ]
    },
    {
     "name": "stderr",
     "output_type": "stream",
     "text": [
      "epoch: 349: 100%|███████████████████████████████████████████████████████████████████| 50/50 [00:03<00:00, 13.63batch/s]\n"
     ]
    },
    {
     "name": "stdout",
     "output_type": "stream",
     "text": [
      "loss training: 0.779898\n"
     ]
    },
    {
     "name": "stderr",
     "output_type": "stream",
     "text": [
      "epoch: 350:   2%|█▎                                                                  | 1/50 [00:00<00:04,  9.83batch/s]"
     ]
    },
    {
     "name": "stdout",
     "output_type": "stream",
     "text": [
      "accuracy train: 0.657556 test: 0.642000\n",
      "\n",
      "Parameter containing:\n",
      "tensor([0., 0., 0., 0.], requires_grad=True)\n"
     ]
    },
    {
     "name": "stderr",
     "output_type": "stream",
     "text": [
      "epoch: 350: 100%|███████████████████████████████████████████████████████████████████| 50/50 [00:03<00:00, 12.55batch/s]\n"
     ]
    },
    {
     "name": "stdout",
     "output_type": "stream",
     "text": [
      "loss training: 0.876498\n",
      "accuracy train: 0.643556 test: 0.608000\n",
      "\n",
      "Parameter containing:\n",
      "tensor([0., 0., 0., 0.], requires_grad=True)\n"
     ]
    }
   ],
   "source": [
    "import argparse\n",
    "import torch\n",
    "import torch.nn as nn\n",
    "import torch.nn.functional as F\n",
    "import torch.optim as optim\n",
    "import numpy as np\n",
    "\n",
    "from tqdm import tqdm\n",
    "\n",
    "# from util import load_data, separate_data\n",
    "# from models.graphcnn import GraphCNN\n",
    "\n",
    "criterion = nn.CrossEntropyLoss()\n",
    "\n",
    "def train(args, model, device, train_graphs, optimizer, epoch):\n",
    "    model.train()\n",
    "\n",
    "    total_iters = args.iters_per_epoch\n",
    "    pbar = tqdm(range(total_iters), unit='batch')\n",
    "\n",
    "    loss_accum = 0\n",
    "    for pos in pbar:\n",
    "        selected_idx = np.random.permutation(len(train_graphs))[:args.batch_size]\n",
    "\n",
    "        batch_graph = [train_graphs[idx] for idx in selected_idx]\n",
    "        output = model(batch_graph)\n",
    "\n",
    "        labels = torch.LongTensor([graph.label for graph in batch_graph]).to(device)\n",
    "\n",
    "        #compute loss\n",
    "        loss = criterion(output, labels)\n",
    "\n",
    "        #backprop\n",
    "        if optimizer is not None:\n",
    "            optimizer.zero_grad()\n",
    "            loss.backward()         \n",
    "            optimizer.step()\n",
    "        \n",
    "\n",
    "        loss = loss.detach().cpu().numpy()\n",
    "        loss_accum += loss\n",
    "\n",
    "        #report\n",
    "        pbar.set_description('epoch: %d' % (epoch))\n",
    "\n",
    "    average_loss = loss_accum/total_iters\n",
    "    print(\"loss training: %f\" % (average_loss))\n",
    "    \n",
    "    return average_loss\n",
    "\n",
    "###pass data to model with minibatch during testing to avoid memory overflow (does not perform backpropagation)\n",
    "def pass_data_iteratively(model, graphs, minibatch_size = 64):\n",
    "    model.eval()\n",
    "    output = []\n",
    "    idx = np.arange(len(graphs))\n",
    "    for i in range(0, len(graphs), minibatch_size):\n",
    "        sampled_idx = idx[i:i+minibatch_size]\n",
    "        if len(sampled_idx) == 0:\n",
    "            continue\n",
    "        output.append(model([graphs[j] for j in sampled_idx]).detach())\n",
    "    return torch.cat(output, 0)\n",
    "\n",
    "def test(args, model, device, train_graphs, test_graphs, epoch):\n",
    "    model.eval()\n",
    "\n",
    "    output = pass_data_iteratively(model, train_graphs)\n",
    "    pred = output.max(1, keepdim=True)[1]\n",
    "    labels = torch.LongTensor([graph.label for graph in train_graphs]).to(device)\n",
    "    correct = pred.eq(labels.view_as(pred)).sum().cpu().item()\n",
    "    acc_train = correct / float(len(train_graphs))\n",
    "\n",
    "    output = pass_data_iteratively(model, test_graphs)\n",
    "    pred = output.max(1, keepdim=True)[1]\n",
    "    labels = torch.LongTensor([graph.label for graph in test_graphs]).to(device)\n",
    "    correct = pred.eq(labels.view_as(pred)).sum().cpu().item()\n",
    "    acc_test = correct / float(len(test_graphs))\n",
    "\n",
    "    print(\"accuracy train: %f test: %f\" % (acc_train, acc_test))\n",
    "\n",
    "    return acc_train, acc_test\n",
    "\n",
    "def main():\n",
    "    # Training settings\n",
    "    # Note: Hyper-parameters need to be tuned in order to obtain results reported in the paper.\n",
    "    parser = argparse.ArgumentParser(description='PyTorch graph convolutional neural net for whole-graph classification')\n",
    "    parser.add_argument('--dataset', type=str, default=\"COLLAB\",\n",
    "                        help='name of dataset (default: COLLAB)')\n",
    "    parser.add_argument('--device', type=int, default=0,\n",
    "                        help='which gpu to use if any (default: 0)')\n",
    "    parser.add_argument('--batch_size', type=int, default=32,\n",
    "                        help='input batch size for training (default: 32)')\n",
    "    parser.add_argument('--iters_per_epoch', type=int, default=50,\n",
    "                        help='number of iterations per each epoch (default: 50)')\n",
    "    parser.add_argument('--epochs', type=int, default=350,\n",
    "                        help='number of epochs to train (default: 350)')\n",
    "    parser.add_argument('--lr', type=float, default=0.01,\n",
    "                        help='learning rate (default: 0.01)')\n",
    "    parser.add_argument('--seed', type=int, default=0,\n",
    "                        help='random seed for splitting the dataset into 10 (default: 0)')\n",
    "    parser.add_argument('--fold_idx', type=int, default=0,\n",
    "                        help='the index of fold in 10-fold validation. Should be less then 10.')\n",
    "    parser.add_argument('--num_layers', type=int, default=5,\n",
    "                        help='number of layers INCLUDING the input one (default: 5)')\n",
    "    parser.add_argument('--num_mlp_layers', type=int, default=2,\n",
    "                        help='number of layers for MLP EXCLUDING the input one (default: 2). 1 means linear model.')\n",
    "    parser.add_argument('--hidden_dim', type=int, default=64,\n",
    "                        help='number of hidden units (default: 64)')\n",
    "    parser.add_argument('--final_dropout', type=float, default=0.5,\n",
    "                        help='final layer dropout (default: 0.5)')\n",
    "    parser.add_argument('--graph_pooling_type', type=str, default=\"sum\", choices=[\"sum\", \"average\"],\n",
    "                        help='Pooling for over nodes in a graph: sum or average')\n",
    "    parser.add_argument('--neighbor_pooling_type', type=str, default=\"sum\", choices=[\"sum\", \"average\", \"max\"],\n",
    "                        help='Pooling for over neighboring nodes: sum, average or max')\n",
    "    parser.add_argument('--learn_eps', action=\"store_true\",\n",
    "                                        help='Whether to learn the epsilon weighting for the center nodes. Does not affect training accuracy though.')\n",
    "    parser.add_argument('--degree_as_tag', action=\"store_true\",\n",
    "    \t\t\t\t\thelp='let the input node features be the degree of nodes (heuristics for unlabeled graph)')\n",
    "    parser.add_argument('--filename', type = str, default = \"\",\n",
    "                                        help='output file')\n",
    "    args = parser.parse_args(args=[])\n",
    "\n",
    "    #set up seeds and gpu device\n",
    "    torch.manual_seed(0)\n",
    "    np.random.seed(0)    \n",
    "    device = torch.device(\"cuda:\" + str(args.device)) if torch.cuda.is_available() else torch.device(\"cpu\")\n",
    "    if torch.cuda.is_available():\n",
    "        torch.cuda.manual_seed_all(0)\n",
    "\n",
    "    graphs, num_classes = load_data(args.dataset, args.degree_as_tag)\n",
    "\n",
    "    ##10-fold cross validation. Conduct an experiment on the fold specified by args.fold_idx.\n",
    "    train_graphs, test_graphs = separate_data(graphs, args.seed, args.fold_idx)\n",
    "\n",
    "    model = GraphCNN(args.num_layers, args.num_mlp_layers, train_graphs[0].node_features.shape[1], args.hidden_dim, num_classes, args.final_dropout, args.learn_eps, args.graph_pooling_type, args.neighbor_pooling_type, device).to(device)\n",
    "\n",
    "    optimizer = optim.Adam(model.parameters(), lr=args.lr)\n",
    "    scheduler = optim.lr_scheduler.StepLR(optimizer, step_size=50, gamma=0.5)\n",
    "\n",
    "    max_acc = 0.0\n",
    "    for epoch in range(1, args.epochs + 1):\n",
    "        scheduler.step()\n",
    "\n",
    "        avg_loss = train(args, model, device, train_graphs, optimizer, epoch)\n",
    "        acc_train, acc_test = test(args, model, device, train_graphs, test_graphs, epoch)\n",
    "\n",
    "        max_acc = max(max_acc, acc_test)\n",
    "\n",
    "        if not args.filename == \"\":\n",
    "            with open(args.filename, 'a+') as f:\n",
    "                f.write(\"%f %f %f\" % (avg_loss, acc_train, acc_test))\n",
    "                f.write(\"\\n\")\n",
    "        print(\"\")\n",
    "\n",
    "        print(model.eps)\n",
    "\n",
    "    with open(str(args.dataset)+'acc_results.txt', 'a+') as f:\n",
    "        f.write(str(max_acc) + '\\n')\n",
    "    \n",
    "\n",
    "if __name__ == '__main__':\n",
    "    main()"
   ]
  },
  {
   "cell_type": "code",
   "execution_count": null,
   "metadata": {},
   "outputs": [],
   "source": []
  }
 ],
 "metadata": {
  "kernelspec": {
   "display_name": "Python 3",
   "language": "python",
   "name": "python3"
  },
  "language_info": {
   "codemirror_mode": {
    "name": "ipython",
    "version": 3
   },
   "file_extension": ".py",
   "mimetype": "text/x-python",
   "name": "python",
   "nbconvert_exporter": "python",
   "pygments_lexer": "ipython3",
   "version": "3.8.5"
  }
 },
 "nbformat": 4,
 "nbformat_minor": 4
}
