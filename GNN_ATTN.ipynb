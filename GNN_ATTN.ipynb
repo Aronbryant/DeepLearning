{
 "cells": [
  {
   "cell_type": "code",
   "execution_count": 3,
   "metadata": {},
   "outputs": [],
   "source": [
    "## data\n",
    "import networkx as nx\n",
    "import numpy as np\n",
    "import random\n",
    "import torch\n",
    "from sklearn.model_selection import StratifiedKFold\n",
    "\n",
    "class S2VGraph(object):\n",
    "    def __init__(self, g, label, node_tags=None, node_features=None):\n",
    "        '''\n",
    "            g: a networkx graph\n",
    "            label: an integer graph label\n",
    "            node_tags: a list of integer node tags\n",
    "            node_features: a torch float tensor, one-hot representation of the tag that is used as input to neural nets\n",
    "            edge_mat: a torch long tensor, contain edge list, will be used to create torch sparse tensor\n",
    "            neighbors: list of neighbors (without self-loop)\n",
    "        '''\n",
    "        self.label = label\n",
    "        self.g = g\n",
    "        self.node_tags = node_tags\n",
    "        self.neighbors = []\n",
    "        self.node_features = 0\n",
    "        self.edge_mat = 0\n",
    "\n",
    "        self.max_neighbor = 0\n",
    "\n",
    "\n",
    "def load_data(dataset, degree_as_tag):\n",
    "    '''\n",
    "        dataset: name of dataset\n",
    "        test_proportion: ratio of test train split\n",
    "        seed: random seed for random splitting of dataset\n",
    "    '''\n",
    "\n",
    "    print('loading data')\n",
    "    g_list = []\n",
    "    label_dict = {}\n",
    "    feat_dict = {}\n",
    "\n",
    "    with open('dataset/%s/%s.txt' % (dataset, dataset), 'r') as f:\n",
    "        n_g = int(f.readline().strip())\n",
    "        for i in range(n_g):\n",
    "            row = f.readline().strip().split()\n",
    "            n, l = [int(w) for w in row]\n",
    "            if not l in label_dict:\n",
    "                mapped = len(label_dict)\n",
    "                label_dict[l] = mapped\n",
    "            g = nx.Graph()\n",
    "            node_tags = []\n",
    "            node_features = []\n",
    "            n_edges = 0\n",
    "            for j in range(n):\n",
    "                g.add_node(j)\n",
    "                row = f.readline().strip().split()\n",
    "                tmp = int(row[1]) + 2\n",
    "                if tmp == len(row):\n",
    "                    # no node attributes\n",
    "                    row = [int(w) for w in row]\n",
    "                    attr = None\n",
    "                else:\n",
    "                    row, attr = [int(w) for w in row[:tmp]], np.array([float(w) for w in row[tmp:]])\n",
    "                if not row[0] in feat_dict:\n",
    "                    mapped = len(feat_dict)\n",
    "                    feat_dict[row[0]] = mapped\n",
    "                node_tags.append(feat_dict[row[0]])\n",
    "\n",
    "                if tmp > len(row):\n",
    "                    node_features.append(attr)\n",
    "\n",
    "                n_edges += row[1]\n",
    "                for k in range(2, len(row)):\n",
    "                    g.add_edge(j, row[k])\n",
    "\n",
    "            if node_features != []:\n",
    "                node_features = np.stack(node_features)\n",
    "                node_feature_flag = True\n",
    "            else:\n",
    "                node_features = None\n",
    "                node_feature_flag = False\n",
    "\n",
    "            assert len(g) == n\n",
    "\n",
    "            g_list.append(S2VGraph(g, l, node_tags))\n",
    "\n",
    "    #add labels and edge_mat       \n",
    "    for g in g_list:\n",
    "        g.neighbors = [[] for i in range(len(g.g))]\n",
    "        for i, j in g.g.edges():\n",
    "            g.neighbors[i].append(j)\n",
    "            g.neighbors[j].append(i)\n",
    "        degree_list = []\n",
    "        for i in range(len(g.g)):\n",
    "            g.neighbors[i] = g.neighbors[i]\n",
    "            degree_list.append(len(g.neighbors[i]))\n",
    "        g.max_neighbor = max(degree_list)\n",
    "\n",
    "        g.label = label_dict[g.label]\n",
    "\n",
    "        edges = [list(pair) for pair in g.g.edges()]\n",
    "        edges.extend([[i, j] for j, i in edges])\n",
    "\n",
    "        deg_list = list(dict(g.g.degree(range(len(g.g)))).values())\n",
    "        g.edge_mat = torch.LongTensor(edges).transpose(0,1)\n",
    "\n",
    "    if degree_as_tag:\n",
    "        for g in g_list:\n",
    "            g.node_tags = list(dict(g.g.degree).values())\n",
    "\n",
    "    #Extracting unique tag labels   \n",
    "    tagset = set([])\n",
    "    for g in g_list:\n",
    "        tagset = tagset.union(set(g.node_tags))\n",
    "\n",
    "    tagset = list(tagset)\n",
    "    tag2index = {tagset[i]:i for i in range(len(tagset))}\n",
    "\n",
    "    for g in g_list:\n",
    "        g.node_features = torch.zeros(len(g.node_tags), len(tagset))\n",
    "        g.node_features[range(len(g.node_tags)), [tag2index[tag] for tag in g.node_tags]] = 1\n",
    "\n",
    "\n",
    "    print('# classes: %d' % len(label_dict))\n",
    "    print('# maximum node tag: %d' % len(tagset))\n",
    "\n",
    "    print(\"# data: %d\" % len(g_list))\n",
    "\n",
    "    return g_list, len(label_dict)\n",
    "\n",
    "def separate_data(graph_list, seed, fold_idx):\n",
    "    assert 0 <= fold_idx and fold_idx < 10, \"fold_idx must be from 0 to 9.\"\n",
    "    skf = StratifiedKFold(n_splits=10, shuffle = True, random_state = seed)\n",
    "\n",
    "    labels = [graph.label for graph in graph_list]\n",
    "    idx_list = []\n",
    "    for idx in skf.split(np.zeros(len(labels)), labels):\n",
    "        idx_list.append(idx)\n",
    "    train_idx, test_idx = idx_list[fold_idx]\n",
    "\n",
    "    train_graph_list = [graph_list[i] for i in train_idx]\n",
    "    test_graph_list = [graph_list[i] for i in test_idx]\n",
    "\n",
    "    return train_graph_list, test_graph_list"
   ]
  },
  {
   "cell_type": "code",
   "execution_count": 1,
   "metadata": {},
   "outputs": [],
   "source": [
    "## MLP\n",
    "import torch\n",
    "import torch.nn as nn\n",
    "import torch.nn.functional as F\n",
    "\n",
    "###MLP with lienar output\n",
    "class MLP(nn.Module):\n",
    "    def __init__(self, num_layers, input_dim, hidden_dim, output_dim):\n",
    "        '''\n",
    "            num_layers: number of layers in the neural networks (EXCLUDING the input layer). If num_layers=1, this reduces to linear model.\n",
    "            input_dim: dimensionality of input features\n",
    "            hidden_dim: dimensionality of hidden units at ALL layers\n",
    "            output_dim: number of classes for prediction\n",
    "            device: which device to use\n",
    "        '''\n",
    "    \n",
    "        super(MLP, self).__init__()\n",
    "\n",
    "        self.linear_or_not = True #default is linear model\n",
    "        self.num_layers = num_layers\n",
    "\n",
    "        if num_layers < 1:\n",
    "            raise ValueError(\"number of layers should be positive!\")\n",
    "        elif num_layers == 1:\n",
    "            #Linear model\n",
    "            self.linear = nn.Linear(input_dim, output_dim)\n",
    "        else:\n",
    "            #Multi-layer model\n",
    "            self.linear_or_not = False\n",
    "            self.linears = torch.nn.ModuleList()\n",
    "            self.batch_norms = torch.nn.ModuleList()\n",
    "        \n",
    "            self.linears.append(nn.Linear(input_dim, hidden_dim))\n",
    "            for layer in range(num_layers - 2):\n",
    "                self.linears.append(nn.Linear(hidden_dim, hidden_dim))\n",
    "            self.linears.append(nn.Linear(hidden_dim, output_dim))\n",
    "\n",
    "            for layer in range(num_layers - 1):\n",
    "                self.batch_norms.append(nn.BatchNorm1d((hidden_dim)))\n",
    "\n",
    "    def forward(self, x):\n",
    "        if self.linear_or_not:\n",
    "            #If linear model\n",
    "            return self.linear(x)\n",
    "        else:\n",
    "            #If MLP\n",
    "            h = x\n",
    "            for layer in range(self.num_layers - 1):\n",
    "                h = F.relu(self.batch_norms[layer](self.linears[layer](h)))\n",
    "            return self.linears[self.num_layers - 1](h)"
   ]
  },
  {
   "cell_type": "code",
   "execution_count": 2,
   "metadata": {},
   "outputs": [],
   "source": [
    "  \n",
    "import torch\n",
    "import torch.nn as nn\n",
    "import torch.nn.functional as F\n",
    "\n",
    "\n",
    "\n",
    "from torch.autograd import Variable\n",
    "import pdb\n",
    "\n",
    "class GraphCNN(nn.Module):\n",
    "    def __init__(self, num_layers, num_mlp_layers, input_dim, hidden_dim, output_dim, final_dropout, learn_eps, graph_pooling_type, neighbor_pooling_type, device):\n",
    "        '''\n",
    "            num_layers: number of layers in the neural networks (INCLUDING the input layer)\n",
    "            num_mlp_layers: number of layers in mlps (EXCLUDING the input layer)\n",
    "            input_dim: dimensionality of input features\n",
    "            hidden_dim: dimensionality of hidden units at ALL layers\n",
    "            output_dim: number of classes for prediction\n",
    "            final_dropout: dropout ratio on the final linear layer\n",
    "            learn_eps: If True, learn epsilon to distinguish center nodes from neighboring nodes. If False, aggregate neighbors and center nodes altogether. \n",
    "            neighbor_pooling_type: how to aggregate neighbors (mean, average, or max)\n",
    "            graph_pooling_type: how to aggregate entire nodes in a graph (mean, average)\n",
    "            device: which device to use\n",
    "        '''\n",
    "\n",
    "        super(GraphCNN, self).__init__()\n",
    "\n",
    "        self.final_dropout = final_dropout\n",
    "        self.device = device\n",
    "        self.num_layers = num_layers\n",
    "        self.graph_pooling_type = graph_pooling_type\n",
    "        self.neighbor_pooling_type = neighbor_pooling_type\n",
    "        self.learn_eps = learn_eps\n",
    "        self.eps = nn.Parameter(torch.zeros(self.num_layers-1))\n",
    "\n",
    "        ###List of MLPs\n",
    "        self.mlps = torch.nn.ModuleList()\n",
    "\n",
    "        ###List of batchnorms applied to the output of MLP (input of the final prediction linear layer)\n",
    "        self.batch_norms = torch.nn.ModuleList()\n",
    "\n",
    "        for layer in range(self.num_layers-1):\n",
    "            if layer == 0:\n",
    "                self.mlps.append(MLP(num_mlp_layers, input_dim, hidden_dim, hidden_dim))\n",
    "            else:\n",
    "                self.mlps.append(MLP(num_mlp_layers, hidden_dim, hidden_dim, hidden_dim))\n",
    "\n",
    "            self.batch_norms.append(nn.BatchNorm1d(hidden_dim))\n",
    "\n",
    "        # for attentional second-order pooling\n",
    "        self.total_latent_dim = input_dim + hidden_dim * (num_layers - 1)\n",
    "        self.dense_dim = self.total_latent_dim\n",
    "        self.attend = nn.Linear(self.total_latent_dim, 1)\n",
    "        self.linear1 = nn.Linear(self.dense_dim, output_dim)\n",
    "\n",
    "\n",
    "    def __preprocess_neighbors_maxpool(self, batch_graph):\n",
    "        ###create padded_neighbor_list in concatenated graph\n",
    "\n",
    "        #compute the maximum number of neighbors within the graphs in the current minibatch\n",
    "        max_deg = max([graph.max_neighbor for graph in batch_graph])\n",
    "\n",
    "        padded_neighbor_list = []\n",
    "        start_idx = [0]\n",
    "\n",
    "\n",
    "        for i, graph in enumerate(batch_graph):\n",
    "            start_idx.append(start_idx[i] + len(graph.g))\n",
    "            padded_neighbors = []\n",
    "            for j in range(len(graph.neighbors)):\n",
    "                #add off-set values to the neighbor indices\n",
    "                pad = [n + start_idx[i] for n in graph.neighbors[j]]\n",
    "                #padding, dummy data is assumed to be stored in -1\n",
    "                pad.extend([-1]*(max_deg - len(pad)))\n",
    "\n",
    "                #Add center nodes in the maxpooling if learn_eps is False, i.e., aggregate center nodes and neighbor nodes altogether.\n",
    "                if not self.learn_eps:\n",
    "                    pad.append(j + start_idx[i])\n",
    "\n",
    "                padded_neighbors.append(pad)\n",
    "            padded_neighbor_list.extend(padded_neighbors)\n",
    "\n",
    "        return torch.LongTensor(padded_neighbor_list)\n",
    "\n",
    "\n",
    "    def __preprocess_neighbors_sumavepool(self, batch_graph):\n",
    "        ###create block diagonal sparse matrix\n",
    "\n",
    "        edge_mat_list = []\n",
    "        start_idx = [0]\n",
    "        for i, graph in enumerate(batch_graph):\n",
    "            start_idx.append(start_idx[i] + len(graph.g))\n",
    "            edge_mat_list.append(graph.edge_mat + start_idx[i])\n",
    "        Adj_block_idx = torch.cat(edge_mat_list, 1)\n",
    "        Adj_block_elem = torch.ones(Adj_block_idx.shape[1])\n",
    "\n",
    "        #Add self-loops in the adjacency matrix if learn_eps is False, i.e., aggregate center nodes and neighbor nodes altogether.\n",
    "\n",
    "        if not self.learn_eps:\n",
    "            num_node = start_idx[-1]\n",
    "            self_loop_edge = torch.LongTensor([range(num_node), range(num_node)])\n",
    "            elem = torch.ones(num_node)\n",
    "            Adj_block_idx = torch.cat([Adj_block_idx, self_loop_edge], 1)\n",
    "            Adj_block_elem = torch.cat([Adj_block_elem, elem], 0)\n",
    "\n",
    "        Adj_block = torch.sparse.FloatTensor(Adj_block_idx, Adj_block_elem, torch.Size([start_idx[-1],start_idx[-1]]))\n",
    "\n",
    "        return Adj_block.to(self.device)\n",
    "\n",
    "\n",
    "    def __preprocess_graphpool(self, batch_graph):\n",
    "        ###create sum or average pooling sparse matrix over entire nodes in each graph (num graphs x num nodes)\n",
    "        \n",
    "        start_idx = [0]\n",
    "\n",
    "        #compute the padded neighbor list\n",
    "        for i, graph in enumerate(batch_graph):\n",
    "            start_idx.append(start_idx[i] + len(graph.g))\n",
    "\n",
    "        idx = []\n",
    "        elem = []\n",
    "        for i, graph in enumerate(batch_graph):\n",
    "            ###average pooling\n",
    "            if self.graph_pooling_type == \"average\":\n",
    "                elem.extend([1./len(graph.g)]*len(graph.g))\n",
    "            \n",
    "            else:\n",
    "            ###sum pooling\n",
    "                elem.extend([1]*len(graph.g))\n",
    "\n",
    "            idx.extend([[i, j] for j in range(start_idx[i], start_idx[i+1], 1)])\n",
    "        elem = torch.FloatTensor(elem)\n",
    "        idx = torch.LongTensor(idx).transpose(0,1)\n",
    "        graph_pool = torch.sparse.FloatTensor(idx, elem, torch.Size([len(batch_graph), start_idx[-1]]))\n",
    "        \n",
    "        return graph_pool.to(self.device)\n",
    "\n",
    "    def maxpool(self, h, padded_neighbor_list):\n",
    "        ###Element-wise minimum will never affect max-pooling\n",
    "\n",
    "        dummy = torch.min(h, dim = 0)[0]\n",
    "        h_with_dummy = torch.cat([h, dummy.reshape((1, -1)).to(self.device)])\n",
    "        pooled_rep = torch.max(h_with_dummy[padded_neighbor_list], dim = 1)[0]\n",
    "        return pooled_rep\n",
    "\n",
    "\n",
    "    def next_layer_eps(self, h, layer, padded_neighbor_list = None, Adj_block = None):\n",
    "        ###pooling neighboring nodes and center nodes separately by epsilon reweighting. \n",
    "\n",
    "        if self.neighbor_pooling_type == \"max\":\n",
    "            ##If max pooling\n",
    "            pooled = self.maxpool(h, padded_neighbor_list)\n",
    "        else:\n",
    "            #If sum or average pooling\n",
    "            pooled = torch.spmm(Adj_block, h)\n",
    "            if self.neighbor_pooling_type == \"average\":\n",
    "                #If average pooling\n",
    "                degree = torch.spmm(Adj_block, torch.ones((Adj_block.shape[0], 1)).to(self.device))\n",
    "                pooled = pooled/degree\n",
    "\n",
    "        #Reweights the center node representation when aggregating it with its neighbors\n",
    "        pooled = pooled + (1 + self.eps[layer])*h\n",
    "        pooled_rep = self.mlps[layer](pooled)\n",
    "        h = self.batch_norms[layer](pooled_rep)\n",
    "\n",
    "        #non-linearity\n",
    "        h = F.relu(h)\n",
    "        return h\n",
    "\n",
    "\n",
    "    def next_layer(self, h, layer, padded_neighbor_list = None, Adj_block = None):\n",
    "        ###pooling neighboring nodes and center nodes altogether  \n",
    "            \n",
    "        if self.neighbor_pooling_type == \"max\":\n",
    "            ##If max pooling\n",
    "            pooled = self.maxpool(h, padded_neighbor_list)\n",
    "        else:\n",
    "            #If sum or average pooling\n",
    "            pooled = torch.spmm(Adj_block, h)\n",
    "            if self.neighbor_pooling_type == \"average\":\n",
    "                #If average pooling\n",
    "                degree = torch.spmm(Adj_block, torch.ones((Adj_block.shape[0], 1)).to(self.device))\n",
    "                pooled = pooled/degree\n",
    "\n",
    "        #representation of neighboring and center nodes \n",
    "        pooled_rep = self.mlps[layer](pooled)\n",
    "\n",
    "        h = self.batch_norms[layer](pooled_rep)\n",
    "\n",
    "        #non-linearity\n",
    "        h = F.relu(h)\n",
    "        return h\n",
    "\n",
    "\n",
    "    def forward(self, batch_graph):\n",
    "        X_concat = torch.cat([graph.node_features for graph in batch_graph], 0).to(self.device)\n",
    "\n",
    "        # graph_pool = self.__preprocess_graphpool(batch_graph)\n",
    "\n",
    "        if self.neighbor_pooling_type == \"max\":\n",
    "            padded_neighbor_list = self.__preprocess_neighbors_maxpool(batch_graph)\n",
    "        else:\n",
    "            Adj_block = self.__preprocess_neighbors_sumavepool(batch_graph)\n",
    "\n",
    "        #list of hidden representation at each layer (including input)\n",
    "        hidden_rep = [X_concat]\n",
    "        h = X_concat\n",
    "\n",
    "        for layer in range(self.num_layers-1):\n",
    "            if self.neighbor_pooling_type == \"max\" and self.learn_eps:\n",
    "                h = self.next_layer_eps(h, layer, padded_neighbor_list = padded_neighbor_list)\n",
    "            elif not self.neighbor_pooling_type == \"max\" and self.learn_eps:\n",
    "                h = self.next_layer_eps(h, layer, Adj_block = Adj_block)\n",
    "            elif self.neighbor_pooling_type == \"max\" and not self.learn_eps:\n",
    "                h = self.next_layer(h, layer, padded_neighbor_list = padded_neighbor_list)\n",
    "            elif not self.neighbor_pooling_type == \"max\" and not self.learn_eps:\n",
    "                h = self.next_layer(h, layer, Adj_block = Adj_block)\n",
    "\n",
    "            hidden_rep.append(h)\n",
    "\n",
    "        hidden_rep = torch.cat(hidden_rep, 1)\n",
    "\n",
    "        graph_sizes = [graph.node_features.size()[0] for graph in batch_graph]\n",
    "\n",
    "        batch_graphs = torch.zeros(len(graph_sizes), self.dense_dim).to(self.device)\n",
    "        batch_graphs = Variable(batch_graphs)\n",
    "\n",
    "        node_embeddings = torch.split(hidden_rep, graph_sizes, dim=0)\n",
    "\n",
    "        for g_i in range(len(graph_sizes)):\n",
    "            cur_node_embeddings = node_embeddings[g_i]\n",
    "            attn_coef = self.attend(cur_node_embeddings)\n",
    "            attn_weights = torch.transpose(attn_coef, 0, 1)\n",
    "            cur_graph_embeddings = torch.matmul(attn_weights, cur_node_embeddings)\n",
    "            batch_graphs[g_i] = cur_graph_embeddings.view(self.dense_dim)\n",
    "\n",
    "        score = F.dropout(self.linear1(batch_graphs), self.final_dropout, training=self.training)\n",
    "\n",
    "        return score"
   ]
  },
  {
   "cell_type": "code",
   "execution_count": 7,
   "metadata": {},
   "outputs": [
    {
     "name": "stderr",
     "output_type": "stream",
     "text": [
      "C:\\Users\\aron\\anaconda3\\lib\\site-packages\\torch\\optim\\lr_scheduler.py:129: UserWarning: Detected call of `lr_scheduler.step()` before `optimizer.step()`. In PyTorch 1.1.0 and later, you should call them in the opposite order: `optimizer.step()` before `lr_scheduler.step()`.  Failure to do this will result in PyTorch skipping the first value of the learning rate schedule. See more details at https://pytorch.org/docs/stable/optim.html#how-to-adjust-learning-rate\n",
      "  warnings.warn(\"Detected call of `lr_scheduler.step()` before `optimizer.step()`. \"\n",
      "epoch: 1:   0%|                                                                              | 0/50 [00:00<?, ?batch/s]"
     ]
    },
    {
     "name": "stdout",
     "output_type": "stream",
     "text": [
      "loading data\n",
      "# classes: 2\n",
      "# maximum node tag: 7\n",
      "# data: 188\n"
     ]
    },
    {
     "name": "stderr",
     "output_type": "stream",
     "text": [
      "epoch: 1: 100%|█████████████████████████████████████████████████████████████████████| 50/50 [00:01<00:00, 44.45batch/s]\n",
      "epoch: 2:   8%|█████▌                                                                | 4/50 [00:00<00:01, 36.46batch/s]"
     ]
    },
    {
     "name": "stdout",
     "output_type": "stream",
     "text": [
      "loss training: 1.160651\n",
      "accuracy train: 0.810651 test: 0.947368\n",
      "\n",
      "Parameter containing:\n",
      "tensor([0., 0., 0., 0.], requires_grad=True)\n"
     ]
    },
    {
     "name": "stderr",
     "output_type": "stream",
     "text": [
      "epoch: 2: 100%|█████████████████████████████████████████████████████████████████████| 50/50 [00:01<00:00, 37.81batch/s]\n",
      "epoch: 3:  10%|███████                                                               | 5/50 [00:00<00:01, 43.22batch/s]"
     ]
    },
    {
     "name": "stdout",
     "output_type": "stream",
     "text": [
      "loss training: 0.545956\n",
      "accuracy train: 0.840237 test: 0.894737\n",
      "\n",
      "Parameter containing:\n",
      "tensor([0., 0., 0., 0.], requires_grad=True)\n"
     ]
    },
    {
     "name": "stderr",
     "output_type": "stream",
     "text": [
      "epoch: 3: 100%|█████████████████████████████████████████████████████████████████████| 50/50 [00:01<00:00, 43.62batch/s]\n",
      "epoch: 4:  10%|███████                                                               | 5/50 [00:00<00:01, 42.13batch/s]"
     ]
    },
    {
     "name": "stdout",
     "output_type": "stream",
     "text": [
      "loss training: 0.452738\n",
      "accuracy train: 0.917160 test: 0.894737\n",
      "\n",
      "Parameter containing:\n",
      "tensor([0., 0., 0., 0.], requires_grad=True)\n"
     ]
    },
    {
     "name": "stderr",
     "output_type": "stream",
     "text": [
      "epoch: 4: 100%|█████████████████████████████████████████████████████████████████████| 50/50 [00:01<00:00, 43.59batch/s]\n",
      "epoch: 5:  10%|███████                                                               | 5/50 [00:00<00:01, 42.13batch/s]"
     ]
    },
    {
     "name": "stdout",
     "output_type": "stream",
     "text": [
      "loss training: 0.416746\n",
      "accuracy train: 0.869822 test: 0.842105\n",
      "\n",
      "Parameter containing:\n",
      "tensor([0., 0., 0., 0.], requires_grad=True)\n"
     ]
    },
    {
     "name": "stderr",
     "output_type": "stream",
     "text": [
      "epoch: 5: 100%|█████████████████████████████████████████████████████████████████████| 50/50 [00:01<00:00, 43.67batch/s]\n",
      "epoch: 6:   8%|█████▌                                                                | 4/50 [00:00<00:01, 36.80batch/s]"
     ]
    },
    {
     "name": "stdout",
     "output_type": "stream",
     "text": [
      "loss training: 0.382104\n",
      "accuracy train: 0.899408 test: 0.894737\n",
      "\n",
      "Parameter containing:\n",
      "tensor([0., 0., 0., 0.], requires_grad=True)\n"
     ]
    },
    {
     "name": "stderr",
     "output_type": "stream",
     "text": [
      "epoch: 6: 100%|█████████████████████████████████████████████████████████████████████| 50/50 [00:01<00:00, 41.72batch/s]\n",
      "epoch: 7:  10%|███████                                                               | 5/50 [00:00<00:00, 45.17batch/s]"
     ]
    },
    {
     "name": "stdout",
     "output_type": "stream",
     "text": [
      "loss training: 0.388616\n",
      "accuracy train: 0.863905 test: 0.789474\n",
      "\n",
      "Parameter containing:\n",
      "tensor([0., 0., 0., 0.], requires_grad=True)\n"
     ]
    },
    {
     "name": "stderr",
     "output_type": "stream",
     "text": [
      "epoch: 7: 100%|█████████████████████████████████████████████████████████████████████| 50/50 [00:01<00:00, 42.94batch/s]\n",
      "epoch: 8:  10%|███████                                                               | 5/50 [00:00<00:00, 46.79batch/s]"
     ]
    },
    {
     "name": "stdout",
     "output_type": "stream",
     "text": [
      "loss training: 0.380379\n",
      "accuracy train: 0.887574 test: 0.789474\n",
      "\n",
      "Parameter containing:\n",
      "tensor([0., 0., 0., 0.], requires_grad=True)\n"
     ]
    },
    {
     "name": "stderr",
     "output_type": "stream",
     "text": [
      "epoch: 8: 100%|█████████████████████████████████████████████████████████████████████| 50/50 [00:01<00:00, 40.01batch/s]\n",
      "epoch: 9:  10%|███████                                                               | 5/50 [00:00<00:01, 43.98batch/s]"
     ]
    },
    {
     "name": "stdout",
     "output_type": "stream",
     "text": [
      "loss training: 0.344529\n",
      "accuracy train: 0.923077 test: 0.842105\n",
      "\n",
      "Parameter containing:\n",
      "tensor([0., 0., 0., 0.], requires_grad=True)\n"
     ]
    },
    {
     "name": "stderr",
     "output_type": "stream",
     "text": [
      "epoch: 9: 100%|█████████████████████████████████████████████████████████████████████| 50/50 [00:01<00:00, 43.06batch/s]\n",
      "epoch: 10:  10%|██████▉                                                              | 5/50 [00:00<00:00, 46.42batch/s]"
     ]
    },
    {
     "name": "stdout",
     "output_type": "stream",
     "text": [
      "loss training: 0.304716\n",
      "accuracy train: 0.911243 test: 0.947368\n",
      "\n",
      "Parameter containing:\n",
      "tensor([0., 0., 0., 0.], requires_grad=True)\n"
     ]
    },
    {
     "name": "stderr",
     "output_type": "stream",
     "text": [
      "epoch: 10: 100%|████████████████████████████████████████████████████████████████████| 50/50 [00:01<00:00, 44.88batch/s]\n",
      "epoch: 11:  10%|██████▉                                                              | 5/50 [00:00<00:01, 41.78batch/s]"
     ]
    },
    {
     "name": "stdout",
     "output_type": "stream",
     "text": [
      "loss training: 0.325896\n",
      "accuracy train: 0.934911 test: 0.842105\n",
      "\n",
      "Parameter containing:\n",
      "tensor([0., 0., 0., 0.], requires_grad=True)\n"
     ]
    },
    {
     "name": "stderr",
     "output_type": "stream",
     "text": [
      "epoch: 11: 100%|████████████████████████████████████████████████████████████████████| 50/50 [00:01<00:00, 43.49batch/s]\n",
      "epoch: 12:  10%|██████▉                                                              | 5/50 [00:00<00:01, 43.98batch/s]"
     ]
    },
    {
     "name": "stdout",
     "output_type": "stream",
     "text": [
      "loss training: 0.326014\n",
      "accuracy train: 0.917160 test: 0.842105\n",
      "\n",
      "Parameter containing:\n",
      "tensor([0., 0., 0., 0.], requires_grad=True)\n"
     ]
    },
    {
     "name": "stderr",
     "output_type": "stream",
     "text": [
      "epoch: 12: 100%|████████████████████████████████████████████████████████████████████| 50/50 [00:01<00:00, 45.78batch/s]\n",
      "epoch: 13:   8%|█████▌                                                               | 4/50 [00:00<00:01, 37.20batch/s]"
     ]
    },
    {
     "name": "stdout",
     "output_type": "stream",
     "text": [
      "loss training: 0.440805\n",
      "accuracy train: 0.852071 test: 0.789474\n",
      "\n",
      "Parameter containing:\n",
      "tensor([0., 0., 0., 0.], requires_grad=True)\n"
     ]
    },
    {
     "name": "stderr",
     "output_type": "stream",
     "text": [
      "epoch: 13: 100%|████████████████████████████████████████████████████████████████████| 50/50 [00:01<00:00, 41.46batch/s]\n",
      "epoch: 14:  10%|██████▉                                                              | 5/50 [00:00<00:00, 49.64batch/s]"
     ]
    },
    {
     "name": "stdout",
     "output_type": "stream",
     "text": [
      "loss training: 0.335295\n",
      "accuracy train: 0.940828 test: 0.894737\n",
      "\n",
      "Parameter containing:\n",
      "tensor([0., 0., 0., 0.], requires_grad=True)\n"
     ]
    },
    {
     "name": "stderr",
     "output_type": "stream",
     "text": [
      "epoch: 14: 100%|████████████████████████████████████████████████████████████████████| 50/50 [00:01<00:00, 42.79batch/s]\n",
      "epoch: 15:  10%|██████▉                                                              | 5/50 [00:00<00:00, 47.63batch/s]"
     ]
    },
    {
     "name": "stdout",
     "output_type": "stream",
     "text": [
      "loss training: 0.334328\n",
      "accuracy train: 0.917160 test: 0.894737\n",
      "\n",
      "Parameter containing:\n",
      "tensor([0., 0., 0., 0.], requires_grad=True)\n"
     ]
    },
    {
     "name": "stderr",
     "output_type": "stream",
     "text": [
      "epoch: 15: 100%|████████████████████████████████████████████████████████████████████| 50/50 [00:01<00:00, 45.36batch/s]\n",
      "epoch: 16:  10%|██████▉                                                              | 5/50 [00:00<00:01, 43.59batch/s]"
     ]
    },
    {
     "name": "stdout",
     "output_type": "stream",
     "text": [
      "loss training: 0.349623\n",
      "accuracy train: 0.869822 test: 0.789474\n",
      "\n",
      "Parameter containing:\n",
      "tensor([0., 0., 0., 0.], requires_grad=True)\n"
     ]
    },
    {
     "name": "stderr",
     "output_type": "stream",
     "text": [
      "epoch: 16: 100%|████████████████████████████████████████████████████████████████████| 50/50 [00:01<00:00, 44.72batch/s]\n",
      "epoch: 17:  10%|██████▉                                                              | 5/50 [00:00<00:01, 43.22batch/s]"
     ]
    },
    {
     "name": "stdout",
     "output_type": "stream",
     "text": [
      "loss training: 0.297642\n",
      "accuracy train: 0.940828 test: 0.842105\n",
      "\n",
      "Parameter containing:\n",
      "tensor([0., 0., 0., 0.], requires_grad=True)\n"
     ]
    },
    {
     "name": "stderr",
     "output_type": "stream",
     "text": [
      "epoch: 17: 100%|████████████████████████████████████████████████████████████████████| 50/50 [00:01<00:00, 43.78batch/s]\n",
      "epoch: 18:  10%|██████▉                                                              | 5/50 [00:00<00:00, 49.15batch/s]"
     ]
    },
    {
     "name": "stdout",
     "output_type": "stream",
     "text": [
      "loss training: 0.282783\n",
      "accuracy train: 0.946746 test: 0.842105\n",
      "\n",
      "Parameter containing:\n",
      "tensor([0., 0., 0., 0.], requires_grad=True)\n"
     ]
    },
    {
     "name": "stderr",
     "output_type": "stream",
     "text": [
      "epoch: 18: 100%|████████████████████████████████████████████████████████████████████| 50/50 [00:01<00:00, 45.45batch/s]\n",
      "epoch: 19:  10%|██████▉                                                              | 5/50 [00:00<00:00, 46.42batch/s]"
     ]
    },
    {
     "name": "stdout",
     "output_type": "stream",
     "text": [
      "loss training: 0.274528\n",
      "accuracy train: 0.964497 test: 0.842105\n",
      "\n",
      "Parameter containing:\n",
      "tensor([0., 0., 0., 0.], requires_grad=True)\n"
     ]
    },
    {
     "name": "stderr",
     "output_type": "stream",
     "text": [
      "epoch: 19: 100%|████████████████████████████████████████████████████████████████████| 50/50 [00:01<00:00, 45.42batch/s]\n",
      "epoch: 20:  10%|██████▉                                                              | 5/50 [00:00<00:00, 45.99batch/s]"
     ]
    },
    {
     "name": "stdout",
     "output_type": "stream",
     "text": [
      "loss training: 0.300774\n",
      "accuracy train: 0.946746 test: 0.842105\n",
      "\n",
      "Parameter containing:\n",
      "tensor([0., 0., 0., 0.], requires_grad=True)\n"
     ]
    },
    {
     "name": "stderr",
     "output_type": "stream",
     "text": [
      "epoch: 20: 100%|████████████████████████████████████████████████████████████████████| 50/50 [00:01<00:00, 44.80batch/s]\n",
      "epoch: 21:  10%|██████▉                                                              | 5/50 [00:00<00:01, 43.10batch/s]"
     ]
    },
    {
     "name": "stdout",
     "output_type": "stream",
     "text": [
      "loss training: 0.312957\n",
      "accuracy train: 0.952663 test: 0.894737\n",
      "\n",
      "Parameter containing:\n",
      "tensor([0., 0., 0., 0.], requires_grad=True)\n"
     ]
    },
    {
     "name": "stderr",
     "output_type": "stream",
     "text": [
      "epoch: 21: 100%|████████████████████████████████████████████████████████████████████| 50/50 [00:01<00:00, 45.25batch/s]\n",
      "epoch: 22:  10%|██████▉                                                              | 5/50 [00:00<00:00, 48.21batch/s]"
     ]
    },
    {
     "name": "stdout",
     "output_type": "stream",
     "text": [
      "loss training: 0.308904\n",
      "accuracy train: 0.958580 test: 0.894737\n",
      "\n",
      "Parameter containing:\n",
      "tensor([0., 0., 0., 0.], requires_grad=True)\n"
     ]
    },
    {
     "name": "stderr",
     "output_type": "stream",
     "text": [
      "epoch: 22: 100%|████████████████████████████████████████████████████████████████████| 50/50 [00:01<00:00, 46.51batch/s]\n",
      "epoch: 23:  10%|██████▉                                                              | 5/50 [00:00<00:01, 43.98batch/s]"
     ]
    },
    {
     "name": "stdout",
     "output_type": "stream",
     "text": [
      "loss training: 0.285549\n",
      "accuracy train: 0.946746 test: 0.842105\n",
      "\n",
      "Parameter containing:\n",
      "tensor([0., 0., 0., 0.], requires_grad=True)\n"
     ]
    },
    {
     "name": "stderr",
     "output_type": "stream",
     "text": [
      "epoch: 23: 100%|████████████████████████████████████████████████████████████████████| 50/50 [00:01<00:00, 43.39batch/s]\n",
      "epoch: 24:  10%|██████▉                                                              | 5/50 [00:00<00:01, 42.74batch/s]"
     ]
    },
    {
     "name": "stdout",
     "output_type": "stream",
     "text": [
      "loss training: 0.294674\n",
      "accuracy train: 0.923077 test: 0.842105\n",
      "\n",
      "Parameter containing:\n",
      "tensor([0., 0., 0., 0.], requires_grad=True)\n"
     ]
    },
    {
     "name": "stderr",
     "output_type": "stream",
     "text": [
      "epoch: 24: 100%|████████████████████████████████████████████████████████████████████| 50/50 [00:01<00:00, 41.12batch/s]\n",
      "epoch: 25:   8%|█████▌                                                               | 4/50 [00:00<00:01, 34.88batch/s]"
     ]
    },
    {
     "name": "stdout",
     "output_type": "stream",
     "text": [
      "loss training: 0.324798\n",
      "accuracy train: 0.875740 test: 0.736842\n",
      "\n",
      "Parameter containing:\n",
      "tensor([0., 0., 0., 0.], requires_grad=True)\n"
     ]
    },
    {
     "name": "stderr",
     "output_type": "stream",
     "text": [
      "epoch: 25: 100%|████████████████████████████████████████████████████████████████████| 50/50 [00:01<00:00, 37.41batch/s]\n",
      "epoch: 26:   8%|█████▌                                                               | 4/50 [00:00<00:01, 38.57batch/s]"
     ]
    },
    {
     "name": "stdout",
     "output_type": "stream",
     "text": [
      "loss training: 0.350989\n",
      "accuracy train: 0.946746 test: 0.842105\n",
      "\n",
      "Parameter containing:\n",
      "tensor([0., 0., 0., 0.], requires_grad=True)\n"
     ]
    },
    {
     "name": "stderr",
     "output_type": "stream",
     "text": [
      "epoch: 26: 100%|████████████████████████████████████████████████████████████████████| 50/50 [00:01<00:00, 44.96batch/s]\n",
      "epoch: 27:  10%|██████▉                                                              | 5/50 [00:00<00:00, 45.99batch/s]"
     ]
    },
    {
     "name": "stdout",
     "output_type": "stream",
     "text": [
      "loss training: 0.385156\n",
      "accuracy train: 0.923077 test: 0.894737\n",
      "\n",
      "Parameter containing:\n",
      "tensor([0., 0., 0., 0.], requires_grad=True)\n"
     ]
    },
    {
     "name": "stderr",
     "output_type": "stream",
     "text": [
      "epoch: 27: 100%|████████████████████████████████████████████████████████████████████| 50/50 [00:01<00:00, 44.09batch/s]\n",
      "epoch: 28:  10%|██████▉                                                              | 5/50 [00:00<00:01, 42.49batch/s]"
     ]
    },
    {
     "name": "stdout",
     "output_type": "stream",
     "text": [
      "loss training: 0.335853\n",
      "accuracy train: 0.928994 test: 0.894737\n",
      "\n",
      "Parameter containing:\n",
      "tensor([0., 0., 0., 0.], requires_grad=True)\n"
     ]
    },
    {
     "name": "stderr",
     "output_type": "stream",
     "text": [
      "epoch: 28: 100%|████████████████████████████████████████████████████████████████████| 50/50 [00:01<00:00, 44.67batch/s]\n",
      "epoch: 29:  10%|██████▉                                                              | 5/50 [00:00<00:00, 46.42batch/s]"
     ]
    },
    {
     "name": "stdout",
     "output_type": "stream",
     "text": [
      "loss training: 0.267257\n",
      "accuracy train: 0.958580 test: 0.894737\n",
      "\n",
      "Parameter containing:\n",
      "tensor([0., 0., 0., 0.], requires_grad=True)\n"
     ]
    },
    {
     "name": "stderr",
     "output_type": "stream",
     "text": [
      "epoch: 29: 100%|████████████████████████████████████████████████████████████████████| 50/50 [00:01<00:00, 45.00batch/s]\n",
      "epoch: 30:  10%|██████▉                                                              | 5/50 [00:00<00:01, 43.22batch/s]"
     ]
    },
    {
     "name": "stdout",
     "output_type": "stream",
     "text": [
      "loss training: 0.243284\n",
      "accuracy train: 0.970414 test: 0.842105\n",
      "\n",
      "Parameter containing:\n",
      "tensor([0., 0., 0., 0.], requires_grad=True)\n"
     ]
    },
    {
     "name": "stderr",
     "output_type": "stream",
     "text": [
      "epoch: 30: 100%|████████████████████████████████████████████████████████████████████| 50/50 [00:01<00:00, 44.84batch/s]\n",
      "epoch: 31:  10%|██████▉                                                              | 5/50 [00:00<00:00, 46.42batch/s]"
     ]
    },
    {
     "name": "stdout",
     "output_type": "stream",
     "text": [
      "loss training: 0.255640\n",
      "accuracy train: 0.923077 test: 0.894737\n",
      "\n",
      "Parameter containing:\n",
      "tensor([0., 0., 0., 0.], requires_grad=True)\n"
     ]
    },
    {
     "name": "stderr",
     "output_type": "stream",
     "text": [
      "epoch: 31: 100%|████████████████████████████████████████████████████████████████████| 50/50 [00:01<00:00, 46.21batch/s]\n",
      "epoch: 32:  10%|██████▉                                                              | 5/50 [00:00<00:01, 44.54batch/s]"
     ]
    },
    {
     "name": "stdout",
     "output_type": "stream",
     "text": [
      "loss training: 0.293471\n",
      "accuracy train: 0.940828 test: 1.000000\n",
      "\n",
      "Parameter containing:\n",
      "tensor([0., 0., 0., 0.], requires_grad=True)\n"
     ]
    },
    {
     "name": "stderr",
     "output_type": "stream",
     "text": [
      "epoch: 32: 100%|████████████████████████████████████████████████████████████████████| 50/50 [00:01<00:00, 45.22batch/s]\n",
      "epoch: 33:  10%|██████▉                                                              | 5/50 [00:00<00:01, 41.78batch/s]"
     ]
    },
    {
     "name": "stdout",
     "output_type": "stream",
     "text": [
      "loss training: 0.271886\n",
      "accuracy train: 0.952663 test: 0.894737\n",
      "\n",
      "Parameter containing:\n",
      "tensor([0., 0., 0., 0.], requires_grad=True)\n"
     ]
    },
    {
     "name": "stderr",
     "output_type": "stream",
     "text": [
      "epoch: 33: 100%|████████████████████████████████████████████████████████████████████| 50/50 [00:01<00:00, 43.07batch/s]\n",
      "epoch: 34:  10%|██████▉                                                              | 5/50 [00:00<00:00, 47.75batch/s]"
     ]
    },
    {
     "name": "stdout",
     "output_type": "stream",
     "text": [
      "loss training: 0.264676\n",
      "accuracy train: 0.970414 test: 0.947368\n",
      "\n",
      "Parameter containing:\n",
      "tensor([0., 0., 0., 0.], requires_grad=True)\n"
     ]
    },
    {
     "name": "stderr",
     "output_type": "stream",
     "text": [
      "epoch: 34: 100%|████████████████████████████████████████████████████████████████████| 50/50 [00:01<00:00, 45.78batch/s]\n",
      "epoch: 35:  10%|██████▉                                                              | 5/50 [00:00<00:01, 40.76batch/s]"
     ]
    },
    {
     "name": "stdout",
     "output_type": "stream",
     "text": [
      "loss training: 0.222021\n",
      "accuracy train: 0.946746 test: 0.894737\n",
      "\n",
      "Parameter containing:\n",
      "tensor([0., 0., 0., 0.], requires_grad=True)\n"
     ]
    },
    {
     "name": "stderr",
     "output_type": "stream",
     "text": [
      "epoch: 35: 100%|████████████████████████████████████████████████████████████████████| 50/50 [00:01<00:00, 45.37batch/s]\n",
      "epoch: 36:  10%|██████▉                                                              | 5/50 [00:00<00:00, 45.99batch/s]"
     ]
    },
    {
     "name": "stdout",
     "output_type": "stream",
     "text": [
      "loss training: 0.313395\n",
      "accuracy train: 0.917160 test: 0.947368\n",
      "\n",
      "Parameter containing:\n",
      "tensor([0., 0., 0., 0.], requires_grad=True)\n"
     ]
    },
    {
     "name": "stderr",
     "output_type": "stream",
     "text": [
      "epoch: 36: 100%|████████████████████████████████████████████████████████████████████| 50/50 [00:01<00:00, 46.12batch/s]\n",
      "epoch: 37:  10%|██████▉                                                              | 5/50 [00:00<00:00, 45.99batch/s]"
     ]
    },
    {
     "name": "stdout",
     "output_type": "stream",
     "text": [
      "loss training: 2.656414\n",
      "accuracy train: 0.721893 test: 0.736842\n",
      "\n",
      "Parameter containing:\n",
      "tensor([0., 0., 0., 0.], requires_grad=True)\n"
     ]
    },
    {
     "name": "stderr",
     "output_type": "stream",
     "text": [
      "epoch: 37: 100%|████████████████████████████████████████████████████████████████████| 50/50 [00:01<00:00, 44.97batch/s]\n",
      "epoch: 38:  10%|██████▉                                                              | 5/50 [00:00<00:00, 46.85batch/s]"
     ]
    },
    {
     "name": "stdout",
     "output_type": "stream",
     "text": [
      "loss training: 0.421860\n",
      "accuracy train: 0.875740 test: 0.789474\n",
      "\n",
      "Parameter containing:\n",
      "tensor([0., 0., 0., 0.], requires_grad=True)\n"
     ]
    },
    {
     "name": "stderr",
     "output_type": "stream",
     "text": [
      "epoch: 38: 100%|████████████████████████████████████████████████████████████████████| 50/50 [00:01<00:00, 46.16batch/s]\n",
      "epoch: 39:  10%|██████▉                                                              | 5/50 [00:00<00:00, 45.99batch/s]"
     ]
    },
    {
     "name": "stdout",
     "output_type": "stream",
     "text": [
      "loss training: 0.413718\n",
      "accuracy train: 0.828402 test: 0.894737\n",
      "\n",
      "Parameter containing:\n",
      "tensor([0., 0., 0., 0.], requires_grad=True)\n"
     ]
    },
    {
     "name": "stderr",
     "output_type": "stream",
     "text": [
      "epoch: 39: 100%|████████████████████████████████████████████████████████████████████| 50/50 [00:01<00:00, 45.33batch/s]\n",
      "epoch: 40:  10%|██████▉                                                              | 5/50 [00:00<00:00, 48.67batch/s]"
     ]
    },
    {
     "name": "stdout",
     "output_type": "stream",
     "text": [
      "loss training: 0.401538\n",
      "accuracy train: 0.840237 test: 0.894737\n",
      "\n",
      "Parameter containing:\n",
      "tensor([0., 0., 0., 0.], requires_grad=True)\n"
     ]
    },
    {
     "name": "stderr",
     "output_type": "stream",
     "text": [
      "epoch: 40: 100%|████████████████████████████████████████████████████████████████████| 50/50 [00:01<00:00, 46.72batch/s]\n",
      "epoch: 41:  10%|██████▉                                                              | 5/50 [00:00<00:00, 48.21batch/s]"
     ]
    },
    {
     "name": "stdout",
     "output_type": "stream",
     "text": [
      "loss training: 0.373619\n",
      "accuracy train: 0.905325 test: 0.894737\n",
      "\n",
      "Parameter containing:\n",
      "tensor([0., 0., 0., 0.], requires_grad=True)\n"
     ]
    },
    {
     "name": "stderr",
     "output_type": "stream",
     "text": [
      "epoch: 41: 100%|████████████████████████████████████████████████████████████████████| 50/50 [00:01<00:00, 45.14batch/s]\n",
      "epoch: 42:  10%|██████▉                                                              | 5/50 [00:00<00:00, 45.99batch/s]"
     ]
    },
    {
     "name": "stdout",
     "output_type": "stream",
     "text": [
      "loss training: 0.373069\n",
      "accuracy train: 0.857988 test: 0.894737\n",
      "\n",
      "Parameter containing:\n",
      "tensor([0., 0., 0., 0.], requires_grad=True)\n"
     ]
    },
    {
     "name": "stderr",
     "output_type": "stream",
     "text": [
      "epoch: 42: 100%|████████████████████████████████████████████████████████████████████| 50/50 [00:01<00:00, 46.51batch/s]\n",
      "epoch: 43:  10%|██████▉                                                              | 5/50 [00:00<00:01, 44.76batch/s]"
     ]
    },
    {
     "name": "stdout",
     "output_type": "stream",
     "text": [
      "loss training: 0.355711\n",
      "accuracy train: 0.923077 test: 0.842105\n",
      "\n",
      "Parameter containing:\n",
      "tensor([0., 0., 0., 0.], requires_grad=True)\n"
     ]
    },
    {
     "name": "stderr",
     "output_type": "stream",
     "text": [
      "epoch: 43: 100%|████████████████████████████████████████████████████████████████████| 50/50 [00:01<00:00, 43.07batch/s]\n",
      "epoch: 44:  10%|██████▉                                                              | 5/50 [00:00<00:01, 43.59batch/s]"
     ]
    },
    {
     "name": "stdout",
     "output_type": "stream",
     "text": [
      "loss training: 0.350815\n",
      "accuracy train: 0.917160 test: 0.842105\n",
      "\n",
      "Parameter containing:\n",
      "tensor([0., 0., 0., 0.], requires_grad=True)\n"
     ]
    },
    {
     "name": "stderr",
     "output_type": "stream",
     "text": [
      "epoch: 44: 100%|████████████████████████████████████████████████████████████████████| 50/50 [00:01<00:00, 46.08batch/s]\n",
      "epoch: 45:  10%|██████▉                                                              | 5/50 [00:00<00:00, 49.15batch/s]"
     ]
    },
    {
     "name": "stdout",
     "output_type": "stream",
     "text": [
      "loss training: 0.338122\n",
      "accuracy train: 0.917160 test: 0.842105\n",
      "\n",
      "Parameter containing:\n",
      "tensor([0., 0., 0., 0.], requires_grad=True)\n"
     ]
    },
    {
     "name": "stderr",
     "output_type": "stream",
     "text": [
      "epoch: 45: 100%|████████████████████████████████████████████████████████████████████| 50/50 [00:01<00:00, 46.42batch/s]\n",
      "epoch: 46:   8%|█████▌                                                               | 4/50 [00:00<00:01, 39.71batch/s]"
     ]
    },
    {
     "name": "stdout",
     "output_type": "stream",
     "text": [
      "loss training: 0.332792\n",
      "accuracy train: 0.893491 test: 0.842105\n",
      "\n",
      "Parameter containing:\n",
      "tensor([0., 0., 0., 0.], requires_grad=True)\n"
     ]
    },
    {
     "name": "stderr",
     "output_type": "stream",
     "text": [
      "epoch: 46: 100%|████████████████████████████████████████████████████████████████████| 50/50 [00:01<00:00, 46.04batch/s]\n",
      "epoch: 47:  10%|██████▉                                                              | 5/50 [00:00<00:00, 45.58batch/s]"
     ]
    },
    {
     "name": "stdout",
     "output_type": "stream",
     "text": [
      "loss training: 0.335073\n",
      "accuracy train: 0.852071 test: 0.736842\n",
      "\n",
      "Parameter containing:\n",
      "tensor([0., 0., 0., 0.], requires_grad=True)\n"
     ]
    },
    {
     "name": "stderr",
     "output_type": "stream",
     "text": [
      "epoch: 47: 100%|████████████████████████████████████████████████████████████████████| 50/50 [00:01<00:00, 46.25batch/s]\n",
      "epoch: 48:  10%|██████▉                                                              | 5/50 [00:00<00:00, 46.42batch/s]"
     ]
    },
    {
     "name": "stdout",
     "output_type": "stream",
     "text": [
      "loss training: 0.316746\n",
      "accuracy train: 0.899408 test: 0.842105\n",
      "\n",
      "Parameter containing:\n",
      "tensor([0., 0., 0., 0.], requires_grad=True)\n"
     ]
    },
    {
     "name": "stderr",
     "output_type": "stream",
     "text": [
      "epoch: 48: 100%|████████████████████████████████████████████████████████████████████| 50/50 [00:01<00:00, 45.41batch/s]\n",
      "epoch: 49:  10%|██████▉                                                              | 5/50 [00:00<00:00, 48.67batch/s]"
     ]
    },
    {
     "name": "stdout",
     "output_type": "stream",
     "text": [
      "loss training: 0.326125\n",
      "accuracy train: 0.923077 test: 0.842105\n",
      "\n",
      "Parameter containing:\n",
      "tensor([0., 0., 0., 0.], requires_grad=True)\n"
     ]
    },
    {
     "name": "stderr",
     "output_type": "stream",
     "text": [
      "epoch: 49: 100%|████████████████████████████████████████████████████████████████████| 50/50 [00:01<00:00, 45.83batch/s]\n",
      "epoch: 50:  10%|██████▉                                                              | 5/50 [00:00<00:00, 45.99batch/s]"
     ]
    },
    {
     "name": "stdout",
     "output_type": "stream",
     "text": [
      "loss training: 0.336350\n",
      "accuracy train: 0.863905 test: 0.947368\n",
      "\n",
      "Parameter containing:\n",
      "tensor([0., 0., 0., 0.], requires_grad=True)\n"
     ]
    },
    {
     "name": "stderr",
     "output_type": "stream",
     "text": [
      "epoch: 50: 100%|████████████████████████████████████████████████████████████████████| 50/50 [00:01<00:00, 46.33batch/s]\n",
      "epoch: 51:  10%|██████▉                                                              | 5/50 [00:00<00:01, 43.22batch/s]"
     ]
    },
    {
     "name": "stdout",
     "output_type": "stream",
     "text": [
      "loss training: 0.312732\n",
      "accuracy train: 0.911243 test: 0.842105\n",
      "\n",
      "Parameter containing:\n",
      "tensor([0., 0., 0., 0.], requires_grad=True)\n"
     ]
    },
    {
     "name": "stderr",
     "output_type": "stream",
     "text": [
      "epoch: 51: 100%|████████████████████████████████████████████████████████████████████| 50/50 [00:01<00:00, 45.78batch/s]\n",
      "epoch: 52:  10%|██████▉                                                              | 5/50 [00:00<00:01, 43.98batch/s]"
     ]
    },
    {
     "name": "stdout",
     "output_type": "stream",
     "text": [
      "loss training: 0.324261\n",
      "accuracy train: 0.928994 test: 0.894737\n",
      "\n",
      "Parameter containing:\n",
      "tensor([0., 0., 0., 0.], requires_grad=True)\n"
     ]
    },
    {
     "name": "stderr",
     "output_type": "stream",
     "text": [
      "epoch: 52: 100%|████████████████████████████████████████████████████████████████████| 50/50 [00:01<00:00, 42.38batch/s]\n",
      "epoch: 53:   8%|█████▌                                                               | 4/50 [00:00<00:01, 33.15batch/s]"
     ]
    },
    {
     "name": "stdout",
     "output_type": "stream",
     "text": [
      "loss training: 0.321362\n",
      "accuracy train: 0.928994 test: 0.842105\n",
      "\n",
      "Parameter containing:\n",
      "tensor([0., 0., 0., 0.], requires_grad=True)\n"
     ]
    },
    {
     "name": "stderr",
     "output_type": "stream",
     "text": [
      "epoch: 53: 100%|████████████████████████████████████████████████████████████████████| 50/50 [00:01<00:00, 35.23batch/s]\n",
      "epoch: 54:   8%|█████▌                                                               | 4/50 [00:00<00:01, 38.20batch/s]"
     ]
    },
    {
     "name": "stdout",
     "output_type": "stream",
     "text": [
      "loss training: 0.320575\n",
      "accuracy train: 0.923077 test: 0.842105\n",
      "\n",
      "Parameter containing:\n",
      "tensor([0., 0., 0., 0.], requires_grad=True)\n"
     ]
    },
    {
     "name": "stderr",
     "output_type": "stream",
     "text": [
      "epoch: 54: 100%|████████████████████████████████████████████████████████████████████| 50/50 [00:01<00:00, 40.59batch/s]\n",
      "epoch: 55:   8%|█████▌                                                               | 4/50 [00:00<00:01, 33.70batch/s]"
     ]
    },
    {
     "name": "stdout",
     "output_type": "stream",
     "text": [
      "loss training: 0.311782\n",
      "accuracy train: 0.917160 test: 0.894737\n",
      "\n",
      "Parameter containing:\n",
      "tensor([0., 0., 0., 0.], requires_grad=True)\n"
     ]
    },
    {
     "name": "stderr",
     "output_type": "stream",
     "text": [
      "epoch: 55: 100%|████████████████████████████████████████████████████████████████████| 50/50 [00:01<00:00, 41.64batch/s]\n",
      "epoch: 56:  10%|██████▉                                                              | 5/50 [00:00<00:01, 40.43batch/s]"
     ]
    },
    {
     "name": "stdout",
     "output_type": "stream",
     "text": [
      "loss training: 0.308598\n",
      "accuracy train: 0.928994 test: 0.842105\n",
      "\n",
      "Parameter containing:\n",
      "tensor([0., 0., 0., 0.], requires_grad=True)\n"
     ]
    },
    {
     "name": "stderr",
     "output_type": "stream",
     "text": [
      "epoch: 56: 100%|████████████████████████████████████████████████████████████████████| 50/50 [00:01<00:00, 42.52batch/s]\n",
      "epoch: 57:  10%|██████▉                                                              | 5/50 [00:00<00:01, 41.43batch/s]"
     ]
    },
    {
     "name": "stdout",
     "output_type": "stream",
     "text": [
      "loss training: 0.298811\n",
      "accuracy train: 0.928994 test: 0.842105\n",
      "\n",
      "Parameter containing:\n",
      "tensor([0., 0., 0., 0.], requires_grad=True)\n"
     ]
    },
    {
     "name": "stderr",
     "output_type": "stream",
     "text": [
      "epoch: 57: 100%|████████████████████████████████████████████████████████████████████| 50/50 [00:01<00:00, 44.17batch/s]\n",
      "epoch: 58:  10%|██████▉                                                              | 5/50 [00:00<00:01, 43.59batch/s]"
     ]
    },
    {
     "name": "stdout",
     "output_type": "stream",
     "text": [
      "loss training: 0.288388\n",
      "accuracy train: 0.917160 test: 0.894737\n",
      "\n",
      "Parameter containing:\n",
      "tensor([0., 0., 0., 0.], requires_grad=True)\n"
     ]
    },
    {
     "name": "stderr",
     "output_type": "stream",
     "text": [
      "epoch: 58: 100%|████████████████████████████████████████████████████████████████████| 50/50 [00:01<00:00, 44.56batch/s]\n",
      "epoch: 59:  10%|██████▉                                                              | 5/50 [00:00<00:01, 41.09batch/s]"
     ]
    },
    {
     "name": "stdout",
     "output_type": "stream",
     "text": [
      "loss training: 0.305224\n",
      "accuracy train: 0.917160 test: 0.894737\n",
      "\n",
      "Parameter containing:\n",
      "tensor([0., 0., 0., 0.], requires_grad=True)\n"
     ]
    },
    {
     "name": "stderr",
     "output_type": "stream",
     "text": [
      "epoch: 59: 100%|████████████████████████████████████████████████████████████████████| 50/50 [00:01<00:00, 43.03batch/s]\n",
      "epoch: 60:  10%|██████▉                                                              | 5/50 [00:00<00:01, 44.37batch/s]"
     ]
    },
    {
     "name": "stdout",
     "output_type": "stream",
     "text": [
      "loss training: 0.312361\n",
      "accuracy train: 0.923077 test: 0.842105\n",
      "\n",
      "Parameter containing:\n",
      "tensor([0., 0., 0., 0.], requires_grad=True)\n"
     ]
    },
    {
     "name": "stderr",
     "output_type": "stream",
     "text": [
      "epoch: 60: 100%|████████████████████████████████████████████████████████████████████| 50/50 [00:01<00:00, 44.29batch/s]\n",
      "epoch: 61:  10%|██████▉                                                              | 5/50 [00:00<00:01, 43.59batch/s]"
     ]
    },
    {
     "name": "stdout",
     "output_type": "stream",
     "text": [
      "loss training: 0.321870\n",
      "accuracy train: 0.928994 test: 0.894737\n",
      "\n",
      "Parameter containing:\n",
      "tensor([0., 0., 0., 0.], requires_grad=True)\n"
     ]
    },
    {
     "name": "stderr",
     "output_type": "stream",
     "text": [
      "epoch: 61: 100%|████████████████████████████████████████████████████████████████████| 50/50 [00:01<00:00, 42.41batch/s]\n",
      "epoch: 62:  10%|██████▉                                                              | 5/50 [00:00<00:01, 42.85batch/s]"
     ]
    },
    {
     "name": "stdout",
     "output_type": "stream",
     "text": [
      "loss training: 0.306295\n",
      "accuracy train: 0.917160 test: 0.842105\n",
      "\n",
      "Parameter containing:\n",
      "tensor([0., 0., 0., 0.], requires_grad=True)\n"
     ]
    },
    {
     "name": "stderr",
     "output_type": "stream",
     "text": [
      "epoch: 62: 100%|████████████████████████████████████████████████████████████████████| 50/50 [00:01<00:00, 43.08batch/s]\n",
      "epoch: 63:  10%|██████▉                                                              | 5/50 [00:00<00:01, 43.59batch/s]"
     ]
    },
    {
     "name": "stdout",
     "output_type": "stream",
     "text": [
      "loss training: 0.297257\n",
      "accuracy train: 0.928994 test: 0.894737\n",
      "\n",
      "Parameter containing:\n",
      "tensor([0., 0., 0., 0.], requires_grad=True)\n"
     ]
    },
    {
     "name": "stderr",
     "output_type": "stream",
     "text": [
      "epoch: 63: 100%|████████████████████████████████████████████████████████████████████| 50/50 [00:01<00:00, 43.29batch/s]\n",
      "epoch: 64:  10%|██████▉                                                              | 5/50 [00:00<00:00, 45.58batch/s]"
     ]
    },
    {
     "name": "stdout",
     "output_type": "stream",
     "text": [
      "loss training: 0.289690\n",
      "accuracy train: 0.923077 test: 0.894737\n",
      "\n",
      "Parameter containing:\n",
      "tensor([0., 0., 0., 0.], requires_grad=True)\n"
     ]
    },
    {
     "name": "stderr",
     "output_type": "stream",
     "text": [
      "epoch: 64: 100%|████████████████████████████████████████████████████████████████████| 50/50 [00:01<00:00, 42.39batch/s]\n",
      "epoch: 65:  10%|██████▉                                                              | 5/50 [00:00<00:01, 44.76batch/s]"
     ]
    },
    {
     "name": "stdout",
     "output_type": "stream",
     "text": [
      "loss training: 0.308110\n",
      "accuracy train: 0.917160 test: 0.842105\n",
      "\n",
      "Parameter containing:\n",
      "tensor([0., 0., 0., 0.], requires_grad=True)\n"
     ]
    },
    {
     "name": "stderr",
     "output_type": "stream",
     "text": [
      "epoch: 65: 100%|████████████████████████████████████████████████████████████████████| 50/50 [00:01<00:00, 44.88batch/s]\n",
      "epoch: 66:  10%|██████▉                                                              | 5/50 [00:00<00:00, 47.30batch/s]"
     ]
    },
    {
     "name": "stdout",
     "output_type": "stream",
     "text": [
      "loss training: 0.302382\n",
      "accuracy train: 0.917160 test: 0.894737\n",
      "\n",
      "Parameter containing:\n",
      "tensor([0., 0., 0., 0.], requires_grad=True)\n"
     ]
    },
    {
     "name": "stderr",
     "output_type": "stream",
     "text": [
      "epoch: 66: 100%|████████████████████████████████████████████████████████████████████| 50/50 [00:01<00:00, 43.99batch/s]\n",
      "epoch: 67:  10%|██████▉                                                              | 5/50 [00:00<00:00, 47.30batch/s]"
     ]
    },
    {
     "name": "stdout",
     "output_type": "stream",
     "text": [
      "loss training: 0.314585\n",
      "accuracy train: 0.928994 test: 0.842105\n",
      "\n",
      "Parameter containing:\n",
      "tensor([0., 0., 0., 0.], requires_grad=True)\n"
     ]
    },
    {
     "name": "stderr",
     "output_type": "stream",
     "text": [
      "epoch: 67: 100%|████████████████████████████████████████████████████████████████████| 50/50 [00:01<00:00, 44.12batch/s]\n",
      "epoch: 68:  10%|██████▉                                                              | 5/50 [00:00<00:01, 43.22batch/s]"
     ]
    },
    {
     "name": "stdout",
     "output_type": "stream",
     "text": [
      "loss training: 0.300960\n",
      "accuracy train: 0.940828 test: 0.894737\n",
      "\n",
      "Parameter containing:\n",
      "tensor([0., 0., 0., 0.], requires_grad=True)\n"
     ]
    },
    {
     "name": "stderr",
     "output_type": "stream",
     "text": [
      "epoch: 68: 100%|████████████████████████████████████████████████████████████████████| 50/50 [00:01<00:00, 44.88batch/s]\n",
      "epoch: 69:  10%|██████▉                                                              | 5/50 [00:00<00:01, 43.97batch/s]"
     ]
    },
    {
     "name": "stdout",
     "output_type": "stream",
     "text": [
      "loss training: 0.317077\n",
      "accuracy train: 0.928994 test: 0.842105\n",
      "\n",
      "Parameter containing:\n",
      "tensor([0., 0., 0., 0.], requires_grad=True)\n"
     ]
    },
    {
     "name": "stderr",
     "output_type": "stream",
     "text": [
      "epoch: 69: 100%|████████████████████████████████████████████████████████████████████| 50/50 [00:01<00:00, 43.64batch/s]\n",
      "epoch: 70:  10%|██████▉                                                              | 5/50 [00:00<00:01, 42.13batch/s]"
     ]
    },
    {
     "name": "stdout",
     "output_type": "stream",
     "text": [
      "loss training: 0.299185\n",
      "accuracy train: 0.934911 test: 0.842105\n",
      "\n",
      "Parameter containing:\n",
      "tensor([0., 0., 0., 0.], requires_grad=True)\n"
     ]
    },
    {
     "name": "stderr",
     "output_type": "stream",
     "text": [
      "epoch: 70: 100%|████████████████████████████████████████████████████████████████████| 50/50 [00:01<00:00, 45.53batch/s]\n",
      "epoch: 71:  10%|██████▉                                                              | 5/50 [00:00<00:00, 48.21batch/s]"
     ]
    },
    {
     "name": "stdout",
     "output_type": "stream",
     "text": [
      "loss training: 0.301071\n",
      "accuracy train: 0.928994 test: 0.842105\n",
      "\n",
      "Parameter containing:\n",
      "tensor([0., 0., 0., 0.], requires_grad=True)\n"
     ]
    },
    {
     "name": "stderr",
     "output_type": "stream",
     "text": [
      "epoch: 71: 100%|████████████████████████████████████████████████████████████████████| 50/50 [00:01<00:00, 43.34batch/s]\n",
      "epoch: 72:  10%|██████▉                                                              | 5/50 [00:00<00:00, 46.85batch/s]"
     ]
    },
    {
     "name": "stdout",
     "output_type": "stream",
     "text": [
      "loss training: 0.297062\n",
      "accuracy train: 0.905325 test: 0.894737\n",
      "\n",
      "Parameter containing:\n",
      "tensor([0., 0., 0., 0.], requires_grad=True)\n"
     ]
    },
    {
     "name": "stderr",
     "output_type": "stream",
     "text": [
      "epoch: 72: 100%|████████████████████████████████████████████████████████████████████| 50/50 [00:01<00:00, 44.52batch/s]\n",
      "epoch: 73:  10%|██████▉                                                              | 5/50 [00:00<00:00, 46.86batch/s]"
     ]
    },
    {
     "name": "stdout",
     "output_type": "stream",
     "text": [
      "loss training: 0.282132\n",
      "accuracy train: 0.934911 test: 0.894737\n",
      "\n",
      "Parameter containing:\n",
      "tensor([0., 0., 0., 0.], requires_grad=True)\n"
     ]
    },
    {
     "name": "stderr",
     "output_type": "stream",
     "text": [
      "epoch: 73: 100%|████████████████████████████████████████████████████████████████████| 50/50 [00:01<00:00, 45.08batch/s]\n",
      "epoch: 74:  10%|██████▉                                                              | 5/50 [00:00<00:01, 40.76batch/s]"
     ]
    },
    {
     "name": "stdout",
     "output_type": "stream",
     "text": [
      "loss training: 0.302048\n",
      "accuracy train: 0.928994 test: 0.842105\n",
      "\n",
      "Parameter containing:\n",
      "tensor([0., 0., 0., 0.], requires_grad=True)\n"
     ]
    },
    {
     "name": "stderr",
     "output_type": "stream",
     "text": [
      "epoch: 74: 100%|████████████████████████████████████████████████████████████████████| 50/50 [00:01<00:00, 42.49batch/s]\n",
      "epoch: 75:  10%|██████▉                                                              | 5/50 [00:00<00:00, 45.17batch/s]"
     ]
    },
    {
     "name": "stdout",
     "output_type": "stream",
     "text": [
      "loss training: 0.304505\n",
      "accuracy train: 0.940828 test: 0.894737\n",
      "\n",
      "Parameter containing:\n",
      "tensor([0., 0., 0., 0.], requires_grad=True)\n"
     ]
    },
    {
     "name": "stderr",
     "output_type": "stream",
     "text": [
      "epoch: 75: 100%|████████████████████████████████████████████████████████████████████| 50/50 [00:01<00:00, 43.34batch/s]\n",
      "epoch: 76:  10%|██████▉                                                              | 5/50 [00:00<00:01, 43.22batch/s]"
     ]
    },
    {
     "name": "stdout",
     "output_type": "stream",
     "text": [
      "loss training: 0.266927\n",
      "accuracy train: 0.964497 test: 0.842105\n",
      "\n",
      "Parameter containing:\n",
      "tensor([0., 0., 0., 0.], requires_grad=True)\n"
     ]
    },
    {
     "name": "stderr",
     "output_type": "stream",
     "text": [
      "epoch: 76: 100%|████████████████████████████████████████████████████████████████████| 50/50 [00:01<00:00, 43.29batch/s]\n",
      "epoch: 77:  10%|██████▉                                                              | 5/50 [00:00<00:00, 45.58batch/s]"
     ]
    },
    {
     "name": "stdout",
     "output_type": "stream",
     "text": [
      "loss training: 0.287431\n",
      "accuracy train: 0.923077 test: 0.842105\n",
      "\n",
      "Parameter containing:\n",
      "tensor([0., 0., 0., 0.], requires_grad=True)\n"
     ]
    },
    {
     "name": "stderr",
     "output_type": "stream",
     "text": [
      "epoch: 77: 100%|████████████████████████████████████████████████████████████████████| 50/50 [00:01<00:00, 44.68batch/s]\n",
      "epoch: 78:  10%|██████▉                                                              | 5/50 [00:00<00:01, 42.13batch/s]"
     ]
    },
    {
     "name": "stdout",
     "output_type": "stream",
     "text": [
      "loss training: 0.249469\n",
      "accuracy train: 0.964497 test: 0.789474\n",
      "\n",
      "Parameter containing:\n",
      "tensor([0., 0., 0., 0.], requires_grad=True)\n"
     ]
    },
    {
     "name": "stderr",
     "output_type": "stream",
     "text": [
      "epoch: 78: 100%|████████████████████████████████████████████████████████████████████| 50/50 [00:01<00:00, 43.03batch/s]\n",
      "epoch: 79:  10%|██████▉                                                              | 5/50 [00:00<00:00, 45.58batch/s]"
     ]
    },
    {
     "name": "stdout",
     "output_type": "stream",
     "text": [
      "loss training: 0.263135\n",
      "accuracy train: 0.970414 test: 0.789474\n",
      "\n",
      "Parameter containing:\n",
      "tensor([0., 0., 0., 0.], requires_grad=True)\n"
     ]
    },
    {
     "name": "stderr",
     "output_type": "stream",
     "text": [
      "epoch: 79: 100%|████████████████████████████████████████████████████████████████████| 50/50 [00:01<00:00, 43.92batch/s]\n",
      "epoch: 80:  10%|██████▉                                                              | 5/50 [00:00<00:00, 48.21batch/s]"
     ]
    },
    {
     "name": "stdout",
     "output_type": "stream",
     "text": [
      "loss training: 0.272761\n",
      "accuracy train: 0.964497 test: 0.842105\n",
      "\n",
      "Parameter containing:\n",
      "tensor([0., 0., 0., 0.], requires_grad=True)\n"
     ]
    },
    {
     "name": "stderr",
     "output_type": "stream",
     "text": [
      "epoch: 80: 100%|████████████████████████████████████████████████████████████████████| 50/50 [00:01<00:00, 44.03batch/s]\n",
      "epoch: 81:  12%|████████▎                                                            | 6/50 [00:00<00:00, 49.31batch/s]"
     ]
    },
    {
     "name": "stdout",
     "output_type": "stream",
     "text": [
      "loss training: 0.241795\n",
      "accuracy train: 0.982249 test: 0.842105\n",
      "\n",
      "Parameter containing:\n",
      "tensor([0., 0., 0., 0.], requires_grad=True)\n"
     ]
    },
    {
     "name": "stderr",
     "output_type": "stream",
     "text": [
      "epoch: 81: 100%|████████████████████████████████████████████████████████████████████| 50/50 [00:01<00:00, 44.88batch/s]\n",
      "epoch: 82:  10%|██████▉                                                              | 5/50 [00:00<00:01, 44.76batch/s]"
     ]
    },
    {
     "name": "stdout",
     "output_type": "stream",
     "text": [
      "loss training: 0.232083\n",
      "accuracy train: 0.976331 test: 0.789474\n",
      "\n",
      "Parameter containing:\n",
      "tensor([0., 0., 0., 0.], requires_grad=True)\n"
     ]
    },
    {
     "name": "stderr",
     "output_type": "stream",
     "text": [
      "epoch: 82: 100%|████████████████████████████████████████████████████████████████████| 50/50 [00:01<00:00, 43.69batch/s]\n",
      "epoch: 83:  10%|██████▉                                                              | 5/50 [00:00<00:00, 46.42batch/s]"
     ]
    },
    {
     "name": "stdout",
     "output_type": "stream",
     "text": [
      "loss training: 0.238290\n",
      "accuracy train: 0.976331 test: 0.947368\n",
      "\n",
      "Parameter containing:\n",
      "tensor([0., 0., 0., 0.], requires_grad=True)\n"
     ]
    },
    {
     "name": "stderr",
     "output_type": "stream",
     "text": [
      "epoch: 83: 100%|████████████████████████████████████████████████████████████████████| 50/50 [00:01<00:00, 45.04batch/s]\n",
      "epoch: 84:  10%|██████▉                                                              | 5/50 [00:00<00:00, 49.15batch/s]"
     ]
    },
    {
     "name": "stdout",
     "output_type": "stream",
     "text": [
      "loss training: 0.265197\n",
      "accuracy train: 0.958580 test: 0.842105\n",
      "\n",
      "Parameter containing:\n",
      "tensor([0., 0., 0., 0.], requires_grad=True)\n"
     ]
    },
    {
     "name": "stderr",
     "output_type": "stream",
     "text": [
      "epoch: 84: 100%|████████████████████████████████████████████████████████████████████| 50/50 [00:01<00:00, 45.45batch/s]\n",
      "epoch: 85:  10%|██████▉                                                              | 5/50 [00:00<00:01, 43.22batch/s]"
     ]
    },
    {
     "name": "stdout",
     "output_type": "stream",
     "text": [
      "loss training: 0.277094\n",
      "accuracy train: 0.952663 test: 0.842105\n",
      "\n",
      "Parameter containing:\n",
      "tensor([0., 0., 0., 0.], requires_grad=True)\n"
     ]
    },
    {
     "name": "stderr",
     "output_type": "stream",
     "text": [
      "epoch: 85: 100%|████████████████████████████████████████████████████████████████████| 50/50 [00:01<00:00, 44.05batch/s]\n",
      "epoch: 86:  10%|██████▉                                                              | 5/50 [00:00<00:00, 47.68batch/s]"
     ]
    },
    {
     "name": "stdout",
     "output_type": "stream",
     "text": [
      "loss training: 0.245901\n",
      "accuracy train: 0.970414 test: 0.842105\n",
      "\n",
      "Parameter containing:\n",
      "tensor([0., 0., 0., 0.], requires_grad=True)\n"
     ]
    },
    {
     "name": "stderr",
     "output_type": "stream",
     "text": [
      "epoch: 86: 100%|████████████████████████████████████████████████████████████████████| 50/50 [00:01<00:00, 44.79batch/s]\n",
      "epoch: 87:  10%|██████▉                                                              | 5/50 [00:00<00:01, 44.76batch/s]"
     ]
    },
    {
     "name": "stdout",
     "output_type": "stream",
     "text": [
      "loss training: 0.237608\n",
      "accuracy train: 0.976331 test: 0.789474\n",
      "\n",
      "Parameter containing:\n",
      "tensor([0., 0., 0., 0.], requires_grad=True)\n"
     ]
    },
    {
     "name": "stderr",
     "output_type": "stream",
     "text": [
      "epoch: 87: 100%|████████████████████████████████████████████████████████████████████| 50/50 [00:01<00:00, 44.42batch/s]\n",
      "epoch: 88:  10%|██████▉                                                              | 5/50 [00:00<00:00, 48.21batch/s]"
     ]
    },
    {
     "name": "stdout",
     "output_type": "stream",
     "text": [
      "loss training: 0.227523\n",
      "accuracy train: 0.970414 test: 0.947368\n",
      "\n",
      "Parameter containing:\n",
      "tensor([0., 0., 0., 0.], requires_grad=True)\n"
     ]
    },
    {
     "name": "stderr",
     "output_type": "stream",
     "text": [
      "epoch: 88: 100%|████████████████████████████████████████████████████████████████████| 50/50 [00:01<00:00, 45.33batch/s]\n",
      "epoch: 89:  10%|██████▉                                                              | 5/50 [00:00<00:00, 47.75batch/s]"
     ]
    },
    {
     "name": "stdout",
     "output_type": "stream",
     "text": [
      "loss training: 0.252905\n",
      "accuracy train: 0.958580 test: 0.842105\n",
      "\n",
      "Parameter containing:\n",
      "tensor([0., 0., 0., 0.], requires_grad=True)\n"
     ]
    },
    {
     "name": "stderr",
     "output_type": "stream",
     "text": [
      "epoch: 89: 100%|████████████████████████████████████████████████████████████████████| 50/50 [00:01<00:00, 45.08batch/s]\n",
      "epoch: 90:  10%|██████▉                                                              | 5/50 [00:00<00:00, 45.58batch/s]"
     ]
    },
    {
     "name": "stdout",
     "output_type": "stream",
     "text": [
      "loss training: 0.242483\n",
      "accuracy train: 0.964497 test: 0.842105\n",
      "\n",
      "Parameter containing:\n",
      "tensor([0., 0., 0., 0.], requires_grad=True)\n"
     ]
    },
    {
     "name": "stderr",
     "output_type": "stream",
     "text": [
      "epoch: 90: 100%|████████████████████████████████████████████████████████████████████| 50/50 [00:01<00:00, 44.76batch/s]\n",
      "epoch: 91:  10%|██████▉                                                              | 5/50 [00:00<00:01, 42.49batch/s]"
     ]
    },
    {
     "name": "stdout",
     "output_type": "stream",
     "text": [
      "loss training: 0.225981\n",
      "accuracy train: 0.988166 test: 0.789474\n",
      "\n",
      "Parameter containing:\n",
      "tensor([0., 0., 0., 0.], requires_grad=True)\n"
     ]
    },
    {
     "name": "stderr",
     "output_type": "stream",
     "text": [
      "epoch: 91: 100%|████████████████████████████████████████████████████████████████████| 50/50 [00:01<00:00, 44.41batch/s]\n",
      "epoch: 92:  10%|██████▉                                                              | 5/50 [00:00<00:00, 45.57batch/s]"
     ]
    },
    {
     "name": "stdout",
     "output_type": "stream",
     "text": [
      "loss training: 0.253237\n",
      "accuracy train: 0.970414 test: 0.894737\n",
      "\n",
      "Parameter containing:\n",
      "tensor([0., 0., 0., 0.], requires_grad=True)\n"
     ]
    },
    {
     "name": "stderr",
     "output_type": "stream",
     "text": [
      "epoch: 92: 100%|████████████████████████████████████████████████████████████████████| 50/50 [00:01<00:00, 45.12batch/s]\n",
      "epoch: 93:  10%|██████▉                                                              | 5/50 [00:00<00:00, 49.64batch/s]"
     ]
    },
    {
     "name": "stdout",
     "output_type": "stream",
     "text": [
      "loss training: 0.237635\n",
      "accuracy train: 0.928994 test: 0.894737\n",
      "\n",
      "Parameter containing:\n",
      "tensor([0., 0., 0., 0.], requires_grad=True)\n"
     ]
    },
    {
     "name": "stderr",
     "output_type": "stream",
     "text": [
      "epoch: 93: 100%|████████████████████████████████████████████████████████████████████| 50/50 [00:01<00:00, 45.34batch/s]\n",
      "epoch: 94:  10%|██████▉                                                              | 5/50 [00:00<00:00, 45.57batch/s]"
     ]
    },
    {
     "name": "stdout",
     "output_type": "stream",
     "text": [
      "loss training: 0.291785\n",
      "accuracy train: 0.970414 test: 0.842105\n",
      "\n",
      "Parameter containing:\n",
      "tensor([0., 0., 0., 0.], requires_grad=True)\n"
     ]
    },
    {
     "name": "stderr",
     "output_type": "stream",
     "text": [
      "epoch: 94: 100%|████████████████████████████████████████████████████████████████████| 50/50 [00:01<00:00, 43.22batch/s]\n",
      "epoch: 95:  10%|██████▉                                                              | 5/50 [00:00<00:00, 45.58batch/s]"
     ]
    },
    {
     "name": "stdout",
     "output_type": "stream",
     "text": [
      "loss training: 0.277332\n",
      "accuracy train: 0.976331 test: 0.894737\n",
      "\n",
      "Parameter containing:\n",
      "tensor([0., 0., 0., 0.], requires_grad=True)\n"
     ]
    },
    {
     "name": "stderr",
     "output_type": "stream",
     "text": [
      "epoch: 95: 100%|████████████████████████████████████████████████████████████████████| 50/50 [00:01<00:00, 42.70batch/s]\n",
      "epoch: 96:  10%|██████▉                                                              | 5/50 [00:00<00:00, 46.42batch/s]"
     ]
    },
    {
     "name": "stdout",
     "output_type": "stream",
     "text": [
      "loss training: 0.227811\n",
      "accuracy train: 0.964497 test: 0.842105\n",
      "\n",
      "Parameter containing:\n",
      "tensor([0., 0., 0., 0.], requires_grad=True)\n"
     ]
    },
    {
     "name": "stderr",
     "output_type": "stream",
     "text": [
      "epoch: 96: 100%|████████████████████████████████████████████████████████████████████| 50/50 [00:01<00:00, 44.64batch/s]\n",
      "epoch: 97:  10%|██████▉                                                              | 5/50 [00:00<00:01, 43.98batch/s]"
     ]
    },
    {
     "name": "stdout",
     "output_type": "stream",
     "text": [
      "loss training: 0.253648\n",
      "accuracy train: 0.970414 test: 0.894737\n",
      "\n",
      "Parameter containing:\n",
      "tensor([0., 0., 0., 0.], requires_grad=True)\n"
     ]
    },
    {
     "name": "stderr",
     "output_type": "stream",
     "text": [
      "epoch: 97: 100%|████████████████████████████████████████████████████████████████████| 50/50 [00:01<00:00, 44.41batch/s]\n",
      "epoch: 98:  10%|██████▉                                                              | 5/50 [00:00<00:01, 44.37batch/s]"
     ]
    },
    {
     "name": "stdout",
     "output_type": "stream",
     "text": [
      "loss training: 0.225720\n",
      "accuracy train: 0.976331 test: 0.894737\n",
      "\n",
      "Parameter containing:\n",
      "tensor([0., 0., 0., 0.], requires_grad=True)\n"
     ]
    },
    {
     "name": "stderr",
     "output_type": "stream",
     "text": [
      "epoch: 98: 100%|████████████████████████████████████████████████████████████████████| 50/50 [00:01<00:00, 44.80batch/s]\n",
      "epoch: 99:   8%|█████▌                                                               | 4/50 [00:00<00:01, 39.71batch/s]"
     ]
    },
    {
     "name": "stdout",
     "output_type": "stream",
     "text": [
      "loss training: 0.232768\n",
      "accuracy train: 0.988166 test: 0.842105\n",
      "\n",
      "Parameter containing:\n",
      "tensor([0., 0., 0., 0.], requires_grad=True)\n"
     ]
    },
    {
     "name": "stderr",
     "output_type": "stream",
     "text": [
      "epoch: 99: 100%|████████████████████████████████████████████████████████████████████| 50/50 [00:01<00:00, 43.65batch/s]\n",
      "epoch: 100:  10%|██████▊                                                             | 5/50 [00:00<00:00, 46.85batch/s]"
     ]
    },
    {
     "name": "stdout",
     "output_type": "stream",
     "text": [
      "loss training: 0.198325\n",
      "accuracy train: 0.988166 test: 0.894737\n",
      "\n",
      "Parameter containing:\n",
      "tensor([0., 0., 0., 0.], requires_grad=True)\n"
     ]
    },
    {
     "name": "stderr",
     "output_type": "stream",
     "text": [
      "epoch: 100: 100%|███████████████████████████████████████████████████████████████████| 50/50 [00:01<00:00, 44.52batch/s]\n",
      "epoch: 101:  10%|██████▊                                                             | 5/50 [00:00<00:01, 44.37batch/s]"
     ]
    },
    {
     "name": "stdout",
     "output_type": "stream",
     "text": [
      "loss training: 0.211866\n",
      "accuracy train: 0.988166 test: 0.842105\n",
      "\n",
      "Parameter containing:\n",
      "tensor([0., 0., 0., 0.], requires_grad=True)\n"
     ]
    },
    {
     "name": "stderr",
     "output_type": "stream",
     "text": [
      "epoch: 101: 100%|███████████████████████████████████████████████████████████████████| 50/50 [00:01<00:00, 44.34batch/s]\n",
      "epoch: 102:  10%|██████▊                                                             | 5/50 [00:00<00:01, 44.76batch/s]"
     ]
    },
    {
     "name": "stdout",
     "output_type": "stream",
     "text": [
      "loss training: 0.210051\n",
      "accuracy train: 0.994083 test: 0.789474\n",
      "\n",
      "Parameter containing:\n",
      "tensor([0., 0., 0., 0.], requires_grad=True)\n"
     ]
    },
    {
     "name": "stderr",
     "output_type": "stream",
     "text": [
      "epoch: 102: 100%|███████████████████████████████████████████████████████████████████| 50/50 [00:01<00:00, 42.07batch/s]\n",
      "epoch: 103:  10%|██████▊                                                             | 5/50 [00:00<00:00, 47.30batch/s]"
     ]
    },
    {
     "name": "stdout",
     "output_type": "stream",
     "text": [
      "loss training: 0.199726\n",
      "accuracy train: 0.994083 test: 0.894737\n",
      "\n",
      "Parameter containing:\n",
      "tensor([0., 0., 0., 0.], requires_grad=True)\n"
     ]
    },
    {
     "name": "stderr",
     "output_type": "stream",
     "text": [
      "epoch: 103: 100%|███████████████████████████████████████████████████████████████████| 50/50 [00:01<00:00, 44.44batch/s]\n",
      "epoch: 104:  10%|██████▊                                                             | 5/50 [00:00<00:00, 46.42batch/s]"
     ]
    },
    {
     "name": "stdout",
     "output_type": "stream",
     "text": [
      "loss training: 0.208396\n",
      "accuracy train: 0.994083 test: 0.894737\n",
      "\n",
      "Parameter containing:\n",
      "tensor([0., 0., 0., 0.], requires_grad=True)\n"
     ]
    },
    {
     "name": "stderr",
     "output_type": "stream",
     "text": [
      "epoch: 104: 100%|███████████████████████████████████████████████████████████████████| 50/50 [00:01<00:00, 45.12batch/s]\n",
      "epoch: 105:  10%|██████▊                                                             | 5/50 [00:00<00:00, 46.00batch/s]"
     ]
    },
    {
     "name": "stdout",
     "output_type": "stream",
     "text": [
      "loss training: 0.185915\n",
      "accuracy train: 0.988166 test: 0.842105\n",
      "\n",
      "Parameter containing:\n",
      "tensor([0., 0., 0., 0.], requires_grad=True)\n"
     ]
    },
    {
     "name": "stderr",
     "output_type": "stream",
     "text": [
      "epoch: 105: 100%|███████████████████████████████████████████████████████████████████| 50/50 [00:01<00:00, 45.12batch/s]\n",
      "epoch: 106:  10%|██████▊                                                             | 5/50 [00:00<00:01, 42.49batch/s]"
     ]
    },
    {
     "name": "stdout",
     "output_type": "stream",
     "text": [
      "loss training: 0.195168\n",
      "accuracy train: 0.988166 test: 0.894737\n",
      "\n",
      "Parameter containing:\n",
      "tensor([0., 0., 0., 0.], requires_grad=True)\n"
     ]
    },
    {
     "name": "stderr",
     "output_type": "stream",
     "text": [
      "epoch: 106: 100%|███████████████████████████████████████████████████████████████████| 50/50 [00:01<00:00, 44.52batch/s]\n",
      "epoch: 107:  10%|██████▊                                                             | 5/50 [00:00<00:01, 42.13batch/s]"
     ]
    },
    {
     "name": "stdout",
     "output_type": "stream",
     "text": [
      "loss training: 0.216756\n",
      "accuracy train: 0.982249 test: 0.894737\n",
      "\n",
      "Parameter containing:\n",
      "tensor([0., 0., 0., 0.], requires_grad=True)\n"
     ]
    },
    {
     "name": "stderr",
     "output_type": "stream",
     "text": [
      "epoch: 107: 100%|███████████████████████████████████████████████████████████████████| 50/50 [00:01<00:00, 43.56batch/s]\n",
      "epoch: 108:  10%|██████▊                                                             | 5/50 [00:00<00:01, 42.13batch/s]"
     ]
    },
    {
     "name": "stdout",
     "output_type": "stream",
     "text": [
      "loss training: 0.196851\n",
      "accuracy train: 0.994083 test: 0.894737\n",
      "\n",
      "Parameter containing:\n",
      "tensor([0., 0., 0., 0.], requires_grad=True)\n"
     ]
    },
    {
     "name": "stderr",
     "output_type": "stream",
     "text": [
      "epoch: 108: 100%|███████████████████████████████████████████████████████████████████| 50/50 [00:01<00:00, 40.78batch/s]\n",
      "epoch: 109:   6%|████                                                                | 3/50 [00:00<00:01, 28.38batch/s]"
     ]
    },
    {
     "name": "stdout",
     "output_type": "stream",
     "text": [
      "loss training: 0.200036\n",
      "accuracy train: 0.988166 test: 0.842105\n",
      "\n",
      "Parameter containing:\n",
      "tensor([0., 0., 0., 0.], requires_grad=True)\n"
     ]
    },
    {
     "name": "stderr",
     "output_type": "stream",
     "text": [
      "epoch: 109: 100%|███████████████████████████████████████████████████████████████████| 50/50 [00:01<00:00, 42.41batch/s]\n",
      "epoch: 110:  10%|██████▊                                                             | 5/50 [00:00<00:00, 45.17batch/s]"
     ]
    },
    {
     "name": "stdout",
     "output_type": "stream",
     "text": [
      "loss training: 0.197032\n",
      "accuracy train: 0.994083 test: 0.894737\n",
      "\n",
      "Parameter containing:\n",
      "tensor([0., 0., 0., 0.], requires_grad=True)\n"
     ]
    },
    {
     "name": "stderr",
     "output_type": "stream",
     "text": [
      "epoch: 110: 100%|███████████████████████████████████████████████████████████████████| 50/50 [00:01<00:00, 44.52batch/s]\n",
      "epoch: 111:  10%|██████▊                                                             | 5/50 [00:00<00:00, 47.30batch/s]"
     ]
    },
    {
     "name": "stdout",
     "output_type": "stream",
     "text": [
      "loss training: 0.187502\n",
      "accuracy train: 0.994083 test: 0.894737\n",
      "\n",
      "Parameter containing:\n",
      "tensor([0., 0., 0., 0.], requires_grad=True)\n"
     ]
    },
    {
     "name": "stderr",
     "output_type": "stream",
     "text": [
      "epoch: 111: 100%|███████████████████████████████████████████████████████████████████| 50/50 [00:01<00:00, 44.68batch/s]\n",
      "epoch: 112:  10%|██████▊                                                             | 5/50 [00:00<00:01, 44.37batch/s]"
     ]
    },
    {
     "name": "stdout",
     "output_type": "stream",
     "text": [
      "loss training: 0.185733\n",
      "accuracy train: 0.994083 test: 0.894737\n",
      "\n",
      "Parameter containing:\n",
      "tensor([0., 0., 0., 0.], requires_grad=True)\n"
     ]
    },
    {
     "name": "stderr",
     "output_type": "stream",
     "text": [
      "epoch: 112: 100%|███████████████████████████████████████████████████████████████████| 50/50 [00:01<00:00, 44.44batch/s]\n",
      "epoch: 113:  10%|██████▊                                                             | 5/50 [00:00<00:00, 45.58batch/s]"
     ]
    },
    {
     "name": "stdout",
     "output_type": "stream",
     "text": [
      "loss training: 0.191258\n",
      "accuracy train: 0.994083 test: 0.842105\n",
      "\n",
      "Parameter containing:\n",
      "tensor([0., 0., 0., 0.], requires_grad=True)\n"
     ]
    },
    {
     "name": "stderr",
     "output_type": "stream",
     "text": [
      "epoch: 113: 100%|███████████████████████████████████████████████████████████████████| 50/50 [00:01<00:00, 43.20batch/s]\n",
      "epoch: 114:  10%|██████▊                                                             | 5/50 [00:00<00:00, 45.51batch/s]"
     ]
    },
    {
     "name": "stdout",
     "output_type": "stream",
     "text": [
      "loss training: 0.186897\n",
      "accuracy train: 0.994083 test: 0.894737\n",
      "\n",
      "Parameter containing:\n",
      "tensor([0., 0., 0., 0.], requires_grad=True)\n"
     ]
    },
    {
     "name": "stderr",
     "output_type": "stream",
     "text": [
      "epoch: 114: 100%|███████████████████████████████████████████████████████████████████| 50/50 [00:01<00:00, 44.51batch/s]\n",
      "epoch: 115:  10%|██████▊                                                             | 5/50 [00:00<00:00, 45.17batch/s]"
     ]
    },
    {
     "name": "stdout",
     "output_type": "stream",
     "text": [
      "loss training: 0.202609\n",
      "accuracy train: 0.994083 test: 0.842105\n",
      "\n",
      "Parameter containing:\n",
      "tensor([0., 0., 0., 0.], requires_grad=True)\n"
     ]
    },
    {
     "name": "stderr",
     "output_type": "stream",
     "text": [
      "epoch: 115: 100%|███████████████████████████████████████████████████████████████████| 50/50 [00:01<00:00, 43.78batch/s]\n",
      "epoch: 116:  10%|██████▊                                                             | 5/50 [00:00<00:01, 41.78batch/s]"
     ]
    },
    {
     "name": "stdout",
     "output_type": "stream",
     "text": [
      "loss training: 0.206341\n",
      "accuracy train: 0.994083 test: 0.842105\n",
      "\n",
      "Parameter containing:\n",
      "tensor([0., 0., 0., 0.], requires_grad=True)\n"
     ]
    },
    {
     "name": "stderr",
     "output_type": "stream",
     "text": [
      "epoch: 116: 100%|███████████████████████████████████████████████████████████████████| 50/50 [00:01<00:00, 44.46batch/s]\n",
      "epoch: 117:  10%|██████▊                                                             | 5/50 [00:00<00:01, 42.85batch/s]"
     ]
    },
    {
     "name": "stdout",
     "output_type": "stream",
     "text": [
      "loss training: 0.188288\n",
      "accuracy train: 0.994083 test: 0.842105\n",
      "\n",
      "Parameter containing:\n",
      "tensor([0., 0., 0., 0.], requires_grad=True)\n"
     ]
    },
    {
     "name": "stderr",
     "output_type": "stream",
     "text": [
      "epoch: 117: 100%|███████████████████████████████████████████████████████████████████| 50/50 [00:01<00:00, 43.41batch/s]\n",
      "epoch: 118:  10%|██████▊                                                             | 5/50 [00:00<00:00, 46.42batch/s]"
     ]
    },
    {
     "name": "stdout",
     "output_type": "stream",
     "text": [
      "loss training: 0.228995\n",
      "accuracy train: 0.988166 test: 0.842105\n",
      "\n",
      "Parameter containing:\n",
      "tensor([0., 0., 0., 0.], requires_grad=True)\n"
     ]
    },
    {
     "name": "stderr",
     "output_type": "stream",
     "text": [
      "epoch: 118: 100%|███████████████████████████████████████████████████████████████████| 50/50 [00:01<00:00, 43.45batch/s]\n",
      "epoch: 119:  10%|██████▊                                                             | 5/50 [00:00<00:01, 40.11batch/s]"
     ]
    },
    {
     "name": "stdout",
     "output_type": "stream",
     "text": [
      "loss training: 0.206128\n",
      "accuracy train: 0.994083 test: 0.894737\n",
      "\n",
      "Parameter containing:\n",
      "tensor([0., 0., 0., 0.], requires_grad=True)\n"
     ]
    },
    {
     "name": "stderr",
     "output_type": "stream",
     "text": [
      "epoch: 119: 100%|███████████████████████████████████████████████████████████████████| 50/50 [00:01<00:00, 45.39batch/s]\n",
      "epoch: 120:  10%|██████▊                                                             | 5/50 [00:00<00:01, 43.59batch/s]"
     ]
    },
    {
     "name": "stdout",
     "output_type": "stream",
     "text": [
      "loss training: 0.191488\n",
      "accuracy train: 0.994083 test: 0.842105\n",
      "\n",
      "Parameter containing:\n",
      "tensor([0., 0., 0., 0.], requires_grad=True)\n"
     ]
    },
    {
     "name": "stderr",
     "output_type": "stream",
     "text": [
      "epoch: 120: 100%|███████████████████████████████████████████████████████████████████| 50/50 [00:01<00:00, 43.41batch/s]\n",
      "epoch: 121:  10%|██████▊                                                             | 5/50 [00:00<00:00, 48.21batch/s]"
     ]
    },
    {
     "name": "stdout",
     "output_type": "stream",
     "text": [
      "loss training: 0.176952\n",
      "accuracy train: 0.994083 test: 0.842105\n",
      "\n",
      "Parameter containing:\n",
      "tensor([0., 0., 0., 0.], requires_grad=True)\n"
     ]
    },
    {
     "name": "stderr",
     "output_type": "stream",
     "text": [
      "epoch: 121: 100%|███████████████████████████████████████████████████████████████████| 50/50 [00:01<00:00, 41.67batch/s]\n",
      "epoch: 122:   8%|█████▍                                                              | 4/50 [00:00<00:01, 39.32batch/s]"
     ]
    },
    {
     "name": "stdout",
     "output_type": "stream",
     "text": [
      "loss training: 0.221639\n",
      "accuracy train: 0.893491 test: 0.894737\n",
      "\n",
      "Parameter containing:\n",
      "tensor([0., 0., 0., 0.], requires_grad=True)\n"
     ]
    },
    {
     "name": "stderr",
     "output_type": "stream",
     "text": [
      "epoch: 122: 100%|███████████████████████████████████████████████████████████████████| 50/50 [00:01<00:00, 43.11batch/s]\n",
      "epoch: 123:  10%|██████▊                                                             | 5/50 [00:00<00:01, 44.37batch/s]"
     ]
    },
    {
     "name": "stdout",
     "output_type": "stream",
     "text": [
      "loss training: 0.221990\n",
      "accuracy train: 0.994083 test: 0.842105\n",
      "\n",
      "Parameter containing:\n",
      "tensor([0., 0., 0., 0.], requires_grad=True)\n"
     ]
    },
    {
     "name": "stderr",
     "output_type": "stream",
     "text": [
      "epoch: 123: 100%|███████████████████████████████████████████████████████████████████| 50/50 [00:01<00:00, 43.06batch/s]\n",
      "epoch: 124:  10%|██████▊                                                             | 5/50 [00:00<00:01, 43.59batch/s]"
     ]
    },
    {
     "name": "stdout",
     "output_type": "stream",
     "text": [
      "loss training: 0.209810\n",
      "accuracy train: 0.994083 test: 0.894737\n",
      "\n",
      "Parameter containing:\n",
      "tensor([0., 0., 0., 0.], requires_grad=True)\n"
     ]
    },
    {
     "name": "stderr",
     "output_type": "stream",
     "text": [
      "epoch: 124: 100%|███████████████████████████████████████████████████████████████████| 50/50 [00:01<00:00, 44.05batch/s]\n",
      "epoch: 125:  10%|██████▊                                                             | 5/50 [00:00<00:01, 40.76batch/s]"
     ]
    },
    {
     "name": "stdout",
     "output_type": "stream",
     "text": [
      "loss training: 0.197230\n",
      "accuracy train: 0.988166 test: 0.894737\n",
      "\n",
      "Parameter containing:\n",
      "tensor([0., 0., 0., 0.], requires_grad=True)\n"
     ]
    },
    {
     "name": "stderr",
     "output_type": "stream",
     "text": [
      "epoch: 125: 100%|███████████████████████████████████████████████████████████████████| 50/50 [00:01<00:00, 44.21batch/s]\n",
      "epoch: 126:  10%|██████▊                                                             | 5/50 [00:00<00:00, 47.75batch/s]"
     ]
    },
    {
     "name": "stdout",
     "output_type": "stream",
     "text": [
      "loss training: 0.199322\n",
      "accuracy train: 0.994083 test: 0.894737\n",
      "\n",
      "Parameter containing:\n",
      "tensor([0., 0., 0., 0.], requires_grad=True)\n"
     ]
    },
    {
     "name": "stderr",
     "output_type": "stream",
     "text": [
      "epoch: 126: 100%|███████████████████████████████████████████████████████████████████| 50/50 [00:01<00:00, 44.64batch/s]\n",
      "epoch: 127:  10%|██████▊                                                             | 5/50 [00:00<00:01, 43.59batch/s]"
     ]
    },
    {
     "name": "stdout",
     "output_type": "stream",
     "text": [
      "loss training: 0.178743\n",
      "accuracy train: 1.000000 test: 0.842105\n",
      "\n",
      "Parameter containing:\n",
      "tensor([0., 0., 0., 0.], requires_grad=True)\n"
     ]
    },
    {
     "name": "stderr",
     "output_type": "stream",
     "text": [
      "epoch: 127: 100%|███████████████████████████████████████████████████████████████████| 50/50 [00:01<00:00, 44.14batch/s]\n",
      "epoch: 128:  10%|██████▊                                                             | 5/50 [00:00<00:00, 47.30batch/s]"
     ]
    },
    {
     "name": "stdout",
     "output_type": "stream",
     "text": [
      "loss training: 0.187486\n",
      "accuracy train: 1.000000 test: 0.842105\n",
      "\n",
      "Parameter containing:\n",
      "tensor([0., 0., 0., 0.], requires_grad=True)\n"
     ]
    },
    {
     "name": "stderr",
     "output_type": "stream",
     "text": [
      "epoch: 128: 100%|███████████████████████████████████████████████████████████████████| 50/50 [00:01<00:00, 44.17batch/s]\n",
      "epoch: 129:  10%|██████▊                                                             | 5/50 [00:00<00:00, 45.58batch/s]"
     ]
    },
    {
     "name": "stdout",
     "output_type": "stream",
     "text": [
      "loss training: 0.172167\n",
      "accuracy train: 1.000000 test: 0.842105\n",
      "\n",
      "Parameter containing:\n",
      "tensor([0., 0., 0., 0.], requires_grad=True)\n"
     ]
    },
    {
     "name": "stderr",
     "output_type": "stream",
     "text": [
      "epoch: 129: 100%|███████████████████████████████████████████████████████████████████| 50/50 [00:01<00:00, 44.47batch/s]\n",
      "epoch: 130:  10%|██████▊                                                             | 5/50 [00:00<00:00, 46.85batch/s]"
     ]
    },
    {
     "name": "stdout",
     "output_type": "stream",
     "text": [
      "loss training: 0.184868\n",
      "accuracy train: 1.000000 test: 0.842105\n",
      "\n",
      "Parameter containing:\n",
      "tensor([0., 0., 0., 0.], requires_grad=True)\n"
     ]
    },
    {
     "name": "stderr",
     "output_type": "stream",
     "text": [
      "epoch: 130: 100%|███████████████████████████████████████████████████████████████████| 50/50 [00:01<00:00, 45.17batch/s]\n",
      "epoch: 131:  10%|██████▊                                                             | 5/50 [00:00<00:00, 47.30batch/s]"
     ]
    },
    {
     "name": "stdout",
     "output_type": "stream",
     "text": [
      "loss training: 0.170237\n",
      "accuracy train: 1.000000 test: 0.842105\n",
      "\n",
      "Parameter containing:\n",
      "tensor([0., 0., 0., 0.], requires_grad=True)\n"
     ]
    },
    {
     "name": "stderr",
     "output_type": "stream",
     "text": [
      "epoch: 131: 100%|███████████████████████████████████████████████████████████████████| 50/50 [00:01<00:00, 44.44batch/s]\n",
      "epoch: 132:  10%|██████▊                                                             | 5/50 [00:00<00:00, 46.85batch/s]"
     ]
    },
    {
     "name": "stdout",
     "output_type": "stream",
     "text": [
      "loss training: 0.189021\n",
      "accuracy train: 1.000000 test: 0.842105\n",
      "\n",
      "Parameter containing:\n",
      "tensor([0., 0., 0., 0.], requires_grad=True)\n"
     ]
    },
    {
     "name": "stderr",
     "output_type": "stream",
     "text": [
      "epoch: 132: 100%|███████████████████████████████████████████████████████████████████| 50/50 [00:01<00:00, 44.17batch/s]\n",
      "epoch: 133:  10%|██████▊                                                             | 5/50 [00:00<00:00, 46.85batch/s]"
     ]
    },
    {
     "name": "stdout",
     "output_type": "stream",
     "text": [
      "loss training: 0.191397\n",
      "accuracy train: 1.000000 test: 0.842105\n",
      "\n",
      "Parameter containing:\n",
      "tensor([0., 0., 0., 0.], requires_grad=True)\n"
     ]
    },
    {
     "name": "stderr",
     "output_type": "stream",
     "text": [
      "epoch: 133: 100%|███████████████████████████████████████████████████████████████████| 50/50 [00:01<00:00, 44.64batch/s]\n",
      "epoch: 134:   8%|█████▍                                                              | 4/50 [00:00<00:01, 37.84batch/s]"
     ]
    },
    {
     "name": "stdout",
     "output_type": "stream",
     "text": [
      "loss training: 0.171038\n",
      "accuracy train: 1.000000 test: 0.894737\n",
      "\n",
      "Parameter containing:\n",
      "tensor([0., 0., 0., 0.], requires_grad=True)\n"
     ]
    },
    {
     "name": "stderr",
     "output_type": "stream",
     "text": [
      "epoch: 134: 100%|███████████████████████████████████████████████████████████████████| 50/50 [00:01<00:00, 38.89batch/s]\n",
      "epoch: 135:  10%|██████▊                                                             | 5/50 [00:00<00:01, 40.43batch/s]"
     ]
    },
    {
     "name": "stdout",
     "output_type": "stream",
     "text": [
      "loss training: 0.181517\n",
      "accuracy train: 1.000000 test: 0.842105\n",
      "\n",
      "Parameter containing:\n",
      "tensor([0., 0., 0., 0.], requires_grad=True)\n"
     ]
    },
    {
     "name": "stderr",
     "output_type": "stream",
     "text": [
      "epoch: 135: 100%|███████████████████████████████████████████████████████████████████| 50/50 [00:01<00:00, 40.80batch/s]\n",
      "epoch: 136:  10%|██████▊                                                             | 5/50 [00:00<00:01, 42.13batch/s]"
     ]
    },
    {
     "name": "stdout",
     "output_type": "stream",
     "text": [
      "loss training: 0.183513\n",
      "accuracy train: 1.000000 test: 0.842105\n",
      "\n",
      "Parameter containing:\n",
      "tensor([0., 0., 0., 0.], requires_grad=True)\n"
     ]
    },
    {
     "name": "stderr",
     "output_type": "stream",
     "text": [
      "epoch: 136: 100%|███████████████████████████████████████████████████████████████████| 50/50 [00:01<00:00, 40.10batch/s]\n",
      "epoch: 137:  10%|██████▊                                                             | 5/50 [00:00<00:01, 44.37batch/s]"
     ]
    },
    {
     "name": "stdout",
     "output_type": "stream",
     "text": [
      "loss training: 0.174346\n",
      "accuracy train: 1.000000 test: 0.842105\n",
      "\n",
      "Parameter containing:\n",
      "tensor([0., 0., 0., 0.], requires_grad=True)\n"
     ]
    },
    {
     "name": "stderr",
     "output_type": "stream",
     "text": [
      "epoch: 137: 100%|███████████████████████████████████████████████████████████████████| 50/50 [00:01<00:00, 43.69batch/s]\n",
      "epoch: 138:  10%|██████▊                                                             | 5/50 [00:00<00:00, 49.15batch/s]"
     ]
    },
    {
     "name": "stdout",
     "output_type": "stream",
     "text": [
      "loss training: 0.221647\n",
      "accuracy train: 0.905325 test: 0.789474\n",
      "\n",
      "Parameter containing:\n",
      "tensor([0., 0., 0., 0.], requires_grad=True)\n"
     ]
    },
    {
     "name": "stderr",
     "output_type": "stream",
     "text": [
      "epoch: 138: 100%|███████████████████████████████████████████████████████████████████| 50/50 [00:01<00:00, 42.96batch/s]\n",
      "epoch: 139:  10%|██████▊                                                             | 5/50 [00:00<00:00, 48.67batch/s]"
     ]
    },
    {
     "name": "stdout",
     "output_type": "stream",
     "text": [
      "loss training: 0.271371\n",
      "accuracy train: 0.946746 test: 0.842105\n",
      "\n",
      "Parameter containing:\n",
      "tensor([0., 0., 0., 0.], requires_grad=True)\n"
     ]
    },
    {
     "name": "stderr",
     "output_type": "stream",
     "text": [
      "epoch: 139: 100%|███████████████████████████████████████████████████████████████████| 50/50 [00:01<00:00, 45.04batch/s]\n",
      "epoch: 140:  10%|██████▊                                                             | 5/50 [00:00<00:00, 45.17batch/s]"
     ]
    },
    {
     "name": "stdout",
     "output_type": "stream",
     "text": [
      "loss training: 0.275383\n",
      "accuracy train: 0.970414 test: 0.842105\n",
      "\n",
      "Parameter containing:\n",
      "tensor([0., 0., 0., 0.], requires_grad=True)\n"
     ]
    },
    {
     "name": "stderr",
     "output_type": "stream",
     "text": [
      "epoch: 140: 100%|███████████████████████████████████████████████████████████████████| 50/50 [00:01<00:00, 43.03batch/s]\n",
      "epoch: 141:  10%|██████▊                                                             | 5/50 [00:00<00:00, 45.17batch/s]"
     ]
    },
    {
     "name": "stdout",
     "output_type": "stream",
     "text": [
      "loss training: 0.215387\n",
      "accuracy train: 0.994083 test: 0.842105\n",
      "\n",
      "Parameter containing:\n",
      "tensor([0., 0., 0., 0.], requires_grad=True)\n"
     ]
    },
    {
     "name": "stderr",
     "output_type": "stream",
     "text": [
      "epoch: 141: 100%|███████████████████████████████████████████████████████████████████| 50/50 [00:01<00:00, 44.66batch/s]\n",
      "epoch: 142:   8%|█████▍                                                              | 4/50 [00:00<00:01, 38.94batch/s]"
     ]
    },
    {
     "name": "stdout",
     "output_type": "stream",
     "text": [
      "loss training: 0.172471\n",
      "accuracy train: 0.994083 test: 0.842105\n",
      "\n",
      "Parameter containing:\n",
      "tensor([0., 0., 0., 0.], requires_grad=True)\n"
     ]
    },
    {
     "name": "stderr",
     "output_type": "stream",
     "text": [
      "epoch: 142: 100%|███████████████████████████████████████████████████████████████████| 50/50 [00:01<00:00, 43.55batch/s]\n",
      "epoch: 143:  10%|██████▊                                                             | 5/50 [00:00<00:01, 42.85batch/s]"
     ]
    },
    {
     "name": "stdout",
     "output_type": "stream",
     "text": [
      "loss training: 0.196421\n",
      "accuracy train: 1.000000 test: 0.842105\n",
      "\n",
      "Parameter containing:\n",
      "tensor([0., 0., 0., 0.], requires_grad=True)\n"
     ]
    },
    {
     "name": "stderr",
     "output_type": "stream",
     "text": [
      "epoch: 143: 100%|███████████████████████████████████████████████████████████████████| 50/50 [00:01<00:00, 43.37batch/s]\n",
      "epoch: 144:  10%|██████▊                                                             | 5/50 [00:00<00:00, 45.58batch/s]"
     ]
    },
    {
     "name": "stdout",
     "output_type": "stream",
     "text": [
      "loss training: 0.185470\n",
      "accuracy train: 1.000000 test: 0.842105\n",
      "\n",
      "Parameter containing:\n",
      "tensor([0., 0., 0., 0.], requires_grad=True)\n"
     ]
    },
    {
     "name": "stderr",
     "output_type": "stream",
     "text": [
      "epoch: 144: 100%|███████████████████████████████████████████████████████████████████| 50/50 [00:01<00:00, 44.60batch/s]\n",
      "epoch: 145:  10%|██████▊                                                             | 5/50 [00:00<00:00, 47.30batch/s]"
     ]
    },
    {
     "name": "stdout",
     "output_type": "stream",
     "text": [
      "loss training: 0.194385\n",
      "accuracy train: 1.000000 test: 0.842105\n",
      "\n",
      "Parameter containing:\n",
      "tensor([0., 0., 0., 0.], requires_grad=True)\n"
     ]
    },
    {
     "name": "stderr",
     "output_type": "stream",
     "text": [
      "epoch: 145: 100%|███████████████████████████████████████████████████████████████████| 50/50 [00:01<00:00, 43.00batch/s]\n",
      "epoch: 146:  10%|██████▊                                                             | 5/50 [00:00<00:01, 43.98batch/s]"
     ]
    },
    {
     "name": "stdout",
     "output_type": "stream",
     "text": [
      "loss training: 0.177093\n",
      "accuracy train: 0.994083 test: 0.894737\n",
      "\n",
      "Parameter containing:\n",
      "tensor([0., 0., 0., 0.], requires_grad=True)\n"
     ]
    },
    {
     "name": "stderr",
     "output_type": "stream",
     "text": [
      "epoch: 146: 100%|███████████████████████████████████████████████████████████████████| 50/50 [00:01<00:00, 42.78batch/s]\n",
      "epoch: 147:  10%|██████▊                                                             | 5/50 [00:00<00:01, 43.59batch/s]"
     ]
    },
    {
     "name": "stdout",
     "output_type": "stream",
     "text": [
      "loss training: 0.174819\n",
      "accuracy train: 1.000000 test: 0.789474\n",
      "\n",
      "Parameter containing:\n",
      "tensor([0., 0., 0., 0.], requires_grad=True)\n"
     ]
    },
    {
     "name": "stderr",
     "output_type": "stream",
     "text": [
      "epoch: 147: 100%|███████████████████████████████████████████████████████████████████| 50/50 [00:01<00:00, 44.09batch/s]\n",
      "epoch: 148:  10%|██████▊                                                             | 5/50 [00:00<00:00, 47.75batch/s]"
     ]
    },
    {
     "name": "stdout",
     "output_type": "stream",
     "text": [
      "loss training: 0.186923\n",
      "accuracy train: 1.000000 test: 0.842105\n",
      "\n",
      "Parameter containing:\n",
      "tensor([0., 0., 0., 0.], requires_grad=True)\n"
     ]
    },
    {
     "name": "stderr",
     "output_type": "stream",
     "text": [
      "epoch: 148: 100%|███████████████████████████████████████████████████████████████████| 50/50 [00:01<00:00, 44.64batch/s]\n",
      "epoch: 149:  10%|██████▊                                                             | 5/50 [00:00<00:01, 43.22batch/s]"
     ]
    },
    {
     "name": "stdout",
     "output_type": "stream",
     "text": [
      "loss training: 0.172913\n",
      "accuracy train: 1.000000 test: 0.842105\n",
      "\n",
      "Parameter containing:\n",
      "tensor([0., 0., 0., 0.], requires_grad=True)\n"
     ]
    },
    {
     "name": "stderr",
     "output_type": "stream",
     "text": [
      "epoch: 149: 100%|███████████████████████████████████████████████████████████████████| 50/50 [00:01<00:00, 43.90batch/s]\n",
      "epoch: 150:  10%|██████▊                                                             | 5/50 [00:00<00:01, 43.98batch/s]"
     ]
    },
    {
     "name": "stdout",
     "output_type": "stream",
     "text": [
      "loss training: 0.181741\n",
      "accuracy train: 1.000000 test: 0.842105\n",
      "\n",
      "Parameter containing:\n",
      "tensor([0., 0., 0., 0.], requires_grad=True)\n"
     ]
    },
    {
     "name": "stderr",
     "output_type": "stream",
     "text": [
      "epoch: 150: 100%|███████████████████████████████████████████████████████████████████| 50/50 [00:01<00:00, 42.27batch/s]\n",
      "epoch: 151:   8%|█████▍                                                              | 4/50 [00:00<00:01, 38.94batch/s]"
     ]
    },
    {
     "name": "stdout",
     "output_type": "stream",
     "text": [
      "loss training: 0.177673\n",
      "accuracy train: 1.000000 test: 0.842105\n",
      "\n",
      "Parameter containing:\n",
      "tensor([0., 0., 0., 0.], requires_grad=True)\n"
     ]
    },
    {
     "name": "stderr",
     "output_type": "stream",
     "text": [
      "epoch: 151: 100%|███████████████████████████████████████████████████████████████████| 50/50 [00:01<00:00, 42.78batch/s]\n",
      "epoch: 152:  10%|██████▊                                                             | 5/50 [00:00<00:00, 45.58batch/s]"
     ]
    },
    {
     "name": "stdout",
     "output_type": "stream",
     "text": [
      "loss training: 0.161326\n",
      "accuracy train: 1.000000 test: 0.842105\n",
      "\n",
      "Parameter containing:\n",
      "tensor([0., 0., 0., 0.], requires_grad=True)\n"
     ]
    },
    {
     "name": "stderr",
     "output_type": "stream",
     "text": [
      "epoch: 152: 100%|███████████████████████████████████████████████████████████████████| 50/50 [00:01<00:00, 42.85batch/s]\n",
      "epoch: 153:  10%|██████▊                                                             | 5/50 [00:00<00:01, 42.49batch/s]"
     ]
    },
    {
     "name": "stdout",
     "output_type": "stream",
     "text": [
      "loss training: 0.179009\n",
      "accuracy train: 1.000000 test: 0.842105\n",
      "\n",
      "Parameter containing:\n",
      "tensor([0., 0., 0., 0.], requires_grad=True)\n"
     ]
    },
    {
     "name": "stderr",
     "output_type": "stream",
     "text": [
      "epoch: 153: 100%|███████████████████████████████████████████████████████████████████| 50/50 [00:01<00:00, 42.67batch/s]\n",
      "epoch: 154:  10%|██████▊                                                             | 5/50 [00:00<00:01, 44.37batch/s]"
     ]
    },
    {
     "name": "stdout",
     "output_type": "stream",
     "text": [
      "loss training: 0.178544\n",
      "accuracy train: 1.000000 test: 0.842105\n",
      "\n",
      "Parameter containing:\n",
      "tensor([0., 0., 0., 0.], requires_grad=True)\n"
     ]
    },
    {
     "name": "stderr",
     "output_type": "stream",
     "text": [
      "epoch: 154: 100%|███████████████████████████████████████████████████████████████████| 50/50 [00:01<00:00, 42.52batch/s]\n",
      "epoch: 155:  10%|██████▊                                                             | 5/50 [00:00<00:00, 45.99batch/s]"
     ]
    },
    {
     "name": "stdout",
     "output_type": "stream",
     "text": [
      "loss training: 0.176415\n",
      "accuracy train: 1.000000 test: 0.842105\n",
      "\n",
      "Parameter containing:\n",
      "tensor([0., 0., 0., 0.], requires_grad=True)\n"
     ]
    },
    {
     "name": "stderr",
     "output_type": "stream",
     "text": [
      "epoch: 155: 100%|███████████████████████████████████████████████████████████████████| 50/50 [00:01<00:00, 43.22batch/s]\n",
      "epoch: 156:  10%|██████▊                                                             | 5/50 [00:00<00:00, 45.58batch/s]"
     ]
    },
    {
     "name": "stdout",
     "output_type": "stream",
     "text": [
      "loss training: 0.176843\n",
      "accuracy train: 1.000000 test: 0.842105\n",
      "\n",
      "Parameter containing:\n",
      "tensor([0., 0., 0., 0.], requires_grad=True)\n"
     ]
    },
    {
     "name": "stderr",
     "output_type": "stream",
     "text": [
      "epoch: 156: 100%|███████████████████████████████████████████████████████████████████| 50/50 [00:01<00:00, 42.24batch/s]\n",
      "epoch: 157:  10%|██████▊                                                             | 5/50 [00:00<00:01, 44.37batch/s]"
     ]
    },
    {
     "name": "stdout",
     "output_type": "stream",
     "text": [
      "loss training: 0.183168\n",
      "accuracy train: 1.000000 test: 0.842105\n",
      "\n",
      "Parameter containing:\n",
      "tensor([0., 0., 0., 0.], requires_grad=True)\n"
     ]
    },
    {
     "name": "stderr",
     "output_type": "stream",
     "text": [
      "epoch: 157: 100%|███████████████████████████████████████████████████████████████████| 50/50 [00:01<00:00, 43.29batch/s]\n",
      "epoch: 158:  10%|██████▊                                                             | 5/50 [00:00<00:00, 45.16batch/s]"
     ]
    },
    {
     "name": "stdout",
     "output_type": "stream",
     "text": [
      "loss training: 0.172330\n",
      "accuracy train: 1.000000 test: 0.894737\n",
      "\n",
      "Parameter containing:\n",
      "tensor([0., 0., 0., 0.], requires_grad=True)\n"
     ]
    },
    {
     "name": "stderr",
     "output_type": "stream",
     "text": [
      "epoch: 158: 100%|███████████████████████████████████████████████████████████████████| 50/50 [00:01<00:00, 43.18batch/s]\n",
      "epoch: 159:  10%|██████▊                                                             | 5/50 [00:00<00:01, 43.59batch/s]"
     ]
    },
    {
     "name": "stdout",
     "output_type": "stream",
     "text": [
      "loss training: 0.186638\n",
      "accuracy train: 1.000000 test: 0.842105\n",
      "\n",
      "Parameter containing:\n",
      "tensor([0., 0., 0., 0.], requires_grad=True)\n"
     ]
    },
    {
     "name": "stderr",
     "output_type": "stream",
     "text": [
      "epoch: 159: 100%|███████████████████████████████████████████████████████████████████| 50/50 [00:01<00:00, 44.17batch/s]\n",
      "epoch: 160:  10%|██████▊                                                             | 5/50 [00:00<00:00, 46.42batch/s]"
     ]
    },
    {
     "name": "stdout",
     "output_type": "stream",
     "text": [
      "loss training: 0.168481\n",
      "accuracy train: 1.000000 test: 0.842105\n",
      "\n",
      "Parameter containing:\n",
      "tensor([0., 0., 0., 0.], requires_grad=True)\n"
     ]
    },
    {
     "name": "stderr",
     "output_type": "stream",
     "text": [
      "epoch: 160: 100%|███████████████████████████████████████████████████████████████████| 50/50 [00:01<00:00, 45.83batch/s]\n",
      "epoch: 161:  10%|██████▊                                                             | 5/50 [00:00<00:01, 41.78batch/s]"
     ]
    },
    {
     "name": "stdout",
     "output_type": "stream",
     "text": [
      "loss training: 0.167407\n",
      "accuracy train: 1.000000 test: 0.842105\n",
      "\n",
      "Parameter containing:\n",
      "tensor([0., 0., 0., 0.], requires_grad=True)\n"
     ]
    },
    {
     "name": "stderr",
     "output_type": "stream",
     "text": [
      "epoch: 161: 100%|███████████████████████████████████████████████████████████████████| 50/50 [00:01<00:00, 42.89batch/s]\n",
      "epoch: 162:  10%|██████▊                                                             | 5/50 [00:00<00:00, 46.00batch/s]"
     ]
    },
    {
     "name": "stdout",
     "output_type": "stream",
     "text": [
      "loss training: 0.171063\n",
      "accuracy train: 1.000000 test: 0.842105\n",
      "\n",
      "Parameter containing:\n",
      "tensor([0., 0., 0., 0.], requires_grad=True)\n"
     ]
    },
    {
     "name": "stderr",
     "output_type": "stream",
     "text": [
      "epoch: 162: 100%|███████████████████████████████████████████████████████████████████| 50/50 [00:01<00:00, 43.41batch/s]\n",
      "epoch: 163:  10%|██████▊                                                             | 5/50 [00:00<00:00, 45.17batch/s]"
     ]
    },
    {
     "name": "stdout",
     "output_type": "stream",
     "text": [
      "loss training: 0.169691\n",
      "accuracy train: 1.000000 test: 0.842105\n",
      "\n",
      "Parameter containing:\n",
      "tensor([0., 0., 0., 0.], requires_grad=True)\n"
     ]
    },
    {
     "name": "stderr",
     "output_type": "stream",
     "text": [
      "epoch: 163: 100%|███████████████████████████████████████████████████████████████████| 50/50 [00:01<00:00, 43.98batch/s]\n",
      "epoch: 164:  10%|██████▊                                                             | 5/50 [00:00<00:00, 47.30batch/s]"
     ]
    },
    {
     "name": "stdout",
     "output_type": "stream",
     "text": [
      "loss training: 0.179409\n",
      "accuracy train: 1.000000 test: 0.842105\n",
      "\n",
      "Parameter containing:\n",
      "tensor([0., 0., 0., 0.], requires_grad=True)\n"
     ]
    },
    {
     "name": "stderr",
     "output_type": "stream",
     "text": [
      "epoch: 164: 100%|███████████████████████████████████████████████████████████████████| 50/50 [00:01<00:00, 43.86batch/s]\n",
      "epoch: 165:  10%|██████▊                                                             | 5/50 [00:00<00:01, 42.85batch/s]"
     ]
    },
    {
     "name": "stdout",
     "output_type": "stream",
     "text": [
      "loss training: 0.176921\n",
      "accuracy train: 1.000000 test: 0.842105\n",
      "\n",
      "Parameter containing:\n",
      "tensor([0., 0., 0., 0.], requires_grad=True)\n"
     ]
    },
    {
     "name": "stderr",
     "output_type": "stream",
     "text": [
      "epoch: 165: 100%|███████████████████████████████████████████████████████████████████| 50/50 [00:01<00:00, 44.33batch/s]\n",
      "epoch: 166:  10%|██████▊                                                             | 5/50 [00:00<00:01, 43.59batch/s]"
     ]
    },
    {
     "name": "stdout",
     "output_type": "stream",
     "text": [
      "loss training: 0.158088\n",
      "accuracy train: 1.000000 test: 0.842105\n",
      "\n",
      "Parameter containing:\n",
      "tensor([0., 0., 0., 0.], requires_grad=True)\n"
     ]
    },
    {
     "name": "stderr",
     "output_type": "stream",
     "text": [
      "epoch: 166: 100%|███████████████████████████████████████████████████████████████████| 50/50 [00:01<00:00, 44.68batch/s]\n",
      "epoch: 167:  10%|██████▊                                                             | 5/50 [00:00<00:01, 43.54batch/s]"
     ]
    },
    {
     "name": "stdout",
     "output_type": "stream",
     "text": [
      "loss training: 0.169404\n",
      "accuracy train: 1.000000 test: 0.842105\n",
      "\n",
      "Parameter containing:\n",
      "tensor([0., 0., 0., 0.], requires_grad=True)\n"
     ]
    },
    {
     "name": "stderr",
     "output_type": "stream",
     "text": [
      "epoch: 167: 100%|███████████████████████████████████████████████████████████████████| 50/50 [00:01<00:00, 44.87batch/s]\n",
      "epoch: 168:  10%|██████▊                                                             | 5/50 [00:00<00:01, 44.76batch/s]"
     ]
    },
    {
     "name": "stdout",
     "output_type": "stream",
     "text": [
      "loss training: 0.185558\n",
      "accuracy train: 0.994083 test: 0.842105\n",
      "\n",
      "Parameter containing:\n",
      "tensor([0., 0., 0., 0.], requires_grad=True)\n"
     ]
    },
    {
     "name": "stderr",
     "output_type": "stream",
     "text": [
      "epoch: 168: 100%|███████████████████████████████████████████████████████████████████| 50/50 [00:01<00:00, 43.63batch/s]\n",
      "epoch: 169:  10%|██████▊                                                             | 5/50 [00:00<00:01, 44.37batch/s]"
     ]
    },
    {
     "name": "stdout",
     "output_type": "stream",
     "text": [
      "loss training: 0.174783\n",
      "accuracy train: 1.000000 test: 0.842105\n",
      "\n",
      "Parameter containing:\n",
      "tensor([0., 0., 0., 0.], requires_grad=True)\n"
     ]
    },
    {
     "name": "stderr",
     "output_type": "stream",
     "text": [
      "epoch: 169: 100%|███████████████████████████████████████████████████████████████████| 50/50 [00:01<00:00, 44.17batch/s]\n",
      "epoch: 170:  10%|██████▊                                                             | 5/50 [00:00<00:00, 47.55batch/s]"
     ]
    },
    {
     "name": "stdout",
     "output_type": "stream",
     "text": [
      "loss training: 0.159687\n",
      "accuracy train: 1.000000 test: 0.842105\n",
      "\n",
      "Parameter containing:\n",
      "tensor([0., 0., 0., 0.], requires_grad=True)\n"
     ]
    },
    {
     "name": "stderr",
     "output_type": "stream",
     "text": [
      "epoch: 170: 100%|███████████████████████████████████████████████████████████████████| 50/50 [00:01<00:00, 43.43batch/s]\n",
      "epoch: 171:  10%|██████▊                                                             | 5/50 [00:00<00:01, 44.37batch/s]"
     ]
    },
    {
     "name": "stdout",
     "output_type": "stream",
     "text": [
      "loss training: 0.169269\n",
      "accuracy train: 1.000000 test: 0.842105\n",
      "\n",
      "Parameter containing:\n",
      "tensor([0., 0., 0., 0.], requires_grad=True)\n"
     ]
    },
    {
     "name": "stderr",
     "output_type": "stream",
     "text": [
      "epoch: 171: 100%|███████████████████████████████████████████████████████████████████| 50/50 [00:01<00:00, 43.94batch/s]\n",
      "epoch: 172:  10%|██████▊                                                             | 5/50 [00:00<00:01, 43.59batch/s]"
     ]
    },
    {
     "name": "stdout",
     "output_type": "stream",
     "text": [
      "loss training: 0.182609\n",
      "accuracy train: 1.000000 test: 0.842105\n",
      "\n",
      "Parameter containing:\n",
      "tensor([0., 0., 0., 0.], requires_grad=True)\n"
     ]
    },
    {
     "name": "stderr",
     "output_type": "stream",
     "text": [
      "epoch: 172: 100%|███████████████████████████████████████████████████████████████████| 50/50 [00:01<00:00, 44.72batch/s]\n",
      "epoch: 173:  10%|██████▊                                                             | 5/50 [00:00<00:01, 42.85batch/s]"
     ]
    },
    {
     "name": "stdout",
     "output_type": "stream",
     "text": [
      "loss training: 0.184147\n",
      "accuracy train: 1.000000 test: 0.842105\n",
      "\n",
      "Parameter containing:\n",
      "tensor([0., 0., 0., 0.], requires_grad=True)\n"
     ]
    },
    {
     "name": "stderr",
     "output_type": "stream",
     "text": [
      "epoch: 173: 100%|███████████████████████████████████████████████████████████████████| 50/50 [00:01<00:00, 44.30batch/s]\n",
      "epoch: 174:  10%|██████▊                                                             | 5/50 [00:00<00:01, 43.22batch/s]"
     ]
    },
    {
     "name": "stdout",
     "output_type": "stream",
     "text": [
      "loss training: 0.170661\n",
      "accuracy train: 1.000000 test: 0.842105\n",
      "\n",
      "Parameter containing:\n",
      "tensor([0., 0., 0., 0.], requires_grad=True)\n"
     ]
    },
    {
     "name": "stderr",
     "output_type": "stream",
     "text": [
      "epoch: 174: 100%|███████████████████████████████████████████████████████████████████| 50/50 [00:01<00:00, 44.25batch/s]\n",
      "epoch: 175:  10%|██████▊                                                             | 5/50 [00:00<00:00, 46.42batch/s]"
     ]
    },
    {
     "name": "stdout",
     "output_type": "stream",
     "text": [
      "loss training: 0.178153\n",
      "accuracy train: 1.000000 test: 0.842105\n",
      "\n",
      "Parameter containing:\n",
      "tensor([0., 0., 0., 0.], requires_grad=True)\n"
     ]
    },
    {
     "name": "stderr",
     "output_type": "stream",
     "text": [
      "epoch: 175: 100%|███████████████████████████████████████████████████████████████████| 50/50 [00:01<00:00, 43.90batch/s]\n",
      "epoch: 176:  10%|██████▊                                                             | 5/50 [00:00<00:01, 40.11batch/s]"
     ]
    },
    {
     "name": "stdout",
     "output_type": "stream",
     "text": [
      "loss training: 0.163665\n",
      "accuracy train: 1.000000 test: 0.842105\n",
      "\n",
      "Parameter containing:\n",
      "tensor([0., 0., 0., 0.], requires_grad=True)\n"
     ]
    },
    {
     "name": "stderr",
     "output_type": "stream",
     "text": [
      "epoch: 176: 100%|███████████████████████████████████████████████████████████████████| 50/50 [00:01<00:00, 40.43batch/s]\n",
      "epoch: 177:  10%|██████▊                                                             | 5/50 [00:00<00:01, 43.98batch/s]"
     ]
    },
    {
     "name": "stdout",
     "output_type": "stream",
     "text": [
      "loss training: 0.174719\n",
      "accuracy train: 1.000000 test: 0.842105\n",
      "\n",
      "Parameter containing:\n",
      "tensor([0., 0., 0., 0.], requires_grad=True)\n"
     ]
    },
    {
     "name": "stderr",
     "output_type": "stream",
     "text": [
      "epoch: 177: 100%|███████████████████████████████████████████████████████████████████| 50/50 [00:01<00:00, 43.78batch/s]\n",
      "epoch: 178:  10%|██████▊                                                             | 5/50 [00:00<00:01, 43.59batch/s]"
     ]
    },
    {
     "name": "stdout",
     "output_type": "stream",
     "text": [
      "loss training: 0.179954\n",
      "accuracy train: 1.000000 test: 0.842105\n",
      "\n",
      "Parameter containing:\n",
      "tensor([0., 0., 0., 0.], requires_grad=True)\n"
     ]
    },
    {
     "name": "stderr",
     "output_type": "stream",
     "text": [
      "epoch: 178: 100%|███████████████████████████████████████████████████████████████████| 50/50 [00:01<00:00, 43.09batch/s]\n",
      "epoch: 179:  10%|██████▊                                                             | 5/50 [00:00<00:01, 42.49batch/s]"
     ]
    },
    {
     "name": "stdout",
     "output_type": "stream",
     "text": [
      "loss training: 0.175444\n",
      "accuracy train: 1.000000 test: 0.842105\n",
      "\n",
      "Parameter containing:\n",
      "tensor([0., 0., 0., 0.], requires_grad=True)\n"
     ]
    },
    {
     "name": "stderr",
     "output_type": "stream",
     "text": [
      "epoch: 179: 100%|███████████████████████████████████████████████████████████████████| 50/50 [00:01<00:00, 42.89batch/s]\n",
      "epoch: 180:  10%|██████▊                                                             | 5/50 [00:00<00:01, 42.85batch/s]"
     ]
    },
    {
     "name": "stdout",
     "output_type": "stream",
     "text": [
      "loss training: 0.172239\n",
      "accuracy train: 1.000000 test: 0.842105\n",
      "\n",
      "Parameter containing:\n",
      "tensor([0., 0., 0., 0.], requires_grad=True)\n"
     ]
    },
    {
     "name": "stderr",
     "output_type": "stream",
     "text": [
      "epoch: 180: 100%|███████████████████████████████████████████████████████████████████| 50/50 [00:01<00:00, 43.63batch/s]\n",
      "epoch: 181:  10%|██████▊                                                             | 5/50 [00:00<00:00, 45.99batch/s]"
     ]
    },
    {
     "name": "stdout",
     "output_type": "stream",
     "text": [
      "loss training: 0.175850\n",
      "accuracy train: 1.000000 test: 0.842105\n",
      "\n",
      "Parameter containing:\n",
      "tensor([0., 0., 0., 0.], requires_grad=True)\n"
     ]
    },
    {
     "name": "stderr",
     "output_type": "stream",
     "text": [
      "epoch: 181: 100%|███████████████████████████████████████████████████████████████████| 50/50 [00:01<00:00, 44.52batch/s]\n",
      "epoch: 182:  10%|██████▊                                                             | 5/50 [00:00<00:01, 42.49batch/s]"
     ]
    },
    {
     "name": "stdout",
     "output_type": "stream",
     "text": [
      "loss training: 0.171640\n",
      "accuracy train: 1.000000 test: 0.842105\n",
      "\n",
      "Parameter containing:\n",
      "tensor([0., 0., 0., 0.], requires_grad=True)\n"
     ]
    },
    {
     "name": "stderr",
     "output_type": "stream",
     "text": [
      "epoch: 182: 100%|███████████████████████████████████████████████████████████████████| 50/50 [00:01<00:00, 42.96batch/s]\n",
      "epoch: 183:  10%|██████▊                                                             | 5/50 [00:00<00:00, 46.00batch/s]"
     ]
    },
    {
     "name": "stdout",
     "output_type": "stream",
     "text": [
      "loss training: 0.173112\n",
      "accuracy train: 1.000000 test: 0.842105\n",
      "\n",
      "Parameter containing:\n",
      "tensor([0., 0., 0., 0.], requires_grad=True)\n"
     ]
    },
    {
     "name": "stderr",
     "output_type": "stream",
     "text": [
      "epoch: 183: 100%|███████████████████████████████████████████████████████████████████| 50/50 [00:01<00:00, 43.29batch/s]\n",
      "epoch: 184:  10%|██████▊                                                             | 5/50 [00:00<00:01, 43.22batch/s]"
     ]
    },
    {
     "name": "stdout",
     "output_type": "stream",
     "text": [
      "loss training: 0.164668\n",
      "accuracy train: 1.000000 test: 0.842105\n",
      "\n",
      "Parameter containing:\n",
      "tensor([0., 0., 0., 0.], requires_grad=True)\n"
     ]
    },
    {
     "name": "stderr",
     "output_type": "stream",
     "text": [
      "epoch: 184: 100%|███████████████████████████████████████████████████████████████████| 50/50 [00:01<00:00, 43.52batch/s]\n",
      "epoch: 185:  10%|██████▊                                                             | 5/50 [00:00<00:01, 41.43batch/s]"
     ]
    },
    {
     "name": "stdout",
     "output_type": "stream",
     "text": [
      "loss training: 0.174175\n",
      "accuracy train: 1.000000 test: 0.842105\n",
      "\n",
      "Parameter containing:\n",
      "tensor([0., 0., 0., 0.], requires_grad=True)\n"
     ]
    },
    {
     "name": "stderr",
     "output_type": "stream",
     "text": [
      "epoch: 185: 100%|███████████████████████████████████████████████████████████████████| 50/50 [00:01<00:00, 40.99batch/s]\n",
      "epoch: 186:  10%|██████▊                                                             | 5/50 [00:00<00:00, 45.58batch/s]"
     ]
    },
    {
     "name": "stdout",
     "output_type": "stream",
     "text": [
      "loss training: 0.181722\n",
      "accuracy train: 1.000000 test: 0.842105\n",
      "\n",
      "Parameter containing:\n",
      "tensor([0., 0., 0., 0.], requires_grad=True)\n"
     ]
    },
    {
     "name": "stderr",
     "output_type": "stream",
     "text": [
      "epoch: 186: 100%|███████████████████████████████████████████████████████████████████| 50/50 [00:01<00:00, 43.67batch/s]\n",
      "epoch: 187:  10%|██████▊                                                             | 5/50 [00:00<00:01, 43.98batch/s]"
     ]
    },
    {
     "name": "stdout",
     "output_type": "stream",
     "text": [
      "loss training: 0.183870\n",
      "accuracy train: 1.000000 test: 0.842105\n",
      "\n",
      "Parameter containing:\n",
      "tensor([0., 0., 0., 0.], requires_grad=True)\n"
     ]
    },
    {
     "name": "stderr",
     "output_type": "stream",
     "text": [
      "epoch: 187: 100%|███████████████████████████████████████████████████████████████████| 50/50 [00:01<00:00, 44.21batch/s]\n",
      "epoch: 188:  10%|██████▊                                                             | 5/50 [00:00<00:01, 44.76batch/s]"
     ]
    },
    {
     "name": "stdout",
     "output_type": "stream",
     "text": [
      "loss training: 0.174991\n",
      "accuracy train: 1.000000 test: 0.842105\n",
      "\n",
      "Parameter containing:\n",
      "tensor([0., 0., 0., 0.], requires_grad=True)\n"
     ]
    },
    {
     "name": "stderr",
     "output_type": "stream",
     "text": [
      "epoch: 188: 100%|███████████████████████████████████████████████████████████████████| 50/50 [00:01<00:00, 43.00batch/s]\n",
      "epoch: 189:  10%|██████▊                                                             | 5/50 [00:00<00:01, 40.76batch/s]"
     ]
    },
    {
     "name": "stdout",
     "output_type": "stream",
     "text": [
      "loss training: 0.175184\n",
      "accuracy train: 1.000000 test: 0.842105\n",
      "\n",
      "Parameter containing:\n",
      "tensor([0., 0., 0., 0.], requires_grad=True)\n"
     ]
    },
    {
     "name": "stderr",
     "output_type": "stream",
     "text": [
      "epoch: 189: 100%|███████████████████████████████████████████████████████████████████| 50/50 [00:01<00:00, 42.78batch/s]\n",
      "epoch: 190:  10%|██████▊                                                             | 5/50 [00:00<00:00, 46.00batch/s]"
     ]
    },
    {
     "name": "stdout",
     "output_type": "stream",
     "text": [
      "loss training: 0.175560\n",
      "accuracy train: 1.000000 test: 0.842105\n",
      "\n",
      "Parameter containing:\n",
      "tensor([0., 0., 0., 0.], requires_grad=True)\n"
     ]
    },
    {
     "name": "stderr",
     "output_type": "stream",
     "text": [
      "epoch: 190: 100%|███████████████████████████████████████████████████████████████████| 50/50 [00:01<00:00, 44.56batch/s]\n",
      "epoch: 191:  10%|██████▊                                                             | 5/50 [00:00<00:01, 43.59batch/s]"
     ]
    },
    {
     "name": "stdout",
     "output_type": "stream",
     "text": [
      "loss training: 0.176014\n",
      "accuracy train: 1.000000 test: 0.842105\n",
      "\n",
      "Parameter containing:\n",
      "tensor([0., 0., 0., 0.], requires_grad=True)\n"
     ]
    },
    {
     "name": "stderr",
     "output_type": "stream",
     "text": [
      "epoch: 191: 100%|███████████████████████████████████████████████████████████████████| 50/50 [00:01<00:00, 42.74batch/s]\n",
      "epoch: 192:  10%|██████▊                                                             | 5/50 [00:00<00:00, 45.99batch/s]"
     ]
    },
    {
     "name": "stdout",
     "output_type": "stream",
     "text": [
      "loss training: 0.177354\n",
      "accuracy train: 1.000000 test: 0.842105\n",
      "\n",
      "Parameter containing:\n",
      "tensor([0., 0., 0., 0.], requires_grad=True)\n"
     ]
    },
    {
     "name": "stderr",
     "output_type": "stream",
     "text": [
      "epoch: 192: 100%|███████████████████████████████████████████████████████████████████| 50/50 [00:01<00:00, 43.90batch/s]\n",
      "epoch: 193:  10%|██████▊                                                             | 5/50 [00:00<00:01, 42.59batch/s]"
     ]
    },
    {
     "name": "stdout",
     "output_type": "stream",
     "text": [
      "loss training: 0.180591\n",
      "accuracy train: 1.000000 test: 0.842105\n",
      "\n",
      "Parameter containing:\n",
      "tensor([0., 0., 0., 0.], requires_grad=True)\n"
     ]
    },
    {
     "name": "stderr",
     "output_type": "stream",
     "text": [
      "epoch: 193: 100%|███████████████████████████████████████████████████████████████████| 50/50 [00:01<00:00, 43.83batch/s]\n",
      "epoch: 194:  10%|██████▊                                                             | 5/50 [00:00<00:00, 48.67batch/s]"
     ]
    },
    {
     "name": "stdout",
     "output_type": "stream",
     "text": [
      "loss training: 0.174979\n",
      "accuracy train: 1.000000 test: 0.842105\n",
      "\n",
      "Parameter containing:\n",
      "tensor([0., 0., 0., 0.], requires_grad=True)\n"
     ]
    },
    {
     "name": "stderr",
     "output_type": "stream",
     "text": [
      "epoch: 194: 100%|███████████████████████████████████████████████████████████████████| 50/50 [00:01<00:00, 44.56batch/s]\n",
      "epoch: 195:  10%|██████▊                                                             | 5/50 [00:00<00:01, 43.19batch/s]"
     ]
    },
    {
     "name": "stdout",
     "output_type": "stream",
     "text": [
      "loss training: 0.173495\n",
      "accuracy train: 1.000000 test: 0.842105\n",
      "\n",
      "Parameter containing:\n",
      "tensor([0., 0., 0., 0.], requires_grad=True)\n"
     ]
    },
    {
     "name": "stderr",
     "output_type": "stream",
     "text": [
      "epoch: 195: 100%|███████████████████████████████████████████████████████████████████| 50/50 [00:01<00:00, 39.90batch/s]\n",
      "epoch: 196:  10%|██████▊                                                             | 5/50 [00:00<00:00, 45.17batch/s]"
     ]
    },
    {
     "name": "stdout",
     "output_type": "stream",
     "text": [
      "loss training: 0.171611\n",
      "accuracy train: 1.000000 test: 0.842105\n",
      "\n",
      "Parameter containing:\n",
      "tensor([0., 0., 0., 0.], requires_grad=True)\n"
     ]
    },
    {
     "name": "stderr",
     "output_type": "stream",
     "text": [
      "epoch: 196: 100%|███████████████████████████████████████████████████████████████████| 50/50 [00:01<00:00, 43.94batch/s]\n",
      "epoch: 197:  10%|██████▊                                                             | 5/50 [00:00<00:00, 45.58batch/s]"
     ]
    },
    {
     "name": "stdout",
     "output_type": "stream",
     "text": [
      "loss training: 0.184893\n",
      "accuracy train: 1.000000 test: 0.842105\n",
      "\n",
      "Parameter containing:\n",
      "tensor([0., 0., 0., 0.], requires_grad=True)\n"
     ]
    },
    {
     "name": "stderr",
     "output_type": "stream",
     "text": [
      "epoch: 197: 100%|███████████████████████████████████████████████████████████████████| 50/50 [00:01<00:00, 44.17batch/s]\n",
      "epoch: 198:  10%|██████▊                                                             | 5/50 [00:00<00:01, 43.98batch/s]"
     ]
    },
    {
     "name": "stdout",
     "output_type": "stream",
     "text": [
      "loss training: 0.175335\n",
      "accuracy train: 1.000000 test: 0.842105\n",
      "\n",
      "Parameter containing:\n",
      "tensor([0., 0., 0., 0.], requires_grad=True)\n"
     ]
    },
    {
     "name": "stderr",
     "output_type": "stream",
     "text": [
      "epoch: 198: 100%|███████████████████████████████████████████████████████████████████| 50/50 [00:01<00:00, 44.21batch/s]\n",
      "epoch: 199:  10%|██████▊                                                             | 5/50 [00:00<00:00, 45.99batch/s]"
     ]
    },
    {
     "name": "stdout",
     "output_type": "stream",
     "text": [
      "loss training: 0.167221\n",
      "accuracy train: 1.000000 test: 0.842105\n",
      "\n",
      "Parameter containing:\n",
      "tensor([0., 0., 0., 0.], requires_grad=True)\n"
     ]
    },
    {
     "name": "stderr",
     "output_type": "stream",
     "text": [
      "epoch: 199: 100%|███████████████████████████████████████████████████████████████████| 50/50 [00:01<00:00, 42.63batch/s]\n",
      "epoch: 200:  10%|██████▊                                                             | 5/50 [00:00<00:01, 43.22batch/s]"
     ]
    },
    {
     "name": "stdout",
     "output_type": "stream",
     "text": [
      "loss training: 0.180558\n",
      "accuracy train: 1.000000 test: 0.842105\n",
      "\n",
      "Parameter containing:\n",
      "tensor([0., 0., 0., 0.], requires_grad=True)\n"
     ]
    },
    {
     "name": "stderr",
     "output_type": "stream",
     "text": [
      "epoch: 200: 100%|███████████████████████████████████████████████████████████████████| 50/50 [00:01<00:00, 42.52batch/s]\n",
      "epoch: 201:   8%|█████▍                                                              | 4/50 [00:00<00:01, 39.71batch/s]"
     ]
    },
    {
     "name": "stdout",
     "output_type": "stream",
     "text": [
      "loss training: 0.177032\n",
      "accuracy train: 1.000000 test: 0.842105\n",
      "\n",
      "Parameter containing:\n",
      "tensor([0., 0., 0., 0.], requires_grad=True)\n"
     ]
    },
    {
     "name": "stderr",
     "output_type": "stream",
     "text": [
      "epoch: 201: 100%|███████████████████████████████████████████████████████████████████| 50/50 [00:01<00:00, 43.33batch/s]\n",
      "epoch: 202:  10%|██████▊                                                             | 5/50 [00:00<00:01, 43.59batch/s]"
     ]
    },
    {
     "name": "stdout",
     "output_type": "stream",
     "text": [
      "loss training: 0.168374\n",
      "accuracy train: 1.000000 test: 0.842105\n",
      "\n",
      "Parameter containing:\n",
      "tensor([0., 0., 0., 0.], requires_grad=True)\n"
     ]
    },
    {
     "name": "stderr",
     "output_type": "stream",
     "text": [
      "epoch: 202: 100%|███████████████████████████████████████████████████████████████████| 50/50 [00:01<00:00, 43.82batch/s]\n",
      "epoch: 203:  10%|██████▊                                                             | 5/50 [00:00<00:00, 46.94batch/s]"
     ]
    },
    {
     "name": "stdout",
     "output_type": "stream",
     "text": [
      "loss training: 0.167909\n",
      "accuracy train: 1.000000 test: 0.842105\n",
      "\n",
      "Parameter containing:\n",
      "tensor([0., 0., 0., 0.], requires_grad=True)\n"
     ]
    },
    {
     "name": "stderr",
     "output_type": "stream",
     "text": [
      "epoch: 203: 100%|███████████████████████████████████████████████████████████████████| 50/50 [00:01<00:00, 43.15batch/s]\n",
      "epoch: 204:  10%|██████▊                                                             | 5/50 [00:00<00:01, 43.98batch/s]"
     ]
    },
    {
     "name": "stdout",
     "output_type": "stream",
     "text": [
      "loss training: 0.176078\n",
      "accuracy train: 1.000000 test: 0.842105\n",
      "\n",
      "Parameter containing:\n",
      "tensor([0., 0., 0., 0.], requires_grad=True)\n"
     ]
    },
    {
     "name": "stderr",
     "output_type": "stream",
     "text": [
      "epoch: 204: 100%|███████████████████████████████████████████████████████████████████| 50/50 [00:01<00:00, 43.59batch/s]\n",
      "epoch: 205:  10%|██████▊                                                             | 5/50 [00:00<00:00, 45.17batch/s]"
     ]
    },
    {
     "name": "stdout",
     "output_type": "stream",
     "text": [
      "loss training: 0.165756\n",
      "accuracy train: 1.000000 test: 0.842105\n",
      "\n",
      "Parameter containing:\n",
      "tensor([0., 0., 0., 0.], requires_grad=True)\n"
     ]
    },
    {
     "name": "stderr",
     "output_type": "stream",
     "text": [
      "epoch: 205: 100%|███████████████████████████████████████████████████████████████████| 50/50 [00:01<00:00, 43.78batch/s]\n",
      "epoch: 206:  10%|██████▊                                                             | 5/50 [00:00<00:00, 45.99batch/s]"
     ]
    },
    {
     "name": "stdout",
     "output_type": "stream",
     "text": [
      "loss training: 0.164003\n",
      "accuracy train: 1.000000 test: 0.842105\n",
      "\n",
      "Parameter containing:\n",
      "tensor([0., 0., 0., 0.], requires_grad=True)\n"
     ]
    },
    {
     "name": "stderr",
     "output_type": "stream",
     "text": [
      "epoch: 206: 100%|███████████████████████████████████████████████████████████████████| 50/50 [00:01<00:00, 44.76batch/s]\n",
      "epoch: 207:  10%|██████▊                                                             | 5/50 [00:00<00:01, 40.76batch/s]"
     ]
    },
    {
     "name": "stdout",
     "output_type": "stream",
     "text": [
      "loss training: 0.162435\n",
      "accuracy train: 1.000000 test: 0.842105\n",
      "\n",
      "Parameter containing:\n",
      "tensor([0., 0., 0., 0.], requires_grad=True)\n"
     ]
    },
    {
     "name": "stderr",
     "output_type": "stream",
     "text": [
      "epoch: 207: 100%|███████████████████████████████████████████████████████████████████| 50/50 [00:01<00:00, 43.63batch/s]\n",
      "epoch: 208:  10%|██████▊                                                             | 5/50 [00:00<00:01, 42.13batch/s]"
     ]
    },
    {
     "name": "stdout",
     "output_type": "stream",
     "text": [
      "loss training: 0.176189\n",
      "accuracy train: 1.000000 test: 0.842105\n",
      "\n",
      "Parameter containing:\n",
      "tensor([0., 0., 0., 0.], requires_grad=True)\n"
     ]
    },
    {
     "name": "stderr",
     "output_type": "stream",
     "text": [
      "epoch: 208: 100%|███████████████████████████████████████████████████████████████████| 50/50 [00:01<00:00, 43.36batch/s]\n",
      "epoch: 209:  10%|██████▊                                                             | 5/50 [00:00<00:00, 45.99batch/s]"
     ]
    },
    {
     "name": "stdout",
     "output_type": "stream",
     "text": [
      "loss training: 0.180494\n",
      "accuracy train: 1.000000 test: 0.842105\n",
      "\n",
      "Parameter containing:\n",
      "tensor([0., 0., 0., 0.], requires_grad=True)\n"
     ]
    },
    {
     "name": "stderr",
     "output_type": "stream",
     "text": [
      "epoch: 209: 100%|███████████████████████████████████████████████████████████████████| 50/50 [00:01<00:00, 42.79batch/s]\n",
      "epoch: 210:  10%|██████▊                                                             | 5/50 [00:00<00:01, 44.76batch/s]"
     ]
    },
    {
     "name": "stdout",
     "output_type": "stream",
     "text": [
      "loss training: 0.178235\n",
      "accuracy train: 1.000000 test: 0.842105\n",
      "\n",
      "Parameter containing:\n",
      "tensor([0., 0., 0., 0.], requires_grad=True)\n"
     ]
    },
    {
     "name": "stderr",
     "output_type": "stream",
     "text": [
      "epoch: 210: 100%|███████████████████████████████████████████████████████████████████| 50/50 [00:01<00:00, 43.53batch/s]\n",
      "epoch: 211:  10%|██████▊                                                             | 5/50 [00:00<00:01, 41.43batch/s]"
     ]
    },
    {
     "name": "stdout",
     "output_type": "stream",
     "text": [
      "loss training: 0.176612\n",
      "accuracy train: 1.000000 test: 0.842105\n",
      "\n",
      "Parameter containing:\n",
      "tensor([0., 0., 0., 0.], requires_grad=True)\n"
     ]
    },
    {
     "name": "stderr",
     "output_type": "stream",
     "text": [
      "epoch: 211: 100%|███████████████████████████████████████████████████████████████████| 50/50 [00:01<00:00, 43.29batch/s]\n",
      "epoch: 212:  10%|██████▊                                                             | 5/50 [00:00<00:01, 42.79batch/s]"
     ]
    },
    {
     "name": "stdout",
     "output_type": "stream",
     "text": [
      "loss training: 0.170068\n",
      "accuracy train: 1.000000 test: 0.842105\n",
      "\n",
      "Parameter containing:\n",
      "tensor([0., 0., 0., 0.], requires_grad=True)\n"
     ]
    },
    {
     "name": "stderr",
     "output_type": "stream",
     "text": [
      "epoch: 212: 100%|███████████████████████████████████████████████████████████████████| 50/50 [00:01<00:00, 43.93batch/s]\n",
      "epoch: 213:  10%|██████▊                                                             | 5/50 [00:00<00:01, 40.76batch/s]"
     ]
    },
    {
     "name": "stdout",
     "output_type": "stream",
     "text": [
      "loss training: 0.168297\n",
      "accuracy train: 1.000000 test: 0.842105\n",
      "\n",
      "Parameter containing:\n",
      "tensor([0., 0., 0., 0.], requires_grad=True)\n"
     ]
    },
    {
     "name": "stderr",
     "output_type": "stream",
     "text": [
      "epoch: 213: 100%|███████████████████████████████████████████████████████████████████| 50/50 [00:01<00:00, 42.70batch/s]\n",
      "epoch: 214:  10%|██████▊                                                             | 5/50 [00:00<00:01, 44.76batch/s]"
     ]
    },
    {
     "name": "stdout",
     "output_type": "stream",
     "text": [
      "loss training: 0.189979\n",
      "accuracy train: 1.000000 test: 0.842105\n",
      "\n",
      "Parameter containing:\n",
      "tensor([0., 0., 0., 0.], requires_grad=True)\n"
     ]
    },
    {
     "name": "stderr",
     "output_type": "stream",
     "text": [
      "epoch: 214: 100%|███████████████████████████████████████████████████████████████████| 50/50 [00:01<00:00, 43.07batch/s]\n",
      "epoch: 215:  10%|██████▊                                                             | 5/50 [00:00<00:01, 41.77batch/s]"
     ]
    },
    {
     "name": "stdout",
     "output_type": "stream",
     "text": [
      "loss training: 0.169526\n",
      "accuracy train: 1.000000 test: 0.842105\n",
      "\n",
      "Parameter containing:\n",
      "tensor([0., 0., 0., 0.], requires_grad=True)\n"
     ]
    },
    {
     "name": "stderr",
     "output_type": "stream",
     "text": [
      "epoch: 215: 100%|███████████████████████████████████████████████████████████████████| 50/50 [00:01<00:00, 43.47batch/s]\n",
      "epoch: 216:  10%|██████▊                                                             | 5/50 [00:00<00:01, 43.59batch/s]"
     ]
    },
    {
     "name": "stdout",
     "output_type": "stream",
     "text": [
      "loss training: 0.182468\n",
      "accuracy train: 1.000000 test: 0.842105\n",
      "\n",
      "Parameter containing:\n",
      "tensor([0., 0., 0., 0.], requires_grad=True)\n"
     ]
    },
    {
     "name": "stderr",
     "output_type": "stream",
     "text": [
      "epoch: 216: 100%|███████████████████████████████████████████████████████████████████| 50/50 [00:01<00:00, 42.74batch/s]\n",
      "epoch: 217:  10%|██████▊                                                             | 5/50 [00:00<00:01, 43.22batch/s]"
     ]
    },
    {
     "name": "stdout",
     "output_type": "stream",
     "text": [
      "loss training: 0.176377\n",
      "accuracy train: 1.000000 test: 0.842105\n",
      "\n",
      "Parameter containing:\n",
      "tensor([0., 0., 0., 0.], requires_grad=True)\n"
     ]
    },
    {
     "name": "stderr",
     "output_type": "stream",
     "text": [
      "epoch: 217: 100%|███████████████████████████████████████████████████████████████████| 50/50 [00:01<00:00, 43.94batch/s]\n",
      "epoch: 218:  10%|██████▊                                                             | 5/50 [00:00<00:01, 40.76batch/s]"
     ]
    },
    {
     "name": "stdout",
     "output_type": "stream",
     "text": [
      "loss training: 0.175390\n",
      "accuracy train: 1.000000 test: 0.842105\n",
      "\n",
      "Parameter containing:\n",
      "tensor([0., 0., 0., 0.], requires_grad=True)\n"
     ]
    },
    {
     "name": "stderr",
     "output_type": "stream",
     "text": [
      "epoch: 218: 100%|███████████████████████████████████████████████████████████████████| 50/50 [00:01<00:00, 41.50batch/s]\n",
      "epoch: 219:   8%|█████▍                                                              | 4/50 [00:00<00:01, 38.67batch/s]"
     ]
    },
    {
     "name": "stdout",
     "output_type": "stream",
     "text": [
      "loss training: 0.168856\n",
      "accuracy train: 1.000000 test: 0.842105\n",
      "\n",
      "Parameter containing:\n",
      "tensor([0., 0., 0., 0.], requires_grad=True)\n"
     ]
    },
    {
     "name": "stderr",
     "output_type": "stream",
     "text": [
      "epoch: 219: 100%|███████████████████████████████████████████████████████████████████| 50/50 [00:01<00:00, 37.76batch/s]\n",
      "epoch: 220:  10%|██████▊                                                             | 5/50 [00:00<00:01, 43.59batch/s]"
     ]
    },
    {
     "name": "stdout",
     "output_type": "stream",
     "text": [
      "loss training: 0.175269\n",
      "accuracy train: 1.000000 test: 0.842105\n",
      "\n",
      "Parameter containing:\n",
      "tensor([0., 0., 0., 0.], requires_grad=True)\n"
     ]
    },
    {
     "name": "stderr",
     "output_type": "stream",
     "text": [
      "epoch: 220: 100%|███████████████████████████████████████████████████████████████████| 50/50 [00:01<00:00, 43.03batch/s]\n",
      "epoch: 221:  10%|██████▊                                                             | 5/50 [00:00<00:01, 44.37batch/s]"
     ]
    },
    {
     "name": "stdout",
     "output_type": "stream",
     "text": [
      "loss training: 0.152410\n",
      "accuracy train: 1.000000 test: 0.842105\n",
      "\n",
      "Parameter containing:\n",
      "tensor([0., 0., 0., 0.], requires_grad=True)\n"
     ]
    },
    {
     "name": "stderr",
     "output_type": "stream",
     "text": [
      "epoch: 221: 100%|███████████████████████████████████████████████████████████████████| 50/50 [00:01<00:00, 43.78batch/s]\n",
      "epoch: 222:  10%|██████▊                                                             | 5/50 [00:00<00:00, 45.21batch/s]"
     ]
    },
    {
     "name": "stdout",
     "output_type": "stream",
     "text": [
      "loss training: 0.170492\n",
      "accuracy train: 1.000000 test: 0.842105\n",
      "\n",
      "Parameter containing:\n",
      "tensor([0., 0., 0., 0.], requires_grad=True)\n"
     ]
    },
    {
     "name": "stderr",
     "output_type": "stream",
     "text": [
      "epoch: 222: 100%|███████████████████████████████████████████████████████████████████| 50/50 [00:01<00:00, 44.08batch/s]\n",
      "epoch: 223:  10%|██████▊                                                             | 5/50 [00:00<00:01, 41.09batch/s]"
     ]
    },
    {
     "name": "stdout",
     "output_type": "stream",
     "text": [
      "loss training: 0.173054\n",
      "accuracy train: 1.000000 test: 0.842105\n",
      "\n",
      "Parameter containing:\n",
      "tensor([0., 0., 0., 0.], requires_grad=True)\n"
     ]
    },
    {
     "name": "stderr",
     "output_type": "stream",
     "text": [
      "epoch: 223: 100%|███████████████████████████████████████████████████████████████████| 50/50 [00:01<00:00, 43.03batch/s]\n",
      "epoch: 224:  10%|██████▊                                                             | 5/50 [00:00<00:01, 44.76batch/s]"
     ]
    },
    {
     "name": "stdout",
     "output_type": "stream",
     "text": [
      "loss training: 0.161165\n",
      "accuracy train: 1.000000 test: 0.842105\n",
      "\n",
      "Parameter containing:\n",
      "tensor([0., 0., 0., 0.], requires_grad=True)\n"
     ]
    },
    {
     "name": "stderr",
     "output_type": "stream",
     "text": [
      "epoch: 224: 100%|███████████████████████████████████████████████████████████████████| 50/50 [00:01<00:00, 43.93batch/s]\n",
      "epoch: 225:  10%|██████▊                                                             | 5/50 [00:00<00:01, 43.98batch/s]"
     ]
    },
    {
     "name": "stdout",
     "output_type": "stream",
     "text": [
      "loss training: 0.179740\n",
      "accuracy train: 1.000000 test: 0.842105\n",
      "\n",
      "Parameter containing:\n",
      "tensor([0., 0., 0., 0.], requires_grad=True)\n"
     ]
    },
    {
     "name": "stderr",
     "output_type": "stream",
     "text": [
      "epoch: 225: 100%|███████████████████████████████████████████████████████████████████| 50/50 [00:01<00:00, 44.25batch/s]\n",
      "epoch: 226:  10%|██████▊                                                             | 5/50 [00:00<00:01, 44.37batch/s]"
     ]
    },
    {
     "name": "stdout",
     "output_type": "stream",
     "text": [
      "loss training: 0.190351\n",
      "accuracy train: 1.000000 test: 0.842105\n",
      "\n",
      "Parameter containing:\n",
      "tensor([0., 0., 0., 0.], requires_grad=True)\n"
     ]
    },
    {
     "name": "stderr",
     "output_type": "stream",
     "text": [
      "epoch: 226: 100%|███████████████████████████████████████████████████████████████████| 50/50 [00:01<00:00, 42.83batch/s]\n",
      "epoch: 227:  10%|██████▊                                                             | 5/50 [00:00<00:01, 43.98batch/s]"
     ]
    },
    {
     "name": "stdout",
     "output_type": "stream",
     "text": [
      "loss training: 0.184376\n",
      "accuracy train: 1.000000 test: 0.842105\n",
      "\n",
      "Parameter containing:\n",
      "tensor([0., 0., 0., 0.], requires_grad=True)\n"
     ]
    },
    {
     "name": "stderr",
     "output_type": "stream",
     "text": [
      "epoch: 227: 100%|███████████████████████████████████████████████████████████████████| 50/50 [00:01<00:00, 44.44batch/s]\n",
      "epoch: 228:  10%|██████▊                                                             | 5/50 [00:00<00:01, 39.79batch/s]"
     ]
    },
    {
     "name": "stdout",
     "output_type": "stream",
     "text": [
      "loss training: 0.178244\n",
      "accuracy train: 1.000000 test: 0.842105\n",
      "\n",
      "Parameter containing:\n",
      "tensor([0., 0., 0., 0.], requires_grad=True)\n"
     ]
    },
    {
     "name": "stderr",
     "output_type": "stream",
     "text": [
      "epoch: 228: 100%|███████████████████████████████████████████████████████████████████| 50/50 [00:01<00:00, 40.40batch/s]\n",
      "epoch: 229:  10%|██████▊                                                             | 5/50 [00:00<00:01, 43.98batch/s]"
     ]
    },
    {
     "name": "stdout",
     "output_type": "stream",
     "text": [
      "loss training: 0.167974\n",
      "accuracy train: 1.000000 test: 0.842105\n",
      "\n",
      "Parameter containing:\n",
      "tensor([0., 0., 0., 0.], requires_grad=True)\n"
     ]
    },
    {
     "name": "stderr",
     "output_type": "stream",
     "text": [
      "epoch: 229: 100%|███████████████████████████████████████████████████████████████████| 50/50 [00:01<00:00, 41.85batch/s]\n",
      "epoch: 230:  10%|██████▊                                                             | 5/50 [00:00<00:00, 45.17batch/s]"
     ]
    },
    {
     "name": "stdout",
     "output_type": "stream",
     "text": [
      "loss training: 0.173901\n",
      "accuracy train: 1.000000 test: 0.842105\n",
      "\n",
      "Parameter containing:\n",
      "tensor([0., 0., 0., 0.], requires_grad=True)\n"
     ]
    },
    {
     "name": "stderr",
     "output_type": "stream",
     "text": [
      "epoch: 230: 100%|███████████████████████████████████████████████████████████████████| 50/50 [00:01<00:00, 43.26batch/s]\n",
      "epoch: 231:   8%|█████▍                                                              | 4/50 [00:00<00:01, 38.94batch/s]"
     ]
    },
    {
     "name": "stdout",
     "output_type": "stream",
     "text": [
      "loss training: 0.161754\n",
      "accuracy train: 1.000000 test: 0.842105\n",
      "\n",
      "Parameter containing:\n",
      "tensor([0., 0., 0., 0.], requires_grad=True)\n"
     ]
    },
    {
     "name": "stderr",
     "output_type": "stream",
     "text": [
      "epoch: 231: 100%|███████████████████████████████████████████████████████████████████| 50/50 [00:01<00:00, 43.07batch/s]\n",
      "epoch: 232:  10%|██████▊                                                             | 5/50 [00:00<00:01, 42.49batch/s]"
     ]
    },
    {
     "name": "stdout",
     "output_type": "stream",
     "text": [
      "loss training: 0.169558\n",
      "accuracy train: 1.000000 test: 0.842105\n",
      "\n",
      "Parameter containing:\n",
      "tensor([0., 0., 0., 0.], requires_grad=True)\n"
     ]
    },
    {
     "name": "stderr",
     "output_type": "stream",
     "text": [
      "epoch: 232: 100%|███████████████████████████████████████████████████████████████████| 50/50 [00:01<00:00, 42.94batch/s]\n",
      "epoch: 233:  10%|██████▊                                                             | 5/50 [00:00<00:01, 42.85batch/s]"
     ]
    },
    {
     "name": "stdout",
     "output_type": "stream",
     "text": [
      "loss training: 0.170449\n",
      "accuracy train: 1.000000 test: 0.842105\n",
      "\n",
      "Parameter containing:\n",
      "tensor([0., 0., 0., 0.], requires_grad=True)\n"
     ]
    },
    {
     "name": "stderr",
     "output_type": "stream",
     "text": [
      "epoch: 233: 100%|███████████████████████████████████████████████████████████████████| 50/50 [00:01<00:00, 43.86batch/s]\n",
      "epoch: 234:  10%|██████▊                                                             | 5/50 [00:00<00:01, 42.14batch/s]"
     ]
    },
    {
     "name": "stdout",
     "output_type": "stream",
     "text": [
      "loss training: 0.175163\n",
      "accuracy train: 1.000000 test: 0.842105\n",
      "\n",
      "Parameter containing:\n",
      "tensor([0., 0., 0., 0.], requires_grad=True)\n"
     ]
    },
    {
     "name": "stderr",
     "output_type": "stream",
     "text": [
      "epoch: 234: 100%|███████████████████████████████████████████████████████████████████| 50/50 [00:01<00:00, 42.49batch/s]\n",
      "epoch: 235:  10%|██████▊                                                             | 5/50 [00:00<00:01, 42.49batch/s]"
     ]
    },
    {
     "name": "stdout",
     "output_type": "stream",
     "text": [
      "loss training: 0.165260\n",
      "accuracy train: 1.000000 test: 0.842105\n",
      "\n",
      "Parameter containing:\n",
      "tensor([0., 0., 0., 0.], requires_grad=True)\n"
     ]
    },
    {
     "name": "stderr",
     "output_type": "stream",
     "text": [
      "epoch: 235: 100%|███████████████████████████████████████████████████████████████████| 50/50 [00:01<00:00, 42.85batch/s]\n",
      "epoch: 236:  10%|██████▊                                                             | 5/50 [00:00<00:01, 42.85batch/s]"
     ]
    },
    {
     "name": "stdout",
     "output_type": "stream",
     "text": [
      "loss training: 0.182551\n",
      "accuracy train: 1.000000 test: 0.842105\n",
      "\n",
      "Parameter containing:\n",
      "tensor([0., 0., 0., 0.], requires_grad=True)\n"
     ]
    },
    {
     "name": "stderr",
     "output_type": "stream",
     "text": [
      "epoch: 236: 100%|███████████████████████████████████████████████████████████████████| 50/50 [00:01<00:00, 42.83batch/s]\n",
      "epoch: 237:  10%|██████▊                                                             | 5/50 [00:00<00:01, 42.13batch/s]"
     ]
    },
    {
     "name": "stdout",
     "output_type": "stream",
     "text": [
      "loss training: 0.173032\n",
      "accuracy train: 1.000000 test: 0.842105\n",
      "\n",
      "Parameter containing:\n",
      "tensor([0., 0., 0., 0.], requires_grad=True)\n"
     ]
    },
    {
     "name": "stderr",
     "output_type": "stream",
     "text": [
      "epoch: 237: 100%|███████████████████████████████████████████████████████████████████| 50/50 [00:01<00:00, 42.22batch/s]\n",
      "epoch: 238:  10%|██████▊                                                             | 5/50 [00:00<00:01, 44.37batch/s]"
     ]
    },
    {
     "name": "stdout",
     "output_type": "stream",
     "text": [
      "loss training: 0.169182\n",
      "accuracy train: 1.000000 test: 0.842105\n",
      "\n",
      "Parameter containing:\n",
      "tensor([0., 0., 0., 0.], requires_grad=True)\n"
     ]
    },
    {
     "name": "stderr",
     "output_type": "stream",
     "text": [
      "epoch: 238: 100%|███████████████████████████████████████████████████████████████████| 50/50 [00:01<00:00, 42.61batch/s]\n",
      "epoch: 239:  10%|██████▊                                                             | 5/50 [00:00<00:00, 45.51batch/s]"
     ]
    },
    {
     "name": "stdout",
     "output_type": "stream",
     "text": [
      "loss training: 0.171390\n",
      "accuracy train: 1.000000 test: 0.842105\n",
      "\n",
      "Parameter containing:\n",
      "tensor([0., 0., 0., 0.], requires_grad=True)\n"
     ]
    },
    {
     "name": "stderr",
     "output_type": "stream",
     "text": [
      "epoch: 239: 100%|███████████████████████████████████████████████████████████████████| 50/50 [00:01<00:00, 42.48batch/s]\n",
      "epoch: 240:  10%|██████▊                                                             | 5/50 [00:00<00:01, 44.37batch/s]"
     ]
    },
    {
     "name": "stdout",
     "output_type": "stream",
     "text": [
      "loss training: 0.176941\n",
      "accuracy train: 1.000000 test: 0.842105\n",
      "\n",
      "Parameter containing:\n",
      "tensor([0., 0., 0., 0.], requires_grad=True)\n"
     ]
    },
    {
     "name": "stderr",
     "output_type": "stream",
     "text": [
      "epoch: 240: 100%|███████████████████████████████████████████████████████████████████| 50/50 [00:01<00:00, 43.55batch/s]\n",
      "epoch: 241:  10%|██████▊                                                             | 5/50 [00:00<00:00, 48.67batch/s]"
     ]
    },
    {
     "name": "stdout",
     "output_type": "stream",
     "text": [
      "loss training: 0.176062\n",
      "accuracy train: 1.000000 test: 0.842105\n",
      "\n",
      "Parameter containing:\n",
      "tensor([0., 0., 0., 0.], requires_grad=True)\n"
     ]
    },
    {
     "name": "stderr",
     "output_type": "stream",
     "text": [
      "epoch: 241: 100%|███████████████████████████████████████████████████████████████████| 50/50 [00:01<00:00, 44.33batch/s]\n",
      "epoch: 242:  10%|██████▊                                                             | 5/50 [00:00<00:01, 43.59batch/s]"
     ]
    },
    {
     "name": "stdout",
     "output_type": "stream",
     "text": [
      "loss training: 0.185129\n",
      "accuracy train: 1.000000 test: 0.842105\n",
      "\n",
      "Parameter containing:\n",
      "tensor([0., 0., 0., 0.], requires_grad=True)\n"
     ]
    },
    {
     "name": "stderr",
     "output_type": "stream",
     "text": [
      "epoch: 242: 100%|███████████████████████████████████████████████████████████████████| 50/50 [00:01<00:00, 44.25batch/s]\n",
      "epoch: 243:  10%|██████▊                                                             | 5/50 [00:00<00:00, 46.85batch/s]"
     ]
    },
    {
     "name": "stdout",
     "output_type": "stream",
     "text": [
      "loss training: 0.167595\n",
      "accuracy train: 1.000000 test: 0.842105\n",
      "\n",
      "Parameter containing:\n",
      "tensor([0., 0., 0., 0.], requires_grad=True)\n"
     ]
    },
    {
     "name": "stderr",
     "output_type": "stream",
     "text": [
      "epoch: 243: 100%|███████████████████████████████████████████████████████████████████| 50/50 [00:01<00:00, 42.41batch/s]\n",
      "epoch: 244:  10%|██████▊                                                             | 5/50 [00:00<00:01, 40.43batch/s]"
     ]
    },
    {
     "name": "stdout",
     "output_type": "stream",
     "text": [
      "loss training: 0.171328\n",
      "accuracy train: 1.000000 test: 0.842105\n",
      "\n",
      "Parameter containing:\n",
      "tensor([0., 0., 0., 0.], requires_grad=True)\n"
     ]
    },
    {
     "name": "stderr",
     "output_type": "stream",
     "text": [
      "epoch: 244: 100%|███████████████████████████████████████████████████████████████████| 50/50 [00:01<00:00, 43.52batch/s]\n",
      "epoch: 245:   8%|█████▍                                                              | 4/50 [00:00<00:01, 33.82batch/s]"
     ]
    },
    {
     "name": "stdout",
     "output_type": "stream",
     "text": [
      "loss training: 0.192527\n",
      "accuracy train: 1.000000 test: 0.842105\n",
      "\n",
      "Parameter containing:\n",
      "tensor([0., 0., 0., 0.], requires_grad=True)\n"
     ]
    },
    {
     "name": "stderr",
     "output_type": "stream",
     "text": [
      "epoch: 245: 100%|███████████████████████████████████████████████████████████████████| 50/50 [00:01<00:00, 40.84batch/s]\n",
      "epoch: 246:  10%|██████▊                                                             | 5/50 [00:00<00:01, 41.43batch/s]"
     ]
    },
    {
     "name": "stdout",
     "output_type": "stream",
     "text": [
      "loss training: 0.177410\n",
      "accuracy train: 1.000000 test: 0.842105\n",
      "\n",
      "Parameter containing:\n",
      "tensor([0., 0., 0., 0.], requires_grad=True)\n"
     ]
    },
    {
     "name": "stderr",
     "output_type": "stream",
     "text": [
      "epoch: 246: 100%|███████████████████████████████████████████████████████████████████| 50/50 [00:01<00:00, 42.96batch/s]\n",
      "epoch: 247:  10%|██████▊                                                             | 5/50 [00:00<00:01, 41.09batch/s]"
     ]
    },
    {
     "name": "stdout",
     "output_type": "stream",
     "text": [
      "loss training: 0.171264\n",
      "accuracy train: 1.000000 test: 0.842105\n",
      "\n",
      "Parameter containing:\n",
      "tensor([0., 0., 0., 0.], requires_grad=True)\n"
     ]
    },
    {
     "name": "stderr",
     "output_type": "stream",
     "text": [
      "epoch: 247: 100%|███████████████████████████████████████████████████████████████████| 50/50 [00:01<00:00, 43.26batch/s]\n",
      "epoch: 248:  10%|██████▊                                                             | 5/50 [00:00<00:00, 46.42batch/s]"
     ]
    },
    {
     "name": "stdout",
     "output_type": "stream",
     "text": [
      "loss training: 0.172532\n",
      "accuracy train: 1.000000 test: 0.842105\n",
      "\n",
      "Parameter containing:\n",
      "tensor([0., 0., 0., 0.], requires_grad=True)\n"
     ]
    },
    {
     "name": "stderr",
     "output_type": "stream",
     "text": [
      "epoch: 248: 100%|███████████████████████████████████████████████████████████████████| 50/50 [00:01<00:00, 44.29batch/s]\n",
      "epoch: 249:  10%|██████▊                                                             | 5/50 [00:00<00:01, 43.22batch/s]"
     ]
    },
    {
     "name": "stdout",
     "output_type": "stream",
     "text": [
      "loss training: 0.167329\n",
      "accuracy train: 1.000000 test: 0.842105\n",
      "\n",
      "Parameter containing:\n",
      "tensor([0., 0., 0., 0.], requires_grad=True)\n"
     ]
    },
    {
     "name": "stderr",
     "output_type": "stream",
     "text": [
      "epoch: 249: 100%|███████████████████████████████████████████████████████████████████| 50/50 [00:01<00:00, 43.14batch/s]\n",
      "epoch: 250:   8%|█████▍                                                              | 4/50 [00:00<00:01, 38.94batch/s]"
     ]
    },
    {
     "name": "stdout",
     "output_type": "stream",
     "text": [
      "loss training: 0.164285\n",
      "accuracy train: 1.000000 test: 0.842105\n",
      "\n",
      "Parameter containing:\n",
      "tensor([0., 0., 0., 0.], requires_grad=True)\n"
     ]
    },
    {
     "name": "stderr",
     "output_type": "stream",
     "text": [
      "epoch: 250: 100%|███████████████████████████████████████████████████████████████████| 50/50 [00:01<00:00, 43.11batch/s]\n",
      "epoch: 251:  10%|██████▊                                                             | 5/50 [00:00<00:00, 48.21batch/s]"
     ]
    },
    {
     "name": "stdout",
     "output_type": "stream",
     "text": [
      "loss training: 0.170837\n",
      "accuracy train: 1.000000 test: 0.842105\n",
      "\n",
      "Parameter containing:\n",
      "tensor([0., 0., 0., 0.], requires_grad=True)\n"
     ]
    },
    {
     "name": "stderr",
     "output_type": "stream",
     "text": [
      "epoch: 251: 100%|███████████████████████████████████████████████████████████████████| 50/50 [00:01<00:00, 43.75batch/s]\n",
      "epoch: 252:  10%|██████▊                                                             | 5/50 [00:00<00:01, 42.13batch/s]"
     ]
    },
    {
     "name": "stdout",
     "output_type": "stream",
     "text": [
      "loss training: 0.166055\n",
      "accuracy train: 1.000000 test: 0.842105\n",
      "\n",
      "Parameter containing:\n",
      "tensor([0., 0., 0., 0.], requires_grad=True)\n"
     ]
    },
    {
     "name": "stderr",
     "output_type": "stream",
     "text": [
      "epoch: 252: 100%|███████████████████████████████████████████████████████████████████| 50/50 [00:01<00:00, 42.34batch/s]\n",
      "epoch: 253:   0%|                                                                            | 0/50 [00:00<?, ?batch/s]"
     ]
    },
    {
     "name": "stdout",
     "output_type": "stream",
     "text": [
      "loss training: 0.176906\n",
      "accuracy train: 1.000000 test: 0.842105\n",
      "\n",
      "Parameter containing:\n",
      "tensor([0., 0., 0., 0.], requires_grad=True)\n"
     ]
    },
    {
     "name": "stderr",
     "output_type": "stream",
     "text": [
      "epoch: 253: 100%|███████████████████████████████████████████████████████████████████| 50/50 [00:01<00:00, 43.63batch/s]\n",
      "epoch: 254:  10%|██████▊                                                             | 5/50 [00:00<00:00, 45.99batch/s]"
     ]
    },
    {
     "name": "stdout",
     "output_type": "stream",
     "text": [
      "loss training: 0.184683\n",
      "accuracy train: 1.000000 test: 0.842105\n",
      "\n",
      "Parameter containing:\n",
      "tensor([0., 0., 0., 0.], requires_grad=True)\n"
     ]
    },
    {
     "name": "stderr",
     "output_type": "stream",
     "text": [
      "epoch: 254: 100%|███████████████████████████████████████████████████████████████████| 50/50 [00:01<00:00, 44.33batch/s]\n",
      "epoch: 255:  10%|██████▊                                                             | 5/50 [00:00<00:00, 47.75batch/s]"
     ]
    },
    {
     "name": "stdout",
     "output_type": "stream",
     "text": [
      "loss training: 0.176009\n",
      "accuracy train: 1.000000 test: 0.842105\n",
      "\n",
      "Parameter containing:\n",
      "tensor([0., 0., 0., 0.], requires_grad=True)\n"
     ]
    },
    {
     "name": "stderr",
     "output_type": "stream",
     "text": [
      "epoch: 255: 100%|███████████████████████████████████████████████████████████████████| 50/50 [00:01<00:00, 43.14batch/s]\n",
      "epoch: 256:  10%|██████▊                                                             | 5/50 [00:00<00:01, 42.49batch/s]"
     ]
    },
    {
     "name": "stdout",
     "output_type": "stream",
     "text": [
      "loss training: 0.165295\n",
      "accuracy train: 1.000000 test: 0.842105\n",
      "\n",
      "Parameter containing:\n",
      "tensor([0., 0., 0., 0.], requires_grad=True)\n"
     ]
    },
    {
     "name": "stderr",
     "output_type": "stream",
     "text": [
      "epoch: 256: 100%|███████████████████████████████████████████████████████████████████| 50/50 [00:01<00:00, 43.44batch/s]\n",
      "epoch: 257:  10%|██████▊                                                             | 5/50 [00:00<00:00, 45.17batch/s]"
     ]
    },
    {
     "name": "stdout",
     "output_type": "stream",
     "text": [
      "loss training: 0.170383\n",
      "accuracy train: 1.000000 test: 0.842105\n",
      "\n",
      "Parameter containing:\n",
      "tensor([0., 0., 0., 0.], requires_grad=True)\n"
     ]
    },
    {
     "name": "stderr",
     "output_type": "stream",
     "text": [
      "epoch: 257: 100%|███████████████████████████████████████████████████████████████████| 50/50 [00:01<00:00, 43.82batch/s]\n",
      "epoch: 258:  10%|██████▊                                                             | 5/50 [00:00<00:01, 41.78batch/s]"
     ]
    },
    {
     "name": "stdout",
     "output_type": "stream",
     "text": [
      "loss training: 0.159566\n",
      "accuracy train: 1.000000 test: 0.842105\n",
      "\n",
      "Parameter containing:\n",
      "tensor([0., 0., 0., 0.], requires_grad=True)\n"
     ]
    },
    {
     "name": "stderr",
     "output_type": "stream",
     "text": [
      "epoch: 258: 100%|███████████████████████████████████████████████████████████████████| 50/50 [00:01<00:00, 43.18batch/s]\n",
      "epoch: 259:  10%|██████▊                                                             | 5/50 [00:00<00:01, 41.43batch/s]"
     ]
    },
    {
     "name": "stdout",
     "output_type": "stream",
     "text": [
      "loss training: 0.175200\n",
      "accuracy train: 1.000000 test: 0.842105\n",
      "\n",
      "Parameter containing:\n",
      "tensor([0., 0., 0., 0.], requires_grad=True)\n"
     ]
    },
    {
     "name": "stderr",
     "output_type": "stream",
     "text": [
      "epoch: 259: 100%|███████████████████████████████████████████████████████████████████| 50/50 [00:01<00:00, 42.13batch/s]\n",
      "epoch: 260:  10%|██████▊                                                             | 5/50 [00:00<00:01, 42.49batch/s]"
     ]
    },
    {
     "name": "stdout",
     "output_type": "stream",
     "text": [
      "loss training: 0.190705\n",
      "accuracy train: 1.000000 test: 0.842105\n",
      "\n",
      "Parameter containing:\n",
      "tensor([0., 0., 0., 0.], requires_grad=True)\n"
     ]
    },
    {
     "name": "stderr",
     "output_type": "stream",
     "text": [
      "epoch: 260: 100%|███████████████████████████████████████████████████████████████████| 50/50 [00:01<00:00, 43.07batch/s]\n",
      "epoch: 261:  10%|██████▊                                                             | 5/50 [00:00<00:01, 40.43batch/s]"
     ]
    },
    {
     "name": "stdout",
     "output_type": "stream",
     "text": [
      "loss training: 0.178146\n",
      "accuracy train: 1.000000 test: 0.842105\n",
      "\n",
      "Parameter containing:\n",
      "tensor([0., 0., 0., 0.], requires_grad=True)\n"
     ]
    },
    {
     "name": "stderr",
     "output_type": "stream",
     "text": [
      "epoch: 261: 100%|███████████████████████████████████████████████████████████████████| 50/50 [00:01<00:00, 42.96batch/s]\n",
      "epoch: 262:  10%|██████▊                                                             | 5/50 [00:00<00:01, 44.76batch/s]"
     ]
    },
    {
     "name": "stdout",
     "output_type": "stream",
     "text": [
      "loss training: 0.169262\n",
      "accuracy train: 1.000000 test: 0.842105\n",
      "\n",
      "Parameter containing:\n",
      "tensor([0., 0., 0., 0.], requires_grad=True)\n"
     ]
    },
    {
     "name": "stderr",
     "output_type": "stream",
     "text": [
      "epoch: 262: 100%|███████████████████████████████████████████████████████████████████| 50/50 [00:01<00:00, 43.18batch/s]\n",
      "epoch: 263:  10%|██████▊                                                             | 5/50 [00:00<00:01, 43.59batch/s]"
     ]
    },
    {
     "name": "stdout",
     "output_type": "stream",
     "text": [
      "loss training: 0.170065\n",
      "accuracy train: 1.000000 test: 0.842105\n",
      "\n",
      "Parameter containing:\n",
      "tensor([0., 0., 0., 0.], requires_grad=True)\n"
     ]
    },
    {
     "name": "stderr",
     "output_type": "stream",
     "text": [
      "epoch: 263: 100%|███████████████████████████████████████████████████████████████████| 50/50 [00:01<00:00, 43.75batch/s]\n",
      "epoch: 264:  10%|██████▊                                                             | 5/50 [00:00<00:01, 41.78batch/s]"
     ]
    },
    {
     "name": "stdout",
     "output_type": "stream",
     "text": [
      "loss training: 0.166574\n",
      "accuracy train: 1.000000 test: 0.842105\n",
      "\n",
      "Parameter containing:\n",
      "tensor([0., 0., 0., 0.], requires_grad=True)\n"
     ]
    },
    {
     "name": "stderr",
     "output_type": "stream",
     "text": [
      "epoch: 264: 100%|███████████████████████████████████████████████████████████████████| 50/50 [00:01<00:00, 42.31batch/s]\n",
      "epoch: 265:  10%|██████▊                                                             | 5/50 [00:00<00:01, 43.98batch/s]"
     ]
    },
    {
     "name": "stdout",
     "output_type": "stream",
     "text": [
      "loss training: 0.171272\n",
      "accuracy train: 1.000000 test: 0.842105\n",
      "\n",
      "Parameter containing:\n",
      "tensor([0., 0., 0., 0.], requires_grad=True)\n"
     ]
    },
    {
     "name": "stderr",
     "output_type": "stream",
     "text": [
      "epoch: 265: 100%|███████████████████████████████████████████████████████████████████| 50/50 [00:01<00:00, 44.41batch/s]\n",
      "epoch: 266:  10%|██████▊                                                             | 5/50 [00:00<00:00, 45.58batch/s]"
     ]
    },
    {
     "name": "stdout",
     "output_type": "stream",
     "text": [
      "loss training: 0.171752\n",
      "accuracy train: 1.000000 test: 0.842105\n",
      "\n",
      "Parameter containing:\n",
      "tensor([0., 0., 0., 0.], requires_grad=True)\n"
     ]
    },
    {
     "name": "stderr",
     "output_type": "stream",
     "text": [
      "epoch: 266: 100%|███████████████████████████████████████████████████████████████████| 50/50 [00:01<00:00, 44.64batch/s]\n",
      "epoch: 267:  10%|██████▊                                                             | 5/50 [00:00<00:01, 43.22batch/s]"
     ]
    },
    {
     "name": "stdout",
     "output_type": "stream",
     "text": [
      "loss training: 0.164833\n",
      "accuracy train: 1.000000 test: 0.842105\n",
      "\n",
      "Parameter containing:\n",
      "tensor([0., 0., 0., 0.], requires_grad=True)\n"
     ]
    },
    {
     "name": "stderr",
     "output_type": "stream",
     "text": [
      "epoch: 267: 100%|███████████████████████████████████████████████████████████████████| 50/50 [00:01<00:00, 44.07batch/s]\n",
      "epoch: 268:  10%|██████▊                                                             | 5/50 [00:00<00:01, 44.37batch/s]"
     ]
    },
    {
     "name": "stdout",
     "output_type": "stream",
     "text": [
      "loss training: 0.170436\n",
      "accuracy train: 1.000000 test: 0.842105\n",
      "\n",
      "Parameter containing:\n",
      "tensor([0., 0., 0., 0.], requires_grad=True)\n"
     ]
    },
    {
     "name": "stderr",
     "output_type": "stream",
     "text": [
      "epoch: 268: 100%|███████████████████████████████████████████████████████████████████| 50/50 [00:01<00:00, 44.33batch/s]\n",
      "epoch: 269:  10%|██████▊                                                             | 5/50 [00:00<00:00, 45.58batch/s]"
     ]
    },
    {
     "name": "stdout",
     "output_type": "stream",
     "text": [
      "loss training: 0.168299\n",
      "accuracy train: 1.000000 test: 0.842105\n",
      "\n",
      "Parameter containing:\n",
      "tensor([0., 0., 0., 0.], requires_grad=True)\n"
     ]
    },
    {
     "name": "stderr",
     "output_type": "stream",
     "text": [
      "epoch: 269: 100%|███████████████████████████████████████████████████████████████████| 50/50 [00:01<00:00, 44.41batch/s]\n",
      "epoch: 270:  10%|██████▊                                                             | 5/50 [00:00<00:01, 43.98batch/s]"
     ]
    },
    {
     "name": "stdout",
     "output_type": "stream",
     "text": [
      "loss training: 0.178645\n",
      "accuracy train: 1.000000 test: 0.842105\n",
      "\n",
      "Parameter containing:\n",
      "tensor([0., 0., 0., 0.], requires_grad=True)\n"
     ]
    },
    {
     "name": "stderr",
     "output_type": "stream",
     "text": [
      "epoch: 270: 100%|███████████████████████████████████████████████████████████████████| 50/50 [00:01<00:00, 43.52batch/s]\n",
      "epoch: 271:  10%|██████▊                                                             | 5/50 [00:00<00:01, 42.85batch/s]"
     ]
    },
    {
     "name": "stdout",
     "output_type": "stream",
     "text": [
      "loss training: 0.175641\n",
      "accuracy train: 1.000000 test: 0.842105\n",
      "\n",
      "Parameter containing:\n",
      "tensor([0., 0., 0., 0.], requires_grad=True)\n"
     ]
    },
    {
     "name": "stderr",
     "output_type": "stream",
     "text": [
      "epoch: 271: 100%|███████████████████████████████████████████████████████████████████| 50/50 [00:01<00:00, 44.48batch/s]\n",
      "epoch: 272:  10%|██████▊                                                             | 5/50 [00:00<00:00, 47.30batch/s]"
     ]
    },
    {
     "name": "stdout",
     "output_type": "stream",
     "text": [
      "loss training: 0.166907\n",
      "accuracy train: 1.000000 test: 0.842105\n",
      "\n",
      "Parameter containing:\n",
      "tensor([0., 0., 0., 0.], requires_grad=True)\n"
     ]
    },
    {
     "name": "stderr",
     "output_type": "stream",
     "text": [
      "epoch: 272: 100%|███████████████████████████████████████████████████████████████████| 50/50 [00:01<00:00, 43.29batch/s]\n",
      "epoch: 273:  10%|██████▊                                                             | 5/50 [00:00<00:00, 45.58batch/s]"
     ]
    },
    {
     "name": "stdout",
     "output_type": "stream",
     "text": [
      "loss training: 0.172579\n",
      "accuracy train: 1.000000 test: 0.842105\n",
      "\n",
      "Parameter containing:\n",
      "tensor([0., 0., 0., 0.], requires_grad=True)\n"
     ]
    },
    {
     "name": "stderr",
     "output_type": "stream",
     "text": [
      "epoch: 273: 100%|███████████████████████████████████████████████████████████████████| 50/50 [00:01<00:00, 44.37batch/s]\n",
      "epoch: 274:  10%|██████▊                                                             | 5/50 [00:00<00:01, 43.98batch/s]"
     ]
    },
    {
     "name": "stdout",
     "output_type": "stream",
     "text": [
      "loss training: 0.172084\n",
      "accuracy train: 1.000000 test: 0.842105\n",
      "\n",
      "Parameter containing:\n",
      "tensor([0., 0., 0., 0.], requires_grad=True)\n"
     ]
    },
    {
     "name": "stderr",
     "output_type": "stream",
     "text": [
      "epoch: 274: 100%|███████████████████████████████████████████████████████████████████| 50/50 [00:01<00:00, 42.89batch/s]\n",
      "epoch: 275:   8%|█████▍                                                              | 4/50 [00:00<00:01, 39.71batch/s]"
     ]
    },
    {
     "name": "stdout",
     "output_type": "stream",
     "text": [
      "loss training: 0.183477\n",
      "accuracy train: 1.000000 test: 0.842105\n",
      "\n",
      "Parameter containing:\n",
      "tensor([0., 0., 0., 0.], requires_grad=True)\n"
     ]
    },
    {
     "name": "stderr",
     "output_type": "stream",
     "text": [
      "epoch: 275: 100%|███████████████████████████████████████████████████████████████████| 50/50 [00:01<00:00, 43.47batch/s]\n",
      "epoch: 276:  10%|██████▊                                                             | 5/50 [00:00<00:00, 45.99batch/s]"
     ]
    },
    {
     "name": "stdout",
     "output_type": "stream",
     "text": [
      "loss training: 0.173870\n",
      "accuracy train: 1.000000 test: 0.842105\n",
      "\n",
      "Parameter containing:\n",
      "tensor([0., 0., 0., 0.], requires_grad=True)\n"
     ]
    },
    {
     "name": "stderr",
     "output_type": "stream",
     "text": [
      "epoch: 276: 100%|███████████████████████████████████████████████████████████████████| 50/50 [00:01<00:00, 44.33batch/s]\n",
      "epoch: 277:  10%|██████▊                                                             | 5/50 [00:00<00:01, 43.59batch/s]"
     ]
    },
    {
     "name": "stdout",
     "output_type": "stream",
     "text": [
      "loss training: 0.181163\n",
      "accuracy train: 1.000000 test: 0.842105\n",
      "\n",
      "Parameter containing:\n",
      "tensor([0., 0., 0., 0.], requires_grad=True)\n"
     ]
    },
    {
     "name": "stderr",
     "output_type": "stream",
     "text": [
      "epoch: 277: 100%|███████████████████████████████████████████████████████████████████| 50/50 [00:01<00:00, 43.90batch/s]\n",
      "epoch: 278:  10%|██████▊                                                             | 5/50 [00:00<00:01, 42.49batch/s]"
     ]
    },
    {
     "name": "stdout",
     "output_type": "stream",
     "text": [
      "loss training: 0.189416\n",
      "accuracy train: 1.000000 test: 0.842105\n",
      "\n",
      "Parameter containing:\n",
      "tensor([0., 0., 0., 0.], requires_grad=True)\n"
     ]
    },
    {
     "name": "stderr",
     "output_type": "stream",
     "text": [
      "epoch: 278: 100%|███████████████████████████████████████████████████████████████████| 50/50 [00:01<00:00, 43.71batch/s]\n",
      "epoch: 279:  10%|██████▊                                                             | 5/50 [00:00<00:01, 42.13batch/s]"
     ]
    },
    {
     "name": "stdout",
     "output_type": "stream",
     "text": [
      "loss training: 0.166862\n",
      "accuracy train: 1.000000 test: 0.842105\n",
      "\n",
      "Parameter containing:\n",
      "tensor([0., 0., 0., 0.], requires_grad=True)\n"
     ]
    },
    {
     "name": "stderr",
     "output_type": "stream",
     "text": [
      "epoch: 279: 100%|███████████████████████████████████████████████████████████████████| 50/50 [00:01<00:00, 43.29batch/s]\n",
      "epoch: 280:  10%|██████▊                                                             | 5/50 [00:00<00:00, 46.43batch/s]"
     ]
    },
    {
     "name": "stdout",
     "output_type": "stream",
     "text": [
      "loss training: 0.184713\n",
      "accuracy train: 1.000000 test: 0.842105\n",
      "\n",
      "Parameter containing:\n",
      "tensor([0., 0., 0., 0.], requires_grad=True)\n"
     ]
    },
    {
     "name": "stderr",
     "output_type": "stream",
     "text": [
      "epoch: 280: 100%|███████████████████████████████████████████████████████████████████| 50/50 [00:01<00:00, 44.02batch/s]\n",
      "epoch: 281:  10%|██████▊                                                             | 5/50 [00:00<00:01, 41.74batch/s]"
     ]
    },
    {
     "name": "stdout",
     "output_type": "stream",
     "text": [
      "loss training: 0.179037\n",
      "accuracy train: 1.000000 test: 0.842105\n",
      "\n",
      "Parameter containing:\n",
      "tensor([0., 0., 0., 0.], requires_grad=True)\n"
     ]
    },
    {
     "name": "stderr",
     "output_type": "stream",
     "text": [
      "epoch: 281: 100%|███████████████████████████████████████████████████████████████████| 50/50 [00:01<00:00, 42.99batch/s]\n",
      "epoch: 282:  10%|██████▊                                                             | 5/50 [00:00<00:01, 41.78batch/s]"
     ]
    },
    {
     "name": "stdout",
     "output_type": "stream",
     "text": [
      "loss training: 0.182036\n",
      "accuracy train: 1.000000 test: 0.842105\n",
      "\n",
      "Parameter containing:\n",
      "tensor([0., 0., 0., 0.], requires_grad=True)\n"
     ]
    },
    {
     "name": "stderr",
     "output_type": "stream",
     "text": [
      "epoch: 282: 100%|███████████████████████████████████████████████████████████████████| 50/50 [00:01<00:00, 43.66batch/s]\n",
      "epoch: 283:  10%|██████▊                                                             | 5/50 [00:00<00:01, 41.78batch/s]"
     ]
    },
    {
     "name": "stdout",
     "output_type": "stream",
     "text": [
      "loss training: 0.168202\n",
      "accuracy train: 1.000000 test: 0.842105\n",
      "\n",
      "Parameter containing:\n",
      "tensor([0., 0., 0., 0.], requires_grad=True)\n"
     ]
    },
    {
     "name": "stderr",
     "output_type": "stream",
     "text": [
      "epoch: 283: 100%|███████████████████████████████████████████████████████████████████| 50/50 [00:01<00:00, 43.32batch/s]\n",
      "epoch: 284:  10%|██████▊                                                             | 5/50 [00:00<00:01, 43.98batch/s]"
     ]
    },
    {
     "name": "stdout",
     "output_type": "stream",
     "text": [
      "loss training: 0.175524\n",
      "accuracy train: 1.000000 test: 0.842105\n",
      "\n",
      "Parameter containing:\n",
      "tensor([0., 0., 0., 0.], requires_grad=True)\n"
     ]
    },
    {
     "name": "stderr",
     "output_type": "stream",
     "text": [
      "epoch: 284: 100%|███████████████████████████████████████████████████████████████████| 50/50 [00:01<00:00, 42.78batch/s]\n",
      "epoch: 285:  10%|██████▊                                                             | 5/50 [00:00<00:01, 43.98batch/s]"
     ]
    },
    {
     "name": "stdout",
     "output_type": "stream",
     "text": [
      "loss training: 0.171291\n",
      "accuracy train: 1.000000 test: 0.842105\n",
      "\n",
      "Parameter containing:\n",
      "tensor([0., 0., 0., 0.], requires_grad=True)\n"
     ]
    },
    {
     "name": "stderr",
     "output_type": "stream",
     "text": [
      "epoch: 285: 100%|███████████████████████████████████████████████████████████████████| 50/50 [00:01<00:00, 42.63batch/s]\n",
      "epoch: 286:  10%|██████▊                                                             | 5/50 [00:00<00:01, 44.75batch/s]"
     ]
    },
    {
     "name": "stdout",
     "output_type": "stream",
     "text": [
      "loss training: 0.174698\n",
      "accuracy train: 1.000000 test: 0.842105\n",
      "\n",
      "Parameter containing:\n",
      "tensor([0., 0., 0., 0.], requires_grad=True)\n"
     ]
    },
    {
     "name": "stderr",
     "output_type": "stream",
     "text": [
      "epoch: 286: 100%|███████████████████████████████████████████████████████████████████| 50/50 [00:01<00:00, 43.44batch/s]\n",
      "epoch: 287:  10%|██████▊                                                             | 5/50 [00:00<00:01, 41.09batch/s]"
     ]
    },
    {
     "name": "stdout",
     "output_type": "stream",
     "text": [
      "loss training: 0.176882\n",
      "accuracy train: 1.000000 test: 0.842105\n",
      "\n",
      "Parameter containing:\n",
      "tensor([0., 0., 0., 0.], requires_grad=True)\n"
     ]
    },
    {
     "name": "stderr",
     "output_type": "stream",
     "text": [
      "epoch: 287: 100%|███████████████████████████████████████████████████████████████████| 50/50 [00:01<00:00, 43.54batch/s]\n",
      "epoch: 288:  10%|██████▊                                                             | 5/50 [00:00<00:01, 43.59batch/s]"
     ]
    },
    {
     "name": "stdout",
     "output_type": "stream",
     "text": [
      "loss training: 0.179860\n",
      "accuracy train: 1.000000 test: 0.842105\n",
      "\n",
      "Parameter containing:\n",
      "tensor([0., 0., 0., 0.], requires_grad=True)\n"
     ]
    },
    {
     "name": "stderr",
     "output_type": "stream",
     "text": [
      "epoch: 288: 100%|███████████████████████████████████████████████████████████████████| 50/50 [00:01<00:00, 42.77batch/s]\n",
      "epoch: 289:  10%|██████▊                                                             | 5/50 [00:00<00:00, 46.42batch/s]"
     ]
    },
    {
     "name": "stdout",
     "output_type": "stream",
     "text": [
      "loss training: 0.181175\n",
      "accuracy train: 1.000000 test: 0.842105\n",
      "\n",
      "Parameter containing:\n",
      "tensor([0., 0., 0., 0.], requires_grad=True)\n"
     ]
    },
    {
     "name": "stderr",
     "output_type": "stream",
     "text": [
      "epoch: 289: 100%|███████████████████████████████████████████████████████████████████| 50/50 [00:01<00:00, 43.78batch/s]\n",
      "epoch: 290:  10%|██████▊                                                             | 5/50 [00:00<00:00, 45.17batch/s]"
     ]
    },
    {
     "name": "stdout",
     "output_type": "stream",
     "text": [
      "loss training: 0.161250\n",
      "accuracy train: 1.000000 test: 0.842105\n",
      "\n",
      "Parameter containing:\n",
      "tensor([0., 0., 0., 0.], requires_grad=True)\n"
     ]
    },
    {
     "name": "stderr",
     "output_type": "stream",
     "text": [
      "epoch: 290: 100%|███████████████████████████████████████████████████████████████████| 50/50 [00:01<00:00, 42.96batch/s]\n",
      "epoch: 291:  10%|██████▊                                                             | 5/50 [00:00<00:01, 42.49batch/s]"
     ]
    },
    {
     "name": "stdout",
     "output_type": "stream",
     "text": [
      "loss training: 0.178930\n",
      "accuracy train: 1.000000 test: 0.842105\n",
      "\n",
      "Parameter containing:\n",
      "tensor([0., 0., 0., 0.], requires_grad=True)\n"
     ]
    },
    {
     "name": "stderr",
     "output_type": "stream",
     "text": [
      "epoch: 291: 100%|███████████████████████████████████████████████████████████████████| 50/50 [00:01<00:00, 43.22batch/s]\n",
      "epoch: 292:  10%|██████▊                                                             | 5/50 [00:00<00:01, 44.37batch/s]"
     ]
    },
    {
     "name": "stdout",
     "output_type": "stream",
     "text": [
      "loss training: 0.166391\n",
      "accuracy train: 1.000000 test: 0.842105\n",
      "\n",
      "Parameter containing:\n",
      "tensor([0., 0., 0., 0.], requires_grad=True)\n"
     ]
    },
    {
     "name": "stderr",
     "output_type": "stream",
     "text": [
      "epoch: 292: 100%|███████████████████████████████████████████████████████████████████| 50/50 [00:01<00:00, 43.73batch/s]\n",
      "epoch: 293:  10%|██████▊                                                             | 5/50 [00:00<00:01, 41.09batch/s]"
     ]
    },
    {
     "name": "stdout",
     "output_type": "stream",
     "text": [
      "loss training: 0.161471\n",
      "accuracy train: 1.000000 test: 0.842105\n",
      "\n",
      "Parameter containing:\n",
      "tensor([0., 0., 0., 0.], requires_grad=True)\n"
     ]
    },
    {
     "name": "stderr",
     "output_type": "stream",
     "text": [
      "epoch: 293: 100%|███████████████████████████████████████████████████████████████████| 50/50 [00:01<00:00, 34.77batch/s]\n",
      "epoch: 294:   8%|█████▍                                                              | 4/50 [00:00<00:01, 34.87batch/s]"
     ]
    },
    {
     "name": "stdout",
     "output_type": "stream",
     "text": [
      "loss training: 0.165281\n",
      "accuracy train: 1.000000 test: 0.842105\n",
      "\n",
      "Parameter containing:\n",
      "tensor([0., 0., 0., 0.], requires_grad=True)\n"
     ]
    },
    {
     "name": "stderr",
     "output_type": "stream",
     "text": [
      "epoch: 294: 100%|███████████████████████████████████████████████████████████████████| 50/50 [00:01<00:00, 37.01batch/s]\n",
      "epoch: 295:   8%|█████▍                                                              | 4/50 [00:00<00:01, 33.15batch/s]"
     ]
    },
    {
     "name": "stdout",
     "output_type": "stream",
     "text": [
      "loss training: 0.176818\n",
      "accuracy train: 1.000000 test: 0.842105\n",
      "\n",
      "Parameter containing:\n",
      "tensor([0., 0., 0., 0.], requires_grad=True)\n"
     ]
    },
    {
     "name": "stderr",
     "output_type": "stream",
     "text": [
      "epoch: 295: 100%|███████████████████████████████████████████████████████████████████| 50/50 [00:01<00:00, 37.55batch/s]\n",
      "epoch: 296:  10%|██████▊                                                             | 5/50 [00:00<00:01, 41.09batch/s]"
     ]
    },
    {
     "name": "stdout",
     "output_type": "stream",
     "text": [
      "loss training: 0.168192\n",
      "accuracy train: 1.000000 test: 0.842105\n",
      "\n",
      "Parameter containing:\n",
      "tensor([0., 0., 0., 0.], requires_grad=True)\n"
     ]
    },
    {
     "name": "stderr",
     "output_type": "stream",
     "text": [
      "epoch: 296: 100%|███████████████████████████████████████████████████████████████████| 50/50 [00:01<00:00, 40.59batch/s]\n",
      "epoch: 297:  10%|██████▊                                                             | 5/50 [00:00<00:00, 46.85batch/s]"
     ]
    },
    {
     "name": "stdout",
     "output_type": "stream",
     "text": [
      "loss training: 0.170437\n",
      "accuracy train: 1.000000 test: 0.842105\n",
      "\n",
      "Parameter containing:\n",
      "tensor([0., 0., 0., 0.], requires_grad=True)\n"
     ]
    },
    {
     "name": "stderr",
     "output_type": "stream",
     "text": [
      "epoch: 297: 100%|███████████████████████████████████████████████████████████████████| 50/50 [00:01<00:00, 44.09batch/s]\n",
      "epoch: 298:  10%|██████▊                                                             | 5/50 [00:00<00:00, 45.99batch/s]"
     ]
    },
    {
     "name": "stdout",
     "output_type": "stream",
     "text": [
      "loss training: 0.178718\n",
      "accuracy train: 1.000000 test: 0.842105\n",
      "\n",
      "Parameter containing:\n",
      "tensor([0., 0., 0., 0.], requires_grad=True)\n"
     ]
    },
    {
     "name": "stderr",
     "output_type": "stream",
     "text": [
      "epoch: 298: 100%|███████████████████████████████████████████████████████████████████| 50/50 [00:01<00:00, 43.03batch/s]\n",
      "epoch: 299:  10%|██████▊                                                             | 5/50 [00:00<00:01, 44.37batch/s]"
     ]
    },
    {
     "name": "stdout",
     "output_type": "stream",
     "text": [
      "loss training: 0.168657\n",
      "accuracy train: 1.000000 test: 0.842105\n",
      "\n",
      "Parameter containing:\n",
      "tensor([0., 0., 0., 0.], requires_grad=True)\n"
     ]
    },
    {
     "name": "stderr",
     "output_type": "stream",
     "text": [
      "epoch: 299: 100%|███████████████████████████████████████████████████████████████████| 50/50 [00:01<00:00, 43.63batch/s]\n",
      "epoch: 300:  10%|██████▊                                                             | 5/50 [00:00<00:01, 41.78batch/s]"
     ]
    },
    {
     "name": "stdout",
     "output_type": "stream",
     "text": [
      "loss training: 0.162654\n",
      "accuracy train: 1.000000 test: 0.842105\n",
      "\n",
      "Parameter containing:\n",
      "tensor([0., 0., 0., 0.], requires_grad=True)\n"
     ]
    },
    {
     "name": "stderr",
     "output_type": "stream",
     "text": [
      "epoch: 300: 100%|███████████████████████████████████████████████████████████████████| 50/50 [00:01<00:00, 43.22batch/s]\n",
      "epoch: 301:  10%|██████▊                                                             | 5/50 [00:00<00:01, 44.37batch/s]"
     ]
    },
    {
     "name": "stdout",
     "output_type": "stream",
     "text": [
      "loss training: 0.165282\n",
      "accuracy train: 1.000000 test: 0.842105\n",
      "\n",
      "Parameter containing:\n",
      "tensor([0., 0., 0., 0.], requires_grad=True)\n"
     ]
    },
    {
     "name": "stderr",
     "output_type": "stream",
     "text": [
      "epoch: 301: 100%|███████████████████████████████████████████████████████████████████| 50/50 [00:01<00:00, 43.22batch/s]\n",
      "epoch: 302:  10%|██████▊                                                             | 5/50 [00:00<00:00, 45.99batch/s]"
     ]
    },
    {
     "name": "stdout",
     "output_type": "stream",
     "text": [
      "loss training: 0.182087\n",
      "accuracy train: 1.000000 test: 0.842105\n",
      "\n",
      "Parameter containing:\n",
      "tensor([0., 0., 0., 0.], requires_grad=True)\n"
     ]
    },
    {
     "name": "stderr",
     "output_type": "stream",
     "text": [
      "epoch: 302: 100%|███████████████████████████████████████████████████████████████████| 50/50 [00:01<00:00, 43.33batch/s]\n",
      "epoch: 303:  10%|██████▊                                                             | 5/50 [00:00<00:01, 44.37batch/s]"
     ]
    },
    {
     "name": "stdout",
     "output_type": "stream",
     "text": [
      "loss training: 0.169897\n",
      "accuracy train: 1.000000 test: 0.842105\n",
      "\n",
      "Parameter containing:\n",
      "tensor([0., 0., 0., 0.], requires_grad=True)\n"
     ]
    },
    {
     "name": "stderr",
     "output_type": "stream",
     "text": [
      "epoch: 303: 100%|███████████████████████████████████████████████████████████████████| 50/50 [00:01<00:00, 43.48batch/s]\n",
      "epoch: 304:  10%|██████▊                                                             | 5/50 [00:00<00:01, 44.37batch/s]"
     ]
    },
    {
     "name": "stdout",
     "output_type": "stream",
     "text": [
      "loss training: 0.166037\n",
      "accuracy train: 1.000000 test: 0.842105\n",
      "\n",
      "Parameter containing:\n",
      "tensor([0., 0., 0., 0.], requires_grad=True)\n"
     ]
    },
    {
     "name": "stderr",
     "output_type": "stream",
     "text": [
      "epoch: 304: 100%|███████████████████████████████████████████████████████████████████| 50/50 [00:01<00:00, 43.41batch/s]\n",
      "epoch: 305:  10%|██████▊                                                             | 5/50 [00:00<00:01, 42.13batch/s]"
     ]
    },
    {
     "name": "stdout",
     "output_type": "stream",
     "text": [
      "loss training: 0.172195\n",
      "accuracy train: 1.000000 test: 0.842105\n",
      "\n",
      "Parameter containing:\n",
      "tensor([0., 0., 0., 0.], requires_grad=True)\n"
     ]
    },
    {
     "name": "stderr",
     "output_type": "stream",
     "text": [
      "epoch: 305: 100%|███████████████████████████████████████████████████████████████████| 50/50 [00:01<00:00, 42.81batch/s]\n",
      "epoch: 306:  10%|██████▊                                                             | 5/50 [00:00<00:01, 41.43batch/s]"
     ]
    },
    {
     "name": "stdout",
     "output_type": "stream",
     "text": [
      "loss training: 0.179423\n",
      "accuracy train: 1.000000 test: 0.842105\n",
      "\n",
      "Parameter containing:\n",
      "tensor([0., 0., 0., 0.], requires_grad=True)\n"
     ]
    },
    {
     "name": "stderr",
     "output_type": "stream",
     "text": [
      "epoch: 306: 100%|███████████████████████████████████████████████████████████████████| 50/50 [00:01<00:00, 41.36batch/s]\n",
      "epoch: 307:  10%|██████▊                                                             | 5/50 [00:00<00:00, 46.42batch/s]"
     ]
    },
    {
     "name": "stdout",
     "output_type": "stream",
     "text": [
      "loss training: 0.175998\n",
      "accuracy train: 1.000000 test: 0.842105\n",
      "\n",
      "Parameter containing:\n",
      "tensor([0., 0., 0., 0.], requires_grad=True)\n"
     ]
    },
    {
     "name": "stderr",
     "output_type": "stream",
     "text": [
      "epoch: 307: 100%|███████████████████████████████████████████████████████████████████| 50/50 [00:01<00:00, 43.75batch/s]\n",
      "epoch: 308:  10%|██████▊                                                             | 5/50 [00:00<00:00, 45.17batch/s]"
     ]
    },
    {
     "name": "stdout",
     "output_type": "stream",
     "text": [
      "loss training: 0.176439\n",
      "accuracy train: 1.000000 test: 0.842105\n",
      "\n",
      "Parameter containing:\n",
      "tensor([0., 0., 0., 0.], requires_grad=True)\n"
     ]
    },
    {
     "name": "stderr",
     "output_type": "stream",
     "text": [
      "epoch: 308: 100%|███████████████████████████████████████████████████████████████████| 50/50 [00:01<00:00, 44.09batch/s]\n",
      "epoch: 309:  10%|██████▊                                                             | 5/50 [00:00<00:01, 40.76batch/s]"
     ]
    },
    {
     "name": "stdout",
     "output_type": "stream",
     "text": [
      "loss training: 0.173010\n",
      "accuracy train: 1.000000 test: 0.842105\n",
      "\n",
      "Parameter containing:\n",
      "tensor([0., 0., 0., 0.], requires_grad=True)\n"
     ]
    },
    {
     "name": "stderr",
     "output_type": "stream",
     "text": [
      "epoch: 309: 100%|███████████████████████████████████████████████████████████████████| 50/50 [00:01<00:00, 43.18batch/s]\n",
      "epoch: 310:  10%|██████▊                                                             | 5/50 [00:00<00:01, 44.37batch/s]"
     ]
    },
    {
     "name": "stdout",
     "output_type": "stream",
     "text": [
      "loss training: 0.171311\n",
      "accuracy train: 1.000000 test: 0.842105\n",
      "\n",
      "Parameter containing:\n",
      "tensor([0., 0., 0., 0.], requires_grad=True)\n"
     ]
    },
    {
     "name": "stderr",
     "output_type": "stream",
     "text": [
      "epoch: 310: 100%|███████████████████████████████████████████████████████████████████| 50/50 [00:01<00:00, 43.75batch/s]\n",
      "epoch: 311:   8%|█████▍                                                              | 4/50 [00:00<00:01, 38.56batch/s]"
     ]
    },
    {
     "name": "stdout",
     "output_type": "stream",
     "text": [
      "loss training: 0.173837\n",
      "accuracy train: 1.000000 test: 0.842105\n",
      "\n",
      "Parameter containing:\n",
      "tensor([0., 0., 0., 0.], requires_grad=True)\n"
     ]
    },
    {
     "name": "stderr",
     "output_type": "stream",
     "text": [
      "epoch: 311: 100%|███████████████████████████████████████████████████████████████████| 50/50 [00:01<00:00, 42.96batch/s]\n",
      "epoch: 312:  10%|██████▊                                                             | 5/50 [00:00<00:00, 45.58batch/s]"
     ]
    },
    {
     "name": "stdout",
     "output_type": "stream",
     "text": [
      "loss training: 0.179864\n",
      "accuracy train: 1.000000 test: 0.842105\n",
      "\n",
      "Parameter containing:\n",
      "tensor([0., 0., 0., 0.], requires_grad=True)\n"
     ]
    },
    {
     "name": "stderr",
     "output_type": "stream",
     "text": [
      "epoch: 312: 100%|███████████████████████████████████████████████████████████████████| 50/50 [00:01<00:00, 44.92batch/s]\n",
      "epoch: 313:  10%|██████▊                                                             | 5/50 [00:00<00:00, 45.58batch/s]"
     ]
    },
    {
     "name": "stdout",
     "output_type": "stream",
     "text": [
      "loss training: 0.173806\n",
      "accuracy train: 1.000000 test: 0.842105\n",
      "\n",
      "Parameter containing:\n",
      "tensor([0., 0., 0., 0.], requires_grad=True)\n"
     ]
    },
    {
     "name": "stderr",
     "output_type": "stream",
     "text": [
      "epoch: 313: 100%|███████████████████████████████████████████████████████████████████| 50/50 [00:01<00:00, 44.21batch/s]\n",
      "epoch: 314:  10%|██████▊                                                             | 5/50 [00:00<00:01, 41.43batch/s]"
     ]
    },
    {
     "name": "stdout",
     "output_type": "stream",
     "text": [
      "loss training: 0.182485\n",
      "accuracy train: 1.000000 test: 0.842105\n",
      "\n",
      "Parameter containing:\n",
      "tensor([0., 0., 0., 0.], requires_grad=True)\n"
     ]
    },
    {
     "name": "stderr",
     "output_type": "stream",
     "text": [
      "epoch: 314: 100%|███████████████████████████████████████████████████████████████████| 50/50 [00:01<00:00, 42.06batch/s]\n",
      "epoch: 315:  10%|██████▊                                                             | 5/50 [00:00<00:01, 44.76batch/s]"
     ]
    },
    {
     "name": "stdout",
     "output_type": "stream",
     "text": [
      "loss training: 0.165153\n",
      "accuracy train: 1.000000 test: 0.842105\n",
      "\n",
      "Parameter containing:\n",
      "tensor([0., 0., 0., 0.], requires_grad=True)\n"
     ]
    },
    {
     "name": "stderr",
     "output_type": "stream",
     "text": [
      "epoch: 315: 100%|███████████████████████████████████████████████████████████████████| 50/50 [00:01<00:00, 43.75batch/s]\n",
      "epoch: 316:  10%|██████▊                                                             | 5/50 [00:00<00:01, 41.78batch/s]"
     ]
    },
    {
     "name": "stdout",
     "output_type": "stream",
     "text": [
      "loss training: 0.192889\n",
      "accuracy train: 1.000000 test: 0.842105\n",
      "\n",
      "Parameter containing:\n",
      "tensor([0., 0., 0., 0.], requires_grad=True)\n"
     ]
    },
    {
     "name": "stderr",
     "output_type": "stream",
     "text": [
      "epoch: 316: 100%|███████████████████████████████████████████████████████████████████| 50/50 [00:01<00:00, 43.41batch/s]\n",
      "epoch: 317:  10%|██████▊                                                             | 5/50 [00:00<00:01, 43.98batch/s]"
     ]
    },
    {
     "name": "stdout",
     "output_type": "stream",
     "text": [
      "loss training: 0.173029\n",
      "accuracy train: 1.000000 test: 0.842105\n",
      "\n",
      "Parameter containing:\n",
      "tensor([0., 0., 0., 0.], requires_grad=True)\n"
     ]
    },
    {
     "name": "stderr",
     "output_type": "stream",
     "text": [
      "epoch: 317: 100%|███████████████████████████████████████████████████████████████████| 50/50 [00:01<00:00, 42.70batch/s]\n",
      "epoch: 318:  10%|██████▊                                                             | 5/50 [00:00<00:00, 45.58batch/s]"
     ]
    },
    {
     "name": "stdout",
     "output_type": "stream",
     "text": [
      "loss training: 0.196906\n",
      "accuracy train: 1.000000 test: 0.842105\n",
      "\n",
      "Parameter containing:\n",
      "tensor([0., 0., 0., 0.], requires_grad=True)\n"
     ]
    },
    {
     "name": "stderr",
     "output_type": "stream",
     "text": [
      "epoch: 318: 100%|███████████████████████████████████████████████████████████████████| 50/50 [00:01<00:00, 43.11batch/s]\n",
      "epoch: 319:  10%|██████▊                                                             | 5/50 [00:00<00:01, 44.76batch/s]"
     ]
    },
    {
     "name": "stdout",
     "output_type": "stream",
     "text": [
      "loss training: 0.179142\n",
      "accuracy train: 1.000000 test: 0.842105\n",
      "\n",
      "Parameter containing:\n",
      "tensor([0., 0., 0., 0.], requires_grad=True)\n"
     ]
    },
    {
     "name": "stderr",
     "output_type": "stream",
     "text": [
      "epoch: 319: 100%|███████████████████████████████████████████████████████████████████| 50/50 [00:01<00:00, 42.20batch/s]\n",
      "epoch: 320:  10%|██████▊                                                             | 5/50 [00:00<00:00, 46.85batch/s]"
     ]
    },
    {
     "name": "stdout",
     "output_type": "stream",
     "text": [
      "loss training: 0.173288\n",
      "accuracy train: 1.000000 test: 0.842105\n",
      "\n",
      "Parameter containing:\n",
      "tensor([0., 0., 0., 0.], requires_grad=True)\n"
     ]
    },
    {
     "name": "stderr",
     "output_type": "stream",
     "text": [
      "epoch: 320: 100%|███████████████████████████████████████████████████████████████████| 50/50 [00:01<00:00, 42.70batch/s]\n",
      "epoch: 321:  10%|██████▊                                                             | 5/50 [00:00<00:01, 41.78batch/s]"
     ]
    },
    {
     "name": "stdout",
     "output_type": "stream",
     "text": [
      "loss training: 0.171307\n",
      "accuracy train: 1.000000 test: 0.842105\n",
      "\n",
      "Parameter containing:\n",
      "tensor([0., 0., 0., 0.], requires_grad=True)\n"
     ]
    },
    {
     "name": "stderr",
     "output_type": "stream",
     "text": [
      "epoch: 321: 100%|███████████████████████████████████████████████████████████████████| 50/50 [00:01<00:00, 43.33batch/s]\n",
      "epoch: 322:  10%|██████▊                                                             | 5/50 [00:00<00:00, 45.99batch/s]"
     ]
    },
    {
     "name": "stdout",
     "output_type": "stream",
     "text": [
      "loss training: 0.176925\n",
      "accuracy train: 1.000000 test: 0.842105\n",
      "\n",
      "Parameter containing:\n",
      "tensor([0., 0., 0., 0.], requires_grad=True)\n"
     ]
    },
    {
     "name": "stderr",
     "output_type": "stream",
     "text": [
      "epoch: 322: 100%|███████████████████████████████████████████████████████████████████| 50/50 [00:01<00:00, 43.07batch/s]\n",
      "epoch: 323:  10%|██████▊                                                             | 5/50 [00:00<00:01, 43.22batch/s]"
     ]
    },
    {
     "name": "stdout",
     "output_type": "stream",
     "text": [
      "loss training: 0.178620\n",
      "accuracy train: 1.000000 test: 0.842105\n",
      "\n",
      "Parameter containing:\n",
      "tensor([0., 0., 0., 0.], requires_grad=True)\n"
     ]
    },
    {
     "name": "stderr",
     "output_type": "stream",
     "text": [
      "epoch: 323: 100%|███████████████████████████████████████████████████████████████████| 50/50 [00:01<00:00, 42.63batch/s]\n",
      "epoch: 324:  10%|██████▊                                                             | 5/50 [00:00<00:01, 44.37batch/s]"
     ]
    },
    {
     "name": "stdout",
     "output_type": "stream",
     "text": [
      "loss training: 0.179886\n",
      "accuracy train: 1.000000 test: 0.842105\n",
      "\n",
      "Parameter containing:\n",
      "tensor([0., 0., 0., 0.], requires_grad=True)\n"
     ]
    },
    {
     "name": "stderr",
     "output_type": "stream",
     "text": [
      "epoch: 324: 100%|███████████████████████████████████████████████████████████████████| 50/50 [00:01<00:00, 43.56batch/s]\n",
      "epoch: 325:  10%|██████▊                                                             | 5/50 [00:00<00:00, 48.67batch/s]"
     ]
    },
    {
     "name": "stdout",
     "output_type": "stream",
     "text": [
      "loss training: 0.176438\n",
      "accuracy train: 1.000000 test: 0.842105\n",
      "\n",
      "Parameter containing:\n",
      "tensor([0., 0., 0., 0.], requires_grad=True)\n"
     ]
    },
    {
     "name": "stderr",
     "output_type": "stream",
     "text": [
      "epoch: 325: 100%|███████████████████████████████████████████████████████████████████| 50/50 [00:01<00:00, 43.59batch/s]\n",
      "epoch: 326:  10%|██████▊                                                             | 5/50 [00:00<00:01, 43.98batch/s]"
     ]
    },
    {
     "name": "stdout",
     "output_type": "stream",
     "text": [
      "loss training: 0.178594\n",
      "accuracy train: 1.000000 test: 0.842105\n",
      "\n",
      "Parameter containing:\n",
      "tensor([0., 0., 0., 0.], requires_grad=True)\n"
     ]
    },
    {
     "name": "stderr",
     "output_type": "stream",
     "text": [
      "epoch: 326: 100%|███████████████████████████████████████████████████████████████████| 50/50 [00:01<00:00, 42.78batch/s]\n",
      "epoch: 327:  10%|██████▊                                                             | 5/50 [00:00<00:01, 44.76batch/s]"
     ]
    },
    {
     "name": "stdout",
     "output_type": "stream",
     "text": [
      "loss training: 0.181692\n",
      "accuracy train: 1.000000 test: 0.842105\n",
      "\n",
      "Parameter containing:\n",
      "tensor([0., 0., 0., 0.], requires_grad=True)\n"
     ]
    },
    {
     "name": "stderr",
     "output_type": "stream",
     "text": [
      "epoch: 327: 100%|███████████████████████████████████████████████████████████████████| 50/50 [00:01<00:00, 43.67batch/s]\n",
      "epoch: 328:  10%|██████▊                                                             | 5/50 [00:00<00:01, 43.98batch/s]"
     ]
    },
    {
     "name": "stdout",
     "output_type": "stream",
     "text": [
      "loss training: 0.177379\n",
      "accuracy train: 1.000000 test: 0.842105\n",
      "\n",
      "Parameter containing:\n",
      "tensor([0., 0., 0., 0.], requires_grad=True)\n"
     ]
    },
    {
     "name": "stderr",
     "output_type": "stream",
     "text": [
      "epoch: 328: 100%|███████████████████████████████████████████████████████████████████| 50/50 [00:01<00:00, 42.38batch/s]\n",
      "epoch: 329:  10%|██████▊                                                             | 5/50 [00:00<00:00, 47.29batch/s]"
     ]
    },
    {
     "name": "stdout",
     "output_type": "stream",
     "text": [
      "loss training: 0.166937\n",
      "accuracy train: 1.000000 test: 0.842105\n",
      "\n",
      "Parameter containing:\n",
      "tensor([0., 0., 0., 0.], requires_grad=True)\n"
     ]
    },
    {
     "name": "stderr",
     "output_type": "stream",
     "text": [
      "epoch: 329: 100%|███████████████████████████████████████████████████████████████████| 50/50 [00:01<00:00, 44.29batch/s]\n",
      "epoch: 330:   8%|█████▍                                                              | 4/50 [00:00<00:01, 39.71batch/s]"
     ]
    },
    {
     "name": "stdout",
     "output_type": "stream",
     "text": [
      "loss training: 0.164319\n",
      "accuracy train: 1.000000 test: 0.842105\n",
      "\n",
      "Parameter containing:\n",
      "tensor([0., 0., 0., 0.], requires_grad=True)\n"
     ]
    },
    {
     "name": "stderr",
     "output_type": "stream",
     "text": [
      "epoch: 330: 100%|███████████████████████████████████████████████████████████████████| 50/50 [00:01<00:00, 40.86batch/s]\n",
      "epoch: 331:   8%|█████▍                                                              | 4/50 [00:00<00:01, 31.09batch/s]"
     ]
    },
    {
     "name": "stdout",
     "output_type": "stream",
     "text": [
      "loss training: 0.177746\n",
      "accuracy train: 1.000000 test: 0.842105\n",
      "\n",
      "Parameter containing:\n",
      "tensor([0., 0., 0., 0.], requires_grad=True)\n"
     ]
    },
    {
     "name": "stderr",
     "output_type": "stream",
     "text": [
      "epoch: 331: 100%|███████████████████████████████████████████████████████████████████| 50/50 [00:01<00:00, 32.81batch/s]\n",
      "epoch: 332:   0%|                                                                            | 0/50 [00:00<?, ?batch/s]"
     ]
    },
    {
     "name": "stdout",
     "output_type": "stream",
     "text": [
      "loss training: 0.177698\n",
      "accuracy train: 1.000000 test: 0.842105\n",
      "\n",
      "Parameter containing:\n",
      "tensor([0., 0., 0., 0.], requires_grad=True)\n"
     ]
    },
    {
     "name": "stderr",
     "output_type": "stream",
     "text": [
      "epoch: 332: 100%|███████████████████████████████████████████████████████████████████| 50/50 [00:01<00:00, 36.09batch/s]\n",
      "epoch: 333:   0%|                                                                            | 0/50 [00:00<?, ?batch/s]"
     ]
    },
    {
     "name": "stdout",
     "output_type": "stream",
     "text": [
      "loss training: 0.196324\n",
      "accuracy train: 1.000000 test: 0.842105\n",
      "\n",
      "Parameter containing:\n",
      "tensor([0., 0., 0., 0.], requires_grad=True)\n"
     ]
    },
    {
     "name": "stderr",
     "output_type": "stream",
     "text": [
      "epoch: 333: 100%|███████████████████████████████████████████████████████████████████| 50/50 [00:01<00:00, 34.86batch/s]\n",
      "epoch: 334:  10%|██████▊                                                             | 5/50 [00:00<00:01, 44.76batch/s]"
     ]
    },
    {
     "name": "stdout",
     "output_type": "stream",
     "text": [
      "loss training: 0.161655\n",
      "accuracy train: 1.000000 test: 0.842105\n",
      "\n",
      "Parameter containing:\n",
      "tensor([0., 0., 0., 0.], requires_grad=True)\n"
     ]
    },
    {
     "name": "stderr",
     "output_type": "stream",
     "text": [
      "epoch: 334: 100%|███████████████████████████████████████████████████████████████████| 50/50 [00:01<00:00, 43.75batch/s]\n",
      "epoch: 335:  10%|██████▊                                                             | 5/50 [00:00<00:01, 44.37batch/s]"
     ]
    },
    {
     "name": "stdout",
     "output_type": "stream",
     "text": [
      "loss training: 0.171668\n",
      "accuracy train: 1.000000 test: 0.842105\n",
      "\n",
      "Parameter containing:\n",
      "tensor([0., 0., 0., 0.], requires_grad=True)\n"
     ]
    },
    {
     "name": "stderr",
     "output_type": "stream",
     "text": [
      "epoch: 335: 100%|███████████████████████████████████████████████████████████████████| 50/50 [00:01<00:00, 43.59batch/s]\n",
      "epoch: 336:  10%|██████▊                                                             | 5/50 [00:00<00:01, 43.22batch/s]"
     ]
    },
    {
     "name": "stdout",
     "output_type": "stream",
     "text": [
      "loss training: 0.178177\n",
      "accuracy train: 1.000000 test: 0.842105\n",
      "\n",
      "Parameter containing:\n",
      "tensor([0., 0., 0., 0.], requires_grad=True)\n"
     ]
    },
    {
     "name": "stderr",
     "output_type": "stream",
     "text": [
      "epoch: 336: 100%|███████████████████████████████████████████████████████████████████| 50/50 [00:01<00:00, 43.37batch/s]\n",
      "epoch: 337:  10%|██████▊                                                             | 5/50 [00:00<00:01, 42.49batch/s]"
     ]
    },
    {
     "name": "stdout",
     "output_type": "stream",
     "text": [
      "loss training: 0.159551\n",
      "accuracy train: 1.000000 test: 0.842105\n",
      "\n",
      "Parameter containing:\n",
      "tensor([0., 0., 0., 0.], requires_grad=True)\n"
     ]
    },
    {
     "name": "stderr",
     "output_type": "stream",
     "text": [
      "epoch: 337: 100%|███████████████████████████████████████████████████████████████████| 50/50 [00:01<00:00, 43.22batch/s]\n",
      "epoch: 338:  10%|██████▊                                                             | 5/50 [00:00<00:01, 43.98batch/s]"
     ]
    },
    {
     "name": "stdout",
     "output_type": "stream",
     "text": [
      "loss training: 0.160364\n",
      "accuracy train: 1.000000 test: 0.842105\n",
      "\n",
      "Parameter containing:\n",
      "tensor([0., 0., 0., 0.], requires_grad=True)\n"
     ]
    },
    {
     "name": "stderr",
     "output_type": "stream",
     "text": [
      "epoch: 338: 100%|███████████████████████████████████████████████████████████████████| 50/50 [00:01<00:00, 42.96batch/s]\n",
      "epoch: 339:  10%|██████▊                                                             | 5/50 [00:00<00:00, 45.58batch/s]"
     ]
    },
    {
     "name": "stdout",
     "output_type": "stream",
     "text": [
      "loss training: 0.170765\n",
      "accuracy train: 1.000000 test: 0.842105\n",
      "\n",
      "Parameter containing:\n",
      "tensor([0., 0., 0., 0.], requires_grad=True)\n"
     ]
    },
    {
     "name": "stderr",
     "output_type": "stream",
     "text": [
      "epoch: 339: 100%|███████████████████████████████████████████████████████████████████| 50/50 [00:01<00:00, 43.56batch/s]\n",
      "epoch: 340:  10%|██████▊                                                             | 5/50 [00:00<00:01, 40.11batch/s]"
     ]
    },
    {
     "name": "stdout",
     "output_type": "stream",
     "text": [
      "loss training: 0.168647\n",
      "accuracy train: 1.000000 test: 0.842105\n",
      "\n",
      "Parameter containing:\n",
      "tensor([0., 0., 0., 0.], requires_grad=True)\n"
     ]
    },
    {
     "name": "stderr",
     "output_type": "stream",
     "text": [
      "epoch: 340: 100%|███████████████████████████████████████████████████████████████████| 50/50 [00:01<00:00, 41.88batch/s]\n",
      "epoch: 341:  10%|██████▊                                                             | 5/50 [00:00<00:01, 42.49batch/s]"
     ]
    },
    {
     "name": "stdout",
     "output_type": "stream",
     "text": [
      "loss training: 0.169471\n",
      "accuracy train: 1.000000 test: 0.842105\n",
      "\n",
      "Parameter containing:\n",
      "tensor([0., 0., 0., 0.], requires_grad=True)\n"
     ]
    },
    {
     "name": "stderr",
     "output_type": "stream",
     "text": [
      "epoch: 341: 100%|███████████████████████████████████████████████████████████████████| 50/50 [00:01<00:00, 43.44batch/s]\n",
      "epoch: 342:  10%|██████▊                                                             | 5/50 [00:00<00:01, 42.49batch/s]"
     ]
    },
    {
     "name": "stdout",
     "output_type": "stream",
     "text": [
      "loss training: 0.176406\n",
      "accuracy train: 1.000000 test: 0.842105\n",
      "\n",
      "Parameter containing:\n",
      "tensor([0., 0., 0., 0.], requires_grad=True)\n"
     ]
    },
    {
     "name": "stderr",
     "output_type": "stream",
     "text": [
      "epoch: 342: 100%|███████████████████████████████████████████████████████████████████| 50/50 [00:01<00:00, 41.16batch/s]\n",
      "epoch: 343:  10%|██████▊                                                             | 5/50 [00:00<00:00, 45.17batch/s]"
     ]
    },
    {
     "name": "stdout",
     "output_type": "stream",
     "text": [
      "loss training: 0.161343\n",
      "accuracy train: 1.000000 test: 0.842105\n",
      "\n",
      "Parameter containing:\n",
      "tensor([0., 0., 0., 0.], requires_grad=True)\n"
     ]
    },
    {
     "name": "stderr",
     "output_type": "stream",
     "text": [
      "epoch: 343: 100%|███████████████████████████████████████████████████████████████████| 50/50 [00:01<00:00, 41.19batch/s]\n",
      "epoch: 344:  10%|██████▊                                                             | 5/50 [00:00<00:01, 41.43batch/s]"
     ]
    },
    {
     "name": "stdout",
     "output_type": "stream",
     "text": [
      "loss training: 0.173394\n",
      "accuracy train: 1.000000 test: 0.842105\n",
      "\n",
      "Parameter containing:\n",
      "tensor([0., 0., 0., 0.], requires_grad=True)\n"
     ]
    },
    {
     "name": "stderr",
     "output_type": "stream",
     "text": [
      "epoch: 344: 100%|███████████████████████████████████████████████████████████████████| 50/50 [00:01<00:00, 39.41batch/s]\n",
      "epoch: 345:   8%|█████▍                                                              | 4/50 [00:00<00:01, 39.71batch/s]"
     ]
    },
    {
     "name": "stdout",
     "output_type": "stream",
     "text": [
      "loss training: 0.182941\n",
      "accuracy train: 1.000000 test: 0.842105\n",
      "\n",
      "Parameter containing:\n",
      "tensor([0., 0., 0., 0.], requires_grad=True)\n"
     ]
    },
    {
     "name": "stderr",
     "output_type": "stream",
     "text": [
      "epoch: 345: 100%|███████████████████████████████████████████████████████████████████| 50/50 [00:01<00:00, 41.71batch/s]\n",
      "epoch: 346:   8%|█████▍                                                              | 4/50 [00:00<00:01, 39.71batch/s]"
     ]
    },
    {
     "name": "stdout",
     "output_type": "stream",
     "text": [
      "loss training: 0.166955\n",
      "accuracy train: 1.000000 test: 0.842105\n",
      "\n",
      "Parameter containing:\n",
      "tensor([0., 0., 0., 0.], requires_grad=True)\n"
     ]
    },
    {
     "name": "stderr",
     "output_type": "stream",
     "text": [
      "epoch: 346: 100%|███████████████████████████████████████████████████████████████████| 50/50 [00:01<00:00, 41.30batch/s]\n",
      "epoch: 347:   8%|█████▍                                                              | 4/50 [00:00<00:01, 38.56batch/s]"
     ]
    },
    {
     "name": "stdout",
     "output_type": "stream",
     "text": [
      "loss training: 0.177693\n",
      "accuracy train: 1.000000 test: 0.842105\n",
      "\n",
      "Parameter containing:\n",
      "tensor([0., 0., 0., 0.], requires_grad=True)\n"
     ]
    },
    {
     "name": "stderr",
     "output_type": "stream",
     "text": [
      "epoch: 347: 100%|███████████████████████████████████████████████████████████████████| 50/50 [00:01<00:00, 41.67batch/s]\n",
      "epoch: 348:  10%|██████▊                                                             | 5/50 [00:00<00:01, 40.76batch/s]"
     ]
    },
    {
     "name": "stdout",
     "output_type": "stream",
     "text": [
      "loss training: 0.189393\n",
      "accuracy train: 1.000000 test: 0.842105\n",
      "\n",
      "Parameter containing:\n",
      "tensor([0., 0., 0., 0.], requires_grad=True)\n"
     ]
    },
    {
     "name": "stderr",
     "output_type": "stream",
     "text": [
      "epoch: 348: 100%|███████████████████████████████████████████████████████████████████| 50/50 [00:01<00:00, 41.23batch/s]\n",
      "epoch: 349:   8%|█████▍                                                              | 4/50 [00:00<00:01, 39.71batch/s]"
     ]
    },
    {
     "name": "stdout",
     "output_type": "stream",
     "text": [
      "loss training: 0.172588\n",
      "accuracy train: 1.000000 test: 0.842105\n",
      "\n",
      "Parameter containing:\n",
      "tensor([0., 0., 0., 0.], requires_grad=True)\n"
     ]
    },
    {
     "name": "stderr",
     "output_type": "stream",
     "text": [
      "epoch: 349: 100%|███████████████████████████████████████████████████████████████████| 50/50 [00:01<00:00, 41.30batch/s]\n",
      "epoch: 350:  10%|██████▊                                                             | 5/50 [00:00<00:01, 40.76batch/s]"
     ]
    },
    {
     "name": "stdout",
     "output_type": "stream",
     "text": [
      "loss training: 0.172948\n",
      "accuracy train: 1.000000 test: 0.842105\n",
      "\n",
      "Parameter containing:\n",
      "tensor([0., 0., 0., 0.], requires_grad=True)\n"
     ]
    },
    {
     "name": "stderr",
     "output_type": "stream",
     "text": [
      "epoch: 350: 100%|███████████████████████████████████████████████████████████████████| 50/50 [00:01<00:00, 41.57batch/s]\n"
     ]
    },
    {
     "name": "stdout",
     "output_type": "stream",
     "text": [
      "loss training: 0.164267\n",
      "accuracy train: 1.000000 test: 0.842105\n",
      "\n",
      "Parameter containing:\n",
      "tensor([0., 0., 0., 0.], requires_grad=True)\n"
     ]
    }
   ],
   "source": [
    "## main\n",
    "import argparse\n",
    "import torch\n",
    "import torch.nn as nn\n",
    "import torch.nn.functional as F\n",
    "import torch.optim as optim\n",
    "import numpy as np\n",
    "\n",
    "from tqdm import tqdm\n",
    "\n",
    "# from util import load_data, separate_data\n",
    "# from models.graphcnn import GraphCNN\n",
    "\n",
    "criterion = nn.CrossEntropyLoss()\n",
    "\n",
    "def train(args, model, device, train_graphs, optimizer, epoch):\n",
    "    model.train()\n",
    "\n",
    "    total_iters = args.iters_per_epoch\n",
    "    pbar = tqdm(range(total_iters), unit='batch')\n",
    "\n",
    "    loss_accum = 0\n",
    "    for pos in pbar:\n",
    "        selected_idx = np.random.permutation(len(train_graphs))[:args.batch_size]\n",
    "\n",
    "        batch_graph = [train_graphs[idx] for idx in selected_idx]\n",
    "        output = model(batch_graph)\n",
    "\n",
    "        labels = torch.LongTensor([graph.label for graph in batch_graph]).to(device)\n",
    "\n",
    "        #compute loss\n",
    "        loss = criterion(output, labels)\n",
    "\n",
    "        #backprop\n",
    "        if optimizer is not None:\n",
    "            optimizer.zero_grad()\n",
    "            loss.backward()         \n",
    "            optimizer.step()\n",
    "        \n",
    "\n",
    "        loss = loss.detach().cpu().numpy()\n",
    "        loss_accum += loss\n",
    "\n",
    "        #report\n",
    "        pbar.set_description('epoch: %d' % (epoch))\n",
    "\n",
    "    average_loss = loss_accum/total_iters\n",
    "    print(\"loss training: %f\" % (average_loss))\n",
    "    \n",
    "    return average_loss\n",
    "\n",
    "###pass data to model with minibatch during testing to avoid memory overflow (does not perform backpropagation)\n",
    "def pass_data_iteratively(model, graphs, minibatch_size = 64):\n",
    "    model.eval()\n",
    "    output = []\n",
    "    idx = np.arange(len(graphs))\n",
    "    for i in range(0, len(graphs), minibatch_size):\n",
    "        sampled_idx = idx[i:i+minibatch_size]\n",
    "        if len(sampled_idx) == 0:\n",
    "            continue\n",
    "        output.append(model([graphs[j] for j in sampled_idx]).detach())\n",
    "    return torch.cat(output, 0)\n",
    "\n",
    "def test(args, model, device, train_graphs, test_graphs, epoch):\n",
    "    model.eval()\n",
    "\n",
    "    output = pass_data_iteratively(model, train_graphs)\n",
    "    pred = output.max(1, keepdim=True)[1]\n",
    "    labels = torch.LongTensor([graph.label for graph in train_graphs]).to(device)\n",
    "    correct = pred.eq(labels.view_as(pred)).sum().cpu().item()\n",
    "    acc_train = correct / float(len(train_graphs))\n",
    "\n",
    "    output = pass_data_iteratively(model, test_graphs)\n",
    "    pred = output.max(1, keepdim=True)[1]\n",
    "    labels = torch.LongTensor([graph.label for graph in test_graphs]).to(device)\n",
    "    correct = pred.eq(labels.view_as(pred)).sum().cpu().item()\n",
    "    acc_test = correct / float(len(test_graphs))\n",
    "\n",
    "    print(\"accuracy train: %f test: %f\" % (acc_train, acc_test))\n",
    "\n",
    "    return acc_train, acc_test\n",
    "\n",
    "def main():\n",
    "    # Training settings\n",
    "    # Note: Hyper-parameters need to be tuned in order to obtain results reported in the paper.\n",
    "    parser = argparse.ArgumentParser(description='PyTorch graph convolutional neural net for whole-graph classification')\n",
    "    parser.add_argument('--dataset', type=str, default=\"MUTAG\",\n",
    "                        help='name of dataset (default: MUTAG)')\n",
    "    parser.add_argument('--device', type=int, default=0,\n",
    "                        help='which gpu to use if any (default: 0)')\n",
    "    parser.add_argument('--batch_size', type=int, default=32,\n",
    "                        help='input batch size for training (default: 32)')\n",
    "    parser.add_argument('--iters_per_epoch', type=int, default=50,\n",
    "                        help='number of iterations per each epoch (default: 50)')\n",
    "    parser.add_argument('--epochs', type=int, default=350,\n",
    "                        help='number of epochs to train (default: 350)')\n",
    "    parser.add_argument('--lr', type=float, default=0.01,\n",
    "                        help='learning rate (default: 0.01)')\n",
    "    parser.add_argument('--seed', type=int, default=0,\n",
    "                        help='random seed for splitting the dataset into 10 (default: 0)')\n",
    "    parser.add_argument('--fold_idx', type=int, default=0,\n",
    "                        help='the index of fold in 10-fold validation. Should be less then 10.')\n",
    "    parser.add_argument('--num_layers', type=int, default=5,\n",
    "                        help='number of layers INCLUDING the input one (default: 5)')\n",
    "    parser.add_argument('--num_mlp_layers', type=int, default=2,\n",
    "                        help='number of layers for MLP EXCLUDING the input one (default: 2). 1 means linear model.')\n",
    "    parser.add_argument('--hidden_dim', type=int, default=64,\n",
    "                        help='number of hidden units (default: 64)')\n",
    "    parser.add_argument('--final_dropout', type=float, default=0.5,\n",
    "                        help='final layer dropout (default: 0.5)')\n",
    "    parser.add_argument('--graph_pooling_type', type=str, default=\"average\", choices=[\"sum\", \"average\"],\n",
    "                        help='Pooling for over nodes in a graph: sum or average')\n",
    "    parser.add_argument('--neighbor_pooling_type', type=str, default=\"sum\", choices=[\"sum\", \"average\", \"max\"],\n",
    "                        help='Pooling for over neighboring nodes: sum, average or max')\n",
    "    parser.add_argument('--learn_eps', action=\"store_true\",\n",
    "                                        help='Whether to learn the epsilon weighting for the center nodes. Does not affect training accuracy though.')\n",
    "    parser.add_argument('--degree_as_tag', action=\"store_true\",\n",
    "    \t\t\t\t\thelp='let the input node features be the degree of nodes (heuristics for unlabeled graph)')\n",
    "    parser.add_argument('--filename', type = str, default = \"\",\n",
    "                                        help='output file')\n",
    "    args = parser.parse_args(args=[])\n",
    "\n",
    "    #set up seeds and gpu device\n",
    "    torch.manual_seed(0)\n",
    "    np.random.seed(0)    \n",
    "    device = torch.device(\"cuda:\" + str(args.device)) if torch.cuda.is_available() else torch.device(\"cpu\")\n",
    "    if torch.cuda.is_available():\n",
    "        torch.cuda.manual_seed_all(0)\n",
    "\n",
    "    graphs, num_classes = load_data(args.dataset, args.degree_as_tag)\n",
    "\n",
    "    ##10-fold cross validation. Conduct an experiment on the fold specified by args.fold_idx.\n",
    "    train_graphs, test_graphs = separate_data(graphs, args.seed, args.fold_idx)\n",
    "\n",
    "    model = GraphCNN(args.num_layers, args.num_mlp_layers, train_graphs[0].node_features.shape[1], args.hidden_dim, num_classes, args.final_dropout, args.learn_eps, args.graph_pooling_type, args.neighbor_pooling_type, device).to(device)\n",
    "\n",
    "    optimizer = optim.Adam(model.parameters(), lr=args.lr)\n",
    "    scheduler = optim.lr_scheduler.StepLR(optimizer, step_size=50, gamma=0.5)\n",
    "\n",
    "    max_acc = 0.0\n",
    "    for epoch in range(1, args.epochs + 1):\n",
    "        scheduler.step()\n",
    "\n",
    "        avg_loss = train(args, model, device, train_graphs, optimizer, epoch)\n",
    "        acc_train, acc_test = test(args, model, device, train_graphs, test_graphs, epoch)\n",
    "\n",
    "        max_acc = max(max_acc, acc_test)\n",
    "\n",
    "        if not args.filename == \"\":\n",
    "            with open(args.filename, 'a+') as f:\n",
    "                f.write(\"%f %f %f\" % (avg_loss, acc_train, acc_test))\n",
    "                f.write(\"\\n\")\n",
    "        print(\"\")\n",
    "\n",
    "        print(model.eps)\n",
    "\n",
    "    with open(str(args.dataset)+'acc_results.txt', 'a+') as f:\n",
    "        f.write(str(max_acc) + '\\n')\n",
    "    \n",
    "\n",
    "if __name__ == '__main__':\n",
    "    main()"
   ]
  }
 ],
 "metadata": {
  "kernelspec": {
   "display_name": "Python 3",
   "language": "python",
   "name": "python3"
  },
  "language_info": {
   "codemirror_mode": {
    "name": "ipython",
    "version": 3
   },
   "file_extension": ".py",
   "mimetype": "text/x-python",
   "name": "python",
   "nbconvert_exporter": "python",
   "pygments_lexer": "ipython3",
   "version": "3.8.5"
  }
 },
 "nbformat": 4,
 "nbformat_minor": 4
}
