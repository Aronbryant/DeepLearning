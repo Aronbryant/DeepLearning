{
 "cells": [
  {
   "cell_type": "markdown",
   "metadata": {},
   "source": [
    "## Util"
   ]
  },
  {
   "cell_type": "code",
   "execution_count": 1,
   "metadata": {},
   "outputs": [],
   "source": [
    "import networkx as nx\n",
    "import numpy as np\n",
    "import random\n",
    "import torch\n",
    "from sklearn.model_selection import StratifiedKFold\n",
    "\n",
    "class S2VGraph(object):\n",
    "    def __init__(self, g, label, node_tags=None, node_features=None):\n",
    "        '''\n",
    "            g: a networkx graph\n",
    "            label: an integer graph label\n",
    "            node_tags: a list of integer node tags\n",
    "            node_features: a torch float tensor, one-hot representation of the tag that is used as input to neural nets\n",
    "            edge_mat: a torch long tensor, contain edge list, will be used to create torch sparse tensor\n",
    "            neighbors: list of neighbors (without self-loop)\n",
    "        '''\n",
    "        self.label = label\n",
    "        self.g = g\n",
    "        self.node_tags = node_tags\n",
    "        self.neighbors = []\n",
    "        self.node_features = 0\n",
    "        self.edge_mat = 0\n",
    "\n",
    "        self.max_neighbor = 0\n",
    "\n",
    "\n",
    "def load_data(dataset, degree_as_tag):\n",
    "    '''\n",
    "        dataset: name of dataset\n",
    "        test_proportion: ratio of test train split\n",
    "        seed: random seed for random splitting of dataset\n",
    "    '''\n",
    "\n",
    "    print('loading data')\n",
    "    g_list = []\n",
    "    label_dict = {}\n",
    "    feat_dict = {}\n",
    "\n",
    "    with open('dataset/%s/%s.txt' % (dataset, dataset), 'r') as f:\n",
    "        n_g = int(f.readline().strip())\n",
    "        for i in range(n_g):\n",
    "            row = f.readline().strip().split()\n",
    "            n, l = [int(w) for w in row]\n",
    "            if not l in label_dict:\n",
    "                mapped = len(label_dict)\n",
    "                label_dict[l] = mapped\n",
    "            g = nx.Graph()\n",
    "            node_tags = []\n",
    "            node_features = []\n",
    "            n_edges = 0\n",
    "            for j in range(n):\n",
    "                g.add_node(j)\n",
    "                row = f.readline().strip().split()\n",
    "                tmp = int(row[1]) + 2\n",
    "                if tmp == len(row):\n",
    "                    # no node attributes\n",
    "                    row = [int(w) for w in row]\n",
    "                    attr = None\n",
    "                else:\n",
    "                    row, attr = [int(w) for w in row[:tmp]], np.array([float(w) for w in row[tmp:]])\n",
    "                if not row[0] in feat_dict:\n",
    "                    mapped = len(feat_dict)\n",
    "                    feat_dict[row[0]] = mapped\n",
    "                node_tags.append(feat_dict[row[0]])\n",
    "\n",
    "                if tmp > len(row):\n",
    "                    node_features.append(attr)\n",
    "\n",
    "                n_edges += row[1]\n",
    "                for k in range(2, len(row)):\n",
    "                    g.add_edge(j, row[k])\n",
    "\n",
    "            if node_features != []:\n",
    "                node_features = np.stack(node_features)\n",
    "                node_feature_flag = True\n",
    "            else:\n",
    "                node_features = None\n",
    "                node_feature_flag = False\n",
    "\n",
    "            assert len(g) == n\n",
    "\n",
    "            g_list.append(S2VGraph(g, l, node_tags))\n",
    "\n",
    "    #add labels and edge_mat       \n",
    "    for g in g_list:\n",
    "        g.neighbors = [[] for i in range(len(g.g))]\n",
    "        for i, j in g.g.edges():\n",
    "            g.neighbors[i].append(j)\n",
    "            g.neighbors[j].append(i)\n",
    "        degree_list = []\n",
    "        for i in range(len(g.g)):\n",
    "            g.neighbors[i] = g.neighbors[i]\n",
    "            degree_list.append(len(g.neighbors[i]))\n",
    "        g.max_neighbor = max(degree_list)\n",
    "\n",
    "        g.label = label_dict[g.label]\n",
    "\n",
    "        edges = [list(pair) for pair in g.g.edges()]\n",
    "        edges.extend([[i, j] for j, i in edges])\n",
    "\n",
    "        deg_list = list(dict(g.g.degree(range(len(g.g)))).values())\n",
    "        g.edge_mat = torch.LongTensor(edges).transpose(0,1)\n",
    "\n",
    "    if degree_as_tag:\n",
    "        for g in g_list:\n",
    "            g.node_tags = list(dict(g.g.degree).values())\n",
    "\n",
    "    #Extracting unique tag labels   \n",
    "    tagset = set([])\n",
    "    for g in g_list:\n",
    "        tagset = tagset.union(set(g.node_tags))\n",
    "\n",
    "    tagset = list(tagset)\n",
    "    tag2index = {tagset[i]:i for i in range(len(tagset))}\n",
    "\n",
    "    for g in g_list:\n",
    "        g.node_features = torch.zeros(len(g.node_tags), len(tagset))\n",
    "        g.node_features[range(len(g.node_tags)), [tag2index[tag] for tag in g.node_tags]] = 1\n",
    "\n",
    "\n",
    "    print('# classes: %d' % len(label_dict))\n",
    "    print('# maximum node tag: %d' % len(tagset))\n",
    "\n",
    "    print(\"# data: %d\" % len(g_list))\n",
    "\n",
    "    return g_list, len(label_dict)\n",
    "\n",
    "def separate_data(graph_list, seed, fold_idx):\n",
    "    assert 0 <= fold_idx and fold_idx < 10, \"fold_idx must be from 0 to 9.\"\n",
    "    skf = StratifiedKFold(n_splits=10, shuffle = True, random_state = seed)\n",
    "\n",
    "    labels = [graph.label for graph in graph_list]\n",
    "    idx_list = []\n",
    "    for idx in skf.split(np.zeros(len(labels)), labels):\n",
    "        idx_list.append(idx)\n",
    "    train_idx, test_idx = idx_list[fold_idx]\n",
    "\n",
    "    train_graph_list = [graph_list[i] for i in train_idx]\n",
    "    test_graph_list = [graph_list[i] for i in test_idx]\n",
    "\n",
    "    return train_graph_list, test_graph_list"
   ]
  },
  {
   "cell_type": "markdown",
   "metadata": {},
   "source": [
    "## mlp"
   ]
  },
  {
   "cell_type": "code",
   "execution_count": 2,
   "metadata": {},
   "outputs": [],
   "source": [
    "import torch\n",
    "import torch.nn as nn\n",
    "import torch.nn.functional as F\n",
    "\n",
    "###MLP with lienar output\n",
    "class MLP(nn.Module):\n",
    "    def __init__(self, num_layers, input_dim, hidden_dim, output_dim):\n",
    "        '''\n",
    "            num_layers: number of layers in the neural networks (EXCLUDING the input layer). If num_layers=1, this reduces to linear model.\n",
    "            input_dim: dimensionality of input features\n",
    "            hidden_dim: dimensionality of hidden units at ALL layers\n",
    "            output_dim: number of classes for prediction\n",
    "            device: which device to use\n",
    "        '''\n",
    "    \n",
    "        super(MLP, self).__init__()\n",
    "\n",
    "        self.linear_or_not = True #default is linear model\n",
    "        self.num_layers = num_layers\n",
    "\n",
    "        if num_layers < 1:\n",
    "            raise ValueError(\"number of layers should be positive!\")\n",
    "        elif num_layers == 1:\n",
    "            #Linear model\n",
    "            self.linear = nn.Linear(input_dim, output_dim)\n",
    "        else:\n",
    "            #Multi-layer model\n",
    "            self.linear_or_not = False\n",
    "            self.linears = torch.nn.ModuleList()\n",
    "            self.batch_norms = torch.nn.ModuleList()\n",
    "        \n",
    "            self.linears.append(nn.Linear(input_dim, hidden_dim))\n",
    "            for layer in range(num_layers - 2):\n",
    "                self.linears.append(nn.Linear(hidden_dim, hidden_dim))\n",
    "            self.linears.append(nn.Linear(hidden_dim, output_dim))\n",
    "\n",
    "            for layer in range(num_layers - 1):\n",
    "                self.batch_norms.append(nn.BatchNorm1d((hidden_dim)))\n",
    "\n",
    "    def forward(self, x):\n",
    "        if self.linear_or_not:\n",
    "            #If linear model\n",
    "            return self.linear(x)\n",
    "        else:\n",
    "            #If MLP\n",
    "            h = x\n",
    "            for layer in range(self.num_layers - 1):\n",
    "                h = F.relu(self.batch_norms[layer](self.linears[layer](h)))\n",
    "            return self.linears[self.num_layers - 1](h)"
   ]
  },
  {
   "cell_type": "markdown",
   "metadata": {},
   "source": [
    "## graphcnn"
   ]
  },
  {
   "cell_type": "code",
   "execution_count": 3,
   "metadata": {},
   "outputs": [],
   "source": [
    "import torch\n",
    "import torch.nn as nn\n",
    "import torch.nn.functional as F\n",
    "\n",
    "\n",
    "\n",
    "\n",
    "class GraphCNN(nn.Module):\n",
    "    def __init__(self, num_layers, num_mlp_layers, input_dim, hidden_dim, output_dim, final_dropout, learn_eps, graph_pooling_type, neighbor_pooling_type, device):\n",
    "        '''\n",
    "            num_layers: number of layers in the neural networks (INCLUDING the input layer)\n",
    "            num_mlp_layers: number of layers in mlps (EXCLUDING the input layer)\n",
    "            input_dim: dimensionality of input features\n",
    "            hidden_dim: dimensionality of hidden units at ALL layers\n",
    "            output_dim: number of classes for prediction\n",
    "            final_dropout: dropout ratio on the final linear layer\n",
    "            learn_eps: If True, learn epsilon to distinguish center nodes from neighboring nodes. If False, aggregate neighbors and center nodes altogether. \n",
    "            neighbor_pooling_type: how to aggregate neighbors (mean, average, or max)\n",
    "            graph_pooling_type: how to aggregate entire nodes in a graph (mean, average)\n",
    "            device: which device to use\n",
    "        '''\n",
    "\n",
    "        super(GraphCNN, self).__init__()\n",
    "\n",
    "        self.final_dropout = final_dropout\n",
    "        self.device = device\n",
    "        self.num_layers = num_layers\n",
    "        self.graph_pooling_type = graph_pooling_type\n",
    "        self.neighbor_pooling_type = neighbor_pooling_type\n",
    "        self.learn_eps = learn_eps\n",
    "        self.eps = nn.Parameter(torch.zeros(self.num_layers-1))\n",
    "\n",
    "        ###List of MLPs\n",
    "        self.mlps = torch.nn.ModuleList()\n",
    "\n",
    "        ###List of batchnorms applied to the output of MLP (input of the final prediction linear layer)\n",
    "        self.batch_norms = torch.nn.ModuleList()\n",
    "\n",
    "        for layer in range(self.num_layers-1):\n",
    "            if layer == 0:\n",
    "                self.mlps.append(MLP(num_mlp_layers, input_dim, hidden_dim, hidden_dim))\n",
    "            else:\n",
    "                self.mlps.append(MLP(num_mlp_layers, hidden_dim, hidden_dim, hidden_dim))\n",
    "\n",
    "            self.batch_norms.append(nn.BatchNorm1d(hidden_dim))\n",
    "\n",
    "        #Linear function that maps the hidden representation at dofferemt layers into a prediction score\n",
    "        self.linears_prediction = torch.nn.ModuleList()\n",
    "        for layer in range(num_layers):\n",
    "            if layer == 0:\n",
    "                self.linears_prediction.append(nn.Linear(input_dim, output_dim))\n",
    "            else:\n",
    "                self.linears_prediction.append(nn.Linear(hidden_dim, output_dim))\n",
    "\n",
    "\n",
    "    def __preprocess_neighbors_maxpool(self, batch_graph):\n",
    "        ###create padded_neighbor_list in concatenated graph\n",
    "\n",
    "        #compute the maximum number of neighbors within the graphs in the current minibatch\n",
    "        max_deg = max([graph.max_neighbor for graph in batch_graph])\n",
    "\n",
    "        padded_neighbor_list = []\n",
    "        start_idx = [0]\n",
    "\n",
    "\n",
    "        for i, graph in enumerate(batch_graph):\n",
    "            start_idx.append(start_idx[i] + len(graph.g))\n",
    "            padded_neighbors = []\n",
    "            for j in range(len(graph.neighbors)):\n",
    "                #add off-set values to the neighbor indices\n",
    "                pad = [n + start_idx[i] for n in graph.neighbors[j]]\n",
    "                #padding, dummy data is assumed to be stored in -1\n",
    "                pad.extend([-1]*(max_deg - len(pad)))\n",
    "\n",
    "                #Add center nodes in the maxpooling if learn_eps is False, i.e., aggregate center nodes and neighbor nodes altogether.\n",
    "                if not self.learn_eps:\n",
    "                    pad.append(j + start_idx[i])\n",
    "\n",
    "                padded_neighbors.append(pad)\n",
    "            padded_neighbor_list.extend(padded_neighbors)\n",
    "\n",
    "        return torch.LongTensor(padded_neighbor_list)\n",
    "\n",
    "\n",
    "    def __preprocess_neighbors_sumavepool(self, batch_graph):\n",
    "        ###create block diagonal sparse matrix\n",
    "\n",
    "        edge_mat_list = []\n",
    "        start_idx = [0]\n",
    "        for i, graph in enumerate(batch_graph):\n",
    "            start_idx.append(start_idx[i] + len(graph.g))\n",
    "            edge_mat_list.append(graph.edge_mat + start_idx[i])\n",
    "        Adj_block_idx = torch.cat(edge_mat_list, 1)\n",
    "        Adj_block_elem = torch.ones(Adj_block_idx.shape[1])\n",
    "\n",
    "        #Add self-loops in the adjacency matrix if learn_eps is False, i.e., aggregate center nodes and neighbor nodes altogether.\n",
    "\n",
    "        if not self.learn_eps:\n",
    "            num_node = start_idx[-1]\n",
    "            self_loop_edge = torch.LongTensor([range(num_node), range(num_node)])\n",
    "            elem = torch.ones(num_node)\n",
    "            Adj_block_idx = torch.cat([Adj_block_idx, self_loop_edge], 1)\n",
    "            Adj_block_elem = torch.cat([Adj_block_elem, elem], 0)\n",
    "\n",
    "        Adj_block = torch.sparse.FloatTensor(Adj_block_idx, Adj_block_elem, torch.Size([start_idx[-1],start_idx[-1]]))\n",
    "\n",
    "        return Adj_block.to(self.device)\n",
    "\n",
    "\n",
    "    def __preprocess_graphpool(self, batch_graph):\n",
    "        ###create sum or average pooling sparse matrix over entire nodes in each graph (num graphs x num nodes)\n",
    "        \n",
    "        start_idx = [0]\n",
    "\n",
    "        #compute the padded neighbor list\n",
    "        for i, graph in enumerate(batch_graph):\n",
    "            start_idx.append(start_idx[i] + len(graph.g))\n",
    "\n",
    "        idx = []\n",
    "        elem = []\n",
    "        for i, graph in enumerate(batch_graph):\n",
    "            ###average pooling\n",
    "            if self.graph_pooling_type == \"average\":\n",
    "                elem.extend([1./len(graph.g)]*len(graph.g))\n",
    "            \n",
    "            else:\n",
    "            ###sum pooling\n",
    "                elem.extend([1]*len(graph.g))\n",
    "\n",
    "            idx.extend([[i, j] for j in range(start_idx[i], start_idx[i+1], 1)])\n",
    "        elem = torch.FloatTensor(elem)\n",
    "        idx = torch.LongTensor(idx).transpose(0,1)\n",
    "        graph_pool = torch.sparse.FloatTensor(idx, elem, torch.Size([len(batch_graph), start_idx[-1]]))\n",
    "        \n",
    "        return graph_pool.to(self.device)\n",
    "\n",
    "    def maxpool(self, h, padded_neighbor_list):\n",
    "        ###Element-wise minimum will never affect max-pooling\n",
    "\n",
    "        dummy = torch.min(h, dim = 0)[0]\n",
    "        h_with_dummy = torch.cat([h, dummy.reshape((1, -1)).to(self.device)])\n",
    "        pooled_rep = torch.max(h_with_dummy[padded_neighbor_list], dim = 1)[0]\n",
    "        return pooled_rep\n",
    "\n",
    "\n",
    "    def next_layer_eps(self, h, layer, padded_neighbor_list = None, Adj_block = None):\n",
    "        ###pooling neighboring nodes and center nodes separately by epsilon reweighting. \n",
    "\n",
    "        if self.neighbor_pooling_type == \"max\":\n",
    "            ##If max pooling\n",
    "            pooled = self.maxpool(h, padded_neighbor_list)\n",
    "        else:\n",
    "            #If sum or average pooling\n",
    "            pooled = torch.spmm(Adj_block, h)\n",
    "            if self.neighbor_pooling_type == \"average\":\n",
    "                #If average pooling\n",
    "                degree = torch.spmm(Adj_block, torch.ones((Adj_block.shape[0], 1)).to(self.device))\n",
    "                pooled = pooled/degree\n",
    "\n",
    "        #Reweights the center node representation when aggregating it with its neighbors\n",
    "        pooled = pooled + (1 + self.eps[layer])*h\n",
    "        pooled_rep = self.mlps[layer](pooled)\n",
    "        h = self.batch_norms[layer](pooled_rep)\n",
    "\n",
    "        #non-linearity\n",
    "        h = F.relu(h)\n",
    "        return h\n",
    "\n",
    "\n",
    "    def next_layer(self, h, layer, padded_neighbor_list = None, Adj_block = None):\n",
    "        ###pooling neighboring nodes and center nodes altogether  \n",
    "            \n",
    "        if self.neighbor_pooling_type == \"max\":\n",
    "            ##If max pooling\n",
    "            pooled = self.maxpool(h, padded_neighbor_list)\n",
    "        else:\n",
    "            #If sum or average pooling\n",
    "            pooled = torch.spmm(Adj_block, h)\n",
    "            if self.neighbor_pooling_type == \"average\":\n",
    "                #If average pooling\n",
    "                degree = torch.spmm(Adj_block, torch.ones((Adj_block.shape[0], 1)).to(self.device))\n",
    "                pooled = pooled/degree\n",
    "\n",
    "        #representation of neighboring and center nodes \n",
    "        pooled_rep = self.mlps[layer](pooled)\n",
    "\n",
    "        h = self.batch_norms[layer](pooled_rep)\n",
    "\n",
    "        #non-linearity\n",
    "        h = F.relu(h)\n",
    "        return h\n",
    "\n",
    "\n",
    "    def forward(self, batch_graph):\n",
    "        X_concat = torch.cat([graph.node_features for graph in batch_graph], 0).to(self.device)\n",
    "        graph_pool = self.__preprocess_graphpool(batch_graph)\n",
    "\n",
    "        if self.neighbor_pooling_type == \"max\":\n",
    "            padded_neighbor_list = self.__preprocess_neighbors_maxpool(batch_graph)\n",
    "        else:\n",
    "            Adj_block = self.__preprocess_neighbors_sumavepool(batch_graph)\n",
    "\n",
    "        #list of hidden representation at each layer (including input)\n",
    "        hidden_rep = [X_concat]\n",
    "        h = X_concat\n",
    "\n",
    "        for layer in range(self.num_layers-1):\n",
    "            if self.neighbor_pooling_type == \"max\" and self.learn_eps:\n",
    "                h = self.next_layer_eps(h, layer, padded_neighbor_list = padded_neighbor_list)\n",
    "            elif not self.neighbor_pooling_type == \"max\" and self.learn_eps:\n",
    "                h = self.next_layer_eps(h, layer, Adj_block = Adj_block)\n",
    "            elif self.neighbor_pooling_type == \"max\" and not self.learn_eps:\n",
    "                h = self.next_layer(h, layer, padded_neighbor_list = padded_neighbor_list)\n",
    "            elif not self.neighbor_pooling_type == \"max\" and not self.learn_eps:\n",
    "                h = self.next_layer(h, layer, Adj_block = Adj_block)\n",
    "\n",
    "            hidden_rep.append(h)\n",
    "\n",
    "        score_over_layer = 0\n",
    "    \n",
    "        #perform pooling over all nodes in each graph in every layer\n",
    "        for layer, h in enumerate(hidden_rep):\n",
    "            pooled_h = torch.spmm(graph_pool, h)\n",
    "            score_over_layer += F.dropout(self.linears_prediction[layer](pooled_h), self.final_dropout, training = self.training)\n",
    "\n",
    "        return score_over_layer"
   ]
  },
  {
   "cell_type": "markdown",
   "metadata": {},
   "source": [
    "## main "
   ]
  },
  {
   "cell_type": "code",
   "execution_count": 9,
   "metadata": {},
   "outputs": [
    {
     "name": "stderr",
     "output_type": "stream",
     "text": [
      "C:\\Users\\aron\\anaconda3\\lib\\site-packages\\torch\\optim\\lr_scheduler.py:129: UserWarning: Detected call of `lr_scheduler.step()` before `optimizer.step()`. In PyTorch 1.1.0 and later, you should call them in the opposite order: `optimizer.step()` before `lr_scheduler.step()`.  Failure to do this will result in PyTorch skipping the first value of the learning rate schedule. See more details at https://pytorch.org/docs/stable/optim.html#how-to-adjust-learning-rate\n",
      "  warnings.warn(\"Detected call of `lr_scheduler.step()` before `optimizer.step()`. \"\n",
      "epoch: 1:   0%|                                                                              | 0/50 [00:00<?, ?batch/s]"
     ]
    },
    {
     "name": "stdout",
     "output_type": "stream",
     "text": [
      "loading data\n",
      "# classes: 2\n",
      "# maximum node tag: 7\n",
      "# data: 188\n"
     ]
    },
    {
     "name": "stderr",
     "output_type": "stream",
     "text": [
      "epoch: 1: 100%|█████████████████████████████████████████████████████████████████████| 50/50 [00:00<00:00, 53.99batch/s]\n",
      "epoch: 2:  12%|████████▍                                                             | 6/50 [00:00<00:00, 57.85batch/s]"
     ]
    },
    {
     "name": "stdout",
     "output_type": "stream",
     "text": [
      "loss training: 2.219331\n",
      "accuracy train: 0.852071 test: 0.789474\n",
      "\n",
      "Parameter containing:\n",
      "tensor([0., 0., 0., 0.], requires_grad=True)\n"
     ]
    },
    {
     "name": "stderr",
     "output_type": "stream",
     "text": [
      "epoch: 2: 100%|█████████████████████████████████████████████████████████████████████| 50/50 [00:00<00:00, 56.58batch/s]\n",
      "epoch: 3:  12%|████████▍                                                             | 6/50 [00:00<00:00, 56.22batch/s]"
     ]
    },
    {
     "name": "stdout",
     "output_type": "stream",
     "text": [
      "loss training: 1.150593\n",
      "accuracy train: 0.857988 test: 0.894737\n",
      "\n",
      "Parameter containing:\n",
      "tensor([0., 0., 0., 0.], requires_grad=True)\n"
     ]
    },
    {
     "name": "stderr",
     "output_type": "stream",
     "text": [
      "epoch: 3: 100%|█████████████████████████████████████████████████████████████████████| 50/50 [00:00<00:00, 54.61batch/s]\n",
      "epoch: 4:  12%|████████▍                                                             | 6/50 [00:00<00:00, 56.76batch/s]"
     ]
    },
    {
     "name": "stdout",
     "output_type": "stream",
     "text": [
      "loss training: 0.603797\n",
      "accuracy train: 0.917160 test: 0.842105\n",
      "\n",
      "Parameter containing:\n",
      "tensor([0., 0., 0., 0.], requires_grad=True)\n"
     ]
    },
    {
     "name": "stderr",
     "output_type": "stream",
     "text": [
      "epoch: 4: 100%|█████████████████████████████████████████████████████████████████████| 50/50 [00:00<00:00, 56.33batch/s]\n",
      "epoch: 5:  12%|████████▍                                                             | 6/50 [00:00<00:00, 55.19batch/s]"
     ]
    },
    {
     "name": "stdout",
     "output_type": "stream",
     "text": [
      "loss training: 0.555342\n",
      "accuracy train: 0.875740 test: 0.842105\n",
      "\n",
      "Parameter containing:\n",
      "tensor([0., 0., 0., 0.], requires_grad=True)\n"
     ]
    },
    {
     "name": "stderr",
     "output_type": "stream",
     "text": [
      "epoch: 5: 100%|█████████████████████████████████████████████████████████████████████| 50/50 [00:00<00:00, 51.10batch/s]\n",
      "epoch: 6:  12%|████████▍                                                             | 6/50 [00:00<00:00, 55.19batch/s]"
     ]
    },
    {
     "name": "stdout",
     "output_type": "stream",
     "text": [
      "loss training: 0.458655\n",
      "accuracy train: 0.923077 test: 0.842105\n",
      "\n",
      "Parameter containing:\n",
      "tensor([0., 0., 0., 0.], requires_grad=True)\n"
     ]
    },
    {
     "name": "stderr",
     "output_type": "stream",
     "text": [
      "epoch: 6: 100%|█████████████████████████████████████████████████████████████████████| 50/50 [00:00<00:00, 56.61batch/s]\n",
      "epoch: 7:  14%|█████████▊                                                            | 7/50 [00:00<00:00, 61.03batch/s]"
     ]
    },
    {
     "name": "stdout",
     "output_type": "stream",
     "text": [
      "loss training: 0.692480\n",
      "accuracy train: 0.905325 test: 0.894737\n",
      "\n",
      "Parameter containing:\n",
      "tensor([0., 0., 0., 0.], requires_grad=True)\n"
     ]
    },
    {
     "name": "stderr",
     "output_type": "stream",
     "text": [
      "epoch: 7: 100%|█████████████████████████████████████████████████████████████████████| 50/50 [00:00<00:00, 57.56batch/s]\n",
      "epoch: 8:   0%|                                                                              | 0/50 [00:00<?, ?batch/s]"
     ]
    },
    {
     "name": "stdout",
     "output_type": "stream",
     "text": [
      "loss training: 0.511074\n",
      "accuracy train: 0.917160 test: 0.894737\n",
      "\n",
      "Parameter containing:\n",
      "tensor([0., 0., 0., 0.], requires_grad=True)\n"
     ]
    },
    {
     "name": "stderr",
     "output_type": "stream",
     "text": [
      "epoch: 8: 100%|█████████████████████████████████████████████████████████████████████| 50/50 [00:00<00:00, 57.76batch/s]\n",
      "epoch: 9:  12%|████████▍                                                             | 6/50 [00:00<00:00, 48.91batch/s]"
     ]
    },
    {
     "name": "stdout",
     "output_type": "stream",
     "text": [
      "loss training: 0.440981\n",
      "accuracy train: 0.923077 test: 0.894737\n",
      "\n",
      "Parameter containing:\n",
      "tensor([0., 0., 0., 0.], requires_grad=True)\n"
     ]
    },
    {
     "name": "stderr",
     "output_type": "stream",
     "text": [
      "epoch: 9: 100%|█████████████████████████████████████████████████████████████████████| 50/50 [00:00<00:00, 55.34batch/s]\n",
      "epoch: 10:  12%|████████▎                                                            | 6/50 [00:00<00:00, 57.30batch/s]"
     ]
    },
    {
     "name": "stdout",
     "output_type": "stream",
     "text": [
      "loss training: 0.296610\n",
      "accuracy train: 0.917160 test: 0.842105\n",
      "\n",
      "Parameter containing:\n",
      "tensor([0., 0., 0., 0.], requires_grad=True)\n"
     ]
    },
    {
     "name": "stderr",
     "output_type": "stream",
     "text": [
      "epoch: 10: 100%|████████████████████████████████████████████████████████████████████| 50/50 [00:00<00:00, 58.43batch/s]\n",
      "epoch: 11:  14%|█████████▋                                                           | 7/50 [00:00<00:00, 63.81batch/s]"
     ]
    },
    {
     "name": "stdout",
     "output_type": "stream",
     "text": [
      "loss training: 0.255252\n",
      "accuracy train: 0.923077 test: 0.894737\n",
      "\n",
      "Parameter containing:\n",
      "tensor([0., 0., 0., 0.], requires_grad=True)\n"
     ]
    },
    {
     "name": "stderr",
     "output_type": "stream",
     "text": [
      "epoch: 11: 100%|████████████████████████████████████████████████████████████████████| 50/50 [00:00<00:00, 57.16batch/s]\n",
      "epoch: 12:  14%|█████████▋                                                           | 7/50 [00:00<00:00, 62.12batch/s]"
     ]
    },
    {
     "name": "stdout",
     "output_type": "stream",
     "text": [
      "loss training: 0.362314\n",
      "accuracy train: 0.905325 test: 0.894737\n",
      "\n",
      "Parameter containing:\n",
      "tensor([0., 0., 0., 0.], requires_grad=True)\n"
     ]
    },
    {
     "name": "stderr",
     "output_type": "stream",
     "text": [
      "epoch: 12: 100%|████████████████████████████████████████████████████████████████████| 50/50 [00:00<00:00, 58.50batch/s]\n",
      "epoch: 13:  12%|████████▎                                                            | 6/50 [00:00<00:00, 57.30batch/s]"
     ]
    },
    {
     "name": "stdout",
     "output_type": "stream",
     "text": [
      "loss training: 0.242109\n",
      "accuracy train: 0.952663 test: 0.894737\n",
      "\n",
      "Parameter containing:\n",
      "tensor([0., 0., 0., 0.], requires_grad=True)\n"
     ]
    },
    {
     "name": "stderr",
     "output_type": "stream",
     "text": [
      "epoch: 13: 100%|████████████████████████████████████████████████████████████████████| 50/50 [00:00<00:00, 59.47batch/s]\n",
      "epoch: 14:  14%|█████████▋                                                           | 7/50 [00:00<00:00, 62.11batch/s]"
     ]
    },
    {
     "name": "stdout",
     "output_type": "stream",
     "text": [
      "loss training: 0.193222\n",
      "accuracy train: 0.928994 test: 0.842105\n",
      "\n",
      "Parameter containing:\n",
      "tensor([0., 0., 0., 0.], requires_grad=True)\n"
     ]
    },
    {
     "name": "stderr",
     "output_type": "stream",
     "text": [
      "epoch: 14: 100%|████████████████████████████████████████████████████████████████████| 50/50 [00:00<00:00, 60.18batch/s]\n",
      "epoch: 15:  14%|█████████▋                                                           | 7/50 [00:00<00:00, 62.67batch/s]"
     ]
    },
    {
     "name": "stdout",
     "output_type": "stream",
     "text": [
      "loss training: 0.256671\n",
      "accuracy train: 0.923077 test: 0.894737\n",
      "\n",
      "Parameter containing:\n",
      "tensor([0., 0., 0., 0.], requires_grad=True)\n"
     ]
    },
    {
     "name": "stderr",
     "output_type": "stream",
     "text": [
      "epoch: 15: 100%|████████████████████████████████████████████████████████████████████| 50/50 [00:00<00:00, 58.77batch/s]\n",
      "epoch: 16:  14%|█████████▋                                                           | 7/50 [00:00<00:00, 61.57batch/s]"
     ]
    },
    {
     "name": "stdout",
     "output_type": "stream",
     "text": [
      "loss training: 0.257732\n",
      "accuracy train: 0.946746 test: 0.842105\n",
      "\n",
      "Parameter containing:\n",
      "tensor([0., 0., 0., 0.], requires_grad=True)\n"
     ]
    },
    {
     "name": "stderr",
     "output_type": "stream",
     "text": [
      "epoch: 16: 100%|████████████████████████████████████████████████████████████████████| 50/50 [00:00<00:00, 59.05batch/s]\n",
      "epoch: 17:  12%|████████▎                                                            | 6/50 [00:00<00:00, 58.41batch/s]"
     ]
    },
    {
     "name": "stdout",
     "output_type": "stream",
     "text": [
      "loss training: 0.212329\n",
      "accuracy train: 0.917160 test: 0.894737\n",
      "\n",
      "Parameter containing:\n",
      "tensor([0., 0., 0., 0.], requires_grad=True)\n"
     ]
    },
    {
     "name": "stderr",
     "output_type": "stream",
     "text": [
      "epoch: 17: 100%|████████████████████████████████████████████████████████████████████| 50/50 [00:00<00:00, 59.33batch/s]\n",
      "epoch: 18:  12%|████████▎                                                            | 6/50 [00:00<00:00, 57.30batch/s]"
     ]
    },
    {
     "name": "stdout",
     "output_type": "stream",
     "text": [
      "loss training: 0.209942\n",
      "accuracy train: 0.952663 test: 0.842105\n",
      "\n",
      "Parameter containing:\n",
      "tensor([0., 0., 0., 0.], requires_grad=True)\n"
     ]
    },
    {
     "name": "stderr",
     "output_type": "stream",
     "text": [
      "epoch: 18: 100%|████████████████████████████████████████████████████████████████████| 50/50 [00:00<00:00, 58.03batch/s]\n",
      "epoch: 19:  14%|█████████▋                                                           | 7/50 [00:00<00:00, 61.57batch/s]"
     ]
    },
    {
     "name": "stdout",
     "output_type": "stream",
     "text": [
      "loss training: 0.180668\n",
      "accuracy train: 0.946746 test: 0.842105\n",
      "\n",
      "Parameter containing:\n",
      "tensor([0., 0., 0., 0.], requires_grad=True)\n"
     ]
    },
    {
     "name": "stderr",
     "output_type": "stream",
     "text": [
      "epoch: 19: 100%|████████████████████████████████████████████████████████████████████| 50/50 [00:00<00:00, 60.33batch/s]\n",
      "epoch: 20:  12%|████████▎                                                            | 6/50 [00:00<00:00, 55.19batch/s]"
     ]
    },
    {
     "name": "stdout",
     "output_type": "stream",
     "text": [
      "loss training: 0.152040\n",
      "accuracy train: 0.946746 test: 0.842105\n",
      "\n",
      "Parameter containing:\n",
      "tensor([0., 0., 0., 0.], requires_grad=True)\n"
     ]
    },
    {
     "name": "stderr",
     "output_type": "stream",
     "text": [
      "epoch: 20: 100%|████████████████████████████████████████████████████████████████████| 50/50 [00:00<00:00, 56.20batch/s]\n",
      "epoch: 21:  14%|█████████▋                                                           | 7/50 [00:00<00:00, 60.51batch/s]"
     ]
    },
    {
     "name": "stdout",
     "output_type": "stream",
     "text": [
      "loss training: 0.154349\n",
      "accuracy train: 0.863905 test: 0.947368\n",
      "\n",
      "Parameter containing:\n",
      "tensor([0., 0., 0., 0.], requires_grad=True)\n"
     ]
    },
    {
     "name": "stderr",
     "output_type": "stream",
     "text": [
      "epoch: 21: 100%|████████████████████████████████████████████████████████████████████| 50/50 [00:00<00:00, 58.91batch/s]\n",
      "epoch: 22:  14%|█████████▋                                                           | 7/50 [00:00<00:00, 61.57batch/s]"
     ]
    },
    {
     "name": "stdout",
     "output_type": "stream",
     "text": [
      "loss training: 0.247159\n",
      "accuracy train: 0.952663 test: 0.842105\n",
      "\n",
      "Parameter containing:\n",
      "tensor([0., 0., 0., 0.], requires_grad=True)\n"
     ]
    },
    {
     "name": "stderr",
     "output_type": "stream",
     "text": [
      "epoch: 22: 100%|████████████████████████████████████████████████████████████████████| 50/50 [00:00<00:00, 59.12batch/s]\n",
      "epoch: 23:  10%|██████▉                                                              | 5/50 [00:00<00:00, 45.58batch/s]"
     ]
    },
    {
     "name": "stdout",
     "output_type": "stream",
     "text": [
      "loss training: 0.174436\n",
      "accuracy train: 0.976331 test: 0.842105\n",
      "\n",
      "Parameter containing:\n",
      "tensor([0., 0., 0., 0.], requires_grad=True)\n"
     ]
    },
    {
     "name": "stderr",
     "output_type": "stream",
     "text": [
      "epoch: 23: 100%|████████████████████████████████████████████████████████████████████| 50/50 [00:00<00:00, 55.64batch/s]\n",
      "epoch: 24:  14%|█████████▋                                                           | 7/50 [00:00<00:00, 61.03batch/s]"
     ]
    },
    {
     "name": "stdout",
     "output_type": "stream",
     "text": [
      "loss training: 0.153560\n",
      "accuracy train: 0.964497 test: 0.894737\n",
      "\n",
      "Parameter containing:\n",
      "tensor([0., 0., 0., 0.], requires_grad=True)\n"
     ]
    },
    {
     "name": "stderr",
     "output_type": "stream",
     "text": [
      "epoch: 24: 100%|████████████████████████████████████████████████████████████████████| 50/50 [00:00<00:00, 60.04batch/s]\n",
      "epoch: 25:  14%|█████████▋                                                           | 7/50 [00:00<00:00, 63.81batch/s]"
     ]
    },
    {
     "name": "stdout",
     "output_type": "stream",
     "text": [
      "loss training: 0.134305\n",
      "accuracy train: 0.982249 test: 0.842105\n",
      "\n",
      "Parameter containing:\n",
      "tensor([0., 0., 0., 0.], requires_grad=True)\n"
     ]
    },
    {
     "name": "stderr",
     "output_type": "stream",
     "text": [
      "epoch: 25: 100%|████████████████████████████████████████████████████████████████████| 50/50 [00:00<00:00, 57.96batch/s]\n",
      "epoch: 26:  12%|████████▎                                                            | 6/50 [00:00<00:00, 58.98batch/s]"
     ]
    },
    {
     "name": "stdout",
     "output_type": "stream",
     "text": [
      "loss training: 0.150995\n",
      "accuracy train: 0.905325 test: 0.789474\n",
      "\n",
      "Parameter containing:\n",
      "tensor([0., 0., 0., 0.], requires_grad=True)\n"
     ]
    },
    {
     "name": "stderr",
     "output_type": "stream",
     "text": [
      "epoch: 26: 100%|████████████████████████████████████████████████████████████████████| 50/50 [00:00<00:00, 59.54batch/s]\n",
      "epoch: 27:  14%|█████████▋                                                           | 7/50 [00:00<00:00, 61.03batch/s]"
     ]
    },
    {
     "name": "stdout",
     "output_type": "stream",
     "text": [
      "loss training: 0.145400\n",
      "accuracy train: 0.970414 test: 0.894737\n",
      "\n",
      "Parameter containing:\n",
      "tensor([0., 0., 0., 0.], requires_grad=True)\n"
     ]
    },
    {
     "name": "stderr",
     "output_type": "stream",
     "text": [
      "epoch: 27: 100%|████████████████████████████████████████████████████████████████████| 50/50 [00:00<00:00, 58.91batch/s]\n",
      "epoch: 28:  12%|████████▎                                                            | 6/50 [00:00<00:00, 58.98batch/s]"
     ]
    },
    {
     "name": "stdout",
     "output_type": "stream",
     "text": [
      "loss training: 0.087635\n",
      "accuracy train: 0.982249 test: 0.842105\n",
      "\n",
      "Parameter containing:\n",
      "tensor([0., 0., 0., 0.], requires_grad=True)\n"
     ]
    },
    {
     "name": "stderr",
     "output_type": "stream",
     "text": [
      "epoch: 28: 100%|████████████████████████████████████████████████████████████████████| 50/50 [00:00<00:00, 54.26batch/s]\n",
      "epoch: 29:  12%|████████▎                                                            | 6/50 [00:00<00:00, 52.77batch/s]"
     ]
    },
    {
     "name": "stdout",
     "output_type": "stream",
     "text": [
      "loss training: 0.103641\n",
      "accuracy train: 0.834320 test: 0.947368\n",
      "\n",
      "Parameter containing:\n",
      "tensor([0., 0., 0., 0.], requires_grad=True)\n"
     ]
    },
    {
     "name": "stderr",
     "output_type": "stream",
     "text": [
      "epoch: 29: 100%|████████████████████████████████████████████████████████████████████| 50/50 [00:00<00:00, 54.61batch/s]\n",
      "epoch: 30:  10%|██████▉                                                              | 5/50 [00:00<00:00, 48.67batch/s]"
     ]
    },
    {
     "name": "stdout",
     "output_type": "stream",
     "text": [
      "loss training: 0.209494\n",
      "accuracy train: 0.970414 test: 0.842105\n",
      "\n",
      "Parameter containing:\n",
      "tensor([0., 0., 0., 0.], requires_grad=True)\n"
     ]
    },
    {
     "name": "stderr",
     "output_type": "stream",
     "text": [
      "epoch: 30: 100%|████████████████████████████████████████████████████████████████████| 50/50 [00:00<00:00, 53.11batch/s]\n",
      "epoch: 31:  12%|████████▎                                                            | 6/50 [00:00<00:00, 55.70batch/s]"
     ]
    },
    {
     "name": "stdout",
     "output_type": "stream",
     "text": [
      "loss training: 0.113308\n",
      "accuracy train: 0.976331 test: 0.842105\n",
      "\n",
      "Parameter containing:\n",
      "tensor([0., 0., 0., 0.], requires_grad=True)\n"
     ]
    },
    {
     "name": "stderr",
     "output_type": "stream",
     "text": [
      "epoch: 31: 100%|████████████████████████████████████████████████████████████████████| 50/50 [00:00<00:00, 53.33batch/s]\n",
      "epoch: 32:  12%|████████▎                                                            | 6/50 [00:00<00:00, 50.55batch/s]"
     ]
    },
    {
     "name": "stdout",
     "output_type": "stream",
     "text": [
      "loss training: 0.115163\n",
      "accuracy train: 0.988166 test: 0.842105\n",
      "\n",
      "Parameter containing:\n",
      "tensor([0., 0., 0., 0.], requires_grad=True)\n"
     ]
    },
    {
     "name": "stderr",
     "output_type": "stream",
     "text": [
      "epoch: 32: 100%|████████████████████████████████████████████████████████████████████| 50/50 [00:00<00:00, 52.33batch/s]\n",
      "epoch: 33:  10%|██████▉                                                              | 5/50 [00:00<00:00, 48.67batch/s]"
     ]
    },
    {
     "name": "stdout",
     "output_type": "stream",
     "text": [
      "loss training: 0.116773\n",
      "accuracy train: 0.970414 test: 0.894737\n",
      "\n",
      "Parameter containing:\n",
      "tensor([0., 0., 0., 0.], requires_grad=True)\n"
     ]
    },
    {
     "name": "stderr",
     "output_type": "stream",
     "text": [
      "epoch: 33: 100%|████████████████████████████████████████████████████████████████████| 50/50 [00:00<00:00, 52.44batch/s]\n",
      "epoch: 34:  12%|████████▎                                                            | 6/50 [00:00<00:00, 57.02batch/s]"
     ]
    },
    {
     "name": "stdout",
     "output_type": "stream",
     "text": [
      "loss training: 0.155200\n",
      "accuracy train: 0.952663 test: 0.789474\n",
      "\n",
      "Parameter containing:\n",
      "tensor([0., 0., 0., 0.], requires_grad=True)\n"
     ]
    },
    {
     "name": "stderr",
     "output_type": "stream",
     "text": [
      "epoch: 34: 100%|████████████████████████████████████████████████████████████████████| 50/50 [00:00<00:00, 54.34batch/s]\n",
      "epoch: 35:  12%|████████▎                                                            | 6/50 [00:00<00:00, 54.20batch/s]"
     ]
    },
    {
     "name": "stdout",
     "output_type": "stream",
     "text": [
      "loss training: 0.122717\n",
      "accuracy train: 0.970414 test: 0.894737\n",
      "\n",
      "Parameter containing:\n",
      "tensor([0., 0., 0., 0.], requires_grad=True)\n"
     ]
    },
    {
     "name": "stderr",
     "output_type": "stream",
     "text": [
      "epoch: 35: 100%|████████████████████████████████████████████████████████████████████| 50/50 [00:00<00:00, 54.43batch/s]\n",
      "epoch: 36:  12%|████████▎                                                            | 6/50 [00:00<00:00, 53.72batch/s]"
     ]
    },
    {
     "name": "stdout",
     "output_type": "stream",
     "text": [
      "loss training: 0.168598\n",
      "accuracy train: 0.952663 test: 0.842105\n",
      "\n",
      "Parameter containing:\n",
      "tensor([0., 0., 0., 0.], requires_grad=True)\n"
     ]
    },
    {
     "name": "stderr",
     "output_type": "stream",
     "text": [
      "epoch: 36: 100%|████████████████████████████████████████████████████████████████████| 50/50 [00:00<00:00, 56.02batch/s]\n",
      "epoch: 37:  14%|█████████▋                                                           | 7/50 [00:00<00:00, 60.76batch/s]"
     ]
    },
    {
     "name": "stdout",
     "output_type": "stream",
     "text": [
      "loss training: 0.119588\n",
      "accuracy train: 0.976331 test: 0.842105\n",
      "\n",
      "Parameter containing:\n",
      "tensor([0., 0., 0., 0.], requires_grad=True)\n"
     ]
    },
    {
     "name": "stderr",
     "output_type": "stream",
     "text": [
      "epoch: 37: 100%|████████████████████████████████████████████████████████████████████| 50/50 [00:00<00:00, 56.30batch/s]\n",
      "epoch: 38:  12%|████████▎                                                            | 6/50 [00:00<00:00, 54.20batch/s]"
     ]
    },
    {
     "name": "stdout",
     "output_type": "stream",
     "text": [
      "loss training: 0.132414\n",
      "accuracy train: 0.982249 test: 0.894737\n",
      "\n",
      "Parameter containing:\n",
      "tensor([0., 0., 0., 0.], requires_grad=True)\n"
     ]
    },
    {
     "name": "stderr",
     "output_type": "stream",
     "text": [
      "epoch: 38: 100%|████████████████████████████████████████████████████████████████████| 50/50 [00:00<00:00, 55.40batch/s]\n",
      "epoch: 39:  12%|████████▎                                                            | 6/50 [00:00<00:00, 58.41batch/s]"
     ]
    },
    {
     "name": "stdout",
     "output_type": "stream",
     "text": [
      "loss training: 0.106402\n",
      "accuracy train: 0.964497 test: 0.842105\n",
      "\n",
      "Parameter containing:\n",
      "tensor([0., 0., 0., 0.], requires_grad=True)\n"
     ]
    },
    {
     "name": "stderr",
     "output_type": "stream",
     "text": [
      "epoch: 39: 100%|████████████████████████████████████████████████████████████████████| 50/50 [00:00<00:00, 56.20batch/s]\n",
      "epoch: 40:  12%|████████▎                                                            | 6/50 [00:00<00:00, 57.30batch/s]"
     ]
    },
    {
     "name": "stdout",
     "output_type": "stream",
     "text": [
      "loss training: 0.104067\n",
      "accuracy train: 0.988166 test: 0.894737\n",
      "\n",
      "Parameter containing:\n",
      "tensor([0., 0., 0., 0.], requires_grad=True)\n"
     ]
    },
    {
     "name": "stderr",
     "output_type": "stream",
     "text": [
      "epoch: 40: 100%|████████████████████████████████████████████████████████████████████| 50/50 [00:00<00:00, 55.09batch/s]\n",
      "epoch: 41:  12%|████████▎                                                            | 6/50 [00:00<00:00, 57.85batch/s]"
     ]
    },
    {
     "name": "stdout",
     "output_type": "stream",
     "text": [
      "loss training: 0.112116\n",
      "accuracy train: 0.846154 test: 0.736842\n",
      "\n",
      "Parameter containing:\n",
      "tensor([0., 0., 0., 0.], requires_grad=True)\n"
     ]
    },
    {
     "name": "stderr",
     "output_type": "stream",
     "text": [
      "epoch: 41: 100%|████████████████████████████████████████████████████████████████████| 50/50 [00:00<00:00, 58.23batch/s]\n",
      "epoch: 42:  14%|█████████▋                                                           | 7/50 [00:00<00:00, 59.48batch/s]"
     ]
    },
    {
     "name": "stdout",
     "output_type": "stream",
     "text": [
      "loss training: 0.129955\n",
      "accuracy train: 0.822485 test: 0.736842\n",
      "\n",
      "Parameter containing:\n",
      "tensor([0., 0., 0., 0.], requires_grad=True)\n"
     ]
    },
    {
     "name": "stderr",
     "output_type": "stream",
     "text": [
      "epoch: 42: 100%|████████████████████████████████████████████████████████████████████| 50/50 [00:00<00:00, 59.19batch/s]\n",
      "epoch: 43:  12%|████████▎                                                            | 6/50 [00:00<00:00, 58.98batch/s]"
     ]
    },
    {
     "name": "stdout",
     "output_type": "stream",
     "text": [
      "loss training: 0.243428\n",
      "accuracy train: 0.940828 test: 0.842105\n",
      "\n",
      "Parameter containing:\n",
      "tensor([0., 0., 0., 0.], requires_grad=True)\n"
     ]
    },
    {
     "name": "stderr",
     "output_type": "stream",
     "text": [
      "epoch: 43: 100%|████████████████████████████████████████████████████████████████████| 50/50 [00:00<00:00, 57.96batch/s]\n",
      "epoch: 44:  12%|████████▎                                                            | 6/50 [00:00<00:00, 58.41batch/s]"
     ]
    },
    {
     "name": "stdout",
     "output_type": "stream",
     "text": [
      "loss training: 0.131961\n",
      "accuracy train: 0.958580 test: 0.789474\n",
      "\n",
      "Parameter containing:\n",
      "tensor([0., 0., 0., 0.], requires_grad=True)\n"
     ]
    },
    {
     "name": "stderr",
     "output_type": "stream",
     "text": [
      "epoch: 44: 100%|████████████████████████████████████████████████████████████████████| 50/50 [00:00<00:00, 58.98batch/s]\n",
      "epoch: 45:  12%|████████▎                                                            | 6/50 [00:00<00:00, 58.41batch/s]"
     ]
    },
    {
     "name": "stdout",
     "output_type": "stream",
     "text": [
      "loss training: 0.080188\n",
      "accuracy train: 0.988166 test: 0.842105\n",
      "\n",
      "Parameter containing:\n",
      "tensor([0., 0., 0., 0.], requires_grad=True)\n"
     ]
    },
    {
     "name": "stderr",
     "output_type": "stream",
     "text": [
      "epoch: 45: 100%|████████████████████████████████████████████████████████████████████| 50/50 [00:00<00:00, 59.08batch/s]\n",
      "epoch: 46:  14%|█████████▋                                                           | 7/50 [00:00<00:00, 58.98batch/s]"
     ]
    },
    {
     "name": "stdout",
     "output_type": "stream",
     "text": [
      "loss training: 0.122310\n",
      "accuracy train: 0.917160 test: 0.789474\n",
      "\n",
      "Parameter containing:\n",
      "tensor([0., 0., 0., 0.], requires_grad=True)\n"
     ]
    },
    {
     "name": "stderr",
     "output_type": "stream",
     "text": [
      "epoch: 46: 100%|████████████████████████████████████████████████████████████████████| 50/50 [00:00<00:00, 59.05batch/s]\n",
      "epoch: 47:  12%|████████▎                                                            | 6/50 [00:00<00:00, 57.30batch/s]"
     ]
    },
    {
     "name": "stdout",
     "output_type": "stream",
     "text": [
      "loss training: 0.180077\n",
      "accuracy train: 0.905325 test: 0.789474\n",
      "\n",
      "Parameter containing:\n",
      "tensor([0., 0., 0., 0.], requires_grad=True)\n"
     ]
    },
    {
     "name": "stderr",
     "output_type": "stream",
     "text": [
      "epoch: 47: 100%|████████████████████████████████████████████████████████████████████| 50/50 [00:00<00:00, 59.47batch/s]\n",
      "epoch: 48:  12%|████████▎                                                            | 6/50 [00:00<00:00, 58.98batch/s]"
     ]
    },
    {
     "name": "stdout",
     "output_type": "stream",
     "text": [
      "loss training: 0.068211\n",
      "accuracy train: 0.970414 test: 0.842105\n",
      "\n",
      "Parameter containing:\n",
      "tensor([0., 0., 0., 0.], requires_grad=True)\n"
     ]
    },
    {
     "name": "stderr",
     "output_type": "stream",
     "text": [
      "epoch: 48: 100%|████████████████████████████████████████████████████████████████████| 50/50 [00:00<00:00, 56.46batch/s]\n",
      "epoch: 49:  12%|████████▎                                                            | 6/50 [00:00<00:00, 56.22batch/s]"
     ]
    },
    {
     "name": "stdout",
     "output_type": "stream",
     "text": [
      "loss training: 0.054865\n",
      "accuracy train: 0.988166 test: 0.894737\n",
      "\n",
      "Parameter containing:\n",
      "tensor([0., 0., 0., 0.], requires_grad=True)\n"
     ]
    },
    {
     "name": "stderr",
     "output_type": "stream",
     "text": [
      "epoch: 49: 100%|████████████████████████████████████████████████████████████████████| 50/50 [00:00<00:00, 57.89batch/s]\n",
      "epoch: 50:  14%|█████████▋                                                           | 7/50 [00:00<00:00, 63.81batch/s]"
     ]
    },
    {
     "name": "stdout",
     "output_type": "stream",
     "text": [
      "loss training: 0.148005\n",
      "accuracy train: 0.976331 test: 0.842105\n",
      "\n",
      "Parameter containing:\n",
      "tensor([0., 0., 0., 0.], requires_grad=True)\n"
     ]
    },
    {
     "name": "stderr",
     "output_type": "stream",
     "text": [
      "epoch: 50: 100%|████████████████████████████████████████████████████████████████████| 50/50 [00:00<00:00, 58.57batch/s]\n",
      "epoch: 51:  12%|████████▎                                                            | 6/50 [00:00<00:00, 55.81batch/s]"
     ]
    },
    {
     "name": "stdout",
     "output_type": "stream",
     "text": [
      "loss training: 0.083745\n",
      "accuracy train: 0.982249 test: 0.842105\n",
      "\n",
      "Parameter containing:\n",
      "tensor([0., 0., 0., 0.], requires_grad=True)\n"
     ]
    },
    {
     "name": "stderr",
     "output_type": "stream",
     "text": [
      "epoch: 51: 100%|████████████████████████████████████████████████████████████████████| 50/50 [00:00<00:00, 57.24batch/s]\n",
      "epoch: 52:  12%|████████▎                                                            | 6/50 [00:00<00:00, 54.20batch/s]"
     ]
    },
    {
     "name": "stdout",
     "output_type": "stream",
     "text": [
      "loss training: 0.089464\n",
      "accuracy train: 0.976331 test: 0.842105\n",
      "\n",
      "Parameter containing:\n",
      "tensor([0., 0., 0., 0.], requires_grad=True)\n"
     ]
    },
    {
     "name": "stderr",
     "output_type": "stream",
     "text": [
      "epoch: 52: 100%|████████████████████████████████████████████████████████████████████| 50/50 [00:00<00:00, 56.84batch/s]\n",
      "epoch: 53:  14%|█████████▋                                                           | 7/50 [00:00<00:00, 61.03batch/s]"
     ]
    },
    {
     "name": "stdout",
     "output_type": "stream",
     "text": [
      "loss training: 0.050545\n",
      "accuracy train: 1.000000 test: 0.842105\n",
      "\n",
      "Parameter containing:\n",
      "tensor([0., 0., 0., 0.], requires_grad=True)\n"
     ]
    },
    {
     "name": "stderr",
     "output_type": "stream",
     "text": [
      "epoch: 53: 100%|████████████████████████████████████████████████████████████████████| 50/50 [00:00<00:00, 59.68batch/s]\n",
      "epoch: 54:  12%|████████▎                                                            | 6/50 [00:00<00:00, 56.22batch/s]"
     ]
    },
    {
     "name": "stdout",
     "output_type": "stream",
     "text": [
      "loss training: 0.043746\n",
      "accuracy train: 1.000000 test: 0.894737\n",
      "\n",
      "Parameter containing:\n",
      "tensor([0., 0., 0., 0.], requires_grad=True)\n"
     ]
    },
    {
     "name": "stderr",
     "output_type": "stream",
     "text": [
      "epoch: 54: 100%|████████████████████████████████████████████████████████████████████| 50/50 [00:00<00:00, 57.69batch/s]\n",
      "epoch: 55:  12%|████████▎                                                            | 6/50 [00:00<00:00, 54.20batch/s]"
     ]
    },
    {
     "name": "stdout",
     "output_type": "stream",
     "text": [
      "loss training: 0.036089\n",
      "accuracy train: 1.000000 test: 0.894737\n",
      "\n",
      "Parameter containing:\n",
      "tensor([0., 0., 0., 0.], requires_grad=True)\n"
     ]
    },
    {
     "name": "stderr",
     "output_type": "stream",
     "text": [
      "epoch: 55: 100%|████████████████████████████████████████████████████████████████████| 50/50 [00:00<00:00, 57.82batch/s]\n",
      "epoch: 56:  14%|█████████▋                                                           | 7/50 [00:00<00:00, 61.57batch/s]"
     ]
    },
    {
     "name": "stdout",
     "output_type": "stream",
     "text": [
      "loss training: 0.042843\n",
      "accuracy train: 1.000000 test: 0.842105\n",
      "\n",
      "Parameter containing:\n",
      "tensor([0., 0., 0., 0.], requires_grad=True)\n"
     ]
    },
    {
     "name": "stderr",
     "output_type": "stream",
     "text": [
      "epoch: 56: 100%|████████████████████████████████████████████████████████████████████| 50/50 [00:00<00:00, 59.68batch/s]\n",
      "epoch: 57:  12%|████████▎                                                            | 6/50 [00:00<00:00, 58.41batch/s]"
     ]
    },
    {
     "name": "stdout",
     "output_type": "stream",
     "text": [
      "loss training: 0.026985\n",
      "accuracy train: 1.000000 test: 0.894737\n",
      "\n",
      "Parameter containing:\n",
      "tensor([0., 0., 0., 0.], requires_grad=True)\n"
     ]
    },
    {
     "name": "stderr",
     "output_type": "stream",
     "text": [
      "epoch: 57: 100%|████████████████████████████████████████████████████████████████████| 50/50 [00:00<00:00, 60.18batch/s]\n",
      "epoch: 58:  14%|█████████▋                                                           | 7/50 [00:00<00:00, 62.11batch/s]"
     ]
    },
    {
     "name": "stdout",
     "output_type": "stream",
     "text": [
      "loss training: 0.018853\n",
      "accuracy train: 1.000000 test: 0.894737\n",
      "\n",
      "Parameter containing:\n",
      "tensor([0., 0., 0., 0.], requires_grad=True)\n"
     ]
    },
    {
     "name": "stderr",
     "output_type": "stream",
     "text": [
      "epoch: 58: 100%|████████████████████████████████████████████████████████████████████| 50/50 [00:00<00:00, 59.05batch/s]\n",
      "epoch: 59:  14%|█████████▋                                                           | 7/50 [00:00<00:00, 59.48batch/s]"
     ]
    },
    {
     "name": "stdout",
     "output_type": "stream",
     "text": [
      "loss training: 0.021826\n",
      "accuracy train: 1.000000 test: 0.894737\n",
      "\n",
      "Parameter containing:\n",
      "tensor([0., 0., 0., 0.], requires_grad=True)\n"
     ]
    },
    {
     "name": "stderr",
     "output_type": "stream",
     "text": [
      "epoch: 59: 100%|████████████████████████████████████████████████████████████████████| 50/50 [00:00<00:00, 59.47batch/s]\n",
      "epoch: 60:  12%|████████▎                                                            | 6/50 [00:00<00:00, 58.98batch/s]"
     ]
    },
    {
     "name": "stdout",
     "output_type": "stream",
     "text": [
      "loss training: 0.014800\n",
      "accuracy train: 1.000000 test: 0.894737\n",
      "\n",
      "Parameter containing:\n",
      "tensor([0., 0., 0., 0.], requires_grad=True)\n"
     ]
    },
    {
     "name": "stderr",
     "output_type": "stream",
     "text": [
      "epoch: 60: 100%|████████████████████████████████████████████████████████████████████| 50/50 [00:00<00:00, 57.62batch/s]\n",
      "epoch: 61:  12%|████████▎                                                            | 6/50 [00:00<00:00, 57.85batch/s]"
     ]
    },
    {
     "name": "stdout",
     "output_type": "stream",
     "text": [
      "loss training: 0.017768\n",
      "accuracy train: 1.000000 test: 0.789474\n",
      "\n",
      "Parameter containing:\n",
      "tensor([0., 0., 0., 0.], requires_grad=True)\n"
     ]
    },
    {
     "name": "stderr",
     "output_type": "stream",
     "text": [
      "epoch: 61: 100%|████████████████████████████████████████████████████████████████████| 50/50 [00:00<00:00, 57.46batch/s]\n",
      "epoch: 62:  12%|████████▎                                                            | 6/50 [00:00<00:00, 54.69batch/s]"
     ]
    },
    {
     "name": "stdout",
     "output_type": "stream",
     "text": [
      "loss training: 0.023987\n",
      "accuracy train: 1.000000 test: 0.894737\n",
      "\n",
      "Parameter containing:\n",
      "tensor([0., 0., 0., 0.], requires_grad=True)\n"
     ]
    },
    {
     "name": "stderr",
     "output_type": "stream",
     "text": [
      "epoch: 62: 100%|████████████████████████████████████████████████████████████████████| 50/50 [00:00<00:00, 56.91batch/s]\n",
      "epoch: 63:  12%|████████▎                                                            | 6/50 [00:00<00:00, 53.71batch/s]"
     ]
    },
    {
     "name": "stdout",
     "output_type": "stream",
     "text": [
      "loss training: 0.021519\n",
      "accuracy train: 1.000000 test: 0.894737\n",
      "\n",
      "Parameter containing:\n",
      "tensor([0., 0., 0., 0.], requires_grad=True)\n"
     ]
    },
    {
     "name": "stderr",
     "output_type": "stream",
     "text": [
      "epoch: 63: 100%|████████████████████████████████████████████████████████████████████| 50/50 [00:00<00:00, 57.30batch/s]\n",
      "epoch: 64:  14%|█████████▋                                                           | 7/50 [00:00<00:00, 58.49batch/s]"
     ]
    },
    {
     "name": "stdout",
     "output_type": "stream",
     "text": [
      "loss training: 0.021801\n",
      "accuracy train: 1.000000 test: 0.842105\n",
      "\n",
      "Parameter containing:\n",
      "tensor([0., 0., 0., 0.], requires_grad=True)\n"
     ]
    },
    {
     "name": "stderr",
     "output_type": "stream",
     "text": [
      "epoch: 64: 100%|████████████████████████████████████████████████████████████████████| 50/50 [00:00<00:00, 58.77batch/s]\n",
      "epoch: 65:  12%|████████▎                                                            | 6/50 [00:00<00:00, 59.56batch/s]"
     ]
    },
    {
     "name": "stdout",
     "output_type": "stream",
     "text": [
      "loss training: 0.034154\n",
      "accuracy train: 1.000000 test: 0.842105\n",
      "\n",
      "Parameter containing:\n",
      "tensor([0., 0., 0., 0.], requires_grad=True)\n"
     ]
    },
    {
     "name": "stderr",
     "output_type": "stream",
     "text": [
      "epoch: 65: 100%|████████████████████████████████████████████████████████████████████| 50/50 [00:00<00:00, 58.09batch/s]\n",
      "epoch: 66:  12%|████████▎                                                            | 6/50 [00:00<00:00, 57.30batch/s]"
     ]
    },
    {
     "name": "stdout",
     "output_type": "stream",
     "text": [
      "loss training: 0.067108\n",
      "accuracy train: 0.917160 test: 0.736842\n",
      "\n",
      "Parameter containing:\n",
      "tensor([0., 0., 0., 0.], requires_grad=True)\n"
     ]
    },
    {
     "name": "stderr",
     "output_type": "stream",
     "text": [
      "epoch: 66: 100%|████████████████████████████████████████████████████████████████████| 50/50 [00:00<00:00, 58.50batch/s]\n",
      "epoch: 67:  12%|████████▎                                                            | 6/50 [00:00<00:00, 57.29batch/s]"
     ]
    },
    {
     "name": "stdout",
     "output_type": "stream",
     "text": [
      "loss training: 0.086823\n",
      "accuracy train: 0.982249 test: 0.842105\n",
      "\n",
      "Parameter containing:\n",
      "tensor([0., 0., 0., 0.], requires_grad=True)\n"
     ]
    },
    {
     "name": "stderr",
     "output_type": "stream",
     "text": [
      "epoch: 67: 100%|████████████████████████████████████████████████████████████████████| 50/50 [00:00<00:00, 57.27batch/s]\n",
      "epoch: 68:  12%|████████▎                                                            | 6/50 [00:00<00:00, 52.31batch/s]"
     ]
    },
    {
     "name": "stdout",
     "output_type": "stream",
     "text": [
      "loss training: 0.059175\n",
      "accuracy train: 0.994083 test: 0.842105\n",
      "\n",
      "Parameter containing:\n",
      "tensor([0., 0., 0., 0.], requires_grad=True)\n"
     ]
    },
    {
     "name": "stderr",
     "output_type": "stream",
     "text": [
      "epoch: 68: 100%|████████████████████████████████████████████████████████████████████| 50/50 [00:00<00:00, 55.83batch/s]\n",
      "epoch: 69:  12%|████████▎                                                            | 6/50 [00:00<00:00, 58.98batch/s]"
     ]
    },
    {
     "name": "stdout",
     "output_type": "stream",
     "text": [
      "loss training: 0.038479\n",
      "accuracy train: 1.000000 test: 0.842105\n",
      "\n",
      "Parameter containing:\n",
      "tensor([0., 0., 0., 0.], requires_grad=True)\n"
     ]
    },
    {
     "name": "stderr",
     "output_type": "stream",
     "text": [
      "epoch: 69: 100%|████████████████████████████████████████████████████████████████████| 50/50 [00:00<00:00, 59.40batch/s]\n",
      "epoch: 70:  12%|████████▎                                                            | 6/50 [00:00<00:00, 53.72batch/s]"
     ]
    },
    {
     "name": "stdout",
     "output_type": "stream",
     "text": [
      "loss training: 0.036692\n",
      "accuracy train: 1.000000 test: 0.842105\n",
      "\n",
      "Parameter containing:\n",
      "tensor([0., 0., 0., 0.], requires_grad=True)\n"
     ]
    },
    {
     "name": "stderr",
     "output_type": "stream",
     "text": [
      "epoch: 70: 100%|████████████████████████████████████████████████████████████████████| 50/50 [00:00<00:00, 60.26batch/s]\n",
      "epoch: 71:  12%|████████▎                                                            | 6/50 [00:00<00:00, 58.41batch/s]"
     ]
    },
    {
     "name": "stdout",
     "output_type": "stream",
     "text": [
      "loss training: 0.059060\n",
      "accuracy train: 0.976331 test: 0.842105\n",
      "\n",
      "Parameter containing:\n",
      "tensor([0., 0., 0., 0.], requires_grad=True)\n"
     ]
    },
    {
     "name": "stderr",
     "output_type": "stream",
     "text": [
      "epoch: 71: 100%|████████████████████████████████████████████████████████████████████| 50/50 [00:00<00:00, 58.77batch/s]\n",
      "epoch: 72:  14%|█████████▋                                                           | 7/50 [00:00<00:00, 62.67batch/s]"
     ]
    },
    {
     "name": "stdout",
     "output_type": "stream",
     "text": [
      "loss training: 0.084986\n",
      "accuracy train: 1.000000 test: 0.842105\n",
      "\n",
      "Parameter containing:\n",
      "tensor([0., 0., 0., 0.], requires_grad=True)\n"
     ]
    },
    {
     "name": "stderr",
     "output_type": "stream",
     "text": [
      "epoch: 72: 100%|████████████████████████████████████████████████████████████████████| 50/50 [00:00<00:00, 57.96batch/s]\n",
      "epoch: 73:  12%|████████▎                                                            | 6/50 [00:00<00:00, 56.22batch/s]"
     ]
    },
    {
     "name": "stdout",
     "output_type": "stream",
     "text": [
      "loss training: 0.039499\n",
      "accuracy train: 1.000000 test: 0.894737\n",
      "\n",
      "Parameter containing:\n",
      "tensor([0., 0., 0., 0.], requires_grad=True)\n"
     ]
    },
    {
     "name": "stderr",
     "output_type": "stream",
     "text": [
      "epoch: 73: 100%|████████████████████████████████████████████████████████████████████| 50/50 [00:00<00:00, 56.02batch/s]\n",
      "epoch: 74:  12%|████████▎                                                            | 6/50 [00:00<00:00, 55.19batch/s]"
     ]
    },
    {
     "name": "stdout",
     "output_type": "stream",
     "text": [
      "loss training: 0.051823\n",
      "accuracy train: 1.000000 test: 0.789474\n",
      "\n",
      "Parameter containing:\n",
      "tensor([0., 0., 0., 0.], requires_grad=True)\n"
     ]
    },
    {
     "name": "stderr",
     "output_type": "stream",
     "text": [
      "epoch: 74: 100%|████████████████████████████████████████████████████████████████████| 50/50 [00:00<00:00, 55.64batch/s]\n",
      "epoch: 75:  12%|████████▎                                                            | 6/50 [00:00<00:00, 57.30batch/s]"
     ]
    },
    {
     "name": "stdout",
     "output_type": "stream",
     "text": [
      "loss training: 0.031672\n",
      "accuracy train: 1.000000 test: 0.842105\n",
      "\n",
      "Parameter containing:\n",
      "tensor([0., 0., 0., 0.], requires_grad=True)\n"
     ]
    },
    {
     "name": "stderr",
     "output_type": "stream",
     "text": [
      "epoch: 75: 100%|████████████████████████████████████████████████████████████████████| 50/50 [00:00<00:00, 58.64batch/s]\n",
      "epoch: 76:  12%|████████▎                                                            | 6/50 [00:00<00:00, 59.57batch/s]"
     ]
    },
    {
     "name": "stdout",
     "output_type": "stream",
     "text": [
      "loss training: 0.025530\n",
      "accuracy train: 1.000000 test: 0.842105\n",
      "\n",
      "Parameter containing:\n",
      "tensor([0., 0., 0., 0.], requires_grad=True)\n"
     ]
    },
    {
     "name": "stderr",
     "output_type": "stream",
     "text": [
      "epoch: 76: 100%|████████████████████████████████████████████████████████████████████| 50/50 [00:00<00:00, 51.37batch/s]\n",
      "epoch: 77:  12%|████████▎                                                            | 6/50 [00:00<00:00, 55.70batch/s]"
     ]
    },
    {
     "name": "stdout",
     "output_type": "stream",
     "text": [
      "loss training: 0.072350\n",
      "accuracy train: 1.000000 test: 0.789474\n",
      "\n",
      "Parameter containing:\n",
      "tensor([0., 0., 0., 0.], requires_grad=True)\n"
     ]
    },
    {
     "name": "stderr",
     "output_type": "stream",
     "text": [
      "epoch: 77: 100%|████████████████████████████████████████████████████████████████████| 50/50 [00:01<00:00, 46.46batch/s]\n",
      "epoch: 78:  10%|██████▉                                                              | 5/50 [00:00<00:00, 46.42batch/s]"
     ]
    },
    {
     "name": "stdout",
     "output_type": "stream",
     "text": [
      "loss training: 0.031490\n",
      "accuracy train: 1.000000 test: 0.842105\n",
      "\n",
      "Parameter containing:\n",
      "tensor([0., 0., 0., 0.], requires_grad=True)\n"
     ]
    },
    {
     "name": "stderr",
     "output_type": "stream",
     "text": [
      "epoch: 78: 100%|████████████████████████████████████████████████████████████████████| 50/50 [00:00<00:00, 50.41batch/s]\n",
      "epoch: 79:  12%|████████▎                                                            | 6/50 [00:00<00:00, 55.19batch/s]"
     ]
    },
    {
     "name": "stdout",
     "output_type": "stream",
     "text": [
      "loss training: 0.022957\n",
      "accuracy train: 1.000000 test: 0.894737\n",
      "\n",
      "Parameter containing:\n",
      "tensor([0., 0., 0., 0.], requires_grad=True)\n"
     ]
    },
    {
     "name": "stderr",
     "output_type": "stream",
     "text": [
      "epoch: 79: 100%|████████████████████████████████████████████████████████████████████| 50/50 [00:00<00:00, 56.58batch/s]\n",
      "epoch: 80:  12%|████████▎                                                            | 6/50 [00:00<00:00, 56.75batch/s]"
     ]
    },
    {
     "name": "stdout",
     "output_type": "stream",
     "text": [
      "loss training: 0.015529\n",
      "accuracy train: 1.000000 test: 0.894737\n",
      "\n",
      "Parameter containing:\n",
      "tensor([0., 0., 0., 0.], requires_grad=True)\n"
     ]
    },
    {
     "name": "stderr",
     "output_type": "stream",
     "text": [
      "epoch: 80: 100%|████████████████████████████████████████████████████████████████████| 50/50 [00:00<00:00, 57.49batch/s]\n",
      "epoch: 81:  14%|█████████▋                                                           | 7/50 [00:00<00:00, 65.60batch/s]"
     ]
    },
    {
     "name": "stdout",
     "output_type": "stream",
     "text": [
      "loss training: 0.014342\n",
      "accuracy train: 1.000000 test: 0.789474\n",
      "\n",
      "Parameter containing:\n",
      "tensor([0., 0., 0., 0.], requires_grad=True)\n"
     ]
    },
    {
     "name": "stderr",
     "output_type": "stream",
     "text": [
      "epoch: 81: 100%|████████████████████████████████████████████████████████████████████| 50/50 [00:00<00:00, 60.33batch/s]\n",
      "epoch: 82:  12%|████████▎                                                            | 6/50 [00:00<00:00, 58.41batch/s]"
     ]
    },
    {
     "name": "stdout",
     "output_type": "stream",
     "text": [
      "loss training: 0.018433\n",
      "accuracy train: 1.000000 test: 0.789474\n",
      "\n",
      "Parameter containing:\n",
      "tensor([0., 0., 0., 0.], requires_grad=True)\n"
     ]
    },
    {
     "name": "stderr",
     "output_type": "stream",
     "text": [
      "epoch: 82: 100%|████████████████████████████████████████████████████████████████████| 50/50 [00:00<00:00, 59.19batch/s]\n",
      "epoch: 83:  14%|█████████▋                                                           | 7/50 [00:00<00:00, 63.81batch/s]"
     ]
    },
    {
     "name": "stdout",
     "output_type": "stream",
     "text": [
      "loss training: 0.056876\n",
      "accuracy train: 1.000000 test: 0.894737\n",
      "\n",
      "Parameter containing:\n",
      "tensor([0., 0., 0., 0.], requires_grad=True)\n"
     ]
    },
    {
     "name": "stderr",
     "output_type": "stream",
     "text": [
      "epoch: 83: 100%|████████████████████████████████████████████████████████████████████| 50/50 [00:00<00:00, 59.12batch/s]\n",
      "epoch: 84:  14%|█████████▋                                                           | 7/50 [00:00<00:00, 61.57batch/s]"
     ]
    },
    {
     "name": "stdout",
     "output_type": "stream",
     "text": [
      "loss training: 0.206447\n",
      "accuracy train: 0.911243 test: 0.736842\n",
      "\n",
      "Parameter containing:\n",
      "tensor([0., 0., 0., 0.], requires_grad=True)\n"
     ]
    },
    {
     "name": "stderr",
     "output_type": "stream",
     "text": [
      "epoch: 84: 100%|████████████████████████████████████████████████████████████████████| 50/50 [00:00<00:00, 58.84batch/s]\n",
      "epoch: 85:  12%|████████▎                                                            | 6/50 [00:00<00:00, 58.41batch/s]"
     ]
    },
    {
     "name": "stdout",
     "output_type": "stream",
     "text": [
      "loss training: 0.144538\n",
      "accuracy train: 0.964497 test: 0.842105\n",
      "\n",
      "Parameter containing:\n",
      "tensor([0., 0., 0., 0.], requires_grad=True)\n"
     ]
    },
    {
     "name": "stderr",
     "output_type": "stream",
     "text": [
      "epoch: 85: 100%|████████████████████████████████████████████████████████████████████| 50/50 [00:00<00:00, 59.97batch/s]\n",
      "epoch: 86:  14%|█████████▋                                                           | 7/50 [00:00<00:00, 60.51batch/s]"
     ]
    },
    {
     "name": "stdout",
     "output_type": "stream",
     "text": [
      "loss training: 0.114288\n",
      "accuracy train: 0.970414 test: 0.789474\n",
      "\n",
      "Parameter containing:\n",
      "tensor([0., 0., 0., 0.], requires_grad=True)\n"
     ]
    },
    {
     "name": "stderr",
     "output_type": "stream",
     "text": [
      "epoch: 86: 100%|████████████████████████████████████████████████████████████████████| 50/50 [00:00<00:00, 60.77batch/s]\n",
      "epoch: 87:  12%|████████▎                                                            | 6/50 [00:00<00:00, 58.41batch/s]"
     ]
    },
    {
     "name": "stdout",
     "output_type": "stream",
     "text": [
      "loss training: 0.057866\n",
      "accuracy train: 0.946746 test: 0.842105\n",
      "\n",
      "Parameter containing:\n",
      "tensor([0., 0., 0., 0.], requires_grad=True)\n"
     ]
    },
    {
     "name": "stderr",
     "output_type": "stream",
     "text": [
      "epoch: 87: 100%|████████████████████████████████████████████████████████████████████| 50/50 [00:00<00:00, 59.33batch/s]\n",
      "epoch: 88:  12%|████████▎                                                            | 6/50 [00:00<00:00, 56.22batch/s]"
     ]
    },
    {
     "name": "stdout",
     "output_type": "stream",
     "text": [
      "loss training: 0.038327\n",
      "accuracy train: 1.000000 test: 0.894737\n",
      "\n",
      "Parameter containing:\n",
      "tensor([0., 0., 0., 0.], requires_grad=True)\n"
     ]
    },
    {
     "name": "stderr",
     "output_type": "stream",
     "text": [
      "epoch: 88: 100%|████████████████████████████████████████████████████████████████████| 50/50 [00:00<00:00, 58.23batch/s]\n",
      "epoch: 89:  12%|████████▎                                                            | 6/50 [00:00<00:00, 58.98batch/s]"
     ]
    },
    {
     "name": "stdout",
     "output_type": "stream",
     "text": [
      "loss training: 0.047161\n",
      "accuracy train: 0.988166 test: 0.842105\n",
      "\n",
      "Parameter containing:\n",
      "tensor([0., 0., 0., 0.], requires_grad=True)\n"
     ]
    },
    {
     "name": "stderr",
     "output_type": "stream",
     "text": [
      "epoch: 89: 100%|████████████████████████████████████████████████████████████████████| 50/50 [00:00<00:00, 58.77batch/s]\n",
      "epoch: 90:  14%|█████████▋                                                           | 7/50 [00:00<00:00, 62.11batch/s]"
     ]
    },
    {
     "name": "stdout",
     "output_type": "stream",
     "text": [
      "loss training: 0.048558\n",
      "accuracy train: 1.000000 test: 0.842105\n",
      "\n",
      "Parameter containing:\n",
      "tensor([0., 0., 0., 0.], requires_grad=True)\n"
     ]
    },
    {
     "name": "stderr",
     "output_type": "stream",
     "text": [
      "epoch: 90: 100%|████████████████████████████████████████████████████████████████████| 50/50 [00:00<00:00, 57.56batch/s]\n",
      "epoch: 91:  14%|█████████▋                                                           | 7/50 [00:00<00:00, 61.03batch/s]"
     ]
    },
    {
     "name": "stdout",
     "output_type": "stream",
     "text": [
      "loss training: 0.046753\n",
      "accuracy train: 0.994083 test: 0.789474\n",
      "\n",
      "Parameter containing:\n",
      "tensor([0., 0., 0., 0.], requires_grad=True)\n"
     ]
    },
    {
     "name": "stderr",
     "output_type": "stream",
     "text": [
      "epoch: 91: 100%|████████████████████████████████████████████████████████████████████| 50/50 [00:01<00:00, 48.58batch/s]\n",
      "epoch: 92:  12%|████████▎                                                            | 6/50 [00:00<00:00, 55.19batch/s]"
     ]
    },
    {
     "name": "stdout",
     "output_type": "stream",
     "text": [
      "loss training: 0.031909\n",
      "accuracy train: 1.000000 test: 0.842105\n",
      "\n",
      "Parameter containing:\n",
      "tensor([0., 0., 0., 0.], requires_grad=True)\n"
     ]
    },
    {
     "name": "stderr",
     "output_type": "stream",
     "text": [
      "epoch: 92: 100%|████████████████████████████████████████████████████████████████████| 50/50 [00:00<00:00, 57.89batch/s]\n",
      "epoch: 93:  14%|█████████▋                                                           | 7/50 [00:00<00:00, 61.03batch/s]"
     ]
    },
    {
     "name": "stdout",
     "output_type": "stream",
     "text": [
      "loss training: 0.025365\n",
      "accuracy train: 1.000000 test: 0.789474\n",
      "\n",
      "Parameter containing:\n",
      "tensor([0., 0., 0., 0.], requires_grad=True)\n"
     ]
    },
    {
     "name": "stderr",
     "output_type": "stream",
     "text": [
      "epoch: 93: 100%|████████████████████████████████████████████████████████████████████| 50/50 [00:00<00:00, 59.97batch/s]\n",
      "epoch: 94:  12%|████████▎                                                            | 6/50 [00:00<00:00, 56.76batch/s]"
     ]
    },
    {
     "name": "stdout",
     "output_type": "stream",
     "text": [
      "loss training: 0.018814\n",
      "accuracy train: 1.000000 test: 0.894737\n",
      "\n",
      "Parameter containing:\n",
      "tensor([0., 0., 0., 0.], requires_grad=True)\n"
     ]
    },
    {
     "name": "stderr",
     "output_type": "stream",
     "text": [
      "epoch: 94: 100%|████████████████████████████████████████████████████████████████████| 50/50 [00:00<00:00, 55.70batch/s]\n",
      "epoch: 95:  14%|█████████▋                                                           | 7/50 [00:00<00:00, 65.60batch/s]"
     ]
    },
    {
     "name": "stdout",
     "output_type": "stream",
     "text": [
      "loss training: 0.020435\n",
      "accuracy train: 1.000000 test: 0.842105\n",
      "\n",
      "Parameter containing:\n",
      "tensor([0., 0., 0., 0.], requires_grad=True)\n"
     ]
    },
    {
     "name": "stderr",
     "output_type": "stream",
     "text": [
      "epoch: 95: 100%|████████████████████████████████████████████████████████████████████| 50/50 [00:00<00:00, 60.26batch/s]\n",
      "epoch: 96:  14%|█████████▋                                                           | 7/50 [00:00<00:00, 65.60batch/s]"
     ]
    },
    {
     "name": "stdout",
     "output_type": "stream",
     "text": [
      "loss training: 0.014828\n",
      "accuracy train: 1.000000 test: 0.789474\n",
      "\n",
      "Parameter containing:\n",
      "tensor([0., 0., 0., 0.], requires_grad=True)\n"
     ]
    },
    {
     "name": "stderr",
     "output_type": "stream",
     "text": [
      "epoch: 96: 100%|████████████████████████████████████████████████████████████████████| 50/50 [00:00<00:00, 60.40batch/s]\n",
      "epoch: 97:  12%|████████▎                                                            | 6/50 [00:00<00:00, 57.85batch/s]"
     ]
    },
    {
     "name": "stdout",
     "output_type": "stream",
     "text": [
      "loss training: 0.021111\n",
      "accuracy train: 1.000000 test: 0.842105\n",
      "\n",
      "Parameter containing:\n",
      "tensor([0., 0., 0., 0.], requires_grad=True)\n"
     ]
    },
    {
     "name": "stderr",
     "output_type": "stream",
     "text": [
      "epoch: 97: 100%|████████████████████████████████████████████████████████████████████| 50/50 [00:00<00:00, 53.61batch/s]\n",
      "epoch: 98:   8%|█████▌                                                               | 4/50 [00:00<00:01, 36.80batch/s]"
     ]
    },
    {
     "name": "stdout",
     "output_type": "stream",
     "text": [
      "loss training: 0.243830\n",
      "accuracy train: 0.810651 test: 0.736842\n",
      "\n",
      "Parameter containing:\n",
      "tensor([0., 0., 0., 0.], requires_grad=True)\n"
     ]
    },
    {
     "name": "stderr",
     "output_type": "stream",
     "text": [
      "epoch: 98: 100%|████████████████████████████████████████████████████████████████████| 50/50 [00:01<00:00, 44.80batch/s]\n",
      "epoch: 99:  12%|████████▎                                                            | 6/50 [00:00<00:00, 59.56batch/s]"
     ]
    },
    {
     "name": "stdout",
     "output_type": "stream",
     "text": [
      "loss training: 0.229570\n",
      "accuracy train: 0.982249 test: 0.842105\n",
      "\n",
      "Parameter containing:\n",
      "tensor([0., 0., 0., 0.], requires_grad=True)\n"
     ]
    },
    {
     "name": "stderr",
     "output_type": "stream",
     "text": [
      "epoch: 99: 100%|████████████████████████████████████████████████████████████████████| 50/50 [00:00<00:00, 58.36batch/s]\n",
      "epoch: 100:  14%|█████████▌                                                          | 7/50 [00:00<00:00, 59.48batch/s]"
     ]
    },
    {
     "name": "stdout",
     "output_type": "stream",
     "text": [
      "loss training: 0.067996\n",
      "accuracy train: 0.976331 test: 0.894737\n",
      "\n",
      "Parameter containing:\n",
      "tensor([0., 0., 0., 0.], requires_grad=True)\n"
     ]
    },
    {
     "name": "stderr",
     "output_type": "stream",
     "text": [
      "epoch: 100: 100%|███████████████████████████████████████████████████████████████████| 50/50 [00:00<00:00, 58.03batch/s]\n",
      "epoch: 101:  12%|████████▏                                                           | 6/50 [00:00<00:00, 56.76batch/s]"
     ]
    },
    {
     "name": "stdout",
     "output_type": "stream",
     "text": [
      "loss training: 0.047119\n",
      "accuracy train: 1.000000 test: 0.842105\n",
      "\n",
      "Parameter containing:\n",
      "tensor([0., 0., 0., 0.], requires_grad=True)\n"
     ]
    },
    {
     "name": "stderr",
     "output_type": "stream",
     "text": [
      "epoch: 101: 100%|███████████████████████████████████████████████████████████████████| 50/50 [00:00<00:00, 56.17batch/s]\n",
      "epoch: 102:  12%|████████▏                                                           | 6/50 [00:00<00:00, 58.98batch/s]"
     ]
    },
    {
     "name": "stdout",
     "output_type": "stream",
     "text": [
      "loss training: 0.025771\n",
      "accuracy train: 1.000000 test: 0.789474\n",
      "\n",
      "Parameter containing:\n",
      "tensor([0., 0., 0., 0.], requires_grad=True)\n"
     ]
    },
    {
     "name": "stderr",
     "output_type": "stream",
     "text": [
      "epoch: 102: 100%|███████████████████████████████████████████████████████████████████| 50/50 [00:00<00:00, 56.58batch/s]\n",
      "epoch: 103:  12%|████████▏                                                           | 6/50 [00:00<00:00, 57.85batch/s]"
     ]
    },
    {
     "name": "stdout",
     "output_type": "stream",
     "text": [
      "loss training: 0.029593\n",
      "accuracy train: 1.000000 test: 0.842105\n",
      "\n",
      "Parameter containing:\n",
      "tensor([0., 0., 0., 0.], requires_grad=True)\n"
     ]
    },
    {
     "name": "stderr",
     "output_type": "stream",
     "text": [
      "epoch: 103: 100%|███████████████████████████████████████████████████████████████████| 50/50 [00:00<00:00, 55.52batch/s]\n",
      "epoch: 104:  10%|██████▊                                                             | 5/50 [00:00<00:00, 45.58batch/s]"
     ]
    },
    {
     "name": "stdout",
     "output_type": "stream",
     "text": [
      "loss training: 0.021413\n",
      "accuracy train: 1.000000 test: 0.789474\n",
      "\n",
      "Parameter containing:\n",
      "tensor([0., 0., 0., 0.], requires_grad=True)\n"
     ]
    },
    {
     "name": "stderr",
     "output_type": "stream",
     "text": [
      "epoch: 104: 100%|███████████████████████████████████████████████████████████████████| 50/50 [00:00<00:00, 51.84batch/s]\n",
      "epoch: 105:  14%|█████████▌                                                          | 7/50 [00:00<00:00, 63.81batch/s]"
     ]
    },
    {
     "name": "stdout",
     "output_type": "stream",
     "text": [
      "loss training: 0.016851\n",
      "accuracy train: 1.000000 test: 0.894737\n",
      "\n",
      "Parameter containing:\n",
      "tensor([0., 0., 0., 0.], requires_grad=True)\n"
     ]
    },
    {
     "name": "stderr",
     "output_type": "stream",
     "text": [
      "epoch: 105: 100%|███████████████████████████████████████████████████████████████████| 50/50 [00:00<00:00, 57.82batch/s]\n",
      "epoch: 106:  12%|████████▏                                                           | 6/50 [00:00<00:00, 54.69batch/s]"
     ]
    },
    {
     "name": "stdout",
     "output_type": "stream",
     "text": [
      "loss training: 0.020971\n",
      "accuracy train: 1.000000 test: 0.842105\n",
      "\n",
      "Parameter containing:\n",
      "tensor([0., 0., 0., 0.], requires_grad=True)\n"
     ]
    },
    {
     "name": "stderr",
     "output_type": "stream",
     "text": [
      "epoch: 106: 100%|███████████████████████████████████████████████████████████████████| 50/50 [00:00<00:00, 57.17batch/s]\n",
      "epoch: 107:  14%|█████████▌                                                          | 7/50 [00:00<00:00, 59.99batch/s]"
     ]
    },
    {
     "name": "stdout",
     "output_type": "stream",
     "text": [
      "loss training: 0.015046\n",
      "accuracy train: 1.000000 test: 0.789474\n",
      "\n",
      "Parameter containing:\n",
      "tensor([0., 0., 0., 0.], requires_grad=True)\n"
     ]
    },
    {
     "name": "stderr",
     "output_type": "stream",
     "text": [
      "epoch: 107: 100%|███████████████████████████████████████████████████████████████████| 50/50 [00:00<00:00, 60.26batch/s]\n",
      "epoch: 108:  14%|█████████▌                                                          | 7/50 [00:00<00:00, 62.11batch/s]"
     ]
    },
    {
     "name": "stdout",
     "output_type": "stream",
     "text": [
      "loss training: 0.024309\n",
      "accuracy train: 1.000000 test: 0.789474\n",
      "\n",
      "Parameter containing:\n",
      "tensor([0., 0., 0., 0.], requires_grad=True)\n"
     ]
    },
    {
     "name": "stderr",
     "output_type": "stream",
     "text": [
      "epoch: 108: 100%|███████████████████████████████████████████████████████████████████| 50/50 [00:00<00:00, 59.12batch/s]\n",
      "epoch: 109:  12%|████████▏                                                           | 6/50 [00:00<00:00, 55.19batch/s]"
     ]
    },
    {
     "name": "stdout",
     "output_type": "stream",
     "text": [
      "loss training: 0.032457\n",
      "accuracy train: 1.000000 test: 0.842105\n",
      "\n",
      "Parameter containing:\n",
      "tensor([0., 0., 0., 0.], requires_grad=True)\n"
     ]
    },
    {
     "name": "stderr",
     "output_type": "stream",
     "text": [
      "epoch: 109: 100%|███████████████████████████████████████████████████████████████████| 50/50 [00:00<00:00, 57.04batch/s]\n",
      "epoch: 110:  12%|████████▏                                                           | 6/50 [00:00<00:00, 57.85batch/s]"
     ]
    },
    {
     "name": "stdout",
     "output_type": "stream",
     "text": [
      "loss training: 0.013606\n",
      "accuracy train: 1.000000 test: 0.842105\n",
      "\n",
      "Parameter containing:\n",
      "tensor([0., 0., 0., 0.], requires_grad=True)\n"
     ]
    },
    {
     "name": "stderr",
     "output_type": "stream",
     "text": [
      "epoch: 110: 100%|███████████████████████████████████████████████████████████████████| 50/50 [00:00<00:00, 54.20batch/s]\n",
      "epoch: 111:  12%|████████▏                                                           | 6/50 [00:00<00:00, 50.98batch/s]"
     ]
    },
    {
     "name": "stdout",
     "output_type": "stream",
     "text": [
      "loss training: 0.018146\n",
      "accuracy train: 1.000000 test: 0.842105\n",
      "\n",
      "Parameter containing:\n",
      "tensor([0., 0., 0., 0.], requires_grad=True)\n"
     ]
    },
    {
     "name": "stderr",
     "output_type": "stream",
     "text": [
      "epoch: 111: 100%|███████████████████████████████████████████████████████████████████| 50/50 [00:00<00:00, 55.09batch/s]\n",
      "epoch: 112:  12%|████████▏                                                           | 6/50 [00:00<00:00, 52.77batch/s]"
     ]
    },
    {
     "name": "stdout",
     "output_type": "stream",
     "text": [
      "loss training: 0.019300\n",
      "accuracy train: 1.000000 test: 0.842105\n",
      "\n",
      "Parameter containing:\n",
      "tensor([0., 0., 0., 0.], requires_grad=True)\n"
     ]
    },
    {
     "name": "stderr",
     "output_type": "stream",
     "text": [
      "epoch: 112: 100%|███████████████████████████████████████████████████████████████████| 50/50 [00:01<00:00, 48.07batch/s]\n",
      "epoch: 113:  12%|████████▏                                                           | 6/50 [00:00<00:00, 59.56batch/s]"
     ]
    },
    {
     "name": "stdout",
     "output_type": "stream",
     "text": [
      "loss training: 0.015712\n",
      "accuracy train: 1.000000 test: 0.842105\n",
      "\n",
      "Parameter containing:\n",
      "tensor([0., 0., 0., 0.], requires_grad=True)\n"
     ]
    },
    {
     "name": "stderr",
     "output_type": "stream",
     "text": [
      "epoch: 113: 100%|███████████████████████████████████████████████████████████████████| 50/50 [00:00<00:00, 59.75batch/s]\n",
      "epoch: 114:  12%|████████▏                                                           | 6/50 [00:00<00:00, 55.70batch/s]"
     ]
    },
    {
     "name": "stdout",
     "output_type": "stream",
     "text": [
      "loss training: 0.013927\n",
      "accuracy train: 1.000000 test: 0.789474\n",
      "\n",
      "Parameter containing:\n",
      "tensor([0., 0., 0., 0.], requires_grad=True)\n"
     ]
    },
    {
     "name": "stderr",
     "output_type": "stream",
     "text": [
      "epoch: 114: 100%|███████████████████████████████████████████████████████████████████| 50/50 [00:00<00:00, 58.50batch/s]\n",
      "epoch: 115:  12%|████████▏                                                           | 6/50 [00:00<00:00, 58.98batch/s]"
     ]
    },
    {
     "name": "stdout",
     "output_type": "stream",
     "text": [
      "loss training: 0.024017\n",
      "accuracy train: 1.000000 test: 0.842105\n",
      "\n",
      "Parameter containing:\n",
      "tensor([0., 0., 0., 0.], requires_grad=True)\n"
     ]
    },
    {
     "name": "stderr",
     "output_type": "stream",
     "text": [
      "epoch: 115: 100%|███████████████████████████████████████████████████████████████████| 50/50 [00:00<00:00, 57.69batch/s]\n",
      "epoch: 116:  14%|█████████▌                                                          | 7/50 [00:00<00:00, 59.48batch/s]"
     ]
    },
    {
     "name": "stdout",
     "output_type": "stream",
     "text": [
      "loss training: 0.022258\n",
      "accuracy train: 1.000000 test: 0.842105\n",
      "\n",
      "Parameter containing:\n",
      "tensor([0., 0., 0., 0.], requires_grad=True)\n"
     ]
    },
    {
     "name": "stderr",
     "output_type": "stream",
     "text": [
      "epoch: 116: 100%|███████████████████████████████████████████████████████████████████| 50/50 [00:00<00:00, 55.46batch/s]\n",
      "epoch: 117:  12%|████████▏                                                           | 6/50 [00:00<00:00, 53.24batch/s]"
     ]
    },
    {
     "name": "stdout",
     "output_type": "stream",
     "text": [
      "loss training: 0.031148\n",
      "accuracy train: 1.000000 test: 0.894737\n",
      "\n",
      "Parameter containing:\n",
      "tensor([0., 0., 0., 0.], requires_grad=True)\n"
     ]
    },
    {
     "name": "stderr",
     "output_type": "stream",
     "text": [
      "epoch: 117: 100%|███████████████████████████████████████████████████████████████████| 50/50 [00:00<00:00, 59.40batch/s]\n",
      "epoch: 118:  10%|██████▊                                                             | 5/50 [00:00<00:00, 49.15batch/s]"
     ]
    },
    {
     "name": "stdout",
     "output_type": "stream",
     "text": [
      "loss training: 0.021059\n",
      "accuracy train: 1.000000 test: 0.894737\n",
      "\n",
      "Parameter containing:\n",
      "tensor([0., 0., 0., 0.], requires_grad=True)\n"
     ]
    },
    {
     "name": "stderr",
     "output_type": "stream",
     "text": [
      "epoch: 118: 100%|███████████████████████████████████████████████████████████████████| 50/50 [00:00<00:00, 51.90batch/s]\n",
      "epoch: 119:  12%|████████▏                                                           | 6/50 [00:00<00:00, 52.31batch/s]"
     ]
    },
    {
     "name": "stdout",
     "output_type": "stream",
     "text": [
      "loss training: 0.020250\n",
      "accuracy train: 1.000000 test: 0.842105\n",
      "\n",
      "Parameter containing:\n",
      "tensor([0., 0., 0., 0.], requires_grad=True)\n"
     ]
    },
    {
     "name": "stderr",
     "output_type": "stream",
     "text": [
      "epoch: 119: 100%|███████████████████████████████████████████████████████████████████| 50/50 [00:00<00:00, 54.25batch/s]\n",
      "epoch: 120:  12%|████████▏                                                           | 6/50 [00:00<00:00, 58.98batch/s]"
     ]
    },
    {
     "name": "stdout",
     "output_type": "stream",
     "text": [
      "loss training: 0.011977\n",
      "accuracy train: 1.000000 test: 0.789474\n",
      "\n",
      "Parameter containing:\n",
      "tensor([0., 0., 0., 0.], requires_grad=True)\n"
     ]
    },
    {
     "name": "stderr",
     "output_type": "stream",
     "text": [
      "epoch: 120: 100%|███████████████████████████████████████████████████████████████████| 50/50 [00:00<00:00, 53.67batch/s]\n",
      "epoch: 121:  10%|██████▊                                                             | 5/50 [00:00<00:00, 49.15batch/s]"
     ]
    },
    {
     "name": "stdout",
     "output_type": "stream",
     "text": [
      "loss training: 0.013885\n",
      "accuracy train: 1.000000 test: 0.789474\n",
      "\n",
      "Parameter containing:\n",
      "tensor([0., 0., 0., 0.], requires_grad=True)\n"
     ]
    },
    {
     "name": "stderr",
     "output_type": "stream",
     "text": [
      "epoch: 121: 100%|███████████████████████████████████████████████████████████████████| 50/50 [00:00<00:00, 56.58batch/s]\n",
      "epoch: 122:  14%|█████████▌                                                          | 7/50 [00:00<00:00, 64.39batch/s]"
     ]
    },
    {
     "name": "stdout",
     "output_type": "stream",
     "text": [
      "loss training: 0.017426\n",
      "accuracy train: 1.000000 test: 0.789474\n",
      "\n",
      "Parameter containing:\n",
      "tensor([0., 0., 0., 0.], requires_grad=True)\n"
     ]
    },
    {
     "name": "stderr",
     "output_type": "stream",
     "text": [
      "epoch: 122: 100%|███████████████████████████████████████████████████████████████████| 50/50 [00:00<00:00, 53.56batch/s]\n",
      "epoch: 123:  14%|█████████▌                                                          | 7/50 [00:00<00:00, 59.48batch/s]"
     ]
    },
    {
     "name": "stdout",
     "output_type": "stream",
     "text": [
      "loss training: 0.013623\n",
      "accuracy train: 1.000000 test: 0.789474\n",
      "\n",
      "Parameter containing:\n",
      "tensor([0., 0., 0., 0.], requires_grad=True)\n"
     ]
    },
    {
     "name": "stderr",
     "output_type": "stream",
     "text": [
      "epoch: 123: 100%|███████████████████████████████████████████████████████████████████| 50/50 [00:00<00:00, 59.97batch/s]\n",
      "epoch: 124:  10%|██████▊                                                             | 5/50 [00:00<00:00, 49.15batch/s]"
     ]
    },
    {
     "name": "stdout",
     "output_type": "stream",
     "text": [
      "loss training: 0.021209\n",
      "accuracy train: 1.000000 test: 0.789474\n",
      "\n",
      "Parameter containing:\n",
      "tensor([0., 0., 0., 0.], requires_grad=True)\n"
     ]
    },
    {
     "name": "stderr",
     "output_type": "stream",
     "text": [
      "epoch: 124: 100%|███████████████████████████████████████████████████████████████████| 50/50 [00:00<00:00, 53.85batch/s]\n",
      "epoch: 125:  12%|████████▏                                                           | 6/50 [00:00<00:00, 59.56batch/s]"
     ]
    },
    {
     "name": "stdout",
     "output_type": "stream",
     "text": [
      "loss training: 0.016424\n",
      "accuracy train: 1.000000 test: 0.789474\n",
      "\n",
      "Parameter containing:\n",
      "tensor([0., 0., 0., 0.], requires_grad=True)\n"
     ]
    },
    {
     "name": "stderr",
     "output_type": "stream",
     "text": [
      "epoch: 125: 100%|███████████████████████████████████████████████████████████████████| 50/50 [00:00<00:00, 59.33batch/s]\n",
      "epoch: 126:  12%|████████▏                                                           | 6/50 [00:00<00:00, 58.98batch/s]"
     ]
    },
    {
     "name": "stdout",
     "output_type": "stream",
     "text": [
      "loss training: 0.009730\n",
      "accuracy train: 1.000000 test: 0.842105\n",
      "\n",
      "Parameter containing:\n",
      "tensor([0., 0., 0., 0.], requires_grad=True)\n"
     ]
    },
    {
     "name": "stderr",
     "output_type": "stream",
     "text": [
      "epoch: 126: 100%|███████████████████████████████████████████████████████████████████| 50/50 [00:00<00:00, 57.96batch/s]\n",
      "epoch: 127:  12%|████████▏                                                           | 6/50 [00:00<00:00, 59.56batch/s]"
     ]
    },
    {
     "name": "stdout",
     "output_type": "stream",
     "text": [
      "loss training: 0.010519\n",
      "accuracy train: 1.000000 test: 0.789474\n",
      "\n",
      "Parameter containing:\n",
      "tensor([0., 0., 0., 0.], requires_grad=True)\n"
     ]
    },
    {
     "name": "stderr",
     "output_type": "stream",
     "text": [
      "epoch: 127: 100%|███████████████████████████████████████████████████████████████████| 50/50 [00:00<00:00, 59.97batch/s]\n",
      "epoch: 128:  12%|████████▏                                                           | 6/50 [00:00<00:00, 59.56batch/s]"
     ]
    },
    {
     "name": "stdout",
     "output_type": "stream",
     "text": [
      "loss training: 0.021346\n",
      "accuracy train: 1.000000 test: 0.842105\n",
      "\n",
      "Parameter containing:\n",
      "tensor([0., 0., 0., 0.], requires_grad=True)\n"
     ]
    },
    {
     "name": "stderr",
     "output_type": "stream",
     "text": [
      "epoch: 128: 100%|███████████████████████████████████████████████████████████████████| 50/50 [00:00<00:00, 50.13batch/s]\n",
      "epoch: 129:  10%|██████▊                                                             | 5/50 [00:00<00:00, 45.99batch/s]"
     ]
    },
    {
     "name": "stdout",
     "output_type": "stream",
     "text": [
      "loss training: 0.017014\n",
      "accuracy train: 1.000000 test: 0.789474\n",
      "\n",
      "Parameter containing:\n",
      "tensor([0., 0., 0., 0.], requires_grad=True)\n"
     ]
    },
    {
     "name": "stderr",
     "output_type": "stream",
     "text": [
      "epoch: 129: 100%|███████████████████████████████████████████████████████████████████| 50/50 [00:01<00:00, 40.56batch/s]\n",
      "epoch: 130:  12%|████████▏                                                           | 6/50 [00:00<00:00, 51.42batch/s]"
     ]
    },
    {
     "name": "stdout",
     "output_type": "stream",
     "text": [
      "loss training: 0.012816\n",
      "accuracy train: 1.000000 test: 0.894737\n",
      "\n",
      "Parameter containing:\n",
      "tensor([0., 0., 0., 0.], requires_grad=True)\n"
     ]
    },
    {
     "name": "stderr",
     "output_type": "stream",
     "text": [
      "epoch: 130: 100%|███████████████████████████████████████████████████████████████████| 50/50 [00:01<00:00, 48.11batch/s]\n",
      "epoch: 131:  12%|████████▏                                                           | 6/50 [00:00<00:00, 58.98batch/s]"
     ]
    },
    {
     "name": "stdout",
     "output_type": "stream",
     "text": [
      "loss training: 0.015489\n",
      "accuracy train: 1.000000 test: 0.894737\n",
      "\n",
      "Parameter containing:\n",
      "tensor([0., 0., 0., 0.], requires_grad=True)\n"
     ]
    },
    {
     "name": "stderr",
     "output_type": "stream",
     "text": [
      "epoch: 131: 100%|███████████████████████████████████████████████████████████████████| 50/50 [00:01<00:00, 49.03batch/s]\n",
      "epoch: 132:  12%|████████▏                                                           | 6/50 [00:00<00:00, 52.77batch/s]"
     ]
    },
    {
     "name": "stdout",
     "output_type": "stream",
     "text": [
      "loss training: 0.026449\n",
      "accuracy train: 1.000000 test: 0.842105\n",
      "\n",
      "Parameter containing:\n",
      "tensor([0., 0., 0., 0.], requires_grad=True)\n"
     ]
    },
    {
     "name": "stderr",
     "output_type": "stream",
     "text": [
      "epoch: 132: 100%|███████████████████████████████████████████████████████████████████| 50/50 [00:00<00:00, 51.37batch/s]\n",
      "epoch: 133:  12%|████████▏                                                           | 6/50 [00:00<00:00, 50.98batch/s]"
     ]
    },
    {
     "name": "stdout",
     "output_type": "stream",
     "text": [
      "loss training: 0.016692\n",
      "accuracy train: 1.000000 test: 0.894737\n",
      "\n",
      "Parameter containing:\n",
      "tensor([0., 0., 0., 0.], requires_grad=True)\n"
     ]
    },
    {
     "name": "stderr",
     "output_type": "stream",
     "text": [
      "epoch: 133: 100%|███████████████████████████████████████████████████████████████████| 50/50 [00:01<00:00, 46.81batch/s]\n",
      "epoch: 134:  10%|██████▊                                                             | 5/50 [00:00<00:00, 48.21batch/s]"
     ]
    },
    {
     "name": "stdout",
     "output_type": "stream",
     "text": [
      "loss training: 0.011941\n",
      "accuracy train: 1.000000 test: 0.842105\n",
      "\n",
      "Parameter containing:\n",
      "tensor([0., 0., 0., 0.], requires_grad=True)\n"
     ]
    },
    {
     "name": "stderr",
     "output_type": "stream",
     "text": [
      "epoch: 134: 100%|███████████████████████████████████████████████████████████████████| 50/50 [00:00<00:00, 54.43batch/s]\n",
      "epoch: 135:  14%|█████████▌                                                          | 7/50 [00:00<00:00, 62.67batch/s]"
     ]
    },
    {
     "name": "stdout",
     "output_type": "stream",
     "text": [
      "loss training: 0.019218\n",
      "accuracy train: 1.000000 test: 0.842105\n",
      "\n",
      "Parameter containing:\n",
      "tensor([0., 0., 0., 0.], requires_grad=True)\n"
     ]
    },
    {
     "name": "stderr",
     "output_type": "stream",
     "text": [
      "epoch: 135: 100%|███████████████████████████████████████████████████████████████████| 50/50 [00:00<00:00, 55.27batch/s]\n",
      "epoch: 136:  14%|█████████▌                                                          | 7/50 [00:00<00:00, 62.67batch/s]"
     ]
    },
    {
     "name": "stdout",
     "output_type": "stream",
     "text": [
      "loss training: 0.015250\n",
      "accuracy train: 1.000000 test: 0.789474\n",
      "\n",
      "Parameter containing:\n",
      "tensor([0., 0., 0., 0.], requires_grad=True)\n"
     ]
    },
    {
     "name": "stderr",
     "output_type": "stream",
     "text": [
      "epoch: 136: 100%|███████████████████████████████████████████████████████████████████| 50/50 [00:00<00:00, 58.91batch/s]\n",
      "epoch: 137:  12%|████████▏                                                           | 6/50 [00:00<00:00, 57.85batch/s]"
     ]
    },
    {
     "name": "stdout",
     "output_type": "stream",
     "text": [
      "loss training: 0.009128\n",
      "accuracy train: 1.000000 test: 0.842105\n",
      "\n",
      "Parameter containing:\n",
      "tensor([0., 0., 0., 0.], requires_grad=True)\n"
     ]
    },
    {
     "name": "stderr",
     "output_type": "stream",
     "text": [
      "epoch: 137: 100%|███████████████████████████████████████████████████████████████████| 50/50 [00:00<00:00, 59.26batch/s]\n",
      "epoch: 138:  12%|████████▏                                                           | 6/50 [00:00<00:00, 54.69batch/s]"
     ]
    },
    {
     "name": "stdout",
     "output_type": "stream",
     "text": [
      "loss training: 0.031805\n",
      "accuracy train: 1.000000 test: 0.842105\n",
      "\n",
      "Parameter containing:\n",
      "tensor([0., 0., 0., 0.], requires_grad=True)\n"
     ]
    },
    {
     "name": "stderr",
     "output_type": "stream",
     "text": [
      "epoch: 138: 100%|███████████████████████████████████████████████████████████████████| 50/50 [00:00<00:00, 58.36batch/s]\n",
      "epoch: 139:  12%|████████▏                                                           | 6/50 [00:00<00:00, 59.56batch/s]"
     ]
    },
    {
     "name": "stdout",
     "output_type": "stream",
     "text": [
      "loss training: 0.035906\n",
      "accuracy train: 1.000000 test: 0.789474\n",
      "\n",
      "Parameter containing:\n",
      "tensor([0., 0., 0., 0.], requires_grad=True)\n"
     ]
    },
    {
     "name": "stderr",
     "output_type": "stream",
     "text": [
      "epoch: 139: 100%|███████████████████████████████████████████████████████████████████| 50/50 [00:00<00:00, 59.75batch/s]\n",
      "epoch: 140:  12%|████████▏                                                           | 6/50 [00:00<00:00, 52.77batch/s]"
     ]
    },
    {
     "name": "stdout",
     "output_type": "stream",
     "text": [
      "loss training: 0.021347\n",
      "accuracy train: 1.000000 test: 0.894737\n",
      "\n",
      "Parameter containing:\n",
      "tensor([0., 0., 0., 0.], requires_grad=True)\n"
     ]
    },
    {
     "name": "stderr",
     "output_type": "stream",
     "text": [
      "epoch: 140: 100%|███████████████████████████████████████████████████████████████████| 50/50 [00:00<00:00, 54.26batch/s]\n",
      "epoch: 141:  14%|█████████▌                                                          | 7/50 [00:00<00:00, 61.57batch/s]"
     ]
    },
    {
     "name": "stdout",
     "output_type": "stream",
     "text": [
      "loss training: 0.027944\n",
      "accuracy train: 1.000000 test: 0.842105\n",
      "\n",
      "Parameter containing:\n",
      "tensor([0., 0., 0., 0.], requires_grad=True)\n"
     ]
    },
    {
     "name": "stderr",
     "output_type": "stream",
     "text": [
      "epoch: 141: 100%|███████████████████████████████████████████████████████████████████| 50/50 [00:00<00:00, 55.70batch/s]\n",
      "epoch: 142:  14%|█████████▌                                                          | 7/50 [00:00<00:00, 58.98batch/s]"
     ]
    },
    {
     "name": "stdout",
     "output_type": "stream",
     "text": [
      "loss training: 0.015789\n",
      "accuracy train: 1.000000 test: 0.789474\n",
      "\n",
      "Parameter containing:\n",
      "tensor([0., 0., 0., 0.], requires_grad=True)\n"
     ]
    },
    {
     "name": "stderr",
     "output_type": "stream",
     "text": [
      "epoch: 142: 100%|███████████████████████████████████████████████████████████████████| 50/50 [00:00<00:00, 55.46batch/s]\n",
      "epoch: 143:  12%|████████▏                                                           | 6/50 [00:00<00:00, 57.30batch/s]"
     ]
    },
    {
     "name": "stdout",
     "output_type": "stream",
     "text": [
      "loss training: 0.013231\n",
      "accuracy train: 1.000000 test: 0.842105\n",
      "\n",
      "Parameter containing:\n",
      "tensor([0., 0., 0., 0.], requires_grad=True)\n"
     ]
    },
    {
     "name": "stderr",
     "output_type": "stream",
     "text": [
      "epoch: 143: 100%|███████████████████████████████████████████████████████████████████| 50/50 [00:00<00:00, 58.64batch/s]\n",
      "epoch: 144:  12%|████████▏                                                           | 6/50 [00:00<00:00, 57.30batch/s]"
     ]
    },
    {
     "name": "stdout",
     "output_type": "stream",
     "text": [
      "loss training: 0.031663\n",
      "accuracy train: 1.000000 test: 0.842105\n",
      "\n",
      "Parameter containing:\n",
      "tensor([0., 0., 0., 0.], requires_grad=True)\n"
     ]
    },
    {
     "name": "stderr",
     "output_type": "stream",
     "text": [
      "epoch: 144: 100%|███████████████████████████████████████████████████████████████████| 50/50 [00:00<00:00, 56.97batch/s]\n",
      "epoch: 145:  12%|████████▏                                                           | 6/50 [00:00<00:00, 58.98batch/s]"
     ]
    },
    {
     "name": "stdout",
     "output_type": "stream",
     "text": [
      "loss training: 0.014754\n",
      "accuracy train: 1.000000 test: 0.842105\n",
      "\n",
      "Parameter containing:\n",
      "tensor([0., 0., 0., 0.], requires_grad=True)\n"
     ]
    },
    {
     "name": "stderr",
     "output_type": "stream",
     "text": [
      "epoch: 145: 100%|███████████████████████████████████████████████████████████████████| 50/50 [00:00<00:00, 57.08batch/s]\n",
      "epoch: 146:  14%|█████████▌                                                          | 7/50 [00:00<00:00, 61.03batch/s]"
     ]
    },
    {
     "name": "stdout",
     "output_type": "stream",
     "text": [
      "loss training: 0.008407\n",
      "accuracy train: 1.000000 test: 0.789474\n",
      "\n",
      "Parameter containing:\n",
      "tensor([0., 0., 0., 0.], requires_grad=True)\n"
     ]
    },
    {
     "name": "stderr",
     "output_type": "stream",
     "text": [
      "epoch: 146: 100%|███████████████████████████████████████████████████████████████████| 50/50 [00:00<00:00, 57.82batch/s]\n",
      "epoch: 147:  12%|████████▏                                                           | 6/50 [00:00<00:00, 56.75batch/s]"
     ]
    },
    {
     "name": "stdout",
     "output_type": "stream",
     "text": [
      "loss training: 0.018363\n",
      "accuracy train: 1.000000 test: 0.894737\n",
      "\n",
      "Parameter containing:\n",
      "tensor([0., 0., 0., 0.], requires_grad=True)\n"
     ]
    },
    {
     "name": "stderr",
     "output_type": "stream",
     "text": [
      "epoch: 147: 100%|███████████████████████████████████████████████████████████████████| 50/50 [00:00<00:00, 56.52batch/s]\n",
      "epoch: 148:  10%|██████▊                                                             | 5/50 [00:00<00:00, 49.29batch/s]"
     ]
    },
    {
     "name": "stdout",
     "output_type": "stream",
     "text": [
      "loss training: 0.019113\n",
      "accuracy train: 1.000000 test: 0.789474\n",
      "\n",
      "Parameter containing:\n",
      "tensor([0., 0., 0., 0.], requires_grad=True)\n"
     ]
    },
    {
     "name": "stderr",
     "output_type": "stream",
     "text": [
      "epoch: 148: 100%|███████████████████████████████████████████████████████████████████| 50/50 [00:00<00:00, 54.93batch/s]\n",
      "epoch: 149:  12%|████████▏                                                           | 6/50 [00:00<00:00, 56.76batch/s]"
     ]
    },
    {
     "name": "stdout",
     "output_type": "stream",
     "text": [
      "loss training: 0.050537\n",
      "accuracy train: 0.994083 test: 0.894737\n",
      "\n",
      "Parameter containing:\n",
      "tensor([0., 0., 0., 0.], requires_grad=True)\n"
     ]
    },
    {
     "name": "stderr",
     "output_type": "stream",
     "text": [
      "epoch: 149: 100%|███████████████████████████████████████████████████████████████████| 50/50 [00:00<00:00, 50.36batch/s]\n",
      "epoch: 150:  12%|████████▏                                                           | 6/50 [00:00<00:00, 57.30batch/s]"
     ]
    },
    {
     "name": "stdout",
     "output_type": "stream",
     "text": [
      "loss training: 0.047319\n",
      "accuracy train: 1.000000 test: 0.789474\n",
      "\n",
      "Parameter containing:\n",
      "tensor([0., 0., 0., 0.], requires_grad=True)\n"
     ]
    },
    {
     "name": "stderr",
     "output_type": "stream",
     "text": [
      "epoch: 150: 100%|███████████████████████████████████████████████████████████████████| 50/50 [00:00<00:00, 55.34batch/s]\n",
      "epoch: 151:  10%|██████▊                                                             | 5/50 [00:00<00:00, 47.30batch/s]"
     ]
    },
    {
     "name": "stdout",
     "output_type": "stream",
     "text": [
      "loss training: 0.061970\n",
      "accuracy train: 1.000000 test: 0.842105\n",
      "\n",
      "Parameter containing:\n",
      "tensor([0., 0., 0., 0.], requires_grad=True)\n"
     ]
    },
    {
     "name": "stderr",
     "output_type": "stream",
     "text": [
      "epoch: 151: 100%|███████████████████████████████████████████████████████████████████| 50/50 [00:00<00:00, 53.56batch/s]\n",
      "epoch: 152:  12%|████████▏                                                           | 6/50 [00:00<00:00, 56.22batch/s]"
     ]
    },
    {
     "name": "stdout",
     "output_type": "stream",
     "text": [
      "loss training: 0.023730\n",
      "accuracy train: 1.000000 test: 0.842105\n",
      "\n",
      "Parameter containing:\n",
      "tensor([0., 0., 0., 0.], requires_grad=True)\n"
     ]
    },
    {
     "name": "stderr",
     "output_type": "stream",
     "text": [
      "epoch: 152: 100%|███████████████████████████████████████████████████████████████████| 50/50 [00:00<00:00, 55.89batch/s]\n",
      "epoch: 153:  10%|██████▊                                                             | 5/50 [00:00<00:00, 46.84batch/s]"
     ]
    },
    {
     "name": "stdout",
     "output_type": "stream",
     "text": [
      "loss training: 0.019066\n",
      "accuracy train: 1.000000 test: 0.842105\n",
      "\n",
      "Parameter containing:\n",
      "tensor([0., 0., 0., 0.], requires_grad=True)\n"
     ]
    },
    {
     "name": "stderr",
     "output_type": "stream",
     "text": [
      "epoch: 153: 100%|███████████████████████████████████████████████████████████████████| 50/50 [00:00<00:00, 67.29batch/s]\n",
      "epoch: 154:  12%|████████▏                                                           | 6/50 [00:00<00:00, 55.80batch/s]"
     ]
    },
    {
     "name": "stdout",
     "output_type": "stream",
     "text": [
      "loss training: 0.017390\n",
      "accuracy train: 1.000000 test: 0.789474\n",
      "\n",
      "Parameter containing:\n",
      "tensor([0., 0., 0., 0.], requires_grad=True)\n"
     ]
    },
    {
     "name": "stderr",
     "output_type": "stream",
     "text": [
      "epoch: 154: 100%|███████████████████████████████████████████████████████████████████| 50/50 [00:00<00:00, 61.54batch/s]\n",
      "epoch: 155:  14%|█████████▌                                                          | 7/50 [00:00<00:00, 62.61batch/s]"
     ]
    },
    {
     "name": "stdout",
     "output_type": "stream",
     "text": [
      "loss training: 0.013130\n",
      "accuracy train: 1.000000 test: 0.842105\n",
      "\n",
      "Parameter containing:\n",
      "tensor([0., 0., 0., 0.], requires_grad=True)\n"
     ]
    },
    {
     "name": "stderr",
     "output_type": "stream",
     "text": [
      "epoch: 155: 100%|███████████████████████████████████████████████████████████████████| 50/50 [00:00<00:00, 55.19batch/s]\n",
      "epoch: 156:  14%|█████████▌                                                          | 7/50 [00:00<00:00, 66.58batch/s]"
     ]
    },
    {
     "name": "stdout",
     "output_type": "stream",
     "text": [
      "loss training: 0.016812\n",
      "accuracy train: 1.000000 test: 0.789474\n",
      "\n",
      "Parameter containing:\n",
      "tensor([0., 0., 0., 0.], requires_grad=True)\n"
     ]
    },
    {
     "name": "stderr",
     "output_type": "stream",
     "text": [
      "epoch: 156: 100%|███████████████████████████████████████████████████████████████████| 50/50 [00:00<00:00, 62.48batch/s]\n",
      "epoch: 157:  14%|█████████▌                                                          | 7/50 [00:00<00:00, 63.73batch/s]"
     ]
    },
    {
     "name": "stdout",
     "output_type": "stream",
     "text": [
      "loss training: 0.019423\n",
      "accuracy train: 1.000000 test: 0.842105\n",
      "\n",
      "Parameter containing:\n",
      "tensor([0., 0., 0., 0.], requires_grad=True)\n"
     ]
    },
    {
     "name": "stderr",
     "output_type": "stream",
     "text": [
      "epoch: 157: 100%|███████████████████████████████████████████████████████████████████| 50/50 [00:00<00:00, 67.48batch/s]\n",
      "epoch: 158:  14%|█████████▌                                                          | 7/50 [00:00<00:00, 66.66batch/s]"
     ]
    },
    {
     "name": "stdout",
     "output_type": "stream",
     "text": [
      "loss training: 0.021722\n",
      "accuracy train: 1.000000 test: 0.842105\n",
      "\n",
      "Parameter containing:\n",
      "tensor([0., 0., 0., 0.], requires_grad=True)\n"
     ]
    },
    {
     "name": "stderr",
     "output_type": "stream",
     "text": [
      "epoch: 158: 100%|███████████████████████████████████████████████████████████████████| 50/50 [00:00<00:00, 69.11batch/s]\n",
      "epoch: 159:  14%|█████████▌                                                          | 7/50 [00:00<00:00, 66.91batch/s]"
     ]
    },
    {
     "name": "stdout",
     "output_type": "stream",
     "text": [
      "loss training: 0.016441\n",
      "accuracy train: 1.000000 test: 0.789474\n",
      "\n",
      "Parameter containing:\n",
      "tensor([0., 0., 0., 0.], requires_grad=True)\n"
     ]
    },
    {
     "name": "stderr",
     "output_type": "stream",
     "text": [
      "epoch: 159: 100%|███████████████████████████████████████████████████████████████████| 50/50 [00:00<00:00, 69.50batch/s]\n",
      "epoch: 160:  14%|█████████▌                                                          | 7/50 [00:00<00:00, 64.36batch/s]"
     ]
    },
    {
     "name": "stdout",
     "output_type": "stream",
     "text": [
      "loss training: 0.012364\n",
      "accuracy train: 1.000000 test: 0.789474\n",
      "\n",
      "Parameter containing:\n",
      "tensor([0., 0., 0., 0.], requires_grad=True)\n"
     ]
    },
    {
     "name": "stderr",
     "output_type": "stream",
     "text": [
      "epoch: 160: 100%|███████████████████████████████████████████████████████████████████| 50/50 [00:00<00:00, 69.20batch/s]\n",
      "epoch: 161:  16%|██████████▉                                                         | 8/50 [00:00<00:00, 69.22batch/s]"
     ]
    },
    {
     "name": "stdout",
     "output_type": "stream",
     "text": [
      "loss training: 0.019394\n",
      "accuracy train: 1.000000 test: 0.789474\n",
      "\n",
      "Parameter containing:\n",
      "tensor([0., 0., 0., 0.], requires_grad=True)\n"
     ]
    },
    {
     "name": "stderr",
     "output_type": "stream",
     "text": [
      "epoch: 161: 100%|███████████████████████████████████████████████████████████████████| 50/50 [00:00<00:00, 68.61batch/s]\n",
      "epoch: 162:  16%|██████████▉                                                         | 8/50 [00:00<00:00, 71.07batch/s]"
     ]
    },
    {
     "name": "stdout",
     "output_type": "stream",
     "text": [
      "loss training: 0.016307\n",
      "accuracy train: 1.000000 test: 0.789474\n",
      "\n",
      "Parameter containing:\n",
      "tensor([0., 0., 0., 0.], requires_grad=True)\n"
     ]
    },
    {
     "name": "stderr",
     "output_type": "stream",
     "text": [
      "epoch: 162: 100%|███████████████████████████████████████████████████████████████████| 50/50 [00:00<00:00, 69.40batch/s]\n",
      "epoch: 163:  14%|█████████▌                                                          | 7/50 [00:00<00:00, 66.62batch/s]"
     ]
    },
    {
     "name": "stdout",
     "output_type": "stream",
     "text": [
      "loss training: 0.017811\n",
      "accuracy train: 1.000000 test: 0.789474\n",
      "\n",
      "Parameter containing:\n",
      "tensor([0., 0., 0., 0.], requires_grad=True)\n"
     ]
    },
    {
     "name": "stderr",
     "output_type": "stream",
     "text": [
      "epoch: 163: 100%|███████████████████████████████████████████████████████████████████| 50/50 [00:00<00:00, 68.40batch/s]\n",
      "epoch: 164:  16%|██████████▉                                                         | 8/50 [00:00<00:00, 65.80batch/s]"
     ]
    },
    {
     "name": "stdout",
     "output_type": "stream",
     "text": [
      "loss training: 0.008624\n",
      "accuracy train: 1.000000 test: 0.789474\n",
      "\n",
      "Parameter containing:\n",
      "tensor([0., 0., 0., 0.], requires_grad=True)\n"
     ]
    },
    {
     "name": "stderr",
     "output_type": "stream",
     "text": [
      "epoch: 164: 100%|███████████████████████████████████████████████████████████████████| 50/50 [00:00<00:00, 69.44batch/s]\n",
      "epoch: 165:  16%|██████████▉                                                         | 8/50 [00:00<00:00, 74.01batch/s]"
     ]
    },
    {
     "name": "stdout",
     "output_type": "stream",
     "text": [
      "loss training: 0.016049\n",
      "accuracy train: 1.000000 test: 0.894737\n",
      "\n",
      "Parameter containing:\n",
      "tensor([0., 0., 0., 0.], requires_grad=True)\n"
     ]
    },
    {
     "name": "stderr",
     "output_type": "stream",
     "text": [
      "epoch: 165: 100%|███████████████████████████████████████████████████████████████████| 50/50 [00:00<00:00, 69.98batch/s]\n",
      "epoch: 166:  14%|█████████▌                                                          | 7/50 [00:00<00:00, 69.97batch/s]"
     ]
    },
    {
     "name": "stdout",
     "output_type": "stream",
     "text": [
      "loss training: 0.011811\n",
      "accuracy train: 1.000000 test: 0.789474\n",
      "\n",
      "Parameter containing:\n",
      "tensor([0., 0., 0., 0.], requires_grad=True)\n"
     ]
    },
    {
     "name": "stderr",
     "output_type": "stream",
     "text": [
      "epoch: 166: 100%|███████████████████████████████████████████████████████████████████| 50/50 [00:00<00:00, 69.26batch/s]\n",
      "epoch: 167:  14%|█████████▌                                                          | 7/50 [00:00<00:00, 69.81batch/s]"
     ]
    },
    {
     "name": "stdout",
     "output_type": "stream",
     "text": [
      "loss training: 0.014056\n",
      "accuracy train: 1.000000 test: 0.789474\n",
      "\n",
      "Parameter containing:\n",
      "tensor([0., 0., 0., 0.], requires_grad=True)\n"
     ]
    },
    {
     "name": "stderr",
     "output_type": "stream",
     "text": [
      "epoch: 167: 100%|███████████████████████████████████████████████████████████████████| 50/50 [00:00<00:00, 66.65batch/s]\n",
      "epoch: 168:  14%|█████████▌                                                          | 7/50 [00:00<00:00, 63.66batch/s]"
     ]
    },
    {
     "name": "stdout",
     "output_type": "stream",
     "text": [
      "loss training: 0.020127\n",
      "accuracy train: 1.000000 test: 0.789474\n",
      "\n",
      "Parameter containing:\n",
      "tensor([0., 0., 0., 0.], requires_grad=True)\n"
     ]
    },
    {
     "name": "stderr",
     "output_type": "stream",
     "text": [
      "epoch: 168: 100%|███████████████████████████████████████████████████████████████████| 50/50 [00:00<00:00, 68.20batch/s]\n",
      "epoch: 169:  14%|█████████▌                                                          | 7/50 [00:00<00:00, 63.36batch/s]"
     ]
    },
    {
     "name": "stdout",
     "output_type": "stream",
     "text": [
      "loss training: 0.018877\n",
      "accuracy train: 1.000000 test: 0.789474\n",
      "\n",
      "Parameter containing:\n",
      "tensor([0., 0., 0., 0.], requires_grad=True)\n"
     ]
    },
    {
     "name": "stderr",
     "output_type": "stream",
     "text": [
      "epoch: 169: 100%|███████████████████████████████████████████████████████████████████| 50/50 [00:00<00:00, 67.54batch/s]\n",
      "epoch: 170:  16%|██████████▉                                                         | 8/50 [00:00<00:00, 67.47batch/s]"
     ]
    },
    {
     "name": "stdout",
     "output_type": "stream",
     "text": [
      "loss training: 0.010749\n",
      "accuracy train: 1.000000 test: 0.842105\n",
      "\n",
      "Parameter containing:\n",
      "tensor([0., 0., 0., 0.], requires_grad=True)\n"
     ]
    },
    {
     "name": "stderr",
     "output_type": "stream",
     "text": [
      "epoch: 170: 100%|███████████████████████████████████████████████████████████████████| 50/50 [00:00<00:00, 64.93batch/s]\n",
      "epoch: 171:  14%|█████████▌                                                          | 7/50 [00:00<00:00, 66.20batch/s]"
     ]
    },
    {
     "name": "stdout",
     "output_type": "stream",
     "text": [
      "loss training: 0.019495\n",
      "accuracy train: 1.000000 test: 0.789474\n",
      "\n",
      "Parameter containing:\n",
      "tensor([0., 0., 0., 0.], requires_grad=True)\n"
     ]
    },
    {
     "name": "stderr",
     "output_type": "stream",
     "text": [
      "epoch: 171: 100%|███████████████████████████████████████████████████████████████████| 50/50 [00:00<00:00, 67.91batch/s]\n",
      "epoch: 172:  16%|██████████▉                                                         | 8/50 [00:00<00:00, 77.17batch/s]"
     ]
    },
    {
     "name": "stdout",
     "output_type": "stream",
     "text": [
      "loss training: 0.011033\n",
      "accuracy train: 1.000000 test: 0.789474\n",
      "\n",
      "Parameter containing:\n",
      "tensor([0., 0., 0., 0.], requires_grad=True)\n"
     ]
    },
    {
     "name": "stderr",
     "output_type": "stream",
     "text": [
      "epoch: 172: 100%|███████████████████████████████████████████████████████████████████| 50/50 [00:00<00:00, 67.95batch/s]\n",
      "epoch: 173:  12%|████████▏                                                           | 6/50 [00:00<00:00, 59.73batch/s]"
     ]
    },
    {
     "name": "stdout",
     "output_type": "stream",
     "text": [
      "loss training: 0.013845\n",
      "accuracy train: 1.000000 test: 0.894737\n",
      "\n",
      "Parameter containing:\n",
      "tensor([0., 0., 0., 0.], requires_grad=True)\n"
     ]
    },
    {
     "name": "stderr",
     "output_type": "stream",
     "text": [
      "epoch: 173: 100%|███████████████████████████████████████████████████████████████████| 50/50 [00:00<00:00, 56.52batch/s]\n",
      "epoch: 174:  12%|████████▏                                                           | 6/50 [00:00<00:00, 57.46batch/s]"
     ]
    },
    {
     "name": "stdout",
     "output_type": "stream",
     "text": [
      "loss training: 0.013356\n",
      "accuracy train: 1.000000 test: 0.842105\n",
      "\n",
      "Parameter containing:\n",
      "tensor([0., 0., 0., 0.], requires_grad=True)\n"
     ]
    },
    {
     "name": "stderr",
     "output_type": "stream",
     "text": [
      "epoch: 174: 100%|███████████████████████████████████████████████████████████████████| 50/50 [00:00<00:00, 67.05batch/s]\n",
      "epoch: 175:  16%|██████████▉                                                         | 8/50 [00:00<00:00, 66.30batch/s]"
     ]
    },
    {
     "name": "stdout",
     "output_type": "stream",
     "text": [
      "loss training: 0.013178\n",
      "accuracy train: 1.000000 test: 0.842105\n",
      "\n",
      "Parameter containing:\n",
      "tensor([0., 0., 0., 0.], requires_grad=True)\n"
     ]
    },
    {
     "name": "stderr",
     "output_type": "stream",
     "text": [
      "epoch: 175: 100%|███████████████████████████████████████████████████████████████████| 50/50 [00:00<00:00, 70.61batch/s]\n",
      "epoch: 176:  10%|██████▊                                                             | 5/50 [00:00<00:00, 49.22batch/s]"
     ]
    },
    {
     "name": "stdout",
     "output_type": "stream",
     "text": [
      "loss training: 0.010795\n",
      "accuracy train: 1.000000 test: 0.789474\n",
      "\n",
      "Parameter containing:\n",
      "tensor([0., 0., 0., 0.], requires_grad=True)\n"
     ]
    },
    {
     "name": "stderr",
     "output_type": "stream",
     "text": [
      "epoch: 176: 100%|███████████████████████████████████████████████████████████████████| 50/50 [00:00<00:00, 60.56batch/s]\n",
      "epoch: 177:  16%|██████████▉                                                         | 8/50 [00:00<00:00, 68.31batch/s]"
     ]
    },
    {
     "name": "stdout",
     "output_type": "stream",
     "text": [
      "loss training: 0.011782\n",
      "accuracy train: 1.000000 test: 0.789474\n",
      "\n",
      "Parameter containing:\n",
      "tensor([0., 0., 0., 0.], requires_grad=True)\n"
     ]
    },
    {
     "name": "stderr",
     "output_type": "stream",
     "text": [
      "epoch: 177: 100%|███████████████████████████████████████████████████████████████████| 50/50 [00:00<00:00, 64.63batch/s]\n",
      "epoch: 178:  14%|█████████▌                                                          | 7/50 [00:00<00:00, 64.84batch/s]"
     ]
    },
    {
     "name": "stdout",
     "output_type": "stream",
     "text": [
      "loss training: 0.010537\n",
      "accuracy train: 1.000000 test: 0.842105\n",
      "\n",
      "Parameter containing:\n",
      "tensor([0., 0., 0., 0.], requires_grad=True)\n"
     ]
    },
    {
     "name": "stderr",
     "output_type": "stream",
     "text": [
      "epoch: 178: 100%|███████████████████████████████████████████████████████████████████| 50/50 [00:00<00:00, 68.71batch/s]\n",
      "epoch: 179:  12%|████████▏                                                           | 6/50 [00:00<00:00, 52.75batch/s]"
     ]
    },
    {
     "name": "stdout",
     "output_type": "stream",
     "text": [
      "loss training: 0.008490\n",
      "accuracy train: 1.000000 test: 0.789474\n",
      "\n",
      "Parameter containing:\n",
      "tensor([0., 0., 0., 0.], requires_grad=True)\n"
     ]
    },
    {
     "name": "stderr",
     "output_type": "stream",
     "text": [
      "epoch: 179: 100%|███████████████████████████████████████████████████████████████████| 50/50 [00:00<00:00, 58.36batch/s]\n",
      "epoch: 180:  14%|█████████▌                                                          | 7/50 [00:00<00:00, 67.12batch/s]"
     ]
    },
    {
     "name": "stdout",
     "output_type": "stream",
     "text": [
      "loss training: 0.024307\n",
      "accuracy train: 1.000000 test: 0.789474\n",
      "\n",
      "Parameter containing:\n",
      "tensor([0., 0., 0., 0.], requires_grad=True)\n"
     ]
    },
    {
     "name": "stderr",
     "output_type": "stream",
     "text": [
      "epoch: 180: 100%|███████████████████████████████████████████████████████████████████| 50/50 [00:00<00:00, 68.70batch/s]\n",
      "epoch: 181:  14%|█████████▌                                                          | 7/50 [00:00<00:00, 63.89batch/s]"
     ]
    },
    {
     "name": "stdout",
     "output_type": "stream",
     "text": [
      "loss training: 0.011305\n",
      "accuracy train: 1.000000 test: 0.842105\n",
      "\n",
      "Parameter containing:\n",
      "tensor([0., 0., 0., 0.], requires_grad=True)\n"
     ]
    },
    {
     "name": "stderr",
     "output_type": "stream",
     "text": [
      "epoch: 181: 100%|███████████████████████████████████████████████████████████████████| 50/50 [00:00<00:00, 69.34batch/s]\n",
      "epoch: 182:  14%|█████████▌                                                          | 7/50 [00:00<00:00, 68.77batch/s]"
     ]
    },
    {
     "name": "stdout",
     "output_type": "stream",
     "text": [
      "loss training: 0.012953\n",
      "accuracy train: 1.000000 test: 0.842105\n",
      "\n",
      "Parameter containing:\n",
      "tensor([0., 0., 0., 0.], requires_grad=True)\n"
     ]
    },
    {
     "name": "stderr",
     "output_type": "stream",
     "text": [
      "epoch: 182: 100%|███████████████████████████████████████████████████████████████████| 50/50 [00:00<00:00, 68.40batch/s]\n",
      "epoch: 183:  12%|████████▏                                                           | 6/50 [00:00<00:00, 58.04batch/s]"
     ]
    },
    {
     "name": "stdout",
     "output_type": "stream",
     "text": [
      "loss training: 0.014435\n",
      "accuracy train: 1.000000 test: 0.842105\n",
      "\n",
      "Parameter containing:\n",
      "tensor([0., 0., 0., 0.], requires_grad=True)\n"
     ]
    },
    {
     "name": "stderr",
     "output_type": "stream",
     "text": [
      "epoch: 183: 100%|███████████████████████████████████████████████████████████████████| 50/50 [00:00<00:00, 57.02batch/s]\n",
      "epoch: 184:  14%|█████████▌                                                          | 7/50 [00:00<00:00, 62.15batch/s]"
     ]
    },
    {
     "name": "stdout",
     "output_type": "stream",
     "text": [
      "loss training: 0.015291\n",
      "accuracy train: 1.000000 test: 0.842105\n",
      "\n",
      "Parameter containing:\n",
      "tensor([0., 0., 0., 0.], requires_grad=True)\n"
     ]
    },
    {
     "name": "stderr",
     "output_type": "stream",
     "text": [
      "epoch: 184: 100%|███████████████████████████████████████████████████████████████████| 50/50 [00:00<00:00, 68.36batch/s]\n",
      "epoch: 185:  16%|██████████▉                                                         | 8/50 [00:00<00:00, 76.10batch/s]"
     ]
    },
    {
     "name": "stdout",
     "output_type": "stream",
     "text": [
      "loss training: 0.013966\n",
      "accuracy train: 1.000000 test: 0.842105\n",
      "\n",
      "Parameter containing:\n",
      "tensor([0., 0., 0., 0.], requires_grad=True)\n"
     ]
    },
    {
     "name": "stderr",
     "output_type": "stream",
     "text": [
      "epoch: 185: 100%|███████████████████████████████████████████████████████████████████| 50/50 [00:00<00:00, 67.74batch/s]\n",
      "epoch: 186:  16%|██████████▉                                                         | 8/50 [00:00<00:00, 65.92batch/s]"
     ]
    },
    {
     "name": "stdout",
     "output_type": "stream",
     "text": [
      "loss training: 0.011795\n",
      "accuracy train: 1.000000 test: 0.842105\n",
      "\n",
      "Parameter containing:\n",
      "tensor([0., 0., 0., 0.], requires_grad=True)\n"
     ]
    },
    {
     "name": "stderr",
     "output_type": "stream",
     "text": [
      "epoch: 186: 100%|███████████████████████████████████████████████████████████████████| 50/50 [00:00<00:00, 66.22batch/s]\n",
      "epoch: 187:  16%|██████████▉                                                         | 8/50 [00:00<00:00, 65.23batch/s]"
     ]
    },
    {
     "name": "stdout",
     "output_type": "stream",
     "text": [
      "loss training: 0.008370\n",
      "accuracy train: 1.000000 test: 0.842105\n",
      "\n",
      "Parameter containing:\n",
      "tensor([0., 0., 0., 0.], requires_grad=True)\n"
     ]
    },
    {
     "name": "stderr",
     "output_type": "stream",
     "text": [
      "epoch: 187: 100%|███████████████████████████████████████████████████████████████████| 50/50 [00:00<00:00, 66.19batch/s]\n",
      "epoch: 188:  16%|██████████▉                                                         | 8/50 [00:00<00:00, 78.21batch/s]"
     ]
    },
    {
     "name": "stdout",
     "output_type": "stream",
     "text": [
      "loss training: 0.021220\n",
      "accuracy train: 1.000000 test: 0.789474\n",
      "\n",
      "Parameter containing:\n",
      "tensor([0., 0., 0., 0.], requires_grad=True)\n"
     ]
    },
    {
     "name": "stderr",
     "output_type": "stream",
     "text": [
      "epoch: 188: 100%|███████████████████████████████████████████████████████████████████| 50/50 [00:00<00:00, 59.40batch/s]\n",
      "epoch: 189:  12%|████████▏                                                           | 6/50 [00:00<00:00, 56.22batch/s]"
     ]
    },
    {
     "name": "stdout",
     "output_type": "stream",
     "text": [
      "loss training: 0.012774\n",
      "accuracy train: 1.000000 test: 0.789474\n",
      "\n",
      "Parameter containing:\n",
      "tensor([0., 0., 0., 0.], requires_grad=True)\n"
     ]
    },
    {
     "name": "stderr",
     "output_type": "stream",
     "text": [
      "epoch: 189: 100%|███████████████████████████████████████████████████████████████████| 50/50 [00:00<00:00, 55.18batch/s]\n",
      "epoch: 190:  12%|████████▏                                                           | 6/50 [00:00<00:00, 53.72batch/s]"
     ]
    },
    {
     "name": "stdout",
     "output_type": "stream",
     "text": [
      "loss training: 0.015912\n",
      "accuracy train: 1.000000 test: 0.789474\n",
      "\n",
      "Parameter containing:\n",
      "tensor([0., 0., 0., 0.], requires_grad=True)\n"
     ]
    },
    {
     "name": "stderr",
     "output_type": "stream",
     "text": [
      "epoch: 190: 100%|███████████████████████████████████████████████████████████████████| 50/50 [00:01<00:00, 45.69batch/s]\n",
      "epoch: 191:  12%|████████▏                                                           | 6/50 [00:00<00:00, 50.98batch/s]"
     ]
    },
    {
     "name": "stdout",
     "output_type": "stream",
     "text": [
      "loss training: 0.011966\n",
      "accuracy train: 1.000000 test: 0.789474\n",
      "\n",
      "Parameter containing:\n",
      "tensor([0., 0., 0., 0.], requires_grad=True)\n"
     ]
    },
    {
     "name": "stderr",
     "output_type": "stream",
     "text": [
      "epoch: 191: 100%|███████████████████████████████████████████████████████████████████| 50/50 [00:00<00:00, 56.94batch/s]\n",
      "epoch: 192:  12%|████████▏                                                           | 6/50 [00:00<00:00, 58.98batch/s]"
     ]
    },
    {
     "name": "stdout",
     "output_type": "stream",
     "text": [
      "loss training: 0.020725\n",
      "accuracy train: 1.000000 test: 0.842105\n",
      "\n",
      "Parameter containing:\n",
      "tensor([0., 0., 0., 0.], requires_grad=True)\n"
     ]
    },
    {
     "name": "stderr",
     "output_type": "stream",
     "text": [
      "epoch: 192: 100%|███████████████████████████████████████████████████████████████████| 50/50 [00:00<00:00, 58.84batch/s]\n",
      "epoch: 193:  10%|██████▊                                                             | 5/50 [00:00<00:01, 44.76batch/s]"
     ]
    },
    {
     "name": "stdout",
     "output_type": "stream",
     "text": [
      "loss training: 0.015900\n",
      "accuracy train: 1.000000 test: 0.789474\n",
      "\n",
      "Parameter containing:\n",
      "tensor([0., 0., 0., 0.], requires_grad=True)\n"
     ]
    },
    {
     "name": "stderr",
     "output_type": "stream",
     "text": [
      "epoch: 193: 100%|███████████████████████████████████████████████████████████████████| 50/50 [00:01<00:00, 45.04batch/s]\n",
      "epoch: 194:  10%|██████▊                                                             | 5/50 [00:00<00:00, 47.75batch/s]"
     ]
    },
    {
     "name": "stdout",
     "output_type": "stream",
     "text": [
      "loss training: 0.015792\n",
      "accuracy train: 1.000000 test: 0.894737\n",
      "\n",
      "Parameter containing:\n",
      "tensor([0., 0., 0., 0.], requires_grad=True)\n"
     ]
    },
    {
     "name": "stderr",
     "output_type": "stream",
     "text": [
      "epoch: 194: 100%|███████████████████████████████████████████████████████████████████| 50/50 [00:01<00:00, 48.82batch/s]\n",
      "epoch: 195:  14%|█████████▌                                                          | 7/50 [00:00<00:00, 62.67batch/s]"
     ]
    },
    {
     "name": "stdout",
     "output_type": "stream",
     "text": [
      "loss training: 0.012923\n",
      "accuracy train: 1.000000 test: 0.894737\n",
      "\n",
      "Parameter containing:\n",
      "tensor([0., 0., 0., 0.], requires_grad=True)\n"
     ]
    },
    {
     "name": "stderr",
     "output_type": "stream",
     "text": [
      "epoch: 195: 100%|███████████████████████████████████████████████████████████████████| 50/50 [00:00<00:00, 58.16batch/s]\n",
      "epoch: 196:  12%|████████▏                                                           | 6/50 [00:00<00:00, 56.23batch/s]"
     ]
    },
    {
     "name": "stdout",
     "output_type": "stream",
     "text": [
      "loss training: 0.016740\n",
      "accuracy train: 1.000000 test: 0.842105\n",
      "\n",
      "Parameter containing:\n",
      "tensor([0., 0., 0., 0.], requires_grad=True)\n"
     ]
    },
    {
     "name": "stderr",
     "output_type": "stream",
     "text": [
      "epoch: 196: 100%|███████████████████████████████████████████████████████████████████| 50/50 [00:00<00:00, 56.05batch/s]\n",
      "epoch: 197:  12%|████████▏                                                           | 6/50 [00:00<00:00, 58.41batch/s]"
     ]
    },
    {
     "name": "stdout",
     "output_type": "stream",
     "text": [
      "loss training: 0.014321\n",
      "accuracy train: 1.000000 test: 0.842105\n",
      "\n",
      "Parameter containing:\n",
      "tensor([0., 0., 0., 0.], requires_grad=True)\n"
     ]
    },
    {
     "name": "stderr",
     "output_type": "stream",
     "text": [
      "epoch: 197: 100%|███████████████████████████████████████████████████████████████████| 50/50 [00:00<00:00, 56.97batch/s]\n",
      "epoch: 198:  12%|████████▏                                                           | 6/50 [00:00<00:00, 59.56batch/s]"
     ]
    },
    {
     "name": "stdout",
     "output_type": "stream",
     "text": [
      "loss training: 0.012288\n",
      "accuracy train: 1.000000 test: 0.842105\n",
      "\n",
      "Parameter containing:\n",
      "tensor([0., 0., 0., 0.], requires_grad=True)\n"
     ]
    },
    {
     "name": "stderr",
     "output_type": "stream",
     "text": [
      "epoch: 198: 100%|███████████████████████████████████████████████████████████████████| 50/50 [00:00<00:00, 55.55batch/s]\n",
      "epoch: 199:  12%|████████▏                                                           | 6/50 [00:00<00:00, 56.23batch/s]"
     ]
    },
    {
     "name": "stdout",
     "output_type": "stream",
     "text": [
      "loss training: 0.009852\n",
      "accuracy train: 1.000000 test: 0.842105\n",
      "\n",
      "Parameter containing:\n",
      "tensor([0., 0., 0., 0.], requires_grad=True)\n"
     ]
    },
    {
     "name": "stderr",
     "output_type": "stream",
     "text": [
      "epoch: 199: 100%|███████████████████████████████████████████████████████████████████| 50/50 [00:00<00:00, 53.28batch/s]\n",
      "epoch: 200:  12%|████████▏                                                           | 6/50 [00:00<00:00, 57.30batch/s]"
     ]
    },
    {
     "name": "stdout",
     "output_type": "stream",
     "text": [
      "loss training: 0.012880\n",
      "accuracy train: 1.000000 test: 0.842105\n",
      "\n",
      "Parameter containing:\n",
      "tensor([0., 0., 0., 0.], requires_grad=True)\n"
     ]
    },
    {
     "name": "stderr",
     "output_type": "stream",
     "text": [
      "epoch: 200: 100%|███████████████████████████████████████████████████████████████████| 50/50 [00:00<00:00, 58.32batch/s]\n",
      "epoch: 201:  10%|██████▊                                                             | 5/50 [00:00<00:00, 49.64batch/s]"
     ]
    },
    {
     "name": "stdout",
     "output_type": "stream",
     "text": [
      "loss training: 0.011466\n",
      "accuracy train: 1.000000 test: 0.842105\n",
      "\n",
      "Parameter containing:\n",
      "tensor([0., 0., 0., 0.], requires_grad=True)\n"
     ]
    },
    {
     "name": "stderr",
     "output_type": "stream",
     "text": [
      "epoch: 201: 100%|███████████████████████████████████████████████████████████████████| 50/50 [00:00<00:00, 56.50batch/s]\n",
      "epoch: 202:  14%|█████████▌                                                          | 7/50 [00:00<00:00, 63.15batch/s]"
     ]
    },
    {
     "name": "stdout",
     "output_type": "stream",
     "text": [
      "loss training: 0.011182\n",
      "accuracy train: 1.000000 test: 0.842105\n",
      "\n",
      "Parameter containing:\n",
      "tensor([0., 0., 0., 0.], requires_grad=True)\n"
     ]
    },
    {
     "name": "stderr",
     "output_type": "stream",
     "text": [
      "epoch: 202: 100%|███████████████████████████████████████████████████████████████████| 50/50 [00:00<00:00, 61.31batch/s]\n",
      "epoch: 203:  10%|██████▊                                                             | 5/50 [00:00<00:00, 46.85batch/s]"
     ]
    },
    {
     "name": "stdout",
     "output_type": "stream",
     "text": [
      "loss training: 0.012664\n",
      "accuracy train: 1.000000 test: 0.842105\n",
      "\n",
      "Parameter containing:\n",
      "tensor([0., 0., 0., 0.], requires_grad=True)\n"
     ]
    },
    {
     "name": "stderr",
     "output_type": "stream",
     "text": [
      "epoch: 203: 100%|███████████████████████████████████████████████████████████████████| 50/50 [00:00<00:00, 52.45batch/s]\n",
      "epoch: 204:  12%|████████▏                                                           | 6/50 [00:00<00:00, 58.98batch/s]"
     ]
    },
    {
     "name": "stdout",
     "output_type": "stream",
     "text": [
      "loss training: 0.018593\n",
      "accuracy train: 1.000000 test: 0.894737\n",
      "\n",
      "Parameter containing:\n",
      "tensor([0., 0., 0., 0.], requires_grad=True)\n"
     ]
    },
    {
     "name": "stderr",
     "output_type": "stream",
     "text": [
      "epoch: 204: 100%|███████████████████████████████████████████████████████████████████| 50/50 [00:00<00:00, 63.27batch/s]\n",
      "epoch: 205:  16%|██████████▉                                                         | 8/50 [00:00<00:00, 66.08batch/s]"
     ]
    },
    {
     "name": "stdout",
     "output_type": "stream",
     "text": [
      "loss training: 0.009303\n",
      "accuracy train: 1.000000 test: 0.842105\n",
      "\n",
      "Parameter containing:\n",
      "tensor([0., 0., 0., 0.], requires_grad=True)\n"
     ]
    },
    {
     "name": "stderr",
     "output_type": "stream",
     "text": [
      "epoch: 205: 100%|███████████████████████████████████████████████████████████████████| 50/50 [00:00<00:00, 64.00batch/s]\n",
      "epoch: 206:  14%|█████████▌                                                          | 7/50 [00:00<00:00, 66.21batch/s]"
     ]
    },
    {
     "name": "stdout",
     "output_type": "stream",
     "text": [
      "loss training: 0.008967\n",
      "accuracy train: 1.000000 test: 0.842105\n",
      "\n",
      "Parameter containing:\n",
      "tensor([0., 0., 0., 0.], requires_grad=True)\n"
     ]
    },
    {
     "name": "stderr",
     "output_type": "stream",
     "text": [
      "epoch: 206: 100%|███████████████████████████████████████████████████████████████████| 50/50 [00:00<00:00, 60.01batch/s]\n",
      "epoch: 207:  12%|████████▏                                                           | 6/50 [00:00<00:00, 58.98batch/s]"
     ]
    },
    {
     "name": "stdout",
     "output_type": "stream",
     "text": [
      "loss training: 0.013364\n",
      "accuracy train: 1.000000 test: 0.842105\n",
      "\n",
      "Parameter containing:\n",
      "tensor([0., 0., 0., 0.], requires_grad=True)\n"
     ]
    },
    {
     "name": "stderr",
     "output_type": "stream",
     "text": [
      "epoch: 207: 100%|███████████████████████████████████████████████████████████████████| 50/50 [00:00<00:00, 57.23batch/s]\n",
      "epoch: 208:  12%|████████▏                                                           | 6/50 [00:00<00:00, 59.57batch/s]"
     ]
    },
    {
     "name": "stdout",
     "output_type": "stream",
     "text": [
      "loss training: 0.015963\n",
      "accuracy train: 1.000000 test: 0.789474\n",
      "\n",
      "Parameter containing:\n",
      "tensor([0., 0., 0., 0.], requires_grad=True)\n"
     ]
    },
    {
     "name": "stderr",
     "output_type": "stream",
     "text": [
      "epoch: 208: 100%|███████████████████████████████████████████████████████████████████| 50/50 [00:00<00:00, 61.77batch/s]\n",
      "epoch: 209:  14%|█████████▌                                                          | 7/50 [00:00<00:00, 64.39batch/s]"
     ]
    },
    {
     "name": "stdout",
     "output_type": "stream",
     "text": [
      "loss training: 0.013316\n",
      "accuracy train: 1.000000 test: 0.842105\n",
      "\n",
      "Parameter containing:\n",
      "tensor([0., 0., 0., 0.], requires_grad=True)\n"
     ]
    },
    {
     "name": "stderr",
     "output_type": "stream",
     "text": [
      "epoch: 209: 100%|███████████████████████████████████████████████████████████████████| 50/50 [00:00<00:00, 60.24batch/s]\n",
      "epoch: 210:  14%|█████████▌                                                          | 7/50 [00:00<00:00, 67.12batch/s]"
     ]
    },
    {
     "name": "stdout",
     "output_type": "stream",
     "text": [
      "loss training: 0.008591\n",
      "accuracy train: 1.000000 test: 0.789474\n",
      "\n",
      "Parameter containing:\n",
      "tensor([0., 0., 0., 0.], requires_grad=True)\n"
     ]
    },
    {
     "name": "stderr",
     "output_type": "stream",
     "text": [
      "epoch: 210: 100%|███████████████████████████████████████████████████████████████████| 50/50 [00:00<00:00, 61.11batch/s]\n",
      "epoch: 211:  12%|████████▏                                                           | 6/50 [00:00<00:00, 51.42batch/s]"
     ]
    },
    {
     "name": "stdout",
     "output_type": "stream",
     "text": [
      "loss training: 0.011461\n",
      "accuracy train: 1.000000 test: 0.789474\n",
      "\n",
      "Parameter containing:\n",
      "tensor([0., 0., 0., 0.], requires_grad=True)\n"
     ]
    },
    {
     "name": "stderr",
     "output_type": "stream",
     "text": [
      "epoch: 211: 100%|███████████████████████████████████████████████████████████████████| 50/50 [00:00<00:00, 59.28batch/s]\n",
      "epoch: 212:  16%|██████████▉                                                         | 8/50 [00:00<00:00, 70.39batch/s]"
     ]
    },
    {
     "name": "stdout",
     "output_type": "stream",
     "text": [
      "loss training: 0.007817\n",
      "accuracy train: 1.000000 test: 0.842105\n",
      "\n",
      "Parameter containing:\n",
      "tensor([0., 0., 0., 0.], requires_grad=True)\n"
     ]
    },
    {
     "name": "stderr",
     "output_type": "stream",
     "text": [
      "epoch: 212: 100%|███████████████████████████████████████████████████████████████████| 50/50 [00:00<00:00, 58.76batch/s]\n",
      "epoch: 213:  14%|█████████▌                                                          | 7/50 [00:00<00:00, 65.24batch/s]"
     ]
    },
    {
     "name": "stdout",
     "output_type": "stream",
     "text": [
      "loss training: 0.009240\n",
      "accuracy train: 1.000000 test: 0.789474\n",
      "\n",
      "Parameter containing:\n",
      "tensor([0., 0., 0., 0.], requires_grad=True)\n"
     ]
    },
    {
     "name": "stderr",
     "output_type": "stream",
     "text": [
      "epoch: 213: 100%|███████████████████████████████████████████████████████████████████| 50/50 [00:00<00:00, 54.28batch/s]\n",
      "epoch: 214:  14%|█████████▌                                                          | 7/50 [00:00<00:00, 58.40batch/s]"
     ]
    },
    {
     "name": "stdout",
     "output_type": "stream",
     "text": [
      "loss training: 0.014528\n",
      "accuracy train: 1.000000 test: 0.842105\n",
      "\n",
      "Parameter containing:\n",
      "tensor([0., 0., 0., 0.], requires_grad=True)\n"
     ]
    },
    {
     "name": "stderr",
     "output_type": "stream",
     "text": [
      "epoch: 214: 100%|███████████████████████████████████████████████████████████████████| 50/50 [00:00<00:00, 52.60batch/s]\n",
      "epoch: 215:  12%|████████▏                                                           | 6/50 [00:00<00:00, 54.73batch/s]"
     ]
    },
    {
     "name": "stdout",
     "output_type": "stream",
     "text": [
      "loss training: 0.013994\n",
      "accuracy train: 1.000000 test: 0.789474\n",
      "\n",
      "Parameter containing:\n",
      "tensor([0., 0., 0., 0.], requires_grad=True)\n"
     ]
    },
    {
     "name": "stderr",
     "output_type": "stream",
     "text": [
      "epoch: 215: 100%|███████████████████████████████████████████████████████████████████| 50/50 [00:00<00:00, 55.43batch/s]\n",
      "epoch: 216:  12%|████████▏                                                           | 6/50 [00:00<00:00, 52.77batch/s]"
     ]
    },
    {
     "name": "stdout",
     "output_type": "stream",
     "text": [
      "loss training: 0.003156\n",
      "accuracy train: 1.000000 test: 0.789474\n",
      "\n",
      "Parameter containing:\n",
      "tensor([0., 0., 0., 0.], requires_grad=True)\n"
     ]
    },
    {
     "name": "stderr",
     "output_type": "stream",
     "text": [
      "epoch: 216: 100%|███████████████████████████████████████████████████████████████████| 50/50 [00:00<00:00, 53.74batch/s]\n",
      "epoch: 217:  10%|██████▊                                                             | 5/50 [00:00<00:00, 49.64batch/s]"
     ]
    },
    {
     "name": "stdout",
     "output_type": "stream",
     "text": [
      "loss training: 0.009179\n",
      "accuracy train: 1.000000 test: 0.789474\n",
      "\n",
      "Parameter containing:\n",
      "tensor([0., 0., 0., 0.], requires_grad=True)\n"
     ]
    },
    {
     "name": "stderr",
     "output_type": "stream",
     "text": [
      "epoch: 217: 100%|███████████████████████████████████████████████████████████████████| 50/50 [00:00<00:00, 54.54batch/s]\n",
      "epoch: 218:  10%|██████▊                                                             | 5/50 [00:00<00:00, 48.20batch/s]"
     ]
    },
    {
     "name": "stdout",
     "output_type": "stream",
     "text": [
      "loss training: 0.006806\n",
      "accuracy train: 1.000000 test: 0.789474\n",
      "\n",
      "Parameter containing:\n",
      "tensor([0., 0., 0., 0.], requires_grad=True)\n"
     ]
    },
    {
     "name": "stderr",
     "output_type": "stream",
     "text": [
      "epoch: 218: 100%|███████████████████████████████████████████████████████████████████| 50/50 [00:00<00:00, 54.89batch/s]\n",
      "epoch: 219:  12%|████████▏                                                           | 6/50 [00:00<00:00, 56.76batch/s]"
     ]
    },
    {
     "name": "stdout",
     "output_type": "stream",
     "text": [
      "loss training: 0.007219\n",
      "accuracy train: 1.000000 test: 0.842105\n",
      "\n",
      "Parameter containing:\n",
      "tensor([0., 0., 0., 0.], requires_grad=True)\n"
     ]
    },
    {
     "name": "stderr",
     "output_type": "stream",
     "text": [
      "epoch: 219: 100%|███████████████████████████████████████████████████████████████████| 50/50 [00:00<00:00, 51.85batch/s]\n",
      "epoch: 220:  12%|████████▏                                                           | 6/50 [00:00<00:00, 50.98batch/s]"
     ]
    },
    {
     "name": "stdout",
     "output_type": "stream",
     "text": [
      "loss training: 0.023996\n",
      "accuracy train: 1.000000 test: 0.842105\n",
      "\n",
      "Parameter containing:\n",
      "tensor([0., 0., 0., 0.], requires_grad=True)\n"
     ]
    },
    {
     "name": "stderr",
     "output_type": "stream",
     "text": [
      "epoch: 220: 100%|███████████████████████████████████████████████████████████████████| 50/50 [00:01<00:00, 49.02batch/s]\n",
      "epoch: 221:  16%|██████████▉                                                         | 8/50 [00:00<00:00, 69.02batch/s]"
     ]
    },
    {
     "name": "stdout",
     "output_type": "stream",
     "text": [
      "loss training: 0.013524\n",
      "accuracy train: 1.000000 test: 0.842105\n",
      "\n",
      "Parameter containing:\n",
      "tensor([0., 0., 0., 0.], requires_grad=True)\n"
     ]
    },
    {
     "name": "stderr",
     "output_type": "stream",
     "text": [
      "epoch: 221: 100%|███████████████████████████████████████████████████████████████████| 50/50 [00:00<00:00, 65.12batch/s]\n",
      "epoch: 222:  14%|█████████▌                                                          | 7/50 [00:00<00:00, 62.75batch/s]"
     ]
    },
    {
     "name": "stdout",
     "output_type": "stream",
     "text": [
      "loss training: 0.009015\n",
      "accuracy train: 1.000000 test: 0.842105\n",
      "\n",
      "Parameter containing:\n",
      "tensor([0., 0., 0., 0.], requires_grad=True)\n"
     ]
    },
    {
     "name": "stderr",
     "output_type": "stream",
     "text": [
      "epoch: 222: 100%|███████████████████████████████████████████████████████████████████| 50/50 [00:00<00:00, 62.56batch/s]\n",
      "epoch: 223:  14%|█████████▌                                                          | 7/50 [00:00<00:00, 62.42batch/s]"
     ]
    },
    {
     "name": "stdout",
     "output_type": "stream",
     "text": [
      "loss training: 0.010561\n",
      "accuracy train: 1.000000 test: 0.842105\n",
      "\n",
      "Parameter containing:\n",
      "tensor([0., 0., 0., 0.], requires_grad=True)\n"
     ]
    },
    {
     "name": "stderr",
     "output_type": "stream",
     "text": [
      "epoch: 223: 100%|███████████████████████████████████████████████████████████████████| 50/50 [00:00<00:00, 60.02batch/s]\n",
      "epoch: 224:  14%|█████████▌                                                          | 7/50 [00:00<00:00, 69.98batch/s]"
     ]
    },
    {
     "name": "stdout",
     "output_type": "stream",
     "text": [
      "loss training: 0.011429\n",
      "accuracy train: 1.000000 test: 0.842105\n",
      "\n",
      "Parameter containing:\n",
      "tensor([0., 0., 0., 0.], requires_grad=True)\n"
     ]
    },
    {
     "name": "stderr",
     "output_type": "stream",
     "text": [
      "epoch: 224: 100%|███████████████████████████████████████████████████████████████████| 50/50 [00:00<00:00, 67.75batch/s]\n",
      "epoch: 225:  18%|████████████▏                                                       | 9/50 [00:00<00:00, 82.74batch/s]"
     ]
    },
    {
     "name": "stdout",
     "output_type": "stream",
     "text": [
      "loss training: 0.012148\n",
      "accuracy train: 1.000000 test: 0.842105\n",
      "\n",
      "Parameter containing:\n",
      "tensor([0., 0., 0., 0.], requires_grad=True)\n"
     ]
    },
    {
     "name": "stderr",
     "output_type": "stream",
     "text": [
      "epoch: 225: 100%|███████████████████████████████████████████████████████████████████| 50/50 [00:00<00:00, 71.02batch/s]\n",
      "epoch: 226:  14%|█████████▌                                                          | 7/50 [00:00<00:00, 64.69batch/s]"
     ]
    },
    {
     "name": "stdout",
     "output_type": "stream",
     "text": [
      "loss training: 0.013594\n",
      "accuracy train: 1.000000 test: 0.842105\n",
      "\n",
      "Parameter containing:\n",
      "tensor([0., 0., 0., 0.], requires_grad=True)\n"
     ]
    },
    {
     "name": "stderr",
     "output_type": "stream",
     "text": [
      "epoch: 226: 100%|███████████████████████████████████████████████████████████████████| 50/50 [00:00<00:00, 69.68batch/s]\n",
      "epoch: 227:  14%|█████████▌                                                          | 7/50 [00:00<00:00, 65.65batch/s]"
     ]
    },
    {
     "name": "stdout",
     "output_type": "stream",
     "text": [
      "loss training: 0.005073\n",
      "accuracy train: 1.000000 test: 0.842105\n",
      "\n",
      "Parameter containing:\n",
      "tensor([0., 0., 0., 0.], requires_grad=True)\n"
     ]
    },
    {
     "name": "stderr",
     "output_type": "stream",
     "text": [
      "epoch: 227: 100%|███████████████████████████████████████████████████████████████████| 50/50 [00:00<00:00, 67.31batch/s]\n",
      "epoch: 228:  14%|█████████▌                                                          | 7/50 [00:00<00:00, 67.57batch/s]"
     ]
    },
    {
     "name": "stdout",
     "output_type": "stream",
     "text": [
      "loss training: 0.004915\n",
      "accuracy train: 1.000000 test: 0.842105\n",
      "\n",
      "Parameter containing:\n",
      "tensor([0., 0., 0., 0.], requires_grad=True)\n"
     ]
    },
    {
     "name": "stderr",
     "output_type": "stream",
     "text": [
      "epoch: 228: 100%|███████████████████████████████████████████████████████████████████| 50/50 [00:00<00:00, 68.11batch/s]\n",
      "epoch: 229:  14%|█████████▌                                                          | 7/50 [00:00<00:00, 68.65batch/s]"
     ]
    },
    {
     "name": "stdout",
     "output_type": "stream",
     "text": [
      "loss training: 0.010807\n",
      "accuracy train: 1.000000 test: 0.842105\n",
      "\n",
      "Parameter containing:\n",
      "tensor([0., 0., 0., 0.], requires_grad=True)\n"
     ]
    },
    {
     "name": "stderr",
     "output_type": "stream",
     "text": [
      "epoch: 229: 100%|███████████████████████████████████████████████████████████████████| 50/50 [00:00<00:00, 68.01batch/s]\n",
      "epoch: 230:  16%|██████████▉                                                         | 8/50 [00:00<00:00, 73.36batch/s]"
     ]
    },
    {
     "name": "stdout",
     "output_type": "stream",
     "text": [
      "loss training: 0.014028\n",
      "accuracy train: 1.000000 test: 0.842105\n",
      "\n",
      "Parameter containing:\n",
      "tensor([0., 0., 0., 0.], requires_grad=True)\n"
     ]
    },
    {
     "name": "stderr",
     "output_type": "stream",
     "text": [
      "epoch: 230: 100%|███████████████████████████████████████████████████████████████████| 50/50 [00:00<00:00, 65.99batch/s]\n",
      "epoch: 231:  12%|████████▏                                                           | 6/50 [00:00<00:00, 57.88batch/s]"
     ]
    },
    {
     "name": "stdout",
     "output_type": "stream",
     "text": [
      "loss training: 0.021576\n",
      "accuracy train: 1.000000 test: 0.894737\n",
      "\n",
      "Parameter containing:\n",
      "tensor([0., 0., 0., 0.], requires_grad=True)\n"
     ]
    },
    {
     "name": "stderr",
     "output_type": "stream",
     "text": [
      "epoch: 231: 100%|███████████████████████████████████████████████████████████████████| 50/50 [00:00<00:00, 68.29batch/s]\n",
      "epoch: 232:  16%|██████████▉                                                         | 8/50 [00:00<00:00, 79.75batch/s]"
     ]
    },
    {
     "name": "stdout",
     "output_type": "stream",
     "text": [
      "loss training: 0.012007\n",
      "accuracy train: 1.000000 test: 0.789474\n",
      "\n",
      "Parameter containing:\n",
      "tensor([0., 0., 0., 0.], requires_grad=True)\n"
     ]
    },
    {
     "name": "stderr",
     "output_type": "stream",
     "text": [
      "epoch: 232: 100%|███████████████████████████████████████████████████████████████████| 50/50 [00:00<00:00, 69.09batch/s]\n",
      "epoch: 233:  16%|██████████▉                                                         | 8/50 [00:00<00:00, 79.80batch/s]"
     ]
    },
    {
     "name": "stdout",
     "output_type": "stream",
     "text": [
      "loss training: 0.012976\n",
      "accuracy train: 1.000000 test: 0.842105\n",
      "\n",
      "Parameter containing:\n",
      "tensor([0., 0., 0., 0.], requires_grad=True)\n"
     ]
    },
    {
     "name": "stderr",
     "output_type": "stream",
     "text": [
      "epoch: 233: 100%|███████████████████████████████████████████████████████████████████| 50/50 [00:00<00:00, 67.34batch/s]\n",
      "epoch: 234:  16%|██████████▉                                                         | 8/50 [00:00<00:00, 70.61batch/s]"
     ]
    },
    {
     "name": "stdout",
     "output_type": "stream",
     "text": [
      "loss training: 0.008572\n",
      "accuracy train: 1.000000 test: 0.789474\n",
      "\n",
      "Parameter containing:\n",
      "tensor([0., 0., 0., 0.], requires_grad=True)\n"
     ]
    },
    {
     "name": "stderr",
     "output_type": "stream",
     "text": [
      "epoch: 234: 100%|███████████████████████████████████████████████████████████████████| 50/50 [00:00<00:00, 68.14batch/s]\n",
      "epoch: 235:  14%|█████████▌                                                          | 7/50 [00:00<00:00, 68.84batch/s]"
     ]
    },
    {
     "name": "stdout",
     "output_type": "stream",
     "text": [
      "loss training: 0.012036\n",
      "accuracy train: 1.000000 test: 0.842105\n",
      "\n",
      "Parameter containing:\n",
      "tensor([0., 0., 0., 0.], requires_grad=True)\n"
     ]
    },
    {
     "name": "stderr",
     "output_type": "stream",
     "text": [
      "epoch: 235: 100%|███████████████████████████████████████████████████████████████████| 50/50 [00:00<00:00, 67.37batch/s]\n",
      "epoch: 236:  14%|█████████▌                                                          | 7/50 [00:00<00:00, 61.21batch/s]"
     ]
    },
    {
     "name": "stdout",
     "output_type": "stream",
     "text": [
      "loss training: 0.009687\n",
      "accuracy train: 1.000000 test: 0.842105\n",
      "\n",
      "Parameter containing:\n",
      "tensor([0., 0., 0., 0.], requires_grad=True)\n"
     ]
    },
    {
     "name": "stderr",
     "output_type": "stream",
     "text": [
      "epoch: 236: 100%|███████████████████████████████████████████████████████████████████| 50/50 [00:00<00:00, 69.58batch/s]\n",
      "epoch: 237:  16%|██████████▉                                                         | 8/50 [00:00<00:00, 69.03batch/s]"
     ]
    },
    {
     "name": "stdout",
     "output_type": "stream",
     "text": [
      "loss training: 0.013234\n",
      "accuracy train: 1.000000 test: 0.842105\n",
      "\n",
      "Parameter containing:\n",
      "tensor([0., 0., 0., 0.], requires_grad=True)\n"
     ]
    },
    {
     "name": "stderr",
     "output_type": "stream",
     "text": [
      "epoch: 237: 100%|███████████████████████████████████████████████████████████████████| 50/50 [00:00<00:00, 70.25batch/s]\n",
      "epoch: 238:  16%|██████████▉                                                         | 8/50 [00:00<00:00, 66.93batch/s]"
     ]
    },
    {
     "name": "stdout",
     "output_type": "stream",
     "text": [
      "loss training: 0.017071\n",
      "accuracy train: 1.000000 test: 0.842105\n",
      "\n",
      "Parameter containing:\n",
      "tensor([0., 0., 0., 0.], requires_grad=True)\n"
     ]
    },
    {
     "name": "stderr",
     "output_type": "stream",
     "text": [
      "epoch: 238: 100%|███████████████████████████████████████████████████████████████████| 50/50 [00:00<00:00, 67.29batch/s]\n",
      "epoch: 239:  14%|█████████▌                                                          | 7/50 [00:00<00:00, 63.18batch/s]"
     ]
    },
    {
     "name": "stdout",
     "output_type": "stream",
     "text": [
      "loss training: 0.009968\n",
      "accuracy train: 1.000000 test: 0.842105\n",
      "\n",
      "Parameter containing:\n",
      "tensor([0., 0., 0., 0.], requires_grad=True)\n"
     ]
    },
    {
     "name": "stderr",
     "output_type": "stream",
     "text": [
      "epoch: 239: 100%|███████████████████████████████████████████████████████████████████| 50/50 [00:00<00:00, 63.61batch/s]\n",
      "epoch: 240:  14%|█████████▌                                                          | 7/50 [00:00<00:00, 63.81batch/s]"
     ]
    },
    {
     "name": "stdout",
     "output_type": "stream",
     "text": [
      "loss training: 0.010214\n",
      "accuracy train: 1.000000 test: 0.789474\n",
      "\n",
      "Parameter containing:\n",
      "tensor([0., 0., 0., 0.], requires_grad=True)\n"
     ]
    },
    {
     "name": "stderr",
     "output_type": "stream",
     "text": [
      "epoch: 240: 100%|███████████████████████████████████████████████████████████████████| 50/50 [00:00<00:00, 64.19batch/s]\n",
      "epoch: 241:  14%|█████████▌                                                          | 7/50 [00:00<00:00, 65.59batch/s]"
     ]
    },
    {
     "name": "stdout",
     "output_type": "stream",
     "text": [
      "loss training: 0.007291\n",
      "accuracy train: 1.000000 test: 0.842105\n",
      "\n",
      "Parameter containing:\n",
      "tensor([0., 0., 0., 0.], requires_grad=True)\n"
     ]
    },
    {
     "name": "stderr",
     "output_type": "stream",
     "text": [
      "epoch: 241: 100%|███████████████████████████████████████████████████████████████████| 50/50 [00:00<00:00, 65.28batch/s]\n",
      "epoch: 242:  14%|█████████▌                                                          | 7/50 [00:00<00:00, 67.49batch/s]"
     ]
    },
    {
     "name": "stdout",
     "output_type": "stream",
     "text": [
      "loss training: 0.014029\n",
      "accuracy train: 1.000000 test: 0.842105\n",
      "\n",
      "Parameter containing:\n",
      "tensor([0., 0., 0., 0.], requires_grad=True)\n"
     ]
    },
    {
     "name": "stderr",
     "output_type": "stream",
     "text": [
      "epoch: 242: 100%|███████████████████████████████████████████████████████████████████| 50/50 [00:00<00:00, 63.30batch/s]\n",
      "epoch: 243:  12%|████████▏                                                           | 6/50 [00:00<00:00, 56.22batch/s]"
     ]
    },
    {
     "name": "stdout",
     "output_type": "stream",
     "text": [
      "loss training: 0.005957\n",
      "accuracy train: 1.000000 test: 0.842105\n",
      "\n",
      "Parameter containing:\n",
      "tensor([0., 0., 0., 0.], requires_grad=True)\n"
     ]
    },
    {
     "name": "stderr",
     "output_type": "stream",
     "text": [
      "epoch: 243: 100%|███████████████████████████████████████████████████████████████████| 50/50 [00:00<00:00, 60.92batch/s]\n",
      "epoch: 244:  14%|█████████▌                                                          | 7/50 [00:00<00:00, 65.60batch/s]"
     ]
    },
    {
     "name": "stdout",
     "output_type": "stream",
     "text": [
      "loss training: 0.009078\n",
      "accuracy train: 1.000000 test: 0.842105\n",
      "\n",
      "Parameter containing:\n",
      "tensor([0., 0., 0., 0.], requires_grad=True)\n"
     ]
    },
    {
     "name": "stderr",
     "output_type": "stream",
     "text": [
      "epoch: 244: 100%|███████████████████████████████████████████████████████████████████| 50/50 [00:00<00:00, 61.51batch/s]\n",
      "epoch: 245:  14%|█████████▌                                                          | 7/50 [00:00<00:00, 66.85batch/s]"
     ]
    },
    {
     "name": "stdout",
     "output_type": "stream",
     "text": [
      "loss training: 0.011207\n",
      "accuracy train: 1.000000 test: 0.842105\n",
      "\n",
      "Parameter containing:\n",
      "tensor([0., 0., 0., 0.], requires_grad=True)\n"
     ]
    },
    {
     "name": "stderr",
     "output_type": "stream",
     "text": [
      "epoch: 245: 100%|███████████████████████████████████████████████████████████████████| 50/50 [00:00<00:00, 66.14batch/s]\n",
      "epoch: 246:  14%|█████████▌                                                          | 7/50 [00:00<00:00, 62.11batch/s]"
     ]
    },
    {
     "name": "stdout",
     "output_type": "stream",
     "text": [
      "loss training: 0.015304\n",
      "accuracy train: 1.000000 test: 0.842105\n",
      "\n",
      "Parameter containing:\n",
      "tensor([0., 0., 0., 0.], requires_grad=True)\n"
     ]
    },
    {
     "name": "stderr",
     "output_type": "stream",
     "text": [
      "epoch: 246: 100%|███████████████████████████████████████████████████████████████████| 50/50 [00:00<00:00, 63.54batch/s]\n",
      "epoch: 247:  14%|█████████▌                                                          | 7/50 [00:00<00:00, 68.81batch/s]"
     ]
    },
    {
     "name": "stdout",
     "output_type": "stream",
     "text": [
      "loss training: 0.008087\n",
      "accuracy train: 1.000000 test: 0.842105\n",
      "\n",
      "Parameter containing:\n",
      "tensor([0., 0., 0., 0.], requires_grad=True)\n"
     ]
    },
    {
     "name": "stderr",
     "output_type": "stream",
     "text": [
      "epoch: 247: 100%|███████████████████████████████████████████████████████████████████| 50/50 [00:00<00:00, 65.53batch/s]\n",
      "epoch: 248:  14%|█████████▌                                                          | 7/50 [00:00<00:00, 64.99batch/s]"
     ]
    },
    {
     "name": "stdout",
     "output_type": "stream",
     "text": [
      "loss training: 0.006400\n",
      "accuracy train: 1.000000 test: 0.789474\n",
      "\n",
      "Parameter containing:\n",
      "tensor([0., 0., 0., 0.], requires_grad=True)\n"
     ]
    },
    {
     "name": "stderr",
     "output_type": "stream",
     "text": [
      "epoch: 248: 100%|███████████████████████████████████████████████████████████████████| 50/50 [00:00<00:00, 64.19batch/s]\n",
      "epoch: 249:  12%|████████▏                                                           | 6/50 [00:00<00:00, 59.56batch/s]"
     ]
    },
    {
     "name": "stdout",
     "output_type": "stream",
     "text": [
      "loss training: 0.011506\n",
      "accuracy train: 1.000000 test: 0.842105\n",
      "\n",
      "Parameter containing:\n",
      "tensor([0., 0., 0., 0.], requires_grad=True)\n"
     ]
    },
    {
     "name": "stderr",
     "output_type": "stream",
     "text": [
      "epoch: 249: 100%|███████████████████████████████████████████████████████████████████| 50/50 [00:00<00:00, 62.59batch/s]\n",
      "epoch: 250:  14%|█████████▌                                                          | 7/50 [00:00<00:00, 61.57batch/s]"
     ]
    },
    {
     "name": "stdout",
     "output_type": "stream",
     "text": [
      "loss training: 0.011814\n",
      "accuracy train: 1.000000 test: 0.842105\n",
      "\n",
      "Parameter containing:\n",
      "tensor([0., 0., 0., 0.], requires_grad=True)\n"
     ]
    },
    {
     "name": "stderr",
     "output_type": "stream",
     "text": [
      "epoch: 250: 100%|███████████████████████████████████████████████████████████████████| 50/50 [00:00<00:00, 63.62batch/s]\n",
      "epoch: 251:  14%|█████████▌                                                          | 7/50 [00:00<00:00, 64.39batch/s]"
     ]
    },
    {
     "name": "stdout",
     "output_type": "stream",
     "text": [
      "loss training: 0.010411\n",
      "accuracy train: 1.000000 test: 0.842105\n",
      "\n",
      "Parameter containing:\n",
      "tensor([0., 0., 0., 0.], requires_grad=True)\n"
     ]
    },
    {
     "name": "stderr",
     "output_type": "stream",
     "text": [
      "epoch: 251: 100%|███████████████████████████████████████████████████████████████████| 50/50 [00:00<00:00, 63.54batch/s]\n",
      "epoch: 252:  14%|█████████▌                                                          | 7/50 [00:00<00:00, 64.99batch/s]"
     ]
    },
    {
     "name": "stdout",
     "output_type": "stream",
     "text": [
      "loss training: 0.009812\n",
      "accuracy train: 1.000000 test: 0.842105\n",
      "\n",
      "Parameter containing:\n",
      "tensor([0., 0., 0., 0.], requires_grad=True)\n"
     ]
    },
    {
     "name": "stderr",
     "output_type": "stream",
     "text": [
      "epoch: 252: 100%|███████████████████████████████████████████████████████████████████| 50/50 [00:00<00:00, 64.94batch/s]\n",
      "epoch: 253:  14%|█████████▌                                                          | 7/50 [00:00<00:00, 68.81batch/s]"
     ]
    },
    {
     "name": "stdout",
     "output_type": "stream",
     "text": [
      "loss training: 0.009665\n",
      "accuracy train: 1.000000 test: 0.842105\n",
      "\n",
      "Parameter containing:\n",
      "tensor([0., 0., 0., 0.], requires_grad=True)\n"
     ]
    },
    {
     "name": "stderr",
     "output_type": "stream",
     "text": [
      "epoch: 253: 100%|███████████████████████████████████████████████████████████████████| 50/50 [00:00<00:00, 64.03batch/s]\n",
      "epoch: 254:  14%|█████████▌                                                          | 7/50 [00:00<00:00, 67.49batch/s]"
     ]
    },
    {
     "name": "stdout",
     "output_type": "stream",
     "text": [
      "loss training: 0.007300\n",
      "accuracy train: 1.000000 test: 0.842105\n",
      "\n",
      "Parameter containing:\n",
      "tensor([0., 0., 0., 0.], requires_grad=True)\n"
     ]
    },
    {
     "name": "stderr",
     "output_type": "stream",
     "text": [
      "epoch: 254: 100%|███████████████████████████████████████████████████████████████████| 50/50 [00:00<00:00, 64.27batch/s]\n",
      "epoch: 255:  14%|█████████▌                                                          | 7/50 [00:00<00:00, 65.60batch/s]"
     ]
    },
    {
     "name": "stdout",
     "output_type": "stream",
     "text": [
      "loss training: 0.014201\n",
      "accuracy train: 1.000000 test: 0.842105\n",
      "\n",
      "Parameter containing:\n",
      "tensor([0., 0., 0., 0.], requires_grad=True)\n"
     ]
    },
    {
     "name": "stderr",
     "output_type": "stream",
     "text": [
      "epoch: 255: 100%|███████████████████████████████████████████████████████████████████| 50/50 [00:00<00:00, 63.78batch/s]\n",
      "epoch: 256:  14%|█████████▌                                                          | 7/50 [00:00<00:00, 69.49batch/s]"
     ]
    },
    {
     "name": "stdout",
     "output_type": "stream",
     "text": [
      "loss training: 0.011101\n",
      "accuracy train: 1.000000 test: 0.842105\n",
      "\n",
      "Parameter containing:\n",
      "tensor([0., 0., 0., 0.], requires_grad=True)\n"
     ]
    },
    {
     "name": "stderr",
     "output_type": "stream",
     "text": [
      "epoch: 256: 100%|███████████████████████████████████████████████████████████████████| 50/50 [00:00<00:00, 63.70batch/s]\n",
      "epoch: 257:  14%|█████████▌                                                          | 7/50 [00:00<00:00, 64.39batch/s]"
     ]
    },
    {
     "name": "stdout",
     "output_type": "stream",
     "text": [
      "loss training: 0.011871\n",
      "accuracy train: 1.000000 test: 0.842105\n",
      "\n",
      "Parameter containing:\n",
      "tensor([0., 0., 0., 0.], requires_grad=True)\n"
     ]
    },
    {
     "name": "stderr",
     "output_type": "stream",
     "text": [
      "epoch: 257: 100%|███████████████████████████████████████████████████████████████████| 50/50 [00:00<00:00, 62.20batch/s]\n",
      "epoch: 258:  14%|█████████▌                                                          | 7/50 [00:00<00:00, 69.49batch/s]"
     ]
    },
    {
     "name": "stdout",
     "output_type": "stream",
     "text": [
      "loss training: 0.011511\n",
      "accuracy train: 1.000000 test: 0.842105\n",
      "\n",
      "Parameter containing:\n",
      "tensor([0., 0., 0., 0.], requires_grad=True)\n"
     ]
    },
    {
     "name": "stderr",
     "output_type": "stream",
     "text": [
      "epoch: 258: 100%|███████████████████████████████████████████████████████████████████| 50/50 [00:00<00:00, 65.71batch/s]\n",
      "epoch: 259:  14%|█████████▌                                                          | 7/50 [00:00<00:00, 64.99batch/s]"
     ]
    },
    {
     "name": "stdout",
     "output_type": "stream",
     "text": [
      "loss training: 0.005681\n",
      "accuracy train: 1.000000 test: 0.842105\n",
      "\n",
      "Parameter containing:\n",
      "tensor([0., 0., 0., 0.], requires_grad=True)\n"
     ]
    },
    {
     "name": "stderr",
     "output_type": "stream",
     "text": [
      "epoch: 259: 100%|███████████████████████████████████████████████████████████████████| 50/50 [00:00<00:00, 63.78batch/s]\n",
      "epoch: 260:  14%|█████████▌                                                          | 7/50 [00:00<00:00, 66.84batch/s]"
     ]
    },
    {
     "name": "stdout",
     "output_type": "stream",
     "text": [
      "loss training: 0.009324\n",
      "accuracy train: 1.000000 test: 0.842105\n",
      "\n",
      "Parameter containing:\n",
      "tensor([0., 0., 0., 0.], requires_grad=True)\n"
     ]
    },
    {
     "name": "stderr",
     "output_type": "stream",
     "text": [
      "epoch: 260: 100%|███████████████████████████████████████████████████████████████████| 50/50 [00:00<00:00, 64.77batch/s]\n",
      "epoch: 261:  14%|█████████▌                                                          | 7/50 [00:00<00:00, 65.60batch/s]"
     ]
    },
    {
     "name": "stdout",
     "output_type": "stream",
     "text": [
      "loss training: 0.013087\n",
      "accuracy train: 1.000000 test: 0.842105\n",
      "\n",
      "Parameter containing:\n",
      "tensor([0., 0., 0., 0.], requires_grad=True)\n"
     ]
    },
    {
     "name": "stderr",
     "output_type": "stream",
     "text": [
      "epoch: 261: 100%|███████████████████████████████████████████████████████████████████| 50/50 [00:00<00:00, 64.03batch/s]\n",
      "epoch: 262:  14%|█████████▌                                                          | 7/50 [00:00<00:00, 68.14batch/s]"
     ]
    },
    {
     "name": "stdout",
     "output_type": "stream",
     "text": [
      "loss training: 0.008859\n",
      "accuracy train: 1.000000 test: 0.842105\n",
      "\n",
      "Parameter containing:\n",
      "tensor([0., 0., 0., 0.], requires_grad=True)\n"
     ]
    },
    {
     "name": "stderr",
     "output_type": "stream",
     "text": [
      "epoch: 262: 100%|███████████████████████████████████████████████████████████████████| 50/50 [00:00<00:00, 62.28batch/s]\n",
      "epoch: 263:  14%|█████████▌                                                          | 7/50 [00:00<00:00, 68.14batch/s]"
     ]
    },
    {
     "name": "stdout",
     "output_type": "stream",
     "text": [
      "loss training: 0.007936\n",
      "accuracy train: 1.000000 test: 0.842105\n",
      "\n",
      "Parameter containing:\n",
      "tensor([0., 0., 0., 0.], requires_grad=True)\n"
     ]
    },
    {
     "name": "stderr",
     "output_type": "stream",
     "text": [
      "epoch: 263: 100%|███████████████████████████████████████████████████████████████████| 50/50 [00:00<00:00, 66.76batch/s]\n",
      "epoch: 264:  14%|█████████▌                                                          | 7/50 [00:00<00:00, 64.39batch/s]"
     ]
    },
    {
     "name": "stdout",
     "output_type": "stream",
     "text": [
      "loss training: 0.006696\n",
      "accuracy train: 1.000000 test: 0.842105\n",
      "\n",
      "Parameter containing:\n",
      "tensor([0., 0., 0., 0.], requires_grad=True)\n"
     ]
    },
    {
     "name": "stderr",
     "output_type": "stream",
     "text": [
      "epoch: 264: 100%|███████████████████████████████████████████████████████████████████| 50/50 [00:00<00:00, 64.77batch/s]\n",
      "epoch: 265:  12%|████████▏                                                           | 6/50 [00:00<00:00, 54.20batch/s]"
     ]
    },
    {
     "name": "stdout",
     "output_type": "stream",
     "text": [
      "loss training: 0.005731\n",
      "accuracy train: 1.000000 test: 0.842105\n",
      "\n",
      "Parameter containing:\n",
      "tensor([0., 0., 0., 0.], requires_grad=True)\n"
     ]
    },
    {
     "name": "stderr",
     "output_type": "stream",
     "text": [
      "epoch: 265: 100%|███████████████████████████████████████████████████████████████████| 50/50 [00:00<00:00, 60.23batch/s]\n",
      "epoch: 266:  14%|█████████▌                                                          | 7/50 [00:00<00:00, 63.03batch/s]"
     ]
    },
    {
     "name": "stdout",
     "output_type": "stream",
     "text": [
      "loss training: 0.012782\n",
      "accuracy train: 1.000000 test: 0.842105\n",
      "\n",
      "Parameter containing:\n",
      "tensor([0., 0., 0., 0.], requires_grad=True)\n"
     ]
    },
    {
     "name": "stderr",
     "output_type": "stream",
     "text": [
      "epoch: 266: 100%|███████████████████████████████████████████████████████████████████| 50/50 [00:00<00:00, 66.80batch/s]\n",
      "epoch: 267:  14%|█████████▌                                                          | 7/50 [00:00<00:00, 66.36batch/s]"
     ]
    },
    {
     "name": "stdout",
     "output_type": "stream",
     "text": [
      "loss training: 0.011527\n",
      "accuracy train: 1.000000 test: 0.842105\n",
      "\n",
      "Parameter containing:\n",
      "tensor([0., 0., 0., 0.], requires_grad=True)\n"
     ]
    },
    {
     "name": "stderr",
     "output_type": "stream",
     "text": [
      "epoch: 267: 100%|███████████████████████████████████████████████████████████████████| 50/50 [00:00<00:00, 68.60batch/s]\n",
      "epoch: 268:  14%|█████████▌                                                          | 7/50 [00:00<00:00, 60.72batch/s]"
     ]
    },
    {
     "name": "stdout",
     "output_type": "stream",
     "text": [
      "loss training: 0.011100\n",
      "accuracy train: 1.000000 test: 0.842105\n",
      "\n",
      "Parameter containing:\n",
      "tensor([0., 0., 0., 0.], requires_grad=True)\n"
     ]
    },
    {
     "name": "stderr",
     "output_type": "stream",
     "text": [
      "epoch: 268: 100%|███████████████████████████████████████████████████████████████████| 50/50 [00:00<00:00, 65.87batch/s]\n",
      "epoch: 269:  12%|████████▏                                                           | 6/50 [00:00<00:00, 57.68batch/s]"
     ]
    },
    {
     "name": "stdout",
     "output_type": "stream",
     "text": [
      "loss training: 0.008794\n",
      "accuracy train: 1.000000 test: 0.842105\n",
      "\n",
      "Parameter containing:\n",
      "tensor([0., 0., 0., 0.], requires_grad=True)\n"
     ]
    },
    {
     "name": "stderr",
     "output_type": "stream",
     "text": [
      "epoch: 269: 100%|███████████████████████████████████████████████████████████████████| 50/50 [00:00<00:00, 63.94batch/s]\n",
      "epoch: 270:  16%|██████████▉                                                         | 8/50 [00:00<00:00, 71.35batch/s]"
     ]
    },
    {
     "name": "stdout",
     "output_type": "stream",
     "text": [
      "loss training: 0.005904\n",
      "accuracy train: 1.000000 test: 0.842105\n",
      "\n",
      "Parameter containing:\n",
      "tensor([0., 0., 0., 0.], requires_grad=True)\n"
     ]
    },
    {
     "name": "stderr",
     "output_type": "stream",
     "text": [
      "epoch: 270: 100%|███████████████████████████████████████████████████████████████████| 50/50 [00:00<00:00, 67.52batch/s]\n",
      "epoch: 271:  14%|█████████▌                                                          | 7/50 [00:00<00:00, 66.41batch/s]"
     ]
    },
    {
     "name": "stdout",
     "output_type": "stream",
     "text": [
      "loss training: 0.017546\n",
      "accuracy train: 1.000000 test: 0.842105\n",
      "\n",
      "Parameter containing:\n",
      "tensor([0., 0., 0., 0.], requires_grad=True)\n"
     ]
    },
    {
     "name": "stderr",
     "output_type": "stream",
     "text": [
      "epoch: 271: 100%|███████████████████████████████████████████████████████████████████| 50/50 [00:00<00:00, 66.40batch/s]\n",
      "epoch: 272:  16%|██████████▉                                                         | 8/50 [00:00<00:00, 70.79batch/s]"
     ]
    },
    {
     "name": "stdout",
     "output_type": "stream",
     "text": [
      "loss training: 0.013194\n",
      "accuracy train: 1.000000 test: 0.842105\n",
      "\n",
      "Parameter containing:\n",
      "tensor([0., 0., 0., 0.], requires_grad=True)\n"
     ]
    },
    {
     "name": "stderr",
     "output_type": "stream",
     "text": [
      "epoch: 272: 100%|███████████████████████████████████████████████████████████████████| 50/50 [00:00<00:00, 68.78batch/s]\n",
      "epoch: 273:  16%|██████████▉                                                         | 8/50 [00:00<00:00, 70.08batch/s]"
     ]
    },
    {
     "name": "stdout",
     "output_type": "stream",
     "text": [
      "loss training: 0.014649\n",
      "accuracy train: 1.000000 test: 0.842105\n",
      "\n",
      "Parameter containing:\n",
      "tensor([0., 0., 0., 0.], requires_grad=True)\n"
     ]
    },
    {
     "name": "stderr",
     "output_type": "stream",
     "text": [
      "epoch: 273: 100%|███████████████████████████████████████████████████████████████████| 50/50 [00:00<00:00, 68.26batch/s]\n",
      "epoch: 274:  14%|█████████▌                                                          | 7/50 [00:00<00:00, 62.10batch/s]"
     ]
    },
    {
     "name": "stdout",
     "output_type": "stream",
     "text": [
      "loss training: 0.007553\n",
      "accuracy train: 1.000000 test: 0.842105\n",
      "\n",
      "Parameter containing:\n",
      "tensor([0., 0., 0., 0.], requires_grad=True)\n"
     ]
    },
    {
     "name": "stderr",
     "output_type": "stream",
     "text": [
      "epoch: 274: 100%|███████████████████████████████████████████████████████████████████| 50/50 [00:00<00:00, 68.54batch/s]\n",
      "epoch: 275:  16%|██████████▉                                                         | 8/50 [00:00<00:00, 65.10batch/s]"
     ]
    },
    {
     "name": "stdout",
     "output_type": "stream",
     "text": [
      "loss training: 0.010935\n",
      "accuracy train: 1.000000 test: 0.842105\n",
      "\n",
      "Parameter containing:\n",
      "tensor([0., 0., 0., 0.], requires_grad=True)\n"
     ]
    },
    {
     "name": "stderr",
     "output_type": "stream",
     "text": [
      "epoch: 275: 100%|███████████████████████████████████████████████████████████████████| 50/50 [00:00<00:00, 64.92batch/s]\n",
      "epoch: 276:  14%|█████████▌                                                          | 7/50 [00:00<00:00, 65.32batch/s]"
     ]
    },
    {
     "name": "stdout",
     "output_type": "stream",
     "text": [
      "loss training: 0.010060\n",
      "accuracy train: 1.000000 test: 0.842105\n",
      "\n",
      "Parameter containing:\n",
      "tensor([0., 0., 0., 0.], requires_grad=True)\n"
     ]
    },
    {
     "name": "stderr",
     "output_type": "stream",
     "text": [
      "epoch: 276: 100%|███████████████████████████████████████████████████████████████████| 50/50 [00:00<00:00, 65.68batch/s]\n",
      "epoch: 277:  14%|█████████▌                                                          | 7/50 [00:00<00:00, 68.62batch/s]"
     ]
    },
    {
     "name": "stdout",
     "output_type": "stream",
     "text": [
      "loss training: 0.013140\n",
      "accuracy train: 1.000000 test: 0.842105\n",
      "\n",
      "Parameter containing:\n",
      "tensor([0., 0., 0., 0.], requires_grad=True)\n"
     ]
    },
    {
     "name": "stderr",
     "output_type": "stream",
     "text": [
      "epoch: 277: 100%|███████████████████████████████████████████████████████████████████| 50/50 [00:00<00:00, 58.08batch/s]\n",
      "epoch: 278:  10%|██████▊                                                             | 5/50 [00:00<00:00, 49.66batch/s]"
     ]
    },
    {
     "name": "stdout",
     "output_type": "stream",
     "text": [
      "loss training: 0.013991\n",
      "accuracy train: 1.000000 test: 0.842105\n",
      "\n",
      "Parameter containing:\n",
      "tensor([0., 0., 0., 0.], requires_grad=True)\n"
     ]
    },
    {
     "name": "stderr",
     "output_type": "stream",
     "text": [
      "epoch: 278: 100%|███████████████████████████████████████████████████████████████████| 50/50 [00:00<00:00, 53.00batch/s]\n",
      "epoch: 279:  10%|██████▊                                                             | 5/50 [00:00<00:00, 49.64batch/s]"
     ]
    },
    {
     "name": "stdout",
     "output_type": "stream",
     "text": [
      "loss training: 0.012613\n",
      "accuracy train: 1.000000 test: 0.842105\n",
      "\n",
      "Parameter containing:\n",
      "tensor([0., 0., 0., 0.], requires_grad=True)\n"
     ]
    },
    {
     "name": "stderr",
     "output_type": "stream",
     "text": [
      "epoch: 279: 100%|███████████████████████████████████████████████████████████████████| 50/50 [00:00<00:00, 54.79batch/s]\n",
      "epoch: 280:  12%|████████▏                                                           | 6/50 [00:00<00:00, 51.42batch/s]"
     ]
    },
    {
     "name": "stdout",
     "output_type": "stream",
     "text": [
      "loss training: 0.014259\n",
      "accuracy train: 1.000000 test: 0.842105\n",
      "\n",
      "Parameter containing:\n",
      "tensor([0., 0., 0., 0.], requires_grad=True)\n"
     ]
    },
    {
     "name": "stderr",
     "output_type": "stream",
     "text": [
      "epoch: 280: 100%|███████████████████████████████████████████████████████████████████| 50/50 [00:00<00:00, 51.68batch/s]\n",
      "epoch: 281:  12%|████████▏                                                           | 6/50 [00:00<00:00, 53.24batch/s]"
     ]
    },
    {
     "name": "stdout",
     "output_type": "stream",
     "text": [
      "loss training: 0.007007\n",
      "accuracy train: 1.000000 test: 0.842105\n",
      "\n",
      "Parameter containing:\n",
      "tensor([0., 0., 0., 0.], requires_grad=True)\n"
     ]
    },
    {
     "name": "stderr",
     "output_type": "stream",
     "text": [
      "epoch: 281: 100%|███████████████████████████████████████████████████████████████████| 50/50 [00:00<00:00, 52.06batch/s]\n",
      "epoch: 282:  12%|████████▏                                                           | 6/50 [00:00<00:00, 54.69batch/s]"
     ]
    },
    {
     "name": "stdout",
     "output_type": "stream",
     "text": [
      "loss training: 0.007879\n",
      "accuracy train: 1.000000 test: 0.842105\n",
      "\n",
      "Parameter containing:\n",
      "tensor([0., 0., 0., 0.], requires_grad=True)\n"
     ]
    },
    {
     "name": "stderr",
     "output_type": "stream",
     "text": [
      "epoch: 282: 100%|███████████████████████████████████████████████████████████████████| 50/50 [00:01<00:00, 49.34batch/s]\n",
      "epoch: 283:  12%|████████▏                                                           | 6/50 [00:00<00:00, 56.22batch/s]"
     ]
    },
    {
     "name": "stdout",
     "output_type": "stream",
     "text": [
      "loss training: 0.010554\n",
      "accuracy train: 1.000000 test: 0.842105\n",
      "\n",
      "Parameter containing:\n",
      "tensor([0., 0., 0., 0.], requires_grad=True)\n"
     ]
    },
    {
     "name": "stderr",
     "output_type": "stream",
     "text": [
      "epoch: 283: 100%|███████████████████████████████████████████████████████████████████| 50/50 [00:00<00:00, 50.95batch/s]\n",
      "epoch: 284:  14%|█████████▌                                                          | 7/50 [00:00<00:00, 58.49batch/s]"
     ]
    },
    {
     "name": "stdout",
     "output_type": "stream",
     "text": [
      "loss training: 0.005172\n",
      "accuracy train: 1.000000 test: 0.842105\n",
      "\n",
      "Parameter containing:\n",
      "tensor([0., 0., 0., 0.], requires_grad=True)\n"
     ]
    },
    {
     "name": "stderr",
     "output_type": "stream",
     "text": [
      "epoch: 284: 100%|███████████████████████████████████████████████████████████████████| 50/50 [00:00<00:00, 51.84batch/s]\n",
      "epoch: 285:  12%|████████▏                                                           | 6/50 [00:00<00:00, 53.72batch/s]"
     ]
    },
    {
     "name": "stdout",
     "output_type": "stream",
     "text": [
      "loss training: 0.006971\n",
      "accuracy train: 1.000000 test: 0.842105\n",
      "\n",
      "Parameter containing:\n",
      "tensor([0., 0., 0., 0.], requires_grad=True)\n"
     ]
    },
    {
     "name": "stderr",
     "output_type": "stream",
     "text": [
      "epoch: 285: 100%|███████████████████████████████████████████████████████████████████| 50/50 [00:00<00:00, 54.02batch/s]\n",
      "epoch: 286:  12%|████████▏                                                           | 6/50 [00:00<00:00, 53.71batch/s]"
     ]
    },
    {
     "name": "stdout",
     "output_type": "stream",
     "text": [
      "loss training: 0.007339\n",
      "accuracy train: 1.000000 test: 0.842105\n",
      "\n",
      "Parameter containing:\n",
      "tensor([0., 0., 0., 0.], requires_grad=True)\n"
     ]
    },
    {
     "name": "stderr",
     "output_type": "stream",
     "text": [
      "epoch: 286: 100%|███████████████████████████████████████████████████████████████████| 50/50 [00:00<00:00, 53.45batch/s]\n",
      "epoch: 287:  12%|████████▏                                                           | 6/50 [00:00<00:00, 51.86batch/s]"
     ]
    },
    {
     "name": "stdout",
     "output_type": "stream",
     "text": [
      "loss training: 0.010257\n",
      "accuracy train: 1.000000 test: 0.842105\n",
      "\n",
      "Parameter containing:\n",
      "tensor([0., 0., 0., 0.], requires_grad=True)\n"
     ]
    },
    {
     "name": "stderr",
     "output_type": "stream",
     "text": [
      "epoch: 287: 100%|███████████████████████████████████████████████████████████████████| 50/50 [00:00<00:00, 54.52batch/s]\n",
      "epoch: 288:  12%|████████▏                                                           | 6/50 [00:00<00:00, 58.41batch/s]"
     ]
    },
    {
     "name": "stdout",
     "output_type": "stream",
     "text": [
      "loss training: 0.009897\n",
      "accuracy train: 1.000000 test: 0.842105\n",
      "\n",
      "Parameter containing:\n",
      "tensor([0., 0., 0., 0.], requires_grad=True)\n"
     ]
    },
    {
     "name": "stderr",
     "output_type": "stream",
     "text": [
      "epoch: 288: 100%|███████████████████████████████████████████████████████████████████| 50/50 [00:00<00:00, 56.46batch/s]\n",
      "epoch: 289:  12%|████████▏                                                           | 6/50 [00:00<00:00, 57.85batch/s]"
     ]
    },
    {
     "name": "stdout",
     "output_type": "stream",
     "text": [
      "loss training: 0.016301\n",
      "accuracy train: 1.000000 test: 0.842105\n",
      "\n",
      "Parameter containing:\n",
      "tensor([0., 0., 0., 0.], requires_grad=True)\n"
     ]
    },
    {
     "name": "stderr",
     "output_type": "stream",
     "text": [
      "epoch: 289: 100%|███████████████████████████████████████████████████████████████████| 50/50 [00:00<00:00, 52.83batch/s]\n",
      "epoch: 290:  12%|████████▏                                                           | 6/50 [00:00<00:00, 55.19batch/s]"
     ]
    },
    {
     "name": "stdout",
     "output_type": "stream",
     "text": [
      "loss training: 0.010825\n",
      "accuracy train: 1.000000 test: 0.842105\n",
      "\n",
      "Parameter containing:\n",
      "tensor([0., 0., 0., 0.], requires_grad=True)\n"
     ]
    },
    {
     "name": "stderr",
     "output_type": "stream",
     "text": [
      "epoch: 290: 100%|███████████████████████████████████████████████████████████████████| 50/50 [00:00<00:00, 55.03batch/s]\n",
      "epoch: 291:  12%|████████▏                                                           | 6/50 [00:00<00:00, 53.24batch/s]"
     ]
    },
    {
     "name": "stdout",
     "output_type": "stream",
     "text": [
      "loss training: 0.016145\n",
      "accuracy train: 1.000000 test: 0.842105\n",
      "\n",
      "Parameter containing:\n",
      "tensor([0., 0., 0., 0.], requires_grad=True)\n"
     ]
    },
    {
     "name": "stderr",
     "output_type": "stream",
     "text": [
      "epoch: 291: 100%|███████████████████████████████████████████████████████████████████| 50/50 [00:00<00:00, 55.89batch/s]\n",
      "epoch: 292:  12%|████████▏                                                           | 6/50 [00:00<00:00, 57.30batch/s]"
     ]
    },
    {
     "name": "stdout",
     "output_type": "stream",
     "text": [
      "loss training: 0.026184\n",
      "accuracy train: 1.000000 test: 0.894737\n",
      "\n",
      "Parameter containing:\n",
      "tensor([0., 0., 0., 0.], requires_grad=True)\n"
     ]
    },
    {
     "name": "stderr",
     "output_type": "stream",
     "text": [
      "epoch: 292: 100%|███████████████████████████████████████████████████████████████████| 50/50 [00:00<00:00, 55.18batch/s]\n",
      "epoch: 293:  12%|████████▏                                                           | 6/50 [00:00<00:00, 51.42batch/s]"
     ]
    },
    {
     "name": "stdout",
     "output_type": "stream",
     "text": [
      "loss training: 0.014096\n",
      "accuracy train: 1.000000 test: 0.894737\n",
      "\n",
      "Parameter containing:\n",
      "tensor([0., 0., 0., 0.], requires_grad=True)\n"
     ]
    },
    {
     "name": "stderr",
     "output_type": "stream",
     "text": [
      "epoch: 293: 100%|███████████████████████████████████████████████████████████████████| 50/50 [00:00<00:00, 55.58batch/s]\n",
      "epoch: 294:  12%|████████▏                                                           | 6/50 [00:00<00:00, 56.75batch/s]"
     ]
    },
    {
     "name": "stdout",
     "output_type": "stream",
     "text": [
      "loss training: 0.020246\n",
      "accuracy train: 1.000000 test: 0.894737\n",
      "\n",
      "Parameter containing:\n",
      "tensor([0., 0., 0., 0.], requires_grad=True)\n"
     ]
    },
    {
     "name": "stderr",
     "output_type": "stream",
     "text": [
      "epoch: 294: 100%|███████████████████████████████████████████████████████████████████| 50/50 [00:00<00:00, 56.58batch/s]\n",
      "epoch: 295:  12%|████████▏                                                           | 6/50 [00:00<00:00, 56.22batch/s]"
     ]
    },
    {
     "name": "stdout",
     "output_type": "stream",
     "text": [
      "loss training: 0.009758\n",
      "accuracy train: 1.000000 test: 0.894737\n",
      "\n",
      "Parameter containing:\n",
      "tensor([0., 0., 0., 0.], requires_grad=True)\n"
     ]
    },
    {
     "name": "stderr",
     "output_type": "stream",
     "text": [
      "epoch: 295: 100%|███████████████████████████████████████████████████████████████████| 50/50 [00:00<00:00, 56.14batch/s]\n",
      "epoch: 296:  12%|████████▏                                                           | 6/50 [00:00<00:00, 48.13batch/s]"
     ]
    },
    {
     "name": "stdout",
     "output_type": "stream",
     "text": [
      "loss training: 0.006371\n",
      "accuracy train: 1.000000 test: 0.894737\n",
      "\n",
      "Parameter containing:\n",
      "tensor([0., 0., 0., 0.], requires_grad=True)\n"
     ]
    },
    {
     "name": "stderr",
     "output_type": "stream",
     "text": [
      "epoch: 296: 100%|███████████████████████████████████████████████████████████████████| 50/50 [00:00<00:00, 53.16batch/s]\n",
      "epoch: 297:  12%|████████▏                                                           | 6/50 [00:00<00:00, 57.85batch/s]"
     ]
    },
    {
     "name": "stdout",
     "output_type": "stream",
     "text": [
      "loss training: 0.009935\n",
      "accuracy train: 1.000000 test: 0.842105\n",
      "\n",
      "Parameter containing:\n",
      "tensor([0., 0., 0., 0.], requires_grad=True)\n"
     ]
    },
    {
     "name": "stderr",
     "output_type": "stream",
     "text": [
      "epoch: 297: 100%|███████████████████████████████████████████████████████████████████| 50/50 [00:00<00:00, 54.97batch/s]\n",
      "epoch: 298:  12%|████████▏                                                           | 6/50 [00:00<00:00, 52.31batch/s]"
     ]
    },
    {
     "name": "stdout",
     "output_type": "stream",
     "text": [
      "loss training: 0.007298\n",
      "accuracy train: 1.000000 test: 0.842105\n",
      "\n",
      "Parameter containing:\n",
      "tensor([0., 0., 0., 0.], requires_grad=True)\n"
     ]
    },
    {
     "name": "stderr",
     "output_type": "stream",
     "text": [
      "epoch: 298: 100%|███████████████████████████████████████████████████████████████████| 50/50 [00:00<00:00, 54.85batch/s]\n",
      "epoch: 299:  12%|████████▏                                                           | 6/50 [00:00<00:00, 55.19batch/s]"
     ]
    },
    {
     "name": "stdout",
     "output_type": "stream",
     "text": [
      "loss training: 0.009272\n",
      "accuracy train: 1.000000 test: 0.842105\n",
      "\n",
      "Parameter containing:\n",
      "tensor([0., 0., 0., 0.], requires_grad=True)\n"
     ]
    },
    {
     "name": "stderr",
     "output_type": "stream",
     "text": [
      "epoch: 299: 100%|███████████████████████████████████████████████████████████████████| 50/50 [00:00<00:00, 52.17batch/s]\n",
      "epoch: 300:  12%|████████▏                                                           | 6/50 [00:00<00:00, 51.42batch/s]"
     ]
    },
    {
     "name": "stdout",
     "output_type": "stream",
     "text": [
      "loss training: 0.008107\n",
      "accuracy train: 1.000000 test: 0.894737\n",
      "\n",
      "Parameter containing:\n",
      "tensor([0., 0., 0., 0.], requires_grad=True)\n"
     ]
    },
    {
     "name": "stderr",
     "output_type": "stream",
     "text": [
      "epoch: 300: 100%|███████████████████████████████████████████████████████████████████| 50/50 [00:00<00:00, 52.28batch/s]\n",
      "epoch: 301:  12%|████████▏                                                           | 6/50 [00:00<00:00, 59.57batch/s]"
     ]
    },
    {
     "name": "stdout",
     "output_type": "stream",
     "text": [
      "loss training: 0.012602\n",
      "accuracy train: 1.000000 test: 0.894737\n",
      "\n",
      "Parameter containing:\n",
      "tensor([0., 0., 0., 0.], requires_grad=True)\n"
     ]
    },
    {
     "name": "stderr",
     "output_type": "stream",
     "text": [
      "epoch: 301: 100%|███████████████████████████████████████████████████████████████████| 50/50 [00:00<00:00, 56.02batch/s]\n",
      "epoch: 302:  12%|████████▏                                                           | 6/50 [00:00<00:00, 58.98batch/s]"
     ]
    },
    {
     "name": "stdout",
     "output_type": "stream",
     "text": [
      "loss training: 0.007934\n",
      "accuracy train: 1.000000 test: 0.894737\n",
      "\n",
      "Parameter containing:\n",
      "tensor([0., 0., 0., 0.], requires_grad=True)\n"
     ]
    },
    {
     "name": "stderr",
     "output_type": "stream",
     "text": [
      "epoch: 302: 100%|███████████████████████████████████████████████████████████████████| 50/50 [00:00<00:00, 55.15batch/s]\n",
      "epoch: 303:  12%|████████▏                                                           | 6/50 [00:00<00:00, 57.85batch/s]"
     ]
    },
    {
     "name": "stdout",
     "output_type": "stream",
     "text": [
      "loss training: 0.010744\n",
      "accuracy train: 1.000000 test: 0.842105\n",
      "\n",
      "Parameter containing:\n",
      "tensor([0., 0., 0., 0.], requires_grad=True)\n"
     ]
    },
    {
     "name": "stderr",
     "output_type": "stream",
     "text": [
      "epoch: 303: 100%|███████████████████████████████████████████████████████████████████| 50/50 [00:00<00:00, 55.03batch/s]\n",
      "epoch: 304:  12%|████████▏                                                           | 6/50 [00:00<00:00, 57.85batch/s]"
     ]
    },
    {
     "name": "stdout",
     "output_type": "stream",
     "text": [
      "loss training: 0.008887\n",
      "accuracy train: 1.000000 test: 0.894737\n",
      "\n",
      "Parameter containing:\n",
      "tensor([0., 0., 0., 0.], requires_grad=True)\n"
     ]
    },
    {
     "name": "stderr",
     "output_type": "stream",
     "text": [
      "epoch: 304: 100%|███████████████████████████████████████████████████████████████████| 50/50 [00:00<00:00, 54.73batch/s]\n",
      "epoch: 305:  12%|████████▏                                                           | 6/50 [00:00<00:00, 54.69batch/s]"
     ]
    },
    {
     "name": "stdout",
     "output_type": "stream",
     "text": [
      "loss training: 0.010916\n",
      "accuracy train: 1.000000 test: 0.894737\n",
      "\n",
      "Parameter containing:\n",
      "tensor([0., 0., 0., 0.], requires_grad=True)\n"
     ]
    },
    {
     "name": "stderr",
     "output_type": "stream",
     "text": [
      "epoch: 305: 100%|███████████████████████████████████████████████████████████████████| 50/50 [00:00<00:00, 52.77batch/s]\n",
      "epoch: 306:  12%|████████▏                                                           | 6/50 [00:00<00:00, 55.19batch/s]"
     ]
    },
    {
     "name": "stdout",
     "output_type": "stream",
     "text": [
      "loss training: 0.014684\n",
      "accuracy train: 1.000000 test: 0.894737\n",
      "\n",
      "Parameter containing:\n",
      "tensor([0., 0., 0., 0.], requires_grad=True)\n"
     ]
    },
    {
     "name": "stderr",
     "output_type": "stream",
     "text": [
      "epoch: 306: 100%|███████████████████████████████████████████████████████████████████| 50/50 [00:00<00:00, 55.21batch/s]\n",
      "epoch: 307:  12%|████████▏                                                           | 6/50 [00:00<00:00, 56.23batch/s]"
     ]
    },
    {
     "name": "stdout",
     "output_type": "stream",
     "text": [
      "loss training: 0.007787\n",
      "accuracy train: 1.000000 test: 0.842105\n",
      "\n",
      "Parameter containing:\n",
      "tensor([0., 0., 0., 0.], requires_grad=True)\n"
     ]
    },
    {
     "name": "stderr",
     "output_type": "stream",
     "text": [
      "epoch: 307: 100%|███████████████████████████████████████████████████████████████████| 50/50 [00:00<00:00, 53.56batch/s]\n",
      "epoch: 308:  12%|████████▏                                                           | 6/50 [00:00<00:00, 56.22batch/s]"
     ]
    },
    {
     "name": "stdout",
     "output_type": "stream",
     "text": [
      "loss training: 0.009469\n",
      "accuracy train: 1.000000 test: 0.842105\n",
      "\n",
      "Parameter containing:\n",
      "tensor([0., 0., 0., 0.], requires_grad=True)\n"
     ]
    },
    {
     "name": "stderr",
     "output_type": "stream",
     "text": [
      "epoch: 308: 100%|███████████████████████████████████████████████████████████████████| 50/50 [00:00<00:00, 56.14batch/s]\n",
      "epoch: 309:  12%|████████▏                                                           | 6/50 [00:00<00:00, 50.55batch/s]"
     ]
    },
    {
     "name": "stdout",
     "output_type": "stream",
     "text": [
      "loss training: 0.007809\n",
      "accuracy train: 1.000000 test: 0.842105\n",
      "\n",
      "Parameter containing:\n",
      "tensor([0., 0., 0., 0.], requires_grad=True)\n"
     ]
    },
    {
     "name": "stderr",
     "output_type": "stream",
     "text": [
      "epoch: 309: 100%|███████████████████████████████████████████████████████████████████| 50/50 [00:00<00:00, 52.11batch/s]\n",
      "epoch: 310:  12%|████████▏                                                           | 6/50 [00:00<00:00, 58.41batch/s]"
     ]
    },
    {
     "name": "stdout",
     "output_type": "stream",
     "text": [
      "loss training: 0.013044\n",
      "accuracy train: 1.000000 test: 0.842105\n",
      "\n",
      "Parameter containing:\n",
      "tensor([0., 0., 0., 0.], requires_grad=True)\n"
     ]
    },
    {
     "name": "stderr",
     "output_type": "stream",
     "text": [
      "epoch: 310: 100%|███████████████████████████████████████████████████████████████████| 50/50 [00:00<00:00, 54.55batch/s]\n",
      "epoch: 311:  12%|████████▏                                                           | 6/50 [00:00<00:00, 55.19batch/s]"
     ]
    },
    {
     "name": "stdout",
     "output_type": "stream",
     "text": [
      "loss training: 0.011084\n",
      "accuracy train: 1.000000 test: 0.842105\n",
      "\n",
      "Parameter containing:\n",
      "tensor([0., 0., 0., 0.], requires_grad=True)\n"
     ]
    },
    {
     "name": "stderr",
     "output_type": "stream",
     "text": [
      "epoch: 311: 100%|███████████████████████████████████████████████████████████████████| 50/50 [00:00<00:00, 57.10batch/s]\n",
      "epoch: 312:  14%|█████████▌                                                          | 7/50 [00:00<00:00, 60.51batch/s]"
     ]
    },
    {
     "name": "stdout",
     "output_type": "stream",
     "text": [
      "loss training: 0.006909\n",
      "accuracy train: 1.000000 test: 0.894737\n",
      "\n",
      "Parameter containing:\n",
      "tensor([0., 0., 0., 0.], requires_grad=True)\n"
     ]
    },
    {
     "name": "stderr",
     "output_type": "stream",
     "text": [
      "epoch: 312: 100%|███████████████████████████████████████████████████████████████████| 50/50 [00:00<00:00, 58.50batch/s]\n",
      "epoch: 313:  12%|████████▏                                                           | 6/50 [00:00<00:00, 56.22batch/s]"
     ]
    },
    {
     "name": "stdout",
     "output_type": "stream",
     "text": [
      "loss training: 0.009059\n",
      "accuracy train: 1.000000 test: 0.842105\n",
      "\n",
      "Parameter containing:\n",
      "tensor([0., 0., 0., 0.], requires_grad=True)\n"
     ]
    },
    {
     "name": "stderr",
     "output_type": "stream",
     "text": [
      "epoch: 313: 100%|███████████████████████████████████████████████████████████████████| 50/50 [00:00<00:00, 56.78batch/s]\n",
      "epoch: 314:  14%|█████████▌                                                          | 7/50 [00:00<00:00, 61.03batch/s]"
     ]
    },
    {
     "name": "stdout",
     "output_type": "stream",
     "text": [
      "loss training: 0.007574\n",
      "accuracy train: 1.000000 test: 0.894737\n",
      "\n",
      "Parameter containing:\n",
      "tensor([0., 0., 0., 0.], requires_grad=True)\n"
     ]
    },
    {
     "name": "stderr",
     "output_type": "stream",
     "text": [
      "epoch: 314: 100%|███████████████████████████████████████████████████████████████████| 50/50 [00:00<00:00, 55.34batch/s]\n",
      "epoch: 315:  12%|████████▏                                                           | 6/50 [00:00<00:00, 56.76batch/s]"
     ]
    },
    {
     "name": "stdout",
     "output_type": "stream",
     "text": [
      "loss training: 0.011445\n",
      "accuracy train: 1.000000 test: 0.842105\n",
      "\n",
      "Parameter containing:\n",
      "tensor([0., 0., 0., 0.], requires_grad=True)\n"
     ]
    },
    {
     "name": "stderr",
     "output_type": "stream",
     "text": [
      "epoch: 315: 100%|███████████████████████████████████████████████████████████████████| 50/50 [00:00<00:00, 52.94batch/s]\n",
      "epoch: 316:  10%|██████▊                                                             | 5/50 [00:00<00:00, 49.64batch/s]"
     ]
    },
    {
     "name": "stdout",
     "output_type": "stream",
     "text": [
      "loss training: 0.012261\n",
      "accuracy train: 1.000000 test: 0.842105\n",
      "\n",
      "Parameter containing:\n",
      "tensor([0., 0., 0., 0.], requires_grad=True)\n"
     ]
    },
    {
     "name": "stderr",
     "output_type": "stream",
     "text": [
      "epoch: 316: 100%|███████████████████████████████████████████████████████████████████| 50/50 [00:00<00:00, 55.40batch/s]\n",
      "epoch: 317:  12%|████████▏                                                           | 6/50 [00:00<00:00, 58.41batch/s]"
     ]
    },
    {
     "name": "stdout",
     "output_type": "stream",
     "text": [
      "loss training: 0.009693\n",
      "accuracy train: 1.000000 test: 0.842105\n",
      "\n",
      "Parameter containing:\n",
      "tensor([0., 0., 0., 0.], requires_grad=True)\n"
     ]
    },
    {
     "name": "stderr",
     "output_type": "stream",
     "text": [
      "epoch: 317: 100%|███████████████████████████████████████████████████████████████████| 50/50 [00:00<00:00, 56.20batch/s]\n",
      "epoch: 318:  12%|████████▏                                                           | 6/50 [00:00<00:00, 50.98batch/s]"
     ]
    },
    {
     "name": "stdout",
     "output_type": "stream",
     "text": [
      "loss training: 0.013281\n",
      "accuracy train: 1.000000 test: 0.842105\n",
      "\n",
      "Parameter containing:\n",
      "tensor([0., 0., 0., 0.], requires_grad=True)\n"
     ]
    },
    {
     "name": "stderr",
     "output_type": "stream",
     "text": [
      "epoch: 318: 100%|███████████████████████████████████████████████████████████████████| 50/50 [00:00<00:00, 54.43batch/s]\n",
      "epoch: 319:  12%|████████▏                                                           | 6/50 [00:00<00:00, 55.70batch/s]"
     ]
    },
    {
     "name": "stdout",
     "output_type": "stream",
     "text": [
      "loss training: 0.012545\n",
      "accuracy train: 1.000000 test: 0.842105\n",
      "\n",
      "Parameter containing:\n",
      "tensor([0., 0., 0., 0.], requires_grad=True)\n"
     ]
    },
    {
     "name": "stderr",
     "output_type": "stream",
     "text": [
      "epoch: 319: 100%|███████████████████████████████████████████████████████████████████| 50/50 [00:00<00:00, 52.33batch/s]\n",
      "epoch: 320:  12%|████████▏                                                           | 6/50 [00:00<00:00, 53.71batch/s]"
     ]
    },
    {
     "name": "stdout",
     "output_type": "stream",
     "text": [
      "loss training: 0.009874\n",
      "accuracy train: 1.000000 test: 0.842105\n",
      "\n",
      "Parameter containing:\n",
      "tensor([0., 0., 0., 0.], requires_grad=True)\n"
     ]
    },
    {
     "name": "stderr",
     "output_type": "stream",
     "text": [
      "epoch: 320: 100%|███████████████████████████████████████████████████████████████████| 50/50 [00:00<00:00, 54.26batch/s]\n",
      "epoch: 321:  12%|████████▏                                                           | 6/50 [00:00<00:00, 51.42batch/s]"
     ]
    },
    {
     "name": "stdout",
     "output_type": "stream",
     "text": [
      "loss training: 0.007896\n",
      "accuracy train: 1.000000 test: 0.842105\n",
      "\n",
      "Parameter containing:\n",
      "tensor([0., 0., 0., 0.], requires_grad=True)\n"
     ]
    },
    {
     "name": "stderr",
     "output_type": "stream",
     "text": [
      "epoch: 321: 100%|███████████████████████████████████████████████████████████████████| 50/50 [00:00<00:00, 54.67batch/s]\n",
      "epoch: 322:  12%|████████▏                                                           | 6/50 [00:00<00:00, 57.65batch/s]"
     ]
    },
    {
     "name": "stdout",
     "output_type": "stream",
     "text": [
      "loss training: 0.008434\n",
      "accuracy train: 1.000000 test: 0.842105\n",
      "\n",
      "Parameter containing:\n",
      "tensor([0., 0., 0., 0.], requires_grad=True)\n"
     ]
    },
    {
     "name": "stderr",
     "output_type": "stream",
     "text": [
      "epoch: 322: 100%|███████████████████████████████████████████████████████████████████| 50/50 [00:00<00:00, 63.66batch/s]\n",
      "epoch: 323:  12%|████████▏                                                           | 6/50 [00:00<00:00, 51.97batch/s]"
     ]
    },
    {
     "name": "stdout",
     "output_type": "stream",
     "text": [
      "loss training: 0.006136\n",
      "accuracy train: 1.000000 test: 0.842105\n",
      "\n",
      "Parameter containing:\n",
      "tensor([0., 0., 0., 0.], requires_grad=True)\n"
     ]
    },
    {
     "name": "stderr",
     "output_type": "stream",
     "text": [
      "epoch: 323: 100%|███████████████████████████████████████████████████████████████████| 50/50 [00:00<00:00, 57.58batch/s]\n",
      "epoch: 324:  14%|█████████▌                                                          | 7/50 [00:00<00:00, 64.16batch/s]"
     ]
    },
    {
     "name": "stdout",
     "output_type": "stream",
     "text": [
      "loss training: 0.004542\n",
      "accuracy train: 1.000000 test: 0.842105\n",
      "\n",
      "Parameter containing:\n",
      "tensor([0., 0., 0., 0.], requires_grad=True)\n"
     ]
    },
    {
     "name": "stderr",
     "output_type": "stream",
     "text": [
      "epoch: 324: 100%|███████████████████████████████████████████████████████████████████| 50/50 [00:00<00:00, 66.63batch/s]\n",
      "epoch: 325:  14%|█████████▌                                                          | 7/50 [00:00<00:00, 69.30batch/s]"
     ]
    },
    {
     "name": "stdout",
     "output_type": "stream",
     "text": [
      "loss training: 0.009350\n",
      "accuracy train: 1.000000 test: 0.842105\n",
      "\n",
      "Parameter containing:\n",
      "tensor([0., 0., 0., 0.], requires_grad=True)\n"
     ]
    },
    {
     "name": "stderr",
     "output_type": "stream",
     "text": [
      "epoch: 325: 100%|███████████████████████████████████████████████████████████████████| 50/50 [00:00<00:00, 66.23batch/s]\n",
      "epoch: 326:  14%|█████████▌                                                          | 7/50 [00:00<00:00, 60.74batch/s]"
     ]
    },
    {
     "name": "stdout",
     "output_type": "stream",
     "text": [
      "loss training: 0.007671\n",
      "accuracy train: 1.000000 test: 0.842105\n",
      "\n",
      "Parameter containing:\n",
      "tensor([0., 0., 0., 0.], requires_grad=True)\n"
     ]
    },
    {
     "name": "stderr",
     "output_type": "stream",
     "text": [
      "epoch: 326: 100%|███████████████████████████████████████████████████████████████████| 50/50 [00:00<00:00, 66.67batch/s]\n",
      "epoch: 327:  16%|██████████▉                                                         | 8/50 [00:00<00:00, 73.46batch/s]"
     ]
    },
    {
     "name": "stdout",
     "output_type": "stream",
     "text": [
      "loss training: 0.011051\n",
      "accuracy train: 1.000000 test: 0.842105\n",
      "\n",
      "Parameter containing:\n",
      "tensor([0., 0., 0., 0.], requires_grad=True)\n"
     ]
    },
    {
     "name": "stderr",
     "output_type": "stream",
     "text": [
      "epoch: 327: 100%|███████████████████████████████████████████████████████████████████| 50/50 [00:00<00:00, 69.23batch/s]\n",
      "epoch: 328:  16%|██████████▉                                                         | 8/50 [00:00<00:00, 73.81batch/s]"
     ]
    },
    {
     "name": "stdout",
     "output_type": "stream",
     "text": [
      "loss training: 0.009897\n",
      "accuracy train: 1.000000 test: 0.842105\n",
      "\n",
      "Parameter containing:\n",
      "tensor([0., 0., 0., 0.], requires_grad=True)\n"
     ]
    },
    {
     "name": "stderr",
     "output_type": "stream",
     "text": [
      "epoch: 328: 100%|███████████████████████████████████████████████████████████████████| 50/50 [00:00<00:00, 68.35batch/s]\n",
      "epoch: 329:  12%|████████▏                                                           | 6/50 [00:00<00:00, 58.35batch/s]"
     ]
    },
    {
     "name": "stdout",
     "output_type": "stream",
     "text": [
      "loss training: 0.010520\n",
      "accuracy train: 1.000000 test: 0.842105\n",
      "\n",
      "Parameter containing:\n",
      "tensor([0., 0., 0., 0.], requires_grad=True)\n"
     ]
    },
    {
     "name": "stderr",
     "output_type": "stream",
     "text": [
      "epoch: 329: 100%|███████████████████████████████████████████████████████████████████| 50/50 [00:00<00:00, 66.55batch/s]\n",
      "epoch: 330:  14%|█████████▌                                                          | 7/50 [00:00<00:00, 63.47batch/s]"
     ]
    },
    {
     "name": "stdout",
     "output_type": "stream",
     "text": [
      "loss training: 0.008803\n",
      "accuracy train: 1.000000 test: 0.894737\n",
      "\n",
      "Parameter containing:\n",
      "tensor([0., 0., 0., 0.], requires_grad=True)\n"
     ]
    },
    {
     "name": "stderr",
     "output_type": "stream",
     "text": [
      "epoch: 330: 100%|███████████████████████████████████████████████████████████████████| 50/50 [00:00<00:00, 68.77batch/s]\n",
      "epoch: 331:  16%|██████████▉                                                         | 8/50 [00:00<00:00, 67.91batch/s]"
     ]
    },
    {
     "name": "stdout",
     "output_type": "stream",
     "text": [
      "loss training: 0.016486\n",
      "accuracy train: 1.000000 test: 0.842105\n",
      "\n",
      "Parameter containing:\n",
      "tensor([0., 0., 0., 0.], requires_grad=True)\n"
     ]
    },
    {
     "name": "stderr",
     "output_type": "stream",
     "text": [
      "epoch: 331: 100%|███████████████████████████████████████████████████████████████████| 50/50 [00:00<00:00, 66.65batch/s]\n",
      "epoch: 332:  14%|█████████▌                                                          | 7/50 [00:00<00:00, 65.42batch/s]"
     ]
    },
    {
     "name": "stdout",
     "output_type": "stream",
     "text": [
      "loss training: 0.013198\n",
      "accuracy train: 1.000000 test: 0.894737\n",
      "\n",
      "Parameter containing:\n",
      "tensor([0., 0., 0., 0.], requires_grad=True)\n"
     ]
    },
    {
     "name": "stderr",
     "output_type": "stream",
     "text": [
      "epoch: 332: 100%|███████████████████████████████████████████████████████████████████| 50/50 [00:00<00:00, 66.68batch/s]\n",
      "epoch: 333:  14%|█████████▌                                                          | 7/50 [00:00<00:00, 63.67batch/s]"
     ]
    },
    {
     "name": "stdout",
     "output_type": "stream",
     "text": [
      "loss training: 0.004634\n",
      "accuracy train: 1.000000 test: 0.894737\n",
      "\n",
      "Parameter containing:\n",
      "tensor([0., 0., 0., 0.], requires_grad=True)\n"
     ]
    },
    {
     "name": "stderr",
     "output_type": "stream",
     "text": [
      "epoch: 333: 100%|███████████████████████████████████████████████████████████████████| 50/50 [00:00<00:00, 65.00batch/s]\n",
      "epoch: 334:  16%|██████████▉                                                         | 8/50 [00:00<00:00, 69.21batch/s]"
     ]
    },
    {
     "name": "stdout",
     "output_type": "stream",
     "text": [
      "loss training: 0.010086\n",
      "accuracy train: 1.000000 test: 0.842105\n",
      "\n",
      "Parameter containing:\n",
      "tensor([0., 0., 0., 0.], requires_grad=True)\n"
     ]
    },
    {
     "name": "stderr",
     "output_type": "stream",
     "text": [
      "epoch: 334: 100%|███████████████████████████████████████████████████████████████████| 50/50 [00:00<00:00, 69.38batch/s]\n",
      "epoch: 335:  14%|█████████▌                                                          | 7/50 [00:00<00:00, 63.60batch/s]"
     ]
    },
    {
     "name": "stdout",
     "output_type": "stream",
     "text": [
      "loss training: 0.010854\n",
      "accuracy train: 1.000000 test: 0.842105\n",
      "\n",
      "Parameter containing:\n",
      "tensor([0., 0., 0., 0.], requires_grad=True)\n"
     ]
    },
    {
     "name": "stderr",
     "output_type": "stream",
     "text": [
      "epoch: 335: 100%|███████████████████████████████████████████████████████████████████| 50/50 [00:00<00:00, 54.73batch/s]\n",
      "epoch: 336:  10%|██████▊                                                             | 5/50 [00:00<00:00, 48.55batch/s]"
     ]
    },
    {
     "name": "stdout",
     "output_type": "stream",
     "text": [
      "loss training: 0.013571\n",
      "accuracy train: 1.000000 test: 0.842105\n",
      "\n",
      "Parameter containing:\n",
      "tensor([0., 0., 0., 0.], requires_grad=True)\n"
     ]
    },
    {
     "name": "stderr",
     "output_type": "stream",
     "text": [
      "epoch: 336: 100%|███████████████████████████████████████████████████████████████████| 50/50 [00:00<00:00, 63.04batch/s]\n",
      "epoch: 337:  14%|█████████▌                                                          | 7/50 [00:00<00:00, 59.72batch/s]"
     ]
    },
    {
     "name": "stdout",
     "output_type": "stream",
     "text": [
      "loss training: 0.009290\n",
      "accuracy train: 1.000000 test: 0.842105\n",
      "\n",
      "Parameter containing:\n",
      "tensor([0., 0., 0., 0.], requires_grad=True)\n"
     ]
    },
    {
     "name": "stderr",
     "output_type": "stream",
     "text": [
      "epoch: 337: 100%|███████████████████████████████████████████████████████████████████| 50/50 [00:00<00:00, 64.68batch/s]\n",
      "epoch: 338:  16%|██████████▉                                                         | 8/50 [00:00<00:00, 77.86batch/s]"
     ]
    },
    {
     "name": "stdout",
     "output_type": "stream",
     "text": [
      "loss training: 0.009964\n",
      "accuracy train: 1.000000 test: 0.842105\n",
      "\n",
      "Parameter containing:\n",
      "tensor([0., 0., 0., 0.], requires_grad=True)\n"
     ]
    },
    {
     "name": "stderr",
     "output_type": "stream",
     "text": [
      "epoch: 338: 100%|███████████████████████████████████████████████████████████████████| 50/50 [00:00<00:00, 68.26batch/s]\n",
      "epoch: 339:  16%|██████████▉                                                         | 8/50 [00:00<00:00, 69.90batch/s]"
     ]
    },
    {
     "name": "stdout",
     "output_type": "stream",
     "text": [
      "loss training: 0.011277\n",
      "accuracy train: 1.000000 test: 0.842105\n",
      "\n",
      "Parameter containing:\n",
      "tensor([0., 0., 0., 0.], requires_grad=True)\n"
     ]
    },
    {
     "name": "stderr",
     "output_type": "stream",
     "text": [
      "epoch: 339: 100%|███████████████████████████████████████████████████████████████████| 50/50 [00:00<00:00, 67.49batch/s]\n",
      "epoch: 340:  16%|██████████▉                                                         | 8/50 [00:00<00:00, 74.10batch/s]"
     ]
    },
    {
     "name": "stdout",
     "output_type": "stream",
     "text": [
      "loss training: 0.010936\n",
      "accuracy train: 1.000000 test: 0.842105\n",
      "\n",
      "Parameter containing:\n",
      "tensor([0., 0., 0., 0.], requires_grad=True)\n"
     ]
    },
    {
     "name": "stderr",
     "output_type": "stream",
     "text": [
      "epoch: 340: 100%|███████████████████████████████████████████████████████████████████| 50/50 [00:00<00:00, 69.02batch/s]\n",
      "epoch: 341:  14%|█████████▌                                                          | 7/50 [00:00<00:00, 69.13batch/s]"
     ]
    },
    {
     "name": "stdout",
     "output_type": "stream",
     "text": [
      "loss training: 0.010152\n",
      "accuracy train: 1.000000 test: 0.842105\n",
      "\n",
      "Parameter containing:\n",
      "tensor([0., 0., 0., 0.], requires_grad=True)\n"
     ]
    },
    {
     "name": "stderr",
     "output_type": "stream",
     "text": [
      "epoch: 341: 100%|███████████████████████████████████████████████████████████████████| 50/50 [00:00<00:00, 66.91batch/s]\n",
      "epoch: 342:  16%|██████████▉                                                         | 8/50 [00:00<00:00, 75.83batch/s]"
     ]
    },
    {
     "name": "stdout",
     "output_type": "stream",
     "text": [
      "loss training: 0.010551\n",
      "accuracy train: 1.000000 test: 0.842105\n",
      "\n",
      "Parameter containing:\n",
      "tensor([0., 0., 0., 0.], requires_grad=True)\n"
     ]
    },
    {
     "name": "stderr",
     "output_type": "stream",
     "text": [
      "epoch: 342: 100%|███████████████████████████████████████████████████████████████████| 50/50 [00:00<00:00, 69.39batch/s]\n",
      "epoch: 343:  16%|██████████▉                                                         | 8/50 [00:00<00:00, 78.23batch/s]"
     ]
    },
    {
     "name": "stdout",
     "output_type": "stream",
     "text": [
      "loss training: 0.012534\n",
      "accuracy train: 1.000000 test: 0.842105\n",
      "\n",
      "Parameter containing:\n",
      "tensor([0., 0., 0., 0.], requires_grad=True)\n"
     ]
    },
    {
     "name": "stderr",
     "output_type": "stream",
     "text": [
      "epoch: 343: 100%|███████████████████████████████████████████████████████████████████| 50/50 [00:00<00:00, 68.66batch/s]\n",
      "epoch: 344:  16%|██████████▉                                                         | 8/50 [00:00<00:00, 65.51batch/s]"
     ]
    },
    {
     "name": "stdout",
     "output_type": "stream",
     "text": [
      "loss training: 0.006738\n",
      "accuracy train: 1.000000 test: 0.842105\n",
      "\n",
      "Parameter containing:\n",
      "tensor([0., 0., 0., 0.], requires_grad=True)\n"
     ]
    },
    {
     "name": "stderr",
     "output_type": "stream",
     "text": [
      "epoch: 344: 100%|███████████████████████████████████████████████████████████████████| 50/50 [00:00<00:00, 69.52batch/s]\n",
      "epoch: 345:  16%|██████████▉                                                         | 8/50 [00:00<00:00, 76.33batch/s]"
     ]
    },
    {
     "name": "stdout",
     "output_type": "stream",
     "text": [
      "loss training: 0.010576\n",
      "accuracy train: 1.000000 test: 0.842105\n",
      "\n",
      "Parameter containing:\n",
      "tensor([0., 0., 0., 0.], requires_grad=True)\n"
     ]
    },
    {
     "name": "stderr",
     "output_type": "stream",
     "text": [
      "epoch: 345: 100%|███████████████████████████████████████████████████████████████████| 50/50 [00:00<00:00, 68.66batch/s]\n",
      "epoch: 346:  14%|█████████▌                                                          | 7/50 [00:00<00:00, 65.11batch/s]"
     ]
    },
    {
     "name": "stdout",
     "output_type": "stream",
     "text": [
      "loss training: 0.020792\n",
      "accuracy train: 1.000000 test: 0.842105\n",
      "\n",
      "Parameter containing:\n",
      "tensor([0., 0., 0., 0.], requires_grad=True)\n"
     ]
    },
    {
     "name": "stderr",
     "output_type": "stream",
     "text": [
      "epoch: 346: 100%|███████████████████████████████████████████████████████████████████| 50/50 [00:00<00:00, 66.80batch/s]\n",
      "epoch: 347:  16%|██████████▉                                                         | 8/50 [00:00<00:00, 74.52batch/s]"
     ]
    },
    {
     "name": "stdout",
     "output_type": "stream",
     "text": [
      "loss training: 0.008998\n",
      "accuracy train: 1.000000 test: 0.842105\n",
      "\n",
      "Parameter containing:\n",
      "tensor([0., 0., 0., 0.], requires_grad=True)\n"
     ]
    },
    {
     "name": "stderr",
     "output_type": "stream",
     "text": [
      "epoch: 347: 100%|███████████████████████████████████████████████████████████████████| 50/50 [00:00<00:00, 71.65batch/s]\n",
      "epoch: 348:  16%|██████████▉                                                         | 8/50 [00:00<00:00, 68.17batch/s]"
     ]
    },
    {
     "name": "stdout",
     "output_type": "stream",
     "text": [
      "loss training: 0.007856\n",
      "accuracy train: 1.000000 test: 0.842105\n",
      "\n",
      "Parameter containing:\n",
      "tensor([0., 0., 0., 0.], requires_grad=True)\n"
     ]
    },
    {
     "name": "stderr",
     "output_type": "stream",
     "text": [
      "epoch: 348: 100%|███████████████████████████████████████████████████████████████████| 50/50 [00:00<00:00, 70.26batch/s]\n",
      "epoch: 349:  14%|█████████▌                                                          | 7/50 [00:00<00:00, 64.09batch/s]"
     ]
    },
    {
     "name": "stdout",
     "output_type": "stream",
     "text": [
      "loss training: 0.010640\n",
      "accuracy train: 1.000000 test: 0.842105\n",
      "\n",
      "Parameter containing:\n",
      "tensor([0., 0., 0., 0.], requires_grad=True)\n"
     ]
    },
    {
     "name": "stderr",
     "output_type": "stream",
     "text": [
      "epoch: 349: 100%|███████████████████████████████████████████████████████████████████| 50/50 [00:00<00:00, 67.29batch/s]\n",
      "epoch: 350:  14%|█████████▌                                                          | 7/50 [00:00<00:00, 66.89batch/s]"
     ]
    },
    {
     "name": "stdout",
     "output_type": "stream",
     "text": [
      "loss training: 0.005128\n",
      "accuracy train: 1.000000 test: 0.842105\n",
      "\n",
      "Parameter containing:\n",
      "tensor([0., 0., 0., 0.], requires_grad=True)\n"
     ]
    },
    {
     "name": "stderr",
     "output_type": "stream",
     "text": [
      "epoch: 350: 100%|███████████████████████████████████████████████████████████████████| 50/50 [00:00<00:00, 67.36batch/s]\n"
     ]
    },
    {
     "name": "stdout",
     "output_type": "stream",
     "text": [
      "loss training: 0.008470\n",
      "accuracy train: 1.000000 test: 0.842105\n",
      "\n",
      "Parameter containing:\n",
      "tensor([0., 0., 0., 0.], requires_grad=True)\n"
     ]
    }
   ],
   "source": [
    "import argparse\n",
    "import torch\n",
    "import torch.nn as nn\n",
    "import torch.nn.functional as F\n",
    "import torch.optim as optim\n",
    "import numpy as np\n",
    "\n",
    "from tqdm import tqdm\n",
    "\n",
    "# from util import load_data, separate_data\n",
    "# from models.graphcnn import GraphCNN\n",
    "\n",
    "criterion = nn.CrossEntropyLoss()\n",
    "\n",
    "def train(args, model, device, train_graphs, optimizer, epoch):\n",
    "    model.train()\n",
    "\n",
    "    total_iters = args.iters_per_epoch\n",
    "    pbar = tqdm(range(total_iters), unit='batch')\n",
    "\n",
    "    loss_accum = 0\n",
    "    for pos in pbar:\n",
    "        selected_idx = np.random.permutation(len(train_graphs))[:args.batch_size]\n",
    "\n",
    "        batch_graph = [train_graphs[idx] for idx in selected_idx]\n",
    "        output = model(batch_graph)\n",
    "\n",
    "        labels = torch.LongTensor([graph.label for graph in batch_graph]).to(device)\n",
    "\n",
    "        #compute loss\n",
    "        loss = criterion(output, labels)\n",
    "\n",
    "        #backprop\n",
    "        if optimizer is not None:\n",
    "            optimizer.zero_grad()\n",
    "            loss.backward()         \n",
    "            optimizer.step()\n",
    "        \n",
    "\n",
    "        loss = loss.detach().cpu().numpy()\n",
    "        loss_accum += loss\n",
    "\n",
    "        #report\n",
    "        pbar.set_description('epoch: %d' % (epoch))\n",
    "\n",
    "    average_loss = loss_accum/total_iters\n",
    "    print(\"loss training: %f\" % (average_loss))\n",
    "    \n",
    "    return average_loss\n",
    "\n",
    "###pass data to model with minibatch during testing to avoid memory overflow (does not perform backpropagation)\n",
    "def pass_data_iteratively(model, graphs, minibatch_size = 64):\n",
    "    model.eval()\n",
    "    output = []\n",
    "    idx = np.arange(len(graphs))\n",
    "    for i in range(0, len(graphs), minibatch_size):\n",
    "        sampled_idx = idx[i:i+minibatch_size]\n",
    "        if len(sampled_idx) == 0:\n",
    "            continue\n",
    "        output.append(model([graphs[j] for j in sampled_idx]).detach())\n",
    "    return torch.cat(output, 0)\n",
    "\n",
    "def test(args, model, device, train_graphs, test_graphs, epoch):\n",
    "    model.eval()\n",
    "\n",
    "    output = pass_data_iteratively(model, train_graphs)\n",
    "    pred = output.max(1, keepdim=True)[1]\n",
    "    labels = torch.LongTensor([graph.label for graph in train_graphs]).to(device)\n",
    "    correct = pred.eq(labels.view_as(pred)).sum().cpu().item()\n",
    "    acc_train = correct / float(len(train_graphs))\n",
    "\n",
    "    output = pass_data_iteratively(model, test_graphs)\n",
    "    pred = output.max(1, keepdim=True)[1]\n",
    "    labels = torch.LongTensor([graph.label for graph in test_graphs]).to(device)\n",
    "    correct = pred.eq(labels.view_as(pred)).sum().cpu().item()\n",
    "    acc_test = correct / float(len(test_graphs))\n",
    "\n",
    "    print(\"accuracy train: %f test: %f\" % (acc_train, acc_test))\n",
    "\n",
    "    return acc_train, acc_test\n",
    "\n",
    "def main():\n",
    "    # Training settings\n",
    "    # Note: Hyper-parameters need to be tuned in order to obtain results reported in the paper.\n",
    "    parser = argparse.ArgumentParser(description='PyTorch graph convolutional neural net for whole-graph classification')\n",
    "    parser.add_argument('--dataset', type=str, default=\"MUTAG\",\n",
    "                        help='name of dataset (default: MUTAG)')\n",
    "    parser.add_argument('--device', type=int, default=0,\n",
    "                        help='which gpu to use if any (default: 0)')\n",
    "    parser.add_argument('--batch_size', type=int, default=32,\n",
    "                        help='input batch size for training (default: 32)')\n",
    "    parser.add_argument('--iters_per_epoch', type=int, default=50,\n",
    "                        help='number of iterations per each epoch (default: 50)')\n",
    "    parser.add_argument('--epochs', type=int, default=350,\n",
    "                        help='number of epochs to train (default: 350)')\n",
    "    parser.add_argument('--lr', type=float, default=0.01,\n",
    "                        help='learning rate (default: 0.01)')\n",
    "    parser.add_argument('--seed', type=int, default=0,\n",
    "                        help='random seed for splitting the dataset into 10 (default: 0)')\n",
    "    parser.add_argument('--fold_idx', type=int, default=0,\n",
    "                        help='the index of fold in 10-fold validation. Should be less then 10.')\n",
    "    parser.add_argument('--num_layers', type=int, default=5,\n",
    "                        help='number of layers INCLUDING the input one (default: 5)')\n",
    "    parser.add_argument('--num_mlp_layers', type=int, default=2,\n",
    "                        help='number of layers for MLP EXCLUDING the input one (default: 2). 1 means linear model.')\n",
    "    parser.add_argument('--hidden_dim', type=int, default=64,\n",
    "                        help='number of hidden units (default: 64)')\n",
    "    parser.add_argument('--final_dropout', type=float, default=0.5,\n",
    "                        help='final layer dropout (default: 0.5)')\n",
    "    parser.add_argument('--graph_pooling_type', type=str, default=\"sum\", choices=[\"sum\", \"average\"],\n",
    "                        help='Pooling for over nodes in a graph: sum or average')\n",
    "    parser.add_argument('--neighbor_pooling_type', type=str, default=\"sum\", choices=[\"sum\", \"average\", \"max\"],\n",
    "                        help='Pooling for over neighboring nodes: sum, average or max')\n",
    "    parser.add_argument('--learn_eps', action=\"store_true\",\n",
    "                                        help='Whether to learn the epsilon weighting for the center nodes. Does not affect training accuracy though.')\n",
    "    parser.add_argument('--degree_as_tag', action=\"store_true\",\n",
    "    \t\t\t\t\thelp='let the input node features be the degree of nodes (heuristics for unlabeled graph)')\n",
    "    parser.add_argument('--filename', type = str, default = \"\",\n",
    "                                        help='output file')\n",
    "    args = parser.parse_args(args=[])\n",
    "\n",
    "    #set up seeds and gpu device\n",
    "    torch.manual_seed(0)\n",
    "    np.random.seed(0)    \n",
    "    device = torch.device(\"cuda:\" + str(args.device)) if torch.cuda.is_available() else torch.device(\"cpu\")\n",
    "    if torch.cuda.is_available():\n",
    "        torch.cuda.manual_seed_all(0)\n",
    "\n",
    "    graphs, num_classes = load_data(args.dataset, args.degree_as_tag)\n",
    "\n",
    "    ##10-fold cross validation. Conduct an experiment on the fold specified by args.fold_idx.\n",
    "    train_graphs, test_graphs = separate_data(graphs, args.seed, args.fold_idx)\n",
    "\n",
    "    model = GraphCNN(args.num_layers, args.num_mlp_layers, train_graphs[0].node_features.shape[1], args.hidden_dim, num_classes, args.final_dropout, args.learn_eps, args.graph_pooling_type, args.neighbor_pooling_type, device).to(device)\n",
    "\n",
    "    optimizer = optim.Adam(model.parameters(), lr=args.lr)\n",
    "    scheduler = optim.lr_scheduler.StepLR(optimizer, step_size=50, gamma=0.5)\n",
    "\n",
    "    max_acc = 0.0\n",
    "    for epoch in range(1, args.epochs + 1):\n",
    "        scheduler.step()\n",
    "\n",
    "        avg_loss = train(args, model, device, train_graphs, optimizer, epoch)\n",
    "        acc_train, acc_test = test(args, model, device, train_graphs, test_graphs, epoch)\n",
    "\n",
    "        max_acc = max(max_acc, acc_test)\n",
    "\n",
    "        if not args.filename == \"\":\n",
    "            with open(args.filename, 'a+') as f:\n",
    "                f.write(\"%f %f %f\" % (avg_loss, acc_train, acc_test))\n",
    "                f.write(\"\\n\")\n",
    "        print(\"\")\n",
    "\n",
    "        print(model.eps)\n",
    "\n",
    "    with open(str(args.dataset)+'acc_results.txt', 'a+') as f:\n",
    "        f.write(str(max_acc) + '\\n')\n",
    "    \n",
    "\n",
    "if __name__ == '__main__':\n",
    "    main()"
   ]
  },
  {
   "cell_type": "code",
   "execution_count": null,
   "metadata": {},
   "outputs": [],
   "source": []
  }
 ],
 "metadata": {
  "kernelspec": {
   "display_name": "Python 3",
   "language": "python",
   "name": "python3"
  },
  "language_info": {
   "codemirror_mode": {
    "name": "ipython",
    "version": 3
   },
   "file_extension": ".py",
   "mimetype": "text/x-python",
   "name": "python",
   "nbconvert_exporter": "python",
   "pygments_lexer": "ipython3",
   "version": "3.8.5"
  }
 },
 "nbformat": 4,
 "nbformat_minor": 4
}
